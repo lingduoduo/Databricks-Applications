{
 "cells": [
  {
   "cell_type": "markdown",
   "metadata": {
    "application/vnd.databricks.v1+cell": {
     "cellMetadata": {},
     "inputWidgets": {},
     "nuid": "463e9d34-9c11-43a6-9039-b24e0c0af086",
     "showTitle": false,
     "tableResultSettingsMap": {},
     "title": ""
    }
   },
   "source": [
    "\n",
    "<div style=\"text-align: center; line-height: 0; padding-top: 9px;\">\n",
    "  <img src=\"https://databricks.com/wp-content/uploads/2018/03/db-academy-rgb-1200px.png\" alt=\"Databricks Learning\">\n",
    "</div>\n"
   ]
  },
  {
   "cell_type": "markdown",
   "metadata": {
    "application/vnd.databricks.v1+cell": {
     "cellMetadata": {},
     "inputWidgets": {},
     "nuid": "07677991-65e1-442a-9b4b-590e819dcf82",
     "showTitle": false,
     "tableResultSettingsMap": {},
     "title": ""
    }
   },
   "source": [
    "\n",
    "# LAB - Planning an AI System for Product Quality Complaints\n",
    "\n",
    "In this lab, you will deconstruct a use case and define possible components of the AI system. In this scenario, let's consider **a compound AI system designed to handle a customer complaint about a product's quality**. The customer contacts the service center via a chat interface, expressing dissatisfaction with a recently purchased item. The AI system will utilize various components to address and resolve the complaint effectively.\n",
    "\n",
    "\n",
    "**Lab Outline:**\n",
    "\n",
    "In this lab, you will need to complete the following tasks;\n",
    "\n",
    "* **Task 1 :** Define system components\n",
    "\n",
    "* **Task 2 :** Draw architectural diagram\n",
    "\n",
    "* **Task 3 :** Define possible input and output parameters for each component\n",
    "\n",
    "* **Task 4:** Define libraries or frameworks for each component\n"
   ]
  },
  {
   "cell_type": "markdown",
   "metadata": {
    "application/vnd.databricks.v1+cell": {
     "cellMetadata": {},
     "inputWidgets": {},
     "nuid": "8abda721-51c9-4e82-8f7c-f595ceaca03e",
     "showTitle": false,
     "tableResultSettingsMap": {},
     "title": ""
    }
   },
   "source": [
    "## AI System Details\n",
    "\n",
    "**Product Quality Complaints:** Let's consider **a compound AI system designed to handle a customer complaint about a product's quality**. The customer contacts the service center via a chat interface, expressing dissatisfaction with a recently purchased item. \n",
    "\n",
    "**Example Agent-User Interaction:** \n",
    "\n",
    "**👱‍♀️ Customer:** \"I'm unhappy with the quality of the product I received. It seems defective.\"\n",
    "\n",
    "**🤖 AI Agent:** \"I'm sorry to hear that you're not satisfied with your purchase. Let me look into this for you.\"\n",
    "\n",
    "**🤖 AI Agent:** (after processing): \"We've reviewed similar feedback and checked the shipping details. It appears there have been a few similar complaints. We can offer a replacement or a full refund. Which would you prefer?\"\n",
    "\n",
    "**👱‍♀️ Customer:** \"I would like a replacement, please.\"\n",
    "\n",
    "**🤖 AI Agent:**  \"I've arranged for a replacement to be sent to you immediately. We apologize for the inconvenience and thank you for your understanding.\"\n"
   ]
  },
  {
   "cell_type": "markdown",
   "metadata": {
    "application/vnd.databricks.v1+cell": {
     "cellMetadata": {},
     "inputWidgets": {},
     "nuid": "230f83ed-877b-4824-b91f-adc182c6aa8d",
     "showTitle": false,
     "tableResultSettingsMap": {},
     "title": ""
    }
   },
   "source": [
    "## Task 1: Define Components\n",
    "\n",
    "Based on the scenario, identify all necessary components that will interact within the system. Also, provide a brief description of the role and functionality of each component. \n",
    "\n",
    "An example component and description could be;\n",
    "\n",
    "* **Data Retrieval Component:** Retrieves customer and product data from the company’s database.\n",
    "\n",
    "* **Search Past Customer Reviews Component:** Analyzes customer reviews to find similar complaints using natural language processing.\n"
   ]
  },
  {
   "cell_type": "markdown",
   "metadata": {
    "application/vnd.databricks.v1+cell": {
     "cellMetadata": {},
     "inputWidgets": {},
     "nuid": "4b1641f9-0e16-446e-ae84-34fa634c150d",
     "showTitle": false,
     "tableResultSettingsMap": {},
     "title": ""
    }
   },
   "source": [
    "## Task 2: Draw Architectural Diagram\n",
    "\n",
    "Begin by selecting a **diagramming tool** such as [draw.io](https://draw.io), or any other tool that you feel comfortable with. Next, **arrange the components identified in Task 1** on the diagram canvas in a logical sequence based on their data interactions. Connect these components with directional arrows to depict the flow of data and interactions clearly. Each component and connection should be clearly labeled, possibly with brief descriptions if necessary to enhance clarity. \n",
    "\n",
    "Finally, review the diagram to ensure it is easy to understand and accurately represents all components and their interactions within the system."
   ]
  },
  {
   "cell_type": "markdown",
   "metadata": {
    "application/vnd.databricks.v1+cell": {
     "cellMetadata": {},
     "inputWidgets": {},
     "nuid": "29943882-50fd-4fc0-be3a-513533461f45",
     "showTitle": false,
     "tableResultSettingsMap": {},
     "title": ""
    }
   },
   "source": [
    "## Task 3: Define Possible Input and Output Parameters for Each Component\n",
    "\n",
    "For each component, specify what data it receives (input) and what it sends out (output).\n",
    "\n",
    "Example for the Data Retrieval Component:\n",
    "* Input: Customer ID, Product ID\n",
    "* Output: Customer purchase history, Product details, Previous complaints"
   ]
  },
  {
   "cell_type": "markdown",
   "metadata": {
    "application/vnd.databricks.v1+cell": {
     "cellMetadata": {},
     "inputWidgets": {},
     "nuid": "146f1839-652e-415a-84d4-0260bef8ca2e",
     "showTitle": false,
     "tableResultSettingsMap": {},
     "title": ""
    }
   },
   "source": [
    "## Task 4: Define Libraries or Frameworks for Each Component\n",
    "\n",
    "For this task, you will need to select appropriate libraries or frameworks that will be utilized to build each component of the system. For retrieval and generation tasks, identify the type of the language model that need to be used."
   ]
  },
  {
   "cell_type": "markdown",
   "metadata": {
    "application/vnd.databricks.v1+cell": {
     "cellMetadata": {},
     "inputWidgets": {},
     "nuid": "3af30094-7c8c-414c-a1c8-13e6dcafe0c7",
     "showTitle": false,
     "tableResultSettingsMap": {},
     "title": ""
    }
   },
   "source": [
    "\n",
    "## Conclusion\n",
    "\n",
    "In this lab activity, you designed a system architecture to handle customer complaints, focusing on defining components, creating an architectural diagram, specifying data parameters, and selecting appropriate technologies. The architectural diagram helped visualize component interactions, while the choice of technologies ensured efficient processing of customer complaints."
   ]
  },
  {
   "cell_type": "markdown",
   "metadata": {
    "application/vnd.databricks.v1+cell": {
     "cellMetadata": {},
     "inputWidgets": {},
     "nuid": "e8d1db4d-8c40-4393-a69d-e505cd29a244",
     "showTitle": false,
     "tableResultSettingsMap": {},
     "title": ""
    }
   },
   "source": [
    "\n",
    "&copy; 2025 Databricks, Inc. All rights reserved.<br/>\n",
    "Apache, Apache Spark, Spark and the Spark logo are trademarks of the \n",
    "<a href=\"https://www.apache.org/\">Apache Software Foundation</a>.<br/>\n",
    "<br/><a href=\"https://databricks.com/privacy-policy\">Privacy Policy</a> | \n",
    "<a href=\"https://databricks.com/terms-of-use\">Terms of Use</a> | \n",
    "<a href=\"https://help.databricks.com/\">Support</a>"
   ]
  }
 ],
 "metadata": {
  "application/vnd.databricks.v1+notebook": {
   "computePreferences": null,
   "dashboards": [],
   "environmentMetadata": null,
   "inputWidgetPreferences": null,
   "language": "python",
   "notebookMetadata": {},
   "notebookName": "1.LAB - Planning an AI System for Product Quality Complaints",
   "widgets": {}
  },
  "language_info": {
   "name": "python"
  }
 },
 "nbformat": 4,
 "nbformat_minor": 0
}