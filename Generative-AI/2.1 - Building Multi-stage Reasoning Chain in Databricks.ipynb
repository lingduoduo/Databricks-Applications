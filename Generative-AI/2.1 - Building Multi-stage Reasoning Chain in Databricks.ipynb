{
 "cells": [
  {
   "cell_type": "markdown",
   "metadata": {
    "application/vnd.databricks.v1+cell": {
     "cellMetadata": {},
     "inputWidgets": {},
     "nuid": "5ff3b5ec-a369-4341-a0bb-911be3c008ab",
     "showTitle": false,
     "tableResultSettingsMap": {},
     "title": ""
    }
   },
   "source": [
    "\n",
    "<div style=\"text-align: center; line-height: 0; padding-top: 9px;\">\n",
    "  <img src=\"https://databricks.com/wp-content/uploads/2018/03/db-academy-rgb-1200px.png\" alt=\"Databricks Learning\">\n",
    "</div>\n"
   ]
  },
  {
   "cell_type": "markdown",
   "metadata": {
    "application/vnd.databricks.v1+cell": {
     "cellMetadata": {},
     "inputWidgets": {},
     "nuid": "9f258f6e-ea2f-4132-81a8-d6161d7fbfdf",
     "showTitle": false,
     "tableResultSettingsMap": {},
     "title": ""
    }
   },
   "source": [
    "\n",
    "# Building Multi-stage Reasoning Chain in Databricks\n",
    "\n",
    "In this demo we will start building a multi-stage reasoning system using Databricks' features and LangChain. Before we build the chain, first, we will show various components that are commonly used in multi-stage chaining system. \n",
    "\n",
    "In the main section of the demo, we will build a multi-stage system. First, we will build a chain that will answer user questions using `llama-3` model. The second chain will search for DAIS-2023 talks and will try to find the corresponding video on YouTube. The final, complete chain will recommend videos to the user.\n",
    "\n",
    "**Learning Objectives:**\n",
    "\n",
    "*By the end of this demo, you will be able to;*\n",
    "\n",
    "* Identify that LangChain can include stages/tasks that are not LLMs.\n",
    "\n",
    "* Create basic LLM chains to connect prompts and LLMs.\n",
    "\n",
    "* Use tools to complete various tasks in the complete system.\n",
    "\n",
    "* Construct sequential chains of multiple LLMChains to perform multi-stage reasoning analysis."
   ]
  },
  {
   "cell_type": "markdown",
   "metadata": {
    "application/vnd.databricks.v1+cell": {
     "cellMetadata": {},
     "inputWidgets": {},
     "nuid": "5dae7b18-9f9d-4dad-9e04-c0f5b772304a",
     "showTitle": false,
     "tableResultSettingsMap": {},
     "title": ""
    }
   },
   "source": [
    "## Requirements\n",
    "\n",
    "Please review the following requirements before starting the lesson:\n",
    "\n",
    "* To run this notebook, you need to use one of the following Databricks runtime(s): **15.4.x-cpu-ml-scala2.12**\n"
   ]
  },
  {
   "cell_type": "markdown",
   "metadata": {
    "application/vnd.databricks.v1+cell": {
     "cellMetadata": {},
     "inputWidgets": {},
     "nuid": "f9214d9c-c219-49a0-bb60-20380924fb59",
     "showTitle": false,
     "tableResultSettingsMap": {},
     "title": ""
    }
   },
   "source": [
    "\n",
    "## Classroom Setup\n",
    "\n",
    "Before starting the demo, run the provided classroom setup script. This script will define configuration variables necessary for the demo. Execute the following cell:"
   ]
  },
  {
   "cell_type": "code",
   "execution_count": 0,
   "metadata": {
    "application/vnd.databricks.v1+cell": {
     "cellMetadata": {
      "byteLimit": 2048000,
      "rowLimit": 10000
     },
     "inputWidgets": {},
     "nuid": "b4a3bf71-e3c5-42dc-b5fa-b8c1335f40dd",
     "showTitle": false,
     "tableResultSettingsMap": {},
     "title": ""
    }
   },
   "outputs": [
    {
     "output_type": "stream",
     "name": "stdout",
     "output_type": "stream",
     "text": [
      "ERROR: pip's dependency resolver does not currently take into account all the packages that are installed. This behaviour is the source of the following dependency conflicts.\njupyter-server 1.23.4 requires anyio<4,>=3.1.0, but you have anyio 4.9.0 which is incompatible.\n\u001B[43mNote: you may need to restart the kernel using %restart_python or dbutils.library.restartPython() to use updated packages.\u001B[0m\n"
     ]
    }
   ],
   "source": [
    "%pip install -U -qq databricks-sdk databricks-vectorsearch langchain-databricks langchain==0.3.7 langchain-community==0.3.7 youtube_search Wikipedia grandalf\n",
    "\n",
    "dbutils.library.restartPython()"
   ]
  },
  {
   "cell_type": "code",
   "execution_count": 0,
   "metadata": {
    "application/vnd.databricks.v1+cell": {
     "cellMetadata": {
      "byteLimit": 2048000,
      "rowLimit": 10000
     },
     "inputWidgets": {},
     "nuid": "4d2b6a24-f216-43e8-85a8-f98af78655f4",
     "showTitle": false,
     "tableResultSettingsMap": {},
     "title": ""
    }
   },
   "outputs": [
    {
     "output_type": "stream",
     "name": "stdout",
     "output_type": "stream",
     "text": [
      "\u001B[43mNote: you may need to restart the kernel using %restart_python or dbutils.library.restartPython() to use updated packages.\u001B[0m\n"
     ]
    },
    {
     "output_type": "stream",
     "name": "stdout",
     "output_type": "stream",
     "text": [
      "\nThe examples and models presented in this course are intended solely for demonstration and educational purposes.\n Please note that the models and prompt examples may sometimes contain offensive, inaccurate, biased, or harmful content.\n"
     ]
    },
    {
     "output_type": "stream",
     "name": "stderr",
     "output_type": "stream",
     "text": [
      "2025-04-30 14:55:43,859 13894 ERROR _handle_rpc_error GRPC Error received\nTraceback (most recent call last):\n  File \"/databricks/python/lib/python3.10/site-packages/pyspark/sql/connect/client/core.py\", line 1721, in config\n    resp = self._stub.Config(req, metadata=self.metadata())\n  File \"/databricks/python/lib/python3.10/site-packages/grpc/_interceptor.py\", line 277, in __call__\n    response, ignored_call = self._with_call(\n  File \"/databricks/python/lib/python3.10/site-packages/grpc/_interceptor.py\", line 332, in _with_call\n    return call.result(), call\n  File \"/databricks/python/lib/python3.10/site-packages/grpc/_channel.py\", line 439, in result\n    raise self\n  File \"/databricks/python/lib/python3.10/site-packages/grpc/_interceptor.py\", line 315, in continuation\n    response, call = self._thunk(new_method).with_call(\n  File \"/databricks/python/lib/python3.10/site-packages/grpc/_channel.py\", line 1193, in with_call\n    return _end_unary_response_blocking(state, call, True, None)\n  File \"/databricks/python/lib/python3.10/site-packages/grpc/_channel.py\", line 1005, in _end_unary_response_blocking\n    raise _InactiveRpcError(state)  # pytype: disable=not-instantiable\ngrpc._channel._InactiveRpcError: <_InactiveRpcError of RPC that terminated with:\n\tstatus = StatusCode.INTERNAL\n\tdetails = \"[CONFIG_NOT_AVAILABLE] Configuration DA.datasets.dais is not available. SQLSTATE: 42K0I\"\n\tdebug_error_string = \"UNKNOWN:Error received from peer  {grpc_message:\"[CONFIG_NOT_AVAILABLE] Configuration DA.datasets.dais is not available. SQLSTATE: 42K0I\", grpc_status:13, created_time:\"2025-04-30T14:55:43.855546019+00:00\"}\"\n>\n2025-04-30 14:55:43,859 13894 ERROR _handle_rpc_error GRPC Error received\nTraceback (most recent call last):\n  File \"/databricks/python/lib/python3.10/site-packages/pyspark/sql/connect/client/core.py\", line 1721, in config\n    resp = self._stub.Config(req, metadata=self.metadata())\n  File \"/databricks/python/lib/python3.10/site-packages/grpc/_interceptor.py\", line 277, in __call__\n    response, ignored_call = self._with_call(\n  File \"/databricks/python/lib/python3.10/site-packages/grpc/_interceptor.py\", line 332, in _with_call\n    return call.result(), call\n  File \"/databricks/python/lib/python3.10/site-packages/grpc/_channel.py\", line 439, in result\n    raise self\n  File \"/databricks/python/lib/python3.10/site-packages/grpc/_interceptor.py\", line 315, in continuation\n    response, call = self._thunk(new_method).with_call(\n  File \"/databricks/python/lib/python3.10/site-packages/grpc/_channel.py\", line 1193, in with_call\n    return _end_unary_response_blocking(state, call, True, None)\n ERROR:pyspark.sql.connect.client.logging:GRPC Error received\nTraceback (most recent call last):\n  File \"/databricks/python/lib/python3.10/site-packages/pyspark/sql/connect/client/core.py\", line 1721, in config\n    resp = self._stub.Config(req, metadata=self.metadata())\n  File \"/databricks/python/lib/python3.10/site-packages/grpc/_interceptor.py\", line 277, in __call__\n    response, ignored_call = self._with_call(\n  File \"/databricks/python/lib/python3.10/site-packages/grpc/_interceptor.py\", line 332, in _with_call\n    return call.result(), call\n  File \"/databricks/python/lib/python3.10/site-packages/grpc/_channel.py\", line 439, in result\n    raise self\n  File \"/databricks/python/lib/python3.10/site-packages/grpc/_interceptor.py\", line 315, in continuation\n    response, call = self._thunk(new_method).with_call(\n  File \"/databricks/python/lib/python3.10/site-packages/grpc/_channel.py\", line 1193, in with_call\n    return _end_unary_response_blocking(state, call, True, None)\n  File \"/databricks/python/lib/python3.10/site-packages/grpc/_channel.py\", line 1005, in _end_unary_response_blocking\n    raise _InactiveRpcError(state)  # pytype: disable=not-instantiable\ngrpc._channel._InactiveRpcError: <_InactiveRpcError of RPC that terminated with:\n\tstatus = StatusCode.INTERNAL\n\tdetails = \"[CONFIG_NOT_AVAILABLE] Configuration DA.datasets.dais is not available. SQLSTATE: 42K0I\"\n\tdebug_error_string = \"UNKNOWN:Error received from peer  {grpc_message:\"[CONFIG_NOT_AVAILABLE] Configuration DA.datasets.dais is not available. SQLSTATE: 42K0I\", grpc_status:13, created_time:\"2025-04-30T14:55:43.855546019+00:00\"}\"\n>\n File \"/databricks/python/lib/python3.10/site-packages/grpc/_channel.py\", line 1005, in _end_unary_response_blocking\n    raise _InactiveRpcError(state)  # pytype: disable=not-instantiable\ngrpc._channel._InactiveRpcError: <_InactiveRpcError of RPC that terminated with:\n\tstatus = StatusCode.INTERNAL\n\tdetails = \"[CONFIG_NOT_AVAILABLE] Configuration DA.datasets.dais is not available. SQLSTATE: 42K0I\"\n\tdebug_error_string = \"UNKNOWN:Error received from peer  {grpc_message:\"[CONFIG_NOT_AVAILABLE] Configuration DA.datasets.dais is not available. SQLSTATE: 42K0I\", grpc_status:13, created_time:\"2025-04-30T14:55:43.855546019+00:00\"}\"\n>\n2025-04-30 14:55:43,997 13894 ERROR _handle_rpc_error GRPC Error received\nTraceback (most recent call last):\n  File \"/databricks/python/lib/python3.10/site-packages/pyspark/sql/connect/client/core.py\", line 1721, in config\n    resp = self._stub.Config(req, metadata=self.metadata())\n  File \"/databricks/python/lib/python3.10/site-packages/grpc/_interceptor.py\", line 277, in __call__\n    response, ignored_call = self._with_call(\n  File \"/databricks/python/lib/python3.10/site-packages/grpc/_interceptor.py\", line 332, in _with_call\n    return call.result(), call\n  File \"/databricks/python/lib/python3.10/site-packages/grpc/_channel.py\", line 439, in result\n    raise self\n  File \"/databricks/python/lib/python3.10/site-packages/grpc/_interceptor.py\", line 315, in continuation\n    response, call = self._thunk(new_method).with_call(\n  File \"/databricks/python/lib/python3.10/site-packages/grpc/_channel.py\", line 1193, in with_call\n    return _end_unary_response_blocking(state, call, True, None)\n  File \"/databricks/python/lib/python3.10/site-packages/grpc/_channel.py\", line 1005, in _end_unary_response_blocking\n    raise _InactiveRpcError(state)  # pytype: disable=not-instantiable\ngrpc._channel._InactiveRpcError: <_InactiveRpcError of RPC that terminated with:\n\tstatus = StatusCode.INTERNAL\n\tdetails = \"[CONFIG_NOT_AVAILABLE] Configuration DA.paths.datasets.dais is not available. SQLSTATE: 42K0I\"\n\tdebug_error_string = \"UNKNOWN:Error received from peer  {created_time:\"2025-04-30T14:55:43.996059764+00:00\", grpc_status:13, grpc_message:\"[CONFIG_NOT_AVAILABLE] Configuration DA.paths.datasets.dais is not available. SQLSTATE: 42K0I\"}\"\n>\n2025-04-30 14:55:43,997 13894 ERROR _handle_rpc_error GRPC Error received\nTraceback (most recent call last):\n  File \"/databricks/python/lib/python3.10/site-packages/pyspark/sql/connect/client/core.py\", line 1721, in config\n    resp = self._stub.Config(req, metadata=self.metadata())\n  File \"/databricks/python/lib/python3.10/site-packages/grpc/_interceptor.py\", line 277, in __call__\n    response, ignored_call = self._with_call(\n  File \"/databricks/python/lib/python3.10/site-packages/grpc/_interceptor.py\", line 332, in _with_call\n    return call.result(), call\n  File \"/databricks/python/lib/python3.10/site-packages/grpc/_channel.py\", line 439, in result\n    raise self\n  File \"/databricks/python/lib/python3.10/site-packages/grpc/_interceptor.py\", line 315, in continuation\n    response, call = self._thunk(new_method).with_call(\n  File \"/databricks/python/lib/python3.10/site-packages/grpc/_channel.py\", line 1193, in with_call\n    return _end_unary_response_blocking(state, call, True, None)\n  File \"/databricks/python/lib/python3.10/site-packages/grpc/_channel.py\", line 1005, in _end_unary_response_blocking\n    raise _InactiveRpcError(state)  # pytype: disable=not-instantiable\ngrpc._channel._InactiveRpcError: <_InactiveRpcError of RPC that terminated with:\n\tstatus = StatusCode.INTERNAL\n\tdetails = \"[CONFIG_NOT_AVAILABLE] Configuration DA.paths.datasets.dais is not available. SQLSTATE: 42K0I\"\n\tdebug_error_string = \"UNKNOWN:Error received from peer  {created_time:\"2025-04-30T14:55:43.996059764+00:00\", grpc_status:13, grpc_message:\"[CONFIG_NOT_AVAILABLE] Configuration DA.paths.datasets.dais is not available. SQLSTATE: 42K0I\"}\"\n>\nERROR:pyspark.sql.connect.client.logging:GRPC Error received\nTraceback (most recent call last):\n  File \"/databricks/python/lib/python3.10/site-packages/pyspark/sql/connect/client/core.py\", line 1721, in config\n    resp = self._stub.Config(req, metadata=self.metadata())\n  File \"/databricks/python/lib/python3.10/site-packages/grpc/_interceptor.py\", line 277, in __call__\n    response, ignored_call = self._with_call(\n  File \"/databricks/python/lib/python3.10/site-packages/grpc/_interceptor.py\", line 332, in _with_call\n    return call.result(), call\n  File \"/databricks/python/lib/python3.10/site-packages/grpc/_channel.py\", line 439, in result\n    raise self\n  File \"/databricks/python/lib/python3.10/site-packages/grpc/_interceptor.py\", line 315, in continuation\n    response, call = self._thunk(new_method).with_call(\n  File \"/databricks/python/lib/python3.10/site-packages/grpc/_channel.py\", line 1193, in with_call\n    return _end_unary_response_blocking(state, call, True, None)\n  File \"/databricks/python/lib/python3.10/site-packages/grpc/_channel.py\", line 1005, in _end_unary_response_blocking\n    raise _InactiveRpcError(state)  # pytype: disable=not-instantiable\ngrpc._channel._InactiveRpcError: <_InactiveRpcError of RPC that terminated with:\n\tstatus = StatusCode.INTERNAL\n\tdetails = \"[CONFIG_NOT_AVAILABLE] Configuration DA.paths.datasets.dais is not available. SQLSTATE: 42K0I\"\n\tdebug_error_string = \"UNKNOWN:Error received from peer  {created_time:\"2025-04-30T14:55:43.996059764+00:00\", grpc_status:13, grpc_message:\"[CONFIG_NOT_AVAILABLE] Configuration DA.paths.datasets.dais is not available. SQLSTATE: 42K0I\"}\"\n>\n2025-04-30 14:55:44,129 13894 ERROR _handle_rpc_error GRPC Error received\nTraceback (most recent call last):\n  File \"/databricks/python/lib/python3.10/site-packages/pyspark/sql/connect/client/core.py\", line 1721, in config\n    resp = self._stub.Config(req, metadata=self.metadata())\n  File \"/databricks/python/lib/python3.10/site-packages/grpc/_interceptor.py\", line 277, in __call__\n    response, ignored_call = self._with_call(\n  File \"/databricks/python/lib/python3.10/site-packages/grpc/_interceptor.py\", line 332, in _with_call\n    return call.result(), call\n  File \"/databricks/python/lib/python3.10/site-packages/grpc/_channel.py\", line 439, in result\n    raise self\n  File \"/databricks/python/lib/python3.10/site-packages/grpc/_interceptor.py\", line 315, in continuation\n    response, call = self._thunk(new_method).with_call(\n  File \"/databricks/python/lib/python3.10/site-packages/grpc/_channel.py\", line 1193, in with_call\n    return _end_unary_response_blocking(state, call, True, None)\n  File \"/databricks/python/lib/python3.10/site-packages/grpc/_channel.py\", line 1005, in _end_unary_response_blocking\n    raise _InactiveRpcError(state)  # pytype: disable=not-instantiable\ngrpc._channel._InactiveRpcError: <_InactiveRpcError of RPC that terminated with:\n\tstatus = StatusCode.INTERNAL\n\tdetails = \"[CONFIG_NOT_AVAILABLE] Configuration DA.username is not available. SQLSTATE: 42K0I\"\n\tdebug_error_string = \"UNKNOWN:Error received from peer  {grpc_message:\"[CONFIG_NOT_AVAILABLE] Configuration DA.username is not available. SQLSTATE: 42K0I\", grpc_status:13, created_time:\"2025-04-30T14:55:44.129293126+00:00\"}\"\n>\n2025-04-30 14:55:44,129 13894 ERROR _handle_rpc_error GRPC Error received\nTraceback (most recent call last):\n  File \"/databricks/python/lib/python3.10/site-packages/pyspark/sql/connect/client/core.py\", line 1721, in config\n    resp = self._stub.Config(req, metadata=self.metadata())\n  File \"/databricks/python/lib/python3.10/site-packages/grpc/_interceptor.py\", line 277, in __call__\n    response, ignored_call = self._with_call(\n  File \"/databricks/python/lib/python3.10/site-packages/grpc/_interceptor.py\", line 332, in _with_call\n    return call.result(), call\n  File \"/databricks/python/lib/python3.10/site-packages/grpc/_channel.py\", line 439, in result\n    raise self\n  File \"/databricks/python/lib/python3.10/site-packages/grpc/_interceptor.py\", line 315, in continuation\n    response, call = self._thunk(new_method).with_call(\n  File \"/databricks/python/lib/python3.10/site-packages/grpc/_channel.py\", line 1193, in with_call\n    return _end_unary_response_blocking(state, call, True, None)\n  File \"/databricks/python/lib/python3.10/site-packages/grpc/_channel.py\", line 1005, in _end_unary_response_blocking\n    raise _InactiveRpcError(state)  # pytype: disable=not-instantiable\ngrpc._channel._InactiveRpcError: <_InactiveRpcError of RPC that terminated with:\n\tstatus = StatusCode.INTERNAL\n\tdetails = \"[CONFIG_NOT_AVAILABLE] Configuration DA.username is not available. SQLSTATE: 42K0I\"\n\tdebug_error_string = \"UNKNOWN:Error received from peer  {grpc_message:\"[CONFIG_NOT_AVAILABLE] Configuration DA.username is not available. SQLSTATE: 42K0I\", grpc_status:13, created_time:\"2025-04-30T14:55:44.129293126+00:00\"}\"\n>\nERROR:pyspark.sql.connect.client.logging:GRPC Error received\nTraceback (most recent call last):\n  File \"/databricks/python/lib/python3.10/site-packages/pyspark/sql/connect/client/core.py\", line 1721, in config\n    resp = self._stub.Config(req, metadata=self.metadata())\n  File \"/databricks/python/lib/python3.10/site-packages/grpc/_interceptor.py\", line 277, in __call__\n    response, ignored_call = self._with_call(\n  File \"/databricks/python/lib/python3.10/site-packages/grpc/_interceptor.py\", line 332, in _with_call\n    return call.result(), call\n  File \"/databricks/python/lib/python3.10/site-packages/grpc/_channel.py\", line 439, in result\n    raise self\n  File \"/databricks/python/lib/python3.10/site-packages/grpc/_interceptor.py\", line 315, in continuation\n    response, call = self._thunk(new_method).with_call(\n  File \"/databricks/python/lib/python3.10/site-packages/grpc/_channel.py\", line 1193, in with_call\n    return _end_unary_response_blocking(state, call, True, None)\n  File \"/databricks/python/lib/python3.10/site-packages/grpc/_channel.py\", line 1005, in _end_unary_response_blocking\n    raise _InactiveRpcError(state)  # pytype: disable=not-instantiable\ngrpc._channel._InactiveRpcError: <_InactiveRpcError of RPC that terminated with:\n\tstatus = StatusCode.INTERNAL\n\tdetails = \"[CONFIG_NOT_AVAILABLE] Configuration DA.username is not available. SQLSTATE: 42K0I\"\n\tdebug_error_string = \"UNKNOWN:Error received from peer  {grpc_message:\"[CONFIG_NOT_AVAILABLE] Configuration DA.username is not available. SQLSTATE: 42K0I\", grpc_status:13, created_time:\"2025-04-30T14:55:44.129293126+00:00\"}\"\n>\n2025-04-30 14:55:44,237 13894 ERROR _handle_rpc_error GRPC Error received\nTraceback (most recent call last):\n  File \"/databricks/python/lib/python3.10/site-packages/pyspark/sql/connect/client/core.py\", line 1721, in config\n    resp = self._stub.Config(req, metadata=self.metadata())\n  File \"/databricks/python/lib/python3.10/site-packages/grpc/_interceptor.py\", line 277, in __call__\n    response, ignored_call = self._with_call(\n  File \"/databricks/python/lib/python3.10/site-packages/grpc/_interceptor.py\", line 332, in _with_call\n    return call.result(), call\n  File \"/databricks/python/lib/python3.10/site-packages/grpc/_channel.py\", line 439, in result\n    raise self\n  File \"/databricks/python/lib/python3.10/site-packages/grpc/_interceptor.py\", line 315, in continuation\n    response, call = self._thunk(new_method).with_call(\n  File \"/databricks/python/lib/python3.10/site-packages/grpc/_channel.py\", line 1193, in with_call\n    return _end_unary_response_blocking(state, call, True, None)\n  File \"/databricks/python/lib/python3.10/site-packages/grpc/_channel.py\", line 1005, in _end_unary_response_blocking\n    raise _InactiveRpcError(state)  # pytype: disable=not-instantiable\ngrpc._channel._InactiveRpcError: <_InactiveRpcError of RPC that terminated with:\n\tstatus = StatusCode.INTERNAL\n\tdetails = \"[CONFIG_NOT_AVAILABLE] Configuration DA.catalog_name is not available. SQLSTATE: 42K0I\"\n\tdebug_error_string = \"UNKNOWN:Error received from peer  {grpc_message:\"[CONFIG_NOT_AVAILABLE] Configuration DA.catalog_name is not available. SQLSTATE: 42K0I\", grpc_status:13, created_time:\"2025-04-30T14:55:44.236693206+00:00\"}\"\n>\n2025-04-30 14:55:44,237 13894 ERROR _handle_rpc_error GRPC Error received\nTraceback (most recent call last):\n  File \"/databricks/python/lib/python3.10/site-packages/pyspark/sql/connect/client/core.py\", line 1721, in config\n    resp = self._stub.Config(req, metadata=self.metadata())\n  File \"/databricks/python/lib/python3.10/site-packages/grpc/_interceptor.py\", line 277, in __call__\n    response, ignored_call = self._with_call(\n  File \"/databricks/python/lib/python3.10/site-packages/grpc/_interceptor.py\", line 332, in _with_call\n    return call.result(), call\n  File \"/databricks/python/lib/python3.10/site-packages/grpc/_channel.py\", line 439, in result\n    raise self\n  File \"/databricks/python/lib/python3.10/site-packages/grpc/_interceptor.py\", line 315, in continuation\n    response, call = self._thunk(new_method).with_call(\n  File \"/databricks/python/lib/python3.10/site-packages/grpc/_channel.py\", line 1193, in with_call\n    return _end_unary_response_blocking(state, call, True, None)\n  File \"/databricks/python/lib/python3.10/site-packages/grpc/_channel.py\", line 1005, in _end_unary_response_blocking\n    raise _InactiveRpcError(state)  # pytype: disable=not-instantiable\ngrpc._channel._InactiveRpcError: <_InactiveRpcError of RPC that terminated with:\n\tstatus = StatusCode.INTERNAL\n\tdetails = \"[CONFIG_NOT_AVAILABLE] Configuration DA.catalog_name is not available. SQLSTATE: 42K0I\"\n\tdebug_error_string = \"UNKNOWN:Error received from peer  {grpc_message:\"[CONFIG_NOT_AVAILABLE] Configuration DA.catalog_name is not available. SQLSTATE: 42K0I\", grpc_status:13, created_time:\"2025-04-30T14:55:44.236693206+00:00\"}\"\n>\nERROR:pyspark.sql.connect.client.logging:GRPC Error received\nTraceback (most recent call last):\n  File \"/databricks/python/lib/python3.10/site-packages/pyspark/sql/connect/client/core.py\", line 1721, in config\n    resp = self._stub.Config(req, metadata=self.metadata())\n  File \"/databricks/python/lib/python3.10/site-packages/grpc/_interceptor.py\", line 277, in __call__\n    response, ignored_call = self._with_call(\n  File \"/databricks/python/lib/python3.10/site-packages/grpc/_interceptor.py\", line 332, in _with_call\n    return call.result(), call\n  File \"/databricks/python/lib/python3.10/site-packages/grpc/_channel.py\", line 439, in result\n    raise self\n  File \"/databricks/python/lib/python3.10/site-packages/grpc/_interceptor.py\", line 315, in continuation\n    response, call = self._thunk(new_method).with_call(\n  File \"/databricks/python/lib/python3.10/site-packages/grpc/_channel.py\", line 1193, in with_call\n    return _end_unary_response_blocking(state, call, True, None)\n  File \"/databricks/python/lib/python3.10/site-packages/grpc/_channel.py\", line 1005, in _end_unary_response_blocking\n    raise _InactiveRpcError(state)  # pytype: disable=not-instantiable\ngrpc._channel._InactiveRpcError: <_InactiveRpcError of RPC that terminated with:\n\tstatus = StatusCode.INTERNAL\n\tdetails = \"[CONFIG_NOT_AVAILABLE] Configuration DA.catalog_name is not available. SQLSTATE: 42K0I\"\n\tdebug_error_string = \"UNKNOWN:Error received from peer  {grpc_message:\"[CONFIG_NOT_AVAILABLE] Configuration DA.catalog_name is not available. SQLSTATE: 42K0I\", grpc_status:13, created_time:\"2025-04-30T14:55:44.236693206+00:00\"}\"\n>\n2025-04-30 14:55:44,361 13894 ERROR _handle_rpc_error GRPC Error received\nTraceback (most recent call last):\n  File \"/databricks/python/lib/python3.10/site-packages/pyspark/sql/connect/client/core.py\", line 1721, in config\n    resp = self._stub.Config(req, metadata=self.metadata())\n  File \"/databricks/python/lib/python3.10/site-packages/grpc/_interceptor.py\", line 277, in __call__\n    response, ignored_call = self._with_call(\n  File \"/databricks/python/lib/python3.10/site-packages/grpc/_interceptor.py\", line 332, in _with_call\n    return call.result(), call\n  File \"/databricks/python/lib/python3.10/site-packages/grpc/_channel.py\", line 439, in result\n    raise self\n  File \"/databricks/python/lib/python3.10/site-packages/grpc/_interceptor.py\", line 315, in continuation\n    response, call = self._thunk(new_method).with_call(\n  File \"/databricks/python/lib/python3.10/site-packages/grpc/_channel.py\", line 1193, in with_call\n    return _end_unary_response_blocking(state, call, True, None)\n  File \"/databricks/python/lib/python3.10/site-packages/grpc/_channel.py\", line 1005, in _end_unary_response_blocking\n    raise _InactiveRpcError(state)  # pytype: disable=not-instantiable\ngrpc._channel._InactiveRpcError: <_InactiveRpcError of RPC that terminated with:\n\tstatus = StatusCode.INTERNAL\n\tdetails = \"[CONFIG_NOT_AVAILABLE] Configuration DA.schema_name is not available. SQLSTATE: 42K0I\"\n\tdebug_error_string = \"UNKNOWN:Error received from peer  {created_time:\"2025-04-30T14:55:44.361524033+00:00\", grpc_status:13, grpc_message:\"[CONFIG_NOT_AVAILABLE] Configuration DA.schema_name is not available. SQLSTATE: 42K0I\"}\"\n>\n2025-04-30 14:55:44,361 13894 ERROR _handle_rpc_error GRPC Error received\nTraceback (most recent call last):\n  File \"/databricks/python/lib/python3.10/site-packages/pyspark/sql/connect/client/core.py\", line 1721, in config\n    resp = self._stub.Config(req, metadata=self.metadata())\n  File \"/databricks/python/lib/python3.10/site-packages/grpc/_interceptor.py\", line 277, in __call__\n    response, ignored_call = self._with_call(\n  File \"/databricks/python/lib/python3.10/site-packages/grpc/_interceptor.py\", line 332, in _with_call\n    return call.result(), call\n  File \"/databricks/python/lib/python3.10/site-packages/grpc/_channel.py\", line 439, in result\n    raise self\n  File \"/databricks/python/lib/python3.10/site-packages/grpc/_interceptor.py\", line 315, in continuation\n    response, call = self._thunk(new_method).with_call(\n  File \"/databricks/python/lib/python3.10/site-packages/grpc/_channel.py\", line 1193, in with_call\n    return _end_unary_response_blocking(state, call, True, None)\n  File \"/databricks/python/lib/python3.10/site-packages/grpc/_channel.py\", line 1005, in _end_unary_response_blocking\n    raise _InactiveRpcError(state)  # pytype: disable=not-instantiable\ngrpc._channel._InactiveRpcError: <_InactiveRpcError of RPC that terminated with:\n\tstatus = StatusCode.INTERNAL\n\tdetails = \"[CONFIG_NOT_AVAILABLE] Configuration DA.schema_name is not available. SQLSTATE: 42K0I\"\n\tdebug_error_string = \"UNKNOWN:Error received from peer  {created_time:\"2025-04-30T14:55:44.361524033+00:00\", grpc_status:13, grpc_message:\"[CONFIG_NOT_AVAILABLE] Configuration DA.schema_name is not available. SQLSTATE: 42K0I\"}\"\n>\nERROR:pyspark.sql.connect.client.logging:GRPC Error received\nTraceback (most recent call last):\n  File \"/databricks/python/lib/python3.10/site-packages/pyspark/sql/connect/client/core.py\", line 1721, in config\n    resp = self._stub.Config(req, metadata=self.metadata())\n  File \"/databricks/python/lib/python3.10/site-packages/grpc/_interceptor.py\", line 277, in __call__\n    response, ignored_call = self._with_call(\n  File \"/databricks/python/lib/python3.10/site-packages/grpc/_interceptor.py\", line 332, in _with_call\n    return call.result(), call\n  File \"/databricks/python/lib/python3.10/site-packages/grpc/_channel.py\", line 439, in result\n    raise self\n  File \"/databricks/python/lib/python3.10/site-packages/grpc/_interceptor.py\", line 315, in continuation\n    response, call = self._thunk(new_method).with_call(\n  File \"/databricks/python/lib/python3.10/site-packages/grpc/_channel.py\", line 1193, in with_call\n    return _end_unary_response_blocking(state, call, True, None)\n  File \"/databricks/python/lib/python3.10/site-packages/grpc/_channel.py\", line 1005, in _end_unary_response_blocking\n    raise _InactiveRpcError(state)  # pytype: disable=not-instantiable\ngrpc._channel._InactiveRpcError: <_InactiveRpcError of RPC that terminated with:\n\tstatus = StatusCode.INTERNAL\n\tdetails = \"[CONFIG_NOT_AVAILABLE] Configuration DA.schema_name is not available. SQLSTATE: 42K0I\"\n\tdebug_error_string = \"UNKNOWN:Error received from peer  {created_time:\"2025-04-30T14:55:44.361524033+00:00\", grpc_status:13, grpc_message:\"[CONFIG_NOT_AVAILABLE] Configuration DA.schema_name is not available. SQLSTATE: 42K0I\"}\"\n>\n2025-04-30 14:55:44,467 13894 ERROR _handle_rpc_error GRPC Error received\nTraceback (most recent call last):\n  File \"/databricks/python/lib/python3.10/site-packages/pyspark/sql/connect/client/core.py\", line 1721, in config\n    resp = self._stub.Config(req, metadata=self.metadata())\n  File \"/databricks/python/lib/python3.10/site-packages/grpc/_interceptor.py\", line 277, in __call__\n    response, ignored_call = self._with_call(\n  File \"/databricks/python/lib/python3.10/site-packages/grpc/_interceptor.py\", line 332, in _with_call\n    return call.result(), call\n  File \"/databricks/python/lib/python3.10/site-packages/grpc/_channel.py\", line 439, in result\n    raise self\n  File \"/databricks/python/lib/python3.10/site-packages/grpc/_interceptor.py\", line 315, in continuation\n    response, call = self._thunk(new_method).with_call(\n  File \"/databricks/python/lib/python3.10/site-packages/grpc/_channel.py\", line 1193, in with_call\n    return _end_unary_response_blocking(state, call, True, None)\n  File \"/databricks/python/lib/python3.10/site-packages/grpc/_channel.py\", line 1005, in _end_unary_response_blocking\n    raise _InactiveRpcError(state)  # pytype: disable=not-instantiable\ngrpc._channel._InactiveRpcError: <_InactiveRpcError of RPC that terminated with:\n\tstatus = StatusCode.INTERNAL\n\tdetails = \"[CONFIG_NOT_AVAILABLE] Configuration DA.paths.working_dir is not available. SQLSTATE: 42K0I\"\n\tdebug_error_string = \"UNKNOWN:Error received from peer  {created_time:\"2025-04-30T14:55:44.467253565+00:00\", grpc_status:13, grpc_message:\"[CONFIG_NOT_AVAILABLE] Configuration DA.paths.working_dir is not available. SQLSTATE: 42K0I\"}\"\n>\n2025-04-30 14:55:44,467 13894 ERROR _handle_rpc_error GRPC Error received\nTraceback (most recent call last):\n  File \"/databricks/python/lib/python3.10/site-packages/pyspark/sql/connect/client/core.py\", line 1721, in config\n    resp = self._stub.Config(req, metadata=self.metadata())\n  File \"/databricks/python/lib/python3.10/site-packages/grpc/_interceptor.py\", line 277, in __call__\n    response, ignored_call = self._with_call(\n  File \"/databricks/python/lib/python3.10/site-packages/grpc/_interceptor.py\", line 332, in _with_call\n    return call.result(), call\n  File \"/databricks/python/lib/python3.10/site-packages/grpc/_channel.py\", line 439, in result\n    raise self\n  File \"/databricks/python/lib/python3.10/site-packages/grpc/_interceptor.py\", line 315, in continuation\n    response, call = self._thunk(new_method).with_call(\n  File \"/databricks/python/lib/python3.10/site-packages/grpc/_channel.py\", line 1193, in with_call\n    return _end_unary_response_blocking(state, call, True, None)\n  File \"/databricks/python/lib/python3.10/site-packages/grpc/_channel.py\", line 1005, in _end_unary_response_blocking\n    raise _InactiveRpcError(state)  # pytype: disable=not-instantiable\ngrpc._channel._InactiveRpcError: <_InactiveRpcError of RPC that terminated with:\n\tstatus = StatusCode.INTERNAL\n\tdetails = \"[CONFIG_NOT_AVAILABLE] Configuration DA.paths.working_dir is not available. SQLSTATE: 42K0I\"\n\tdebug_error_string = \"UNKNOWN:Error received from peer  {created_time:\"2025-04-30T14:55:44.467253565+00:00\", grpc_status:13, grpc_message:\"[CONFIG_NOT_AVAILABLE] Configuration DA.paths.working_dir is not available. SQLSTATE: 42K0I\"}\"\n>\nERROR:pyspark.sql.connect.client.logging:GRPC Error received\nTraceback (most recent call last):\n  File \"/databricks/python/lib/python3.10/site-packages/pyspark/sql/connect/client/core.py\", line 1721, in config\n    resp = self._stub.Config(req, metadata=self.metadata())\n  File \"/databricks/python/lib/python3.10/site-packages/grpc/_interceptor.py\", line 277, in __call__\n    response, ignored_call = self._with_call(\n  File \"/databricks/python/lib/python3.10/site-packages/grpc/_interceptor.py\", line 332, in _with_call\n    return call.result(), call\n  File \"/databricks/python/lib/python3.10/site-packages/grpc/_channel.py\", line 439, in result\n    raise self\n  File \"/databricks/python/lib/python3.10/site-packages/grpc/_interceptor.py\", line 315, in continuation\n    response, call = self._thunk(new_method).with_call(\n  File \"/databricks/python/lib/python3.10/site-packages/grpc/_channel.py\", line 1193, in with_call\n    return _end_unary_response_blocking(state, call, True, None)\n  File \"/databricks/python/lib/python3.10/site-packages/grpc/_channel.py\", line 1005, in _end_unary_response_blocking\n    raise _InactiveRpcError(state)  # pytype: disable=not-instantiable\ngrpc._channel._InactiveRpcError: <_InactiveRpcError of RPC that terminated with:\n\tstatus = StatusCode.INTERNAL\n\tdetails = \"[CONFIG_NOT_AVAILABLE] Configuration DA.paths.working_dir is not available. SQLSTATE: 42K0I\"\n\tdebug_error_string = \"UNKNOWN:Error received from peer  {created_time:\"2025-04-30T14:55:44.467253565+00:00\", grpc_status:13, grpc_message:\"[CONFIG_NOT_AVAILABLE] Configuration DA.paths.working_dir is not available. SQLSTATE: 42K0I\"}\"\n>\n2025-04-30 14:55:44,571 13894 ERROR _handle_rpc_error GRPC Error received\nTraceback (most recent call last):\n  File \"/databricks/python/lib/python3.10/site-packages/pyspark/sql/connect/client/core.py\", line 1721, in config\n    resp = self._stub.Config(req, metadata=self.metadata())\n  File \"/databricks/python/lib/python3.10/site-packages/grpc/_interceptor.py\", line 277, in __call__\n    response, ignored_call = self._with_call(\n  File \"/databricks/python/lib/python3.10/site-packages/grpc/_interceptor.py\", line 332, in _with_call\n    return call.result(), call\n  File \"/databricks/python/lib/python3.10/site-packages/grpc/_channel.py\", line 439, in result\n    raise self\n  File \"/databricks/python/lib/python3.10/site-packages/grpc/_interceptor.py\", line 315, in continuation\n    response, call = self._thunk(new_method).with_call(\n  File \"/databricks/python/lib/python3.10/site-packages/grpc/_channel.py\", line 1193, in with_call\n    return _end_unary_response_blocking(state, call, True, None)\n  File \"/databricks/python/lib/python3.10/site-packages/grpc/_channel.py\", line 1005, in _end_unary_response_blocking\n    raise _InactiveRpcError(state)  # pytype: disable=not-instantiable\ngrpc._channel._InactiveRpcError: <_InactiveRpcError of RPC that terminated with:\n\tstatus = StatusCode.INTERNAL\n\tdetails = \"[CONFIG_NOT_AVAILABLE] Configuration DA.cluster_name is not available. SQLSTATE: 42K0I\"\n\tdebug_error_string = \"UNKNOWN:Error received from peer  {grpc_message:\"[CONFIG_NOT_AVAILABLE] Configuration DA.cluster_name is not available. SQLSTATE: 42K0I\", grpc_status:13, created_time:\"2025-04-30T14:55:44.570667822+00:00\"}\"\n>\n2025-04-30 14:55:44,571 13894 ERROR _handle_rpc_error GRPC Error received\nTraceback (most recent call last):\n  File \"/databricks/python/lib/python3.10/site-packages/pyspark/sql/connect/client/core.py\", line 1721, in config\n    resp = self._stub.Config(req, metadata=self.metadata())\n  File \"/databricks/python/lib/python3.10/site-packages/grpc/_interceptor.py\", line 277, in __call__\n    response, ignored_call = self._with_call(\n  File \"/databricks/python/lib/python3.10/site-packages/grpc/_interceptor.py\", line 332, in _with_call\n    return call.result(), call\n  File \"/databricks/python/lib/python3.10/site-packages/grpc/_channel.py\", line 439, in result\n    raise self\n  File \"/databricks/python/lib/python3.10/site-packages/grpc/_interceptor.py\", line 315, in continuation\n    response, call = self._thunk(new_method).with_call(\n  File \"/databricks/python/lib/python3.10/site-packages/grpc/_channel.py\", line 1193, in with_call\n    return _end_unary_response_blocking(state, call, True, None)\n ERROR:pyspark.sql.connect.client.logging:GRPC Error received\nTraceback (most recent call last):\n  File \"/databricks/python/lib/python3.10/site-packages/pyspark/sql/connect/client/core.py\", line 1721, in config\n    resp = self._stub.Config(req, metadata=self.metadata())\n  File \"/databricks/python/lib/python3.10/site-packages/grpc/_interceptor.py\", line 277, in __call__\n    response, ignored_call = self._with_call(\n  File \"/databricks/python/lib/python3.10/site-packages/grpc/_interceptor.py\", line 332, in _with_call\n    return call.result(), call\n  File \"/databricks/python/lib/python3.10/site-packages/grpc/_channel.py\", line 439, in result\n    raise self\n  File \"/databricks/python/lib/python3.10/site-packages/grpc/_interceptor.py\", line 315, in continuation\n    response, call = self._thunk(new_method).with_call(\n  File \"/databricks/python/lib/python3.10/site-packages/grpc/_channel.py\", line 1193, in with_call\n    return _end_unary_response_blocking(state, call, True, None)\n  File \"/databricks/python/lib/python3.10/site-packages/grpc/_channel.py\", line 1005, in _end_unary_response_blocking\n    raise _InactiveRpcError(state)  # pytype: disable=not-instantiable\ngrpc._channel._InactiveRpcError: <_InactiveRpcError of RPC that terminated with:\n\tstatus = StatusCode.INTERNAL\n\tdetails = \"[CONFIG_NOT_AVAILABLE] Configuration DA.cluster_name is not available. SQLSTATE: 42K0I\"\n\tdebug_error_string = \"UNKNOWN:Error received from peer  {grpc_message:\"[CONFIG_NOT_AVAILABLE] Configuration DA.cluster_name is not available. SQLSTATE: 42K0I\", grpc_status:13, created_time:\"2025-04-30T14:55:44.570667822+00:00\"}\"\n>\n File \"/databricks/python/lib/python3.10/site-packages/grpc/_channel.py\", line 1005, in _end_unary_response_blocking\n    raise _InactiveRpcError(state)  # pytype: disable=not-instantiable\ngrpc._channel._InactiveRpcError: <_InactiveRpcError of RPC that terminated with:\n\tstatus = StatusCode.INTERNAL\n\tdetails = \"[CONFIG_NOT_AVAILABLE] Configuration DA.cluster_name is not available. SQLSTATE: 42K0I\"\n\tdebug_error_string = \"UNKNOWN:Error received from peer  {grpc_message:\"[CONFIG_NOT_AVAILABLE] Configuration DA.cluster_name is not available. SQLSTATE: 42K0I\", grpc_status:13, created_time:\"2025-04-30T14:55:44.570667822+00:00\"}\"\n>\n2025-04-30 14:55:44,686 13894 ERROR _handle_rpc_error GRPC Error received\nTraceback (most recent call last):\n  File \"/databricks/python/lib/python3.10/site-packages/pyspark/sql/connect/client/core.py\", line 1721, in config\n    resp = self._stub.Config(req, metadata=self.metadata())\n  File \"/databricks/python/lib/python3.10/site-packages/grpc/_interceptor.py\", line 277, in __call__\n    response, ignored_call = self._with_call(\n  File \"/databricks/python/lib/python3.10/site-packages/grpc/_interceptor.py\", line 332, in _with_call\n    return call.result(), call\n  File \"/databricks/python/lib/python3.10/site-packages/grpc/_channel.py\", line 439, in result\n    raise self\n  File \"/databricks/python/lib/python3.10/site-packages/grpc/_interceptor.py\", line 315, in continuation\n    response, call = self._thunk(new_method).with_call(\n  File \"/databricks/python/lib/python3.10/site-packages/grpc/_channel.py\", line 1193, in with_call\n    return _end_unary_response_blocking(state, call, True, None)\n  File \"/databricks/python/lib/python3.10/site-packages/grpc/_channel.py\", line 1005, in _end_unary_response_blocking\n    raise _InactiveRpcError(state)  # pytype: disable=not-instantiable\ngrpc._channel._InactiveRpcError: <_InactiveRpcError of RPC that terminated with:\n\tstatus = StatusCode.INTERNAL\n\tdetails = \"[CONFIG_NOT_AVAILABLE] Configuration DA.pseudonym is not available. SQLSTATE: 42K0I\"\n\tdebug_error_string = \"UNKNOWN:Error received from peer  {grpc_message:\"[CONFIG_NOT_AVAILABLE] Configuration DA.pseudonym is not available. SQLSTATE: 42K0I\", grpc_status:13, created_time:\"2025-04-30T14:55:44.685760664+00:00\"}\"\n>\n2025-04-30 14:55:44,686 13894 ERROR _handle_rpc_error GRPC Error received\nTraceback (most recent call last):\n  File \"/databricks/python/lib/python3.10/site-packages/pyspark/sql/connect/client/core.py\", line 1721, in config\n    resp = self._stub.Config(req, metadata=self.metadata())\n  File \"/databricks/python/lib/python3.10/site-packages/grpc/_interceptor.py\", line 277, in __call__\n    response, ignored_call = self._with_call(\n  File \"/databricks/python/lib/python3.10/site-packages/grpc/_interceptor.py\", line 332, in _with_call\n    return call.result(), call\n  File \"/databricks/python/lib/python3.10/site-packages/grpc/_channel.py\", line 439, in result\n    raise self\n  File \"/databricks/python/lib/python3.10/site-packages/grpc/_interceptor.py\", line 315, in continuation\n    response, call = self._thunk(new_method).with_call(\n  File \"/databricks/python/lib/python3.10/site-packages/grpc/_channel.py\", line 1193, in with_call\n    return _end_unary_response_blocking(state, call, True, None)\n  File \"/databricks/python/lib/python3.10/site-packages/grpc/_channel.py\", line 1005, in _end_unary_response_blocking\n    raise _InactiveRpcError(state)  # pytype: disable=not-instantiable\ngrpc._channel._InactiveRpcError: <_InactiveRpcError of RPC that terminated with:\n\tstatus = StatusCode.INTERNAL\n\tdetails = \"[CONFIG_NOT_AVAILABLE] Configuration DA.pseudonym is not available. SQLSTATE: 42K0I\"\n\tdebug_error_string = \"UNKNOWN:Error received from peer  {grpc_message:\"[CONFIG_NOT_AVAILABLE] Configuration DA.pseudonym is not available. SQLSTATE: 42K0I\", grpc_status:13, created_time:\"2025-04-30T14:55:44.685760664+00:00\"}\"\n>\nERROR:pyspark.sql.connect.client.logging:GRPC Error received\nTraceback (most recent call last):\n  File \"/databricks/python/lib/python3.10/site-packages/pyspark/sql/connect/client/core.py\", line 1721, in config\n    resp = self._stub.Config(req, metadata=self.metadata())\n  File \"/databricks/python/lib/python3.10/site-packages/grpc/_interceptor.py\", line 277, in __call__\n    response, ignored_call = self._with_call(\n  File \"/databricks/python/lib/python3.10/site-packages/grpc/_interceptor.py\", line 332, in _with_call\n    return call.result(), call\n  File \"/databricks/python/lib/python3.10/site-packages/grpc/_channel.py\", line 439, in result\n    raise self\n  File \"/databricks/python/lib/python3.10/site-packages/grpc/_interceptor.py\", line 315, in continuation\n    response, call = self._thunk(new_method).with_call(\n  File \"/databricks/python/lib/python3.10/site-packages/grpc/_channel.py\", line 1193, in with_call\n    return _end_unary_response_blocking(state, call, True, None)\n  File \"/databricks/python/lib/python3.10/site-packages/grpc/_channel.py\", line 1005, in _end_unary_response_blocking\n    raise _InactiveRpcError(state)  # pytype: disable=not-instantiable\ngrpc._channel._InactiveRpcError: <_InactiveRpcError of RPC that terminated with:\n\tstatus = StatusCode.INTERNAL\n\tdetails = \"[CONFIG_NOT_AVAILABLE] Configuration DA.pseudonym is not available. SQLSTATE: 42K0I\"\n\tdebug_error_string = \"UNKNOWN:Error received from peer  {grpc_message:\"[CONFIG_NOT_AVAILABLE] Configuration DA.pseudonym is not available. SQLSTATE: 42K0I\", grpc_status:13, created_time:\"2025-04-30T14:55:44.685760664+00:00\"}\"\n>\n"
     ]
    },
    {
     "output_type": "stream",
     "name": "stdout",
     "output_type": "stream",
     "text": [
      "Dataset is created successfully.\n"
     ]
    }
   ],
   "source": [
    "%run ../Includes/Classroom-Setup-02"
   ]
  },
  {
   "cell_type": "markdown",
   "metadata": {
    "application/vnd.databricks.v1+cell": {
     "cellMetadata": {},
     "inputWidgets": {},
     "nuid": "95a47bc7-4a17-464f-8889-5b86f6c7efa7",
     "showTitle": false,
     "tableResultSettingsMap": {},
     "title": ""
    }
   },
   "source": [
    "**Other Conventions:**\n",
    "\n",
    "Throughout this demo, we'll refer to the object `DA`. This object, provided by Databricks Academy, contains variables such as your username, catalog name, schema name, working directory, and dataset locations. Run the code block below to view these details:"
   ]
  },
  {
   "cell_type": "code",
   "execution_count": 0,
   "metadata": {
    "application/vnd.databricks.v1+cell": {
     "cellMetadata": {
      "byteLimit": 2048000,
      "rowLimit": 10000
     },
     "inputWidgets": {},
     "nuid": "35f799f9-5808-4b01-881e-68f78568cd58",
     "showTitle": false,
     "tableResultSettingsMap": {},
     "title": ""
    }
   },
   "outputs": [
    {
     "output_type": "stream",
     "name": "stdout",
     "output_type": "stream",
     "text": [
      "Username:          labuser10152510_1746020930@vocareum.com\nCatalog Name:      dbacademy\nSchema Name:       labuser10152510_1746020930\nWorking Directory: /Volumes/dbacademy/ops/labuser10152510_1746020930@vocareum_com\nDataset Location:  NestedNamespace (dais='/Volumes/dbacademy_dais/v01')\n"
     ]
    }
   ],
   "source": [
    "print(f\"Username:          {DA.username}\")\n",
    "print(f\"Catalog Name:      {DA.catalog_name}\")\n",
    "print(f\"Schema Name:       {DA.schema_name}\")\n",
    "print(f\"Working Directory: {DA.paths.working_dir}\")\n",
    "print(f\"Dataset Location:  {DA.paths.datasets}\")"
   ]
  },
  {
   "cell_type": "markdown",
   "metadata": {
    "application/vnd.databricks.v1+cell": {
     "cellMetadata": {},
     "inputWidgets": {},
     "nuid": "c3378daa-ba05-40c7-8330-dba2eb267b7a",
     "showTitle": false,
     "tableResultSettingsMap": {},
     "title": ""
    }
   },
   "source": [
    "## Using LLMs and Prompts without an External Library\n",
    "\n",
    "While there are many libraries out there for building chains and in this demo we will be using one as well, you don't need a third party library for a simple prompt. We can simply use `databricks-sdk` to directly query an **Foundational Model API endpoint**. \n"
   ]
  },
  {
   "cell_type": "code",
   "execution_count": 0,
   "metadata": {
    "application/vnd.databricks.v1+cell": {
     "cellMetadata": {
      "byteLimit": 2048000,
      "rowLimit": 10000
     },
     "inputWidgets": {},
     "nuid": "d1bde796-d33d-4e06-af49-ce821b868a8e",
     "showTitle": false,
     "tableResultSettingsMap": {},
     "title": ""
    }
   },
   "outputs": [
    {
     "output_type": "stream",
     "name": "stdout",
     "output_type": "stream",
     "text": [
      "A great choice! One of the most iconic romance movies featuring Brad Pitt is \"Meet Joe Black\" (1998). In this film, Brad Pitt plays the role of Joe Black, a personification of Death who takes the form of a young man to learn about human life.\n\nThe movie follows the story of Bill Parrish (played by Anthony Hopkins), a wealthy and successful businessman who is about to turn 65. Joe Black (Brad Pitt) appears to Bill and informs him that he has come to collect his soul. However, Joe is fascinated by human life and asks Bill to teach him about it.\n\nAs Joe learns about human emotions\n"
     ]
    }
   ],
   "source": [
    "from databricks.sdk import WorkspaceClient\n",
    "from databricks.sdk.service.serving import ChatMessage\n",
    "\n",
    "w = WorkspaceClient()\n",
    "\n",
    "genre = \"romance\"\n",
    "actor = \"Brad Pitt\"\n",
    "\n",
    "prompt = f\"Tell me about a {genre} movie which {actor} is one of the actors.\"\n",
    "\n",
    "messages = [\n",
    "    { \n",
    "        \"role\": \"user\", \n",
    "        \"content\": prompt \n",
    "    }\n",
    "]\n",
    "messages = [ChatMessage.from_dict(message) for message in messages]\n",
    "llm_response = w.serving_endpoints.query(\n",
    "    name=\"databricks-meta-llama-3-3-70b-instruct\",\n",
    "    messages=messages,\n",
    "    temperature=0.2,\n",
    "    max_tokens=128\n",
    ")\n",
    "\n",
    "print(llm_response.as_dict()[\"choices\"][0][\"message\"][\"content\"])"
   ]
  },
  {
   "cell_type": "markdown",
   "metadata": {
    "application/vnd.databricks.v1+cell": {
     "cellMetadata": {},
     "inputWidgets": {},
     "nuid": "b73bd4b4-4eea-4305-8efb-b734a4b92c71",
     "showTitle": false,
     "tableResultSettingsMap": {},
     "title": ""
    }
   },
   "source": [
    "\n",
    "## LangChain Basics\n",
    "\n",
    "As demonstrated in the previous section, **it is not necessary to use a third-party chaining library** to construct a multi-chain AI system. However, composition libraries like **LangChain** can simplify some of the steps by providing a generic interface for supported large language models (LLMs).\n",
    "\n",
    "Before we begin building a multi-stage chain, let's review the main LangChain components that we will use in this module.\n"
   ]
  },
  {
   "cell_type": "markdown",
   "metadata": {
    "application/vnd.databricks.v1+cell": {
     "cellMetadata": {},
     "inputWidgets": {},
     "nuid": "5253c280-6c50-4245-a5e8-cce8d150c1e9",
     "showTitle": false,
     "tableResultSettingsMap": {},
     "title": ""
    }
   },
   "source": [
    "### Prompt\n",
    "\n",
    "Prompt is one of the basic blocks when interacting with GenAI models. They may include instructions, examples and specific context information related to the given task. Let's create a very basic prompt.\n"
   ]
  },
  {
   "cell_type": "code",
   "execution_count": 0,
   "metadata": {
    "application/vnd.databricks.v1+cell": {
     "cellMetadata": {
      "byteLimit": 2048000,
      "rowLimit": 10000
     },
     "inputWidgets": {},
     "nuid": "8e8b0bb1-6616-450f-aecb-cef6ada4e45d",
     "showTitle": false,
     "tableResultSettingsMap": {},
     "title": ""
    }
   },
   "outputs": [
    {
     "output_type": "execute_result",
     "data": {
      "text/plain": [
       "'Tell me about a romance movie which Brad Pitt is one of the actors.'"
      ]
     },
     "execution_count": 9,
     "metadata": {},
     "output_type": "execute_result"
    }
   ],
   "source": [
    "from langchain.prompts import PromptTemplate\n",
    "\n",
    "prompt_template = PromptTemplate.from_template(\"Tell me about a {genre} movie which {actor} is one of the actors.\")\n",
    "prompt_template.format(genre=\"romance\", actor=\"Brad Pitt\")"
   ]
  },
  {
   "cell_type": "markdown",
   "metadata": {
    "application/vnd.databricks.v1+cell": {
     "cellMetadata": {},
     "inputWidgets": {},
     "nuid": "60b78513-a95e-46a1-8739-15cd2becad2a",
     "showTitle": false,
     "tableResultSettingsMap": {},
     "title": ""
    }
   },
   "source": [
    "### LLMs\n",
    "\n",
    "LLMs are the core component when building compound AI systems. They are the **brain** of the system for reasoning and generating the response. The [list of supported LLMs](https://python.langchain.com/v0.2/docs/integrations/chat/) can be found on LangChain documentation. \n",
    "\n",
    "Let's see how to interact with **Llama-3** model.\n"
   ]
  },
  {
   "cell_type": "code",
   "execution_count": 0,
   "metadata": {
    "application/vnd.databricks.v1+cell": {
     "cellMetadata": {
      "byteLimit": 2048000,
      "rowLimit": 10000
     },
     "inputWidgets": {},
     "nuid": "0a14943c-d3f9-45e7-b025-4252ce588bee",
     "showTitle": false,
     "tableResultSettingsMap": {},
     "title": ""
    }
   },
   "outputs": [
    {
     "output_type": "stream",
     "name": "stderr",
     "output_type": "stream",
     "text": [
      "/home/spark-13411a2a-6160-45ab-bbbf-fb/.ipykernel/13894/command-3951983942472610-3202705436:4: LangChainDeprecationWarning: Use databricks_langchain.ChatDatabricks\n  llm_llama = ChatDatabricks(endpoint=\"databricks-meta-llama-3-3-70b-instruct\", max_tokens = 500)\n"
     ]
    },
    {
     "output_type": "stream",
     "name": "stdout",
     "output_type": "stream",
     "text": [
      "\nBrad \nPitt \nis \na \nrenowned \nAmerican \nactor \nand \nfilm \nproducer. \nHe \nwas \nborn \non \nDecember \n18, \n1963, \nin \nShawnee, \nOklahoma, \nand \ngrew \nup \nin \nSpringfield, \nMissouri. \nPitt \nhas \nbecome \none \nof \nthe \nmost \nsuccessful \nand \ninfluential \nactors \nin \nHollywood, \nknown \nfor \nhis \nversatility, \nrange, \nand \ndedication \nto \nhis \ncraft.\n\n\nThroughout \nhis \ncareer, \nPitt \nhas \nappeared \nin \na \nwide \nrange \nof \nfilms, \nincluding \ndramas, \ncomedies, \nand \naction \nmovies. \nSome \nof \nhis \nmost \nnotable \nroles \ninclude:\n\n\n1. \nThelma \n& \nLouise \n(1991) \n- \nPitt's \nbreakout \nrole \nas \nthe \ncharming \nand \nhandsome \nJ.D.\n\n2. \nA \nRiver \nRuns \nThrough \nIt \n(1992) \n- \nPitt \nplayed \nthe \nlead \nrole \nof \nPaul \nMaclean, \na \nyoung \nfly \nfisherman.\n\n3. \nInterview \nwith \nthe \nVampire \n(1994) \n- \nPitt \nportrayed \nthe \nbrooding \nand \ncharismatic \nvampire \nLouis \nde \nPointe \ndu \nLac.\n\n4. \nFight \nClub \n(1999) \n- \nPitt \nstarred \nas \nTyler \nDurden, \na \nmysterious \nand \nsubversive \nfigure.\n\n5. \nOcean's \nEleven \n(2001) \n- \nPitt \nplayed \nRusty \nRyan, \na \nsmooth-talking \nthief, \nin \nthis \nheist \ncomedy.\n\n6. \nTroy \n(2004) \n- \nPitt \ntook \non \nthe \nrole \nof \nAchilles, \nthe \nlegendary \nGreek \nwarrior.\n\n7. \nThe \nCurious \nCase \nof \nBenjamin \nButton \n(2008) \n- \nPitt \nplayed \nthe \ntitle \ncharacter, \na \nman \nwho \nages \nin \nreverse.\n\n8. \nInglourious \nBasterds \n(2009) \n- \nPitt \nstarred \nas \nLt. \nAldo \nRaine, \na \ntough \nand \ncharismatic \nleader \nof \na \nteam \nof \nJewish-American \nguerrilla \nfighters.\n\n9. \nThe \nTree \nof \nLife \n(2011) \n- \nPitt \nplayed \nthe \nrole \nof \nMr. \nO'Brien, \na \ncomplex \nand \ntroubled \nfather.\n\n10. \nAd \nAstra \n(2019) \n- \nPitt \nstarred \nas \nastronaut \nRoy \nMcBride, \nwho \nembarks \non \na \nmission \nto \nfind \nhis \nmissing \nfather.\n\n\nPitt \nhas \nreceived \nnumerous \nawards \nand \nnominations \nfor \nhis \nperformances, \nincluding \ntwo \nAcademy \nAward \nnominations \nfor \nBest \nActor. \nHe \nhas \nalso \nbeen \nrecognized \nfor \nhis \nwork \nas \na \nproducer, \nwith \ncredits \non \nfilms \nlike \nThe \nDeparted, \n12 \nYears \na \nSlave, \nand \nMoonlight, \nall \nof \nwhich \nwon \nthe \nAcademy \nAward \nfor \nBest \nPicture.\n\n\nIn \naddition \nto \nhis \nfilm \nwork, \nPitt \nis \nknown \nfor \nhis \nhigh-profile \nrelationships, \nincluding \nhis \nmarriages \nto \nJennifer \nAniston \nand \nAngelina \nJolie. \nHe \nis \nalso \na \ndevoted \nphilanthropist, \nsupporting \nvarious \ncauses, \nsuch \nas \nthe \nMake \nIt \nRight \nfoundation, \nwhich \nhe \nco-founded \nto \nhelp \nrebuild \nhomes \nin \nNew \nOrleans \nafter \nHurricane \nKatrina.\n\n\nOverall,\n\n"
     ]
    }
   ],
   "source": [
    "from langchain_databricks import ChatDatabricks\n",
    "\n",
    "# You can play with max_tokens to define the length of the response\n",
    "llm_llama = ChatDatabricks(endpoint=\"databricks-meta-llama-3-3-70b-instruct\", max_tokens = 500)\n",
    "\n",
    "for chunk in llm_llama.stream(\"Who is Brad Pitt?\"):\n",
    "    print(chunk.content, end=\"\\n\", flush=True)"
   ]
  },
  {
   "cell_type": "markdown",
   "metadata": {
    "application/vnd.databricks.v1+cell": {
     "cellMetadata": {},
     "inputWidgets": {},
     "nuid": "b3bb1fdb-fd17-4f5d-aed1-9e60b9a19b0c",
     "showTitle": false,
     "tableResultSettingsMap": {},
     "title": ""
    }
   },
   "source": [
    "### Retriever\n",
    "\n",
    "Retrievers accept a string as input and return the list of documents. They are mainly used for retrieving external data and passing it to the model for generating response. Typically, retrievers don't use LLMs instead they are using similarity search under the hood to find the most similar documents. There are various types of retrievers such as *document retrievers* and *vector store retrievers*. The [list of supported retrievers](https://python.langchain.com/v0.2/docs/integrations/retrievers/) can be found on LangChain documentation. \n",
    "\n",
    "In the next section of the demo, we will use **Databricks Vector Search** as retriever to fetch documents by input query.\n",
    "\n",
    "For now, let's try a simple **Wikipedia retriever**."
   ]
  },
  {
   "cell_type": "code",
   "execution_count": 0,
   "metadata": {
    "application/vnd.databricks.v1+cell": {
     "cellMetadata": {
      "byteLimit": 2048000,
      "rowLimit": 10000
     },
     "inputWidgets": {},
     "nuid": "cf02a279-911c-427c-8040-db8cbb90cd6f",
     "showTitle": false,
     "tableResultSettingsMap": {},
     "title": ""
    }
   },
   "outputs": [
    {
     "output_type": "stream",
     "name": "stdout",
     "output_type": "stream",
     "text": [
      "page_content='William Bradley Pitt (born December 18, 1963) is an American actor and film producer. He is the recipient of various accolades, including two Academy Awards, two British Academy Film Awards, two Golden Globe Awards, and a Primetime Emmy Award. One of the most influential celebrities, Pitt appeared on Forbes' annual Celebrity 100 list  from 2006 to 2008, and the Time 100 list in 2007. His films as a leading actor have grossed over $6.9 billion worldwide.\nPitt first gained recognition as a cowboy hitchhiker in the Ridley Scott road film Thelma & Louise (1991). Pitt emerged as a star taking on leading man roles in films such as the drama A River Runs Through It (1992), the western Legends of the Fall (1994), the horror film Interview with the Vampire (1994), the crime thriller Seven (1995), and the cult film Fight Club (1999). Pitt found greater commercial success starring in Steven Soderbergh's heist film Ocean's Eleven (2001), and reprised his role in its sequels. He cemented his leading man status starring in blockbusters such as the historical epic Troy (2004), the romantic crime film Mr. & Mrs. Smith (2005), the horror film World War Z (2013), and the action film Bullet Train (2022).\nPitt won the Academy Award for Best Supporting Actor for playing a stuntman in Quentin Tarantino's Once Upon a Time in Hollywood (2019). He was Oscar-nominated for his roles in the science fiction drama 12 Monkeys (1995), the fantasy romance The Curious Case of Benjamin Button (2008) and the sports drama Moneyball (2011). He also starred in acclaimed films such as Babel (2006), The Assassination of Jesse James by the Coward Robert Ford (2007), Burn After Reading (2008), Inglourious Basterds (2009), The Tree of Life (2011), and The Big Short (2015).\nIn 2001, Pitt co-founded the production company Plan B Entertainment. As a producer he won the Academy Award for Best Picture for 12 Years a Slave (2013) and was nominated for Moneyball (2011) and The Big Short (2015). Pitt was named People's Sexiest Man Alive in 1995 and 2000.\n\n\n== Early life ==\nWilliam Bradley Pitt was born on December 18, 1963, in Shawnee, Oklahoma, to William Alvin Pitt, the proprietor of a trucking company, and Jane Etta (née Hillhouse), a school counselor. The family soon moved to Springfield, Missouri, where he lived together with his younger siblings, Douglas Pitt (born 1966) and Julie (née Pitt) Neal (born 1969). Born into a conservative Christian household, he was raised as Southern Baptist and later \"oscillate[d] between agnosticism and atheism\". He later reconciled his belief in spirituality. Pitt has described Springfield as \"Mark Twain country, Jesse James country\", having grown up with \"a lot of hills, a lot of lakes\".\nPitt attended Kickapoo High School, where he was a member of the golf, swimming, and tennis teams. He participated in the school's Key and Forensics clubs, in school debates, and in musicals. Following his graduation from high school, Pitt enrolled in the University of Missouri in 1982, majoring in journalism with a focus on advertising. As graduation approached, Pitt did not feel ready to settle down. He loved films—\"a portal into different worlds for me\"—and, since films were not made in Missouri, he decided to go to where they were made. Two weeks short of completing the coursework for a degree, Pitt left the university and moved to Los Angeles, where he took acting lessons and worked odd jobs. He has named Gary Oldman, Sean Penn, and Mickey Rourke as his early acting heroes.\n\n\n== Career ==\n\n\n=== Early work (1987–1993) ===\nWhile struggling to establish himself in Los Angeles, Pitt took lessons from acting coach Roy London. His acting career began in 1987, with uncredited parts in the films No Way Out (1987), No Man's Land (1987) and Less than Zero (1987). In May 1987, he made his television debut in a two-episode role on the NBC soap opera Another World. In November of the same year, Pitt had a guest appearance on the CBS sitcom Trial and Error and the' metadata={'title': 'Brad Pitt', 'summary': \"William Bradley Pitt (born December 18, 1963) is an American actor and film producer. He is the recipient of various accolades, including two Academy Awards, two British Academy Film Awards, two Golden Globe Awards, and a Primetime Emmy Award. One of the most influential celebrities, Pitt appeared on Forbes' annual Celebrity 100 list  from 2006 to 2008, and the Time 100 list in 2007. His films as a leading actor have grossed over $6.9 billion worldwide.\\nPitt first gained recognition as a cowboy hitchhiker in the Ridley Scott road film Thelma & Louise (1991). Pitt emerged as a star taking on leading man roles in films such as the drama A River Runs Through It (1992), the western Legends of the Fall (1994), the horror film Interview with the Vampire (1994), the crime thriller Seven (1995), and the cult film Fight Club (1999). Pitt found greater commercial success starring in Steven Soderbergh's heist film Ocean's Eleven (2001), and reprised his role in its sequels. He cemented his leading man status starring in blockbusters such as the historical epic Troy (2004), the romantic crime film Mr. & Mrs. Smith (2005), the horror film World War Z (2013), and the action film Bullet Train (2022).\\nPitt won the Academy Award for Best Supporting Actor for playing a stuntman in Quentin Tarantino's Once Upon a Time in Hollywood (2019). He was Oscar-nominated for his roles in the science fiction drama 12 Monkeys (1995), the fantasy romance The Curious Case of Benjamin Button (2008) and the sports drama Moneyball (2011). He also starred in acclaimed films such as Babel (2006), The Assassination of Jesse James by the Coward Robert Ford (2007), Burn After Reading (2008), Inglourious Basterds (2009), The Tree of Life (2011), and The Big Short (2015).\\nIn 2001, Pitt co-founded the production company Plan B Entertainment. As a producer he won the Academy Award for Best Picture for 12 Years a Slave (2013) and was nominated for Moneyball (2011) and The Big Short (2015). Pitt was named People's Sexiest Man Alive in 1995 and 2000.\", 'source': 'https://en.wikipedia.org/wiki/Brad_Pitt'}\n"
     ]
    }
   ],
   "source": [
    "from langchain_community.retrievers import WikipediaRetriever\n",
    "retriever = WikipediaRetriever()\n",
    "docs = retriever.invoke(input=\"Brad Pitt\")\n",
    "print(docs[0])"
   ]
  },
  {
   "cell_type": "markdown",
   "metadata": {
    "application/vnd.databricks.v1+cell": {
     "cellMetadata": {},
     "inputWidgets": {},
     "nuid": "aeca6ff2-e1d7-425c-84df-5a1f4d4f738b",
     "showTitle": false,
     "tableResultSettingsMap": {},
     "title": ""
    }
   },
   "source": [
    "### Tools\n",
    "\n",
    "Tools are functions that can be invoked in the chain. Tools has *input parameters* and a *function* to run. The [list of supported tools](https://python.langchain.com/v0.2/docs/integrations/tools/) can be found on LangChain documentation. \n",
    "\n",
    "Here, we have a Youtube search tool. The tool's `description` defines why a tool can be used and the `args` defines what input arguments can be passed to the tool."
   ]
  },
  {
   "cell_type": "code",
   "execution_count": 0,
   "metadata": {
    "application/vnd.databricks.v1+cell": {
     "cellMetadata": {
      "byteLimit": 2048000,
      "rowLimit": 10000
     },
     "inputWidgets": {},
     "nuid": "0a9c5907-c405-421f-a87b-b87c3d38a9c2",
     "showTitle": false,
     "tableResultSettingsMap": {},
     "title": ""
    }
   },
   "outputs": [
    {
     "output_type": "execute_result",
     "data": {
      "text/plain": [
       "\"['https://www.youtube.com/watch?v=5muQK7CuFtY&pp=ygUXQnJhZCBQaXR0IG1vdmllIHRyYWlsZXI%3D', 'https://www.youtube.com/watch?v=Jlp94-C31cY&pp=ygUXQnJhZCBQaXR0IG1vdmllIHRyYWlsZXLSBwkJhAkBhyohjO8%3D']\""
      ]
     },
     "execution_count": 12,
     "metadata": {},
     "output_type": "execute_result"
    }
   ],
   "source": [
    "from langchain_community.tools import YouTubeSearchTool\n",
    "tool = YouTubeSearchTool()\n",
    "tool.run(\"Brad Pitt movie trailer\")"
   ]
  },
  {
   "cell_type": "code",
   "execution_count": 0,
   "metadata": {
    "application/vnd.databricks.v1+cell": {
     "cellMetadata": {
      "byteLimit": 2048000,
      "rowLimit": 10000
     },
     "inputWidgets": {},
     "nuid": "60c0715d-aca2-43cf-bc79-992a48b353a7",
     "showTitle": false,
     "tableResultSettingsMap": {},
     "title": ""
    }
   },
   "outputs": [
    {
     "output_type": "stream",
     "name": "stdout",
     "output_type": "stream",
     "text": [
      "search for youtube videos associated with a person. the input to this tool should be a comma separated list, the first part contains a person name and the second a number that is the maximum number of video results to return aka num_results. the second part is optional\n{'query': {'title': 'Query', 'type': 'string'}}\n"
     ]
    }
   ],
   "source": [
    "print(tool.description)\n",
    "print(tool.args)"
   ]
  },
  {
   "cell_type": "markdown",
   "metadata": {
    "application/vnd.databricks.v1+cell": {
     "cellMetadata": {},
     "inputWidgets": {},
     "nuid": "84505133-457c-4d74-aa14-7bddaca50185",
     "showTitle": false,
     "tableResultSettingsMap": {},
     "title": ""
    }
   },
   "source": [
    "### Chaining\n",
    "\n",
    "One of the important features of these components is the ability to **chain** them together. Let's connect the LLM with the prompt."
   ]
  },
  {
   "cell_type": "code",
   "execution_count": 0,
   "metadata": {
    "application/vnd.databricks.v1+cell": {
     "cellMetadata": {
      "byteLimit": 2048000,
      "rowLimit": 10000
     },
     "inputWidgets": {},
     "nuid": "a917d20f-fca0-451e-8b78-18fa58a94dc1",
     "showTitle": false,
     "tableResultSettingsMap": {},
     "title": ""
    }
   },
   "outputs": [
    {
     "output_type": "stream",
     "name": "stdout",
     "output_type": "stream",
     "text": [
      "A great choice! One of the most iconic romance movies featuring Brad Pitt is \"Meet Joe Black\" (1998). In this film, Brad Pitt plays the role of Joe Black, a personification of Death who takes the form of a young man to learn about human life.\n\nThe movie follows the story of Bill Parrish (played by Anthony Hopkins), a wealthy and successful businessman who is about to turn 65. Joe Black (Brad Pitt) appears to Bill and informs him that he has come to collect his soul. However, Bill is not ready to die and makes a deal with Joe: in exchange for a few more days of life, Bill will teach Joe about the human experience.\n\nAs Joe navigates the world of humans, he falls in love with Bill's daughter, Susan (played by Claire Forlani). The romance between Joe and Susan is a beautiful and poignant aspect of the film, as Joe experiences the joys and sorrows of human emotions for the first time.\n\nThe movie explores themes of love, mortality, and the meaning of life, and features a strong performance from Brad Pitt as the charming and curious Joe Black. The chemistry between Pitt and Forlani is undeniable, and their romance is a highlight of the film.\n\n\"Meet Joe Black\" is a unique and captivating romance movie that combines elements of drama, comedy, and fantasy. If you're a fan of Brad Pitt or enjoy romantic movies with a twist, this film is definitely worth watching!\n"
     ]
    }
   ],
   "source": [
    "from langchain_core.output_parsers import StrOutputParser\n",
    "\n",
    "chain = prompt_template | llm_llama | StrOutputParser()\n",
    "print(chain.invoke({\"genre\":\"romance\", \"actor\":\"Brad Pitt\"}))"
   ]
  },
  {
   "cell_type": "markdown",
   "metadata": {
    "application/vnd.databricks.v1+cell": {
     "cellMetadata": {},
     "inputWidgets": {},
     "nuid": "001cfbe4-4b6e-483a-8dcb-2a6ad6c9fb4d",
     "showTitle": false,
     "tableResultSettingsMap": {},
     "title": ""
    }
   },
   "source": [
    "## Build a Multi-stage Chain"
   ]
  },
  {
   "cell_type": "markdown",
   "metadata": {
    "application/vnd.databricks.v1+cell": {
     "cellMetadata": {},
     "inputWidgets": {},
     "nuid": "23148863-4ad7-4733-b5d6-ccfc651d14ca",
     "showTitle": false,
     "tableResultSettingsMap": {},
     "title": ""
    }
   },
   "source": [
    "### Enable MLflow Auto-Log\n",
    "\n",
    "MLflow has support for auto-logging LangChain models. Auto-logging is enabled by default. If not enabled, we would enable auto-logging as below."
   ]
  },
  {
   "cell_type": "code",
   "execution_count": 0,
   "metadata": {
    "application/vnd.databricks.v1+cell": {
     "cellMetadata": {
      "byteLimit": 2048000,
      "rowLimit": 10000
     },
     "inputWidgets": {},
     "nuid": "020aafdc-f529-4fc5-94ba-0206603c77b3",
     "showTitle": false,
     "tableResultSettingsMap": {},
     "title": ""
    }
   },
   "outputs": [],
   "source": [
    "import mlflow\n",
    "mlflow.langchain.autolog()"
   ]
  },
  {
   "cell_type": "markdown",
   "metadata": {
    "application/vnd.databricks.v1+cell": {
     "cellMetadata": {},
     "inputWidgets": {},
     "nuid": "341d41a9-41b4-404d-a092-eac6ea8fdb92",
     "showTitle": false,
     "tableResultSettingsMap": {},
     "title": ""
    }
   },
   "source": [
    "### Create a Vector Store\n",
    "\n",
    "This course does not cover vector stores in depth, as they fall outside its scope. For a comprehensive understanding of vector stores, including the Databricks Vector Store, please refer to the **Generative AI Solution Development** course. \n",
    "\n",
    "**🚨IMPORTANT: Vector Search endpoints must be created before running the rest of the demo. These are already created for you in Databricks Lab environment.**"
   ]
  },
  {
   "cell_type": "code",
   "execution_count": 0,
   "metadata": {
    "application/vnd.databricks.v1+cell": {
     "cellMetadata": {
      "byteLimit": 2048000,
      "rowLimit": 10000
     },
     "inputWidgets": {},
     "nuid": "ff2e04cd-e8cd-49c6-a7df-d7c97bcf4f61",
     "showTitle": false,
     "tableResultSettingsMap": {},
     "title": ""
    }
   },
   "outputs": [
    {
     "output_type": "stream",
     "name": "stdout",
     "output_type": "stream",
     "text": [
      "Assigned Vector Search endpoint name: vs_endpoint_2.\n"
     ]
    }
   ],
   "source": [
    "# Assign VS search endpoint by username\n",
    "vs_endpoint_prefix = \"vs_endpoint_\"\n",
    "\n",
    "vs_endpoint_name = vs_endpoint_prefix+str(get_fixed_integer(DA.unique_name(\"_\")))\n",
    "print(f\"Assigned Vector Search endpoint name: {vs_endpoint_name}.\")\n",
    "\n",
    "# Source table and VS index table names\n",
    "vs_index_table_fullname = f\"{DA.catalog_name}.{DA.schema_name}.dais_embeddings\"\n",
    "source_table_fullname = f\"{DA.catalog_name}.{DA.schema_name}.dais_text\""
   ]
  },
  {
   "cell_type": "markdown",
   "metadata": {
    "application/vnd.databricks.v1+cell": {
     "cellMetadata": {},
     "inputWidgets": {},
     "nuid": "8d1452de-4956-449a-b5c0-b997cb9b9c22",
     "showTitle": false,
     "tableResultSettingsMap": {},
     "title": ""
    }
   },
   "source": [
    "The dataset that we will be using in this module is already created in the classroom setup script. Let's have a quick look at the dataset.\n",
    "\n",
    "Then, we will create a vector store index and store embeddings there."
   ]
  },
  {
   "cell_type": "code",
   "execution_count": 0,
   "metadata": {
    "application/vnd.databricks.v1+cell": {
     "cellMetadata": {
      "byteLimit": 2048000,
      "rowLimit": 10000
     },
     "inputWidgets": {},
     "nuid": "c449756d-edca-4236-988b-ff587dba673f",
     "showTitle": false,
     "tableResultSettingsMap": {},
     "title": ""
    }
   },
   "outputs": [
    {
     "output_type": "display_data",
     "data": {
      "text/html": [
       "<style scoped>\n",
       "  .table-result-container {\n",
       "    max-height: 300px;\n",
       "    overflow: auto;\n",
       "  }\n",
       "  table, th, td {\n",
       "    border: 1px solid black;\n",
       "    border-collapse: collapse;\n",
       "  }\n",
       "  th, td {\n",
       "    padding: 5px;\n",
       "  }\n",
       "  th {\n",
       "    text-align: left;\n",
       "  }\n",
       "</style><div class='table-result-container'><table class='table-result'><thead style='background-color: white'><tr><th>Title</th><th>Abstract</th><th>id</th></tr></thead><tbody><tr><td>Nebula: The Journey of Scaling Instacart’s Data Pipelines with Apache Spark™ and Lakehouse</td><td>Instacart has gone through immense growth during the pandemic and the trend continues. Instacart ads is no exception in this growth story. We have launched many new product lines including display and video ads covering the full advertising funnel to address the increasing demand of our retail partners. We have built advanced models to auto-suggest optimal bidding to increase the ROI for our CPG partners. Advertisers’ trust is the utmost priority and thus the quest to build a top-class ads measurement platform.\n",
       " \n",
       " Ads data processing requires complex data verifications to update ads serving stats. In ETL pipelines these were implemented through files containing thousands of lines of raw SQL which were hard to scale, test, and iterate upon. Our data engineers used to spend hours testing small changes due to a lack of local testing mechanisms. \n",
       " \n",
       " These pain points stress our need for better tools. After some research, we chose Apache Spark™ as our preferred tool to rebuild ETLs, and the Databricks platform made this move easier. In this presentation, I will share our journey to move our pipelines to Spark and Delta Lake on Databricks. With spark, scala, and delta we solved many problems which were slowing the team’s productivity. Some key areas I will cover include:\n",
       " - Modular and composable code\n",
       " - Unit testing framework\n",
       " - Incremental event processing with spark structured streaming \n",
       " - Granular resource tuning for better performance and cost efficacy\n",
       " \n",
       " Other than the domain business logic, the problems discussed here are quite common for performing data processing at scale. I would be glad to have the opportunity to share our learning and am hopeful that it will benefit others who are going through similar growth challenges or migrating to Lakehouse.</td><td>0</td></tr><tr><td>Satellite Imaginary Data Processing Using Apache Spark™ and H3 Geospatial Indexing System</td><td>Agriculture is a complex ecosystem. Understanding Ag data around soil metrics, weather and historical crop production is a key to adopt sustainable practices which help farmers to enhance their profitability and soil health. As these datasets are huge and disparate in nature, finding a standard unit of analysis and bringing all the data to a common granularity is challenging. By leveraging the distributed data processing capabilities of Apache Spark™ and h3 geospatial indexing system, created a hexagonal grid and mapped all the data sets using h3 index. This gave us an ability to join all the datasets together and helped us in deriving more insights. This session will share our learnings and experiences with the Spark community.</td><td>1</td></tr><tr><td>From Snowflake to Enterprise-Scale Apache Spark™</td><td>Akamai mPulse is a real user monitoring (RUM) solution that delivers real-time web performance analytics to Akamai customers through dashboards, alerting, reporting and data science. The architecture of mPulse relies on a combination of public and private cloud-based services, such as Amazon AWS, Microsoft Azure and the Snowflake data warehouse. Snowflake has provided the core data warehousing needs as the product has grown at scale along with Akamai’s customers.\n",
       " \n",
       " The engineering team at mPulse has been re-architecting the system to migrate away from Snowflake to an internal enterprise-scale Apache Spark™  solution that Akamai has been developing in-house to improve performance and save on cost. In the first half of the talk, we’ll discuss how the mPulse team made the decision to migrate, the challenges we’ve seen and how Spark is suiting the product's needs.\n",
       " \n",
       " In the second half of the talk, we’ll discuss the details of the Spark-based infrastructure. Akamai data warehouse (a.k.a Asgard) is a Spark-based solution running on the Azure cloud. We will describe the internal and unique technologies and characteristics of the solution that enable it to outperform Snowflake's offering both from a cost and performance perspective. We will share our experience on how to:\n",
       " \n",
       " * Run Spark on K8s at scale while supporting multi-tenancy and resource isolation\n",
       " * Handle X100 queries per second on a single Spark application with sub-second query latency\n",
       " * Protect Spark application from misbehaving users \n",
       " * Optimize SQL-based queries</td><td>2</td></tr><tr><td>The Future of Data Orchestration: Asset-Based Orchestration</td><td>Data orchestration is a core component for any batch data processing platform and we’ve been using patterns that haven't changed since the 1980s. \n",
       " \n",
       " In this session, I’ll be introducing a new pattern and way of thinking for data orchestration known as asset-based orchestration, with data freshness sensors to trigger pipelines. I will demo this new pattern using popular tools of the modern data stack - dbt, airbyte, dagster, and databricks.</td><td>3</td></tr><tr><td>Photon for Dummies: How Does this New Execution Engine Actually Work?</td><td>Did you finish the Photon whitepaper and think, wait, what? I know I did. Unfortunately, it’s my job to understand it, explain it, and then use it.\n",
       " \n",
       " If your role involves using Apache Spark™ on Databricks, then you need to know about Photon and where to use it. \n",
       " \n",
       " Join me, chief dummy, nay *supreme* dummy, as I break down this whitepaper into easy to understand explanations that don’t require a computer science degree. Together we will unravel mysteries such as:\n",
       " - Why is a Java Virtual Machine the current bottleneck for spark enhancements?\n",
       " - What does vectorized even mean? And how was it done before?\n",
       " - Why is the relationship status between Spark and Photon 'It’s complicated'?\n",
       " \n",
       " In this seession, we’ll start with the basics of Apache Spark, the details we pretend to know and where those performance cracks were starting to show through. Only then will we start to look at Photon, how it’s different, where the clever design choices are and how you can make the most of this in your own workloads. \n",
       " \n",
       " I’ve spent over 50 hours going over the paper in excruciating detail, every reference, and in some instances, the references of the references so that you don’t have to. \n",
       " \n",
       " </td><td>4</td></tr><tr><td>Monitoring Delta Live Tables</td><td>In this session we will share how Volvo Group monitors Databricks jobs and DLTs to stay ahead of the curve. Volvo Group uses Databricks for - amongst others - material planning. Based on live input from warehouse systems, the system predicts which orders to place with the suppliers to ensure the availability of spare parts and keep the trucks running. Since this is a critical component, with reverse ETL feeding the recommendation back into the warehouse systems, strict monitoring to avoid pipeline congestion is required. In this talk I will:\n",
       " * Explain a vision of data quality (deliver trustworthy data in time); which metrics to set up to monitor data quality\n",
       " * How it helps Volvo Group; make the SLA, jointly use with FinOps to improve ingestion pipelines, avoid congestion\n",
       " * Setup; use Jobs API and Databricks SQL workspace to build and consult the monitoring dashboard\n",
       " * Demo\n",
       " * Get notebook from GitHub</td><td>5</td></tr><tr><td>Data Quality: Fast and Slow</td><td>Data quality: the topic du jour. Gartner estimates the average business will lose $10M annually due to data quality problems, and every week we hear another cautionary tale of an AI model gone awry. As a result, startups and thought leaders are rushing to solve the visibility problem around data quality. Technology that unifies batch and streaming has massive but overlooked implications for our ability to trust existing data. \n",
       " \n",
       " In this session, I will demonstrate how architectures that can move between batch and incremental processing without changing the storage and API allow us to solve common data trust problems, such as stale data, as well as production ML risks, such as concept drift.\n",
       " \n",
       " This session is for data architects and practitioners. You don't need to be an ML or ETL expert to attend, but an interest in data architecture is critical.</td><td>6</td></tr><tr><td>Taking Your Cloud Vendor to the Next Level: Solving Complex Challenges with Azure Databricks</td><td>Akamai's content delivery network (CDN) processes about 30% of the internet's daily traffic, resulting in a massive amount of data that presents engineering challenges, both internally and with cloud vendors. In this session, we will discuss the barriers faced while building a data infrastructure on Azure, Databricks, and Kafka to meet strict SLAs, hitting the limits of some of our cloud vendors’ services. We will describe the iterative process of re-architecting a massive-scale data platform using the aforementioned technologies. We will also delve into how today, Akamai is able to quickly ingest and make available to customers TBs of data, as well as efficiently query PBs of data and return results within 10 seconds for most queries. This discussion will provide valuable insights for attendees and organizations seeking to effectively process and analyze large amounts of data.</td><td>7</td></tr><tr><td>Unleashing the Power of Interactive Analytics at Scale with Databricks and Delta Lake: Lessons Learned from Building Akamai's Web Security Analytics Product</td><td>Akamai is a leading content delivery network (CDN) and cybersecurity company, operating hundreds of thousands of servers in more than 135 countries worldwide.\n",
       " In this talk, we will share our experiences and lessons learned from building and maintaining the Web Security Analytics (WSA) product, an interactive analytics platform powered by Databricks and Delta Lake, that enables customers to efficiently analyze and take informed action on a high volume of streaming security events. \n",
       " \n",
       " The WSA platform must be able to serve hundreds of queries per minute, scanning hundreds of terabytes of data from a six petabyte data lake, with most queries returning results within ten seconds (for both aggregation queries and needle in a haystack queries).\n",
       " The talk will cover how to use Databricks SQL warehouses and job clusters cost-effectively, and how to improve query performance through the use of tools and techniques such as Delta Lake, Databricks Photon, and partitioning. \n",
       " This talk will be valuable for anyone looking to build and operate a high-performance analytics platform.</td><td>8</td></tr><tr><td>ABN Story: Migrating to Future Proof Data Platform</td><td>ABN AMRO Bank is one of the top leading banks in the Netherlands; it is the 3rd largest bank in the Netherlands by revenue and number when it comes to mortgages within the Netherlands. We have an objective to become a fully data-driven bank and this goal is well supported by our top management.\n",
       " \n",
       " ABN AMRO started its data journey almost seven years ago and has built a data platform off-premises with Hadoop technologies. This data platform has been used by more than 200 data providers, 150 data consumers, and overall more than 3000 Datasets.\n",
       " \n",
       " To become a fully digital bank and address the limitation of the on-premises platform, we needed a future-proof data platform DIAL (digital integration and access layer.) ABN AMRO decided to build an Azure cloud-native data platform with the help of Microsoft and Databricks. Last year this cloud-native platform was ready for our data providers and data consumers. Six months ago we started the journey of migrating all the content from the on-premises data platform to the Azure data platform, this was a very large-scale migration and was achieved in 6 months.\n",
       " \n",
       " In this session, we will focus on two things :\n",
       " 1. Share our strategy for migration from on-premises to a cloud-native platform. \n",
       " 2. Share how we used Databricks products in our data platform and how the Databricks team helped us in the overall migration.\n",
       " \n",
       " </td><td>9</td></tr><tr><td>Simon + Denny Live: Ask Us Anything</td><td>Simon and Denny have been discussing and debating all things Delta, Lakehouse and Apache Spark™ on their regular webshow. Whether you want advice on lake structures, want to hear their opinions on the latest trends and hype in the data world, or you simply have a tech implementation question to throw at two seasoned experts, these two will have something to say on the matter. In their previous shows, Simon and Denny focused on building out a sample lakehouse architecture, refactoring and tinkering as new features came out, but now we're throwing the doors open for any and every question you might have.\n",
       " \n",
       " So if you've had a niggling question and these two can help, this is the session for you. There will be a question submission form shared prior to the event, so the team will be prepped with a whole bunch of topics to talk through. Simon and Denny want to hear YOUR questions, which they can field from a wealth of industry experience, wide ranging community engagement and their differing perspectives as external consultant and internal Databricks respectively. There's also a chance they'll get distracted and go way off track talking about coffee, sci-fi, nerdery or the English weather. It happens.</td><td>10</td></tr><tr><td>Sometimes Less is More: A Deep Dive into the Evolution of a Large, Complex, Real-Time Data Pipeline</td><td>This session will dive into technical detail around one of my complex cybersecurity endpoint detection and response (EDR) data pipelines - which spans multiple industries - that is being joined with an indicator of compromise (IoC) feed. I'll detail the stages we went through in the initial evolution of the pipeline and why it ultimately made more sense to apply less schema structure to it and focus on using a non-obvious partitioning strategy when working with this data source. All code is in Python/Pyspark and uses Delta Live Tables.</td><td>11</td></tr><tr><td>Use Apache Spark™  from Anywhere: Remote connectivity with Spark Connect</td><td>Over the past decade, developers, researchers, and the community at large have successfully built tens of thousands of data applications using Apache Spark™. Since then, use cases and requirements of data applications have evolved. Today, every application, from web services that run in application servers, interactive environments such as notebooks and IDEs, to phones and edge devices such as smart home devices, want to leverage the power of data.\n",
       " \n",
       " However, Spark's driver architecture is monolithic, running client applications on top of a scheduler, optimizer and analyzer. This architecture makes it hard to address these new requirements as there is no built-in capability to remotely connect to a Spark cluster from languages other than SQL.\n",
       " \n",
       " Spark Connect introduces a decoupled client-server architecture for Apache Spark that allows remote connectivity to Spark clusters using the DataFrame API and unresolved logical plans as the protocol. The separation between client and server allows Spark and its open ecosystem to be leveraged from everywhere. It can be embedded in modern data applications, in IDEs, notebooks and programming languages.\n",
       " \n",
       " This session highlights how simple it is to connect to Spark using Spark Connect from any data applications or IDEs. We will do a deep dive into the architecture of Spark Connect and provide an outlook on how the community can participate in the extension of Spark Connect for new programming languages and frameworks bringing the power of Spark everywhere.</td><td>12</td></tr><tr><td>Seven Things You Didn't Know You Can Do with Databricks Workflows</td><td>Databricks workflows has come a long way since the initial days of orchestrating simple notebooks and jar/wheel files. Now we can orchestrate multi-task jobs and create a chain of tasks with lineage and DAG with either fan-in or fan-out among multiple other patterns or even run another Databricks job directly inside another job. Databricks workflows takes its tag: “orchestrate anything anywhere” pretty seriously and is a truly fully-managed, cloud-native orchestrator to orchestrate diverse workloads like Delta Live Tables, SQL, Notebooks, Jars, Python Wheels, dbt, SQL, Apache Spark™, ML pipelines with excellent monitoring, alerting and observability capabilities as well. Basically it is a one-stop product for all orchestration needs for an efficient Lakehouse. And what is even better is, it gives full flexibility of running your jobs in a cloud-agnostic and cloud-independent way and is available across AWS, Azure and GCP. In this talk we will discuss and deep dive on some of the very interesting features and will showcase end-to-end demos of the features which will allow you to take full advantage of Databricks workflows for orchestrating the Lakehouse.</td><td>13</td></tr><tr><td>Using DMS and DLT for Change Data Capture </td><td>[Abstract TBD]</td><td>14</td></tr><tr><td>Deep Dive into the New Features of Apache Spark™  3.4</td><td>In 2022, Apache Spark™ was awarded the prestigious SIGMOD Systems Award, because Spark is the de facto standard for data processing. In this talk, we want to share the latest progress in Apache Spark community. With tremendous contribution from the open-source community, Spark 3.4 managed to resolve in excess of 2,400 Jira tickets. \n",
       " \n",
       " We will talk about the major features and improvements in Spark 3.4. The major updates are Spark Connect, numerous PySpark and SQL language features, engine performance enhancements, as well as operational improvements in Spark UX and error handling.</td><td>15</td></tr><tr><td>Delta Live Tables: A Modern Approach to Data Pipelines</td><td>Data engineers have the difficult task of cleansing complex, diverse data, and transforming it into a usable source to drive data analytics, data science, and machine learning. They need to know the data infrastructure platform in depth, build complex queries in various languages and stitch them together for production. Join this session to learn how Delta Live Tables (DLT) simplifies the complexity of data transformation and ETL. DLT is the first ETL framework to use modern software engineering practices to deliver reliable and trusted data pipelines at any scale. Discover how analysts and data engineers can innovate rapidly with simple pipeline development and maintenance, how to remove operational complexity by automating administrative tasks and gaining visibility into pipeline operations, how built-in quality controls and monitoring ensure accurate BI, data science, and ML, and how simplified batch and streaming can be implemented with self-optimizing and auto-scaling data pipelines.</td><td>16</td></tr><tr><td>Journey Towards Uniting Metastores</td><td>This session will provide a brief overview about Nationwide’s journey towards implementing Unity Catalog at an Enterprise Level. We will cover the following topics.\n",
       " - Identity management structure\n",
       " - Compute framework\n",
       " - Naming standards and usage best practices\n",
       " - And a little bit about how Delta Sharing will help us ingest 3rd party data\n",
       " Unity Catalog has been a core feature towards strengthening Data Lakehouse architecture for multiple business units.</td><td>17</td></tr><tr><td>How CIBC Integrated Purview and Unity Catalog for Our Data Governance Within a Data Mesh Architecture Leveraging the Lakehouse</td><td>This session will focus on our journey to integrate Purview and Unity Catalog for our data governance within data mesh architecture, while leveraging the lakehouse. Our approach is to build four foundational pillars of data mesh that will uphold data management practices based on consumer-driven and domain-centric data sources. \n",
       " Principle 1: decentralized ownership\n",
       " Principle 2: federated governance\n",
       " Principle 3: data as a product\n",
       " Principle 4: self-service infrastructure\n",
       " Native access controls within the self-service infrastructure are enhanced by pushing policy defined access to unity to enable fine-grain control across the data landscape.</td><td>18</td></tr><tr><td>The Future of Data Access Control: Booz Allen Hamilton’s Approach to Securing our Databricks Lakehouse with Immuta</td><td>In this session, I’ll review how we utilize Attribute-Based Access Control (ABAC) to enforce policy via Immuta. I’ll discuss the differences between the ABAC and legacy Role-Based Access Control (RBAC) approaches to control access and how the RBAC approach is not sufficient to keep up with today’s growing big data market. With so much data available, there also comes substantial risk. Data can contain many sensitive data elements, including PII and PHI. Industry leaders like Databricks are pushing the boundaries of data technology, which leads to constantly evolving data use cases. And that’s a good thing! However, the RBAC approach is struggling to keep up with those advancements.\n",
       " So what is RBAC? It’s an approach to data access that permits system access based on the end-user’s role. For legacy systems, it’s meant as a simple but effective approach to securing data. Are you a manager? Then you’ll get access to data meant for managers. This is great for small deployments with clearly defined roles. Here at Booz Allen, we invested in Databricks because we have an environment of over 30k users and billions of rows of data.\n",
       " To mitigate this problem and align with our forward-thinking company standard, we introduced Immuta into our stack. Immuta uses ABAC to allow for dynamic data access control. Users are automatically assigned certain attributes, and access is based on those attributes instead of just their role. This allows for more flexibility and allows data access control to easily scale without the need to constantly map a user to their role. Using attributes, we can write policies in one place and have them applied across all of our data platforms. This makes for a truly holistic data governance approach and provides immediate ROI and time savings for the company.</td><td>19</td></tr><tr><td>Increasing Trust in Your Data: Enabling a Data Governance Program on Databricks Using Unity Catalog and ML-Driven MDM</td><td>As part of Comcast Effectv’s transformation into a completely digital advertising agency, it was key to develop an approach to manage and remediate data quality issues related to customer data so that the sales organization is using reliable data to enable data-driven decision making. Like many organizations, Effectv's customer lifecycle processes are spread across many systems utilizing various integrations between them. This results in key challenges like duplicate and redundant customer data that requires rationalization and remediation. Data is at the core of Effectv’s modernization journey with the intended result of winning more business, accelerating order fulfillment, reducing make-goods and identifying revenue.\n",
       "  \n",
       "In partnership with Slalom Consulting, Comcast Effectv built a traditional lakehouse on Databricks to ingest data from all of these systems but with a twist; they anchored every engineering decision in how it will enable their data governance program. \n",
       "  \n",
       "In this talk, we will touch upon the data transformation journey at Effectv and dive deeper into the implementation of data governance leveraging Databricks solutions such as Delta Lake, Unity Catalog and DB SQL. Key focus areas include how we baked master data management into our pipelines by automating the matching and survivorship process, and bringing it all together for the data consumer via DBSQL to use our certified assets in bronze, silver and gold layers.\n",
       "  \n",
       "By making thoughtful decisions about structuring data in Unity Catalog and baking MDM into ETL pipelines, you can greatly increase the quality, reliability, and adoption of single-source-of-truth data so your business users can stop spending cycles on wrangling data and spend more time developing actionable insights for your business.</td><td>20</td></tr><tr><td>Activate Your Lakehouse with Unity Catalog</td><td>Building a Lakehouse is straightforward today thanks to many open-source technologies and Databricks. However, it can be taxing to extract value from Lakehouses as they grow in size without robust data operations. Join us to learn how YipitData uses the Unity Catalog to streamline data operations and discover best practices to scale your own Lakehouse.\n",
       " \n",
       " At YipitData, our 15+ petabyte Lakehouse is a self-service data platform built with Databricks and AWS, supporting analytics for a 250+ data team. We will share how leveraging Unity Catalog accelerates our mission to help financial institutions and corporations leverage alternative data by:\n",
       " \n",
       " - Enabling clients to universally access our data through a spectrum of channels, including Sigma, Delta Sharing, and multiple clouds \n",
       " - Fostering collaboration across internal teams using a data mesh paradigm that yields rich insights\n",
       " - Strengthening the integrity and security of data assets through ACLs, data lineage, audit logs, and further isolation of AWS resources\n",
       " - Reducing the cost of large tables without downtime through automated data expiration and ETL optimizations on managed delta tables\n",
       " \n",
       " Through our migration to Unity Catalog, we have gained tactics and philosophies to seamlessly flow our data assets internally and externally. Data platforms need to be value-generating, secure, and cost-effective in today's world. We are excited to share how Unity Catalog delivers on this and helps you get the most out of your Lakehouse.</td><td>21</td></tr><tr><td>Self Service Data Analytics and governance at enterprise scale with unity catalog</td><td>This session focuses on one of the first Unity Catalog implementations for a large-scale enterprise. In this scenario, a cloud scale analytics platform with 7500 active users based on the lakehouse approach is used. In addition, there is potential for 1500 further users who are subject to special governance rules. They are consuming 600+TB of data stored in Delta Lake - continuously growing at more than 1TB per day. This might grow due to local country data.\n",
       " Therefore, the existing data platform must be extended to enable users to combine global and local data from their countries. A new data management was required, which reflects the strict information security rules at a need to know base. Core requirements are: read only from global data, write into local and share the results.\n",
       " Due to a very pronounced information security awareness and a lack of the technological possibilities it was not possible to interdisciplinary analyze and exchange data so easy or at all so far. Therefore, a lot of business potential and gains could not be identified and realized.\n",
       " With the new developments in the technology used and the basis of the Lakehouse approach, thanks to Unity Catalog, we were able to develop a solution that could meet high requirements for security and process. And enables globally secured interdisciplinary data exchange and analysis at scale.\n",
       " This solution enables the democratization of the data. This results not only in the ability to gain better insights for business management, but also to generate entirely new business cases or products that require a higher degree of data integration and encourage the culture to change.\n",
       " We highlight technical challenges and solutions, present best practices and point out benefits of implementing Unity catalog for enterprises.</td><td>22</td></tr><tr><td>PII Detection at Scale on the Lakehouse</td><td>SEEK is Australia’s largest online employment marketplace and a market leader spanning ten countries across Asia Pacific and Latin America. SEEK provides employment opportunities for roughly 16 million monthly active users and process 25 million candidate applications to listings.\n",
       " \n",
       " Processing millions of resumès involves handling and managing highly sensitive candidate information, usually inputted in a highly unstructured format. With recent high-profile data leaks in Australia, personally identifiable information (PII) protection has become a major focus area for large digital organizations. The first step is detection, and SEEK has developed a custom framework built using HuggingFace transformers fine tuned with nuances around employment. For example, “Software Engineer at Databricks” is not PII, but “CEO at Databricks” is PII. \n",
       " \n",
       " After identifying and anonymizing PII in stream and batch data, SEEK uses Unity Catalog’s data lineage to track PII through their reporting, ETL, and other downstream ML use-cases and govern access control achieving an organization-wide data management capability driven by deep learning and enforcement using Databricks.</td><td>23</td></tr><tr><td>Essential Data Security Strategies for the Modern Enterprise Data Architecture</td><td>Balancing critical data requirements is a 24-7 task for enterprise-level organizations that must straddle the need to open specific gates to enable self-service data access while closing other access points to maintain internal and external compliance. Data breaches can cost U.S. businesses an average of $9.4 million per occurrence; ignoring this leaves organizations vulnerable to severe losses and crippling costs. \n",
       " \n",
       "The 2022 Gartner Hype Cycle for Data Security reports that more and more enterprises are modernizing their data architecture with cloud and technology partners to help them collect, store and manage business data; a trend that does not appear to be letting up.\n",
       " \n",
       "According to Gartner®, “by 2025, 30% of enterprises will have adopted bDSP (Broad Data Security Platform), up from less than 10% in 2021, due to the pent-up demand for higher levels of data security and the rapid increase in product capabilities.\"</td><td>24</td></tr><tr><td> \n",
       "Moving to both a modern data architecture and data-driven culture sets enterprises on the right trajectory for growth</td><td> but it’s important to keep in mind individual public cloud platforms are not guaranteed to protect and secure data. To solve this</td><td>25</td></tr><tr><td>Using Open-Source Tools to Build Privacy-Conscious Data Systems</td><td>With the rapid proliferation of consumer data privacy laws across the world, it is becoming a strict requirement for data organizations to be mindful of data privacy risks. Privacy violation fines are reaching record highs and will only get higher as governments continue to crack down on the runaway abuse of user data. To continue producing value without becoming a liability, data systems must include privacy protections at a foundational level.\n",
       " \n",
       " The most practical way to do this is to enable privacy as code, shifting privacy left and including it as a foundational part of the organization's software development life cycle. The promise of privacy as code is that data organizations can be liberated from inefficient, manual workflows for producing the compliance deliverables their legal teams need, and instead ship at speed with pre-defined privacy guardrails built into the structure of their preferred workflows.\n",
       " \n",
       " Despite being an emerging and complex problem, there are already powerful open source tools available designed to help organizations of all sizes achieve this outcome. Fides is an open source privacy as code tool, written in Python and Typescript, that is engineered to tackle a variety of privacy problems throughout the application lifecycle. The most relevant feature for data organizations is the ability to annotate systems and their datasets with data privacy metadata, thus enabling automatic rejection of dangerous or illegal uses. Fides empowers data organizations to be proactive, not reactive, in terms of protecting user privacy and reducing organizational risk. Moving forward data privacy will need to be top of mind for data teams.</td><td>26</td></tr><tr><td>Leveraging Unity Catalog for Data Governance for Grab’s Use Case</td><td>Grab has been looking for a tool that provides data access to over 2000 users to support our daily operations. This tool should provide granular access control and easily scale to over thousands of users and tables, with data governance and security in mind.\n",
       " \n",
       " Through various evaluations, Grab concluded that Unity Catalog is a good fit that addresses all the requirements of data governance and security. For example, it provides row-level-security (RLS) and dynamic-data-masking (DDM) capabilities (through dynamic views), centralized governance and security at both table and object level. \n",
       " This ensures sensitive PII data is well protected, and we are able to open up tables to a wider audience ensuring only entitled data is shown. More importantly, we are able to meet the required auditing standards.\n",
       " \n",
       " With Unity catalog, we managed to:\n",
       " 1. Build a custom solution that allows users to seamlessly access data with UC.\n",
       " 2. Easily interface and integrate into existing Grab’s in-house entitlement system to translate access requirements, unifying the end-to-end user experience for requesting data access permission. \n",
       " 3. Extend UC’s capability by leveraging existing UC APIs and Databricks workflows to easily automate administrative tasks. For example, we have fully automated the creation of RLS and DDM views on-the-fly.\n",
       " 4. Provide out of the box, comprehensive auditing capabilities easily.\n",
       " \n",
       " As a result, we managed to achieve this in a short period of time to support over 2000 users to achieve better governance and significant cost savings with an ROI of about 2.7x</td><td>27</td></tr><tr><td>Unity Catalog: Flexibility to Fit Your Organization</td><td>Databricks Unity Catalog provides the flexibility to meet the needs of any-sized organization, from startups to companies the size of Nike. \n",
       " \n",
       " Unity Catalog and lakehouse architecture have been chosen by Nike to store and process all of Nike's data. Unity Catalog has resolved systemic challenges in the Data Lake, resulting in 1) a simpler and transparent Data Lake, and, 2) allowing for scaled data and analytics use cases with greater efficiency. \n",
       " \n",
       " Designing Unity Catalog for the scale of Nike met the following goals:\n",
       " \n",
       " * Ownership of data: how all data produced in the lake has clear team ownership, communication channels, and accountability\n",
       " * Data environments: accelerated development of pipelines against real Production Data with zero risk\n",
       " * Consistent team semantics: all teams on Lakehouse follow the same semantics, allowing for scaled onboarding and consistent development expectations\n",
       " * Consistent governed data access: a single simplified, governed, data access process for all data in the Lake\n",
       " * Monitoring of unused data and data pipelines: simplified observability through Unity Catalog Data Lineage to quickly identify any unused data or data pipelines, resulting in less storage and compute costs\n",
       " \n",
       " These capabilities are powering Nike as a data driven organization, allowing the company to quickly make informed decisions.</td><td>28</td></tr><tr><td>Automating Sensitive Data (PII/PHI) Detection and Quarantining to a Databricks Clean Room</td><td>Healthcare datasets contain both personally identifiable information (PII) and personal health information (PHI) that needs to be de-identified in order to protect patient confidentiality and ensure HIPAA compliance. This privacy data is easily detected when it’s provided in columns  labeled with names such as “SSN,” First Name,” “Full Name,” and “DOB;” however, it is much harder to detect when it is hidden within columns labeled “Doctor Notes,” “Diagnoses,” or “Comments.” HealthVerity, a leader in the HIPAA-compliant exchange of real-world data (RWD) to uncover patient, payer and genomic insights and power innovation for the healthcare industry, ensures healthcare datasets are de-identified from PII and PHI using elaborate privacy procedures. During this presentation, we will demonstrate how to use a low-code/no-code platform to simplify and automate data pipelines that leverage prebuilt ML models to scan data for PHI/PII leakage and quarantine those rows in Unity Catalog when leakage is identified and move them to a Databricks clean room for analysis.</td><td>29</td></tr><tr><td>Cross-Platform Data Lineage with OpenLineage</td><td>There are more data tools available than ever before, and it's easier to build a pipeline than it's ever been. This has resulted in an explosion of innovation, but it also means that data within today's organizations has become increasingly distributed. It can't be contained within a single brain, a single team, or a single platform. Data lineage can help by tracing the relationships between datasets and providing a map of your entire data universe. OpenLineage provides a standard for lineage collection that spans multiple platforms, including Apache Airflow, Apache Spark™, Flink®, and dbt. This empowers teams to diagnose and address widespread data quality and efficiency issues in real time. In this session, Julien Le Dem from Astronomer will show how to trace data lineage across Apache Spark and Apache Airflow. He will walk through the OpenLineage architecture and provide a live demo of a running pipeline with real-time data lineage.</td><td>30</td></tr><tr><td>Ahold Delhaize's Journey to Implementing Unity Catalog at Scale</td><td>In this session we will explore the steps we took to implement Unity Catalog at Ahold Delhaize's data platform. This powerful tool has completely transformed the way we access and manage data objects, making it easier than ever for our entire organization to find and use the data we need. The catalog brings us a governance layer that allows us to more securely and easily share restricted or confidential data by providing row and column level security per project. But that's not all, we're also setting up the Unity Catalog as a self-service tool, allowing users to easily customize and set up their own catalogs, schema's, views or user groups using simple YAML configuration files. We will cover topics such as:\n",
       " * Architecture where we came from and the improvement Unity Catalog has made\n",
       " * Our self-service way of working by showing code snippets\n",
       " * Our fully automatic deployments by explaining our flow\n",
       " By the end of this talk, you will have a better understanding of the process of implementing Unity Catalog at scale.</td><td>31</td></tr><tr><td>Multi-Cloud Data Governance on the Databricks Lakehouse</td><td>Across industries, a multi-cloud setup has quickly become the reality for large organizations. Multi-cloud introduces new governance challenges as permissions models often do not translate from one cloud to the other and if they do, are insufficiently granular to accommodate privacy requirements and principles of least privilege. This problem can be especially acute for Data and AI workloads that rely on sharing and aggregating large and diverse data sources across business unit boundaries and where governance models need to incorporate assets such as table rows/columns and ML features and models. \n",
       " \n",
       " In this session we will provide guidelines on how best to overcome these challenges for companies that have adopted the Databricks Lakehouse as their collaborative space for data teams across the organization, by exploiting some of the unique product features of the Databricks platform.\n",
       " We will focus on a common scenario: a data platform team providing data assets to two different ML teams, one using the same cloud and the other one using a different cloud. We will explain the step-by-step setup of a unified governance model by leveraging the following components and conventions:\n",
       " \n",
       " - Unity Catalog for implementing fine-grained access control across all data assets: files in cloud storage, rows and columns in tables and ML features and models\n",
       " - The Databricks Terraform provider to automatically enforce guardrails and permissions across clouds \n",
       " - Account level SSO Integration and identity federation to centralize administer access across workspaces\n",
       " - Delta sharing to seamlessly propagate changes in provider data sets to consumers in near real-time\n",
       " - Centralized audit logging for a unified view on what asset was accessed by whom</td><td>32</td></tr><tr><td>How Comcast Effectv Drives Data Observability with Databricks and Monte Carlo</td><td>Comcast Effectv, the 2,000-employee advertising wing of Comcast, America’s largest telecommunications company, provides custom video ad solutions powered by aggregated viewership data. As a global technology and media company connecting millions of customers to personalized experiences and processing billions of transactions, Comcast Effectv was challenged with handling massive loads of data, monitoring hundreds of data pipelines, and managing timely coordination across data teams. In this talk, Robinson Creighton, Sr. DataOps Lead of Advanced Analytics at Effectv, and Lior Gavish, CTO & co-founder at Monte Carlo, will discuss Comcast Effectv’s journey to building a more scalable, reliable lakehouse and driving data observability at scale with Monte Carlo. This has enabled Effectv to have a single pane of glass view of their entire data environment to ensure consumer data trust across their entire AWS, Databricks, and Looker environment.</td><td>33</td></tr><tr><td>Unity Catalog and Marketplace: Door to a Data Driven Organization</td><td>Being data-driven can help organizations make better decisions, improve efficiency, increase competitiveness, and reduce compliance risks.\n",
       " \n",
       " Organizations expect the workforce to embrace data but at the same time want the process to be governance-driven, auditable, traceable and cost-center based for back charging.\n",
       " \n",
       " Unity Catalog is a tool that helps organizations manage and organize their data assets in a unified manner. By using Unity Catalog, you can create a central repository for all of your data assets, including structured and unstructured data, and provide access to this repository to authorized users within your organization. This can help you build a data-driven organization by enabling easy access to data for analysis and decision-making, and by promoting data governance and data management best practices.\n",
       " When Unity Catalog is made the front door for an organization’s data estate then it enables the organization to unlock the following:\n",
       " Governance-driven data discovery\n",
       " Governance-driven data access\n",
       " Governance-driven ephemeral workspace access\n",
       " Cost center based back charging\n",
       " Auditable and traceable\n",
       " \n",
       " Internal marketplace will help organizations publish and provide access to data within the organization’s workspaces via an out-of-the-box lightweight solution powered by Unity Catalog. \n",
       " \n",
       " Depending on the level of complexity and back charging, isolation requirements, organizations can choose to use the out-of-the-box internal marketplace or build the end-to-end process of publishing, provisioning, destroying, back charging process via Unity Catalog plus Workspace APIs.</td><td>34</td></tr><tr><td>Data Mesh Realization on Databricks: Making Data Engineering and Consumption Self-Service Driven for Data Platforms</td><td>\"Our client, a consulting giant, as part of the famous \"\"Big 4\"\" is creating tax</td><td>35</td></tr><tr><td>Distributing Data Governance: How Unity Catalog Allows for a Collaborative Approach</td><td>As one of the world’s largest content delivery network (CDN) and security solutions provider, Akamai owns thousands of data assets of various shapes and sizes, some even go up to multiple PBs.\n",
       " Several departments within the company leverage Databricks for their data and AI workloads, which means we have over a hundred Databricks workspaces within a single Databricks account, where some of the assets are shared across products, and some are product-specific.\n",
       "  \n",
       " In this presentation, we will describe how to use the capabilities of Unity Catalog to distribute the administration burden between departments, while still maintaining a unified governance model.\n",
       " \n",
       " We will also share the benefits we’ve found in using Unity Catalog, beyond just access management, such as: \n",
       " * Visibility into which data assets we have in the organization\n",
       " * Ability to identify and potentially eliminate duplicate data workloads between departments \n",
       " * Removing boilerplate code for accessing external sources\n",
       " * Increasing innovation of product teams by exposing the data assets in a better, more efficient way</td><td>36</td></tr><tr><td>Unity Catalog at Scale in Retail Data Engineering and Data Science</td><td>Retail data science, insights, and media company 84.51° helps Kroger and other organizations create more personalized and valuable experiences for shoppers. Powered by cutting edge science, we leverage first-party retail data from nearly one out of two US households totaling over 2B transactions a year. Databricks is integral to the data science and machine learning work at 84.51° and manages 35+ PB of first-party customer data across 150+ Databricks workspaces. Before Unity Catalog, this data was structured in a decentralized data mesh which had issues including problematic data sharing, minimal data governance, and no auditing of data extracts. In this session, we will discuss how 84.51° incrementally rolled out Unity Catalog company-wide in a way that involved minimal disruption of existing processes and how UC-enabled solutions solved several real-world problems including:\n",
       " • Being able to migrate an on-prem solution to a Databricks SQL Warehouse with HIPAA auditing and data governance which resulted in reduced on-prem costs and enabled new solutions/products to bring significant new revenue sources. \n",
       " • Leveraging Delta Sharing to eliminate duplication of data and processing and enabling new insights to provide a deeper, more personal approach to customer engagement.\n",
       "Databricks has also been key to the 84.51° Collaborative Cloud, which provides our clients' data scientists a platform that provides clean and ready-to-use transaction and UPC-level data from 60 million households empowering companies to get value out of data science, regardless of where they sit on the readiness spectrum. Unity Catalog will be key to extend the collaborative cloud functionality and cleanroom technology with improved security and governance.</td><td>37</td></tr><tr><td>Lakehouse as a FAIR Platform</td><td>FAIR (findable, accessible, interoperable, reusable) data and data platforms are becoming more and more important in public sector. Lakehouse platform is strongly aligned with these principles. Lakehouse provides tools required to both adhere to FAIR but also to FAIRify data that isn't FAIR compliant. In this session we will cover parts of the lakehouse that enable end users to FAIRify data products, how to build good robust data products and which parts of Lakehouse align to which principles in FAIR. We'll demonstrate how DLT is crucial for data transformations on nonFAIR data, how Unity Catalog unlocks discoverability (F) and governed data access (A), and how marketplace, cleanrooms and Delta Sharing unlock interoperability and data exchange (I and R). All of these concepts are massive enablers for highly regulated industries such as Public Sector. It undeniably important to align Lakehouse to standards that are widely adopted by standards and policy makers and regulators. These principles transcend all industries and all use cases.</td><td>38</td></tr><tr><td>Engineers Shouldn't Write Data Governance Policies</td><td>Controlling permissions for accessing data assets can be messy, time consuming, and usually a combination of both. The teams responsible for creating the business rules that govern who should have access to what data are usually different from the teams responsible for administering the grants to achieve that access. On the other side of the equation, the end user who needs access to a data asset may be left waiting for grants to be made as the decision is passed between teams. That is, if they even know the correct path to getting access in the first place.\n",
       "  \n",
       " Separating the concerns of managing data governance at a business level and implementing data governance at an engineering level is the best way to clarify data access permissions. In practice, this involves building systems to enable data governance enforcement based on business rules, with little to no understanding of the individual system where the data lives. \n",
       " \n",
       " In practice, with a concrete business rule, such as “only users from the finance team should have access to critical financial data,” we want a system that deals only with those constituent concepts. For example, “the data is marked as critical financial” and “the user is a part of the finance team”). By abstracting away any source system components, such as “the tables in the finance schema” and “someone who’s a member of the finance databricks group,” the access policies applied will then model the business rules as closely as possible.\n",
       " \n",
       " This talk will focus on how to establish and align the processes, policies, and stakeholders involved in making this type of system work seamlessly. Sharing the experience and learnings of our team at Instacart, we will aim to help attendees streamline and simplify their data security and access strategies.</td><td>39</td></tr><tr><td>Managing Data Encryption in Apache Spark™</td><td>Sensitive data sets can be encrypted directly by new Apache Spark™  versions (3.2 and higher). Setting a number of configuration parameters and dataframe options will trigger the Apache Parquet modular encryption mechanism that protects select columns with column-specific keys. The upcoming Spark 3.4 version will also support uniform encryption, where all dataframe columns are encrypted with the same key.\n",
       " \n",
       " Spark data encryption is already leveraged by a number of companies to protect personal or business confidential data in their production environments. The main integration effort is focused on key access control and on building a Spark/Parquet plug-in code that can interact with company’s key management service (KMS).\n",
       " \n",
       " In this talk, we will briefly cover the basics of Spark/Parquet encryption usage, and dive into the details of encryption key management that will help in integrating this Spark data protection mechanism in your deployment. You will learn how to run a HelloWorld encryption sample, and how to extend it into a real world production code integrated with your organization’s KMS and access control policies. We will talk about the standard envelope encryption approach to big data protection, the performance-vs-security trade-offs between single and double envelope wrapping, internal and external key metadata storage. We will see a demo, and discuss the new features such as uniform encryption and two-tier management of encryption keys.</td><td>40</td></tr><tr><td>Enabling Data Governance at Enterprise Scale Using Unity Catalog</td><td>For some time, Amgen has been building multiple enterprise platforms on the latest technology with a key focus on tech rationalization, data democratization, overall user experience, increase reusability and cost-effectiveness. One of these platforms is the enterprise data fabric platform. This platform specifically focuses on pulling in data across functions into a single platform building capabilities around the connectedness of data, and access governance.\n",
       " For a while, we have been trying to setup robust data governance capabilities which are simple, yet easy to manage through Databricks. As part of this process we evaluated products like privacera, Immuta, and Okera. While these tools could solve a few immediate needs like managing tables and database level, for the use cases like maintaining governance on highly restricted data domains like EDW(Finance) and Workday(HR), we felt that for the long term we will require a more Databricks native solution because of below reasons:\n",
       " - There were ways to bypass these tools on databricks cluster\n",
       " - Unsupported DBR runtime\n",
       " - Complexity of fine-grained security\n",
       " - Policy management – AWS IAM + Intool policies\n",
       "  To address these challenges, and for large-scale enterprise adoption of our governance capability, we started working on UC integration with our governance processes. Following tech benefits we realized:\n",
       " - Independent of Databricks runtime\n",
       " - Easy fine-grained access control\n",
       " - Eliminated management of IAM roles\n",
       " - Dynamic access control using UC and dynamic views\n",
       " As a result of these technical benefits, we were able to implement fine-grained and complex governance policies around the restricted data set of Amgen including Finance and Workday. At this point we have around 100K objects mapped in the Unity Catalog and growing rapidly.</td><td>41</td></tr><tr><td>Lineage System Table in Unity Catalog</td><td>Unity Catalog provides fully automated data lineage for all workloads in SQL, R, Python, Scala and across all asset types at Databricks. The aggregated view has been available to end users through data explorer and API. In this session, we are excited to share that lineage is available via delta table in their UC metastore. It stores full history of recent lineage records and it is near real time. Additionally, customers can query it through standard SQL interface. With that, customers can get significant operational insights about their workload for impact analysis, troubleshooting, quality assurance, data discovery, and data governance. Together with the system table platform effort, which provides query history, job run operational data, audit logs and more, lineage table will be a critical piece to link all the data asset and entity asset together. It will provide better Lakehouse observability and unification to customers.</td><td>42</td></tr><tr><td>Combining Privacy Solutions to Solve Data Access at Scale</td><td>The trend that has made data easier to collect and analyze, has only aggravated privacy risks. Luckily, a range of privacy technologies have emerged to enable private data management (differential privacy, synthetic data, confidential computing).  In isolation, those technologies have had a limited impact because they did not always bring the 10x improvement expected by data leaders.\n",
       " \n",
       " Combining these privacy technologies has been the real game changer. We will demonstrate that the right mix of technologies brings the optimal balance of privacy and flexibility at the scale of the data warehouse.  We will illustrate this by real-life applications of Sarus in three domains:\n",
       "Healthcare: how to make hospital data available for research at scale in full compliance\n",
       "Finance: how to pool data between several banks to fight criminal transactions\n",
       "Marketing: how to build insights on combined data from partners and distributors\n",
       " \n",
       " The examples will be illustrated using data stored in Databricks and queried using Sarus differential privacy engine.</td><td>43</td></tr><tr><td>Map Your Lakehouse Content with DiscoverX</td><td>An enterprise lakehouse contains many different datasets which are related to different sources and might belong to different business units. \n",
       " These datasets can span across hundreds of tables, and each table has a different schema, and those schemas evolve over time. The Cyber security domain is a good example where datasets come from many different source systems and land in the lakehouse.\n",
       " With such a complex dataset ecosystem, answers to simple questions like “Have we ever detected this IP address?” or “Which columns contain IP addresses?” can become impractical and expensive.\n",
       " DiscoverX can automate the discovery of all columns that might contain specific patterns, (e.g. IP addresses, MAC addresses, fully qualified domain names, etc.) and automatically generate search and indexing queries that span across multiple tables and columns.</td><td>44</td></tr><tr><td>Post-Merger: Implementing Unity Catalog Across Multiple Accounts</td><td>Warner Media and Discovery have recently merged to form Warner Bros Discovery. Owning two Databricks accounts and wanting to maintain their separation, our data governance team has successfully implemented Unity Catalog as our data governance solution across both accounts, allowing our teams to collaboratively and securely use the data assets of two organizations. This session is aimed at sharing that success story, including initial challenges, our approach, our architecture, the actual implementation, and user success post-implementation.</td><td>45</td></tr><tr><td>Advanced Governance with Collibra on Databricks</td><td>Define security policies in Collibra that are seamlessly enforced on Databricks</td><td>46</td></tr><tr><td>How Nestle is Leveraging Unity Catalog for Governance At Scale</td><td>Governance with Unity Catalog across multiple regions, markets, teams and environments at Nestle. Establish data isolation at all levels</td><td>47</td></tr><tr><td>Wrangling Your Security Data: Cybersecurity as a Data Management Problem</td><td>Today, the average Fortune 500 company manages 100+ cybersecurity vendors. The sheer number of enterprise cybersecurity toolsets, each capturing and generating its own data, creates significant data management and data engineering challenges for all enterprises. Because each of these security tools has separate logs, outputs, and databases, it prevents any security team from meaningfully understanding their overall security posture and using their own data effectively. We believe that cybersecurity is fundamentally a data management problem. In this presentation, we will show how treating cybersecurity as a data management problem, and subsequently opening disparate cybersecurity data to queries can help organizations secure their systems and data more effectively. In this presentation, practitioners will walk away understanding the value of modeled and organized security on a data warehouse. We will leverage a real-world use case that shows how Databricks can help solve vulnerability management and end-to-end workflows for security practitioners.</td><td>48</td></tr><tr><td>Lakehouse Architecture to Advance Security Analytics at the Department of State</td><td>In 2023, the Department of State surged forward on implementing a Lakehouse architecture to get faster, smarter, and more effective on cybersecurity log monitoring and incident response. In addition to getting us ahead of federal mandates, this approach promises to enable advanced analytics and machine learning across our highly federated global IT environment while minimizing costs associated with data retention and aggregation. \n",
       " \n",
       " This session will include a high-level overview of the technical and policy challenge and a technical deeper dive on the tactical implementation choices made. We’ll share lessons learned related to governance and securing organizational support, connecting between multiple cloud environments, and standardizing data to make it useful for analytics. \n",
       " \n",
       " And finally, we’ll discuss how the Lakehouse leverages Databricks in multi-cloud environments to promote decentralized ownership of data while enabling strong, centralized data governance practices.</td><td>49</td></tr><tr><td>Engineering Data Lakehouse Systems for the Next Ten Years of Growth</td><td>For most of my professional life, I've dealt with data. As a data practitioner, I developed algorithms to solve real-world problems leveraging machine learning techniques. As an engineer, I led the direction that brought the value of my hands-on machine learning experience into our products and services by building upon cutting-edge and emerging technologies. This experience has taught me that scaling data systems is harder than you might think. \n",
       "  \n",
       " Supporting the operations of scalable data environments poses a challenge greater than the known application-level support due to the complexity of managing data together with the application. Why is data adding so much complexity? Well, data is big, so all systems are now becoming distributed. Data changes and evolves, and it's hard to create repeatable, automated pipelines. Plus, technology is advancing at an alarming rate and changes are messy.\n",
       "  \n",
       " Interested in learning about all the most recent updates in the data space? How does that impact our data systems? In this talk, you will learn about the challenges of product quality, delivery velocity, production monitoring, and outage recovery, see how those can be met using best practices in the tech stack, and develop empathy for those who manage scalable data environments.</td><td>50</td></tr><tr><td>Optimize Your Delta Lake</td><td>Delta tables in Databricks just work. They're so easy to setup to deliver value in your organization. What about all those features and optimization that you can use to super charge your delta lakehouse? \n",
       " \n",
       " In this lighting talk we will discuss structuring, partitioning, optimizing, delta log retention of your Delta Tables all in 15 minutes or less!</td><td>51</td></tr><tr><td>Lakehouses for Data Engineers: What You Need to Consider to Build Efficient ETL Pipelines</td><td>ETL pipelines are ubiquitous in data-warehousing and Lakehouse ecosystem to make business decisions by building raw and derived tables from a plethora of fragmented data. As companies are investing in building data applications for richer user experiences, ETL pipelines need to solve some of the modern-day challenges of helping deliver low-latency analytics. \n",
       " \n",
       " In this lightning talk, we’ll focus on how to build efficient Apache Spark™  ETL pipelines for Lakehouses where you can effectively ingest and utilize streaming data. Will cover details on:\n",
       " - leveraging incrementally processing framework to improve compute efficiency\n",
       " - index data to deliver low-latency analytics\n",
       " - advanced concurrency control mechanisms to improve throughput</td><td>52</td></tr><tr><td>Bringing Data in-House! Behind the New York Jets' Winning Game Plan to Create a Data Lakehouse on Databricks</td><td>On the field, the New York Jets are one of the most recognizable brands in professional sports. Off the field, they’re a small business within a finite market with lots of competition. In order to fuel revenue growth, improve operational efficiencies, and drive fan engagement, the Jets brought its data infrastructure in-house and moved to Databricks. \n",
       " \n",
       " This 40-minute presentation will include a discussion of the New York Jets data journey including its overall business and technical goals, the organization's multiple attempts at building a data stack, what drove the shift to Databricks, its current architectural approach, and the benefits of leveraging Databricks as its cloud data platform. \n",
       " \n",
       " Benefits to data practitioners:\n",
       "  - Learn about the New York Jets data journey and the similarities to other organizations’ data journeys including challenges, build vs. buy, and the decision \n",
       " making processes required to implement a modern data stack\n",
       "  - Discussion around the Data Lakehouse architectural pattern and the steps required to implement this on Databricks\n",
       "  - Identification of the benefits of a customer 360 analysis and process and technologies required to create this record \n",
       "  - Understand the benefits of leveraging Databricks as a cloud data platform \n",
       "  - Highlight future opportunities to leverage Databricks for ML / AI use cases to improve upon current baseline analytics</td><td>53</td></tr><tr><td>Databricks-As-Code: How to Effectively Automate a Secure Lakehouse Using Terraform for Resource Provisioning</td><td>At Rivian, we have automated >95% of our Databricks resource provisioning workflows using an in-house Terraform module, affording us a lean admin team to manage 750+ users. In this talk, we will cover the following elements of our approach and how others can benefit from improved team efficiency.\n",
       " \n",
       " User and service principal management\n",
       " Our permission model on Unity Catalog for data governance\n",
       " Workspace and secrets resource management\n",
       " Managing internal package dependencies using init scripts\n",
       " Facilitating dashboards, SQL queries and their associated permissions\n",
       " Scaling source of truth Petabyte scale Delta Lake table ingestion jobs and workflows</td><td>54</td></tr><tr><td>Real-Time Reporting and Analytics for Construction Data Powered by Delta Lake and DBSQL</td><td>Procore is a construction project management software that helps construction professionals efficiently manage their projects and collaborate with their teams. Our mission is to connect everyone in construction on a global platform. \n",
       " \n",
       " Procore is the system of record for all construction projects. Our customers need to access the data in near real-time for construction insights. Enhanced reporting is a self-service operational reporting module that allows quick data access with consistency to thousands of tables and reports.\n",
       " \n",
       " Procore Data platform rebuilt the module (originally built on the relational database) using Databricks and Delta lake. We used Apache Spark™  streaming to maintain the consistent state on the ingestion side from Kafka and plan to leverage the fully capable functionalities of DBSQL using the serverless SQL warehouse to read the medallion models (built via DBT) in Delta Lake. In addition, the Unity Catalog and the Delta share features helped us share the data across regions seamlessly. This design enabled us to improve the p95 and p99 read time by x% (which were initially timing out).\n",
       " \n",
       "  To learn about the learnings and experience of building a Data Lakehouse architecture, attend this talk.</td><td>55</td></tr><tr><td>Made in Italy: How Barilla Uses Databricks Lakehouse to Optimize its Operations</td><td>Barilla Data2Value digital transformation program democratized data usage. The Databricks centered platform provides BI for a supply chain extended in 100 countries in the world, across 20 factories, >50 logistic hubs, 1000 suppliers, >10.000 B2B clients and >100.000 transports every year. By using metadata-driven and event-driven approaches, Barilla is able to meet the different needs of its 1000 data consumers from top management to operation management with about 50 use cases, consuming TB of data daily and execute more than 150 data pipelines. During the presentation, Barilla digital transformation strategy will be discussed, the platform architecture, the expected evolution as well as the lessons learned along the way with EY. Will be explained how Barilla has reduced the time to insight using Unity Catalog and MLFlow. Mariama Kamanda, a data scientist from the Barilla Acceleration Team, will provide testimony on the impact of Databricks Lakehouse daily journey. Will be explained how Barilla saved M$ every year by improving the factory losses through advanced analytics and machine learning leveraging Databricks.</td><td>56</td></tr><tr><td>Using Lakehouse to Fight Cancer: Ontada’s Journey to Establish a RWD Platform on Databricks Lakehouse</td><td>Ontada, a McKesson business, is an oncology real-world data and evidence, clinical education and provider of technology business dedicated to transforming the fight against cancer. Core to Ontada’s mission is using real-world data (RWD) and evidence generation to improve patient health outcomes and to accelerate life science research. \n",
       " \n",
       " To support its mission, Ontada embarked on a journey to migrate its enterprise data warehouse (EDW) from an on-premise Oracle database to Databricks Lakehouse. This move allows Ontada to now consume data from any source, including structured and unstructured data from its own EHR and genomics lab results, and realize faster time to insight. In addition, using the Lakehouse has helped Ontada eliminate data silos, enabling the organization to realize the full potential of RWD – from running traditional descriptive analytics to extracting biomarkers from unstructured data. \n",
       " \n",
       " The presentation will cover the following topics: \n",
       " - Oracle to Databricks: migration best practices and lessons learned \n",
       " - People, process, and tools: expediting innovation while protecting patient information using Unity Catalog \n",
       " - Getting the most out of the Databricks Lakehouse: from BI to genomics, running all analytics under one platform \n",
       " - Hyperscale biomarker abstraction: reducing the manual effort needed to extract biomarkers from large unstructured data (medical notes, scanned/faxed documents) using spaCY and John Snow Lab NLP libraries \n",
       " \n",
       " Join this session to hear how Ontada is transforming RWD to deliver safe and effective cancer treatment.</td><td>57</td></tr><tr><td>CPG Lakehouse Analytics: Rapidly Implementing Walmart’s Luminate API at the Hershey Company</td><td>Accurate, reliable, and timely data is critical for CPG companies to stay ahead in highly competitive retailer relationships, and for a company like the Hershey Company, the commercial relationship with Walmart is one of the most important. The team at Hershey found themselves with a looming deadline for their legacy analytics services and targeted a migration to the brand new Walmart Luminate API.\n",
       "  \n",
       " Working in partnership with Advancing Analytics, the Hershey Company leveraged a metadata-driven Lakehouse architecture to rapidly onboard the new Luminate API, helping the category management teams to overhaul how they measure, predict, and plan their business operations.\n",
       "  \n",
       " In this session, we will discuss the impact Luminate has had on Hershey's business covering key areas such as sales, supply chain, and retail field execution, and the technical building blocks that can be used to rapidly provision business users with the data they need, when they need it. We will discuss how key technologies enable this rapid approach, with Databricks Autoloader ingesting and shaping our data, Delta Streaming processing the data through the Lakehouse and Databricks SQL providing a responsive serving layer.\n",
       "  \n",
       " The session will be jointly run by Hersheys and Advancing Analytics, with Jordan Donmoyer, manager of Hershey's direct data team and Dan Davies, director of Walmart sales analytics providing the commercial commentary, and Simon Whiteley and Zach Stagers from Advancing Analytics covering the technical journey.</td><td>58</td></tr><tr><td>Building a Minimalistic Open Lakehouse Using Open Source Projects Apache Spark™, Project Nessie and Iceberg</td><td>A Lakehouse architecture is a combination of various components such as Storage, File format, Table format, and Catalog. What truly makes a lakehouse 'open' is data being stored in open-source table & file formats like Iceberg, Delta & Parquet respectively and the technology being open-sourced for easy & quick adoption by the community. Like any new technology, implementation of a lakehouse may seem daunting at first. However, when we break down the architecture to its open components, this becomes easy to adopt & scale.\n",
       " \n",
       " Though this session, the idea is to help data engineers getting their leg into the world of data lakehouses, easily learn & implement it. We will go through a Notebook-style presentation to show beginners how to build a minimalistic functional lakehouse using Apache Spark, Project Nessie & Iceberg.\n",
       " \n",
       " We will talk about:\n",
       " - configuring the 3 different components\n",
       " - creating tables from raw data files\n",
       " - ingesting new data from various sources into the tables, querying it and making updates\n",
       " - time travel, compaction, etc capabilities</td><td>59</td></tr><tr><td>Labcorp Data Platform Journey: From Selection to Go-Live in six months</td><td>Please join with us to learn about the Labcorp data platform transformation from on-premises Hadoop to AWS Databricks Lakehouse. We will share best practices and lessons learned from cloud-native data platform selection, implementation, and migration from Hadoop (with in 6 months) with Unity Catalog. We will share steps taken to retire several legacy on-premises technologies and leverage Databricks native features like Spark streaming, workflows, job pools, cluster policies and Spark JDBC within Databricks platform. Lessons learned in Implementing Unity Catalog and building a security and governance model that scales across applications. Demos and walkthrough’s of batch frameworks, streaming frameworks, data compare tools used across several applications to improve data quality and speed of delivery. Discover how we have improved operational efficiency, resiliency and reduced TCO, and how we scaled building workspaces and associated cloud infrastructure using Terraform provider.</td><td>60</td></tr><tr><td>Deep Dive Into Grammarly's Data Platform</td><td>Grammarly helps 30 million people and 50,000 teams to communicate more effectively. Using the Databricks Lakehouse Platform, we are able to rapidly ingest, transform, aggregate, and query complex data sets from an ecosystem of sources, all governed by Unity Catalog. This presentation overviews Grammarly’s data platform and the decisions that shaped the implementation. We will dive deep into some architectural challenges the Grammarly Data Platform team overcame as we developed a self-service framework for incremental event processing.\n",
       " \n",
       " Our investment in the Lakehouse and Unity Catalog has dramatically improved the speed of our data value chain: making 5 billion events (ingested, aggregated, de-identified, and governed) available to stakeholders (data scientists, business analysts, sales, marketing) and downstream services (feature store, reporting/dashboards, customer support, operations) available within 15 minutes. As a result, we have improved our query cost performance (110% faster at 10% the cost) compared to our legacy system on AWS EMR.\n",
       " \n",
       " I will share architecture diagrams, their implications at scale, code samples, and problems solved and to be solved in a technology-focused discussion about Grammarly’s iterative Lakehouse Data Platform.</td><td>61</td></tr><tr><td>Simplifying Migrations to Lakehouse</td><td>Following on from Perenti Global's successful presentation at the ANZ (Syd) Data and AI summit in Nov 2022, they were asked by Bede Hackney if they would be interested in supporting Databricks events on a bigger stage, ramping up their reference-ability etc... they are confirmed as able to support us at this event and are excited to do so. \n",
       " Link to client presentation noting tweaks to be made upon confirmation of attendance --> https://docs.google.com/presentation/d/1OHMsyFhV-gq6lcVvXqkp-0LY8wS6C6TS/edit#slide=id.p1\n",
       " \n",
       " \n",
       " High level Synopsis:\n",
       " - Challenges with Legacy Platforms \n",
       " - Perenti Databricks Migration Journey\n",
       " - Reimagining Migrations the Databricks Way\n",
       " - The Databricks Migration Methodology & Approach</td><td>62</td></tr><tr><td>Having Your Cake and Eating it Too: How Vizio Built a Next-Generation ACR Data Platform While Lowering TCO</td><td>As the top manufacturer of smart TVs, Vizio uses TV data to drive its business and provide customers with best digital experiences. Our company's mission is to continually improve the viewing experience for our customers, which is why we developed our award-winning automatic content recognition (ACR) platform. When we first built our data platform almost ten years ago, there was no single platform to run a data as a service business, so we got creative and built our own by stitching together different AWS services and a data warehouse. As our business needs and data volumes have grown exponentially over the years, we made the strategic decision to replatform on Databricks Lakehouse, as it was the only platform that could satisfy all our needs out-of-the-box such as BI analytics, real-time streaming, and AI/ML. Now the Lakehouse is our sole source of truth for all analytics and machine learning projects. The technical value of the Databricks Lakehouse platform, such as traditional data warehousing low-latency query processing with complex joins thanks to Photon to using Apache Spark™  structured streaming; analytics and model serving, will be covered in this session as we talk about our path to the Lakehouse.</td><td>63</td></tr><tr><td>From Insights to Recommendations: How SkyWatch Predicts Demand for Satellite Imagery Using Databricks</td><td>SkyWatch is on a mission to democratize earth observation data and make it simple for anyone to use.\n",
       " \n",
       " In this session, you will learn about how SkyWatch aggregates demand signals for EO market and turns them into monetizable recommendations for satellite operators.\n",
       " Skywatch’s head of data engineering, Vincent, and data engineer, Aayush, will share how the team built a serverless architecture that synthesizes customer requests for satellite images and identifies geographic locations with high demand, helping satellite operators maximize revenue and satisfying a broad range of EO data hungry consumers.\n",
       " \n",
       " This session will cover the usage of\n",
       " \n",
       " - Databricks in-built H3 functions \n",
       " - Open Source Mosaic library to process geospatial data\n",
       " - Delta Lake to efficiently store data leveraging optimization techniques like Z-Ordering\n",
       " - Databricks Serverless SQL endpoint to build REST API with AWS Lambda and step functions.\n",
       " - Databricks with AWS serverless architecture (Lambda and step functions)</td><td>64</td></tr><tr><td>Determining When to Use GPU for Your ETL Pipelines at Scale</td><td>Assuming you have hundreds of jobs and/or clusters in your Databricks workspace, what is the best way to determine if those pipelines can take advantage of GPU for speed and/or cost saving? We are presenting NVIDIA GPU Qualification Tool applied at scale to project potential cost saving for your entire workspace.</td><td>65</td></tr><tr><td>Massive Data Processing in Adobe Using Delta Lake:  A Year In</td><td>At Adobe Experience Platform, we ingest TBs of data everyday and manage PBs of data for our customers as part of the unified profile offering. At the heart of this is a bunch of complex ingestion of a mix of normalized and denormalized data with various linkage scenarios power by a central identity linking graph. This helps power various marketing scenarios that are activated in multiple platforms and channels like email, advertisements etc. We will go over how we built a cost effective and scalable data pipeline using Apache Spark™  and Delta Lake and share our experiences after one year in production.\n",
       " \n",
       " - What are we storing?\n",
       " - Multi-source, multi-channel problem\n",
       " - Access pattern to optimize for\n",
       " - Custom high performance query engine\n",
       " - Data representation and nested schema evolution\n",
       " - Performance trade-offs with various formats\n",
       " - Go over anti-patterns used \n",
       " - String FTW\n",
       " - Data manipulation using UDFs \n",
       " - Writer worries and how to wipe them away\n",
       "  - Locking for contention mechanism\n",
       " - Gotchas\n",
       " - Concurrency\n",
       " - Column size\n",
       " - Update frequency\n",
       " - Transaction management for a healthy state\n",
       " - Staging tables FTW \n",
       " - Why we can't live without them\n",
       " - Datalake replication lag tracking\n",
       " - Instrumentation of the data pipeline gives more confidence to the reade\n",
       " - Maintenance jobs\n",
       " - Go over essentials of compaction and vacuuming\n",
       " - Performance time!\n",
       " - What scale are we operating at?\n",
       " - Settings like autoCompact and optimizeWrite\n",
       " - Timings with and without delta\n",
       " - Cost \n",
       "  - Lesson learned and burnt</td><td>66</td></tr><tr><td>DHL eCommerce US – Building a scalable and robust Cloud Data Platform as enabler for Enterprise Analytics</td><td>DHL eCommerce Solutions Americas is a high volume B2C domestic and international parcel delivery business and that is on mission to become a data-driven organization to by democratizing the use of data and to maximizing the business value.\n",
       "  \n",
       " Learn how the DHL eCommerce Solutions Americas data team built a centralized Enterprise grade scalable cloud data platform processing 100s of millions of events daily. This single source of truth powering all analytics use cases helps DHL ecommerce US team to deliver business insights 5x faster.\n",
       " We will dive into how we solved challenging key requirements including secure multi-tenant central data platform, scalable data ingestion and processing, cost effective big data repository, fast and regular data refreshes, diverse analytics workload needs.\n",
       " \n",
       " Finally we will share some example usecases operated on this platform and the business value those usecases are generating along various lines of the business including operations, commercial, customer service, sales, product management, etc.</td><td>67</td></tr><tr><td>Learnings From the Field: Migration From Oracle DW and IBM DataStage to Databricks on AWS</td><td>Legacy data warehouses are costly to maintain, unscalable and cannot deliver on data science, ML and real-time analytics use cases. Migrating from your enterprise data warehouse to Databricks lets you scale as your business needs grow and accelerate innovation by running all your data, analytics and AI workloads on a single unified data platform.\n",
       " \n",
       " In the first part of this talk we will guide you through the well-designed process and tools that will help you from the assessment phase to the actual implementation of an EDW migration project. Also, we will address ways to convert PL/SQL proprietary code to an open standard python code and take advantage of PySpark for ETL workloads and Databricks SQL’s data analytics workload power.\n",
       " \n",
       " The second part of this talk will be based on an EDW migration project of SNCF (French national railways); one of the major enterprise customers of Databricks in France. Databricks partnered with SNCF to migrate its real estate entity from Oracle DW and IBM DataStage to Databricks on AWS. We will walk you through the customer context, urgency to migration, challenges, target architecture, nitty-gritty details of implementation, best practices, recommendations, and learnings in order to execute a successful migration project in a very accelerated time frame.</td><td>68</td></tr><tr><td>Why a Major Japanese Financial Institution Chose Databricks to Accelerate its Data and AI-Driven Journey</td><td>In this session, we will introduce a case study of migrating the Japanese largest data analysis platform to Databricks.\n",
       " \n",
       "NTT DATA is one of the largest system integrators in Japan. In the Japanese market, many companies are working on BI, and we are now in the phase of using AI. Our team provides solutions that provide data analytics infrastructure to drive the democratization of data and AI for leading Japanese companies.\n",
       " \n",
       " The customer in this case study is the largest insurance company in Japan. This project has the following characteristics:\n",
       "  - As a financial institution, security requirements are very strict.\n",
       "  - Since it is used company-wide, including group companies, it is necessary to support various use cases.\n",
       " \n",
       " We started operating a data analysis platform on AWS in 2017. Over the next five years, we leveraged AWS-managed services such as Amazon EMR, Amazon Athena, and Amazon Sage Maker to modernize our architecture.\n",
       " \n",
       " In the near future, in order to promote the use cases of AI as well as BI, we have begun to consider upgrading to a platform that realizes both BI and AI.\n",
       " \n",
       " This session will cover:\n",
       "  - Challenges in developing AI on a DWH-based data analysis platform and why a data lake house is the best choice\n",
       "  - Examining the architecture of a platform that supports both AI and BI use cases. In this case study, we will introduce the results of a comparative study of a proposal based on Databricks, a proposal based on Snowflake, and a proposal combining Snowflake and Databricks.\n",
       " \n",
       " This session is recommended for those who want to accelerate their business by utilizing AI as well as BI.\n",
       " \n",
       " \n",
       "</td><td>69</td></tr><tr><td>Eliminating Shuffles in Delete Update, and Merge</td><td>If you’ve ever had to delete a set of records for regulatory compliance, update a set of records to fix an issue in the ingestion pipeline, or apply changes in a transaction log to a fact table, you know that row-level operations are becoming critical for modern data lake workflows. Even though the industry has seen a tremendous amount of innovation in this area, row-level operations can be still fairly expensive if the underlying data has to be shuffled. This talk will explain how Apache Spark can completely avoid shuffles during row-level operations by leveraging storage-partitioned joins, a key to efficiently modify data at PB scale.</td><td>70</td></tr><tr><td>When Self-Service Meets Earnings Calls: A Journey Towards FinOps</td><td>At Disney Streaming, we extensively use Databricks and the delta lake as an operational and analytical tool. But as we shift focus from growth to profit, our data platform needed to pivot from self-service and ease use and towards automatic tracking, auditing, and continuous efficiency chasing. \n",
       " \n",
       " In this talk, I'll explain our FinOps journey; how we democratized cost data, increased transparency, tightened policies, and got dozens of analytical and engineering teams to fit cost savings into their roadmap.\n",
       "</td><td>71</td></tr><tr><td>Delta Lake Migration At Scale</td><td>Adobe Experience Platform (AEP) serves a large number Adobe digital experience customers with tens of thousands of datasets in non-Delta format. To leverage Delta Lake, we migrate existing tables to Delta format after resolving the following challenges: 1). Short downtime to minimize customer impact; 2). Adding new system metadata; 3). Migration automation for scalability; and 4). Error detection and catastrophic rollback. This talk will cover the solutions to the above challenges and lessons learned from migration. Finally, scalable migration service becomes a core capability of the data platform.</td><td>72</td></tr><tr><td>Databricks Cost Management</td><td>With Databricks you only pay for the compute resources you use. With growing usage it is advisable to have a cost management strategy to avoid surprises at the end of the month. It is also useful to monitor and break down costs for budgeting purposes or to calculate the return on investment (ROI) for specific projects.\n",
       " \n",
       " In this talk I will:\n",
       " - Describe the Databricks pricing model\n",
       " - Show how to analyze and break down costs\n",
       " - Discuss best practises for cost optimization</td><td>73</td></tr><tr><td>Data Asset Bundles: A Standard, Unified Approach to Deploying Data Products on Databricks</td><td>In this talk we will introduce data asset bundles, provide a demonstration of how they work for a variety of data products, and how to fit them into an overall CICD strategy for the well-architected Lakehouse.\n",
       " \n",
       " Data teams produce a variety of assets; datasets, reports and dashboards, ML models, and business applications. These assets depend upon code (notebooks, repos, queries, pipelines), infrastructure (clusters, SQL warehouses, serverless endpoints), and supporting services/resources like Unity Catalog, Databricks Workflows, and DBSQL dashboards. Today, each organization must figure out a deployment strategy for the variety of data products they build on Databricks as there is no consistent way to describe the infrastructure and services associated with project code.\n",
       " \n",
       " Data asset bundles is a new capability on Databricks that standardizes and unifies the deployment strategy for all data products developed on the platform. It allows developers to describe the infrastructure and resources of their project through a YAML or JSON configuration file, regardless of whether they are producing a report, dashboard, online ML model, or Delta Live Tables pipeline. Behind the scenes, these configuration files use Terraform to manage resources in a Databricks workspace, but knowledge of Terraform is not required to use Data Asset Bundles.</td><td>74</td></tr><tr><td>Lakehouses: The Best Start to Your Graph Data and Analytics Journey</td><td>Data architects and IT executives are continually looking for the best ways to integrate graph data and analytics into their organizations to improve business outcomes. This presentation outlines how the Data Lakehouse provides the perfect starting point for a successful journey. We will explore how the Data Lakehouse offer the unique combination of scalability, flexibility, and speed to quickly and effectively ingest, pre-process, curate, and analyze graph data to create powerful analytics. Additionally, this talk will discuss the benefits of using the Data Lakehouse over traditional graph databases and how it can help improve time to insight, time to production and overall satisfaction. \n",
       " \n",
       "At the end of this presentation, attendees will: \n",
       " - Understand the benefits of using a Data Lakehouse for graph data and analytics \n",
       " - Learn how to get started with a successful Lakehouse implementation (demo)\n",
       " - Discover the advantages of using a Data Lakehouse over graph databases\n",
       " - Learn specifically where graph databases integrate and perform better together\n",
       " \n",
       " Key Takeaways: \n",
       " - Data Lakehouses provide the perfect starting point for a successful graph data and analytics journey \n",
       " - Data Lakehouses offer scalability, flexibility, and speed to quickly and effectively analyze graph data \n",
       " - The Data Lakehouse is a cost-effective alternative to traditional graph database shortening your time to insight and de-risk your project.\n",
       " \n",
       " Presentation Components:\n",
       " The customer journey\n",
       " Access patterns\n",
       " Reference architecture (logical, physical)\n",
       " Customer stories\n",
       " Demo (notebook + live graph visualization)</td><td>75</td></tr><tr><td>Unity Catalog, Delta Sharing and Data Mesh on Databricks Lakehouse</td><td>As you embark on a lakehouse project or evolve your existing data lake, you may want to improve your security posture and take advantage of new security features—there may even be a security team at your company that demands it! Databricks has worked with thousands of customers to securely deploy the Databricks Platform to meet their architecture and security requirements. While many organizations deploy security differently, we have found a common set of guidelines and features among organizations that require a high level of security. In this session, we will detail the security features and architectural choices frequently used by these organizations and walk through a series of threat models for the risks that most concern security teams. While this session is great for people who already know Databricks—don’t worry—that knowledge isn’t required. \n",
       "You will walk away with a full handbook detailing all of the concepts, configurations, check lists, security analysis tool (SAT), and security reference architecture (SRA) automation scripts  from the session so that you can make immediate progress when you get back to the office. \\\n",
       "Security can be hard, but we’ve collected the hard work already done by some of the best in the industry, and built tools, to make it easier. Come learn how. See how good looks like via a demo.\n",
       "</td><td>76</td></tr><tr><td>Data Globalization at Conde Nast Using Delta Sharing</td><td>Databricks has been an essential part of the Conde Nast architecture for the last few years.\n",
       " \n",
       " Prior to building our centralized data platform, “evergreen”, we had similar challenges as many other organizations; siloed data, duplicated efforts for engineers, and a lack of collaboration between data teams. These problems led to mistrust in data sets and made it difficult to scale to meet the strategic globalization plan we had for Conde Nast.\n",
       " \n",
       " Over the last few years we have been extremely successful in building a centralized data platform on Databricks in AWS, fully embracing the lakehouse vision from end-to-end. Now, our analysts and marketers can derive the same insights from one dataset and data scientists can use the same datasets for use cases such as personalization, subscriber propensity models, churn models and on-site recommendations for our iconic brands.\n",
       " \n",
       " In this talk, we’ll discuss how we plan to incorporate Unity Catalog and Delta Sharing as the next phase of our globalization mission. The evergreen platform has become the global standard for data processing and analytics at Conde. In order to manage the worldwide data and comply with GDPR requirements, we need to make sure data is processed in the appropriate region and PII data is handled appropriately. At the same time, we need to have a global view of the data to allow us to make business decisions at the global level. We’ll talk about how delta sharing allows us a simple, secure way to share de-identified datasets across regions in order to make these strategic business decisions, while complying with security requirements. Additionally, we’ll discuss how Unity Catalog allows us to secure, govern and audit these datasets in an easy and scalable manner.</td><td>77</td></tr><tr><td>Unlocking the Value of Data Sharing in Financial Services With Lakehouse</td><td>The emergence of secure data sharing is already having a tremendous economic impact, in large part due to the increasing ease and safety of sharing financial data. McKinsey predicts that the impact of open financial data will be 1-4.5% of GDP globally by 2030. This indicates there is a narrowing window on a massive opportunity for financial institutions and it is critical that they prioritize data sharing. This session will first address the ways in which Delta Sharing and Unity Catalog on a Databricks Lakehouse architecture provides a simple and open framework for building a Secure Data Sharing platform in the financial services industry. Next we will use a Databricks environment to walk through different use cases for open banking data and secure data sharing, demonstrating how they will be implemented using Delta Sharing, Unity Catalog, and other parts of the Lakehouse platform. The use cases will include examples of new product features such as Databricks to Databricks sharing, change data feed and streaming on Delta Sharing, table/column lineage, and the Delta Sharing Excel plugin to demonstrate state of the art sharing capabilities.\n",
       " Spencer Cook, a Sr. Solutions Architect at Databricks focussed on the Financial Services industry will discuss secure data sharing on Databricks Lakehouse and will demonstrate architecture and code for common sharing use cases in the finance industry.</td><td>78</td></tr><tr><td>Extending Lakehouse Architecture with Collaborative Identity</td><td>Lakehouse architecture has become a valuable solution for unifying data processing for AI, but faces limitations in maximizing data’s full potential. Additional data infrastructure is helpful for strengthening data consolidation and data connectivity with third-party sources, which are necessary for building full data sets for accurate audience modeling.\n",
       "\n",
       "In this session, LiveRamp will demonstrate to data and analytics decision-makers how to build on the Lakehouse architecture with extensions for collaborative identity graph construction, including how to simplify and improve data enrichment, data activation and data collaboration. LiveRamp will also introduce a complete data marketplace, which enables easy, pseudonymized data enhancements that widen the attribute set for better behavioral model construction.\n",
       "\n",
       "With these techniques and technologies, enterprises across financial services, retail, media, travel and more can safely unlock partner insights and ultimately produce more accurate inputs for personalization engines, and more engaging offers and recommendations for customers.\n",
       "</td><td>79</td></tr><tr><td>Writing Data-Sharing Apps Using Node.js and Delta Sharing</td><td>Javascript remains the top programming language today, with most code repositories written using JavaScript on GitHub. However, JavaScript is evolving beyond just a language for web application development into a language built for tomorrow. Everyday tasks like data wrangling, data analysis, and predictive analytics are possible today directly from a web browser. For example, many popular data analytics libraries, like Tensorflow.js, now support JavaScript SDKs. Another popular library, Danfo.js, makes it possible to wrangle data using familiar Pandas-like operations, shortening the learning curve and arming the typical data engineer or data scientist with another data tool in their toolbox. In this presentation, we’ll explore using the Node.js connector for Delta Sharing to build a data analytics app that summarizes a Twitter dataset.</td><td>80</td></tr><tr><td>Creating the First Sports and Entertainment Data Marketplace Powered by Pumpjack Dataworks, Revelate, Immuta and Databricks</td><td>Creating a secure and easily actionable marketplace is no simple task. Add to this governance requirements of privacy frameworks and responsibilities of protecting consumer data, and things get harder. With Pumpjack Dataworks partnering with Databricks, Immuta, and Revelate, we bring secure, privacy-focused data products directly to data consumers. With Delta Share, the service solves redundancy of data purchases, time to action, and lowers cost of data acquisition while providing new revenue streams for rights holders. Its a win-win solution for bringing Data Acquisition and Commercial teams together into the new age of data.</td><td>81</td></tr><tr><td>Data Interoperability Across Clouds and Regions</td><td>L’Oréal has the largest and richest data repository in the beauty industry, with a 110-year heritage solely dedicated to analyzing, measuring and magnifying the beauty needs and desires of consumers around the world. As L’Oréal’s ambition is to become the leader in beauty tech, a profound IT transformation started three years ago to meet their most strategic priorities: \n",
       " - Hyper personalization\n",
       " - Consumer experience online and offline \n",
       " - Preventive care\n",
       " - Integrating artificial intelligence into the business\n",
       " \n",
       " This IT transformation now needs to reach all of their services and teams worldwide with the same level of security, quality and exacting standards. To do so, data must be unlocked and democratized across the world in order to meet their strategic priorities. This is why L’Oréal and Databricks worked together on the data interoperability value proposition in order to :\n",
       " - Facilitate multi-cloud interoperability exchanges thanks to open standards technologies\n",
       " - Secure and trace through a centralized governance tool to respond to the growing regulatory environment and the application of other data laws (such as in Vietnam)\n",
       " - Optimize and rationalize data exchanges to reduce transported volumes and meet L'Oréal's sustainable development objectives\n",
       " - Ensure the quality of the data exchanged through quality and validation checks</td><td>82</td></tr><tr><td>Data Extraction and Sharing Via the Delta Sharing Protocol: Overfetching, Underfetching and Other Lessons and Tips for Development Learned While Building the Delta Sharing Excel Add-in</td><td>The Delta Sharing open protocol for secure sharing and distribution of Lakehouse data is designed to reduce friction in getting data to users. Delivering custom data solutions from this protocol further leverages the technical investment committed to your Delta Lake infrastructure.\n",
       " \n",
       " There are key design and computational concepts unique to Delta Sharing to know when undertaking development. And there are pitfalls and hazards to avoid when delivering modern cloud data to traditional data platforms and users.\n",
       " \n",
       " In this session we introduce Delta Sharing Protocol development and examine our journey and the lessons learned while creating the Delta Sharing Excel Add-in. We will demonstrate scenarios of overfetching, underfetching, and interpretation of types. We will suggest methods to overcome these development challenges.\n",
       " \n",
       " The session will combine live demonstrations that exercise the Delta Sharing REST protocol with detailed analysis of the responses. The demonstrations will elaborate on optional capabilities of the protocol’s query mechanism, and how they are used and interpreted in real-life scenarios.\n",
       " \n",
       " As a reference baseline for data professionals, the Delta Sharing exercises will be framed relative to SQL counterparts. Specific attention will be paid to how they differ, and how Delta Sharing’s Change Data Feed (CDF) can power next-generation data architectures.\n",
       " \n",
       " The session will conclude with a survey of available integration solutions for getting the most out of your Delta Sharing environment, including frameworks, connectors, and managed services.\n",
       " \n",
       " Attendees are encouraged to be familiar with REST, JSON, and modern programming concepts. A working knowledge of Delta Lake, the Parquet file format, and the Delta Sharing Protocol are advised.</td><td>83</td></tr><tr><td>Data sharing & beyond with Delta Sharing</td><td>Stepping into this brave new digital world we are certain that data will be a central product for many organizations. The way to convey their knowledge and their assets will be through data and analytics. Delta Sharing was the world's first open protocol for secure and scalable real-time data sharing. Through our customer conversations, there is a lot of anticipation of how Delta Sharing can be extended to non-tabular assets, such as machine learning experiments and models.\n",
       " \n",
       " In this talk, we will cover how we extended the Delta Sharing protocol to other sharing workflows, enabling sharing of ML models, arbitrary files and more. The development resulted in Arcuate, a Databricks Labs project with a data sharing flavour. The talk will start with the high-level approach and how it can be extended to cover other similar use cases. It will then move to our implementation and how it integrates seamlessly with Databricks-managed Delta Sharing server and notebooks. We finally conclude with lessons learned, and our visions for a future of data sharing & beyond</td><td>84</td></tr><tr><td>Ad Measurement: From Impressions to Attribution</td><td>\"Effectv, the advertising sales division of Comcast, delivers linear and digital advertising to help advertisers reach potential customers. In this talk, Joe Walsh, Director of Attribution & Measurement and Derek Sugden, Ad Measurement Lead, will discuss their team's journey of measuring the impact of advertising campaigns on customer behavior by combining Comcast's household-level exposure data with various types of third-party conversion data sourced externally. They will highlight the challenges of sharing and receiving data securely while preserving customer privacy, and share how they have implemented an internal \"\"clean room\"\" concept to restrict roles and usage of a cluster</td><td>85</td></tr><tr><td>Clean Room Primer: Using Clean Rooms on Databricks to Utilize More and Better Data in your BI, ML, and Beyond</td><td>In this session, Habu’s Chief Product Officer, Matt Karasick and Senior Architect, Anil Puliyeril, will discuss the foundational changes in the ecosystem, the implications of data insights on marketing, analytics, and measurement, and how companies are coming together to collaborate through data clean rooms in new and exciting ways to power mutually beneficial value for their businesses while preserving privacy and governance.\n",
       " \n",
       " We will delve into the concept and key features of clean room technology and how they can be used to access more and better data for business intelligence (BI), machine learning (ML), and other data-driven initiatives. By examining real-world use cases of clean rooms in action, attendees will gain a clear understanding of the benefits they can bring to industries like CPG, retail, and media & entertainment. \n",
       " \n",
       " In addition, we will unpack the advantages of using Databricks as a clean room platform, specifically showcasing how interoperable clean rooms can be leveraged to enhance BI, ML and other compute scenarios. By the end of this talk, you will be equipped with the knowledge and inspiration to explore how clean rooms can unlock new collaboration opportunities that drive better outcomes for your business and improved experiences for consumers.</td><td>86</td></tr><tr><td>Embrace First-Party Data Collaboration to Lower Acquisition Costs with Lookalike Audiences in Media Cleanrooms</td><td>Third-party tracking is dead! Yet customer acquisition costs continue to rise to meet the demands of customer attention. Lookalike audience modeling leveraging first-party customer data has offered organizations a cost-effective means to identifying and engaging new customers at scale. However, as we move into a privacy-centric era, collaboration with first-party data across organizations becomes increasingly challenging. So how can we work together to meet both needs? The answer is data clean rooms for the lakehouse, fueled by first-party customer data to build lookalike audience profiles and drive highly personalized ads and experiences in media and commerce.\n",
       " \n",
       " Using Snowplow's generation of granular first-party customer behavioral data with governance metadata and consent tracking, managed through data clean rooms in the lakehouse, organizations can collaborate securely across their first-party datasets. For example, brands and advertisers can join their first-party onsite data with third-party datasets shared by their agency and advertising partners to boost CTR and ROAS with lookalike audiences.\n",
       " \n",
       "This session you focus on:\n",
       " - Best practices for creating lookalike audiences with first-party customer data to lower acquisition costs\n",
       " - See a live demonstration of how audiences derived through the Databricks Lakehouse can be securely exchanged with customers and partners to foster data-driven innovations creating a customer behavioral profile using Snowplow \n",
       " - Data engineering and preparation of Snowplow Behavioral Data with DBT and Databricks\n",
       " - Development and training of an ML model using PySpark on Databricks to create a model to drive contextual advertising\n",
       " - Implementation of the model for scoring\n",
       " - Engage in Q&A</td><td>87</td></tr><tr><td>null</td><td>S&P merged with IHS Markit unlocking massive market opportunities, but it also created organizational and technology challenges that made it difficult to centralize all their data and make it readily available for analytics and AI. This impacted cross-team collaboration and limited their ability to provide innovative solutions for their clients looking to make smarter, sustainable investment choices. There were infrastructure complexities and they significantly increased data volumes that limited their ability to democratize data and insights. Their legacy data warehouse also struggled with unifying alternative data sources with other data sets. This impacted various use cases across the business including credit risk, ESG, and Marketplace Workbench. The Sustainable1 team has spearheaded getting all their datasets readily available for sharing across all of their internal divisions via Delta Share, and also to share S&P data externally with their customers. </td><td>88</td></tr><tr><td>How to Create and Manage a High-Performance Analytics Team</td><td>Data Science and analytics teams are unique. Large and small corporations want to build and manage analytics teams to convert their data and analytic assets into revenue and competitive advantage, but many are failing before they make their first hire. In this presentation, the audience will learn how to structure, hire, manage and grow an analytics team. Organizational structure, project and program portfolios, neurodiversity, developing talent, and more will be discussed. Questions and discussion will be encouraged and engaged in. The audience will leave with a deeper understanding of how to succeed in turning data and analytics into tangible results.</td><td>89</td></tr><tr><td>What it Takes to Democratize AI and ML in a Large Company: The Importance of User Enablement and Technical Training</td><td>The biggest critical factor to success in a Cloud transformation is people. As such, having a change management process in place to manage the impact of the transformation and user enablement is foundational to any large program. In this session we will dive into how TD bank democratizes data, mobilizes our 2000+ analytics user community and the tactics we used to successfully enable new use cases on Cloud. The session will focus on\n",
       " \n",
       " To democratize data:\n",
       " • Centralize a data platform that is accessible to all employees and allow for easy data sharing \n",
       " • Implement privacy and security to protect data and use data ethically\n",
       " • Compliance and governance for using data in responsible and compliant way\n",
       " • Simplification of processes and procedures to reduce redundancy and faster adoption\n",
       "\n",
       " To mobilize end users:\n",
       " • Increase data literacy: provide training and resources for employees to increase their abilities and skills\n",
       " • Foster a culture of collaborationand openness: cross-functional teams to collaborate and share ideas\n",
       " • Encourage exploration of innovative ideas that impact the organization's values and customers\n",
       " \n",
       "Technical enablement and adoption tactics we've used at TD Bank:\n",
       " • Hands-on training for over 1300+ analytics users with emphasis on learn by doing, to relate to real-life situations\n",
       " • Online tutorials and documentations to be used as self-paced study \n",
       " • Workshops and office hours on specific topics to empower business users\n",
       " • Coaching to work with teams on a specific use case/complex issue and provide recommendations for a faster, cost effective solutions\n",
       " • Offer certification and encourage continuous education for employees to keep up to date with latest \n",
       " • Feedback loop: get user feedback on training and user experience to improve future trainings</td><td>90</td></tr><tr><td>Weaving the Data Mesh in the Department of Defense</td><td>The Chief Digital and AI Office (CDAO) was created to lead the strategy and policy on data, analytics, and AI adoption across the Department of Defense. To enable that vision, the Department must achieve new ways to scale and standardize delivery under a global strategy while enabling decentralized workflows that capture the wealth of data and domain expertise. \n",
       " \n",
       " CDAO’s strategy and goals are aligned with data mesh principles. This alignment starts with providing enterprise-level infrastructure and services to advance the adoption of data, analytics, and AI, creating the self-service data infrastructure as a platform. And it continues through implementing policy for federated computational governance centered around decentralizing data ownership to become domain-oriented but enforcing the quality and trustworthiness of data. CDAO seeks to expand and make enterprise data more accessible through providing data as a product and leveraging a federated data catalog to designate authoritative data and common data models. This results in domain-oriented, decentralized data ownership to empower the business domains across the Department to increase mission and business impact that result in significant cost savings, saving lives, and data serving as a “public good.”\n",
       " \n",
       " Please join us in our presentation as we discuss how the CDAO leverages modern, innovative implementations that accelerate the delivery of data and AI throughout one of the largest distributed organizations in the world; the Department of Defence.  We will walk through how this enables delivery in various Department of Defence use cases.</td><td>91</td></tr><tr><td>The Modern Composable CX Stack: Deconstructing the Data Lifecycle From Infrastructure to Orchestration</td><td> In today’s privacy-conscious world, it’s imperative for IT to have ownership and full control of sensitive customer data. But more than ever, business stakeholders are in dogged pursuit of customer data that can drive better customer understanding and more effective campaigns. For IT, maintaining the integrity of data and architecture while driving customer 360 and other customer experience initiatives can become costly, time consuming and a source of friction in the organization.\n",
       " \n",
       " Hear from ActionIQ’s SVP of Product Justin DeBrabant and Northwestern Mutual’s Chief Data Officer Don Vu as they discuss how Northwestern Mutual is leveraging Databricks and ActionIQ’s CX Hub to bring together business and technical teams around existing data and architecture investments while enabling powerful CX initiatives.\n",
       " \n",
       " You’ll learn:\n",
       " - How to maintain IT choice, agility and control across the stack with composable technology \n",
       " - Strategies to optimize and showcase existing data investments of IT while elevating the stack \n",
       " - Tactics to drive business impact from data management, governance and modernization initiatives</td><td>92</td></tr><tr><td>Leveraging Product Thinking to Scale a Data Platform to a 400-person (Or More!) Data & Analytics Team</td><td>There exists a large and complex set of big data and analytics tools. How do you decide which tools to use? When to use them? In what way? And how to ensure availability and productivity? In this session we'll talk about how we organized the data platform team so that we could provide the best data environment for the 400+ engineers and data scientists at Anheuser-Busch InBev. \n",
       " \n",
       " Data platforms are generally a set of tools that enable data analysis activities. They are built on many different technologies and processes. How to guarantee reliability and constant evolutions for our users was the problem we started to face during the first months after the launch of our Data Platform. To solve this issue, we used an agile mindset and product management framework, already consolidated in software management teams. As a result, we divided the data platform team into squads, each one having its own OKRs and backlog aimed at improving user productivity. \n",
       " \n",
       " Having well-defined responsibilities for each squad according to the stages of the data journey within the platform made it possible to establish clear priorities for evolution in terms of benefits generated for users and the company. This also allowed us to have a highly specialized operations team to each part of the architecture, as each squad is responsible for keeping its product up and running. \n",
       " \n",
       " In this session, we will show the evolution of the team's structure over three years, as well as the challenges encountered. In addition, we will show how the daily work of the squads is organized.</td><td>93</td></tr><tr><td>Experience the New Era of Data & AI: Taking Bold Steps</td><td>Being an organization operating in >65 countries, PETRONAS has a complex and  growing data landscape across its value chain. It is undoubted that digital transformation is a necessity; however, its success is underpinned by data being a strategic enabler. At PETRONAS, we took bold steps in pioneering new frontiers through the undertaking of several strategic initiatives since 2020 to accelerate the digital transformation in PETRONAS:\n",
       " \n",
       " 1. Liberalization of data & analytics\n",
       " Data & analytics are made available and accessible across PETRONAS through a paradigm shift in ways of working with PETRONAS having 'default access rights' to data.\n",
       "  \n",
       " 2. Insight velocity via single source of truth data platform for analytics\n",
       " Enterprise data hub as a dual cloud-based data platform with integrated capabilities and robust technology stacks, whereby data (internal and external) and analytic products that brings the biggest impact and value is curated for insights.\n",
       " \n",
       " 3. Analytics for everyone\n",
       " Everyone can now step-up in using data and advanced analytics without the need for programming skillsets through advanced analytics in EDH that is low-code and augmented by AI\n",
       " \n",
       " 4. Line of sight across multiple data platforms and applications\n",
       " Data Governance Control Tower to provide the line of sight on areas such as metadata management, data access, security and data quality across all data platforms and applications\n",
       " \n",
       " 5. Modernized data governance adaptive data governance; a modern approach, with centralized governance and decentralised assurance to achieve a centralized, inclusive and resilient data governance, while removing bottlenecks and breaking down siloes through federated execution across the business\n",
       " \n",
       " PETRONAS has achieved major milestones with the above. As such, we would like to share our knowledge & expertise.</td><td>94</td></tr><tr><td>Advancing Customer Centricity: Mission Data's Data & Analytics Transformation</td><td>Overview - \n",
       " Mission Data was a three-year transformation focused on leveraging data to better understand our members and engage with them in a personalized way to help them better manage their finances. We’re accomplishing this by transforming Navy Federal into a member-centric, data-driven and AI-powered organization. Leveraging member data in new and innovative ways allows us to create a superior member experience by delivering value back to our members to show them that we know them, and this has always been at the core of our Member Centric strategy. Due to the evolving nature of the broader technological marketplace, consumers have come to expect increasing degrees of personalization across their experiences. Navy Federal members expect the same from their financial institutions and Mission Data is enabling the financial service and guidance our members have come to expect through personalized insights. A personalized insight takes the guess work out of managing finances for members. We show them we know them AND we do it for them…From providing target savings guidance, tracking financial goals, or letting members know they’ve reached a milestone achievement. Delivering these types of insights tailored to our member’s individual needs ultimately deepens their relationship and loyalty with Navy Federal as their trusted financial partner. This is an effort we’re accelerating as we democratize the Mission Data Platform—making member data accessible and actionable across the enterprise. In 2019, we developed a strategy and roadmap for Navy Federal to build the data and analytics capabilities needed to deliver these types of experiences. Key Enablers in the Journey: People, Mindset, Change, Adoption.</td><td>95</td></tr><tr><td>The C-Level Guide to Data Strategy Success With the Lakehouse</td><td>Join us for a practical session on implementing a data strategy leveraging people, process, and technology to meet the growing demands of your business stakeholders for faster innovation at lower cost. Dael Williamson and Robin Sutara, EMEA Field CTOs at Databricks, will share real-world examples on best practices and things to avoid as you drive your strategy from the board to the business units in your organization</td><td>96</td></tr><tr><td>Unity Catalog, Delta Sharing and Data Mesh on Databricks Lakehouse</td><td>Abstract\n",
       " How customers implemented Data Mesh on Databricks and how standardizing on delta format enabled Delta-to-Delta Share to non-Databricks consumers.\n",
       " \n",
       " Presentation Agenda:\n",
       " \n",
       " 1. Current State of the IT Landscape\n",
       " a. Data Silos (problems with organizations not having connected data in the ecosystem)\n",
       " b. A look back on why we moved away from Data warehouses and choose cloud in the first place\n",
       " c. What caused the data chaos in the cloud (instrumentation and too much stitching together) ~ periodic table list of services of the cloud\n",
       " \n",
       " 2. How to strike the balance between Autonomy and Centralization\n",
       " \n",
       " 3. Why Databricks Unity Catalog puts you in the right path to implementing Data Mesh strategy\n",
       " \n",
       " 4. What are the process and features that enable and end-to-end Implementation of a Data Strategy\n",
       " \n",
       " 5. How customers were able to successfully implement the Data mesh on out of the box Unity Catalog and Delta Sharing without overwhelming their IT tool Stack\n",
       " \n",
       " 6. Use-Cases\n",
       " a. Delta-to-Delta Data Sharing \n",
       " b. Delta-to-Others Data Sharing\n",
       " \n",
       " 7. How do you navigate when data today is available across regions, across clouds,on-prem and external systems\n",
       " a. Change Data Feed to share only “data that has changed”\n",
       " \n",
       " 8. Data stewardship\n",
       " a. Why ABAC is important\n",
       " b. How file based access policies and governance play an important role\n",
       " \n",
       " 9. Future State and its pitfalls\n",
       " a. Egress Costs\n",
       " b. Data compliances</td><td>97</td></tr><tr><td>Event Driven Real-Time Supply Chain Ecosystem Powered by Lakehouse</td><td>As the backbone of Australia’s supply chain, the Australia Rail Track Corporation (ARTC) plays a vital role in the management and monitoring of goods transportation across 8,500km of its rail network throughout Australia. ARTC provides weighbridges along their track which read train weights as they pass at speeds of up to 60 kilometers an hour. This information is highly valuable and is required both by ARTC and their customers to provide accurate haulage weight details, analyze technical equipment, and help ensure wagons have been loaded correctly. \n",
       " \n",
       " 750 trains run across a network of 8500 km in a day and generate real-time data at approximately 50 sensor platforms. \n",
       " \n",
       " With the help of structured streaming and Delta Lake, ARTC was able to analyze and store: \n",
       " \n",
       " 1. Precise train location\n",
       " 2. Weight of the train in real-time\n",
       " 3. Train crossing time to the second level \n",
       " 4. Train speed, temperature, sound frequency, and friction \n",
       " 5. Train schedule lookups \n",
       " \n",
       " Once all the IoT data has been pulled together from an IoT event hub, it is processed in real-time using structured streaming and stored in Delta Lake. To understand the train GPS location API calls are then made per minute per train from the Lakehouse. API calls are made in real-time to another scheduling system to lookup customer info. Once the processed, enriched, data is stored in Delta Lake, an API layer was also created on top of it to expose this data to all consumers. \n",
       " \n",
       " Outcome:\n",
       " \n",
       " Increased transparency on weight data as it is now made available to customers. \n",
       "A digital data ecosystem that now ARTC’s customers use to meet their KPIs/ planning. \n",
       "Ability to determine temporary speed restrictions across the network to improve train scheduling accuracy and also schedule network maintenance based on train schedules/ speed.</td><td>98</td></tr><tr><td>Streaming Tens of Millions of Events Made Simple at Visa Using Apache Spark™</td><td>Apache Spark™’s continuous streaming approach works really well with the data lakehouse architecture. However, building streaming pipelines at VISA scale has two types of challenges, the first of building a single pipeline - performance, debuggability and the guarantees, and the second of scaling it to multiple teams and users including the business teams where productivity, standardization, reusability are very important.\n",
       " \n",
       " Sr. Director Durga Kala and Principal Data Engineer Varun Sharma, wanted to enable their Visa data engineers to quickly prototype, share their code base and be productive on ever increasing workloads. They introduced a new approach to building a low-code framework on the Apache Spark ecosystem, that allows users to create new pipelines quickly, while handling the scale of tens of millions of transactions an hour, fault tolerance, and satisfying rigid security requirements out of the box. The result? Visa’s development cycles shrank from weeks to days and various business teams can now leverage low-latency streaming data.</td><td>99</td></tr><tr><td>Taking Control of Streaming Healthcare Data</td><td>Chesapeake Regional Information System for our Patients (CRISP), a nonprofit healthcare information exchange (HIE), initially partnered with Slalom to build a Databricks data lakehouse architecture in response to the analytics demands of the COVID-19 pandemic, since then they have expanded the platform to additional use cases. Recently they have worked together to engineer streaming data pipelines to process healthcare messages, such as HL7, to help CRISP become vendor independent.\n",
       " \n",
       " Our talk will focus on the improvements CRISP has made to their data lakehouse platform to support streaming use cases and the impact these changes have had for the organization. We will touch on using Databricks Auto Loader to efficiently ingest incoming files, ensuring data quality with Delta Live Tables, and sharing data internally with a SQL warehouse, as well as some of the work CRISP has done to parse and standardize HL7 messages from hundreds of sources. These efforts have allowed CRISP to stream over 4 million messages daily in near real-time with the scalability it needs to continue to onboard new healthcare providers so it can continue to facilitate care and improve health outcomes.</td><td>100</td></tr><tr><td>Deploying the Lakehouse to Improve the Viewer Experience on Discovery+</td><td>In this session we will discuss how real-time data streaming can be used to gain insights into user behavior and preferences, and how this data is being used to provide personalized content and recommendations on discovery+. We will examine techniques that enables faster decision making and insights on accurate real time data including data masking and data validation. To enable a wide set of data consumers from data engineers to data scientists to data analysts, we will discuss how Unity Catalog is leveraged for secure data access and sharing while still allowing teams flexibility. Operating at this scale requires examining the value being created by the data being processed and optimizing along the way and we will share some of our success in this area.</td><td>101</td></tr><tr><td>Apache Spark™ Streaming and Delta Live Tables Accelerates KPMG Clients For Real-Time IoT Insights</td><td>Unplanned downtime in manufacturing costs firms up to a trillion dollars annually. Time that materials spend sitting on a production line is lost revenue. Even just 15 hours of downtime a week adds up to over 800 hours of downtime yearly. The use of internet of things or IoT devices can cut this time down by providing details of machine metrics. However, IoT predictive maintenance is challenged by the lack of effective, scalable infrastructure and machine learning solutions. IoT data can be the size of multiple terabytes per day and can come in a variety of formats. Furthermore, without any insights and analysis, this data becomes just another table. \n",
       " \n",
       " The KPMG Databricks IoT Accelerator is an end-to-end solution enabling manufacturing plant operators to have a bird’s eye view of their machines’ health and empowers proactive machine maintenance across their portfolio of IoT devices. The Databricks Accelerator ingests IoT streaming data at scale and implements the Databricks medallion architecture while leveraging delta live tables to clean and process data. Real time machine learning models are developed from IoT machine measurements and are managed in MLflow. The AI predictions and IoT device readings are compiled in the gold table powering downstream dashboards like Tableau. Dashboards inform machine operators of not only machines’ ailments, but action they can take to mitigate issues before they arise. Operators can see fault history to aid in understanding failure trends, and can filter dashboards by fault type, machine, or specific sensor reading.</td><td>102</td></tr><tr><td>Optimizing batch and streaming aggregations</td><td>I've got a client recently who asked me to optimize their batch and streaming workloads. It happened to be aggregations using DataFrame.groupBy operation with a custom Scala UDAF over a data stream from Kafka. Just a single simple-looking request that turned itself up into a a-few-month-long hunt to find a more performant query execution planning than ObjectHashAggregateExec that kept falling back to a sort-based aggregation (i.e. the worst possible aggregation runtime performance). It quickly taught us that an aggregation using a custom Scala UDAF cannot be planned other than ObjectHashAggregateExec but at least tasks don't always have to fall back. And that's just batch workloads. When you throw in streaming semantics and think of the different output modes, windowing and streaming watermark optimizing aggregation can take a long time to do right.\n",
       " \n",
       " During the talk you'll learn the different execution strategies of aggregation (groupBy) in Apache Spark and what issues I faced while hunting down the tiniest performance improvements. You will learn why an aggregation with a Scala UDAF cannot be planned using HashAggregateExec and what problems you may come across while using streaming aggregation over the built-in Kafka data source. Lots of optimization tips and tricks with quite a few looks at the internals of aggregation query execution.</td><td>103</td></tr><tr><td>Structured Streaming: Demystifying Arbitrary Stateful Operations</td><td>Let’s face it -- data is messy. And your company’s business requirements? Even messier! You’re staring at your screen, knowing there is a tool that will let you give your business partners the information they need as quickly as they need it. There’s even a Python version of it now. But…it looks kinda scary. You’ve never used it before, and you don’t know where to start. Yes, we’re talking about the dreaded flatMapGroupsWithState! But fear not - we’ve got you covered. In this session we’ll take a real-word use case and use it to show you how to break down flatMapGroupsWithState into its basic building blocks. We’ll explain each piece in both Scala and the newly-released Python, and at the end we’ll illustrate how it all comes together to enable the implementation of arbitrary stateful operations with Spark Structured Streaming.</td><td>104</td></tr><tr><td>How Disney+ uses Amazon Kinesis and Databricks to Deliver Personalized Customer Experience</td><td>Disney+ uses Amazon Kinesis and Databricks Apache Spark™ streaming to drive real-time actions like providing title recommendations for customers, identifying customer trends, and building data warehouse for operational analytics to improve the customer experience. In this session, you will learn how Disney+ built real-time, data-driven capabilities on a unified streaming and analytics platform. This platform ingests billions of events per hour in Amazon Kinesis Data Streams, processes and analyzes that data in Databricks Spark Streaming to generate insights. Hear how Amazon Kinesis and Databricks have helped Disney+ scale its video streaming platform to hundreds of millions of customers.</td><td>105</td></tr><tr><td>The Future is Open: Data Streaming in an Omni-Cloud Reality</td><td>An assortment of low-code connectors boasts the ability to make data available for analytics in real time. However, many such turn-key solutions face challenges: cost-inefficient EDW targets; inability to evolve schema; forbiddingly expensive data exports due to cloud and vendor lock-in. The alternative: an open data lake that unifies batch and streaming workloads. Increasingly, we must adapt to a multi-cloud reality. Delta Lake decouples data storage from proprietary formats, dramatically reducing data extraction costs. Exporting data from delta tables eliminates the compute and storage API costs required by EDW. Bronze landing zones in Delta format build the foundation for a medallion architecture. Apache Spark™ Structured Streaming provides a unified ingestion strategy. Streaming triggers allow us to switch back and forth between batch and stream with one-line code changes. Streaming aggregation enables us to incrementally compute on data that arrives near each other.\n",
       " It is a misconception that streaming requires always-on clusters and thus is prohibitively expensive. Streaming means the ability to automatically handle new data and avoid reprocessing of historical data; real time is optional depending on use cases. Autoloader is a technique to discover newly arrived data and ensure exactly once, incremental processing. DLT further simplifies streaming jobs, accelerating the development cycle.\n",
       " Workflows bring it all together and the open source dbx project applies SWE best practices. Workflows can orchestrate tasks such as DLT pipelines, spark jobs, SQL scripts, as well as dbt transformations. Developers can define compute resources, scheduling, and dependencies in descriptive yaml format. Both task definitions and job code are versioned with popular source control systems.</td><td>106</td></tr><tr><td>Getting Insight From Anything: Gathering Data With IoT Devices and Delta Live</td><td>The drive to make data-driven decisions shapes the strategy of many companies. However, this dream has a problem; just because you need to make a decision does not mean you have the data to make it! Often these decisions require data from sources typically unconnected to the internet. This could be an architect determined to understand how the construction of her building is progressing, or a manufacturer wanting to live their best Industry 4.0 life. It's not uncommon for companies to find this journey to become “smart” is a long one; with difficult ethical ground to cover, or prohibitive costs associated with procuring the necessary equipment. However, the development of cheap and accessible IoT devices allows for the gathering of data from anything to be more within reach than ever.\n",
       " \n",
       " This talk will look at efforts to build proof-of-concept IoT systems. We will discuss our (continuing) journey of using and managing hardware and the problems we faced along the way. The main focus however will be the software stack. Azure IoT Hub is used for device management, with Power BI supporting the front end. However, the centre-piece is Delta Live Tables - allowing us a method of near real-time analysis of our data. We will discuss the advantages of using Delta Live for this, and how we wish to extend our IoT systems in the future.</td><td>107</td></tr><tr><td>Practical Pipelines: A Houseplant Alerting System With ksqlDB</td><td>Houseplants can be hard; in many cases, over-watering and under-watering can have the same symptoms. Take away the guesswork involved in caring for your houseplants while also gaining valuable experience in building a practical, event-driven pipeline in your own home! This session explores the process of building a houseplant monitoring and alerting system using a Raspberry Pi and Apache Kafka. \n",
       " \n",
       " Moisture and temperature readings are captured from sensors in the soil and streamed into Kafka. From here, we’ll use stream processing to transform the data, create a summary view of the current state, and drive real-time push alerts through Telegram. In this session, I’ll talk about how I ingest the data followed by the tools – including ksqlDB and Kafka Connect – that help transform the raw data into useful information, and finally, I’ll show how to use Kafka Producers and Consumers to make the entire application more interactive.\n",
       " \n",
       " By the end of this session you’ll have everything you need to start building practical streaming pipelines in your own home. Roll up your sleeves – let’s get our hands dirty!</td><td>108</td></tr><tr><td>Disaster Recovery Strategies for Structured Streams</td><td>In recent years, many businesses have adopted real-time streaming applications to enable faster decision making, quicker predictions and improved customer experiences. Few of these applications are driving critical business use cases like financial fraud detection, loan application processing, personalized offers, etc. These business critical applications need robust disaster recovery strategies to recover from the catastrophic events to reduce the lost uptime. However, most organizations find it hard to set up disaster recovery for streaming applications as it involves continuous data flow. Streaming state and temporal behavior of data brings additional complexities to the DR strategy.\n",
       " \n",
       " A reliable disaster recovery strategy includes backup, failover and failback approaches for the streaming application. Unlike the batch applications, these steps include many moving elements and need a very sophisticated approach to ensure that the services are failing over the DR region and meet the set RTO and RPO requirements. In this session, we will cover following topics with a FINSERV use case demo:\n",
       " 1. Backup strategy: backup of delta tables, message bus services and checkpoint including offsets\n",
       " 2. Failover strategy: failover strategy to disable services in the primary region and start the services in the secondary region with minimum data loss \n",
       " 3. Failback strategy: failback strategy to restart the services in the primary region once all the services are restored \n",
       " 4. Common challenges and best practices for backup</td><td>109</td></tr><tr><td>Near Real-Time Data Linkage and Entity Resolution for High Volumes of Continuous and Unsynchronized Data Streams</td><td>Citrix Analytics is a cloud-based service that provides analytical insights from data across Citrix product portfolio. It collates data from various sources and proactively detects security threats.\n",
       " \n",
       " The data consists of information from various entities like users, devices, applications, network, files and shares, along with their correlation over a period. This data is analyzed by various ML algorithms to detect any suspicious activity. The ML models need correlated data in real-time so vulnerabilities can be detected instantly and remediation actions can be taken.\n",
       " \n",
       " The data pipeline comprises of multiple event sources, each one of them producing high volumes of continuous data. This data generated from different sources need to be correlated using common identifiers to produce final stream of data with low latency and high data quality.\n",
       " \n",
       " The proposed solution is to build scalable, extensible, fault-tolerant system for stateful joining of two or more high volume event streams that are not fully synchronised, event ordering is not guaranteed, and certain events arrive a bit late. The system also ensures to combine the events/link so the data is in near real-time with low latency so that there is no impact on the downstream applications like ML models in determining the suspicious behavior. Apart from combining events the system also ensures to propagate the needed entities to other product streams to help in entity resolution. If any of the needed data is yet to arrive, we can configure few parameters based on use cases, so as to achieve the required eventual or attribute consistency.\n",
       " \n",
       " The architecture is an agnostic streaming framework, but our implementation leverages Spark Streaming and Kafka. The solution is implemented and is processing billions of events per day.</td><td>110</td></tr><tr><td>Realtime ML in Marketplace @ Lyft</td><td>Lyft is a ride-sharing company which is a two-sided marketplace; balancing supply and demand using various levers (passenger pricing, driver incentive etc.) to maintain an efficient system. Lyft has built a real-time optimization platform that helps to build the product faster. This complex system makes real-time decisions using various data sources; machine learning models; and a streaming infrastructure for low latency, reliability and scalability. This infrastructure consumes a massive number of events from different sources to make real-time product decisions.\n",
       " Rakesh discusses how Lyft organically evolved and scaled the streaming platform that provides a consistent view of the marketplace to aid an individual team independently run their optimization. The platform offers online and offline feature access that helps teams to back test their model in the future. It provides various other powerful capabilities such as replaying the production ML feature in PyNotebook, feature validation, near-realtime model training, executing multi-layer of models in a DAG, etc. \n",
       " He is also going to elaborate things that helped him scale the systems to process millions of events per minute and power T0 products with tighter latency SLA.</td><td>111</td></tr><tr><td>Streaming Data Analytics With Power BI and Databricks</td><td>In this session we will present a series of end-to-end technical demos illustrating the synergy between Databricks and Power BI for streaming use cases. \n",
       "  - Scenario 1: DLT + Power BI Direct Query and Auto Refresh\n",
       "  - Scenario 2: Structured Streaming + Power BI streaming datasets \n",
       "  - Scenario 3: DLT + Power BI composite datasets\n",
       "  - Considerations when to choose which scenario</td><td>112</td></tr><tr><td>How Coinbase Built and Optimized SOON, a Streaming Ingestion Framework</td><td>Data with low latency is important for real-time incident analysis and metrics. Though we have up-to-date data in OLTP databases, they cannot support those scenarios. Data need to be replicated to a data warehouse to serve queries doing group-bys, and joins across tables from different systems. At Coinbase, we designed SOON (Spark cOntinuOus iNgestion) based on Kafka, Kafka Connect, and Spark as an incremental table replication solution to replicate tables of any size from any database to Delta Lake in a timely manner. It also supports Kafka events ingestion naturally.\n",
       " \n",
       " SOON incrementally ingests Kafka events as appends, updates, and deletes to an existing table on Delta Lake. The events are grouped into two categories: CDC (change data capture) events generated by Kafka Connect source connectors, and non-CDC events by the frontend or backend services. Both types can be appended or merged into the Delta Lake. Non-CDC events can be in any format, but CDC events must be in the standard SOON CDC schema. We implemented Kafka Connect SMTs to transform raw CDC events into this standardized format. SOON unifies all streaming ingestion scenarios such that users only need to learn one onboarding experience and the team only needs to maintain one framework.\n",
       " \n",
       " We care about the ingestion performance. The biggest append-only table onboarded has ingress traffic at hundreds of thousands events per second; the biggest CDC-merge table onboarded has a snapshot size of a few TBs and CDC update traffic at hundreds of events per second. A lot of innovative ideas are incorporated in SOON to improve its performance, such as min-max range merge optimization, KMeans merge optimization, no-update merge for deduplication, generated columns as partitions, etc.</td><td>113</td></tr><tr><td>High Volume Intelligent Streaming with Sub-Minute SLA for Near Real-Time Data Replication</td><td>Come and learn an innovative solution built around Databricks structured streaming and Delta Live Tables (DLT) to replicate thousands of tables from on-premisis to cloud-based relational databases. A highly desirable pattern for many enterprises across the industries to replicate on-premises data to cloud-based data lakes and data stores in near real time for consumption. This powerful architecture can offload legacy platform workloads and accelerate cloud journey. The intelligent cost-efficient solution leverages thread-pools, multi-task jobs, Kafka, spark structured streaming and DLT. This session will go into detail about problems, solutions, lessons-learned and best practices.</td><td>114</td></tr><tr><td>Using Cisco Spaces Firehose API as a Stream of Data for Real-Time Occupancy Modelling</td><td>Honeywell manages the control of equipment for hundreds of thousands of buildings worldwide. Many of our outcomes relating to energy and comfort rely on knowing where people are in the building at any one time. This is so we can target health and comfort conditions more suitably to areas where are more densely populated. Many of these buildings have Cisco IT infrastructure in them. Using their WIFI points and the RSSI signal strength from people’s laptops and phones, Cisco can calculate the number of people in each area of the building. Cisco Spaces offer this data up as a real-time streaming source. Honeywell HBT has utilised this stream of data by writing delta live table pipelines to consume this data source.\n",
       " Honeywell buildings can now receive this firehose data from hundred of concurrent customers and provide this occupancy data as a service to our vertical offerings in commercial, health, real estate and education. We will discuss the benefits of using DLT to handle this sort of incoming stream data, and illustrate the pain points we had and the resolutions we undertook in successfully receiving the stream of Cisco data. We will illustrate how our DLT pipeline was designed, and how it scaled to deal with huge quantities of real time streaming data.</td><td>115</td></tr><tr><td>Leveraging IoT Data at Scale to Mitigate Global Water Risks Using Apache Spark Streaming and Delta</td><td>Every year, billions of dollars are lost due to water risks from storms, floods, and droughts. Water data scarcity and excess are issues that risk models cannot overcome, creating a world of uncertainty. Divirod is building a platform of water data by normalizing diverse data sources of varying velocity into one unified data asset. In addition to publicly available third-party datasets, we are rapidly deploying our own IoT sensors. \n",
       " \n",
       " These sensors ingest signals at a rate of about 100,000 messages per hour into preprocessing, signal-processing, analytics, and postprocessing workloads in one spark-streaming pipeline to enable critical real-time decision-making processes. By leveraging streaming architecture, we were able to reduce end-to-end latency from 10s of minutes to just a few seconds. \n",
       " \n",
       " We are leveraging Delta to provide a single query interface across multiple tables of this continuously changing data. This enables data science and analytics workloads to always use the most current and comprehensive information available. In addition to the obvious schema transformations, we implement data-quality metrics and datum conversions to provide a trustworthy unified dataset.</td><td>116</td></tr><tr><td>Unlocking Near Real-Time Data Replication with CDC, Apache Spark Streaming, and Delta Lake</td><td>Tune into DoorDash's journey to migrate from a flaky ETL system with 24-hour data delays, to standardizing a CDC streaming pattern across 150+ databases to produce near real-time data in a scalable, configurable, and reliable manner. During this journey, understand how we use Delta Lake to build a self-serve, read-optimized data lake with data latencies of 15 minutes, whilst reducing operational overhead. Furthermore, understand how certain tradeoffs like conceding to a non-real-time system allow for multiple optimizations but still permit for OLTP query use-cases, and the benefits it provides.</td><td>117</td></tr><tr><td>Streaming Schema Drift Discovery and Controlled Mitigation</td><td>\"When creating streaming work loads with Databricks, it can sometimes be difficult to capture and understand the current structure of your source data. For example, what happens if you are ingesting JSON events from a vendor, and the keys are very sparsely populated, or contain dynamic content? Ideally, data engineers want to \"\"lock in\"\" a target schema in order to minimize complexity and maximize performance for known access patterns. What do you do when your data sources just don't cooperate with that vision?</td><td>118</td></tr><tr><td> \n",
       " The first step is to quantify how far your current source data is drifting from your established Delta table. But how? In this talk I will demonstrate a way to capture and visual drift across all of your streaming tables. The next question is</td><td> \"\"Now that I see all of the data I'm missing</td><td>119</td></tr><tr><td>Real-Time Streaming Solution for a Call Center Analytics: Business Challenges and Technical Enablement</td><td>A large international client with a business footprint in North America, Europe and Africa, reached out to us with an interest in having a real-time streaming solution designed and implemented for its call center handling incoming and outgoing client calls. The client had a previous bad experience with another vendor, who overpromised and underdelivered on the latency of the streaming solution. The previous vendor delivered an over-complex streaming data pipeline resulting in the data taking over 5 minutes to reach a visualization layer. The client felt that architecture was too complex and involved many services integrated together. Our immediate challenges involved gaining the client's trust and proving that our design and implementation quality would supercede a previous experience. To resolve an immediate challenge of the overly complicated pipeline design, we deployed a Databricks Lakehouse architecture with Azure Databricks at the center of the solution. Our reference archiitecture integrated Genesys Cloud -> App Services -> Event Hub -> Databricks <-> Data Lake -> Power BI. The streaming solution proved to be low latency (seconds) during the POV stage, which led to subsequent productionalization of the pipeline with deployment of jobs, DLTs pipeline, including multi-notebook workflow and business and performance metrics dashboarding relied on by the call center staff for a day-to-day performance monitoring and improvements.</td><td>120</td></tr><tr><td>Top Mistakes to Avoid in Streaming Applications</td><td>Nowadays, streaming use cases become very important in almost all companies. When you think of streaming, Apache Spark™ Structured Streaming is at the top of the list in the technology. As we are dealing with many customer streaming use cases, we learned many do’s and don’t of the streaming application. I will be discussing the top mistakes to avoid when working with streaming applications with regard to different sources and sinks like DLT, Kafka, Delta, and so on. If you are avoiding these mistakes while architecting/running/restarting the application, then you will avoid the costly mistakes at a later point in time.</td><td>121</td></tr><tr><td>Embracing the Future of Data Engineering: The Serverless, Real-Time Lakehouse in Action</td><td>As we venture into the future of data engineering, streaming and serverless technologies take center stage. In this fun, hands-on, in-depth and interactive session you can learn about the essence of future data engineering today. In this session we will tackle the challenge of processing streaming events created by hundreds of sensors in the conference room from a serverless web app (bring your phone and be a part of it!). The focus is on the system architecture and the involved products. Which Databricks product, capability and settings will be most useful for our scenario? What does streaming really mean and why does it make our life easier? What are the exact benefits of serverless and how much serverless is a particular solution?\n",
       "Leveraging the power of the Databricks Lakehouse Platform, I will demonstrate how to create a streaming data pipeline with delta live tables ingesting data from AWS Kinesis. Further, I’ll utilize advanced Databricks workflows triggers for efficient orchestration and real-time alerts feeding into a real-time dashboard. And since I don’t want you to leave with empty hands - I will use Delta Sharing to share the results of the demo we built with every participant in the room.\n",
       "Join me in this hands-on exploration of cutting-edge data engineering techniques and witness the future in action!</td><td>122</td></tr><tr><td>Building and Managing Data Platform for 13+ PB Delta Lake and 1000’s of Users:  AT&T'S Story</td><td>Data runs AT&T’s business, just like it runs most businesses these days. Data can lead to a greater understanding of a business and when translated correctly into information can provide human and business systems valuable insights to make better decisions. Unique to AT&T is the volume of data we support, how much of our work that is driven by AI and the scale at which data and AI drive value for our customers and stakeholders. Our Cloud migration journey includes making data and AI more accessible to employees throughout AT&T so they can use their deep business expertise to leverage data more easily and rapidly. We always had to balance this data democratization and desire for speed with keeping our data private and secure. We loved the open ecosystem model of Lakehouse that enables data , BI and ML tools to be seamlessly integrated on a single pane arena, it just simplifies the architecture and reduces dependencies between technologies in the cloud. Being clear in our architecture guidelines and patterns was very important to us for our success. We are seeing more interest from our business unit partners and continuing to build the AI as a service capabilities to support more citizen data scientists. To scale up our Lakehouse journey , we built a Databricks center of excellence (CoE) function in AT&T which today has ~1400+ active members , further concentrating existing expertise and resources in ML/AI discipline to collaborate on all things Databricks like technical support, trainings , FAQ’s and best practices to attain and sustain world-class performance and drive business value for AT&T. Join us to learn more about how we process and manage 10+ Petabytes of our network Lakehouse with Delta Lake and Databricks.</td><td>123</td></tr><tr><td>Data Democratization with Lakehouse: An Open Banking Application Case</td><td>\"Banco Bradesco represents one of the largest companies in the financial sector in Latin America. They have more than 99 million customers, 79 years of history, and a legacy of data distributed in hundreds of on-premises systems. With the spread of data-driven approaches and the growth of cloud computing adoption, we needed to innovate and adapt to new trends and enable an analytical environment with democratized data.  We will show how more than 8 business departments have already engaged in using the Lakehouse exploratory environment, with more than 190 use cases mapped and a multi-bank financial manager. Unlike with on-premises, the cost of each process can be isolated and managed in near real-time, allowing quick responses to cost and budget deviations, while increasing the deployment speed of new features 36 times compared to on-premises. The data is now used and shared safely and easily between different areas and companies of the group. Also, the view of dashboards within Databricks allows panels to be efficiently \"\"prototyped\"\" with real data</td><td>124</td></tr><tr><td>Jet Streaming Data and Predictive Analytics: How the Lakehouse and Apache Spark Enable Collins Aerospace to Keep Aircraft Flying</td><td>Most have experienced the frustration and disappointment of a flight delay or cancelation due to aircraft issues. The Collins Aerospace business unit at Raytheon Technologies is committed to redefining aerospace by using data to deliver a more reliable, sustainable, efficient, and enjoyable aviation industry. Ascentia is a product example of this with focus on helping airlines make smarter and more sustainable decisions by anticipating aircraft maintenance issues in advance, leading to more reliable flight schedules and fewer delays. Over the past five years a variety of products from the Databricks technology suite were employed to achieve this. Leveraging cloud infrastructure and harnessing the Databricks Lakehouse, SPARK development, and Databricks’ dynamic platform, Collins has been able to accelerate development and deployment of predictive health monitoring (PHM) analytics to generate Ascentia’s aircraft maintenance recommendations. This presentation provides a walkthrough of these technologies,  including success stories that resulted in significant cost savings and efficiency gain.</td><td>125</td></tr><tr><td>How RecRoom Processes Billions of Events Per Day With Databricks and RudderStack</td><td>Learn how Rec Room, a fast-growing augmented and virtual reality software startup, is saving 50% of their engineering team's time by using Databricks and RudderStack to power real-time analytics and insights for their 85 million gaming customers. In this session, you will walk through a step-by-step explanation of how Rec Room set up efficient processes for ingestion into their data lakehouse, transformation, reverse-ETL and product analytics. You will also see how Rec Room is using incremental materialization of tables to save costs and establish an uptime of close to 100%.</td><td>126</td></tr><tr><td>Delta-rs, Apache Arrow, Polars, WASM: Is Rust the Future of Analytics?</td><td>Rust is a unique language whose traits make it very appealing for data engineering. In this session, we'll walk through the different aspects of the language that make it such a good fit for big data processing including: how it improves performance and how it provides greater safety guarantees and compatibility with a wide range of existing tools that make it well positioned to become a major building block for the future of analytics. \n",
       " \n",
       " We will also take a hands-on look through real code examples at a few emerging technologies built on top of Rust that utilize these capabilities, and learn how to apply them to our modern lakehouse architecture.</td><td>127</td></tr><tr><td>Making the Shift to Application-Driven Intelligence</td><td>In the digital economy, application-driven intelligence delivered against live, real-time data will become a core capability of successful enterprises. It has the potential to improve the experience that you provide to your customers and deepen their engagement. But to make application-driven intelligence a reality, you can no longer rely only on copying live application data out of operational systems into analytics stores.\n",
       " Rather, it takes the unique real-time application-serving layer of a MongoDB database combined with the scale and real-time capabilities of a Databricks Lakehouse to automate and operationalize complex and AI-enhanced applications at scale. In this session we will show how it can be seamless for developers and data scientists to automate decisioning and actions on fresh application data and we'll deliver a practical demonstration on how operational data can be integrated in real time to run complex Machine Learning pipelines.</td><td>128</td></tr><tr><td>Making Travel More Accessible for Customers Bringing Mobility Devices</td><td>American Airlines takes great pride in caring for customers travel, and recognize the importance of supporting the dignity and independence of everyone who travels with us. As we work to improve the customer experience, we're committed to making our airline more accessible to everyone. Our work to ensure that travel that is accessible to all is well underway. We have been particularly focused on making the journey smoother for customers who rely on wheelchairs or other mobility devices. We have implemented the use of a bag tag specifically for wheelchairs and scooters that gives team members more information, like the mobility device’s weight and battery type, or whether it needs to be returned to a customer before a connecting flight.\n",
       " \n",
       " As a data engineering and analytics team, we at American Airlines are building a passenger service request data product that will provide timely insights on expected mobility device traffic at each airport so that the front-line team members can provide seamless travel experience to the passengers.</td><td>129</td></tr><tr><td>Improve Apache Spark DS V2 Query Planning Using Column Stats</td><td>When doing the TPC-DS benchmark using external V2 data source, we have observed that for several of the queries, DS V1 has better join plans than Spark. The main reason is that DS V1 uses column stats, especially number of distinct values (NDV) for query optimization. Currently, Spark DS V2 only has interfaces for data sources to report table statistics such as size in bytes and number of rows. In order to use column stats in DS V2, we have added new interfaces to allow external data sources to report column stats to Spark. For a data source with huge data, it’s always challenging to get the column stats, especially the NDV. We plan to calculate NDV using Apache DataSketches Theta sketch and save the serialized compact sketch in the statistics file. The NDV and other column stats will be reported to Spark for query plan optimization.</td><td>130</td></tr><tr><td>Databricks Powered Enterprise Data Platform for Faster Insights with Optimal Cost</td><td>A leading Australian Bank engaged Deloitte to review architecture of current enterprise data platform enabled using Databricks. Bank’s vision is to limit proliferation of diverse tools/technology while enabling “best of breed” capabilities in the bank’s next-gen data platform. To realize this vision, the enterprise data platform will use various Databricks capabilities: DLT (Delta Live tables), Unity Catalog, Delta Sharing, Databricks Dashboards and Databricks Alerts. Using of these Databricks high performance and scalable capabilities allows the bank to avoid proliferation of disparate tools and reduce a need for custom development or integration. \n",
       " \n",
       " During this session, Deloitte, Databricks and Australian Bank will present how Databricks can be leveraged to develop a robust, resilient and scalable data platform which allows an organization to achieve scaled data sharing, reducing lead time to generate insights via reports, dashboards, AI/ML and Data Sharing.</td><td>131</td></tr><tr><td>Using Databricks to Power Insights and Visualizations on the S&P Global Marketplace</td><td>In this session, we will explain the visualizations that serve to shorten the time to insight for our prospects and encourage potential buyers to take the next step and request more information from our commercial team. The S&P Global Marketplace is a discovery and exploration platform that enables prospective buyers and clients to easily search fundamental and alternative datasets from across S&P Global and curated third-party providers. It serves as a digital storefront that provides transparency into data coverage and use cases, reducing the time and effort for clients to find data for their needs. A key feature of Marketplace is our interactive data visualizations that provide insight into the coverage of a dataset and demonstrate how the dataset can be used to make more informed decisions.   \n",
       " \n",
       "  \n",
       " \n",
       " The S&P Global Marketplace’s interactive visualizations are displayed in Tableau and are powered by Databricks. The Databricks platform allows for easy integration of S&P Global data and provides a collaborative environment where our team of product managers and data engineers can develop the code to generate each visualization. The team utilizes the web interface to develop the queries that perform the heavy lifting of data transformation instead of performing these tasks in Tableau. The final notebook output is saved into a custom datamart (“golden table”) which is the source for Tableau. We also developed an automated process that refreshes the whole process to ensure Marketplace has up to date visualizations.</td><td>132</td></tr><tr><td>Self-Service Geospatial Analysis Leveraging Databricks, Apache Sedona, and R</td><td>Geospatial data analysis is critical to understanding the impact of agricultural operations on environmental sustainability with respect to water quality, soil health, greenhouse gasses, and more. Outside of a few specialized software products, however, support for spatial data types is often limited or missing from analytics and visualization platforms. In this session, we show how Truterra is using Databricks, Apache Sedona, and R to analyze spatial data at scale. Additionally, learn how Truterra uses spatial insights to educate and promote practices that optimize profitability, sustainability, and stewardship outcomes at the farm. In this session, you will see how Databricks and Apache Sedona are used to process large spatial datasets including field, watershed, and hydrologic boundaries. You will see dynamic widgets, SQL and R used in tandem to generate map visuals, display them, and enable download all from a Databricks notebook.</td><td>133</td></tr><tr><td>Processing Delta Lake Tables on AWS Using AWS Glue, Amazon Athena, and Amazon Redshift</td><td>Delta Lake is an open-source project that helps implement modern data lake architectures commonly built on cloud storages. With Delta Lake, you can achieve ACID transactions, time travel queries, CDC, and other common use cases on the cloud. There are a lot of use cases of Delta tables on AWS. AWS has invested a lot in this technology, and now Delta Lake is available with multiple AWS services, such as AWS Glue Spark jobs, Amazon EMR, Amazon Athena, and Amazon Redshift Spectrum. AWS Glue is a serverless, scalable data integration service that makes it easier to discover, prepare, move, and integrate data from multiple sources. With AWS Glue, you can easily ingest data from multiple data sources such as on-prem databases, Amazon RDS, DynamoDB, MongoDB into Delta Lake on Amazon S3 even without expertise in coding.\n",
       " \n",
       " This session will demonstrate how to get started with processing Delta Lake tables on Amazon S3 using AWS Glue, and querying from Amazon Athena, and Amazon Redshift. The session also covers recent AWS service updates related to Delta Lake.</td><td>134</td></tr><tr><td>A Simple SQL Execution API for the Databricks Lakehouse Architecture</td><td>Given the widespread support of REST architectures, data managed by the Databricks Lakehouse Platform can now be accessed from anywhere, making it easy to build data applications tailored to your needs. You can use the SQL Execution API to build web services-based applications, integrate with various applications and computing devices, create generic integration layers for enterprise services, or create custom client libraries for your programming language of choice.\n",
       " \n",
       " In this talk we are going to deep dive into the design and implementation of the SQL Execution API with a focus on:\n",
       " 1. The key API features which can be used to develop data applications.\n",
       " 2. The underlying Databricks architecture such as Cloud Fetch that we developed to enable this API.</td><td>135</td></tr><tr><td>Best Exploration of Columnar Shuffle Design</td><td>To significantly improve the performance of Spark SQL, there is a trend to offload Spark SQL execution to highly optimized native libraries or accelerators in past several years, like Photon from Databricks, Nvidia's Rapids plug-in, and Intel & Kyligence's initiated open source Gluten project. By the multi-fold performance improvement from these solutions, more and more Spark users have started to adopt the new technology. One characteristics of native libraries is that they all use columnar data format as the basic data format. It's because the columnar data format has the intrinsic affinity to vectorized data processing using SIMD instructions. While vanilla Spark's shuffle is based on spark's internal row data format. The high overhead of the columnar to row and row to columnar conversion during the shuffle makes reusing current shuffle not possible. Due to the importance of shuffle service in Spark, we have to implement an efficient columnar shuffle, which brings couple of new challenges, like the split of columnar data, or the dictionary support during shuffle.\n",
       " \n",
       " In this session, we will share 1) the exploration process of the columnar shuffle design during our Gazelle and Gluten development, and best practices for implementing the columnar shuffle service. We will also share how we learned from the development of vanilla Spark's shuffle, for example, how to address the small files issue then we will propose the new shuffle solution. We will show the performance comparison between Columnar shuffle and vanilla Spark's row-based shuffle. Finally, we will share how the new built-in accelerators like QAT and IAA in the latest Intel processor are used in our columnar shuffle service and boost the performance.</td><td>136</td></tr><tr><td>What Happens When Curious and Knowledgeable Business People are Provided Access to the Right Data and Equipped With Simple Tools and Supported by Guidance From In-House Technical Experts</td><td>Too often business decisions in large organizations are based on time consuming and labor-intensive data extracts, fragile excel or access sheets that require significant manual intervention. The teams that prepare these manual reports have invaluable heuristic knowledge that, when combined with meaningful data and tools, can make smart business decisions. \n",
       " \n",
       " \n",
       " Imagine a world where these business teams are empowered with tools that help them build meaningful reports despite their limited technical expertise.\n",
       " \n",
       " \n",
       " In this talk we will discuss : \n",
       " \n",
       " The value derived from investing in developing citizen data personas within a business organization\n",
       " \n",
       " How we successfully built a citizen data analytics culture within Michelin \n",
       " \n",
       " Real examples of the impact of this initiative on - the business and on the people themselves.\n",
       " \n",
       " The audience will walk away with some convincing arguments for building a citizen data culture in their organization and a how-to cookbook that they can use to cultivate citizen data personas.\n",
       " \n",
       " Finally, they will also have the opportunity to interactively uncover key success factors in the case of Michelin that can help drive a similar initiative in their respective companies.</td><td>137</td></tr><tr><td>Modularized Approach to Scale Suite of Advanced Omnichannel Analytics Products</td><td>GSK started the journey of Omnichannel vision a few years ago using static business rules and customer targeting. We kicked off 2022 with conceptualization of a suite of monitoring, measurement and planning products that would help GSK establish a comprehensive omnichannel measurement strategy and plan across its global markets. One of the key guiding principles during conceptualization was deeply and seamlessly embedding these products within GSK’s data transformation and storage architecture built on Azure Databricks. We built the platform powered extensively by Databricks, GitHub and open-source technologies like Python. In this session, we will cover the following aspects of our journey along with some best practices that we have learned over time.</td><td>138</td></tr><tr><td>AI to FI with Databricks</td><td>Artificial Intelligence, Business Intelligence, Continuous Intelligence, Data Intelligence, Execution Intelligence, and Financial Intelligence are explained.\n",
       " 1. Challenges of common pipeline design to support AI-FI \n",
       " 2. Challenges of leveraging data acquired over many acquisitions\n",
       " 3. How is the Lakehouse paradigm lending itself to solving these challenges?\n",
       " 4. Some cool results we can show the world.\n",
       " \n",
       " To provide the most meaningful data to Profiles by Kantar, the leading provider of high-quality survey panelists, its data science team developed PROMETHEUS. It is a platform that supports real-time, continuously updated models, rigorous business analysis, MIS dashboards, Operational Research based allocation, and financial forecasts based on a single source of truth with maximum scalability. \n",
       " \n",
       " To successfully realize this, a multi-stage pipeline based on a lakehouse structure was incrementally developed and put into production using Databricks.This session will explain how Profiles by Kantar approached the design, onboarded analysts and developers, integrated data pipelines, and provided model outputs. Think building a plane while it is flying.</td><td>139</td></tr><tr><td>How the Texas Rangers Revolutionized Baseball Analytics with a Modern Data Lakehouse</td><td>Don't miss this session where we demonstrate how the Texas Rangers baseball team organized their predictive models by using MLFlow and the MLRegistry inside Databricks. They started using Databricks as a simple solution to centralizing our development on the cloud. This helped lessen the issue of siloed development in our team, and allowed us to leverage the benefits of distributed cloud computing. But we quickly found that Databricks was a perfect solution to another problem that we faced in our data engineering stack. Specifically, cost, complexity, and scalability issues hampered our data architecture development for years, and we decided we needed to modernize our stack by migrating to a lakehouse. With our lakehouse, ad-hoc-analytics, ETL operations, and MLOps all living within Databricks, development at scale has never been easier for our team. Going forward, we hope to fully eliminate the silos of development, and remove the disconnect between our analytics and data engineering teams. From computer vision, pose analytics, and player tracking, to pitch design, base stealing likelihood, and more, come see how the Texas Rangers are using innovative cloud technologies to create action-driven reports from the current sea of Big Data. </td><td>140</td></tr><tr><td>Improving Hospital Operations With Streaming Data and Real Time AI/ML</td><td>Over the past two years, Providence has developed a robust streaming data platform (SDP) leveraging Databricks in Azure. The SDP enables us to ingest and process real-time data reflecting clinical operations across our 52 hospitals and roughly 1000 ambulatory clinics. HL7 messages generated by Epic are parsed using Databricks in our secure cloud environment and used to generate an up-to-the minute picture of exactly what is happening at the point of care. We are already leveraging this information to minimize hospital overcrowding and have been actively integrating AI/ML to accurately forecast future conditions (e.g., arrivals, length of stay, acuity, and discharge requirements). This allows us to both improve resource utilization (e.g., nurse staffing levels) and to optimize patient throughput. The result is both improved patient care and operational efficiency. In this session we will share how these outcomes are only possible with the power and elegance afforded by our investments in Azure, Databricks, and increasingly Lakehouse. We will demonstrate Providence's blueprint for enabling real-time analytics which can be generalized to other healthcare providers.</td><td>141</td></tr><tr><td>AI Regulation is Coming: The EU AI Act and How Databricks Can Help with Compliance</td><td>With the heightened attention on LLMs and what they can do, and the widening impact of AI on day-to-day life, the push by regulators across the globe to regulate AI is intensifying. As with GDPR in the privacy realm, the EU is leading the way with the EU Artificial Intelligence Act (AIA). Regulators everywhere will be looking to the AIA as precedent, and understanding the requirements imposed by the AIA is important for all players in the AI channel. Although not finalized, the basic framework regarding how the AIA will work is becoming clearer. The impact on developers and deployers of AI (‘providers’ and ‘users’ under the AIA) will be substantial. Although the AIA will probably not go into effect until early 2025, AI applications developed today will likely be affected, and design and development decisions made now should take the future regulations into account.\n",
       "\n",
       "In this session, Matteo Quattrocchi, Brussels-based Director, Policy – EMEA, for BSA (the Software Alliance – the leading advocacy organization representing the enterprise software sector), will present an overview of the current proposed requirements under the AIA and give an update on the ongoing deliberations and likely timing for enactment. We will also highlight some of the ways the Lakehouse platform, including Managed MLflow, can help providers and users of ML-based applications meet the requirements of the AIA and other upcoming AI regulations.\n",
       "</td><td>142</td></tr><tr><td>Using Databricks to Develop Statistical and Mathematical Models to Forecast the Monkeypox Outbreak in Washington State</td><td>In the spring and summer of 2022, monkeypox was detected in the United States and quickly spread throughout the country. To contain and mitigate the spread of the disease in Washington State, the Washington Department of Health data science team used the Databricks platform to develop a modeling pipeline that employed statistical and mathematical techniques to forecast the course of the monkeypox outbreak throughout the state. These models provided actionable information that helped inform decision making and guide the public health response to the outbreak. \n",
       " \n",
       " We used contact-tracing data, standard line-lists, and published parameters to train a variety of time-series forecasting models, including an ARIMA model, a Poisson regression, and an SEIR compartmental model. We also calculated the daily R-effective rate as an additional output. The compartmental model best fit the reported cases when tested out of sample, but the statistical models were quicker and easier to deploy and helped inform initial decision-making. The R-effective rate was particularly useful throughout the effort. \n",
       " \n",
       " Overall, these efforts highlighted the importance of rapidly deployable and scalable infectious disease modeling pipelines. Public health data science is still a nascent field, however, so common best practices in other industries are often-times novel approaches in public health. The need for stable, generalizable pipelines is crucial. Using the Databricks platform has allowed us to more quickly scale and iteratively improve our modeling pipelines to include other infectious diseases, such as influenza and RSV. Further development of scalable and standardized approaches to disease forecasting at the state and local level is vital to better informing future public health response efforts.</td><td>143</td></tr><tr><td>Accelerating the Development of Viewership Personas With a Unified Feature Store</td><td>With the proliferation of video content and flourishing consumer demand, there is an enormous opportunity for customer-centric video entertainment companies to use data & analytics to understand what their viewers want and deliver more of the content that that meets their needs.\n",
       " \n",
       " At DIRECTV, our Data Science Center of Excellence is constantly looking to push the boundary of innovation in how we can better and more quickly understand the needs of our customers and leverage those actionable insights to deliver business impact. One way in which we do so is through the development of Viewership Personas with cluster analysis at scale to group our customers by the types of content they enjoy watching. This process is significantly accelerated by a unified feature store which contain a wide array of features that captures key information on viewing preferences.\n",
       " \n",
       " This presentation will focus on how the DIRECTV Data Science team utilizes Databricks to help: (1) develop a unified feature store and (2) how we leverage the feature store to accelerate the process of running machine learning algorithms to find meaningful viewership clusters.</td><td>144</td></tr><tr><td>How You Can Audit A Language Model</td><td>Language models like ChatGPT are incredible research breakthroughs but require auditing & risk management before productization. These systems raise concerns related to toxicity, transparency & reproducibility, intellectual property licensing & ownership, dis- & misinformation, supply chains & significant carbon footprints. How can your org. leverage these new tools without taking on undue or unknown risks?\n",
       " \n",
       " Recent public reference work from In-Q-Tel Labs & BNH.AI details an audit of a named entity recognition (NER) application based on the pre-trained language model RoBERTa. If you have a language model use case in mind & want to understand your risks, this presentation will cover:\n",
       " \n",
       " * Studying past incidents using the AI Incident Database and using this information to guide debugging.\n",
       " \n",
       " * Finding & fixing common data quality issues.\n",
       " \n",
       " * Applying general public tools & benchmarks as appropriate (e.g., checklist, SuperGLUE, HELM).\n",
       " \n",
       " * Binarizing specific tasks & debugging them using traditional model assessment and bias testing.\n",
       " \n",
       " * Constructing adversarial attacks based on a model's most significant risks and analyzing the results in terms of performance, sentiment & toxicity.\n",
       " \n",
       " * Testing performance, sentiment & toxicity across different & less common languages.\n",
       " \n",
       " * Conducting random attacks: random sequences of attacks, prompts or other tests that may evoke unexpected responses.\n",
       " \n",
       " * Don't forget about security: auditing code for backdoors & training data for poisoning, ensuring endpoints are protected with authentication & throttling and analyzing third-party dependencies.\n",
       " \n",
       " * Engaging stakeholders to help find problems system designers & developers cannot see.\n",
       " \n",
       " It's now time to figure out how to live with AI, and that means audits, risk management & regulation.</td><td>145</td></tr><tr><td>JetBlue’s real-time AI & ML digital twin journey using Databricks</td><td>JetBlue has embarked over the past year on an AI & ML transformation. Databricks has been instrumental in this transformation due to the ability to integrate streaming pipelines, ML training using MLFlow, ML API serving using ML registry and more in one cohesive platform. Using real-time streams of weather, aircraft sensors, FAA data feeds, JetBlue operations and more are used for the world's first AI & ML operating system orchestrating a digital-twin, known as BlueSky for efficient & safe operations. JetBlue has over 10 ML products (multiple models each product) in production across multiple verticals including dynamic pricing, customer recommendation engines, supply chain optimization, customer sentiment NLP and several more. \n",
       " \n",
       " The core JetBlue data science & analytics team consists of Operations Data Science, Commercial Data Science, AI & ML engineering and Business Intelligence. To facilitate the rapid growth and faster go-to-market strategy, the team has built an internal Data Catalog + AutoML + AutoDeploy wrapper called BlueML using Databricks features to empower data scientists including advanced analysts with the ability to train & deploy ML models in less than 5 lines of code.</td><td>146</td></tr><tr><td>Intermittent Service Part Demand Forecasting at John Deere</td><td>John Deere customers demand reliability and uptime for their equipment and John Deere dealers must fulfill that need by stocking the right mix of service parts in the right quantities to keep them up and running. John Deere dealers operate on six continents with geographically dispersed customers, products, and equipment. This presents a significant operations and logistics challenge to maintain best-in-industry service levels. Improved demand forecasting enables better retail stocking decisions and inventory planning, however, the variety of equipment serviced, diversity of customer segments, and total number of SKUs at dealer retail locations presents a complex demand forecasting challenge.\n",
       " \n",
       " The John Deere Aftermarket Analytics team took on this opportunity and developed forecasts and stocking recommendations for difficult low volume and intermittent demand service parts that comprise a large percentage of dealers' part sales. Building and iterating the solution required development of data pipelines, exploratory analysis and investigation, model training with multiple R and Python packages, experiment tracking in MLFlow, and model deployment. All of this was enabled with John Deere's Enterprise Data Lake paired with Databricks.\n",
       " \n",
       " In this session, learn about:\n",
       " \n",
       " • Practical approaches for intermittent demand forecasting \n",
       " • Leveraging Workspaces and Repos for efficient team collaboration\n",
       " • Developing scalable data pipelines and features for ML models with Delta Lake\n",
       " • Rapid model experimentation with AutoML and MLFlow\n",
       "  • Job orchestration using Workflows</td><td>147</td></tr><tr><td>Scaling AI Applications With Databricks, HuggingFace and Pinecone</td><td>The production and management of large-scale vector embeddings can be a challenging problem. The integration of Databricks, Hugging Face and Pinecone offers a powerful solution. Vector embeddings have become an essential tool in the development of AI powered applications. Embeddings are representations of data learned by machine models. High quality embeddings are unlocking use cases like semantic search, recommendation engines, and anomaly detection. Databricks' Spark ecosystem together with Hugging Face's Transformers library enable large-scale vector embeddings production using GPU processing, Pinecone's vector database provides ultra-low latency querying and upserting of billions of embeddings, allowing for high-quality embeddings at scale for real-time AI apps.\n",
       " In this session, we will present a concrete use case of this integration in the context of a natural language processing application. We will demonstrate how Pinecone's vector database can be integrated with Databricks and Hugging Face to produce large-scale vector embeddings of text data and how these embeddings can be used to improve the performance of various AI applications. You will see the benefits of this integration in terms of speed, scalability, and cost efficiency. By leveraging the GPU processing capabilities of Databricks and the ultra low-latency querying capabilities of Pinecone, we can significantly improve the performance of NLP tasks while reducing the cost and complexity of managing large-scale vector embeddings. You will learn about the technical details of this integration and how it can be implemented in your own AI projects, and gain insights into the speed, scalability, and cost efficiency benefits of using this solution. </td><td>148</td></tr><tr><td>Hyperparameter Tuning Via Apache Spark and Ray</td><td>Model selection through hyperparameter tuning (HPT) is a computationally intensive task. Development of specialized hardware, distributed computation, and modern model selection algorithms has allowed a wide range of potential solutions to be evaluated by the data science community. In this session, you will learn more about how Marks and Spencer tackled this task. In examining the tools, you see that Spark UDF and Ray have received considerable attention from the data science community. Spark UDF allows parallelized execution of custom workloads on distributed datasets in a fault tolerant and scalable manner. Ray is an open-source framework for distributed model selection. It features a well-designed, narrow waist API that seamlessly integrates a wide range of hyperparameter search algorithms. Ray creates trials and controls their execution with the help of a scheduler equipped with well-known HPT algorithms allowing Bayesian optimization and Population-based training. </td><td>149</td></tr><tr><td>Large Scale Multi-Task Learning Recommender Service at Verizon</td><td>Millions of customers visit the Verizon company website and stores monthly to shop, from plans to products and accessories. Numerous task-specific recommender models have been built at Verizon to enhance customer experience. Motivated by the latest development in deep learning, multi-task learning architectures can better understand customer behavior therefore greatly improve model performance, and also save time to learn new tasks. However, it’s challenging to build such a model that digests heterogeneous data from purchases, online clicks, store visits to customer services and many more, while also  accomplishing various tasks where some of them might contradict with each other. Motivated by the Pathways vision, we built a novel multi-task learning recommender service called Pathways Recommender Service (PaRS), which directly handles multiple abstract forms of data and is able to generalize across multiple recommendation tasks at Verizon. You will see the that we explored built-in bias mitigation in PaRS to promote diverse, relevant and fair recommendations.</td><td>150</td></tr><tr><td>Rapidly Scaling Applied AI/ML with Foundational Models and Applying Them to Modern AI/ML Use Cases</td><td>Today many of us are familiar with Foundational models such as LLM/ChatGPTl. However, there are many more enterprise foundational models that can be rapidly deployed, trained and applied to enterprise use cases. This approach dramatically increases the performance of AI/ML models in production, but also gives AI teams rapid roadmaps for efficiency and delivering value to the business. Databricks provides the ideal toolset to enable this approach. In this session, we will provide a logically overview of Foundational models available today, demonstrate a real-world use case, and provide a business framework for data scientists and business leaders to collaborate to rapidly deploy these use cases.</td><td>151</td></tr><tr><td>International Finance Corporation's MALENA Platform Provides Investors Working in Emerging Markets the Analytical Capacity to Support the Review of ESG Issues at Scale</td><td>International Finance Corporation (IFC) is using data and AI to build machine learning solutions that create analytical capacity to support the review of ESG issues at scale. This includes natural language processing and requires entity recognition and other applications to support the work of IFC’s experts and other investors working in emerging markets. These algorithms are available via IFC’s Machine Learning ESG Analyst (MALENA) platform to enable rapid analysis, increase productivity, and build investor confidence. In this manner, IFC, a development finance institution with the mandate to address poverty in emerging markets, is making use of its historical datasets and open-source AI solutions to build custom-AI applications that democratize access to ESG capacity to read and classify text. \n",
       "In this session, you will learn the unique flexibility of the Spark ecosystem from Databricks and how that has allowed IFC’s MALENA project to connect to scalable Datalake storage, use different natural language processing models and seamlessly adopt MLOps.</td><td>152</td></tr><tr><td>How MLOps on Databricks helped adidas to gain speed in productionising ML projects</td><td>MLOps enables Data science teams to bring ML models into production environments in an efficient manner while making sure that the model pipeline is maintained and model is monitored continuously. When drift is detected, models are retrained promptly and teams are notified with the availability of new version of model. Our team at adidas has created a ML template that uses Databricks, Jenkins and MLflow, which facilitates in the faster deployment process for our ML models in production. We employ a hybrid deployment strategy to minimize compute costs for large models. This presentation will demonstrate how the template was developed, how our teams are utilizing it for model deployment and how it helped us to gain speed to bring or use cases live.</td><td>153</td></tr><tr><td>How We Built a Unified Talent Solution Using Databricks Machine Learning</td><td>Using Databricks, we built a “Unified Talent Solution”, backed by a robust data and AI engine for analyzing skills of a combined pool of permanent employees, contractors, part-time employees and vendors, inferring skill gaps, future trends and recommended priority areas to bridge talent gaps, which ultimately greatly improved operational efficiency, transparency, commercial model, and talent experience of our client. We leveraged a variety of ML algorithms such as boosting, neural networks and NLP transformers to provide better AI-driven insights. One inevitable part of developing these models within a typical DS workflow is iteration. Databricks' end-to-end ML/DS workflow service, MLFlow, helped streamline this process by organizing them into experiments that tracked the data used for training/testing, model artifacts, lineage and the corresponding results/metrics. For checking the health of our models using drift detection, bias and explainability techniques, MLFlow's deploying, and monitoring services were leveraged extensively. Our solution built on Databricks platform, simplified ML by defining a data-centric workflow that unified best practices from DevOps, DataOps, and ModelOps. Databricks Feature Store allowed us to productionize our models and features jointly. Insights were done with visually appealing charts and graphs using PowerBI, plotly, matplotlib, that answer business questions most relevant to clients. We built our own advanced custom analytics platform on top of delta lake as Delta’s ACID guarantees allows us to build a real-time reporting app that displays consistent and reliable data - React (for front-end), Structured Streaming for ingesting data from Delta table with live query analytics on real time data ML predictions based on analytics data</td><td>154</td></tr><tr><td>Meet LOLA: The Innovation Engine Brewing Models at Scale for AB-InBev</td><td>Today the world's largest brewer, AB-InBev, is disrupting the industry with BEES and LOLA. LOLA is our machine learning platform that enables us to brew models at scale. The foundation of LOLA rests on Databricks Lakehouse's platform and is now being extended globally with Unity Catalog. However, three years ago, things were different. Back then, LOLA was just a simple recommender with less than 60% account coverage in the US. Now it is evolving into an ML platform that supports more models, like our new recommendation engine DEAR, with 95%+ account coverage and integration with BEES in the US.\n",
       "As LOLA evolves, the foundation laid by Lakehouse paved the way for the cornerstone of our platform, our platinum data layer, the Feature Store. The Feature Store is the hub for all feature engineering in LOLA, using Databricks Workflows to support over 250+ production features. But, more importantly, it has become the abstraction layer that helps build out our growing number of ML pipelines.\n",
       "  \n",
       " </td><td>155</td></tr><tr><td>Scaling MLOps for a demand forecasting across multiple markets for a large CPG</td><td>In this session, we look at how one of the world’s largest CPG company setup a scalable MLOps pipeline for a Demand Forecasting use case that predicted demand at 100k+ DFUs (demand forecasting units) on a weekly basis across 20+ markets. This implementation resulted in significant cost savings in terms of improved productivity, reduced cloud usage and faster time to value amongst other benefits.\n",
       " The attendees of this session will leave this session with a clearer picture on the following:\n",
       " 1. Best practices in scaling mlops with Databricks and Azure for a demand forecasting use case with a multi-market and multi-region roll-out.\n",
       " 2. Best practices related to model re-factoring and setting up standard CI-CD pipelines for MLOps\n",
       " 3. What are some of the pitfalls to avoid in such scenarios?</td><td>156</td></tr><tr><td>MLOps at Gucci: From Zero to Hero</td><td>In recent years, similar principles to those of DevOps in software development have been applied to Machine Learning projects with the goal of productionizing automated solutions. However, Machine Learning Operations (MLOps) practices have proven to be of difficult implementation, as they often require putting together several different tools in a complex architecture. In this session, we introduce MLOps concepts and describe how we implement MLOps principles in our projects at Gucci by leveraging Databricks functionalities. A use case of deploying a data science tool for supporting media budget allocation decisions is presented. After the development of a POC to experiment and effectively address the business problem, the code was versioned and refactored. Code reviews were executed to ensure quality and readability. Within Databricks, we rapidly moved the project to the production stage by achieving an automated solution including unit tests, environment configuration, registration and versioning of models, monitoring of model performances as well as model serving and a dashboard to visualize results. This template is being successfully replicated for other projects and is allowing our new Data Science team to quickly bring value to different business areas of the company. These best practices and insights can be used as an example of how this can be beneficial to you or other practitioners.</td><td>157</td></tr><tr><td>Streamlining API Deployment for ML Models Across Multiple Brands: Ahold Delhaize's Experience on Serverless</td><td>At Ahold Delhaize, we have 19 local brands. Most of our brands have common goals, such as providing personalized offers to their customers, a better search engine on e-commerce websites, and forecasting models to reduce food waste and ensure availability. As a central team, our goal is to standardize the way of working across all of these brands, including the deployment of machine learning models. To this end, we have adopted Databricks as our standard platform for our batch inference models. \n",
       "\n",
       "However, API deployment for real time inference models remained challenging due to the varying capabilities of our brands. Our attempts to standardize API deployments with different tools failed due to complexity of our organization. Fortunately, Databricks has recently introduced a new feature: serverless API deployment. Since all our brands already use Databricks, this feature was easy to adopt. It allows us to easily reuse API deployment across all of our brands, significantly reducing time to market (from 6-12 months to 1 month), increasing efficiency, and reducing the costs. In this session, you will see the solution architecture, sample use case specifically used to cross-sell model deployed to 4 different brands, and API deployment using Databricks Serverless API with custom model.</td><td>158</td></tr><tr><td>Monetizing Data Assets: Sharing Data, Models and Features</td><td>Exec Summary:\n",
       " \n",
       " - Data is an asset and selling/sharing data has (largely) been solved\n",
       " - Hosted models exist (example: ChatGPT) but moving sensitive data across the public internet or across clouds is problematic\n",
       " - Sharing features (the result of feature engineering) can be monetized for new potential revenue streams\n",
       " - Sharing models can also be monetized while avoiding the transfer of sensitive data\n",
       " - This presentation will walk through a few examples of how to share models and features to generate new revenue streams using Delta Sharing, MLflow, and Databricks</td><td>159</td></tr><tr><td>An API for DL Inferencing on Spark</td><td>Apache Spark is a popular distributed framework for big data processing. It is commonly used for ETL (Extract, Transform and Load) across large datasets. Today, the Transform stage can often include the application of Deep Learning models on the data. For example, common models can be used for classification of images, sentiment analysis of text, language translation, anomaly detection, and many other use cases. Applying these models within Spark can be done today with the combination of PySpark, PandasUDF, and a lot of glue code. Often, that glue code can be difficult to get right, because it requires expertise across multiple domains - DL frameworks, PySpark APIs, PandasUDF internal behavior, and performance optimization.\n",
       " \n",
       " In this talk, we introduce a new, simplified API for DL inferencing on Spark, introduced in SPARK-40264 as a collaboration between NVIDIA and Databricks, which seeks to standardize and open-source this glue code to make DL inference integrations easier for everyone. We discuss its design and demonstrate its usage across multiple DL frameworks and models.</td><td>160</td></tr><tr><td>DEIMOS - Optimizing Time-Series Modeling at Scale With Applications in CPG</td><td>At the beginning of a forecasting project, data scientists must make several decisions, each of which impacts the success of a project. Should the model be univariate or multivariate? What features warrant the best model inputs? What model type should you choose? Are the best hyperparameters selected? All of these parts of the modeling process can be quite costly in terms of both time and computational resources. In this session, you will see solution we've created called DEIMOS (Deep Experimental Integrated Multivariate Optimized Series). DEIMOS is built to handle many of the critical problems in time-series modeling automatically and at scale. This package is designed to be simple and straightforward to use, with easily interpretable results to both technical and non-technical audiences. Moreover, we’ve designed it to be flexible so that it can be easily applied to many use cases.</td><td>161</td></tr><tr><td>Comparing Databricks and Snowflake for Machine Learning</td><td>Snowflake and Databricks both aim to provide data science toolkits for machine learning workflows, albeit with different approaches and resources. While developing ML models is technically possible using either platform, the Hitachi Solutions Empower team tested which solution will be easier, faster, and cheaper to work with in terms of both user experience and business outcomes for our customers. To do this, we designed and conducted a series of experiments with use cases from the TPCx-AI benchmark standard. We developed both single-node and multi-node versions of these experiments, which sometimes required us to set up separate compute infrastructure outside of the platform, in the case of Snowflake. We also built datasets of various sizes (1GB, 10GB, and 100GB), to assess how each platform/node setup handles scale. Based on our findings. On the average, Databricks is faster, cheaper, and easier to use for developing machine learning models, and we use it exclusively for data science on the Empower platform. Snowflake’s reliance on third party resources for distributed training is a major drawback, and the need to use multiple compute environments to scale up training is complex and, in our view, an unnecessary complication to achieve best results.</td><td>162</td></tr><tr><td>Testing Generative AI Models - What You Need to Know</td><td>Generative AI shows incredible promise for enterprise applications. The explosion of generative AI can be attributed to the convergence of several factors. Most significant is that the barrier to entry has dropped for AI application developers through customizable prompts (few-shot learning), enabling laypeople to generate high-quality content. The flexibility of models like ChatGPT and DALLE-2 have sparked curiosity and creativity about new applications that they can support. The number of tools will continue to grow in a manner similar to how AWS fueled app development.\n",
       " \n",
       " But excitement must be tampered by concerns about new risks imposed to business and society. Increased capability and adoption also increase risk exposure. As organizations explore creative boundaries of generative models, measures to reduce risk must be put in place. However, the enormous size of the input space and inherent complexity make this task more challenging than traditional ML models.\n",
       " \n",
       " In this talk, we summarize the new risks introduced by the new class of generative foundation models through several examples, and compare how these risks relate to the risks of mainstream discriminative models. Steps can be taken to reduce the operational risk, bias and fairness issues, and privacy and security of systems that leverage LLM for automation. We’ll explore model hallucinations, output evaluation, output bias, prompt injection, data leakage, stochasticity, and more. We’ll discuss some of the larger issues common to LLMs and show how to test for them. A comprehensive, test-based approach to generative AI development will help instill model integrity by proactively mitigating failure and the associated business risk.</td><td>163</td></tr><tr><td>Simplifying Real-Time Machine Learning: A Look at Feature Platforms and Modern Real-time ML Architectures Using MLflow & Tecton</td><td>Are you struggling to keep up with the demands of real-time machine learning? Like most organizations building real-time ML, you’re probably looking for a better way to: Manage the lifecycle of ML models and features, Implement batch, streaming, and real-time data pipelines, Generate accurate training datasets and Serve models and data online with strict SLAs, supporting millisecond latencies and high query volumes. Look no further! In this session, we will unveil a modern technical architecture that simplifies the process of managing real-time ML models and features. Using MLFlow and Tecton, we’ll show you how to build a robust MLOps platform on Databricks that can easily handle the unique challenges of real-time data processing. Join us to discover how to streamline the lifecycle of ML models and features, implement data pipelines with ease, and generate accurate training datasets with minimal effort. See how to serve models and data online with mission-critical speed and reliability, supporting millisecond latencies and high query volumes. Take a firsthand look at how FanDuel uses this solution to power their real-time ML applications, from responsible gaming to content recommendations and marketing optimization. See for yourself how this system can be used to define features, train models, process streaming data, and serve both models and features online for real-time inference with a live demo. Join us to learn how to build a modern MLOps platform for your real-time ML use cases.</td><td>164</td></tr><tr><td>Building a Real-Time Model Monitoring Pipeline on Databricks</td><td>Model deployment is almost never the final step in any ML lifecycle. ML models can degrade over time due to a variety of influencing factors. In this technical deep dive, we will build a real-time ML model monitoring pipeline on Databricks. We need to own and monitor our models for drifts like feature drift, concept drift, distribution drift, and so on. We must constantly monitor the models and issue alerts or trigger retraining when necessary. With so many open source tools and frameworks available, it can be difficult to figure out how to make everything work. In this tutorial, we will create a high-quality Model Monitoring Pipeline. Everything will be built from the ground up using Spark on Databricks. In this session we will introduce a use case in which we set up a model serving pipeline and log the predictions to a stream in real time. We will then configure a model metric monitoring pipeline to consume from the stream and aggregate over specific time windows. Then, to see these metrics live on dashboards, we will integrate a model monitoring visualizing pipeline.</td><td>165</td></tr><tr><td>Using NLP to evaluate 100 Million global webpages daily to contextually target consumers</td><td>This session will cover the challenges and the solution that The Trade Desk went through to scale their ML models for NLP for 100 million web pages per day.\n",
       "\n",
       "TTD's contextual targeting team needs to analyze 100 Million web pages per day. 50% of the webpages are non-English.  Half of the content was not being properly analyzed and targeted intelligently. TTD attempted to build a model using Spark NLP, however the package could not scale and was not cost-effective. GPU utilization was low and the solution was cost prohibitive (over $400K/year). TTD engaged with Databricks in early 2022 to build an NLP model on Databricks. Our teams partnered closely together.  We were able to build a solution using distributed inference (150-200 GPUs running at 80%+ utilization);  Databricks could translate the 50 Million web pages each day for 35+ languages for $6K per month - 200x faster and at a fraction of the cost. This solution enables TTD teams to standardize on English for contextual targeting ML models. TTD can now be a one-stop shop for their customers' global advertising needs.\n",
       "\n",
       "The Trade Desk is headquartered in Ventura, California. It is the largest independent demand-side platform in the world, competing against Google, Facebook, and others. Unlike traditional marketing, programmatic marketing is operated by real-time, split-second decisions based on user identity, device information, and other data points. It enables highly personalized consumer experiences and improves return-on-investment for companies and advertisers.\n",
       "</td><td>166</td></tr><tr><td>How Office Leverages Deep Graph Learning to Improve Productivity Products</td><td>We are the AI platform team from Microsoft 365. In this presentation, we will describe how our platform infuses various ML technologies that brings significant statistically improvement for hundreds of millions Microsoft 365 users into productivity products across Microsoft 365, along with a deep dive on how we leverage graph embeddings trained from DNN (Deep Graph Learning) technologies to improve search, recommendation and ranking systems across Microsoft 365. We will potentially cover the following topics: How to build per-organization knowledge graphs , ML infrastructure to deliver personalized features/embeddings/ML models at scale and embedding based ANN (Approximately Nearest Neighbor) search service. We will also go through the challenges and the solutions to deliver ML at Microsoft 365 scale.</td><td>167</td></tr><tr><td>Stable Diffusion: The Future of Generative AI</td><td>Stability.ai, makers of Stable Diffusion, is the fastest growing open source software in history, gaining 40,000 GitHub stars in the first 3 months of launch. In this session, you will discuss how this team trained the model for Stable Diffusion, how it is improving towards the new release, and current research questions in development that will reduce inference times, as well as ways the open-source developer community can collaborate on research and engineering.</td><td>168</td></tr><tr><td>Vector Data Lakes</td><td>Vector databases such as ElasticSearch and Pinecone offer fast ingestion and querying on vector embeddings with ANNs. However, they typically do not decouple compute and storage, making them hard to integrate in production data stacks. Because data storage in these databases is expensive and not easily accessible, data teams typically maintain ETL pipelines to offload historical embedding data to blob stores. When that data needs to be queried, they get loaded back into the vector database in another ETL process. This is reminiscent of loading data from OLTP database to cloud storage, then loading said data into an OLAP warehouse for offline analytics. Recently, “lakehouse” offerings allow direct OLAP querying on cloud storage, removing the need for the second ETL step. The same could be done for embedding data. While embedding storage in blob stores cannot satisfy the high TPS requirements in online settings, we argue it’s sufficient for offline analytics use cases like slicing and dicing data based on embedding clusters. Instead of loading the embedding data back into the vector database for offline analytics, we propose direct processing on embeddings stored in Parquet files in Delta Lake. You will see that offline embedding workloads typically touch a large portion of the stored embeddings without the need for random access. As a result, the workload is entirely bound by network throughput instead of latency, making it quite suitable for blob storage backends. On a test 1 billion vector dataset, ETL into cloud storage takes around 1 hour on a dedicated GPU instance, while batched nearest neighbor search can be done in under one minute with four CPU instances. We believe future “lakehouses” will ship with native support for these embedding workloads.</td><td>169</td></tr><tr><td>JoinBoost: In-DB ML for Tree-Models</td><td>Data and Machine Learning (ML) are crucial for enterprise operations. Enterprises store data in databases for management and use ML to gain business insights. However, there is a mismatch between the way ML expects data to be organized (a single table) and the way data is organized in databases (a join graph of multiple tables) and leads to inefficiencies when joining and materializing tables. In this session, you will see how we successfully address this issue. We introduce JoinBoost, a lightweight python library that trains tree models (such as random forests and gradient boosting) for join graphs in databases. JoinBoost acts as a query rewriting layer that is compatible with cloud databases, and eliminates the need for costly join materialization.</td><td>170</td></tr><tr><td>Demonstrate-Search-Predict: Composing Retrieval and Language Models for Knowledge-Intensive NLP</td><td>In this session, you will learn about how retrieval-augmented in-context learning has emerged as a powerful approach for addressing knowledge-intensive tasks using frozen language models (LM) and retrieval models (RM). Existing work has combined these in simple “retrieve-then-read” pipelines in which the RM retrieves passages that are inserted into the LM prompt. To begin to fully realize the potential of frozen LMs and RMs, we propose Demonstrate–Search–Predict (DSP), a framework that relies on passing natural language texts in sophisticated pipelines between an LM and an RM. DSP can express high-level programs that bootstrap pipeline-aware demonstrations, search for relevant passages, and generate grounded predictions, systematically breaking down problems into small transformations that the LM and RM can handle more reliably. We have written novel DSP programs for answering questions in open-domain, multi-hop, and conversational settings, establishing in early evaluations new state-of-the-art in-context learning results and delivering 37–125%, 8–40%, and 80–290% relative gains against vanilla LMs, a standard retrieve-then-read pipeline, and a contemporaneous self-ask pipeline, respectively.</td><td>171</td></tr><tr><td>Data Caching Strategies for Data Analytics and AI</td><td>The increasing popularity of data analytics and artificial intelligence (AI) has led to a dramatic increase in the volume of data being used in these fields, creating a growing need for an enhanced computational capability. Cache plays a crucial role as an accelerator for data and AI computations, but it is important to note that these domains have different data access patterns, requiring different cache strategies. In this session, you will see our observations on data access patterns in the analytical SQL and AI training domains based on practical experience with large-scale systems. We will discuss the evaluation results of various caching strategies for analytical SQL and AI and provide caching recommendations for different use cases. Over the years, we have learned some best practices from big internet companies about the following aspects of our journey: 1. Traffic pattern for analytical SQL and cache strategy recommendation, 2. Traffic pattern for AI training and how we can measure the cache efficiency for different AI training process, 3. Cache capacity planning based on real-time metrics of the working set, and 4. Adaptive caching admission and eviction for uncertain traffic patterns</td><td>172</td></tr><tr><td>If a Duck Quacks in the Forrest and Everyone Hears, Should you Care?</td><td>\"YES! \"\"Duck posting\"\" has become an internet meme for praising DuckDB on twitter. Nearly every quack using DuckDB has done it once or twice. But</td><td>173</td></tr><tr><td>Python with Spark Connect</td><td>PySpark has accomplished many milestones such as Project Zen, and been increasingly growing. We introduced pandas API on Spark, and hugely improved usability such as error messages, type hints, etc., and PySpark has become almost the very standard of distributed computing in Python.\n",
       " \n",
       " With this trend, the kind of PySpark use cases became also very complicated especially for modern data applications such as notebooks, IDEs, even devices such as smart home devices leveraging the power of data, that virtually need a lightweight separate client. However, today’s PySpark client is considerably heavy, and does not allow the separation from its scheduler, optimizer and analyzer as an example.\n",
       " \n",
       " In Apache Spark 3.4, one of the key features we introduced in PySpark is the Python client for Spark Connect that decouples client-server architecture for Apache Spark that allows remote connectivity to Spark clusters using the DataFrame API and unresolved logical plans as the protocol. The separation between client and server allows Apache Spark and its open ecosystem to be leveraged from everywhere. It can be embedded in modern data applications.\n",
       " \n",
       " In this talk, we will introduce what Spark Connect is, the internals of Spark Connect with Python, how to use Spark Connect with Python in the end-user perspective, and what’s next beyond Apache Spark 3.4.</td><td>174</td></tr><tr><td>Databricks Connect powered by Spark Connect: Develop and Debug Spark from any developer tool</td><td>Spark developers want to develop and debug their code using their tools of choice and development best practices while ensuring high-production fidelity on the target remote cluster. However, Spark's driver architecture is monolithic, with no built-in capability to directly connect to a remote Spark cluster from languages other than SQL. This makes it hard to enable such interactive developer experiences from a user’s local IDE of choice. Spark Connect’s decoupled client-server architecture introduces remote connectivity to Spark clusters and with that, enables interactive development experience - Spark and its open ecosystem can be leveraged from everywhere! \n",
       " \n",
       " In this talk, we show how we leverage Spark Connect to build a completely redesigned version of Databricks Connect, a first-class IDE-based developer experience that offers interactive debugging from any IDE. We show how developers can easily ensure consistency between their local and remote environments. We walk the audience through real-live examples of how to locally debug code running on Databrick. We also show how Databricks Connect integrates into the Databricks Visual Studio Code extension for an even better developer experience.</td><td>175</td></tr><tr><td>Ray on Spark</td><td>Ray and its associated native libraries make scaling ML projects effortless. With only minor modification to existing single-machine code, Ray enables converting ML workloads to a distributed computation environment simple, intuitive, and powerful. By leveraging the infrastructure of Spark and the massive scalability of Ray for ML workloads, running Ray on Spark allows you to scale your ML work with the libraries you want without having to switch to a different implementation paradigm or set of libraries to achieve extreme scale.\n",
       " \n",
       " This is a presentation of a collaboration between Databricks Engineering and AnyScale Engineering. It covers a joint effort in building an officially-supported integration. \n",
       " \n",
       " In this talk, we'll be presenting the new integration between Spark and Ray, showcasing how you can start a Ray cluster from within Spark and leverage it for many ML use cases. \n",
       " We'll dive into how to start the cluster from within a Databricks Notebook, as well as how to start the Ray dashboard and leverage it for inspecting the performance of submitted tasks. \n",
       " During this overview, we'll explain how cluster resources are allocated on Spark, as well as the general architecture of running Ray on Spark. We'll also showcase how to convert your existing Ray workloads to run on Spark with a single line of configuration change!\n",
       " We'll conclude with a brief overview of using RayTune to perform hyperparameter tuning of a model, showcasing how easy and powerful it is to use the APIs for ML use cases.</td><td>176</td></tr><tr><td>Why Delta Lake is the best storage format for pandas analyses</td><td>pandas analyses are often limited by file formats like CSV and Parquet. CSV doesn't allow for column pruning, which is an important performance optimization. Parquet doesn't allow for critical features like ACID transactions, time travel, and schema enforcement. This talk discusses why Delta Lake is the fastest file format for pandas users and how it provides users with great features.</td><td>177</td></tr><tr><td>Fine tuning & scaling Hugging Face with Ray AIR</td><td>Hugging Face Transformers is a popular open-source project with cutting-edge Machine Learning (ML). Still, meeting the computational requirements for advanced models it provides often requires scaling beyond a single machine. This session explores the integration between Hugging Face and Ray AI Runtime (AIR), allowing users to scale their model training and data loading seamlessly. We will dive deep into the implementation and API and explore how we can use Ray AIR to create an end-to-end Hugging Face workflow, from data ingestion through fine-tuning and HPO to inference and serving.\n",
       " \n",
       " The computational and memory requirements for fine-tuning and training these models can be significant. To deal with this issue, the Ray team has developed a Hugging Face integration for Ray AI Runtime (AIR), allowing models such as Transformers and Diffusion models training to be easily parallelized across multiple CPUs or GPUs in a Ray Cluster, saving time and money, all the while allowing to take advantage of the rich Ray ML ecosystem thanks to standard and common API.\n",
       " \n",
       " In this session, we explore the integration between Hugging Face and Ray AIR, allowing users to scale their NLP and computer vision models’ training and data loading seamlessly. We will dive deep into the implementation and API and explore how we can use Ray AIR to create an end-to-end Hugging Face workflow, from data ingestion through fine-tuning and HPO to inference and serving.\n",
       " \n",
       " Key Takeaways: \n",
       " * Python developers and machine learning engineers can use Transformers and scale their language models\n",
       " * Get exposed to Ray AIR’s Python APIs for end-to-end Hugging Face and ML workflow\n",
       " * Understand how Ray AIR, built atop Ray, can scale your Python-based ML workloads</td><td>178</td></tr><tr><td>Breaking Barriers with Databricks Lakehouse - How Blackberry is Revolutionizing Cybersecurity Services Worldwide. AI-Driven Cybersecurity that Works Smarter, Not Harder.\n",
       "</td><td>Cybersecurity incidents are costly, and using an Endpoint Detection and Response (EDR) solution enables the detection of cybersecurity incidents as quickly as possible. To effectively detect cybersecurity incidences requires the collection of millions of data points, and the storing/querying of endpoints data presents considerable engineering challenges. This includes quickly moving local data from endpoints to a single table in the cloud and enabling performant querying against it. The need to avoid internal data siloing within BlackBerry was paramount as multiple teams required access to the data to deliver an effective EDR solution for the present and the future. Databricks tooling enabled us to break down our data silos and iteratively improve our EDR pipeline to ingest data faster and reduce querying latency by more than 20% while reducing costs by more than 30%.\n",
       "In this session, BlackBerry Engineers Srinivasa Kanamatha and Justin Lai will share the journey, lessons learned, and the future for collecting, storing, governing, and sharing data from endpoints in Databricks. The result of building EDR using Databricks helped us accelerate the deployment of our data platform.\"\"</td><td>179</td></tr><tr><td>Scaling Deep Learning using Delta Lake storage format on Databricks</td><td>Delta Lake is an open-source storage format that can be ideally used for storing large-scale datasets, which can be used for single-node and distributed training of deep learning models. Delta Lake storage format gives deep learning practitioners unique data management capabilities for working with their datasets. \n",
       " The challenge is that, as of now, it’s not possible to use Delta Lake to train PyTorch models directly. PyTorch community has recently introduced a Torchdata library for efficient data loading. This library supports many formats out of the box, but not Delta Lake. This talk will demonstrate using the Delta Lake storage format for single-node and distributed PyTorch training using the torchdata framework and standalone delta-rs Delta Lake implementation.</td><td>180</td></tr></tbody></table></div>"
      ]
     },
     "metadata": {
      "application/vnd.databricks.v1+output": {
       "addedWidgets": {},
       "aggData": [],
       "aggError": "",
       "aggOverflow": false,
       "aggSchema": [],
       "aggSeriesLimitReached": false,
       "aggType": "",
       "arguments": {},
       "columnCustomDisplayInfos": {},
       "data": [
        [
         "Nebula: The Journey of Scaling Instacart’s Data Pipelines with Apache Spark™ and Lakehouse",
         "Instacart has gone through immense growth during the pandemic and the trend continues. Instacart ads is no exception in this growth story. We have launched many new product lines including display and video ads covering the full advertising funnel to address the increasing demand of our retail partners. We have built advanced models to auto-suggest optimal bidding to increase the ROI for our CPG partners. Advertisers’ trust is the utmost priority and thus the quest to build a top-class ads measurement platform.\n \n Ads data processing requires complex data verifications to update ads serving stats. In ETL pipelines these were implemented through files containing thousands of lines of raw SQL which were hard to scale, test, and iterate upon. Our data engineers used to spend hours testing small changes due to a lack of local testing mechanisms. \n \n These pain points stress our need for better tools. After some research, we chose Apache Spark™ as our preferred tool to rebuild ETLs, and the Databricks platform made this move easier. In this presentation, I will share our journey to move our pipelines to Spark and Delta Lake on Databricks. With spark, scala, and delta we solved many problems which were slowing the team’s productivity. Some key areas I will cover include:\n - Modular and composable code\n - Unit testing framework\n - Incremental event processing with spark structured streaming \n - Granular resource tuning for better performance and cost efficacy\n \n Other than the domain business logic, the problems discussed here are quite common for performing data processing at scale. I would be glad to have the opportunity to share our learning and am hopeful that it will benefit others who are going through similar growth challenges or migrating to Lakehouse.",
         0
        ],
        [
         "Satellite Imaginary Data Processing Using Apache Spark™ and H3 Geospatial Indexing System",
         "Agriculture is a complex ecosystem. Understanding Ag data around soil metrics, weather and historical crop production is a key to adopt sustainable practices which help farmers to enhance their profitability and soil health. As these datasets are huge and disparate in nature, finding a standard unit of analysis and bringing all the data to a common granularity is challenging. By leveraging the distributed data processing capabilities of Apache Spark™ and h3 geospatial indexing system, created a hexagonal grid and mapped all the data sets using h3 index. This gave us an ability to join all the datasets together and helped us in deriving more insights. This session will share our learnings and experiences with the Spark community.",
         1
        ],
        [
         "From Snowflake to Enterprise-Scale Apache Spark™",
         "Akamai mPulse is a real user monitoring (RUM) solution that delivers real-time web performance analytics to Akamai customers through dashboards, alerting, reporting and data science. The architecture of mPulse relies on a combination of public and private cloud-based services, such as Amazon AWS, Microsoft Azure and the Snowflake data warehouse. Snowflake has provided the core data warehousing needs as the product has grown at scale along with Akamai’s customers.\n \n The engineering team at mPulse has been re-architecting the system to migrate away from Snowflake to an internal enterprise-scale Apache Spark™  solution that Akamai has been developing in-house to improve performance and save on cost. In the first half of the talk, we’ll discuss how the mPulse team made the decision to migrate, the challenges we’ve seen and how Spark is suiting the product's needs.\n \n In the second half of the talk, we’ll discuss the details of the Spark-based infrastructure. Akamai data warehouse (a.k.a Asgard) is a Spark-based solution running on the Azure cloud. We will describe the internal and unique technologies and characteristics of the solution that enable it to outperform Snowflake's offering both from a cost and performance perspective. We will share our experience on how to:\n \n * Run Spark on K8s at scale while supporting multi-tenancy and resource isolation\n * Handle X100 queries per second on a single Spark application with sub-second query latency\n * Protect Spark application from misbehaving users \n * Optimize SQL-based queries",
         2
        ],
        [
         "The Future of Data Orchestration: Asset-Based Orchestration",
         "Data orchestration is a core component for any batch data processing platform and we’ve been using patterns that haven't changed since the 1980s. \n \n In this session, I’ll be introducing a new pattern and way of thinking for data orchestration known as asset-based orchestration, with data freshness sensors to trigger pipelines. I will demo this new pattern using popular tools of the modern data stack - dbt, airbyte, dagster, and databricks.",
         3
        ],
        [
         "Photon for Dummies: How Does this New Execution Engine Actually Work?",
         "Did you finish the Photon whitepaper and think, wait, what? I know I did. Unfortunately, it’s my job to understand it, explain it, and then use it.\n \n If your role involves using Apache Spark™ on Databricks, then you need to know about Photon and where to use it. \n \n Join me, chief dummy, nay *supreme* dummy, as I break down this whitepaper into easy to understand explanations that don’t require a computer science degree. Together we will unravel mysteries such as:\n - Why is a Java Virtual Machine the current bottleneck for spark enhancements?\n - What does vectorized even mean? And how was it done before?\n - Why is the relationship status between Spark and Photon 'It’s complicated'?\n \n In this seession, we’ll start with the basics of Apache Spark, the details we pretend to know and where those performance cracks were starting to show through. Only then will we start to look at Photon, how it’s different, where the clever design choices are and how you can make the most of this in your own workloads. \n \n I’ve spent over 50 hours going over the paper in excruciating detail, every reference, and in some instances, the references of the references so that you don’t have to. \n \n ",
         4
        ],
        [
         "Monitoring Delta Live Tables",
         "In this session we will share how Volvo Group monitors Databricks jobs and DLTs to stay ahead of the curve. Volvo Group uses Databricks for - amongst others - material planning. Based on live input from warehouse systems, the system predicts which orders to place with the suppliers to ensure the availability of spare parts and keep the trucks running. Since this is a critical component, with reverse ETL feeding the recommendation back into the warehouse systems, strict monitoring to avoid pipeline congestion is required. In this talk I will:\n * Explain a vision of data quality (deliver trustworthy data in time); which metrics to set up to monitor data quality\n * How it helps Volvo Group; make the SLA, jointly use with FinOps to improve ingestion pipelines, avoid congestion\n * Setup; use Jobs API and Databricks SQL workspace to build and consult the monitoring dashboard\n * Demo\n * Get notebook from GitHub",
         5
        ],
        [
         "Data Quality: Fast and Slow",
         "Data quality: the topic du jour. Gartner estimates the average business will lose $10M annually due to data quality problems, and every week we hear another cautionary tale of an AI model gone awry. As a result, startups and thought leaders are rushing to solve the visibility problem around data quality. Technology that unifies batch and streaming has massive but overlooked implications for our ability to trust existing data. \n \n In this session, I will demonstrate how architectures that can move between batch and incremental processing without changing the storage and API allow us to solve common data trust problems, such as stale data, as well as production ML risks, such as concept drift.\n \n This session is for data architects and practitioners. You don't need to be an ML or ETL expert to attend, but an interest in data architecture is critical.",
         6
        ],
        [
         "Taking Your Cloud Vendor to the Next Level: Solving Complex Challenges with Azure Databricks",
         "Akamai's content delivery network (CDN) processes about 30% of the internet's daily traffic, resulting in a massive amount of data that presents engineering challenges, both internally and with cloud vendors. In this session, we will discuss the barriers faced while building a data infrastructure on Azure, Databricks, and Kafka to meet strict SLAs, hitting the limits of some of our cloud vendors’ services. We will describe the iterative process of re-architecting a massive-scale data platform using the aforementioned technologies. We will also delve into how today, Akamai is able to quickly ingest and make available to customers TBs of data, as well as efficiently query PBs of data and return results within 10 seconds for most queries. This discussion will provide valuable insights for attendees and organizations seeking to effectively process and analyze large amounts of data.",
         7
        ],
        [
         "Unleashing the Power of Interactive Analytics at Scale with Databricks and Delta Lake: Lessons Learned from Building Akamai's Web Security Analytics Product",
         "Akamai is a leading content delivery network (CDN) and cybersecurity company, operating hundreds of thousands of servers in more than 135 countries worldwide.\n In this talk, we will share our experiences and lessons learned from building and maintaining the Web Security Analytics (WSA) product, an interactive analytics platform powered by Databricks and Delta Lake, that enables customers to efficiently analyze and take informed action on a high volume of streaming security events. \n \n The WSA platform must be able to serve hundreds of queries per minute, scanning hundreds of terabytes of data from a six petabyte data lake, with most queries returning results within ten seconds (for both aggregation queries and needle in a haystack queries).\n The talk will cover how to use Databricks SQL warehouses and job clusters cost-effectively, and how to improve query performance through the use of tools and techniques such as Delta Lake, Databricks Photon, and partitioning. \n This talk will be valuable for anyone looking to build and operate a high-performance analytics platform.",
         8
        ],
        [
         "ABN Story: Migrating to Future Proof Data Platform",
         "ABN AMRO Bank is one of the top leading banks in the Netherlands; it is the 3rd largest bank in the Netherlands by revenue and number when it comes to mortgages within the Netherlands. We have an objective to become a fully data-driven bank and this goal is well supported by our top management.\n \n ABN AMRO started its data journey almost seven years ago and has built a data platform off-premises with Hadoop technologies. This data platform has been used by more than 200 data providers, 150 data consumers, and overall more than 3000 Datasets.\n \n To become a fully digital bank and address the limitation of the on-premises platform, we needed a future-proof data platform DIAL (digital integration and access layer.) ABN AMRO decided to build an Azure cloud-native data platform with the help of Microsoft and Databricks. Last year this cloud-native platform was ready for our data providers and data consumers. Six months ago we started the journey of migrating all the content from the on-premises data platform to the Azure data platform, this was a very large-scale migration and was achieved in 6 months.\n \n In this session, we will focus on two things :\n 1. Share our strategy for migration from on-premises to a cloud-native platform. \n 2. Share how we used Databricks products in our data platform and how the Databricks team helped us in the overall migration.\n \n ",
         9
        ],
        [
         "Simon + Denny Live: Ask Us Anything",
         "Simon and Denny have been discussing and debating all things Delta, Lakehouse and Apache Spark™ on their regular webshow. Whether you want advice on lake structures, want to hear their opinions on the latest trends and hype in the data world, or you simply have a tech implementation question to throw at two seasoned experts, these two will have something to say on the matter. In their previous shows, Simon and Denny focused on building out a sample lakehouse architecture, refactoring and tinkering as new features came out, but now we're throwing the doors open for any and every question you might have.\n \n So if you've had a niggling question and these two can help, this is the session for you. There will be a question submission form shared prior to the event, so the team will be prepped with a whole bunch of topics to talk through. Simon and Denny want to hear YOUR questions, which they can field from a wealth of industry experience, wide ranging community engagement and their differing perspectives as external consultant and internal Databricks respectively. There's also a chance they'll get distracted and go way off track talking about coffee, sci-fi, nerdery or the English weather. It happens.",
         10
        ],
        [
         "Sometimes Less is More: A Deep Dive into the Evolution of a Large, Complex, Real-Time Data Pipeline",
         "This session will dive into technical detail around one of my complex cybersecurity endpoint detection and response (EDR) data pipelines - which spans multiple industries - that is being joined with an indicator of compromise (IoC) feed. I'll detail the stages we went through in the initial evolution of the pipeline and why it ultimately made more sense to apply less schema structure to it and focus on using a non-obvious partitioning strategy when working with this data source. All code is in Python/Pyspark and uses Delta Live Tables.",
         11
        ],
        [
         "Use Apache Spark™  from Anywhere: Remote connectivity with Spark Connect",
         "Over the past decade, developers, researchers, and the community at large have successfully built tens of thousands of data applications using Apache Spark™. Since then, use cases and requirements of data applications have evolved. Today, every application, from web services that run in application servers, interactive environments such as notebooks and IDEs, to phones and edge devices such as smart home devices, want to leverage the power of data.\n \n However, Spark's driver architecture is monolithic, running client applications on top of a scheduler, optimizer and analyzer. This architecture makes it hard to address these new requirements as there is no built-in capability to remotely connect to a Spark cluster from languages other than SQL.\n \n Spark Connect introduces a decoupled client-server architecture for Apache Spark that allows remote connectivity to Spark clusters using the DataFrame API and unresolved logical plans as the protocol. The separation between client and server allows Spark and its open ecosystem to be leveraged from everywhere. It can be embedded in modern data applications, in IDEs, notebooks and programming languages.\n \n This session highlights how simple it is to connect to Spark using Spark Connect from any data applications or IDEs. We will do a deep dive into the architecture of Spark Connect and provide an outlook on how the community can participate in the extension of Spark Connect for new programming languages and frameworks bringing the power of Spark everywhere.",
         12
        ],
        [
         "Seven Things You Didn't Know You Can Do with Databricks Workflows",
         "Databricks workflows has come a long way since the initial days of orchestrating simple notebooks and jar/wheel files. Now we can orchestrate multi-task jobs and create a chain of tasks with lineage and DAG with either fan-in or fan-out among multiple other patterns or even run another Databricks job directly inside another job. Databricks workflows takes its tag: “orchestrate anything anywhere” pretty seriously and is a truly fully-managed, cloud-native orchestrator to orchestrate diverse workloads like Delta Live Tables, SQL, Notebooks, Jars, Python Wheels, dbt, SQL, Apache Spark™, ML pipelines with excellent monitoring, alerting and observability capabilities as well. Basically it is a one-stop product for all orchestration needs for an efficient Lakehouse. And what is even better is, it gives full flexibility of running your jobs in a cloud-agnostic and cloud-independent way and is available across AWS, Azure and GCP. In this talk we will discuss and deep dive on some of the very interesting features and will showcase end-to-end demos of the features which will allow you to take full advantage of Databricks workflows for orchestrating the Lakehouse.",
         13
        ],
        [
         "Using DMS and DLT for Change Data Capture ",
         "[Abstract TBD]",
         14
        ],
        [
         "Deep Dive into the New Features of Apache Spark™  3.4",
         "In 2022, Apache Spark™ was awarded the prestigious SIGMOD Systems Award, because Spark is the de facto standard for data processing. In this talk, we want to share the latest progress in Apache Spark community. With tremendous contribution from the open-source community, Spark 3.4 managed to resolve in excess of 2,400 Jira tickets. \n \n We will talk about the major features and improvements in Spark 3.4. The major updates are Spark Connect, numerous PySpark and SQL language features, engine performance enhancements, as well as operational improvements in Spark UX and error handling.",
         15
        ],
        [
         "Delta Live Tables: A Modern Approach to Data Pipelines",
         "Data engineers have the difficult task of cleansing complex, diverse data, and transforming it into a usable source to drive data analytics, data science, and machine learning. They need to know the data infrastructure platform in depth, build complex queries in various languages and stitch them together for production. Join this session to learn how Delta Live Tables (DLT) simplifies the complexity of data transformation and ETL. DLT is the first ETL framework to use modern software engineering practices to deliver reliable and trusted data pipelines at any scale. Discover how analysts and data engineers can innovate rapidly with simple pipeline development and maintenance, how to remove operational complexity by automating administrative tasks and gaining visibility into pipeline operations, how built-in quality controls and monitoring ensure accurate BI, data science, and ML, and how simplified batch and streaming can be implemented with self-optimizing and auto-scaling data pipelines.",
         16
        ],
        [
         "Journey Towards Uniting Metastores",
         "This session will provide a brief overview about Nationwide’s journey towards implementing Unity Catalog at an Enterprise Level. We will cover the following topics.\n - Identity management structure\n - Compute framework\n - Naming standards and usage best practices\n - And a little bit about how Delta Sharing will help us ingest 3rd party data\n Unity Catalog has been a core feature towards strengthening Data Lakehouse architecture for multiple business units.",
         17
        ],
        [
         "How CIBC Integrated Purview and Unity Catalog for Our Data Governance Within a Data Mesh Architecture Leveraging the Lakehouse",
         "This session will focus on our journey to integrate Purview and Unity Catalog for our data governance within data mesh architecture, while leveraging the lakehouse. Our approach is to build four foundational pillars of data mesh that will uphold data management practices based on consumer-driven and domain-centric data sources. \n Principle 1: decentralized ownership\n Principle 2: federated governance\n Principle 3: data as a product\n Principle 4: self-service infrastructure\n Native access controls within the self-service infrastructure are enhanced by pushing policy defined access to unity to enable fine-grain control across the data landscape.",
         18
        ],
        [
         "The Future of Data Access Control: Booz Allen Hamilton’s Approach to Securing our Databricks Lakehouse with Immuta",
         "In this session, I’ll review how we utilize Attribute-Based Access Control (ABAC) to enforce policy via Immuta. I’ll discuss the differences between the ABAC and legacy Role-Based Access Control (RBAC) approaches to control access and how the RBAC approach is not sufficient to keep up with today’s growing big data market. With so much data available, there also comes substantial risk. Data can contain many sensitive data elements, including PII and PHI. Industry leaders like Databricks are pushing the boundaries of data technology, which leads to constantly evolving data use cases. And that’s a good thing! However, the RBAC approach is struggling to keep up with those advancements.\n So what is RBAC? It’s an approach to data access that permits system access based on the end-user’s role. For legacy systems, it’s meant as a simple but effective approach to securing data. Are you a manager? Then you’ll get access to data meant for managers. This is great for small deployments with clearly defined roles. Here at Booz Allen, we invested in Databricks because we have an environment of over 30k users and billions of rows of data.\n To mitigate this problem and align with our forward-thinking company standard, we introduced Immuta into our stack. Immuta uses ABAC to allow for dynamic data access control. Users are automatically assigned certain attributes, and access is based on those attributes instead of just their role. This allows for more flexibility and allows data access control to easily scale without the need to constantly map a user to their role. Using attributes, we can write policies in one place and have them applied across all of our data platforms. This makes for a truly holistic data governance approach and provides immediate ROI and time savings for the company.",
         19
        ],
        [
         "Increasing Trust in Your Data: Enabling a Data Governance Program on Databricks Using Unity Catalog and ML-Driven MDM",
         "As part of Comcast Effectv’s transformation into a completely digital advertising agency, it was key to develop an approach to manage and remediate data quality issues related to customer data so that the sales organization is using reliable data to enable data-driven decision making. Like many organizations, Effectv's customer lifecycle processes are spread across many systems utilizing various integrations between them. This results in key challenges like duplicate and redundant customer data that requires rationalization and remediation. Data is at the core of Effectv’s modernization journey with the intended result of winning more business, accelerating order fulfillment, reducing make-goods and identifying revenue.\n  \nIn partnership with Slalom Consulting, Comcast Effectv built a traditional lakehouse on Databricks to ingest data from all of these systems but with a twist; they anchored every engineering decision in how it will enable their data governance program. \n  \nIn this talk, we will touch upon the data transformation journey at Effectv and dive deeper into the implementation of data governance leveraging Databricks solutions such as Delta Lake, Unity Catalog and DB SQL. Key focus areas include how we baked master data management into our pipelines by automating the matching and survivorship process, and bringing it all together for the data consumer via DBSQL to use our certified assets in bronze, silver and gold layers.\n  \nBy making thoughtful decisions about structuring data in Unity Catalog and baking MDM into ETL pipelines, you can greatly increase the quality, reliability, and adoption of single-source-of-truth data so your business users can stop spending cycles on wrangling data and spend more time developing actionable insights for your business.",
         20
        ],
        [
         "Activate Your Lakehouse with Unity Catalog",
         "Building a Lakehouse is straightforward today thanks to many open-source technologies and Databricks. However, it can be taxing to extract value from Lakehouses as they grow in size without robust data operations. Join us to learn how YipitData uses the Unity Catalog to streamline data operations and discover best practices to scale your own Lakehouse.\n \n At YipitData, our 15+ petabyte Lakehouse is a self-service data platform built with Databricks and AWS, supporting analytics for a 250+ data team. We will share how leveraging Unity Catalog accelerates our mission to help financial institutions and corporations leverage alternative data by:\n \n - Enabling clients to universally access our data through a spectrum of channels, including Sigma, Delta Sharing, and multiple clouds \n - Fostering collaboration across internal teams using a data mesh paradigm that yields rich insights\n - Strengthening the integrity and security of data assets through ACLs, data lineage, audit logs, and further isolation of AWS resources\n - Reducing the cost of large tables without downtime through automated data expiration and ETL optimizations on managed delta tables\n \n Through our migration to Unity Catalog, we have gained tactics and philosophies to seamlessly flow our data assets internally and externally. Data platforms need to be value-generating, secure, and cost-effective in today's world. We are excited to share how Unity Catalog delivers on this and helps you get the most out of your Lakehouse.",
         21
        ],
        [
         "Self Service Data Analytics and governance at enterprise scale with unity catalog",
         "This session focuses on one of the first Unity Catalog implementations for a large-scale enterprise. In this scenario, a cloud scale analytics platform with 7500 active users based on the lakehouse approach is used. In addition, there is potential for 1500 further users who are subject to special governance rules. They are consuming 600+TB of data stored in Delta Lake - continuously growing at more than 1TB per day. This might grow due to local country data.\n Therefore, the existing data platform must be extended to enable users to combine global and local data from their countries. A new data management was required, which reflects the strict information security rules at a need to know base. Core requirements are: read only from global data, write into local and share the results.\n Due to a very pronounced information security awareness and a lack of the technological possibilities it was not possible to interdisciplinary analyze and exchange data so easy or at all so far. Therefore, a lot of business potential and gains could not be identified and realized.\n With the new developments in the technology used and the basis of the Lakehouse approach, thanks to Unity Catalog, we were able to develop a solution that could meet high requirements for security and process. And enables globally secured interdisciplinary data exchange and analysis at scale.\n This solution enables the democratization of the data. This results not only in the ability to gain better insights for business management, but also to generate entirely new business cases or products that require a higher degree of data integration and encourage the culture to change.\n We highlight technical challenges and solutions, present best practices and point out benefits of implementing Unity catalog for enterprises.",
         22
        ],
        [
         "PII Detection at Scale on the Lakehouse",
         "SEEK is Australia’s largest online employment marketplace and a market leader spanning ten countries across Asia Pacific and Latin America. SEEK provides employment opportunities for roughly 16 million monthly active users and process 25 million candidate applications to listings.\n \n Processing millions of resumès involves handling and managing highly sensitive candidate information, usually inputted in a highly unstructured format. With recent high-profile data leaks in Australia, personally identifiable information (PII) protection has become a major focus area for large digital organizations. The first step is detection, and SEEK has developed a custom framework built using HuggingFace transformers fine tuned with nuances around employment. For example, “Software Engineer at Databricks” is not PII, but “CEO at Databricks” is PII. \n \n After identifying and anonymizing PII in stream and batch data, SEEK uses Unity Catalog’s data lineage to track PII through their reporting, ETL, and other downstream ML use-cases and govern access control achieving an organization-wide data management capability driven by deep learning and enforcement using Databricks.",
         23
        ],
        [
         "Essential Data Security Strategies for the Modern Enterprise Data Architecture",
         "Balancing critical data requirements is a 24-7 task for enterprise-level organizations that must straddle the need to open specific gates to enable self-service data access while closing other access points to maintain internal and external compliance. Data breaches can cost U.S. businesses an average of $9.4 million per occurrence; ignoring this leaves organizations vulnerable to severe losses and crippling costs. \n \nThe 2022 Gartner Hype Cycle for Data Security reports that more and more enterprises are modernizing their data architecture with cloud and technology partners to help them collect, store and manage business data; a trend that does not appear to be letting up.\n \nAccording to Gartner®, “by 2025, 30% of enterprises will have adopted bDSP (Broad Data Security Platform), up from less than 10% in 2021, due to the pent-up demand for higher levels of data security and the rapid increase in product capabilities.\"",
         24
        ],
        [
         " \nMoving to both a modern data architecture and data-driven culture sets enterprises on the right trajectory for growth",
         " but it’s important to keep in mind individual public cloud platforms are not guaranteed to protect and secure data. To solve this",
         25
        ],
        [
         "Using Open-Source Tools to Build Privacy-Conscious Data Systems",
         "With the rapid proliferation of consumer data privacy laws across the world, it is becoming a strict requirement for data organizations to be mindful of data privacy risks. Privacy violation fines are reaching record highs and will only get higher as governments continue to crack down on the runaway abuse of user data. To continue producing value without becoming a liability, data systems must include privacy protections at a foundational level.\n \n The most practical way to do this is to enable privacy as code, shifting privacy left and including it as a foundational part of the organization's software development life cycle. The promise of privacy as code is that data organizations can be liberated from inefficient, manual workflows for producing the compliance deliverables their legal teams need, and instead ship at speed with pre-defined privacy guardrails built into the structure of their preferred workflows.\n \n Despite being an emerging and complex problem, there are already powerful open source tools available designed to help organizations of all sizes achieve this outcome. Fides is an open source privacy as code tool, written in Python and Typescript, that is engineered to tackle a variety of privacy problems throughout the application lifecycle. The most relevant feature for data organizations is the ability to annotate systems and their datasets with data privacy metadata, thus enabling automatic rejection of dangerous or illegal uses. Fides empowers data organizations to be proactive, not reactive, in terms of protecting user privacy and reducing organizational risk. Moving forward data privacy will need to be top of mind for data teams.",
         26
        ],
        [
         "Leveraging Unity Catalog for Data Governance for Grab’s Use Case",
         "Grab has been looking for a tool that provides data access to over 2000 users to support our daily operations. This tool should provide granular access control and easily scale to over thousands of users and tables, with data governance and security in mind.\n \n Through various evaluations, Grab concluded that Unity Catalog is a good fit that addresses all the requirements of data governance and security. For example, it provides row-level-security (RLS) and dynamic-data-masking (DDM) capabilities (through dynamic views), centralized governance and security at both table and object level. \n This ensures sensitive PII data is well protected, and we are able to open up tables to a wider audience ensuring only entitled data is shown. More importantly, we are able to meet the required auditing standards.\n \n With Unity catalog, we managed to:\n 1. Build a custom solution that allows users to seamlessly access data with UC.\n 2. Easily interface and integrate into existing Grab’s in-house entitlement system to translate access requirements, unifying the end-to-end user experience for requesting data access permission. \n 3. Extend UC’s capability by leveraging existing UC APIs and Databricks workflows to easily automate administrative tasks. For example, we have fully automated the creation of RLS and DDM views on-the-fly.\n 4. Provide out of the box, comprehensive auditing capabilities easily.\n \n As a result, we managed to achieve this in a short period of time to support over 2000 users to achieve better governance and significant cost savings with an ROI of about 2.7x",
         27
        ],
        [
         "Unity Catalog: Flexibility to Fit Your Organization",
         "Databricks Unity Catalog provides the flexibility to meet the needs of any-sized organization, from startups to companies the size of Nike. \n \n Unity Catalog and lakehouse architecture have been chosen by Nike to store and process all of Nike's data. Unity Catalog has resolved systemic challenges in the Data Lake, resulting in 1) a simpler and transparent Data Lake, and, 2) allowing for scaled data and analytics use cases with greater efficiency. \n \n Designing Unity Catalog for the scale of Nike met the following goals:\n \n * Ownership of data: how all data produced in the lake has clear team ownership, communication channels, and accountability\n * Data environments: accelerated development of pipelines against real Production Data with zero risk\n * Consistent team semantics: all teams on Lakehouse follow the same semantics, allowing for scaled onboarding and consistent development expectations\n * Consistent governed data access: a single simplified, governed, data access process for all data in the Lake\n * Monitoring of unused data and data pipelines: simplified observability through Unity Catalog Data Lineage to quickly identify any unused data or data pipelines, resulting in less storage and compute costs\n \n These capabilities are powering Nike as a data driven organization, allowing the company to quickly make informed decisions.",
         28
        ],
        [
         "Automating Sensitive Data (PII/PHI) Detection and Quarantining to a Databricks Clean Room",
         "Healthcare datasets contain both personally identifiable information (PII) and personal health information (PHI) that needs to be de-identified in order to protect patient confidentiality and ensure HIPAA compliance. This privacy data is easily detected when it’s provided in columns  labeled with names such as “SSN,” First Name,” “Full Name,” and “DOB;” however, it is much harder to detect when it is hidden within columns labeled “Doctor Notes,” “Diagnoses,” or “Comments.” HealthVerity, a leader in the HIPAA-compliant exchange of real-world data (RWD) to uncover patient, payer and genomic insights and power innovation for the healthcare industry, ensures healthcare datasets are de-identified from PII and PHI using elaborate privacy procedures. During this presentation, we will demonstrate how to use a low-code/no-code platform to simplify and automate data pipelines that leverage prebuilt ML models to scan data for PHI/PII leakage and quarantine those rows in Unity Catalog when leakage is identified and move them to a Databricks clean room for analysis.",
         29
        ],
        [
         "Cross-Platform Data Lineage with OpenLineage",
         "There are more data tools available than ever before, and it's easier to build a pipeline than it's ever been. This has resulted in an explosion of innovation, but it also means that data within today's organizations has become increasingly distributed. It can't be contained within a single brain, a single team, or a single platform. Data lineage can help by tracing the relationships between datasets and providing a map of your entire data universe. OpenLineage provides a standard for lineage collection that spans multiple platforms, including Apache Airflow, Apache Spark™, Flink®, and dbt. This empowers teams to diagnose and address widespread data quality and efficiency issues in real time. In this session, Julien Le Dem from Astronomer will show how to trace data lineage across Apache Spark and Apache Airflow. He will walk through the OpenLineage architecture and provide a live demo of a running pipeline with real-time data lineage.",
         30
        ],
        [
         "Ahold Delhaize's Journey to Implementing Unity Catalog at Scale",
         "In this session we will explore the steps we took to implement Unity Catalog at Ahold Delhaize's data platform. This powerful tool has completely transformed the way we access and manage data objects, making it easier than ever for our entire organization to find and use the data we need. The catalog brings us a governance layer that allows us to more securely and easily share restricted or confidential data by providing row and column level security per project. But that's not all, we're also setting up the Unity Catalog as a self-service tool, allowing users to easily customize and set up their own catalogs, schema's, views or user groups using simple YAML configuration files. We will cover topics such as:\n * Architecture where we came from and the improvement Unity Catalog has made\n * Our self-service way of working by showing code snippets\n * Our fully automatic deployments by explaining our flow\n By the end of this talk, you will have a better understanding of the process of implementing Unity Catalog at scale.",
         31
        ],
        [
         "Multi-Cloud Data Governance on the Databricks Lakehouse",
         "Across industries, a multi-cloud setup has quickly become the reality for large organizations. Multi-cloud introduces new governance challenges as permissions models often do not translate from one cloud to the other and if they do, are insufficiently granular to accommodate privacy requirements and principles of least privilege. This problem can be especially acute for Data and AI workloads that rely on sharing and aggregating large and diverse data sources across business unit boundaries and where governance models need to incorporate assets such as table rows/columns and ML features and models. \n \n In this session we will provide guidelines on how best to overcome these challenges for companies that have adopted the Databricks Lakehouse as their collaborative space for data teams across the organization, by exploiting some of the unique product features of the Databricks platform.\n We will focus on a common scenario: a data platform team providing data assets to two different ML teams, one using the same cloud and the other one using a different cloud. We will explain the step-by-step setup of a unified governance model by leveraging the following components and conventions:\n \n - Unity Catalog for implementing fine-grained access control across all data assets: files in cloud storage, rows and columns in tables and ML features and models\n - The Databricks Terraform provider to automatically enforce guardrails and permissions across clouds \n - Account level SSO Integration and identity federation to centralize administer access across workspaces\n - Delta sharing to seamlessly propagate changes in provider data sets to consumers in near real-time\n - Centralized audit logging for a unified view on what asset was accessed by whom",
         32
        ],
        [
         "How Comcast Effectv Drives Data Observability with Databricks and Monte Carlo",
         "Comcast Effectv, the 2,000-employee advertising wing of Comcast, America’s largest telecommunications company, provides custom video ad solutions powered by aggregated viewership data. As a global technology and media company connecting millions of customers to personalized experiences and processing billions of transactions, Comcast Effectv was challenged with handling massive loads of data, monitoring hundreds of data pipelines, and managing timely coordination across data teams. In this talk, Robinson Creighton, Sr. DataOps Lead of Advanced Analytics at Effectv, and Lior Gavish, CTO & co-founder at Monte Carlo, will discuss Comcast Effectv’s journey to building a more scalable, reliable lakehouse and driving data observability at scale with Monte Carlo. This has enabled Effectv to have a single pane of glass view of their entire data environment to ensure consumer data trust across their entire AWS, Databricks, and Looker environment.",
         33
        ],
        [
         "Unity Catalog and Marketplace: Door to a Data Driven Organization",
         "Being data-driven can help organizations make better decisions, improve efficiency, increase competitiveness, and reduce compliance risks.\n \n Organizations expect the workforce to embrace data but at the same time want the process to be governance-driven, auditable, traceable and cost-center based for back charging.\n \n Unity Catalog is a tool that helps organizations manage and organize their data assets in a unified manner. By using Unity Catalog, you can create a central repository for all of your data assets, including structured and unstructured data, and provide access to this repository to authorized users within your organization. This can help you build a data-driven organization by enabling easy access to data for analysis and decision-making, and by promoting data governance and data management best practices.\n When Unity Catalog is made the front door for an organization’s data estate then it enables the organization to unlock the following:\n Governance-driven data discovery\n Governance-driven data access\n Governance-driven ephemeral workspace access\n Cost center based back charging\n Auditable and traceable\n \n Internal marketplace will help organizations publish and provide access to data within the organization’s workspaces via an out-of-the-box lightweight solution powered by Unity Catalog. \n \n Depending on the level of complexity and back charging, isolation requirements, organizations can choose to use the out-of-the-box internal marketplace or build the end-to-end process of publishing, provisioning, destroying, back charging process via Unity Catalog plus Workspace APIs.",
         34
        ],
        [
         "Data Mesh Realization on Databricks: Making Data Engineering and Consumption Self-Service Driven for Data Platforms",
         "\"Our client, a consulting giant, as part of the famous \"\"Big 4\"\" is creating tax",
         35
        ],
        [
         "Distributing Data Governance: How Unity Catalog Allows for a Collaborative Approach",
         "As one of the world’s largest content delivery network (CDN) and security solutions provider, Akamai owns thousands of data assets of various shapes and sizes, some even go up to multiple PBs.\n Several departments within the company leverage Databricks for their data and AI workloads, which means we have over a hundred Databricks workspaces within a single Databricks account, where some of the assets are shared across products, and some are product-specific.\n  \n In this presentation, we will describe how to use the capabilities of Unity Catalog to distribute the administration burden between departments, while still maintaining a unified governance model.\n \n We will also share the benefits we’ve found in using Unity Catalog, beyond just access management, such as: \n * Visibility into which data assets we have in the organization\n * Ability to identify and potentially eliminate duplicate data workloads between departments \n * Removing boilerplate code for accessing external sources\n * Increasing innovation of product teams by exposing the data assets in a better, more efficient way",
         36
        ],
        [
         "Unity Catalog at Scale in Retail Data Engineering and Data Science",
         "Retail data science, insights, and media company 84.51° helps Kroger and other organizations create more personalized and valuable experiences for shoppers. Powered by cutting edge science, we leverage first-party retail data from nearly one out of two US households totaling over 2B transactions a year. Databricks is integral to the data science and machine learning work at 84.51° and manages 35+ PB of first-party customer data across 150+ Databricks workspaces. Before Unity Catalog, this data was structured in a decentralized data mesh which had issues including problematic data sharing, minimal data governance, and no auditing of data extracts. In this session, we will discuss how 84.51° incrementally rolled out Unity Catalog company-wide in a way that involved minimal disruption of existing processes and how UC-enabled solutions solved several real-world problems including:\n • Being able to migrate an on-prem solution to a Databricks SQL Warehouse with HIPAA auditing and data governance which resulted in reduced on-prem costs and enabled new solutions/products to bring significant new revenue sources. \n • Leveraging Delta Sharing to eliminate duplication of data and processing and enabling new insights to provide a deeper, more personal approach to customer engagement.\nDatabricks has also been key to the 84.51° Collaborative Cloud, which provides our clients' data scientists a platform that provides clean and ready-to-use transaction and UPC-level data from 60 million households empowering companies to get value out of data science, regardless of where they sit on the readiness spectrum. Unity Catalog will be key to extend the collaborative cloud functionality and cleanroom technology with improved security and governance.",
         37
        ],
        [
         "Lakehouse as a FAIR Platform",
         "FAIR (findable, accessible, interoperable, reusable) data and data platforms are becoming more and more important in public sector. Lakehouse platform is strongly aligned with these principles. Lakehouse provides tools required to both adhere to FAIR but also to FAIRify data that isn't FAIR compliant. In this session we will cover parts of the lakehouse that enable end users to FAIRify data products, how to build good robust data products and which parts of Lakehouse align to which principles in FAIR. We'll demonstrate how DLT is crucial for data transformations on nonFAIR data, how Unity Catalog unlocks discoverability (F) and governed data access (A), and how marketplace, cleanrooms and Delta Sharing unlock interoperability and data exchange (I and R). All of these concepts are massive enablers for highly regulated industries such as Public Sector. It undeniably important to align Lakehouse to standards that are widely adopted by standards and policy makers and regulators. These principles transcend all industries and all use cases.",
         38
        ],
        [
         "Engineers Shouldn't Write Data Governance Policies",
         "Controlling permissions for accessing data assets can be messy, time consuming, and usually a combination of both. The teams responsible for creating the business rules that govern who should have access to what data are usually different from the teams responsible for administering the grants to achieve that access. On the other side of the equation, the end user who needs access to a data asset may be left waiting for grants to be made as the decision is passed between teams. That is, if they even know the correct path to getting access in the first place.\n  \n Separating the concerns of managing data governance at a business level and implementing data governance at an engineering level is the best way to clarify data access permissions. In practice, this involves building systems to enable data governance enforcement based on business rules, with little to no understanding of the individual system where the data lives. \n \n In practice, with a concrete business rule, such as “only users from the finance team should have access to critical financial data,” we want a system that deals only with those constituent concepts. For example, “the data is marked as critical financial” and “the user is a part of the finance team”). By abstracting away any source system components, such as “the tables in the finance schema” and “someone who’s a member of the finance databricks group,” the access policies applied will then model the business rules as closely as possible.\n \n This talk will focus on how to establish and align the processes, policies, and stakeholders involved in making this type of system work seamlessly. Sharing the experience and learnings of our team at Instacart, we will aim to help attendees streamline and simplify their data security and access strategies.",
         39
        ],
        [
         "Managing Data Encryption in Apache Spark™",
         "Sensitive data sets can be encrypted directly by new Apache Spark™  versions (3.2 and higher). Setting a number of configuration parameters and dataframe options will trigger the Apache Parquet modular encryption mechanism that protects select columns with column-specific keys. The upcoming Spark 3.4 version will also support uniform encryption, where all dataframe columns are encrypted with the same key.\n \n Spark data encryption is already leveraged by a number of companies to protect personal or business confidential data in their production environments. The main integration effort is focused on key access control and on building a Spark/Parquet plug-in code that can interact with company’s key management service (KMS).\n \n In this talk, we will briefly cover the basics of Spark/Parquet encryption usage, and dive into the details of encryption key management that will help in integrating this Spark data protection mechanism in your deployment. You will learn how to run a HelloWorld encryption sample, and how to extend it into a real world production code integrated with your organization’s KMS and access control policies. We will talk about the standard envelope encryption approach to big data protection, the performance-vs-security trade-offs between single and double envelope wrapping, internal and external key metadata storage. We will see a demo, and discuss the new features such as uniform encryption and two-tier management of encryption keys.",
         40
        ],
        [
         "Enabling Data Governance at Enterprise Scale Using Unity Catalog",
         "For some time, Amgen has been building multiple enterprise platforms on the latest technology with a key focus on tech rationalization, data democratization, overall user experience, increase reusability and cost-effectiveness. One of these platforms is the enterprise data fabric platform. This platform specifically focuses on pulling in data across functions into a single platform building capabilities around the connectedness of data, and access governance.\n For a while, we have been trying to setup robust data governance capabilities which are simple, yet easy to manage through Databricks. As part of this process we evaluated products like privacera, Immuta, and Okera. While these tools could solve a few immediate needs like managing tables and database level, for the use cases like maintaining governance on highly restricted data domains like EDW(Finance) and Workday(HR), we felt that for the long term we will require a more Databricks native solution because of below reasons:\n - There were ways to bypass these tools on databricks cluster\n - Unsupported DBR runtime\n - Complexity of fine-grained security\n - Policy management – AWS IAM + Intool policies\n  To address these challenges, and for large-scale enterprise adoption of our governance capability, we started working on UC integration with our governance processes. Following tech benefits we realized:\n - Independent of Databricks runtime\n - Easy fine-grained access control\n - Eliminated management of IAM roles\n - Dynamic access control using UC and dynamic views\n As a result of these technical benefits, we were able to implement fine-grained and complex governance policies around the restricted data set of Amgen including Finance and Workday. At this point we have around 100K objects mapped in the Unity Catalog and growing rapidly.",
         41
        ],
        [
         "Lineage System Table in Unity Catalog",
         "Unity Catalog provides fully automated data lineage for all workloads in SQL, R, Python, Scala and across all asset types at Databricks. The aggregated view has been available to end users through data explorer and API. In this session, we are excited to share that lineage is available via delta table in their UC metastore. It stores full history of recent lineage records and it is near real time. Additionally, customers can query it through standard SQL interface. With that, customers can get significant operational insights about their workload for impact analysis, troubleshooting, quality assurance, data discovery, and data governance. Together with the system table platform effort, which provides query history, job run operational data, audit logs and more, lineage table will be a critical piece to link all the data asset and entity asset together. It will provide better Lakehouse observability and unification to customers.",
         42
        ],
        [
         "Combining Privacy Solutions to Solve Data Access at Scale",
         "The trend that has made data easier to collect and analyze, has only aggravated privacy risks. Luckily, a range of privacy technologies have emerged to enable private data management (differential privacy, synthetic data, confidential computing).  In isolation, those technologies have had a limited impact because they did not always bring the 10x improvement expected by data leaders.\n \n Combining these privacy technologies has been the real game changer. We will demonstrate that the right mix of technologies brings the optimal balance of privacy and flexibility at the scale of the data warehouse.  We will illustrate this by real-life applications of Sarus in three domains:\nHealthcare: how to make hospital data available for research at scale in full compliance\nFinance: how to pool data between several banks to fight criminal transactions\nMarketing: how to build insights on combined data from partners and distributors\n \n The examples will be illustrated using data stored in Databricks and queried using Sarus differential privacy engine.",
         43
        ],
        [
         "Map Your Lakehouse Content with DiscoverX",
         "An enterprise lakehouse contains many different datasets which are related to different sources and might belong to different business units. \n These datasets can span across hundreds of tables, and each table has a different schema, and those schemas evolve over time. The Cyber security domain is a good example where datasets come from many different source systems and land in the lakehouse.\n With such a complex dataset ecosystem, answers to simple questions like “Have we ever detected this IP address?” or “Which columns contain IP addresses?” can become impractical and expensive.\n DiscoverX can automate the discovery of all columns that might contain specific patterns, (e.g. IP addresses, MAC addresses, fully qualified domain names, etc.) and automatically generate search and indexing queries that span across multiple tables and columns.",
         44
        ],
        [
         "Post-Merger: Implementing Unity Catalog Across Multiple Accounts",
         "Warner Media and Discovery have recently merged to form Warner Bros Discovery. Owning two Databricks accounts and wanting to maintain their separation, our data governance team has successfully implemented Unity Catalog as our data governance solution across both accounts, allowing our teams to collaboratively and securely use the data assets of two organizations. This session is aimed at sharing that success story, including initial challenges, our approach, our architecture, the actual implementation, and user success post-implementation.",
         45
        ],
        [
         "Advanced Governance with Collibra on Databricks",
         "Define security policies in Collibra that are seamlessly enforced on Databricks",
         46
        ],
        [
         "How Nestle is Leveraging Unity Catalog for Governance At Scale",
         "Governance with Unity Catalog across multiple regions, markets, teams and environments at Nestle. Establish data isolation at all levels",
         47
        ],
        [
         "Wrangling Your Security Data: Cybersecurity as a Data Management Problem",
         "Today, the average Fortune 500 company manages 100+ cybersecurity vendors. The sheer number of enterprise cybersecurity toolsets, each capturing and generating its own data, creates significant data management and data engineering challenges for all enterprises. Because each of these security tools has separate logs, outputs, and databases, it prevents any security team from meaningfully understanding their overall security posture and using their own data effectively. We believe that cybersecurity is fundamentally a data management problem. In this presentation, we will show how treating cybersecurity as a data management problem, and subsequently opening disparate cybersecurity data to queries can help organizations secure their systems and data more effectively. In this presentation, practitioners will walk away understanding the value of modeled and organized security on a data warehouse. We will leverage a real-world use case that shows how Databricks can help solve vulnerability management and end-to-end workflows for security practitioners.",
         48
        ],
        [
         "Lakehouse Architecture to Advance Security Analytics at the Department of State",
         "In 2023, the Department of State surged forward on implementing a Lakehouse architecture to get faster, smarter, and more effective on cybersecurity log monitoring and incident response. In addition to getting us ahead of federal mandates, this approach promises to enable advanced analytics and machine learning across our highly federated global IT environment while minimizing costs associated with data retention and aggregation. \n \n This session will include a high-level overview of the technical and policy challenge and a technical deeper dive on the tactical implementation choices made. We’ll share lessons learned related to governance and securing organizational support, connecting between multiple cloud environments, and standardizing data to make it useful for analytics. \n \n And finally, we’ll discuss how the Lakehouse leverages Databricks in multi-cloud environments to promote decentralized ownership of data while enabling strong, centralized data governance practices.",
         49
        ],
        [
         "Engineering Data Lakehouse Systems for the Next Ten Years of Growth",
         "For most of my professional life, I've dealt with data. As a data practitioner, I developed algorithms to solve real-world problems leveraging machine learning techniques. As an engineer, I led the direction that brought the value of my hands-on machine learning experience into our products and services by building upon cutting-edge and emerging technologies. This experience has taught me that scaling data systems is harder than you might think. \n  \n Supporting the operations of scalable data environments poses a challenge greater than the known application-level support due to the complexity of managing data together with the application. Why is data adding so much complexity? Well, data is big, so all systems are now becoming distributed. Data changes and evolves, and it's hard to create repeatable, automated pipelines. Plus, technology is advancing at an alarming rate and changes are messy.\n  \n Interested in learning about all the most recent updates in the data space? How does that impact our data systems? In this talk, you will learn about the challenges of product quality, delivery velocity, production monitoring, and outage recovery, see how those can be met using best practices in the tech stack, and develop empathy for those who manage scalable data environments.",
         50
        ],
        [
         "Optimize Your Delta Lake",
         "Delta tables in Databricks just work. They're so easy to setup to deliver value in your organization. What about all those features and optimization that you can use to super charge your delta lakehouse? \n \n In this lighting talk we will discuss structuring, partitioning, optimizing, delta log retention of your Delta Tables all in 15 minutes or less!",
         51
        ],
        [
         "Lakehouses for Data Engineers: What You Need to Consider to Build Efficient ETL Pipelines",
         "ETL pipelines are ubiquitous in data-warehousing and Lakehouse ecosystem to make business decisions by building raw and derived tables from a plethora of fragmented data. As companies are investing in building data applications for richer user experiences, ETL pipelines need to solve some of the modern-day challenges of helping deliver low-latency analytics. \n \n In this lightning talk, we’ll focus on how to build efficient Apache Spark™  ETL pipelines for Lakehouses where you can effectively ingest and utilize streaming data. Will cover details on:\n - leveraging incrementally processing framework to improve compute efficiency\n - index data to deliver low-latency analytics\n - advanced concurrency control mechanisms to improve throughput",
         52
        ],
        [
         "Bringing Data in-House! Behind the New York Jets' Winning Game Plan to Create a Data Lakehouse on Databricks",
         "On the field, the New York Jets are one of the most recognizable brands in professional sports. Off the field, they’re a small business within a finite market with lots of competition. In order to fuel revenue growth, improve operational efficiencies, and drive fan engagement, the Jets brought its data infrastructure in-house and moved to Databricks. \n \n This 40-minute presentation will include a discussion of the New York Jets data journey including its overall business and technical goals, the organization's multiple attempts at building a data stack, what drove the shift to Databricks, its current architectural approach, and the benefits of leveraging Databricks as its cloud data platform. \n \n Benefits to data practitioners:\n  - Learn about the New York Jets data journey and the similarities to other organizations’ data journeys including challenges, build vs. buy, and the decision \n making processes required to implement a modern data stack\n  - Discussion around the Data Lakehouse architectural pattern and the steps required to implement this on Databricks\n  - Identification of the benefits of a customer 360 analysis and process and technologies required to create this record \n  - Understand the benefits of leveraging Databricks as a cloud data platform \n  - Highlight future opportunities to leverage Databricks for ML / AI use cases to improve upon current baseline analytics",
         53
        ],
        [
         "Databricks-As-Code: How to Effectively Automate a Secure Lakehouse Using Terraform for Resource Provisioning",
         "At Rivian, we have automated >95% of our Databricks resource provisioning workflows using an in-house Terraform module, affording us a lean admin team to manage 750+ users. In this talk, we will cover the following elements of our approach and how others can benefit from improved team efficiency.\n \n User and service principal management\n Our permission model on Unity Catalog for data governance\n Workspace and secrets resource management\n Managing internal package dependencies using init scripts\n Facilitating dashboards, SQL queries and their associated permissions\n Scaling source of truth Petabyte scale Delta Lake table ingestion jobs and workflows",
         54
        ],
        [
         "Real-Time Reporting and Analytics for Construction Data Powered by Delta Lake and DBSQL",
         "Procore is a construction project management software that helps construction professionals efficiently manage their projects and collaborate with their teams. Our mission is to connect everyone in construction on a global platform. \n \n Procore is the system of record for all construction projects. Our customers need to access the data in near real-time for construction insights. Enhanced reporting is a self-service operational reporting module that allows quick data access with consistency to thousands of tables and reports.\n \n Procore Data platform rebuilt the module (originally built on the relational database) using Databricks and Delta lake. We used Apache Spark™  streaming to maintain the consistent state on the ingestion side from Kafka and plan to leverage the fully capable functionalities of DBSQL using the serverless SQL warehouse to read the medallion models (built via DBT) in Delta Lake. In addition, the Unity Catalog and the Delta share features helped us share the data across regions seamlessly. This design enabled us to improve the p95 and p99 read time by x% (which were initially timing out).\n \n  To learn about the learnings and experience of building a Data Lakehouse architecture, attend this talk.",
         55
        ],
        [
         "Made in Italy: How Barilla Uses Databricks Lakehouse to Optimize its Operations",
         "Barilla Data2Value digital transformation program democratized data usage. The Databricks centered platform provides BI for a supply chain extended in 100 countries in the world, across 20 factories, >50 logistic hubs, 1000 suppliers, >10.000 B2B clients and >100.000 transports every year. By using metadata-driven and event-driven approaches, Barilla is able to meet the different needs of its 1000 data consumers from top management to operation management with about 50 use cases, consuming TB of data daily and execute more than 150 data pipelines. During the presentation, Barilla digital transformation strategy will be discussed, the platform architecture, the expected evolution as well as the lessons learned along the way with EY. Will be explained how Barilla has reduced the time to insight using Unity Catalog and MLFlow. Mariama Kamanda, a data scientist from the Barilla Acceleration Team, will provide testimony on the impact of Databricks Lakehouse daily journey. Will be explained how Barilla saved M$ every year by improving the factory losses through advanced analytics and machine learning leveraging Databricks.",
         56
        ],
        [
         "Using Lakehouse to Fight Cancer: Ontada’s Journey to Establish a RWD Platform on Databricks Lakehouse",
         "Ontada, a McKesson business, is an oncology real-world data and evidence, clinical education and provider of technology business dedicated to transforming the fight against cancer. Core to Ontada’s mission is using real-world data (RWD) and evidence generation to improve patient health outcomes and to accelerate life science research. \n \n To support its mission, Ontada embarked on a journey to migrate its enterprise data warehouse (EDW) from an on-premise Oracle database to Databricks Lakehouse. This move allows Ontada to now consume data from any source, including structured and unstructured data from its own EHR and genomics lab results, and realize faster time to insight. In addition, using the Lakehouse has helped Ontada eliminate data silos, enabling the organization to realize the full potential of RWD – from running traditional descriptive analytics to extracting biomarkers from unstructured data. \n \n The presentation will cover the following topics: \n - Oracle to Databricks: migration best practices and lessons learned \n - People, process, and tools: expediting innovation while protecting patient information using Unity Catalog \n - Getting the most out of the Databricks Lakehouse: from BI to genomics, running all analytics under one platform \n - Hyperscale biomarker abstraction: reducing the manual effort needed to extract biomarkers from large unstructured data (medical notes, scanned/faxed documents) using spaCY and John Snow Lab NLP libraries \n \n Join this session to hear how Ontada is transforming RWD to deliver safe and effective cancer treatment.",
         57
        ],
        [
         "CPG Lakehouse Analytics: Rapidly Implementing Walmart’s Luminate API at the Hershey Company",
         "Accurate, reliable, and timely data is critical for CPG companies to stay ahead in highly competitive retailer relationships, and for a company like the Hershey Company, the commercial relationship with Walmart is one of the most important. The team at Hershey found themselves with a looming deadline for their legacy analytics services and targeted a migration to the brand new Walmart Luminate API.\n  \n Working in partnership with Advancing Analytics, the Hershey Company leveraged a metadata-driven Lakehouse architecture to rapidly onboard the new Luminate API, helping the category management teams to overhaul how they measure, predict, and plan their business operations.\n  \n In this session, we will discuss the impact Luminate has had on Hershey's business covering key areas such as sales, supply chain, and retail field execution, and the technical building blocks that can be used to rapidly provision business users with the data they need, when they need it. We will discuss how key technologies enable this rapid approach, with Databricks Autoloader ingesting and shaping our data, Delta Streaming processing the data through the Lakehouse and Databricks SQL providing a responsive serving layer.\n  \n The session will be jointly run by Hersheys and Advancing Analytics, with Jordan Donmoyer, manager of Hershey's direct data team and Dan Davies, director of Walmart sales analytics providing the commercial commentary, and Simon Whiteley and Zach Stagers from Advancing Analytics covering the technical journey.",
         58
        ],
        [
         "Building a Minimalistic Open Lakehouse Using Open Source Projects Apache Spark™, Project Nessie and Iceberg",
         "A Lakehouse architecture is a combination of various components such as Storage, File format, Table format, and Catalog. What truly makes a lakehouse 'open' is data being stored in open-source table & file formats like Iceberg, Delta & Parquet respectively and the technology being open-sourced for easy & quick adoption by the community. Like any new technology, implementation of a lakehouse may seem daunting at first. However, when we break down the architecture to its open components, this becomes easy to adopt & scale.\n \n Though this session, the idea is to help data engineers getting their leg into the world of data lakehouses, easily learn & implement it. We will go through a Notebook-style presentation to show beginners how to build a minimalistic functional lakehouse using Apache Spark, Project Nessie & Iceberg.\n \n We will talk about:\n - configuring the 3 different components\n - creating tables from raw data files\n - ingesting new data from various sources into the tables, querying it and making updates\n - time travel, compaction, etc capabilities",
         59
        ],
        [
         "Labcorp Data Platform Journey: From Selection to Go-Live in six months",
         "Please join with us to learn about the Labcorp data platform transformation from on-premises Hadoop to AWS Databricks Lakehouse. We will share best practices and lessons learned from cloud-native data platform selection, implementation, and migration from Hadoop (with in 6 months) with Unity Catalog. We will share steps taken to retire several legacy on-premises technologies and leverage Databricks native features like Spark streaming, workflows, job pools, cluster policies and Spark JDBC within Databricks platform. Lessons learned in Implementing Unity Catalog and building a security and governance model that scales across applications. Demos and walkthrough’s of batch frameworks, streaming frameworks, data compare tools used across several applications to improve data quality and speed of delivery. Discover how we have improved operational efficiency, resiliency and reduced TCO, and how we scaled building workspaces and associated cloud infrastructure using Terraform provider.",
         60
        ],
        [
         "Deep Dive Into Grammarly's Data Platform",
         "Grammarly helps 30 million people and 50,000 teams to communicate more effectively. Using the Databricks Lakehouse Platform, we are able to rapidly ingest, transform, aggregate, and query complex data sets from an ecosystem of sources, all governed by Unity Catalog. This presentation overviews Grammarly’s data platform and the decisions that shaped the implementation. We will dive deep into some architectural challenges the Grammarly Data Platform team overcame as we developed a self-service framework for incremental event processing.\n \n Our investment in the Lakehouse and Unity Catalog has dramatically improved the speed of our data value chain: making 5 billion events (ingested, aggregated, de-identified, and governed) available to stakeholders (data scientists, business analysts, sales, marketing) and downstream services (feature store, reporting/dashboards, customer support, operations) available within 15 minutes. As a result, we have improved our query cost performance (110% faster at 10% the cost) compared to our legacy system on AWS EMR.\n \n I will share architecture diagrams, their implications at scale, code samples, and problems solved and to be solved in a technology-focused discussion about Grammarly’s iterative Lakehouse Data Platform.",
         61
        ],
        [
         "Simplifying Migrations to Lakehouse",
         "Following on from Perenti Global's successful presentation at the ANZ (Syd) Data and AI summit in Nov 2022, they were asked by Bede Hackney if they would be interested in supporting Databricks events on a bigger stage, ramping up their reference-ability etc... they are confirmed as able to support us at this event and are excited to do so. \n Link to client presentation noting tweaks to be made upon confirmation of attendance --> https://docs.google.com/presentation/d/1OHMsyFhV-gq6lcVvXqkp-0LY8wS6C6TS/edit#slide=id.p1\n \n \n High level Synopsis:\n - Challenges with Legacy Platforms \n - Perenti Databricks Migration Journey\n - Reimagining Migrations the Databricks Way\n - The Databricks Migration Methodology & Approach",
         62
        ],
        [
         "Having Your Cake and Eating it Too: How Vizio Built a Next-Generation ACR Data Platform While Lowering TCO",
         "As the top manufacturer of smart TVs, Vizio uses TV data to drive its business and provide customers with best digital experiences. Our company's mission is to continually improve the viewing experience for our customers, which is why we developed our award-winning automatic content recognition (ACR) platform. When we first built our data platform almost ten years ago, there was no single platform to run a data as a service business, so we got creative and built our own by stitching together different AWS services and a data warehouse. As our business needs and data volumes have grown exponentially over the years, we made the strategic decision to replatform on Databricks Lakehouse, as it was the only platform that could satisfy all our needs out-of-the-box such as BI analytics, real-time streaming, and AI/ML. Now the Lakehouse is our sole source of truth for all analytics and machine learning projects. The technical value of the Databricks Lakehouse platform, such as traditional data warehousing low-latency query processing with complex joins thanks to Photon to using Apache Spark™  structured streaming; analytics and model serving, will be covered in this session as we talk about our path to the Lakehouse.",
         63
        ],
        [
         "From Insights to Recommendations: How SkyWatch Predicts Demand for Satellite Imagery Using Databricks",
         "SkyWatch is on a mission to democratize earth observation data and make it simple for anyone to use.\n \n In this session, you will learn about how SkyWatch aggregates demand signals for EO market and turns them into monetizable recommendations for satellite operators.\n Skywatch’s head of data engineering, Vincent, and data engineer, Aayush, will share how the team built a serverless architecture that synthesizes customer requests for satellite images and identifies geographic locations with high demand, helping satellite operators maximize revenue and satisfying a broad range of EO data hungry consumers.\n \n This session will cover the usage of\n \n - Databricks in-built H3 functions \n - Open Source Mosaic library to process geospatial data\n - Delta Lake to efficiently store data leveraging optimization techniques like Z-Ordering\n - Databricks Serverless SQL endpoint to build REST API with AWS Lambda and step functions.\n - Databricks with AWS serverless architecture (Lambda and step functions)",
         64
        ],
        [
         "Determining When to Use GPU for Your ETL Pipelines at Scale",
         "Assuming you have hundreds of jobs and/or clusters in your Databricks workspace, what is the best way to determine if those pipelines can take advantage of GPU for speed and/or cost saving? We are presenting NVIDIA GPU Qualification Tool applied at scale to project potential cost saving for your entire workspace.",
         65
        ],
        [
         "Massive Data Processing in Adobe Using Delta Lake:  A Year In",
         "At Adobe Experience Platform, we ingest TBs of data everyday and manage PBs of data for our customers as part of the unified profile offering. At the heart of this is a bunch of complex ingestion of a mix of normalized and denormalized data with various linkage scenarios power by a central identity linking graph. This helps power various marketing scenarios that are activated in multiple platforms and channels like email, advertisements etc. We will go over how we built a cost effective and scalable data pipeline using Apache Spark™  and Delta Lake and share our experiences after one year in production.\n \n - What are we storing?\n - Multi-source, multi-channel problem\n - Access pattern to optimize for\n - Custom high performance query engine\n - Data representation and nested schema evolution\n - Performance trade-offs with various formats\n - Go over anti-patterns used \n - String FTW\n - Data manipulation using UDFs \n - Writer worries and how to wipe them away\n  - Locking for contention mechanism\n - Gotchas\n - Concurrency\n - Column size\n - Update frequency\n - Transaction management for a healthy state\n - Staging tables FTW \n - Why we can't live without them\n - Datalake replication lag tracking\n - Instrumentation of the data pipeline gives more confidence to the reade\n - Maintenance jobs\n - Go over essentials of compaction and vacuuming\n - Performance time!\n - What scale are we operating at?\n - Settings like autoCompact and optimizeWrite\n - Timings with and without delta\n - Cost \n  - Lesson learned and burnt",
         66
        ],
        [
         "DHL eCommerce US – Building a scalable and robust Cloud Data Platform as enabler for Enterprise Analytics",
         "DHL eCommerce Solutions Americas is a high volume B2C domestic and international parcel delivery business and that is on mission to become a data-driven organization to by democratizing the use of data and to maximizing the business value.\n  \n Learn how the DHL eCommerce Solutions Americas data team built a centralized Enterprise grade scalable cloud data platform processing 100s of millions of events daily. This single source of truth powering all analytics use cases helps DHL ecommerce US team to deliver business insights 5x faster.\n We will dive into how we solved challenging key requirements including secure multi-tenant central data platform, scalable data ingestion and processing, cost effective big data repository, fast and regular data refreshes, diverse analytics workload needs.\n \n Finally we will share some example usecases operated on this platform and the business value those usecases are generating along various lines of the business including operations, commercial, customer service, sales, product management, etc.",
         67
        ],
        [
         "Learnings From the Field: Migration From Oracle DW and IBM DataStage to Databricks on AWS",
         "Legacy data warehouses are costly to maintain, unscalable and cannot deliver on data science, ML and real-time analytics use cases. Migrating from your enterprise data warehouse to Databricks lets you scale as your business needs grow and accelerate innovation by running all your data, analytics and AI workloads on a single unified data platform.\n \n In the first part of this talk we will guide you through the well-designed process and tools that will help you from the assessment phase to the actual implementation of an EDW migration project. Also, we will address ways to convert PL/SQL proprietary code to an open standard python code and take advantage of PySpark for ETL workloads and Databricks SQL’s data analytics workload power.\n \n The second part of this talk will be based on an EDW migration project of SNCF (French national railways); one of the major enterprise customers of Databricks in France. Databricks partnered with SNCF to migrate its real estate entity from Oracle DW and IBM DataStage to Databricks on AWS. We will walk you through the customer context, urgency to migration, challenges, target architecture, nitty-gritty details of implementation, best practices, recommendations, and learnings in order to execute a successful migration project in a very accelerated time frame.",
         68
        ],
        [
         "Why a Major Japanese Financial Institution Chose Databricks to Accelerate its Data and AI-Driven Journey",
         "In this session, we will introduce a case study of migrating the Japanese largest data analysis platform to Databricks.\n \nNTT DATA is one of the largest system integrators in Japan. In the Japanese market, many companies are working on BI, and we are now in the phase of using AI. Our team provides solutions that provide data analytics infrastructure to drive the democratization of data and AI for leading Japanese companies.\n \n The customer in this case study is the largest insurance company in Japan. This project has the following characteristics:\n  - As a financial institution, security requirements are very strict.\n  - Since it is used company-wide, including group companies, it is necessary to support various use cases.\n \n We started operating a data analysis platform on AWS in 2017. Over the next five years, we leveraged AWS-managed services such as Amazon EMR, Amazon Athena, and Amazon Sage Maker to modernize our architecture.\n \n In the near future, in order to promote the use cases of AI as well as BI, we have begun to consider upgrading to a platform that realizes both BI and AI.\n \n This session will cover:\n  - Challenges in developing AI on a DWH-based data analysis platform and why a data lake house is the best choice\n  - Examining the architecture of a platform that supports both AI and BI use cases. In this case study, we will introduce the results of a comparative study of a proposal based on Databricks, a proposal based on Snowflake, and a proposal combining Snowflake and Databricks.\n \n This session is recommended for those who want to accelerate their business by utilizing AI as well as BI.\n \n \n",
         69
        ],
        [
         "Eliminating Shuffles in Delete Update, and Merge",
         "If you’ve ever had to delete a set of records for regulatory compliance, update a set of records to fix an issue in the ingestion pipeline, or apply changes in a transaction log to a fact table, you know that row-level operations are becoming critical for modern data lake workflows. Even though the industry has seen a tremendous amount of innovation in this area, row-level operations can be still fairly expensive if the underlying data has to be shuffled. This talk will explain how Apache Spark can completely avoid shuffles during row-level operations by leveraging storage-partitioned joins, a key to efficiently modify data at PB scale.",
         70
        ],
        [
         "When Self-Service Meets Earnings Calls: A Journey Towards FinOps",
         "At Disney Streaming, we extensively use Databricks and the delta lake as an operational and analytical tool. But as we shift focus from growth to profit, our data platform needed to pivot from self-service and ease use and towards automatic tracking, auditing, and continuous efficiency chasing. \n \n In this talk, I'll explain our FinOps journey; how we democratized cost data, increased transparency, tightened policies, and got dozens of analytical and engineering teams to fit cost savings into their roadmap.\n",
         71
        ],
        [
         "Delta Lake Migration At Scale",
         "Adobe Experience Platform (AEP) serves a large number Adobe digital experience customers with tens of thousands of datasets in non-Delta format. To leverage Delta Lake, we migrate existing tables to Delta format after resolving the following challenges: 1). Short downtime to minimize customer impact; 2). Adding new system metadata; 3). Migration automation for scalability; and 4). Error detection and catastrophic rollback. This talk will cover the solutions to the above challenges and lessons learned from migration. Finally, scalable migration service becomes a core capability of the data platform.",
         72
        ],
        [
         "Databricks Cost Management",
         "With Databricks you only pay for the compute resources you use. With growing usage it is advisable to have a cost management strategy to avoid surprises at the end of the month. It is also useful to monitor and break down costs for budgeting purposes or to calculate the return on investment (ROI) for specific projects.\n \n In this talk I will:\n - Describe the Databricks pricing model\n - Show how to analyze and break down costs\n - Discuss best practises for cost optimization",
         73
        ],
        [
         "Data Asset Bundles: A Standard, Unified Approach to Deploying Data Products on Databricks",
         "In this talk we will introduce data asset bundles, provide a demonstration of how they work for a variety of data products, and how to fit them into an overall CICD strategy for the well-architected Lakehouse.\n \n Data teams produce a variety of assets; datasets, reports and dashboards, ML models, and business applications. These assets depend upon code (notebooks, repos, queries, pipelines), infrastructure (clusters, SQL warehouses, serverless endpoints), and supporting services/resources like Unity Catalog, Databricks Workflows, and DBSQL dashboards. Today, each organization must figure out a deployment strategy for the variety of data products they build on Databricks as there is no consistent way to describe the infrastructure and services associated with project code.\n \n Data asset bundles is a new capability on Databricks that standardizes and unifies the deployment strategy for all data products developed on the platform. It allows developers to describe the infrastructure and resources of their project through a YAML or JSON configuration file, regardless of whether they are producing a report, dashboard, online ML model, or Delta Live Tables pipeline. Behind the scenes, these configuration files use Terraform to manage resources in a Databricks workspace, but knowledge of Terraform is not required to use Data Asset Bundles.",
         74
        ],
        [
         "Lakehouses: The Best Start to Your Graph Data and Analytics Journey",
         "Data architects and IT executives are continually looking for the best ways to integrate graph data and analytics into their organizations to improve business outcomes. This presentation outlines how the Data Lakehouse provides the perfect starting point for a successful journey. We will explore how the Data Lakehouse offer the unique combination of scalability, flexibility, and speed to quickly and effectively ingest, pre-process, curate, and analyze graph data to create powerful analytics. Additionally, this talk will discuss the benefits of using the Data Lakehouse over traditional graph databases and how it can help improve time to insight, time to production and overall satisfaction. \n \nAt the end of this presentation, attendees will: \n - Understand the benefits of using a Data Lakehouse for graph data and analytics \n - Learn how to get started with a successful Lakehouse implementation (demo)\n - Discover the advantages of using a Data Lakehouse over graph databases\n - Learn specifically where graph databases integrate and perform better together\n \n Key Takeaways: \n - Data Lakehouses provide the perfect starting point for a successful graph data and analytics journey \n - Data Lakehouses offer scalability, flexibility, and speed to quickly and effectively analyze graph data \n - The Data Lakehouse is a cost-effective alternative to traditional graph database shortening your time to insight and de-risk your project.\n \n Presentation Components:\n The customer journey\n Access patterns\n Reference architecture (logical, physical)\n Customer stories\n Demo (notebook + live graph visualization)",
         75
        ],
        [
         "Unity Catalog, Delta Sharing and Data Mesh on Databricks Lakehouse",
         "As you embark on a lakehouse project or evolve your existing data lake, you may want to improve your security posture and take advantage of new security features—there may even be a security team at your company that demands it! Databricks has worked with thousands of customers to securely deploy the Databricks Platform to meet their architecture and security requirements. While many organizations deploy security differently, we have found a common set of guidelines and features among organizations that require a high level of security. In this session, we will detail the security features and architectural choices frequently used by these organizations and walk through a series of threat models for the risks that most concern security teams. While this session is great for people who already know Databricks—don’t worry—that knowledge isn’t required. \nYou will walk away with a full handbook detailing all of the concepts, configurations, check lists, security analysis tool (SAT), and security reference architecture (SRA) automation scripts  from the session so that you can make immediate progress when you get back to the office. \\\nSecurity can be hard, but we’ve collected the hard work already done by some of the best in the industry, and built tools, to make it easier. Come learn how. See how good looks like via a demo.\n",
         76
        ],
        [
         "Data Globalization at Conde Nast Using Delta Sharing",
         "Databricks has been an essential part of the Conde Nast architecture for the last few years.\n \n Prior to building our centralized data platform, “evergreen”, we had similar challenges as many other organizations; siloed data, duplicated efforts for engineers, and a lack of collaboration between data teams. These problems led to mistrust in data sets and made it difficult to scale to meet the strategic globalization plan we had for Conde Nast.\n \n Over the last few years we have been extremely successful in building a centralized data platform on Databricks in AWS, fully embracing the lakehouse vision from end-to-end. Now, our analysts and marketers can derive the same insights from one dataset and data scientists can use the same datasets for use cases such as personalization, subscriber propensity models, churn models and on-site recommendations for our iconic brands.\n \n In this talk, we’ll discuss how we plan to incorporate Unity Catalog and Delta Sharing as the next phase of our globalization mission. The evergreen platform has become the global standard for data processing and analytics at Conde. In order to manage the worldwide data and comply with GDPR requirements, we need to make sure data is processed in the appropriate region and PII data is handled appropriately. At the same time, we need to have a global view of the data to allow us to make business decisions at the global level. We’ll talk about how delta sharing allows us a simple, secure way to share de-identified datasets across regions in order to make these strategic business decisions, while complying with security requirements. Additionally, we’ll discuss how Unity Catalog allows us to secure, govern and audit these datasets in an easy and scalable manner.",
         77
        ],
        [
         "Unlocking the Value of Data Sharing in Financial Services With Lakehouse",
         "The emergence of secure data sharing is already having a tremendous economic impact, in large part due to the increasing ease and safety of sharing financial data. McKinsey predicts that the impact of open financial data will be 1-4.5% of GDP globally by 2030. This indicates there is a narrowing window on a massive opportunity for financial institutions and it is critical that they prioritize data sharing. This session will first address the ways in which Delta Sharing and Unity Catalog on a Databricks Lakehouse architecture provides a simple and open framework for building a Secure Data Sharing platform in the financial services industry. Next we will use a Databricks environment to walk through different use cases for open banking data and secure data sharing, demonstrating how they will be implemented using Delta Sharing, Unity Catalog, and other parts of the Lakehouse platform. The use cases will include examples of new product features such as Databricks to Databricks sharing, change data feed and streaming on Delta Sharing, table/column lineage, and the Delta Sharing Excel plugin to demonstrate state of the art sharing capabilities.\n Spencer Cook, a Sr. Solutions Architect at Databricks focussed on the Financial Services industry will discuss secure data sharing on Databricks Lakehouse and will demonstrate architecture and code for common sharing use cases in the finance industry.",
         78
        ],
        [
         "Extending Lakehouse Architecture with Collaborative Identity",
         "Lakehouse architecture has become a valuable solution for unifying data processing for AI, but faces limitations in maximizing data’s full potential. Additional data infrastructure is helpful for strengthening data consolidation and data connectivity with third-party sources, which are necessary for building full data sets for accurate audience modeling.\n\nIn this session, LiveRamp will demonstrate to data and analytics decision-makers how to build on the Lakehouse architecture with extensions for collaborative identity graph construction, including how to simplify and improve data enrichment, data activation and data collaboration. LiveRamp will also introduce a complete data marketplace, which enables easy, pseudonymized data enhancements that widen the attribute set for better behavioral model construction.\n\nWith these techniques and technologies, enterprises across financial services, retail, media, travel and more can safely unlock partner insights and ultimately produce more accurate inputs for personalization engines, and more engaging offers and recommendations for customers.\n",
         79
        ],
        [
         "Writing Data-Sharing Apps Using Node.js and Delta Sharing",
         "Javascript remains the top programming language today, with most code repositories written using JavaScript on GitHub. However, JavaScript is evolving beyond just a language for web application development into a language built for tomorrow. Everyday tasks like data wrangling, data analysis, and predictive analytics are possible today directly from a web browser. For example, many popular data analytics libraries, like Tensorflow.js, now support JavaScript SDKs. Another popular library, Danfo.js, makes it possible to wrangle data using familiar Pandas-like operations, shortening the learning curve and arming the typical data engineer or data scientist with another data tool in their toolbox. In this presentation, we’ll explore using the Node.js connector for Delta Sharing to build a data analytics app that summarizes a Twitter dataset.",
         80
        ],
        [
         "Creating the First Sports and Entertainment Data Marketplace Powered by Pumpjack Dataworks, Revelate, Immuta and Databricks",
         "Creating a secure and easily actionable marketplace is no simple task. Add to this governance requirements of privacy frameworks and responsibilities of protecting consumer data, and things get harder. With Pumpjack Dataworks partnering with Databricks, Immuta, and Revelate, we bring secure, privacy-focused data products directly to data consumers. With Delta Share, the service solves redundancy of data purchases, time to action, and lowers cost of data acquisition while providing new revenue streams for rights holders. Its a win-win solution for bringing Data Acquisition and Commercial teams together into the new age of data.",
         81
        ],
        [
         "Data Interoperability Across Clouds and Regions",
         "L’Oréal has the largest and richest data repository in the beauty industry, with a 110-year heritage solely dedicated to analyzing, measuring and magnifying the beauty needs and desires of consumers around the world. As L’Oréal’s ambition is to become the leader in beauty tech, a profound IT transformation started three years ago to meet their most strategic priorities: \n - Hyper personalization\n - Consumer experience online and offline \n - Preventive care\n - Integrating artificial intelligence into the business\n \n This IT transformation now needs to reach all of their services and teams worldwide with the same level of security, quality and exacting standards. To do so, data must be unlocked and democratized across the world in order to meet their strategic priorities. This is why L’Oréal and Databricks worked together on the data interoperability value proposition in order to :\n - Facilitate multi-cloud interoperability exchanges thanks to open standards technologies\n - Secure and trace through a centralized governance tool to respond to the growing regulatory environment and the application of other data laws (such as in Vietnam)\n - Optimize and rationalize data exchanges to reduce transported volumes and meet L'Oréal's sustainable development objectives\n - Ensure the quality of the data exchanged through quality and validation checks",
         82
        ],
        [
         "Data Extraction and Sharing Via the Delta Sharing Protocol: Overfetching, Underfetching and Other Lessons and Tips for Development Learned While Building the Delta Sharing Excel Add-in",
         "The Delta Sharing open protocol for secure sharing and distribution of Lakehouse data is designed to reduce friction in getting data to users. Delivering custom data solutions from this protocol further leverages the technical investment committed to your Delta Lake infrastructure.\n \n There are key design and computational concepts unique to Delta Sharing to know when undertaking development. And there are pitfalls and hazards to avoid when delivering modern cloud data to traditional data platforms and users.\n \n In this session we introduce Delta Sharing Protocol development and examine our journey and the lessons learned while creating the Delta Sharing Excel Add-in. We will demonstrate scenarios of overfetching, underfetching, and interpretation of types. We will suggest methods to overcome these development challenges.\n \n The session will combine live demonstrations that exercise the Delta Sharing REST protocol with detailed analysis of the responses. The demonstrations will elaborate on optional capabilities of the protocol’s query mechanism, and how they are used and interpreted in real-life scenarios.\n \n As a reference baseline for data professionals, the Delta Sharing exercises will be framed relative to SQL counterparts. Specific attention will be paid to how they differ, and how Delta Sharing’s Change Data Feed (CDF) can power next-generation data architectures.\n \n The session will conclude with a survey of available integration solutions for getting the most out of your Delta Sharing environment, including frameworks, connectors, and managed services.\n \n Attendees are encouraged to be familiar with REST, JSON, and modern programming concepts. A working knowledge of Delta Lake, the Parquet file format, and the Delta Sharing Protocol are advised.",
         83
        ],
        [
         "Data sharing & beyond with Delta Sharing",
         "Stepping into this brave new digital world we are certain that data will be a central product for many organizations. The way to convey their knowledge and their assets will be through data and analytics. Delta Sharing was the world's first open protocol for secure and scalable real-time data sharing. Through our customer conversations, there is a lot of anticipation of how Delta Sharing can be extended to non-tabular assets, such as machine learning experiments and models.\n \n In this talk, we will cover how we extended the Delta Sharing protocol to other sharing workflows, enabling sharing of ML models, arbitrary files and more. The development resulted in Arcuate, a Databricks Labs project with a data sharing flavour. The talk will start with the high-level approach and how it can be extended to cover other similar use cases. It will then move to our implementation and how it integrates seamlessly with Databricks-managed Delta Sharing server and notebooks. We finally conclude with lessons learned, and our visions for a future of data sharing & beyond",
         84
        ],
        [
         "Ad Measurement: From Impressions to Attribution",
         "\"Effectv, the advertising sales division of Comcast, delivers linear and digital advertising to help advertisers reach potential customers. In this talk, Joe Walsh, Director of Attribution & Measurement and Derek Sugden, Ad Measurement Lead, will discuss their team's journey of measuring the impact of advertising campaigns on customer behavior by combining Comcast's household-level exposure data with various types of third-party conversion data sourced externally. They will highlight the challenges of sharing and receiving data securely while preserving customer privacy, and share how they have implemented an internal \"\"clean room\"\" concept to restrict roles and usage of a cluster",
         85
        ],
        [
         "Clean Room Primer: Using Clean Rooms on Databricks to Utilize More and Better Data in your BI, ML, and Beyond",
         "In this session, Habu’s Chief Product Officer, Matt Karasick and Senior Architect, Anil Puliyeril, will discuss the foundational changes in the ecosystem, the implications of data insights on marketing, analytics, and measurement, and how companies are coming together to collaborate through data clean rooms in new and exciting ways to power mutually beneficial value for their businesses while preserving privacy and governance.\n \n We will delve into the concept and key features of clean room technology and how they can be used to access more and better data for business intelligence (BI), machine learning (ML), and other data-driven initiatives. By examining real-world use cases of clean rooms in action, attendees will gain a clear understanding of the benefits they can bring to industries like CPG, retail, and media & entertainment. \n \n In addition, we will unpack the advantages of using Databricks as a clean room platform, specifically showcasing how interoperable clean rooms can be leveraged to enhance BI, ML and other compute scenarios. By the end of this talk, you will be equipped with the knowledge and inspiration to explore how clean rooms can unlock new collaboration opportunities that drive better outcomes for your business and improved experiences for consumers.",
         86
        ],
        [
         "Embrace First-Party Data Collaboration to Lower Acquisition Costs with Lookalike Audiences in Media Cleanrooms",
         "Third-party tracking is dead! Yet customer acquisition costs continue to rise to meet the demands of customer attention. Lookalike audience modeling leveraging first-party customer data has offered organizations a cost-effective means to identifying and engaging new customers at scale. However, as we move into a privacy-centric era, collaboration with first-party data across organizations becomes increasingly challenging. So how can we work together to meet both needs? The answer is data clean rooms for the lakehouse, fueled by first-party customer data to build lookalike audience profiles and drive highly personalized ads and experiences in media and commerce.\n \n Using Snowplow's generation of granular first-party customer behavioral data with governance metadata and consent tracking, managed through data clean rooms in the lakehouse, organizations can collaborate securely across their first-party datasets. For example, brands and advertisers can join their first-party onsite data with third-party datasets shared by their agency and advertising partners to boost CTR and ROAS with lookalike audiences.\n \nThis session you focus on:\n - Best practices for creating lookalike audiences with first-party customer data to lower acquisition costs\n - See a live demonstration of how audiences derived through the Databricks Lakehouse can be securely exchanged with customers and partners to foster data-driven innovations creating a customer behavioral profile using Snowplow \n - Data engineering and preparation of Snowplow Behavioral Data with DBT and Databricks\n - Development and training of an ML model using PySpark on Databricks to create a model to drive contextual advertising\n - Implementation of the model for scoring\n - Engage in Q&A",
         87
        ],
        [
         null,
         "S&P merged with IHS Markit unlocking massive market opportunities, but it also created organizational and technology challenges that made it difficult to centralize all their data and make it readily available for analytics and AI. This impacted cross-team collaboration and limited their ability to provide innovative solutions for their clients looking to make smarter, sustainable investment choices. There were infrastructure complexities and they significantly increased data volumes that limited their ability to democratize data and insights. Their legacy data warehouse also struggled with unifying alternative data sources with other data sets. This impacted various use cases across the business including credit risk, ESG, and Marketplace Workbench. The Sustainable1 team has spearheaded getting all their datasets readily available for sharing across all of their internal divisions via Delta Share, and also to share S&P data externally with their customers. ",
         88
        ],
        [
         "How to Create and Manage a High-Performance Analytics Team",
         "Data Science and analytics teams are unique. Large and small corporations want to build and manage analytics teams to convert their data and analytic assets into revenue and competitive advantage, but many are failing before they make their first hire. In this presentation, the audience will learn how to structure, hire, manage and grow an analytics team. Organizational structure, project and program portfolios, neurodiversity, developing talent, and more will be discussed. Questions and discussion will be encouraged and engaged in. The audience will leave with a deeper understanding of how to succeed in turning data and analytics into tangible results.",
         89
        ],
        [
         "What it Takes to Democratize AI and ML in a Large Company: The Importance of User Enablement and Technical Training",
         "The biggest critical factor to success in a Cloud transformation is people. As such, having a change management process in place to manage the impact of the transformation and user enablement is foundational to any large program. In this session we will dive into how TD bank democratizes data, mobilizes our 2000+ analytics user community and the tactics we used to successfully enable new use cases on Cloud. The session will focus on\n \n To democratize data:\n • Centralize a data platform that is accessible to all employees and allow for easy data sharing \n • Implement privacy and security to protect data and use data ethically\n • Compliance and governance for using data in responsible and compliant way\n • Simplification of processes and procedures to reduce redundancy and faster adoption\n\n To mobilize end users:\n • Increase data literacy: provide training and resources for employees to increase their abilities and skills\n • Foster a culture of collaborationand openness: cross-functional teams to collaborate and share ideas\n • Encourage exploration of innovative ideas that impact the organization's values and customers\n \nTechnical enablement and adoption tactics we've used at TD Bank:\n • Hands-on training for over 1300+ analytics users with emphasis on learn by doing, to relate to real-life situations\n • Online tutorials and documentations to be used as self-paced study \n • Workshops and office hours on specific topics to empower business users\n • Coaching to work with teams on a specific use case/complex issue and provide recommendations for a faster, cost effective solutions\n • Offer certification and encourage continuous education for employees to keep up to date with latest \n • Feedback loop: get user feedback on training and user experience to improve future trainings",
         90
        ],
        [
         "Weaving the Data Mesh in the Department of Defense",
         "The Chief Digital and AI Office (CDAO) was created to lead the strategy and policy on data, analytics, and AI adoption across the Department of Defense. To enable that vision, the Department must achieve new ways to scale and standardize delivery under a global strategy while enabling decentralized workflows that capture the wealth of data and domain expertise. \n \n CDAO’s strategy and goals are aligned with data mesh principles. This alignment starts with providing enterprise-level infrastructure and services to advance the adoption of data, analytics, and AI, creating the self-service data infrastructure as a platform. And it continues through implementing policy for federated computational governance centered around decentralizing data ownership to become domain-oriented but enforcing the quality and trustworthiness of data. CDAO seeks to expand and make enterprise data more accessible through providing data as a product and leveraging a federated data catalog to designate authoritative data and common data models. This results in domain-oriented, decentralized data ownership to empower the business domains across the Department to increase mission and business impact that result in significant cost savings, saving lives, and data serving as a “public good.”\n \n Please join us in our presentation as we discuss how the CDAO leverages modern, innovative implementations that accelerate the delivery of data and AI throughout one of the largest distributed organizations in the world; the Department of Defence.  We will walk through how this enables delivery in various Department of Defence use cases.",
         91
        ],
        [
         "The Modern Composable CX Stack: Deconstructing the Data Lifecycle From Infrastructure to Orchestration",
         " In today’s privacy-conscious world, it’s imperative for IT to have ownership and full control of sensitive customer data. But more than ever, business stakeholders are in dogged pursuit of customer data that can drive better customer understanding and more effective campaigns. For IT, maintaining the integrity of data and architecture while driving customer 360 and other customer experience initiatives can become costly, time consuming and a source of friction in the organization.\n \n Hear from ActionIQ’s SVP of Product Justin DeBrabant and Northwestern Mutual’s Chief Data Officer Don Vu as they discuss how Northwestern Mutual is leveraging Databricks and ActionIQ’s CX Hub to bring together business and technical teams around existing data and architecture investments while enabling powerful CX initiatives.\n \n You’ll learn:\n - How to maintain IT choice, agility and control across the stack with composable technology \n - Strategies to optimize and showcase existing data investments of IT while elevating the stack \n - Tactics to drive business impact from data management, governance and modernization initiatives",
         92
        ],
        [
         "Leveraging Product Thinking to Scale a Data Platform to a 400-person (Or More!) Data & Analytics Team",
         "There exists a large and complex set of big data and analytics tools. How do you decide which tools to use? When to use them? In what way? And how to ensure availability and productivity? In this session we'll talk about how we organized the data platform team so that we could provide the best data environment for the 400+ engineers and data scientists at Anheuser-Busch InBev. \n \n Data platforms are generally a set of tools that enable data analysis activities. They are built on many different technologies and processes. How to guarantee reliability and constant evolutions for our users was the problem we started to face during the first months after the launch of our Data Platform. To solve this issue, we used an agile mindset and product management framework, already consolidated in software management teams. As a result, we divided the data platform team into squads, each one having its own OKRs and backlog aimed at improving user productivity. \n \n Having well-defined responsibilities for each squad according to the stages of the data journey within the platform made it possible to establish clear priorities for evolution in terms of benefits generated for users and the company. This also allowed us to have a highly specialized operations team to each part of the architecture, as each squad is responsible for keeping its product up and running. \n \n In this session, we will show the evolution of the team's structure over three years, as well as the challenges encountered. In addition, we will show how the daily work of the squads is organized.",
         93
        ],
        [
         "Experience the New Era of Data & AI: Taking Bold Steps",
         "Being an organization operating in >65 countries, PETRONAS has a complex and  growing data landscape across its value chain. It is undoubted that digital transformation is a necessity; however, its success is underpinned by data being a strategic enabler. At PETRONAS, we took bold steps in pioneering new frontiers through the undertaking of several strategic initiatives since 2020 to accelerate the digital transformation in PETRONAS:\n \n 1. Liberalization of data & analytics\n Data & analytics are made available and accessible across PETRONAS through a paradigm shift in ways of working with PETRONAS having 'default access rights' to data.\n  \n 2. Insight velocity via single source of truth data platform for analytics\n Enterprise data hub as a dual cloud-based data platform with integrated capabilities and robust technology stacks, whereby data (internal and external) and analytic products that brings the biggest impact and value is curated for insights.\n \n 3. Analytics for everyone\n Everyone can now step-up in using data and advanced analytics without the need for programming skillsets through advanced analytics in EDH that is low-code and augmented by AI\n \n 4. Line of sight across multiple data platforms and applications\n Data Governance Control Tower to provide the line of sight on areas such as metadata management, data access, security and data quality across all data platforms and applications\n \n 5. Modernized data governance adaptive data governance; a modern approach, with centralized governance and decentralised assurance to achieve a centralized, inclusive and resilient data governance, while removing bottlenecks and breaking down siloes through federated execution across the business\n \n PETRONAS has achieved major milestones with the above. As such, we would like to share our knowledge & expertise.",
         94
        ],
        [
         "Advancing Customer Centricity: Mission Data's Data & Analytics Transformation",
         "Overview - \n Mission Data was a three-year transformation focused on leveraging data to better understand our members and engage with them in a personalized way to help them better manage their finances. We’re accomplishing this by transforming Navy Federal into a member-centric, data-driven and AI-powered organization. Leveraging member data in new and innovative ways allows us to create a superior member experience by delivering value back to our members to show them that we know them, and this has always been at the core of our Member Centric strategy. Due to the evolving nature of the broader technological marketplace, consumers have come to expect increasing degrees of personalization across their experiences. Navy Federal members expect the same from their financial institutions and Mission Data is enabling the financial service and guidance our members have come to expect through personalized insights. A personalized insight takes the guess work out of managing finances for members. We show them we know them AND we do it for them…From providing target savings guidance, tracking financial goals, or letting members know they’ve reached a milestone achievement. Delivering these types of insights tailored to our member’s individual needs ultimately deepens their relationship and loyalty with Navy Federal as their trusted financial partner. This is an effort we’re accelerating as we democratize the Mission Data Platform—making member data accessible and actionable across the enterprise. In 2019, we developed a strategy and roadmap for Navy Federal to build the data and analytics capabilities needed to deliver these types of experiences. Key Enablers in the Journey: People, Mindset, Change, Adoption.",
         95
        ],
        [
         "The C-Level Guide to Data Strategy Success With the Lakehouse",
         "Join us for a practical session on implementing a data strategy leveraging people, process, and technology to meet the growing demands of your business stakeholders for faster innovation at lower cost. Dael Williamson and Robin Sutara, EMEA Field CTOs at Databricks, will share real-world examples on best practices and things to avoid as you drive your strategy from the board to the business units in your organization",
         96
        ],
        [
         "Unity Catalog, Delta Sharing and Data Mesh on Databricks Lakehouse",
         "Abstract\n How customers implemented Data Mesh on Databricks and how standardizing on delta format enabled Delta-to-Delta Share to non-Databricks consumers.\n \n Presentation Agenda:\n \n 1. Current State of the IT Landscape\n a. Data Silos (problems with organizations not having connected data in the ecosystem)\n b. A look back on why we moved away from Data warehouses and choose cloud in the first place\n c. What caused the data chaos in the cloud (instrumentation and too much stitching together) ~ periodic table list of services of the cloud\n \n 2. How to strike the balance between Autonomy and Centralization\n \n 3. Why Databricks Unity Catalog puts you in the right path to implementing Data Mesh strategy\n \n 4. What are the process and features that enable and end-to-end Implementation of a Data Strategy\n \n 5. How customers were able to successfully implement the Data mesh on out of the box Unity Catalog and Delta Sharing without overwhelming their IT tool Stack\n \n 6. Use-Cases\n a. Delta-to-Delta Data Sharing \n b. Delta-to-Others Data Sharing\n \n 7. How do you navigate when data today is available across regions, across clouds,on-prem and external systems\n a. Change Data Feed to share only “data that has changed”\n \n 8. Data stewardship\n a. Why ABAC is important\n b. How file based access policies and governance play an important role\n \n 9. Future State and its pitfalls\n a. Egress Costs\n b. Data compliances",
         97
        ],
        [
         "Event Driven Real-Time Supply Chain Ecosystem Powered by Lakehouse",
         "As the backbone of Australia’s supply chain, the Australia Rail Track Corporation (ARTC) plays a vital role in the management and monitoring of goods transportation across 8,500km of its rail network throughout Australia. ARTC provides weighbridges along their track which read train weights as they pass at speeds of up to 60 kilometers an hour. This information is highly valuable and is required both by ARTC and their customers to provide accurate haulage weight details, analyze technical equipment, and help ensure wagons have been loaded correctly. \n \n 750 trains run across a network of 8500 km in a day and generate real-time data at approximately 50 sensor platforms. \n \n With the help of structured streaming and Delta Lake, ARTC was able to analyze and store: \n \n 1. Precise train location\n 2. Weight of the train in real-time\n 3. Train crossing time to the second level \n 4. Train speed, temperature, sound frequency, and friction \n 5. Train schedule lookups \n \n Once all the IoT data has been pulled together from an IoT event hub, it is processed in real-time using structured streaming and stored in Delta Lake. To understand the train GPS location API calls are then made per minute per train from the Lakehouse. API calls are made in real-time to another scheduling system to lookup customer info. Once the processed, enriched, data is stored in Delta Lake, an API layer was also created on top of it to expose this data to all consumers. \n \n Outcome:\n \n Increased transparency on weight data as it is now made available to customers. \nA digital data ecosystem that now ARTC’s customers use to meet their KPIs/ planning. \nAbility to determine temporary speed restrictions across the network to improve train scheduling accuracy and also schedule network maintenance based on train schedules/ speed.",
         98
        ],
        [
         "Streaming Tens of Millions of Events Made Simple at Visa Using Apache Spark™",
         "Apache Spark™’s continuous streaming approach works really well with the data lakehouse architecture. However, building streaming pipelines at VISA scale has two types of challenges, the first of building a single pipeline - performance, debuggability and the guarantees, and the second of scaling it to multiple teams and users including the business teams where productivity, standardization, reusability are very important.\n \n Sr. Director Durga Kala and Principal Data Engineer Varun Sharma, wanted to enable their Visa data engineers to quickly prototype, share their code base and be productive on ever increasing workloads. They introduced a new approach to building a low-code framework on the Apache Spark ecosystem, that allows users to create new pipelines quickly, while handling the scale of tens of millions of transactions an hour, fault tolerance, and satisfying rigid security requirements out of the box. The result? Visa’s development cycles shrank from weeks to days and various business teams can now leverage low-latency streaming data.",
         99
        ],
        [
         "Taking Control of Streaming Healthcare Data",
         "Chesapeake Regional Information System for our Patients (CRISP), a nonprofit healthcare information exchange (HIE), initially partnered with Slalom to build a Databricks data lakehouse architecture in response to the analytics demands of the COVID-19 pandemic, since then they have expanded the platform to additional use cases. Recently they have worked together to engineer streaming data pipelines to process healthcare messages, such as HL7, to help CRISP become vendor independent.\n \n Our talk will focus on the improvements CRISP has made to their data lakehouse platform to support streaming use cases and the impact these changes have had for the organization. We will touch on using Databricks Auto Loader to efficiently ingest incoming files, ensuring data quality with Delta Live Tables, and sharing data internally with a SQL warehouse, as well as some of the work CRISP has done to parse and standardize HL7 messages from hundreds of sources. These efforts have allowed CRISP to stream over 4 million messages daily in near real-time with the scalability it needs to continue to onboard new healthcare providers so it can continue to facilitate care and improve health outcomes.",
         100
        ],
        [
         "Deploying the Lakehouse to Improve the Viewer Experience on Discovery+",
         "In this session we will discuss how real-time data streaming can be used to gain insights into user behavior and preferences, and how this data is being used to provide personalized content and recommendations on discovery+. We will examine techniques that enables faster decision making and insights on accurate real time data including data masking and data validation. To enable a wide set of data consumers from data engineers to data scientists to data analysts, we will discuss how Unity Catalog is leveraged for secure data access and sharing while still allowing teams flexibility. Operating at this scale requires examining the value being created by the data being processed and optimizing along the way and we will share some of our success in this area.",
         101
        ],
        [
         "Apache Spark™ Streaming and Delta Live Tables Accelerates KPMG Clients For Real-Time IoT Insights",
         "Unplanned downtime in manufacturing costs firms up to a trillion dollars annually. Time that materials spend sitting on a production line is lost revenue. Even just 15 hours of downtime a week adds up to over 800 hours of downtime yearly. The use of internet of things or IoT devices can cut this time down by providing details of machine metrics. However, IoT predictive maintenance is challenged by the lack of effective, scalable infrastructure and machine learning solutions. IoT data can be the size of multiple terabytes per day and can come in a variety of formats. Furthermore, without any insights and analysis, this data becomes just another table. \n \n The KPMG Databricks IoT Accelerator is an end-to-end solution enabling manufacturing plant operators to have a bird’s eye view of their machines’ health and empowers proactive machine maintenance across their portfolio of IoT devices. The Databricks Accelerator ingests IoT streaming data at scale and implements the Databricks medallion architecture while leveraging delta live tables to clean and process data. Real time machine learning models are developed from IoT machine measurements and are managed in MLflow. The AI predictions and IoT device readings are compiled in the gold table powering downstream dashboards like Tableau. Dashboards inform machine operators of not only machines’ ailments, but action they can take to mitigate issues before they arise. Operators can see fault history to aid in understanding failure trends, and can filter dashboards by fault type, machine, or specific sensor reading.",
         102
        ],
        [
         "Optimizing batch and streaming aggregations",
         "I've got a client recently who asked me to optimize their batch and streaming workloads. It happened to be aggregations using DataFrame.groupBy operation with a custom Scala UDAF over a data stream from Kafka. Just a single simple-looking request that turned itself up into a a-few-month-long hunt to find a more performant query execution planning than ObjectHashAggregateExec that kept falling back to a sort-based aggregation (i.e. the worst possible aggregation runtime performance). It quickly taught us that an aggregation using a custom Scala UDAF cannot be planned other than ObjectHashAggregateExec but at least tasks don't always have to fall back. And that's just batch workloads. When you throw in streaming semantics and think of the different output modes, windowing and streaming watermark optimizing aggregation can take a long time to do right.\n \n During the talk you'll learn the different execution strategies of aggregation (groupBy) in Apache Spark and what issues I faced while hunting down the tiniest performance improvements. You will learn why an aggregation with a Scala UDAF cannot be planned using HashAggregateExec and what problems you may come across while using streaming aggregation over the built-in Kafka data source. Lots of optimization tips and tricks with quite a few looks at the internals of aggregation query execution.",
         103
        ],
        [
         "Structured Streaming: Demystifying Arbitrary Stateful Operations",
         "Let’s face it -- data is messy. And your company’s business requirements? Even messier! You’re staring at your screen, knowing there is a tool that will let you give your business partners the information they need as quickly as they need it. There’s even a Python version of it now. But…it looks kinda scary. You’ve never used it before, and you don’t know where to start. Yes, we’re talking about the dreaded flatMapGroupsWithState! But fear not - we’ve got you covered. In this session we’ll take a real-word use case and use it to show you how to break down flatMapGroupsWithState into its basic building blocks. We’ll explain each piece in both Scala and the newly-released Python, and at the end we’ll illustrate how it all comes together to enable the implementation of arbitrary stateful operations with Spark Structured Streaming.",
         104
        ],
        [
         "How Disney+ uses Amazon Kinesis and Databricks to Deliver Personalized Customer Experience",
         "Disney+ uses Amazon Kinesis and Databricks Apache Spark™ streaming to drive real-time actions like providing title recommendations for customers, identifying customer trends, and building data warehouse for operational analytics to improve the customer experience. In this session, you will learn how Disney+ built real-time, data-driven capabilities on a unified streaming and analytics platform. This platform ingests billions of events per hour in Amazon Kinesis Data Streams, processes and analyzes that data in Databricks Spark Streaming to generate insights. Hear how Amazon Kinesis and Databricks have helped Disney+ scale its video streaming platform to hundreds of millions of customers.",
         105
        ],
        [
         "The Future is Open: Data Streaming in an Omni-Cloud Reality",
         "An assortment of low-code connectors boasts the ability to make data available for analytics in real time. However, many such turn-key solutions face challenges: cost-inefficient EDW targets; inability to evolve schema; forbiddingly expensive data exports due to cloud and vendor lock-in. The alternative: an open data lake that unifies batch and streaming workloads. Increasingly, we must adapt to a multi-cloud reality. Delta Lake decouples data storage from proprietary formats, dramatically reducing data extraction costs. Exporting data from delta tables eliminates the compute and storage API costs required by EDW. Bronze landing zones in Delta format build the foundation for a medallion architecture. Apache Spark™ Structured Streaming provides a unified ingestion strategy. Streaming triggers allow us to switch back and forth between batch and stream with one-line code changes. Streaming aggregation enables us to incrementally compute on data that arrives near each other.\n It is a misconception that streaming requires always-on clusters and thus is prohibitively expensive. Streaming means the ability to automatically handle new data and avoid reprocessing of historical data; real time is optional depending on use cases. Autoloader is a technique to discover newly arrived data and ensure exactly once, incremental processing. DLT further simplifies streaming jobs, accelerating the development cycle.\n Workflows bring it all together and the open source dbx project applies SWE best practices. Workflows can orchestrate tasks such as DLT pipelines, spark jobs, SQL scripts, as well as dbt transformations. Developers can define compute resources, scheduling, and dependencies in descriptive yaml format. Both task definitions and job code are versioned with popular source control systems.",
         106
        ],
        [
         "Getting Insight From Anything: Gathering Data With IoT Devices and Delta Live",
         "The drive to make data-driven decisions shapes the strategy of many companies. However, this dream has a problem; just because you need to make a decision does not mean you have the data to make it! Often these decisions require data from sources typically unconnected to the internet. This could be an architect determined to understand how the construction of her building is progressing, or a manufacturer wanting to live their best Industry 4.0 life. It's not uncommon for companies to find this journey to become “smart” is a long one; with difficult ethical ground to cover, or prohibitive costs associated with procuring the necessary equipment. However, the development of cheap and accessible IoT devices allows for the gathering of data from anything to be more within reach than ever.\n \n This talk will look at efforts to build proof-of-concept IoT systems. We will discuss our (continuing) journey of using and managing hardware and the problems we faced along the way. The main focus however will be the software stack. Azure IoT Hub is used for device management, with Power BI supporting the front end. However, the centre-piece is Delta Live Tables - allowing us a method of near real-time analysis of our data. We will discuss the advantages of using Delta Live for this, and how we wish to extend our IoT systems in the future.",
         107
        ],
        [
         "Practical Pipelines: A Houseplant Alerting System With ksqlDB",
         "Houseplants can be hard; in many cases, over-watering and under-watering can have the same symptoms. Take away the guesswork involved in caring for your houseplants while also gaining valuable experience in building a practical, event-driven pipeline in your own home! This session explores the process of building a houseplant monitoring and alerting system using a Raspberry Pi and Apache Kafka. \n \n Moisture and temperature readings are captured from sensors in the soil and streamed into Kafka. From here, we’ll use stream processing to transform the data, create a summary view of the current state, and drive real-time push alerts through Telegram. In this session, I’ll talk about how I ingest the data followed by the tools – including ksqlDB and Kafka Connect – that help transform the raw data into useful information, and finally, I’ll show how to use Kafka Producers and Consumers to make the entire application more interactive.\n \n By the end of this session you’ll have everything you need to start building practical streaming pipelines in your own home. Roll up your sleeves – let’s get our hands dirty!",
         108
        ],
        [
         "Disaster Recovery Strategies for Structured Streams",
         "In recent years, many businesses have adopted real-time streaming applications to enable faster decision making, quicker predictions and improved customer experiences. Few of these applications are driving critical business use cases like financial fraud detection, loan application processing, personalized offers, etc. These business critical applications need robust disaster recovery strategies to recover from the catastrophic events to reduce the lost uptime. However, most organizations find it hard to set up disaster recovery for streaming applications as it involves continuous data flow. Streaming state and temporal behavior of data brings additional complexities to the DR strategy.\n \n A reliable disaster recovery strategy includes backup, failover and failback approaches for the streaming application. Unlike the batch applications, these steps include many moving elements and need a very sophisticated approach to ensure that the services are failing over the DR region and meet the set RTO and RPO requirements. In this session, we will cover following topics with a FINSERV use case demo:\n 1. Backup strategy: backup of delta tables, message bus services and checkpoint including offsets\n 2. Failover strategy: failover strategy to disable services in the primary region and start the services in the secondary region with minimum data loss \n 3. Failback strategy: failback strategy to restart the services in the primary region once all the services are restored \n 4. Common challenges and best practices for backup",
         109
        ],
        [
         "Near Real-Time Data Linkage and Entity Resolution for High Volumes of Continuous and Unsynchronized Data Streams",
         "Citrix Analytics is a cloud-based service that provides analytical insights from data across Citrix product portfolio. It collates data from various sources and proactively detects security threats.\n \n The data consists of information from various entities like users, devices, applications, network, files and shares, along with their correlation over a period. This data is analyzed by various ML algorithms to detect any suspicious activity. The ML models need correlated data in real-time so vulnerabilities can be detected instantly and remediation actions can be taken.\n \n The data pipeline comprises of multiple event sources, each one of them producing high volumes of continuous data. This data generated from different sources need to be correlated using common identifiers to produce final stream of data with low latency and high data quality.\n \n The proposed solution is to build scalable, extensible, fault-tolerant system for stateful joining of two or more high volume event streams that are not fully synchronised, event ordering is not guaranteed, and certain events arrive a bit late. The system also ensures to combine the events/link so the data is in near real-time with low latency so that there is no impact on the downstream applications like ML models in determining the suspicious behavior. Apart from combining events the system also ensures to propagate the needed entities to other product streams to help in entity resolution. If any of the needed data is yet to arrive, we can configure few parameters based on use cases, so as to achieve the required eventual or attribute consistency.\n \n The architecture is an agnostic streaming framework, but our implementation leverages Spark Streaming and Kafka. The solution is implemented and is processing billions of events per day.",
         110
        ],
        [
         "Realtime ML in Marketplace @ Lyft",
         "Lyft is a ride-sharing company which is a two-sided marketplace; balancing supply and demand using various levers (passenger pricing, driver incentive etc.) to maintain an efficient system. Lyft has built a real-time optimization platform that helps to build the product faster. This complex system makes real-time decisions using various data sources; machine learning models; and a streaming infrastructure for low latency, reliability and scalability. This infrastructure consumes a massive number of events from different sources to make real-time product decisions.\n Rakesh discusses how Lyft organically evolved and scaled the streaming platform that provides a consistent view of the marketplace to aid an individual team independently run their optimization. The platform offers online and offline feature access that helps teams to back test their model in the future. It provides various other powerful capabilities such as replaying the production ML feature in PyNotebook, feature validation, near-realtime model training, executing multi-layer of models in a DAG, etc. \n He is also going to elaborate things that helped him scale the systems to process millions of events per minute and power T0 products with tighter latency SLA.",
         111
        ],
        [
         "Streaming Data Analytics With Power BI and Databricks",
         "In this session we will present a series of end-to-end technical demos illustrating the synergy between Databricks and Power BI for streaming use cases. \n  - Scenario 1: DLT + Power BI Direct Query and Auto Refresh\n  - Scenario 2: Structured Streaming + Power BI streaming datasets \n  - Scenario 3: DLT + Power BI composite datasets\n  - Considerations when to choose which scenario",
         112
        ],
        [
         "How Coinbase Built and Optimized SOON, a Streaming Ingestion Framework",
         "Data with low latency is important for real-time incident analysis and metrics. Though we have up-to-date data in OLTP databases, they cannot support those scenarios. Data need to be replicated to a data warehouse to serve queries doing group-bys, and joins across tables from different systems. At Coinbase, we designed SOON (Spark cOntinuOus iNgestion) based on Kafka, Kafka Connect, and Spark as an incremental table replication solution to replicate tables of any size from any database to Delta Lake in a timely manner. It also supports Kafka events ingestion naturally.\n \n SOON incrementally ingests Kafka events as appends, updates, and deletes to an existing table on Delta Lake. The events are grouped into two categories: CDC (change data capture) events generated by Kafka Connect source connectors, and non-CDC events by the frontend or backend services. Both types can be appended or merged into the Delta Lake. Non-CDC events can be in any format, but CDC events must be in the standard SOON CDC schema. We implemented Kafka Connect SMTs to transform raw CDC events into this standardized format. SOON unifies all streaming ingestion scenarios such that users only need to learn one onboarding experience and the team only needs to maintain one framework.\n \n We care about the ingestion performance. The biggest append-only table onboarded has ingress traffic at hundreds of thousands events per second; the biggest CDC-merge table onboarded has a snapshot size of a few TBs and CDC update traffic at hundreds of events per second. A lot of innovative ideas are incorporated in SOON to improve its performance, such as min-max range merge optimization, KMeans merge optimization, no-update merge for deduplication, generated columns as partitions, etc.",
         113
        ],
        [
         "High Volume Intelligent Streaming with Sub-Minute SLA for Near Real-Time Data Replication",
         "Come and learn an innovative solution built around Databricks structured streaming and Delta Live Tables (DLT) to replicate thousands of tables from on-premisis to cloud-based relational databases. A highly desirable pattern for many enterprises across the industries to replicate on-premises data to cloud-based data lakes and data stores in near real time for consumption. This powerful architecture can offload legacy platform workloads and accelerate cloud journey. The intelligent cost-efficient solution leverages thread-pools, multi-task jobs, Kafka, spark structured streaming and DLT. This session will go into detail about problems, solutions, lessons-learned and best practices.",
         114
        ],
        [
         "Using Cisco Spaces Firehose API as a Stream of Data for Real-Time Occupancy Modelling",
         "Honeywell manages the control of equipment for hundreds of thousands of buildings worldwide. Many of our outcomes relating to energy and comfort rely on knowing where people are in the building at any one time. This is so we can target health and comfort conditions more suitably to areas where are more densely populated. Many of these buildings have Cisco IT infrastructure in them. Using their WIFI points and the RSSI signal strength from people’s laptops and phones, Cisco can calculate the number of people in each area of the building. Cisco Spaces offer this data up as a real-time streaming source. Honeywell HBT has utilised this stream of data by writing delta live table pipelines to consume this data source.\n Honeywell buildings can now receive this firehose data from hundred of concurrent customers and provide this occupancy data as a service to our vertical offerings in commercial, health, real estate and education. We will discuss the benefits of using DLT to handle this sort of incoming stream data, and illustrate the pain points we had and the resolutions we undertook in successfully receiving the stream of Cisco data. We will illustrate how our DLT pipeline was designed, and how it scaled to deal with huge quantities of real time streaming data.",
         115
        ],
        [
         "Leveraging IoT Data at Scale to Mitigate Global Water Risks Using Apache Spark Streaming and Delta",
         "Every year, billions of dollars are lost due to water risks from storms, floods, and droughts. Water data scarcity and excess are issues that risk models cannot overcome, creating a world of uncertainty. Divirod is building a platform of water data by normalizing diverse data sources of varying velocity into one unified data asset. In addition to publicly available third-party datasets, we are rapidly deploying our own IoT sensors. \n \n These sensors ingest signals at a rate of about 100,000 messages per hour into preprocessing, signal-processing, analytics, and postprocessing workloads in one spark-streaming pipeline to enable critical real-time decision-making processes. By leveraging streaming architecture, we were able to reduce end-to-end latency from 10s of minutes to just a few seconds. \n \n We are leveraging Delta to provide a single query interface across multiple tables of this continuously changing data. This enables data science and analytics workloads to always use the most current and comprehensive information available. In addition to the obvious schema transformations, we implement data-quality metrics and datum conversions to provide a trustworthy unified dataset.",
         116
        ],
        [
         "Unlocking Near Real-Time Data Replication with CDC, Apache Spark Streaming, and Delta Lake",
         "Tune into DoorDash's journey to migrate from a flaky ETL system with 24-hour data delays, to standardizing a CDC streaming pattern across 150+ databases to produce near real-time data in a scalable, configurable, and reliable manner. During this journey, understand how we use Delta Lake to build a self-serve, read-optimized data lake with data latencies of 15 minutes, whilst reducing operational overhead. Furthermore, understand how certain tradeoffs like conceding to a non-real-time system allow for multiple optimizations but still permit for OLTP query use-cases, and the benefits it provides.",
         117
        ],
        [
         "Streaming Schema Drift Discovery and Controlled Mitigation",
         "\"When creating streaming work loads with Databricks, it can sometimes be difficult to capture and understand the current structure of your source data. For example, what happens if you are ingesting JSON events from a vendor, and the keys are very sparsely populated, or contain dynamic content? Ideally, data engineers want to \"\"lock in\"\" a target schema in order to minimize complexity and maximize performance for known access patterns. What do you do when your data sources just don't cooperate with that vision?",
         118
        ],
        [
         " \n The first step is to quantify how far your current source data is drifting from your established Delta table. But how? In this talk I will demonstrate a way to capture and visual drift across all of your streaming tables. The next question is",
         " \"\"Now that I see all of the data I'm missing",
         119
        ],
        [
         "Real-Time Streaming Solution for a Call Center Analytics: Business Challenges and Technical Enablement",
         "A large international client with a business footprint in North America, Europe and Africa, reached out to us with an interest in having a real-time streaming solution designed and implemented for its call center handling incoming and outgoing client calls. The client had a previous bad experience with another vendor, who overpromised and underdelivered on the latency of the streaming solution. The previous vendor delivered an over-complex streaming data pipeline resulting in the data taking over 5 minutes to reach a visualization layer. The client felt that architecture was too complex and involved many services integrated together. Our immediate challenges involved gaining the client's trust and proving that our design and implementation quality would supercede a previous experience. To resolve an immediate challenge of the overly complicated pipeline design, we deployed a Databricks Lakehouse architecture with Azure Databricks at the center of the solution. Our reference archiitecture integrated Genesys Cloud -> App Services -> Event Hub -> Databricks <-> Data Lake -> Power BI. The streaming solution proved to be low latency (seconds) during the POV stage, which led to subsequent productionalization of the pipeline with deployment of jobs, DLTs pipeline, including multi-notebook workflow and business and performance metrics dashboarding relied on by the call center staff for a day-to-day performance monitoring and improvements.",
         120
        ],
        [
         "Top Mistakes to Avoid in Streaming Applications",
         "Nowadays, streaming use cases become very important in almost all companies. When you think of streaming, Apache Spark™ Structured Streaming is at the top of the list in the technology. As we are dealing with many customer streaming use cases, we learned many do’s and don’t of the streaming application. I will be discussing the top mistakes to avoid when working with streaming applications with regard to different sources and sinks like DLT, Kafka, Delta, and so on. If you are avoiding these mistakes while architecting/running/restarting the application, then you will avoid the costly mistakes at a later point in time.",
         121
        ],
        [
         "Embracing the Future of Data Engineering: The Serverless, Real-Time Lakehouse in Action",
         "As we venture into the future of data engineering, streaming and serverless technologies take center stage. In this fun, hands-on, in-depth and interactive session you can learn about the essence of future data engineering today. In this session we will tackle the challenge of processing streaming events created by hundreds of sensors in the conference room from a serverless web app (bring your phone and be a part of it!). The focus is on the system architecture and the involved products. Which Databricks product, capability and settings will be most useful for our scenario? What does streaming really mean and why does it make our life easier? What are the exact benefits of serverless and how much serverless is a particular solution?\nLeveraging the power of the Databricks Lakehouse Platform, I will demonstrate how to create a streaming data pipeline with delta live tables ingesting data from AWS Kinesis. Further, I’ll utilize advanced Databricks workflows triggers for efficient orchestration and real-time alerts feeding into a real-time dashboard. And since I don’t want you to leave with empty hands - I will use Delta Sharing to share the results of the demo we built with every participant in the room.\nJoin me in this hands-on exploration of cutting-edge data engineering techniques and witness the future in action!",
         122
        ],
        [
         "Building and Managing Data Platform for 13+ PB Delta Lake and 1000’s of Users:  AT&T'S Story",
         "Data runs AT&T’s business, just like it runs most businesses these days. Data can lead to a greater understanding of a business and when translated correctly into information can provide human and business systems valuable insights to make better decisions. Unique to AT&T is the volume of data we support, how much of our work that is driven by AI and the scale at which data and AI drive value for our customers and stakeholders. Our Cloud migration journey includes making data and AI more accessible to employees throughout AT&T so they can use their deep business expertise to leverage data more easily and rapidly. We always had to balance this data democratization and desire for speed with keeping our data private and secure. We loved the open ecosystem model of Lakehouse that enables data , BI and ML tools to be seamlessly integrated on a single pane arena, it just simplifies the architecture and reduces dependencies between technologies in the cloud. Being clear in our architecture guidelines and patterns was very important to us for our success. We are seeing more interest from our business unit partners and continuing to build the AI as a service capabilities to support more citizen data scientists. To scale up our Lakehouse journey , we built a Databricks center of excellence (CoE) function in AT&T which today has ~1400+ active members , further concentrating existing expertise and resources in ML/AI discipline to collaborate on all things Databricks like technical support, trainings , FAQ’s and best practices to attain and sustain world-class performance and drive business value for AT&T. Join us to learn more about how we process and manage 10+ Petabytes of our network Lakehouse with Delta Lake and Databricks.",
         123
        ],
        [
         "Data Democratization with Lakehouse: An Open Banking Application Case",
         "\"Banco Bradesco represents one of the largest companies in the financial sector in Latin America. They have more than 99 million customers, 79 years of history, and a legacy of data distributed in hundreds of on-premises systems. With the spread of data-driven approaches and the growth of cloud computing adoption, we needed to innovate and adapt to new trends and enable an analytical environment with democratized data.  We will show how more than 8 business departments have already engaged in using the Lakehouse exploratory environment, with more than 190 use cases mapped and a multi-bank financial manager. Unlike with on-premises, the cost of each process can be isolated and managed in near real-time, allowing quick responses to cost and budget deviations, while increasing the deployment speed of new features 36 times compared to on-premises. The data is now used and shared safely and easily between different areas and companies of the group. Also, the view of dashboards within Databricks allows panels to be efficiently \"\"prototyped\"\" with real data",
         124
        ],
        [
         "Jet Streaming Data and Predictive Analytics: How the Lakehouse and Apache Spark Enable Collins Aerospace to Keep Aircraft Flying",
         "Most have experienced the frustration and disappointment of a flight delay or cancelation due to aircraft issues. The Collins Aerospace business unit at Raytheon Technologies is committed to redefining aerospace by using data to deliver a more reliable, sustainable, efficient, and enjoyable aviation industry. Ascentia is a product example of this with focus on helping airlines make smarter and more sustainable decisions by anticipating aircraft maintenance issues in advance, leading to more reliable flight schedules and fewer delays. Over the past five years a variety of products from the Databricks technology suite were employed to achieve this. Leveraging cloud infrastructure and harnessing the Databricks Lakehouse, SPARK development, and Databricks’ dynamic platform, Collins has been able to accelerate development and deployment of predictive health monitoring (PHM) analytics to generate Ascentia’s aircraft maintenance recommendations. This presentation provides a walkthrough of these technologies,  including success stories that resulted in significant cost savings and efficiency gain.",
         125
        ],
        [
         "How RecRoom Processes Billions of Events Per Day With Databricks and RudderStack",
         "Learn how Rec Room, a fast-growing augmented and virtual reality software startup, is saving 50% of their engineering team's time by using Databricks and RudderStack to power real-time analytics and insights for their 85 million gaming customers. In this session, you will walk through a step-by-step explanation of how Rec Room set up efficient processes for ingestion into their data lakehouse, transformation, reverse-ETL and product analytics. You will also see how Rec Room is using incremental materialization of tables to save costs and establish an uptime of close to 100%.",
         126
        ],
        [
         "Delta-rs, Apache Arrow, Polars, WASM: Is Rust the Future of Analytics?",
         "Rust is a unique language whose traits make it very appealing for data engineering. In this session, we'll walk through the different aspects of the language that make it such a good fit for big data processing including: how it improves performance and how it provides greater safety guarantees and compatibility with a wide range of existing tools that make it well positioned to become a major building block for the future of analytics. \n \n We will also take a hands-on look through real code examples at a few emerging technologies built on top of Rust that utilize these capabilities, and learn how to apply them to our modern lakehouse architecture.",
         127
        ],
        [
         "Making the Shift to Application-Driven Intelligence",
         "In the digital economy, application-driven intelligence delivered against live, real-time data will become a core capability of successful enterprises. It has the potential to improve the experience that you provide to your customers and deepen their engagement. But to make application-driven intelligence a reality, you can no longer rely only on copying live application data out of operational systems into analytics stores.\n Rather, it takes the unique real-time application-serving layer of a MongoDB database combined with the scale and real-time capabilities of a Databricks Lakehouse to automate and operationalize complex and AI-enhanced applications at scale. In this session we will show how it can be seamless for developers and data scientists to automate decisioning and actions on fresh application data and we'll deliver a practical demonstration on how operational data can be integrated in real time to run complex Machine Learning pipelines.",
         128
        ],
        [
         "Making Travel More Accessible for Customers Bringing Mobility Devices",
         "American Airlines takes great pride in caring for customers travel, and recognize the importance of supporting the dignity and independence of everyone who travels with us. As we work to improve the customer experience, we're committed to making our airline more accessible to everyone. Our work to ensure that travel that is accessible to all is well underway. We have been particularly focused on making the journey smoother for customers who rely on wheelchairs or other mobility devices. We have implemented the use of a bag tag specifically for wheelchairs and scooters that gives team members more information, like the mobility device’s weight and battery type, or whether it needs to be returned to a customer before a connecting flight.\n \n As a data engineering and analytics team, we at American Airlines are building a passenger service request data product that will provide timely insights on expected mobility device traffic at each airport so that the front-line team members can provide seamless travel experience to the passengers.",
         129
        ],
        [
         "Improve Apache Spark DS V2 Query Planning Using Column Stats",
         "When doing the TPC-DS benchmark using external V2 data source, we have observed that for several of the queries, DS V1 has better join plans than Spark. The main reason is that DS V1 uses column stats, especially number of distinct values (NDV) for query optimization. Currently, Spark DS V2 only has interfaces for data sources to report table statistics such as size in bytes and number of rows. In order to use column stats in DS V2, we have added new interfaces to allow external data sources to report column stats to Spark. For a data source with huge data, it’s always challenging to get the column stats, especially the NDV. We plan to calculate NDV using Apache DataSketches Theta sketch and save the serialized compact sketch in the statistics file. The NDV and other column stats will be reported to Spark for query plan optimization.",
         130
        ],
        [
         "Databricks Powered Enterprise Data Platform for Faster Insights with Optimal Cost",
         "A leading Australian Bank engaged Deloitte to review architecture of current enterprise data platform enabled using Databricks. Bank’s vision is to limit proliferation of diverse tools/technology while enabling “best of breed” capabilities in the bank’s next-gen data platform. To realize this vision, the enterprise data platform will use various Databricks capabilities: DLT (Delta Live tables), Unity Catalog, Delta Sharing, Databricks Dashboards and Databricks Alerts. Using of these Databricks high performance and scalable capabilities allows the bank to avoid proliferation of disparate tools and reduce a need for custom development or integration. \n \n During this session, Deloitte, Databricks and Australian Bank will present how Databricks can be leveraged to develop a robust, resilient and scalable data platform which allows an organization to achieve scaled data sharing, reducing lead time to generate insights via reports, dashboards, AI/ML and Data Sharing.",
         131
        ],
        [
         "Using Databricks to Power Insights and Visualizations on the S&P Global Marketplace",
         "In this session, we will explain the visualizations that serve to shorten the time to insight for our prospects and encourage potential buyers to take the next step and request more information from our commercial team. The S&P Global Marketplace is a discovery and exploration platform that enables prospective buyers and clients to easily search fundamental and alternative datasets from across S&P Global and curated third-party providers. It serves as a digital storefront that provides transparency into data coverage and use cases, reducing the time and effort for clients to find data for their needs. A key feature of Marketplace is our interactive data visualizations that provide insight into the coverage of a dataset and demonstrate how the dataset can be used to make more informed decisions.   \n \n  \n \n The S&P Global Marketplace’s interactive visualizations are displayed in Tableau and are powered by Databricks. The Databricks platform allows for easy integration of S&P Global data and provides a collaborative environment where our team of product managers and data engineers can develop the code to generate each visualization. The team utilizes the web interface to develop the queries that perform the heavy lifting of data transformation instead of performing these tasks in Tableau. The final notebook output is saved into a custom datamart (“golden table”) which is the source for Tableau. We also developed an automated process that refreshes the whole process to ensure Marketplace has up to date visualizations.",
         132
        ],
        [
         "Self-Service Geospatial Analysis Leveraging Databricks, Apache Sedona, and R",
         "Geospatial data analysis is critical to understanding the impact of agricultural operations on environmental sustainability with respect to water quality, soil health, greenhouse gasses, and more. Outside of a few specialized software products, however, support for spatial data types is often limited or missing from analytics and visualization platforms. In this session, we show how Truterra is using Databricks, Apache Sedona, and R to analyze spatial data at scale. Additionally, learn how Truterra uses spatial insights to educate and promote practices that optimize profitability, sustainability, and stewardship outcomes at the farm. In this session, you will see how Databricks and Apache Sedona are used to process large spatial datasets including field, watershed, and hydrologic boundaries. You will see dynamic widgets, SQL and R used in tandem to generate map visuals, display them, and enable download all from a Databricks notebook.",
         133
        ],
        [
         "Processing Delta Lake Tables on AWS Using AWS Glue, Amazon Athena, and Amazon Redshift",
         "Delta Lake is an open-source project that helps implement modern data lake architectures commonly built on cloud storages. With Delta Lake, you can achieve ACID transactions, time travel queries, CDC, and other common use cases on the cloud. There are a lot of use cases of Delta tables on AWS. AWS has invested a lot in this technology, and now Delta Lake is available with multiple AWS services, such as AWS Glue Spark jobs, Amazon EMR, Amazon Athena, and Amazon Redshift Spectrum. AWS Glue is a serverless, scalable data integration service that makes it easier to discover, prepare, move, and integrate data from multiple sources. With AWS Glue, you can easily ingest data from multiple data sources such as on-prem databases, Amazon RDS, DynamoDB, MongoDB into Delta Lake on Amazon S3 even without expertise in coding.\n \n This session will demonstrate how to get started with processing Delta Lake tables on Amazon S3 using AWS Glue, and querying from Amazon Athena, and Amazon Redshift. The session also covers recent AWS service updates related to Delta Lake.",
         134
        ],
        [
         "A Simple SQL Execution API for the Databricks Lakehouse Architecture",
         "Given the widespread support of REST architectures, data managed by the Databricks Lakehouse Platform can now be accessed from anywhere, making it easy to build data applications tailored to your needs. You can use the SQL Execution API to build web services-based applications, integrate with various applications and computing devices, create generic integration layers for enterprise services, or create custom client libraries for your programming language of choice.\n \n In this talk we are going to deep dive into the design and implementation of the SQL Execution API with a focus on:\n 1. The key API features which can be used to develop data applications.\n 2. The underlying Databricks architecture such as Cloud Fetch that we developed to enable this API.",
         135
        ],
        [
         "Best Exploration of Columnar Shuffle Design",
         "To significantly improve the performance of Spark SQL, there is a trend to offload Spark SQL execution to highly optimized native libraries or accelerators in past several years, like Photon from Databricks, Nvidia's Rapids plug-in, and Intel & Kyligence's initiated open source Gluten project. By the multi-fold performance improvement from these solutions, more and more Spark users have started to adopt the new technology. One characteristics of native libraries is that they all use columnar data format as the basic data format. It's because the columnar data format has the intrinsic affinity to vectorized data processing using SIMD instructions. While vanilla Spark's shuffle is based on spark's internal row data format. The high overhead of the columnar to row and row to columnar conversion during the shuffle makes reusing current shuffle not possible. Due to the importance of shuffle service in Spark, we have to implement an efficient columnar shuffle, which brings couple of new challenges, like the split of columnar data, or the dictionary support during shuffle.\n \n In this session, we will share 1) the exploration process of the columnar shuffle design during our Gazelle and Gluten development, and best practices for implementing the columnar shuffle service. We will also share how we learned from the development of vanilla Spark's shuffle, for example, how to address the small files issue then we will propose the new shuffle solution. We will show the performance comparison between Columnar shuffle and vanilla Spark's row-based shuffle. Finally, we will share how the new built-in accelerators like QAT and IAA in the latest Intel processor are used in our columnar shuffle service and boost the performance.",
         136
        ],
        [
         "What Happens When Curious and Knowledgeable Business People are Provided Access to the Right Data and Equipped With Simple Tools and Supported by Guidance From In-House Technical Experts",
         "Too often business decisions in large organizations are based on time consuming and labor-intensive data extracts, fragile excel or access sheets that require significant manual intervention. The teams that prepare these manual reports have invaluable heuristic knowledge that, when combined with meaningful data and tools, can make smart business decisions. \n \n \n Imagine a world where these business teams are empowered with tools that help them build meaningful reports despite their limited technical expertise.\n \n \n In this talk we will discuss : \n \n The value derived from investing in developing citizen data personas within a business organization\n \n How we successfully built a citizen data analytics culture within Michelin \n \n Real examples of the impact of this initiative on - the business and on the people themselves.\n \n The audience will walk away with some convincing arguments for building a citizen data culture in their organization and a how-to cookbook that they can use to cultivate citizen data personas.\n \n Finally, they will also have the opportunity to interactively uncover key success factors in the case of Michelin that can help drive a similar initiative in their respective companies.",
         137
        ],
        [
         "Modularized Approach to Scale Suite of Advanced Omnichannel Analytics Products",
         "GSK started the journey of Omnichannel vision a few years ago using static business rules and customer targeting. We kicked off 2022 with conceptualization of a suite of monitoring, measurement and planning products that would help GSK establish a comprehensive omnichannel measurement strategy and plan across its global markets. One of the key guiding principles during conceptualization was deeply and seamlessly embedding these products within GSK’s data transformation and storage architecture built on Azure Databricks. We built the platform powered extensively by Databricks, GitHub and open-source technologies like Python. In this session, we will cover the following aspects of our journey along with some best practices that we have learned over time.",
         138
        ],
        [
         "AI to FI with Databricks",
         "Artificial Intelligence, Business Intelligence, Continuous Intelligence, Data Intelligence, Execution Intelligence, and Financial Intelligence are explained.\n 1. Challenges of common pipeline design to support AI-FI \n 2. Challenges of leveraging data acquired over many acquisitions\n 3. How is the Lakehouse paradigm lending itself to solving these challenges?\n 4. Some cool results we can show the world.\n \n To provide the most meaningful data to Profiles by Kantar, the leading provider of high-quality survey panelists, its data science team developed PROMETHEUS. It is a platform that supports real-time, continuously updated models, rigorous business analysis, MIS dashboards, Operational Research based allocation, and financial forecasts based on a single source of truth with maximum scalability. \n \n To successfully realize this, a multi-stage pipeline based on a lakehouse structure was incrementally developed and put into production using Databricks.This session will explain how Profiles by Kantar approached the design, onboarded analysts and developers, integrated data pipelines, and provided model outputs. Think building a plane while it is flying.",
         139
        ],
        [
         "How the Texas Rangers Revolutionized Baseball Analytics with a Modern Data Lakehouse",
         "Don't miss this session where we demonstrate how the Texas Rangers baseball team organized their predictive models by using MLFlow and the MLRegistry inside Databricks. They started using Databricks as a simple solution to centralizing our development on the cloud. This helped lessen the issue of siloed development in our team, and allowed us to leverage the benefits of distributed cloud computing. But we quickly found that Databricks was a perfect solution to another problem that we faced in our data engineering stack. Specifically, cost, complexity, and scalability issues hampered our data architecture development for years, and we decided we needed to modernize our stack by migrating to a lakehouse. With our lakehouse, ad-hoc-analytics, ETL operations, and MLOps all living within Databricks, development at scale has never been easier for our team. Going forward, we hope to fully eliminate the silos of development, and remove the disconnect between our analytics and data engineering teams. From computer vision, pose analytics, and player tracking, to pitch design, base stealing likelihood, and more, come see how the Texas Rangers are using innovative cloud technologies to create action-driven reports from the current sea of Big Data. ",
         140
        ],
        [
         "Improving Hospital Operations With Streaming Data and Real Time AI/ML",
         "Over the past two years, Providence has developed a robust streaming data platform (SDP) leveraging Databricks in Azure. The SDP enables us to ingest and process real-time data reflecting clinical operations across our 52 hospitals and roughly 1000 ambulatory clinics. HL7 messages generated by Epic are parsed using Databricks in our secure cloud environment and used to generate an up-to-the minute picture of exactly what is happening at the point of care. We are already leveraging this information to minimize hospital overcrowding and have been actively integrating AI/ML to accurately forecast future conditions (e.g., arrivals, length of stay, acuity, and discharge requirements). This allows us to both improve resource utilization (e.g., nurse staffing levels) and to optimize patient throughput. The result is both improved patient care and operational efficiency. In this session we will share how these outcomes are only possible with the power and elegance afforded by our investments in Azure, Databricks, and increasingly Lakehouse. We will demonstrate Providence's blueprint for enabling real-time analytics which can be generalized to other healthcare providers.",
         141
        ],
        [
         "AI Regulation is Coming: The EU AI Act and How Databricks Can Help with Compliance",
         "With the heightened attention on LLMs and what they can do, and the widening impact of AI on day-to-day life, the push by regulators across the globe to regulate AI is intensifying. As with GDPR in the privacy realm, the EU is leading the way with the EU Artificial Intelligence Act (AIA). Regulators everywhere will be looking to the AIA as precedent, and understanding the requirements imposed by the AIA is important for all players in the AI channel. Although not finalized, the basic framework regarding how the AIA will work is becoming clearer. The impact on developers and deployers of AI (‘providers’ and ‘users’ under the AIA) will be substantial. Although the AIA will probably not go into effect until early 2025, AI applications developed today will likely be affected, and design and development decisions made now should take the future regulations into account.\n\nIn this session, Matteo Quattrocchi, Brussels-based Director, Policy – EMEA, for BSA (the Software Alliance – the leading advocacy organization representing the enterprise software sector), will present an overview of the current proposed requirements under the AIA and give an update on the ongoing deliberations and likely timing for enactment. We will also highlight some of the ways the Lakehouse platform, including Managed MLflow, can help providers and users of ML-based applications meet the requirements of the AIA and other upcoming AI regulations.\n",
         142
        ],
        [
         "Using Databricks to Develop Statistical and Mathematical Models to Forecast the Monkeypox Outbreak in Washington State",
         "In the spring and summer of 2022, monkeypox was detected in the United States and quickly spread throughout the country. To contain and mitigate the spread of the disease in Washington State, the Washington Department of Health data science team used the Databricks platform to develop a modeling pipeline that employed statistical and mathematical techniques to forecast the course of the monkeypox outbreak throughout the state. These models provided actionable information that helped inform decision making and guide the public health response to the outbreak. \n \n We used contact-tracing data, standard line-lists, and published parameters to train a variety of time-series forecasting models, including an ARIMA model, a Poisson regression, and an SEIR compartmental model. We also calculated the daily R-effective rate as an additional output. The compartmental model best fit the reported cases when tested out of sample, but the statistical models were quicker and easier to deploy and helped inform initial decision-making. The R-effective rate was particularly useful throughout the effort. \n \n Overall, these efforts highlighted the importance of rapidly deployable and scalable infectious disease modeling pipelines. Public health data science is still a nascent field, however, so common best practices in other industries are often-times novel approaches in public health. The need for stable, generalizable pipelines is crucial. Using the Databricks platform has allowed us to more quickly scale and iteratively improve our modeling pipelines to include other infectious diseases, such as influenza and RSV. Further development of scalable and standardized approaches to disease forecasting at the state and local level is vital to better informing future public health response efforts.",
         143
        ],
        [
         "Accelerating the Development of Viewership Personas With a Unified Feature Store",
         "With the proliferation of video content and flourishing consumer demand, there is an enormous opportunity for customer-centric video entertainment companies to use data & analytics to understand what their viewers want and deliver more of the content that that meets their needs.\n \n At DIRECTV, our Data Science Center of Excellence is constantly looking to push the boundary of innovation in how we can better and more quickly understand the needs of our customers and leverage those actionable insights to deliver business impact. One way in which we do so is through the development of Viewership Personas with cluster analysis at scale to group our customers by the types of content they enjoy watching. This process is significantly accelerated by a unified feature store which contain a wide array of features that captures key information on viewing preferences.\n \n This presentation will focus on how the DIRECTV Data Science team utilizes Databricks to help: (1) develop a unified feature store and (2) how we leverage the feature store to accelerate the process of running machine learning algorithms to find meaningful viewership clusters.",
         144
        ],
        [
         "How You Can Audit A Language Model",
         "Language models like ChatGPT are incredible research breakthroughs but require auditing & risk management before productization. These systems raise concerns related to toxicity, transparency & reproducibility, intellectual property licensing & ownership, dis- & misinformation, supply chains & significant carbon footprints. How can your org. leverage these new tools without taking on undue or unknown risks?\n \n Recent public reference work from In-Q-Tel Labs & BNH.AI details an audit of a named entity recognition (NER) application based on the pre-trained language model RoBERTa. If you have a language model use case in mind & want to understand your risks, this presentation will cover:\n \n * Studying past incidents using the AI Incident Database and using this information to guide debugging.\n \n * Finding & fixing common data quality issues.\n \n * Applying general public tools & benchmarks as appropriate (e.g., checklist, SuperGLUE, HELM).\n \n * Binarizing specific tasks & debugging them using traditional model assessment and bias testing.\n \n * Constructing adversarial attacks based on a model's most significant risks and analyzing the results in terms of performance, sentiment & toxicity.\n \n * Testing performance, sentiment & toxicity across different & less common languages.\n \n * Conducting random attacks: random sequences of attacks, prompts or other tests that may evoke unexpected responses.\n \n * Don't forget about security: auditing code for backdoors & training data for poisoning, ensuring endpoints are protected with authentication & throttling and analyzing third-party dependencies.\n \n * Engaging stakeholders to help find problems system designers & developers cannot see.\n \n It's now time to figure out how to live with AI, and that means audits, risk management & regulation.",
         145
        ],
        [
         "JetBlue’s real-time AI & ML digital twin journey using Databricks",
         "JetBlue has embarked over the past year on an AI & ML transformation. Databricks has been instrumental in this transformation due to the ability to integrate streaming pipelines, ML training using MLFlow, ML API serving using ML registry and more in one cohesive platform. Using real-time streams of weather, aircraft sensors, FAA data feeds, JetBlue operations and more are used for the world's first AI & ML operating system orchestrating a digital-twin, known as BlueSky for efficient & safe operations. JetBlue has over 10 ML products (multiple models each product) in production across multiple verticals including dynamic pricing, customer recommendation engines, supply chain optimization, customer sentiment NLP and several more. \n \n The core JetBlue data science & analytics team consists of Operations Data Science, Commercial Data Science, AI & ML engineering and Business Intelligence. To facilitate the rapid growth and faster go-to-market strategy, the team has built an internal Data Catalog + AutoML + AutoDeploy wrapper called BlueML using Databricks features to empower data scientists including advanced analysts with the ability to train & deploy ML models in less than 5 lines of code.",
         146
        ],
        [
         "Intermittent Service Part Demand Forecasting at John Deere",
         "John Deere customers demand reliability and uptime for their equipment and John Deere dealers must fulfill that need by stocking the right mix of service parts in the right quantities to keep them up and running. John Deere dealers operate on six continents with geographically dispersed customers, products, and equipment. This presents a significant operations and logistics challenge to maintain best-in-industry service levels. Improved demand forecasting enables better retail stocking decisions and inventory planning, however, the variety of equipment serviced, diversity of customer segments, and total number of SKUs at dealer retail locations presents a complex demand forecasting challenge.\n \n The John Deere Aftermarket Analytics team took on this opportunity and developed forecasts and stocking recommendations for difficult low volume and intermittent demand service parts that comprise a large percentage of dealers' part sales. Building and iterating the solution required development of data pipelines, exploratory analysis and investigation, model training with multiple R and Python packages, experiment tracking in MLFlow, and model deployment. All of this was enabled with John Deere's Enterprise Data Lake paired with Databricks.\n \n In this session, learn about:\n \n • Practical approaches for intermittent demand forecasting \n • Leveraging Workspaces and Repos for efficient team collaboration\n • Developing scalable data pipelines and features for ML models with Delta Lake\n • Rapid model experimentation with AutoML and MLFlow\n  • Job orchestration using Workflows",
         147
        ],
        [
         "Scaling AI Applications With Databricks, HuggingFace and Pinecone",
         "The production and management of large-scale vector embeddings can be a challenging problem. The integration of Databricks, Hugging Face and Pinecone offers a powerful solution. Vector embeddings have become an essential tool in the development of AI powered applications. Embeddings are representations of data learned by machine models. High quality embeddings are unlocking use cases like semantic search, recommendation engines, and anomaly detection. Databricks' Spark ecosystem together with Hugging Face's Transformers library enable large-scale vector embeddings production using GPU processing, Pinecone's vector database provides ultra-low latency querying and upserting of billions of embeddings, allowing for high-quality embeddings at scale for real-time AI apps.\n In this session, we will present a concrete use case of this integration in the context of a natural language processing application. We will demonstrate how Pinecone's vector database can be integrated with Databricks and Hugging Face to produce large-scale vector embeddings of text data and how these embeddings can be used to improve the performance of various AI applications. You will see the benefits of this integration in terms of speed, scalability, and cost efficiency. By leveraging the GPU processing capabilities of Databricks and the ultra low-latency querying capabilities of Pinecone, we can significantly improve the performance of NLP tasks while reducing the cost and complexity of managing large-scale vector embeddings. You will learn about the technical details of this integration and how it can be implemented in your own AI projects, and gain insights into the speed, scalability, and cost efficiency benefits of using this solution. ",
         148
        ],
        [
         "Hyperparameter Tuning Via Apache Spark and Ray",
         "Model selection through hyperparameter tuning (HPT) is a computationally intensive task. Development of specialized hardware, distributed computation, and modern model selection algorithms has allowed a wide range of potential solutions to be evaluated by the data science community. In this session, you will learn more about how Marks and Spencer tackled this task. In examining the tools, you see that Spark UDF and Ray have received considerable attention from the data science community. Spark UDF allows parallelized execution of custom workloads on distributed datasets in a fault tolerant and scalable manner. Ray is an open-source framework for distributed model selection. It features a well-designed, narrow waist API that seamlessly integrates a wide range of hyperparameter search algorithms. Ray creates trials and controls their execution with the help of a scheduler equipped with well-known HPT algorithms allowing Bayesian optimization and Population-based training. ",
         149
        ],
        [
         "Large Scale Multi-Task Learning Recommender Service at Verizon",
         "Millions of customers visit the Verizon company website and stores monthly to shop, from plans to products and accessories. Numerous task-specific recommender models have been built at Verizon to enhance customer experience. Motivated by the latest development in deep learning, multi-task learning architectures can better understand customer behavior therefore greatly improve model performance, and also save time to learn new tasks. However, it’s challenging to build such a model that digests heterogeneous data from purchases, online clicks, store visits to customer services and many more, while also  accomplishing various tasks where some of them might contradict with each other. Motivated by the Pathways vision, we built a novel multi-task learning recommender service called Pathways Recommender Service (PaRS), which directly handles multiple abstract forms of data and is able to generalize across multiple recommendation tasks at Verizon. You will see the that we explored built-in bias mitigation in PaRS to promote diverse, relevant and fair recommendations.",
         150
        ],
        [
         "Rapidly Scaling Applied AI/ML with Foundational Models and Applying Them to Modern AI/ML Use Cases",
         "Today many of us are familiar with Foundational models such as LLM/ChatGPTl. However, there are many more enterprise foundational models that can be rapidly deployed, trained and applied to enterprise use cases. This approach dramatically increases the performance of AI/ML models in production, but also gives AI teams rapid roadmaps for efficiency and delivering value to the business. Databricks provides the ideal toolset to enable this approach. In this session, we will provide a logically overview of Foundational models available today, demonstrate a real-world use case, and provide a business framework for data scientists and business leaders to collaborate to rapidly deploy these use cases.",
         151
        ],
        [
         "International Finance Corporation's MALENA Platform Provides Investors Working in Emerging Markets the Analytical Capacity to Support the Review of ESG Issues at Scale",
         "International Finance Corporation (IFC) is using data and AI to build machine learning solutions that create analytical capacity to support the review of ESG issues at scale. This includes natural language processing and requires entity recognition and other applications to support the work of IFC’s experts and other investors working in emerging markets. These algorithms are available via IFC’s Machine Learning ESG Analyst (MALENA) platform to enable rapid analysis, increase productivity, and build investor confidence. In this manner, IFC, a development finance institution with the mandate to address poverty in emerging markets, is making use of its historical datasets and open-source AI solutions to build custom-AI applications that democratize access to ESG capacity to read and classify text. \nIn this session, you will learn the unique flexibility of the Spark ecosystem from Databricks and how that has allowed IFC’s MALENA project to connect to scalable Datalake storage, use different natural language processing models and seamlessly adopt MLOps.",
         152
        ],
        [
         "How MLOps on Databricks helped adidas to gain speed in productionising ML projects",
         "MLOps enables Data science teams to bring ML models into production environments in an efficient manner while making sure that the model pipeline is maintained and model is monitored continuously. When drift is detected, models are retrained promptly and teams are notified with the availability of new version of model. Our team at adidas has created a ML template that uses Databricks, Jenkins and MLflow, which facilitates in the faster deployment process for our ML models in production. We employ a hybrid deployment strategy to minimize compute costs for large models. This presentation will demonstrate how the template was developed, how our teams are utilizing it for model deployment and how it helped us to gain speed to bring or use cases live.",
         153
        ],
        [
         "How We Built a Unified Talent Solution Using Databricks Machine Learning",
         "Using Databricks, we built a “Unified Talent Solution”, backed by a robust data and AI engine for analyzing skills of a combined pool of permanent employees, contractors, part-time employees and vendors, inferring skill gaps, future trends and recommended priority areas to bridge talent gaps, which ultimately greatly improved operational efficiency, transparency, commercial model, and talent experience of our client. We leveraged a variety of ML algorithms such as boosting, neural networks and NLP transformers to provide better AI-driven insights. One inevitable part of developing these models within a typical DS workflow is iteration. Databricks' end-to-end ML/DS workflow service, MLFlow, helped streamline this process by organizing them into experiments that tracked the data used for training/testing, model artifacts, lineage and the corresponding results/metrics. For checking the health of our models using drift detection, bias and explainability techniques, MLFlow's deploying, and monitoring services were leveraged extensively. Our solution built on Databricks platform, simplified ML by defining a data-centric workflow that unified best practices from DevOps, DataOps, and ModelOps. Databricks Feature Store allowed us to productionize our models and features jointly. Insights were done with visually appealing charts and graphs using PowerBI, plotly, matplotlib, that answer business questions most relevant to clients. We built our own advanced custom analytics platform on top of delta lake as Delta’s ACID guarantees allows us to build a real-time reporting app that displays consistent and reliable data - React (for front-end), Structured Streaming for ingesting data from Delta table with live query analytics on real time data ML predictions based on analytics data",
         154
        ],
        [
         "Meet LOLA: The Innovation Engine Brewing Models at Scale for AB-InBev",
         "Today the world's largest brewer, AB-InBev, is disrupting the industry with BEES and LOLA. LOLA is our machine learning platform that enables us to brew models at scale. The foundation of LOLA rests on Databricks Lakehouse's platform and is now being extended globally with Unity Catalog. However, three years ago, things were different. Back then, LOLA was just a simple recommender with less than 60% account coverage in the US. Now it is evolving into an ML platform that supports more models, like our new recommendation engine DEAR, with 95%+ account coverage and integration with BEES in the US.\nAs LOLA evolves, the foundation laid by Lakehouse paved the way for the cornerstone of our platform, our platinum data layer, the Feature Store. The Feature Store is the hub for all feature engineering in LOLA, using Databricks Workflows to support over 250+ production features. But, more importantly, it has become the abstraction layer that helps build out our growing number of ML pipelines.\n  \n ",
         155
        ],
        [
         "Scaling MLOps for a demand forecasting across multiple markets for a large CPG",
         "In this session, we look at how one of the world’s largest CPG company setup a scalable MLOps pipeline for a Demand Forecasting use case that predicted demand at 100k+ DFUs (demand forecasting units) on a weekly basis across 20+ markets. This implementation resulted in significant cost savings in terms of improved productivity, reduced cloud usage and faster time to value amongst other benefits.\n The attendees of this session will leave this session with a clearer picture on the following:\n 1. Best practices in scaling mlops with Databricks and Azure for a demand forecasting use case with a multi-market and multi-region roll-out.\n 2. Best practices related to model re-factoring and setting up standard CI-CD pipelines for MLOps\n 3. What are some of the pitfalls to avoid in such scenarios?",
         156
        ],
        [
         "MLOps at Gucci: From Zero to Hero",
         "In recent years, similar principles to those of DevOps in software development have been applied to Machine Learning projects with the goal of productionizing automated solutions. However, Machine Learning Operations (MLOps) practices have proven to be of difficult implementation, as they often require putting together several different tools in a complex architecture. In this session, we introduce MLOps concepts and describe how we implement MLOps principles in our projects at Gucci by leveraging Databricks functionalities. A use case of deploying a data science tool for supporting media budget allocation decisions is presented. After the development of a POC to experiment and effectively address the business problem, the code was versioned and refactored. Code reviews were executed to ensure quality and readability. Within Databricks, we rapidly moved the project to the production stage by achieving an automated solution including unit tests, environment configuration, registration and versioning of models, monitoring of model performances as well as model serving and a dashboard to visualize results. This template is being successfully replicated for other projects and is allowing our new Data Science team to quickly bring value to different business areas of the company. These best practices and insights can be used as an example of how this can be beneficial to you or other practitioners.",
         157
        ],
        [
         "Streamlining API Deployment for ML Models Across Multiple Brands: Ahold Delhaize's Experience on Serverless",
         "At Ahold Delhaize, we have 19 local brands. Most of our brands have common goals, such as providing personalized offers to their customers, a better search engine on e-commerce websites, and forecasting models to reduce food waste and ensure availability. As a central team, our goal is to standardize the way of working across all of these brands, including the deployment of machine learning models. To this end, we have adopted Databricks as our standard platform for our batch inference models. \n\nHowever, API deployment for real time inference models remained challenging due to the varying capabilities of our brands. Our attempts to standardize API deployments with different tools failed due to complexity of our organization. Fortunately, Databricks has recently introduced a new feature: serverless API deployment. Since all our brands already use Databricks, this feature was easy to adopt. It allows us to easily reuse API deployment across all of our brands, significantly reducing time to market (from 6-12 months to 1 month), increasing efficiency, and reducing the costs. In this session, you will see the solution architecture, sample use case specifically used to cross-sell model deployed to 4 different brands, and API deployment using Databricks Serverless API with custom model.",
         158
        ],
        [
         "Monetizing Data Assets: Sharing Data, Models and Features",
         "Exec Summary:\n \n - Data is an asset and selling/sharing data has (largely) been solved\n - Hosted models exist (example: ChatGPT) but moving sensitive data across the public internet or across clouds is problematic\n - Sharing features (the result of feature engineering) can be monetized for new potential revenue streams\n - Sharing models can also be monetized while avoiding the transfer of sensitive data\n - This presentation will walk through a few examples of how to share models and features to generate new revenue streams using Delta Sharing, MLflow, and Databricks",
         159
        ],
        [
         "An API for DL Inferencing on Spark",
         "Apache Spark is a popular distributed framework for big data processing. It is commonly used for ETL (Extract, Transform and Load) across large datasets. Today, the Transform stage can often include the application of Deep Learning models on the data. For example, common models can be used for classification of images, sentiment analysis of text, language translation, anomaly detection, and many other use cases. Applying these models within Spark can be done today with the combination of PySpark, PandasUDF, and a lot of glue code. Often, that glue code can be difficult to get right, because it requires expertise across multiple domains - DL frameworks, PySpark APIs, PandasUDF internal behavior, and performance optimization.\n \n In this talk, we introduce a new, simplified API for DL inferencing on Spark, introduced in SPARK-40264 as a collaboration between NVIDIA and Databricks, which seeks to standardize and open-source this glue code to make DL inference integrations easier for everyone. We discuss its design and demonstrate its usage across multiple DL frameworks and models.",
         160
        ],
        [
         "DEIMOS - Optimizing Time-Series Modeling at Scale With Applications in CPG",
         "At the beginning of a forecasting project, data scientists must make several decisions, each of which impacts the success of a project. Should the model be univariate or multivariate? What features warrant the best model inputs? What model type should you choose? Are the best hyperparameters selected? All of these parts of the modeling process can be quite costly in terms of both time and computational resources. In this session, you will see solution we've created called DEIMOS (Deep Experimental Integrated Multivariate Optimized Series). DEIMOS is built to handle many of the critical problems in time-series modeling automatically and at scale. This package is designed to be simple and straightforward to use, with easily interpretable results to both technical and non-technical audiences. Moreover, we’ve designed it to be flexible so that it can be easily applied to many use cases.",
         161
        ],
        [
         "Comparing Databricks and Snowflake for Machine Learning",
         "Snowflake and Databricks both aim to provide data science toolkits for machine learning workflows, albeit with different approaches and resources. While developing ML models is technically possible using either platform, the Hitachi Solutions Empower team tested which solution will be easier, faster, and cheaper to work with in terms of both user experience and business outcomes for our customers. To do this, we designed and conducted a series of experiments with use cases from the TPCx-AI benchmark standard. We developed both single-node and multi-node versions of these experiments, which sometimes required us to set up separate compute infrastructure outside of the platform, in the case of Snowflake. We also built datasets of various sizes (1GB, 10GB, and 100GB), to assess how each platform/node setup handles scale. Based on our findings. On the average, Databricks is faster, cheaper, and easier to use for developing machine learning models, and we use it exclusively for data science on the Empower platform. Snowflake’s reliance on third party resources for distributed training is a major drawback, and the need to use multiple compute environments to scale up training is complex and, in our view, an unnecessary complication to achieve best results.",
         162
        ],
        [
         "Testing Generative AI Models - What You Need to Know",
         "Generative AI shows incredible promise for enterprise applications. The explosion of generative AI can be attributed to the convergence of several factors. Most significant is that the barrier to entry has dropped for AI application developers through customizable prompts (few-shot learning), enabling laypeople to generate high-quality content. The flexibility of models like ChatGPT and DALLE-2 have sparked curiosity and creativity about new applications that they can support. The number of tools will continue to grow in a manner similar to how AWS fueled app development.\n \n But excitement must be tampered by concerns about new risks imposed to business and society. Increased capability and adoption also increase risk exposure. As organizations explore creative boundaries of generative models, measures to reduce risk must be put in place. However, the enormous size of the input space and inherent complexity make this task more challenging than traditional ML models.\n \n In this talk, we summarize the new risks introduced by the new class of generative foundation models through several examples, and compare how these risks relate to the risks of mainstream discriminative models. Steps can be taken to reduce the operational risk, bias and fairness issues, and privacy and security of systems that leverage LLM for automation. We’ll explore model hallucinations, output evaluation, output bias, prompt injection, data leakage, stochasticity, and more. We’ll discuss some of the larger issues common to LLMs and show how to test for them. A comprehensive, test-based approach to generative AI development will help instill model integrity by proactively mitigating failure and the associated business risk.",
         163
        ],
        [
         "Simplifying Real-Time Machine Learning: A Look at Feature Platforms and Modern Real-time ML Architectures Using MLflow & Tecton",
         "Are you struggling to keep up with the demands of real-time machine learning? Like most organizations building real-time ML, you’re probably looking for a better way to: Manage the lifecycle of ML models and features, Implement batch, streaming, and real-time data pipelines, Generate accurate training datasets and Serve models and data online with strict SLAs, supporting millisecond latencies and high query volumes. Look no further! In this session, we will unveil a modern technical architecture that simplifies the process of managing real-time ML models and features. Using MLFlow and Tecton, we’ll show you how to build a robust MLOps platform on Databricks that can easily handle the unique challenges of real-time data processing. Join us to discover how to streamline the lifecycle of ML models and features, implement data pipelines with ease, and generate accurate training datasets with minimal effort. See how to serve models and data online with mission-critical speed and reliability, supporting millisecond latencies and high query volumes. Take a firsthand look at how FanDuel uses this solution to power their real-time ML applications, from responsible gaming to content recommendations and marketing optimization. See for yourself how this system can be used to define features, train models, process streaming data, and serve both models and features online for real-time inference with a live demo. Join us to learn how to build a modern MLOps platform for your real-time ML use cases.",
         164
        ],
        [
         "Building a Real-Time Model Monitoring Pipeline on Databricks",
         "Model deployment is almost never the final step in any ML lifecycle. ML models can degrade over time due to a variety of influencing factors. In this technical deep dive, we will build a real-time ML model monitoring pipeline on Databricks. We need to own and monitor our models for drifts like feature drift, concept drift, distribution drift, and so on. We must constantly monitor the models and issue alerts or trigger retraining when necessary. With so many open source tools and frameworks available, it can be difficult to figure out how to make everything work. In this tutorial, we will create a high-quality Model Monitoring Pipeline. Everything will be built from the ground up using Spark on Databricks. In this session we will introduce a use case in which we set up a model serving pipeline and log the predictions to a stream in real time. We will then configure a model metric monitoring pipeline to consume from the stream and aggregate over specific time windows. Then, to see these metrics live on dashboards, we will integrate a model monitoring visualizing pipeline.",
         165
        ],
        [
         "Using NLP to evaluate 100 Million global webpages daily to contextually target consumers",
         "This session will cover the challenges and the solution that The Trade Desk went through to scale their ML models for NLP for 100 million web pages per day.\n\nTTD's contextual targeting team needs to analyze 100 Million web pages per day. 50% of the webpages are non-English.  Half of the content was not being properly analyzed and targeted intelligently. TTD attempted to build a model using Spark NLP, however the package could not scale and was not cost-effective. GPU utilization was low and the solution was cost prohibitive (over $400K/year). TTD engaged with Databricks in early 2022 to build an NLP model on Databricks. Our teams partnered closely together.  We were able to build a solution using distributed inference (150-200 GPUs running at 80%+ utilization);  Databricks could translate the 50 Million web pages each day for 35+ languages for $6K per month - 200x faster and at a fraction of the cost. This solution enables TTD teams to standardize on English for contextual targeting ML models. TTD can now be a one-stop shop for their customers' global advertising needs.\n\nThe Trade Desk is headquartered in Ventura, California. It is the largest independent demand-side platform in the world, competing against Google, Facebook, and others. Unlike traditional marketing, programmatic marketing is operated by real-time, split-second decisions based on user identity, device information, and other data points. It enables highly personalized consumer experiences and improves return-on-investment for companies and advertisers.\n",
         166
        ],
        [
         "How Office Leverages Deep Graph Learning to Improve Productivity Products",
         "We are the AI platform team from Microsoft 365. In this presentation, we will describe how our platform infuses various ML technologies that brings significant statistically improvement for hundreds of millions Microsoft 365 users into productivity products across Microsoft 365, along with a deep dive on how we leverage graph embeddings trained from DNN (Deep Graph Learning) technologies to improve search, recommendation and ranking systems across Microsoft 365. We will potentially cover the following topics: How to build per-organization knowledge graphs , ML infrastructure to deliver personalized features/embeddings/ML models at scale and embedding based ANN (Approximately Nearest Neighbor) search service. We will also go through the challenges and the solutions to deliver ML at Microsoft 365 scale.",
         167
        ],
        [
         "Stable Diffusion: The Future of Generative AI",
         "Stability.ai, makers of Stable Diffusion, is the fastest growing open source software in history, gaining 40,000 GitHub stars in the first 3 months of launch. In this session, you will discuss how this team trained the model for Stable Diffusion, how it is improving towards the new release, and current research questions in development that will reduce inference times, as well as ways the open-source developer community can collaborate on research and engineering.",
         168
        ],
        [
         "Vector Data Lakes",
         "Vector databases such as ElasticSearch and Pinecone offer fast ingestion and querying on vector embeddings with ANNs. However, they typically do not decouple compute and storage, making them hard to integrate in production data stacks. Because data storage in these databases is expensive and not easily accessible, data teams typically maintain ETL pipelines to offload historical embedding data to blob stores. When that data needs to be queried, they get loaded back into the vector database in another ETL process. This is reminiscent of loading data from OLTP database to cloud storage, then loading said data into an OLAP warehouse for offline analytics. Recently, “lakehouse” offerings allow direct OLAP querying on cloud storage, removing the need for the second ETL step. The same could be done for embedding data. While embedding storage in blob stores cannot satisfy the high TPS requirements in online settings, we argue it’s sufficient for offline analytics use cases like slicing and dicing data based on embedding clusters. Instead of loading the embedding data back into the vector database for offline analytics, we propose direct processing on embeddings stored in Parquet files in Delta Lake. You will see that offline embedding workloads typically touch a large portion of the stored embeddings without the need for random access. As a result, the workload is entirely bound by network throughput instead of latency, making it quite suitable for blob storage backends. On a test 1 billion vector dataset, ETL into cloud storage takes around 1 hour on a dedicated GPU instance, while batched nearest neighbor search can be done in under one minute with four CPU instances. We believe future “lakehouses” will ship with native support for these embedding workloads.",
         169
        ],
        [
         "JoinBoost: In-DB ML for Tree-Models",
         "Data and Machine Learning (ML) are crucial for enterprise operations. Enterprises store data in databases for management and use ML to gain business insights. However, there is a mismatch between the way ML expects data to be organized (a single table) and the way data is organized in databases (a join graph of multiple tables) and leads to inefficiencies when joining and materializing tables. In this session, you will see how we successfully address this issue. We introduce JoinBoost, a lightweight python library that trains tree models (such as random forests and gradient boosting) for join graphs in databases. JoinBoost acts as a query rewriting layer that is compatible with cloud databases, and eliminates the need for costly join materialization.",
         170
        ],
        [
         "Demonstrate-Search-Predict: Composing Retrieval and Language Models for Knowledge-Intensive NLP",
         "In this session, you will learn about how retrieval-augmented in-context learning has emerged as a powerful approach for addressing knowledge-intensive tasks using frozen language models (LM) and retrieval models (RM). Existing work has combined these in simple “retrieve-then-read” pipelines in which the RM retrieves passages that are inserted into the LM prompt. To begin to fully realize the potential of frozen LMs and RMs, we propose Demonstrate–Search–Predict (DSP), a framework that relies on passing natural language texts in sophisticated pipelines between an LM and an RM. DSP can express high-level programs that bootstrap pipeline-aware demonstrations, search for relevant passages, and generate grounded predictions, systematically breaking down problems into small transformations that the LM and RM can handle more reliably. We have written novel DSP programs for answering questions in open-domain, multi-hop, and conversational settings, establishing in early evaluations new state-of-the-art in-context learning results and delivering 37–125%, 8–40%, and 80–290% relative gains against vanilla LMs, a standard retrieve-then-read pipeline, and a contemporaneous self-ask pipeline, respectively.",
         171
        ],
        [
         "Data Caching Strategies for Data Analytics and AI",
         "The increasing popularity of data analytics and artificial intelligence (AI) has led to a dramatic increase in the volume of data being used in these fields, creating a growing need for an enhanced computational capability. Cache plays a crucial role as an accelerator for data and AI computations, but it is important to note that these domains have different data access patterns, requiring different cache strategies. In this session, you will see our observations on data access patterns in the analytical SQL and AI training domains based on practical experience with large-scale systems. We will discuss the evaluation results of various caching strategies for analytical SQL and AI and provide caching recommendations for different use cases. Over the years, we have learned some best practices from big internet companies about the following aspects of our journey: 1. Traffic pattern for analytical SQL and cache strategy recommendation, 2. Traffic pattern for AI training and how we can measure the cache efficiency for different AI training process, 3. Cache capacity planning based on real-time metrics of the working set, and 4. Adaptive caching admission and eviction for uncertain traffic patterns",
         172
        ],
        [
         "If a Duck Quacks in the Forrest and Everyone Hears, Should you Care?",
         "\"YES! \"\"Duck posting\"\" has become an internet meme for praising DuckDB on twitter. Nearly every quack using DuckDB has done it once or twice. But",
         173
        ],
        [
         "Python with Spark Connect",
         "PySpark has accomplished many milestones such as Project Zen, and been increasingly growing. We introduced pandas API on Spark, and hugely improved usability such as error messages, type hints, etc., and PySpark has become almost the very standard of distributed computing in Python.\n \n With this trend, the kind of PySpark use cases became also very complicated especially for modern data applications such as notebooks, IDEs, even devices such as smart home devices leveraging the power of data, that virtually need a lightweight separate client. However, today’s PySpark client is considerably heavy, and does not allow the separation from its scheduler, optimizer and analyzer as an example.\n \n In Apache Spark 3.4, one of the key features we introduced in PySpark is the Python client for Spark Connect that decouples client-server architecture for Apache Spark that allows remote connectivity to Spark clusters using the DataFrame API and unresolved logical plans as the protocol. The separation between client and server allows Apache Spark and its open ecosystem to be leveraged from everywhere. It can be embedded in modern data applications.\n \n In this talk, we will introduce what Spark Connect is, the internals of Spark Connect with Python, how to use Spark Connect with Python in the end-user perspective, and what’s next beyond Apache Spark 3.4.",
         174
        ],
        [
         "Databricks Connect powered by Spark Connect: Develop and Debug Spark from any developer tool",
         "Spark developers want to develop and debug their code using their tools of choice and development best practices while ensuring high-production fidelity on the target remote cluster. However, Spark's driver architecture is monolithic, with no built-in capability to directly connect to a remote Spark cluster from languages other than SQL. This makes it hard to enable such interactive developer experiences from a user’s local IDE of choice. Spark Connect’s decoupled client-server architecture introduces remote connectivity to Spark clusters and with that, enables interactive development experience - Spark and its open ecosystem can be leveraged from everywhere! \n \n In this talk, we show how we leverage Spark Connect to build a completely redesigned version of Databricks Connect, a first-class IDE-based developer experience that offers interactive debugging from any IDE. We show how developers can easily ensure consistency between their local and remote environments. We walk the audience through real-live examples of how to locally debug code running on Databrick. We also show how Databricks Connect integrates into the Databricks Visual Studio Code extension for an even better developer experience.",
         175
        ],
        [
         "Ray on Spark",
         "Ray and its associated native libraries make scaling ML projects effortless. With only minor modification to existing single-machine code, Ray enables converting ML workloads to a distributed computation environment simple, intuitive, and powerful. By leveraging the infrastructure of Spark and the massive scalability of Ray for ML workloads, running Ray on Spark allows you to scale your ML work with the libraries you want without having to switch to a different implementation paradigm or set of libraries to achieve extreme scale.\n \n This is a presentation of a collaboration between Databricks Engineering and AnyScale Engineering. It covers a joint effort in building an officially-supported integration. \n \n In this talk, we'll be presenting the new integration between Spark and Ray, showcasing how you can start a Ray cluster from within Spark and leverage it for many ML use cases. \n We'll dive into how to start the cluster from within a Databricks Notebook, as well as how to start the Ray dashboard and leverage it for inspecting the performance of submitted tasks. \n During this overview, we'll explain how cluster resources are allocated on Spark, as well as the general architecture of running Ray on Spark. We'll also showcase how to convert your existing Ray workloads to run on Spark with a single line of configuration change!\n We'll conclude with a brief overview of using RayTune to perform hyperparameter tuning of a model, showcasing how easy and powerful it is to use the APIs for ML use cases.",
         176
        ],
        [
         "Why Delta Lake is the best storage format for pandas analyses",
         "pandas analyses are often limited by file formats like CSV and Parquet. CSV doesn't allow for column pruning, which is an important performance optimization. Parquet doesn't allow for critical features like ACID transactions, time travel, and schema enforcement. This talk discusses why Delta Lake is the fastest file format for pandas users and how it provides users with great features.",
         177
        ],
        [
         "Fine tuning & scaling Hugging Face with Ray AIR",
         "Hugging Face Transformers is a popular open-source project with cutting-edge Machine Learning (ML). Still, meeting the computational requirements for advanced models it provides often requires scaling beyond a single machine. This session explores the integration between Hugging Face and Ray AI Runtime (AIR), allowing users to scale their model training and data loading seamlessly. We will dive deep into the implementation and API and explore how we can use Ray AIR to create an end-to-end Hugging Face workflow, from data ingestion through fine-tuning and HPO to inference and serving.\n \n The computational and memory requirements for fine-tuning and training these models can be significant. To deal with this issue, the Ray team has developed a Hugging Face integration for Ray AI Runtime (AIR), allowing models such as Transformers and Diffusion models training to be easily parallelized across multiple CPUs or GPUs in a Ray Cluster, saving time and money, all the while allowing to take advantage of the rich Ray ML ecosystem thanks to standard and common API.\n \n In this session, we explore the integration between Hugging Face and Ray AIR, allowing users to scale their NLP and computer vision models’ training and data loading seamlessly. We will dive deep into the implementation and API and explore how we can use Ray AIR to create an end-to-end Hugging Face workflow, from data ingestion through fine-tuning and HPO to inference and serving.\n \n Key Takeaways: \n * Python developers and machine learning engineers can use Transformers and scale their language models\n * Get exposed to Ray AIR’s Python APIs for end-to-end Hugging Face and ML workflow\n * Understand how Ray AIR, built atop Ray, can scale your Python-based ML workloads",
         178
        ],
        [
         "Breaking Barriers with Databricks Lakehouse - How Blackberry is Revolutionizing Cybersecurity Services Worldwide. AI-Driven Cybersecurity that Works Smarter, Not Harder.\n",
         "Cybersecurity incidents are costly, and using an Endpoint Detection and Response (EDR) solution enables the detection of cybersecurity incidents as quickly as possible. To effectively detect cybersecurity incidences requires the collection of millions of data points, and the storing/querying of endpoints data presents considerable engineering challenges. This includes quickly moving local data from endpoints to a single table in the cloud and enabling performant querying against it. The need to avoid internal data siloing within BlackBerry was paramount as multiple teams required access to the data to deliver an effective EDR solution for the present and the future. Databricks tooling enabled us to break down our data silos and iteratively improve our EDR pipeline to ingest data faster and reduce querying latency by more than 20% while reducing costs by more than 30%.\nIn this session, BlackBerry Engineers Srinivasa Kanamatha and Justin Lai will share the journey, lessons learned, and the future for collecting, storing, governing, and sharing data from endpoints in Databricks. The result of building EDR using Databricks helped us accelerate the deployment of our data platform.\"\"",
         179
        ],
        [
         "Scaling Deep Learning using Delta Lake storage format on Databricks",
         "Delta Lake is an open-source storage format that can be ideally used for storing large-scale datasets, which can be used for single-node and distributed training of deep learning models. Delta Lake storage format gives deep learning practitioners unique data management capabilities for working with their datasets. \n The challenge is that, as of now, it’s not possible to use Delta Lake to train PyTorch models directly. PyTorch community has recently introduced a Torchdata library for efficient data loading. This library supports many formats out of the box, but not Delta Lake. This talk will demonstrate using the Delta Lake storage format for single-node and distributed PyTorch training using the torchdata framework and standalone delta-rs Delta Lake implementation.",
         180
        ]
       ],
       "datasetInfos": [],
       "dbfsResultPath": null,
       "isJsonSchema": true,
       "metadata": {},
       "overflow": false,
       "plotOptions": {
        "customPlotOptions": {},
        "displayType": "table",
        "pivotAggregation": null,
        "pivotColumns": null,
        "xColumns": null,
        "yColumns": null
       },
       "removedWidgets": [],
       "schema": [
        {
         "metadata": "{}",
         "name": "Title",
         "type": "\"string\""
        },
        {
         "metadata": "{}",
         "name": "Abstract",
         "type": "\"string\""
        },
        {
         "metadata": "{}",
         "name": "id",
         "type": "\"long\""
        }
       ],
       "type": "table"
      }
     },
     "output_type": "display_data"
    }
   ],
   "source": [
    "display(spark.sql(f\"SELECT * FROM {source_table_fullname}\"))"
   ]
  },
  {
   "cell_type": "code",
   "execution_count": 0,
   "metadata": {
    "application/vnd.databricks.v1+cell": {
     "cellMetadata": {
      "byteLimit": 2048000,
      "rowLimit": 10000
     },
     "inputWidgets": {},
     "nuid": "e5dec94e-c3cd-4b43-9c87-b749bce9caf7",
     "showTitle": false,
     "tableResultSettingsMap": {},
     "title": ""
    }
   },
   "outputs": [
    {
     "output_type": "stream",
     "name": "stdout",
     "output_type": "stream",
     "text": [
      "[NOTICE] Using a notebook authentication token. Recommended for development only. For improved performance, please use Service Principal based authentication. To disable this message, pass disable_notice=True to VectorSearchClient().\n[NOTICE] Using a notebook authentication token. Recommended for development only. For improved performance, please use Service Principal based authentication. To disable this message, pass disable_notice=True to VectorSearchClient().\n"
     ]
    },
    {
     "output_type": "stream",
     "name": "stderr",
     "output_type": "stream",
     "text": [
      "WARNING:root:Error processing request 404 Client Error: Not Found for url: https://dbc-7aad3b7d-2c13.cloud.databricks.com/api/2.0/vector-search/endpoints/vs_endpoint_2/indexes/dbacademy.labuser10152510_1746020930.dais_embeddings\n"
     ]
    },
    {
     "output_type": "stream",
     "name": "stdout",
     "output_type": "stream",
     "text": [
      "Endpoint named vs_endpoint_2 is ready.\nCreating index dbacademy.labuser10152510_1746020930.dais_embeddings on endpoint vs_endpoint_2...\nWaiting for index to be ready, this can take a few min... {'detailed_state': 'PROVISIONING_INDEX', 'message': 'Delta sync Index creation is pending. Check latest status: https://dbc-7aad3b7d-2c13.cloud.databricks.com/explore/data/dbacademy/labuser10152510_1746020930/dais_embeddings', 'indexed_row_count': 0, 'ready': False, 'index_url': 'dbc-7aad3b7d-2c13.cloud.databricks.com/api/2.0/vector-search/indexes/dbacademy.labuser10152510_1746020930.dais_embeddings'} - pipeline url:dbc-7aad3b7d-2c13.cloud.databricks.com/api/2.0/vector-search/indexes/dbacademy.labuser10152510_1746020930.dais_embeddings\n"
     ]
    }
   ],
   "source": [
    "# Store embeddings in vector store\n",
    "create_vs_index(vs_endpoint_name, vs_index_table_fullname, source_table_fullname, \"Title\")"
   ]
  },
  {
   "cell_type": "markdown",
   "metadata": {
    "application/vnd.databricks.v1+cell": {
     "cellMetadata": {},
     "inputWidgets": {},
     "nuid": "4d25a653-1621-4d46-b738-a68de8572254",
     "showTitle": false,
     "tableResultSettingsMap": {},
     "title": ""
    }
   },
   "source": [
    "### Define Common Objects"
   ]
  },
  {
   "cell_type": "code",
   "execution_count": 0,
   "metadata": {
    "application/vnd.databricks.v1+cell": {
     "cellMetadata": {
      "byteLimit": 2048000,
      "rowLimit": 10000
     },
     "inputWidgets": {},
     "nuid": "4d4b35b0-6373-4165-9bf6-0cfc657d736b",
     "showTitle": false,
     "tableResultSettingsMap": {},
     "title": ""
    }
   },
   "outputs": [],
   "source": [
    "from langchain_databricks import ChatDatabricks\n",
    "from langchain.prompts import PromptTemplate\n",
    "from langchain_core.output_parsers import StrOutputParser\n",
    "from langchain_core.runnables import RunnablePassthrough\n",
    "from IPython.display import display, HTML\n",
    "\n",
    "llm_llama = ChatDatabricks(endpoint=\"databricks-meta-llama-3-3-70b-instruct\", max_tokens = 1000)"
   ]
  },
  {
   "cell_type": "markdown",
   "metadata": {
    "application/vnd.databricks.v1+cell": {
     "cellMetadata": {},
     "inputWidgets": {},
     "nuid": "f4fd5aa3-12f7-452c-9da9-000190701739",
     "showTitle": false,
     "tableResultSettingsMap": {},
     "title": ""
    }
   },
   "source": [
    "### Build First Chain\n",
    "\n",
    "The **first chain** will be used for listing videos relevant to the user's question. In order to get videos, first, we need to search for the DAIS-2023 talks that are already stored in a Vector Search index. After retrieving the relevant titles, we will use YouTube search tool to get the videos for the talks. In the final stage, these videos are passed to the chain to generate a response for the user.\n",
    "\n",
    "This chain consist of a `prompt template`, `retriever`, `llm model` and `output parser`."
   ]
  },
  {
   "cell_type": "code",
   "execution_count": 0,
   "metadata": {
    "application/vnd.databricks.v1+cell": {
     "cellMetadata": {
      "byteLimit": 2048000,
      "rowLimit": 10000
     },
     "inputWidgets": {},
     "nuid": "0ef09076-33f5-4797-b086-1b8e117669b8",
     "showTitle": false,
     "tableResultSettingsMap": {},
     "title": ""
    }
   },
   "outputs": [
    {
     "output_type": "stream",
     "name": "stderr",
     "output_type": "stream",
     "text": [
      "/home/spark-13411a2a-6160-45ab-bbbf-fb/.ipykernel/13894/command-3951983942472629-4157480942:22: LangChainDeprecationWarning: Use databricks_langchain.DatabricksVectorSearch\n  vectorstore = DatabricksVectorSearch(vs_index_table_fullname)\n"
     ]
    },
    {
     "output_type": "stream",
     "name": "stdout",
     "output_type": "stream",
     "text": [
      "[NOTICE] Using a notebook authentication token. Recommended for development only. For improved performance, please use Service Principal based authentication. To disable this message, pass disable_notice=True to VectorSearchClient().\n"
     ]
    },
    {
     "output_type": "execute_result",
     "data": {
      "text/plain": [
       "'Unity Catalog Delta Sharing and Data Mesh on Databricks Lakehouse DAIS 2023'"
      ]
     },
     "execution_count": 20,
     "metadata": {},
     "output_type": "execute_result"
    },
    {
     "output_type": "display_data",
     "data": {
      "application/databricks.mlflow.trace": "\"tr-fafb83e391904fdaa03954bbc229ca72\"",
      "text/plain": [
       "Trace(request_id=tr-fafb83e391904fdaa03954bbc229ca72)"
      ]
     },
     "metadata": {},
     "output_type": "display_data"
    }
   ],
   "source": [
    "from langchain.chains import create_retrieval_chain\n",
    "from langchain.chains.combine_documents import create_stuff_documents_chain\n",
    "from langchain_databricks import DatabricksVectorSearch\n",
    "\n",
    "# Prompt to format the video titles for YouTube search\n",
    "prompt_template_1 = PromptTemplate.from_template(\n",
    "    \"\"\"\n",
    "    Construct a search query for YouTube based on the titles below. Make sure to add DAIS 2023 as part of the query. Remove all quotes from the query and return only the query.\n",
    "\n",
    "    <video_titles>\n",
    "    {context}\n",
    "    </video_titles>\n",
    "\n",
    "    Answer:\n",
    "    \"\"\"\n",
    ")\n",
    "\n",
    "# Create a vector store client and retrieve documents\n",
    "def get_retriever(persist_dir=None):\n",
    "    vsc = VectorSearchClient(disable_notice=True)\n",
    "    vs_index = vsc.get_index(vs_endpoint_name, vs_index_table_fullname)\n",
    "    vectorstore = DatabricksVectorSearch(vs_index_table_fullname)\n",
    "    return vectorstore.as_retriever(search_kwargs={\"k\": 2})\n",
    "\n",
    "\n",
    "# First chain\n",
    "chain_video = (\n",
    "    {\"context\": get_retriever(), \"input\": RunnablePassthrough()}\n",
    "    | prompt_template_1\n",
    "    | llm_llama\n",
    "    | StrOutputParser()\n",
    ")\n",
    "\n",
    "# Test the chain\n",
    "chain_video.invoke(\"How machine learning models are stored in Unity Catalog?\")"
   ]
  },
  {
   "cell_type": "markdown",
   "metadata": {
    "application/vnd.databricks.v1+cell": {
     "cellMetadata": {},
     "inputWidgets": {},
     "nuid": "e90dcffb-ebe3-402c-b3a3-4dcafc69b12b",
     "showTitle": false,
     "tableResultSettingsMap": {},
     "title": ""
    }
   },
   "source": [
    "### Build Second Chain\n",
    "\n",
    "This chain will use the video title-based query from the previous chain to search YouTube. The response from this chain will consist of YouTube video links."
   ]
  },
  {
   "cell_type": "code",
   "execution_count": 0,
   "metadata": {
    "application/vnd.databricks.v1+cell": {
     "cellMetadata": {
      "byteLimit": 2048000,
      "rowLimit": 10000
     },
     "inputWidgets": {},
     "nuid": "ad8848f2-2c23-4e59-9e5e-8e899cc337dd",
     "showTitle": false,
     "tableResultSettingsMap": {},
     "title": ""
    }
   },
   "outputs": [
    {
     "output_type": "stream",
     "name": "stdout",
     "output_type": "stream",
     "text": [
      "['https://www.youtube.com/watch?v=GSJFyoBiCXk&pp=ygW0AURBSVMgMjAyMyBTdHJlYW1saW5pbmcgQVBJIERlcGxveW1lbnQgZm9yIE1MIE1vZGVscyBBY3Jvc3MgTXVsdGlwbGUgQnJhbmRzIEFob2xkIERlbGhhaXplJ3MgRXhwZXJpZW5jZSBvbiBTZXJ2ZXJsZXNzIE9SIEJ1aWxkaW5nIGEgUmVhbC1UaW1lIE1vZGVsIE1vbml0b3JpbmcgUGlwZWxpbmUgb24gRGF0YWJyaWNrcw%3D%3D', 'https://www.youtube.com/watch?v=3dOePPkwEJc&pp=ygW0AURBSVMgMjAyMyBTdHJlYW1saW5pbmcgQVBJIERlcGxveW1lbnQgZm9yIE1MIE1vZGVscyBBY3Jvc3MgTXVsdGlwbGUgQnJhbmRzIEFob2xkIERlbGhhaXplJ3MgRXhwZXJpZW5jZSBvbiBTZXJ2ZXJsZXNzIE9SIEJ1aWxkaW5nIGEgUmVhbC1UaW1lIE1vZGVsIE1vbml0b3JpbmcgUGlwZWxpbmUgb24gRGF0YWJyaWNrcw%3D%3D']\n"
     ]
    },
    {
     "output_type": "display_data",
     "data": {
      "application/databricks.mlflow.trace": "\"tr-5b4792bcafc14ffe94634928cc7434ab\"",
      "text/plain": [
       "Trace(request_id=tr-5b4792bcafc14ffe94634928cc7434ab)"
      ]
     },
     "metadata": {},
     "output_type": "display_data"
    }
   ],
   "source": [
    "from langchain_community.tools import YouTubeSearchTool\n",
    "from langchain_core.runnables import RunnableLambda\n",
    "\n",
    "# Generate image using first chain\n",
    "def get_videos(input):\n",
    "    tool_yt = YouTubeSearchTool()\n",
    "    video_urls = tool_yt.run(input)\n",
    "    return video_urls\n",
    "\n",
    "chain_youtube = RunnableLambda(get_videos) | StrOutputParser()\n",
    "\n",
    "# Get the image URL\n",
    "response = chain_youtube.invoke(\"DAIS 2023 Streamlining API Deployment for ML Models Across Multiple Brands Ahold Delhaize's Experience on Serverless OR Building a Real-Time Model Monitoring Pipeline on Databricks\")\n",
    "\n",
    "print(response)"
   ]
  },
  {
   "cell_type": "markdown",
   "metadata": {
    "application/vnd.databricks.v1+cell": {
     "cellMetadata": {},
     "inputWidgets": {},
     "nuid": "990925d0-d2ac-4654-8aa1-d226a23e555c",
     "showTitle": false,
     "tableResultSettingsMap": {},
     "title": ""
    }
   },
   "source": [
    "### Build Third Chain\n",
    "\n",
    "The **third chain** will be a simple question-answer prompt using **Meta's Llama-3**. The chain will use the video links as well for recommendation. This chain consist of a `prompt template`, `llm model` and `output parser`."
   ]
  },
  {
   "cell_type": "code",
   "execution_count": 0,
   "metadata": {
    "application/vnd.databricks.v1+cell": {
     "cellMetadata": {
      "byteLimit": 2048000,
      "rowLimit": 10000
     },
     "inputWidgets": {},
     "nuid": "cc406d64-dc26-41bb-bb8c-b555ee8850db",
     "showTitle": false,
     "tableResultSettingsMap": {},
     "title": ""
    }
   },
   "outputs": [
    {
     "output_type": "execute_result",
     "data": {
      "text/plain": [
       "'<p>Machine learning models in Databricks are stored in Unity Catalog as managed tables, which provide a centralized and secure way to manage and share models across the organization. Unity Catalog allows users to store, manage, and version their machine learning models, making it easier to collaborate and deploy models into production.</p>\\n\\n<p>For more information, I recommend watching the following videos:</p>\\n<ul>\\n  <li>https://www.youtube.com/watch?v=dQw4w9WgXcQ</li>\\n  <li>https://www.youtube.com/watch?v=jNQXAC9IVRw</li>\\n</ul>\\n\\n<p>These videos provide a detailed overview of Unity Catalog and its capabilities in storing and managing machine learning models.</p>'"
      ]
     },
     "execution_count": 22,
     "metadata": {},
     "output_type": "execute_result"
    },
    {
     "output_type": "display_data",
     "data": {
      "application/databricks.mlflow.trace": "\"tr-d9038b4c5fbf4267ac3701a8c0170180\"",
      "text/plain": [
       "Trace(request_id=tr-d9038b4c5fbf4267ac3701a8c0170180)"
      ]
     },
     "metadata": {},
     "output_type": "display_data"
    }
   ],
   "source": [
    "prompt_template_3 = PromptTemplate.from_template(\n",
    "    \"\"\"You are a Databricks expert. You will get questions about Databricks. Try to give simple answers and be professional. Don't include code in your response.\n",
    "\n",
    "    Question: {input}\n",
    "\n",
    "    Answer:\n",
    "\n",
    "    Also, encourage the user to watch the videos provided below. Show video links as a list. Strip the YouTube link at \"&pp=\" and keep the first part of the URL. There is no title for the links so only show the URL. Only use the videos provided below.\n",
    "\n",
    "    Video Links: {videos}\n",
    "\n",
    "    Format response in HTML format.\n",
    "    \"\"\"\n",
    ")\n",
    "\n",
    "chain_expert = (prompt_template_3 | llm_llama | StrOutputParser())\n",
    "chain_expert.invoke({\n",
    "    \"input\": \"How machine learning models are stored in Unity Catalog?\",\n",
    "    \"videos\": \"\"\n",
    "    })"
   ]
  },
  {
   "cell_type": "markdown",
   "metadata": {
    "application/vnd.databricks.v1+cell": {
     "cellMetadata": {},
     "inputWidgets": {},
     "nuid": "093124f2-26c4-4e30-bcd3-9c7776c2ca6e",
     "showTitle": false,
     "tableResultSettingsMap": {},
     "title": ""
    }
   },
   "source": [
    "### Chaining Chains ⛓️\n",
    "\n",
    "So far we create chains for each stage. To build a multi-stage system, we need to link these chains together and build a multi-chain system."
   ]
  },
  {
   "cell_type": "code",
   "execution_count": 0,
   "metadata": {
    "application/vnd.databricks.v1+cell": {
     "cellMetadata": {
      "byteLimit": 2048000,
      "rowLimit": 10000
     },
     "inputWidgets": {},
     "nuid": "75a4456c-6892-4b97-8aa1-4e6da185c2c6",
     "showTitle": false,
     "tableResultSettingsMap": {},
     "title": ""
    }
   },
   "outputs": [
    {
     "output_type": "display_data",
     "data": {
      "text/html": [
       "<p>Machine learning models in Databricks are stored in Unity Catalog as managed tables, which provide a centralized and secure way to manage and share models across the organization. Unity Catalog allows users to register, manage, and deploy machine learning models in a scalable and reliable manner.</p>\n",
       "\n",
       "<p>To learn more about Unity Catalog and machine learning in Databricks, we recommend watching the following videos:</p>\n",
       "\n",
       "<ul>\n",
       "  <li>https://www.youtube.com/watch?v=75QGOtqBj2k</li>\n",
       "  <li>https://www.youtube.com/watch?v=JMlvflzgybk</li>\n",
       "</ul>\n",
       "\n",
       "<p>These videos provide a comprehensive overview of Unity Catalog and its capabilities in managing machine learning models, as well as best practices for implementing a data mesh architecture on Databricks.</p>"
      ],
      "text/plain": [
       "<IPython.core.display.HTML object>"
      ]
     },
     "metadata": {},
     "output_type": "display_data"
    },
    {
     "output_type": "display_data",
     "data": {
      "application/databricks.mlflow.trace": "\"tr-de8dbd9798e74847b89f0d6f53be18d4\"",
      "text/plain": [
       "Trace(request_id=tr-de8dbd9798e74847b89f0d6f53be18d4)"
      ]
     },
     "metadata": {},
     "output_type": "display_data"
    }
   ],
   "source": [
    "multi_chain = (\n",
    "  {\n",
    "    \"input\": RunnablePassthrough(),\n",
    "    \"videos\": (chain_video | chain_youtube | StrOutputParser())\n",
    "  }\n",
    "  |chain_expert\n",
    "  |StrOutputParser()\n",
    ")\n",
    "\n",
    "query = \"How machine learning models are stored in Unity Catalog?\"\n",
    "response = multi_chain.invoke(query)\n",
    "display(HTML(response))"
   ]
  },
  {
   "cell_type": "markdown",
   "metadata": {
    "application/vnd.databricks.v1+cell": {
     "cellMetadata": {},
     "inputWidgets": {},
     "nuid": "f7819eb7-ffb4-4354-9106-3a91446bd9fd",
     "showTitle": false,
     "tableResultSettingsMap": {},
     "title": ""
    }
   },
   "source": [
    "View the flow of the final chain."
   ]
  },
  {
   "cell_type": "code",
   "execution_count": 0,
   "metadata": {
    "application/vnd.databricks.v1+cell": {
     "cellMetadata": {
      "byteLimit": 2048000,
      "rowLimit": 10000
     },
     "inputWidgets": {},
     "nuid": "8e3fe02b-3dc3-42cf-829a-2a15bb32a67d",
     "showTitle": false,
     "tableResultSettingsMap": {},
     "title": ""
    }
   },
   "outputs": [
    {
     "output_type": "stream",
     "name": "stdout",
     "output_type": "stream",
     "text": [
      "                                 +-----------------------------+                          \n                                 | Parallel<input,videos>Input |                          \n                                 +-----------------------------+                          \n                                     ****                      *****                      \n                                  ***                               *****                 \n                                **                                       ******           \n             +------------------------------+                                  ***        \n             | Parallel<context,input>Input |                                    *        \n             +------------------------------+                                    *        \n                    **               **                                          *        \n                 ***                   ***                                       *        \n               **                         **                                     *        \n+----------------------+              +-------------+                            *        \n| VectorStoreRetriever |              | Passthrough |                            *        \n+----------------------+              +-------------+                            *        \n                    **               **                                          *        \n                      ***         ***                                            *        \n                         **     **                                               *        \n            +-------------------------------+                                    *        \n            | Parallel<context,input>Output |                                    *        \n            +-------------------------------+                                    *        \n                             *                                                   *        \n                             *                                                   *        \n                             *                                                   *        \n                    +----------------+                                           *        \n                    | PromptTemplate |                                           *        \n                    +----------------+                                           *        \n                             *                                                   *        \n                             *                                                   *        \n                             *                                                   *        \n                    +----------------+                                           *        \n                    | ChatDatabricks |                                           *        \n                    +----------------+                                           *        \n                             *                                                   *        \n                             *                                                   *        \n                             *                                                   *        \n                   +-----------------+                                           *        \n                   | StrOutputParser |                                           *        \n                   +-----------------+                                           *        \n                             *                                                   *        \n                             *                                                   *        \n                             *                                                   *        \n                      +------------+                                             *        \n                      | get_videos |                                             *        \n                      +------------+                                             *        \n                             *                                                   *        \n                             *                                                   *        \n                             *                                                   *        \n                   +-----------------+                                           *        \n                   | StrOutputParser |                                           *        \n                   +-----------------+                                           *        \n                             *                                                   *        \n                             *                                                   *        \n                             *                                                   *        \n                   +-----------------+                                    +-------------+ \n                   | StrOutputParser |                                    | Passthrough | \n                   +-----------------+                              ******+-------------+ \n                                     ****                      *****                      \n                                         ***             ******                           \n                                            **        ***                                 \n                                 +------------------------------+                         \n                                 | Parallel<input,videos>Output |                         \n                                 +------------------------------+                         \n                                                 *                                        \n                                                 *                                        \n                                                 *                                        \n                                        +----------------+                                \n                                        | PromptTemplate |                                \n                                        +----------------+                                \n                                                 *                                        \n                                                 *                                        \n                                                 *                                        \n                                        +----------------+                                \n                                        | ChatDatabricks |                                \n                                        +----------------+                                \n                                                 *                                        \n                                                 *                                        \n                                                 *                                        \n                                       +-----------------+                                \n                                       | StrOutputParser |                                \n                                       +-----------------+                                \n                                                 *                                        \n                                                 *                                        \n                                                 *                                        \n                                       +-----------------+                                \n                                       | StrOutputParser |                                \n                                       +-----------------+                                \n                                                 *                                        \n                                                 *                                        \n                                                 *                                        \n                                    +-----------------------+                             \n                                    | StrOutputParserOutput |                             \n                                    +-----------------------+                             \n"
     ]
    }
   ],
   "source": [
    "multi_chain.get_graph().print_ascii()"
   ]
  },
  {
   "cell_type": "markdown",
   "metadata": {
    "application/vnd.databricks.v1+cell": {
     "cellMetadata": {},
     "inputWidgets": {},
     "nuid": "28e7b2d9-a594-4c4e-9038-c9bd0a22c402",
     "showTitle": false,
     "tableResultSettingsMap": {},
     "title": ""
    }
   },
   "source": [
    "## Save the Chain to Model Registry in UC\n",
    "\n",
    "Now that our chain is ready and evaluated, we can register it within our Unity Catalog schema. \n",
    "\n",
    "After registering the chain, you can view the chain and models in the **Catalog Explorer**."
   ]
  },
  {
   "cell_type": "code",
   "execution_count": 0,
   "metadata": {
    "application/vnd.databricks.v1+cell": {
     "cellMetadata": {
      "byteLimit": 2048000,
      "rowLimit": 10000
     },
     "inputWidgets": {},
     "nuid": "a8c535e8-1f02-455a-9583-73cdc6c8a79b",
     "showTitle": false,
     "tableResultSettingsMap": {},
     "title": ""
    }
   },
   "outputs": [
    {
     "output_type": "stream",
     "name": "stderr",
     "output_type": "stream",
     "text": [
      "/local_disk0/.ephemeral_nfs/envs/pythonEnv-13411a2a-6160-45ab-bbbf-fbae0eaf140b/lib/python3.10/site-packages/mlflow/langchain/runnables.py:292: UserWarning: Your model contains a class imported from the LangChain partner package `langchain-databricks`. When loading the model back, MLflow will use the community version of the classes instead of the partner packages, which may lead to unexpected behavior. To ensure that the model is loaded correctly, it is recommended to save the model with the 'model-from-code' method instead: https://mlflow.org/docs/latest/models.html#models-from-code\n  warnings.warn(\n/local_disk0/.ephemeral_nfs/envs/pythonEnv-13411a2a-6160-45ab-bbbf-fbae0eaf140b/lib/python3.10/site-packages/mlflow/langchain/runnables.py:292: UserWarning: Your model contains a class imported from the LangChain partner package `langchain-databricks`. When loading the model back, MLflow will use the community version of the classes instead of the partner packages, which may lead to unexpected behavior. To ensure that the model is loaded correctly, it is recommended to save the model with the 'model-from-code' method instead: https://mlflow.org/docs/latest/models.html#models-from-code\n  warnings.warn(\n2025/04/30 15:00:10 INFO mlflow: Attempting to auto-detect Databricks resource dependencies for the current langchain model. Dependency auto-detection is best-effort and may not capture all dependencies of your langchain model, resulting in authorization errors when serving or querying your model. We recommend that you explicitly pass `resources` to mlflow.langchain.log_model() to ensure authorization to dependent resources succeeds when the model is deployed.\n"
     ]
    },
    {
     "output_type": "stream",
     "name": "stdout",
     "output_type": "stream",
     "text": [
      "[NOTICE] Using a notebook authentication token. Recommended for development only. For improved performance, please use Service Principal based authentication. To disable this message, pass disable_notice=True to VectorSearchClient().\n"
     ]
    },
    {
     "output_type": "stream",
     "name": "stderr",
     "output_type": "stream",
     "text": [
      "Successfully registered model 'dbacademy.labuser10152510_1746020930.multi_stage_demo'.\nCreated version '1' of model 'dbacademy.labuser10152510_1746020930.multi_stage_demo'.\n"
     ]
    },
    {
     "output_type": "display_data",
     "data": {
      "text/html": [
       "<head>\n",
       "  <link\n",
       "    rel=\"stylesheet\"\n",
       "    href=\"https://cdnjs.cloudflare.com/ajax/libs/highlight.js/11.9.0/styles/xcode.min.css\"\n",
       "  />\n",
       "  <script src=\"https://cdnjs.cloudflare.com/ajax/libs/highlight.js/11.9.0/highlight.min.js\"></script>\n",
       "  <script>\n",
       "    hljs.highlightAll();\n",
       "  </script>\n",
       "  <style>\n",
       "    body {\n",
       "      margin: 0;\n",
       "      font-family: -apple-system, BlinkMacSystemFont, Segoe UI, Roboto,\n",
       "        Helvetica Neue, Arial, Noto Sans, sans-serif, Apple Color Emoji,\n",
       "        Segoe UI Emoji, Segoe UI Symbol, Noto Color Emoji;\n",
       "      -webkit-tap-highlight-color: rgba(0, 0, 0, 0);\n",
       "      margin: 0;\n",
       "      font-weight: 400;\n",
       "      font-size: 13px;\n",
       "      line-height: 18px;\n",
       "      color: rgb(17, 23, 28);\n",
       "    }\n",
       "    code {\n",
       "      line-height: 18px;\n",
       "      font-size: 11px;\n",
       "      background: rgb(250, 250, 250) !important;\n",
       "    }\n",
       "    pre {\n",
       "      background: rgb(250, 250, 250);\n",
       "      margin: 0;\n",
       "      display: none;\n",
       "    }\n",
       "    pre.active {\n",
       "      display: unset;\n",
       "    }\n",
       "    button {\n",
       "      white-space: nowrap;\n",
       "      text-align: center;\n",
       "      position: relative;\n",
       "      cursor: pointer;\n",
       "      background: rgba(34, 114, 180, 0) !important;\n",
       "      color: rgb(34, 114, 180) !important;\n",
       "      border-color: rgba(34, 114, 180, 0) !important;\n",
       "      padding: 4px 6px !important;\n",
       "      text-decoration: none !important;\n",
       "      line-height: 20px !important;\n",
       "      box-shadow: none !important;\n",
       "      height: 32px !important;\n",
       "      display: inline-flex !important;\n",
       "      -webkit-box-align: center !important;\n",
       "      align-items: center !important;\n",
       "      -webkit-box-pack: center !important;\n",
       "      justify-content: center !important;\n",
       "      vertical-align: middle !important;\n",
       "    }\n",
       "    p {\n",
       "      margin: 0;\n",
       "      padding: 0;\n",
       "    }\n",
       "    button:hover {\n",
       "      background: rgba(34, 114, 180, 0.08) !important;\n",
       "      color: rgb(14, 83, 139) !important;\n",
       "    }\n",
       "    button:active {\n",
       "      background: rgba(34, 114, 180, 0.16) !important;\n",
       "      color: rgb(4, 53, 93) !important;\n",
       "    }\n",
       "    h1 {\n",
       "      margin-top: 4px;\n",
       "      font-size: 22px;\n",
       "    }\n",
       "    .info {\n",
       "      font-size: 12px;\n",
       "      font-weight: 500;\n",
       "      line-height: 16px;\n",
       "      color: rgb(95, 114, 129);\n",
       "    }\n",
       "    .tabs {\n",
       "      margin-top: 10px;\n",
       "      border-bottom: 1px solid rgb(209, 217, 225) !important;\n",
       "      display: flex;\n",
       "      line-height: 24px;\n",
       "    }\n",
       "    .tab {\n",
       "      font-size: 13px;\n",
       "      font-weight: 600 !important;\n",
       "      cursor: pointer;\n",
       "      margin: 0 24px 0 2px;\n",
       "      padding-left: 2px;\n",
       "    }\n",
       "    .tab:hover {\n",
       "      color: rgb(14, 83, 139) !important;\n",
       "    }\n",
       "    .tab.active {\n",
       "      border-bottom: 3px solid rgb(34, 114, 180) !important;\n",
       "    }\n",
       "    .link {\n",
       "      margin-left: 12px;\n",
       "      display: inline-block;\n",
       "      text-decoration: none;\n",
       "      color: rgb(34, 114, 180) !important;\n",
       "      font-size: 13px;\n",
       "      font-weight: 400;\n",
       "    }\n",
       "    .link:hover {\n",
       "      color: rgb(14, 83, 139) !important;\n",
       "    }\n",
       "    .link-content {\n",
       "      display: flex;\n",
       "      gap: 6px;\n",
       "      align-items: center;\n",
       "    }\n",
       "    .caret-up {\n",
       "      transform: rotate(180deg);\n",
       "    }\n",
       "  </style>\n",
       "</head>\n",
       "<body>\n",
       "  <div style=\"display: flex; align-items: center\">\n",
       "    The logged model is compatible with the Mosaic AI Agent Framework.\n",
       "    <button onclick=\"toggleCode()\">\n",
       "      See how to evaluate the model&nbsp;\n",
       "      <span\n",
       "        role=\"img\"\n",
       "        id=\"caret\"\n",
       "        aria-hidden=\"true\"\n",
       "        class=\"anticon css-6xix1i\"\n",
       "        style=\"font-size: 14px\"\n",
       "        ><svg\n",
       "          xmlns=\"http://www.w3.org/2000/svg\"\n",
       "          width=\"1em\"\n",
       "          height=\"1em\"\n",
       "          fill=\"none\"\n",
       "          viewBox=\"0 0 16 16\"\n",
       "          aria-hidden=\"true\"\n",
       "          focusable=\"false\"\n",
       "          class=\"\"\n",
       "        >\n",
       "          <path\n",
       "            fill=\"currentColor\"\n",
       "            fill-rule=\"evenodd\"\n",
       "            d=\"M8 8.917 10.947 6 12 7.042 8 11 4 7.042 5.053 6z\"\n",
       "            clip-rule=\"evenodd\"\n",
       "          ></path>\n",
       "        </svg>\n",
       "      </span>\n",
       "    </button>\n",
       "  </div>\n",
       "  <div id=\"code\" style=\"display: none\">\n",
       "    <h1>\n",
       "      Agent evaluation\n",
       "      <a\n",
       "        class=\"link\"\n",
       "        href=\"https://docs.databricks.com/en/generative-ai/agent-evaluation/synthesize-evaluation-set.html?utm_source=mlflow.log_model&utm_medium=notebook\"\n",
       "        target=\"_blank\"\n",
       "      >\n",
       "        <span class=\"link-content\">\n",
       "          Learn more\n",
       "          <span role=\"img\" aria-hidden=\"true\" class=\"anticon css-6xix1i\"\n",
       "            ><svg\n",
       "              xmlns=\"http://www.w3.org/2000/svg\"\n",
       "              width=\"1em\"\n",
       "              height=\"1em\"\n",
       "              fill=\"none\"\n",
       "              viewBox=\"0 0 16 16\"\n",
       "              aria-hidden=\"true\"\n",
       "              focusable=\"false\"\n",
       "              class=\"\"\n",
       "            >\n",
       "              <path\n",
       "                fill=\"currentColor\"\n",
       "                d=\"M10 1h5v5h-1.5V3.56L8.53 8.53 7.47 7.47l4.97-4.97H10z\"\n",
       "              ></path>\n",
       "              <path\n",
       "                fill=\"currentColor\"\n",
       "                d=\"M1 2.75A.75.75 0 0 1 1.75 2H8v1.5H2.5v10h10V8H14v6.25a.75.75 0 0 1-.75.75H1.75a.75.75 0 0 1-.75-.75z\"\n",
       "              ></path></svg></span></span\n",
       "      ></a>\n",
       "    </h1>\n",
       "    <p class=\"info\">\n",
       "      Copy the following code snippet in a notebook cell (right click → copy)\n",
       "    </p>\n",
       "    <div class=\"tabs\">\n",
       "      <div class=\"tab active\" onclick=\"tabClicked(0)\">Using synthetic data</div>\n",
       "      <div class=\"tab\" onclick=\"tabClicked(1)\">Using your own dataset</div>\n",
       "    </div>\n",
       "    <div style=\"height: 472px\">\n",
       "      <pre\n",
       "        class=\"active\"\n",
       "      ><code class=\"language-python\">%pip install -U databricks-agents\n",
       "dbutils.library.restartPython()\n",
       "## Run the above in a separate cell ##\n",
       "\n",
       "from databricks.agents.evals import generate_evals_df\n",
       "import mlflow\n",
       "\n",
       "agent_description = &quot;A chatbot that answers questions about Databricks.&quot;\n",
       "question_guidelines = &quot;&quot;&quot;\n",
       "# User personas\n",
       "- A developer new to the Databricks platform\n",
       "# Example questions\n",
       "- What API lets me parallelize operations over rows of a delta table?\n",
       "&quot;&quot;&quot;\n",
       "# TODO: Spark/Pandas DataFrame with &quot;content&quot; and &quot;doc_uri&quot; columns.\n",
       "docs = spark.table(&quot;catalog.schema.my_table_of_docs&quot;)\n",
       "evals = generate_evals_df(\n",
       "    docs=docs,\n",
       "    num_evals=25,\n",
       "    agent_description=agent_description,\n",
       "    question_guidelines=question_guidelines,\n",
       ")\n",
       "eval_result = mlflow.evaluate(data=evals, model=&quot;runs:/67e9e87b02c14641a7a38d42c0ba3771/chain&quot;, model_type=&quot;databricks-agent&quot;)\n",
       "</code></pre>\n",
       "\n",
       "      <pre><code class=\"language-python\">%pip install -U databricks-agents\n",
       "dbutils.library.restartPython()\n",
       "## Run the above in a separate cell ##\n",
       "\n",
       "import pandas as pd\n",
       "import mlflow\n",
       "\n",
       "evals = [\n",
       "    {\n",
       "        &quot;request&quot;: {\n",
       "            &quot;messages&quot;: [\n",
       "                {&quot;role&quot;: &quot;user&quot;, &quot;content&quot;: &quot;How do I convert a Spark DataFrame to Pandas?&quot;}\n",
       "            ],\n",
       "        },\n",
       "        # Optional, needed for judging correctness.\n",
       "        &quot;expected_facts&quot;: [\n",
       "            &quot;To convert a Spark DataFrame to Pandas, you can use the toPandas() method.&quot;\n",
       "        ],\n",
       "    }\n",
       "]\n",
       "eval_result = mlflow.evaluate(\n",
       "    data=pd.DataFrame.from_records(evals), model=&quot;runs:/67e9e87b02c14641a7a38d42c0ba3771/chain&quot;, model_type=&quot;databricks-agent&quot;\n",
       ")\n",
       "</code></pre>\n",
       "    </div>\n",
       "  </div>\n",
       "  <script>\n",
       "    var codeShown = false;\n",
       "    function clip(el) {\n",
       "      var range = document.createRange();\n",
       "      range.selectNodeContents(el);\n",
       "      var sel = window.getSelection();\n",
       "      sel.removeAllRanges();\n",
       "      sel.addRange(range);\n",
       "    }\n",
       "\n",
       "    function toggleCode() {\n",
       "      if (codeShown) {\n",
       "        document.getElementById(\"code\").style.display = \"none\";\n",
       "        codeShown = false;\n",
       "      } else {\n",
       "        document.getElementById(\"code\").style.display = \"block\";\n",
       "        clip(document.querySelector(\"pre.active\"));\n",
       "        codeShown = true;\n",
       "      }\n",
       "      document.getElementById(\"caret\").classList.toggle(\"caret-up\");\n",
       "    }\n",
       "\n",
       "    function tabClicked(tabIndex) {\n",
       "      document.querySelectorAll(\".tab\").forEach((tab, index) => {\n",
       "        if (index === tabIndex) {\n",
       "          tab.classList.add(\"active\");\n",
       "        } else {\n",
       "          tab.classList.remove(\"active\");\n",
       "        }\n",
       "      });\n",
       "      document.querySelectorAll(\"pre\").forEach((pre, index) => {\n",
       "        if (index === tabIndex) {\n",
       "          pre.classList.add(\"active\");\n",
       "        } else {\n",
       "          pre.classList.remove(\"active\");\n",
       "        }\n",
       "      });\n",
       "      clip(document.querySelector(\"pre.active\"));\n",
       "    }\n",
       "  </script>\n",
       "</body>\n"
      ],
      "text/plain": [
       "<IPython.core.display.HTML object>"
      ]
     },
     "metadata": {},
     "output_type": "display_data"
    }
   ],
   "source": [
    "from mlflow.models import infer_signature\n",
    "import mlflow\n",
    "\n",
    "\n",
    "# Set model registry to UC\n",
    "mlflow.set_registry_uri(\"databricks-uc\")\n",
    "model_name = f\"{DA.catalog_name}.{DA.schema_name}.multi_stage_demo\"\n",
    "\n",
    "with mlflow.start_run(run_name=\"multi_stage_demo\") as run:\n",
    "    signature = infer_signature(query, response)\n",
    "    model_info = mlflow.langchain.log_model(\n",
    "        multi_chain,\n",
    "        loader_fn=get_retriever, \n",
    "        artifact_path=\"chain\",\n",
    "        registered_model_name=model_name,\n",
    "        input_example=query,\n",
    "        signature=signature\n",
    "    )"
   ]
  },
  {
   "cell_type": "markdown",
   "metadata": {
    "application/vnd.databricks.v1+cell": {
     "cellMetadata": {},
     "inputWidgets": {},
     "nuid": "89be88fd-d1f3-48bc-8373-38103080a26a",
     "showTitle": false,
     "tableResultSettingsMap": {},
     "title": ""
    }
   },
   "source": [
    "## Load the chain from Model Registry in UC\n",
    "\n",
    "Now that our chain is registered in UC, we can load it and invoke it."
   ]
  },
  {
   "cell_type": "code",
   "execution_count": 0,
   "metadata": {
    "application/vnd.databricks.v1+cell": {
     "cellMetadata": {
      "byteLimit": 2048000,
      "rowLimit": 10000
     },
     "inputWidgets": {},
     "nuid": "38f8740a-413f-4b72-bb3d-287bbd127617",
     "showTitle": false,
     "tableResultSettingsMap": {},
     "title": ""
    }
   },
   "outputs": [
    {
     "output_type": "stream",
     "name": "stdout",
     "output_type": "stream",
     "text": [
      "[NOTICE] Using a notebook authentication token. Recommended for development only. For improved performance, please use Service Principal based authentication. To disable this message, pass disable_notice=True to VectorSearchClient().\n"
     ]
    },
    {
     "output_type": "execute_result",
     "data": {
      "text/plain": [
       "'<p>Machine learning models in Databricks are stored in Unity Catalog as managed tables, which provide a centralized and secure way to manage and share models across the organization. Unity Catalog allows users to register, manage, and deploy machine learning models in a scalable and reliable manner.</p>\\n\\n<p>To learn more about Unity Catalog and machine learning in Databricks, we recommend watching the following videos:</p>\\n\\n<ul>\\n  <li>https://www.youtube.com/watch?v=75QGOtqBj2k</li>\\n  <li>https://www.youtube.com/watch?v=JMlvflzgybk</li>\\n</ul>\\n\\n<p>These videos provide a comprehensive overview of Unity Catalog and its capabilities in managing machine learning models, as well as best practices for implementing a data mesh architecture on Databricks.</p>'"
      ]
     },
     "execution_count": 26,
     "metadata": {},
     "output_type": "execute_result"
    },
    {
     "output_type": "display_data",
     "data": {
      "application/databricks.mlflow.trace": "\"tr-2ef50a01f4be4e248838bc65eac7bb74\"",
      "text/plain": [
       "Trace(request_id=tr-2ef50a01f4be4e248838bc65eac7bb74)"
      ]
     },
     "metadata": {},
     "output_type": "display_data"
    }
   ],
   "source": [
    "model_uri = f\"models:/{model_name}/{model_info.registered_model_version}\"\n",
    "model = mlflow.langchain.load_model(model_uri)\n",
    "\n",
    "model.invoke(\"How machine learning models are stored in Unity Catalog?\")"
   ]
  },
  {
   "cell_type": "markdown",
   "metadata": {
    "application/vnd.databricks.v1+cell": {
     "cellMetadata": {},
     "inputWidgets": {},
     "nuid": "52489f7e-f6fa-4283-a8b1-3c5c3b5ea812",
     "showTitle": false,
     "tableResultSettingsMap": {},
     "title": ""
    }
   },
   "source": [
    "\n",
    "## Conclusion\n",
    "\n",
    "In this demo, we explored building a multi-stage reasoning system with Databricks' tools and LangChain. We began by introducing common system components and then focused on creating chains for specific tasks like answering user queries and finding DAIS-2023 talks. By the end, participants learned to use LangChain beyond just LLMs and construct sequential chains for multi-stage analyses."
   ]
  },
  {
   "cell_type": "markdown",
   "metadata": {
    "application/vnd.databricks.v1+cell": {
     "cellMetadata": {},
     "inputWidgets": {},
     "nuid": "1a650a17-8fa8-459f-bfa8-bfbf4d6cf8d3",
     "showTitle": false,
     "tableResultSettingsMap": {},
     "title": ""
    }
   },
   "source": [
    "\n",
    "&copy; 2025 Databricks, Inc. All rights reserved.<br/>\n",
    "Apache, Apache Spark, Spark and the Spark logo are trademarks of the \n",
    "<a href=\"https://www.apache.org/\">Apache Software Foundation</a>.<br/>\n",
    "<br/><a href=\"https://databricks.com/privacy-policy\">Privacy Policy</a> | \n",
    "<a href=\"https://databricks.com/terms-of-use\">Terms of Use</a> | \n",
    "<a href=\"https://help.databricks.com/\">Support</a>"
   ]
  },
  {
   "cell_type": "code",
   "execution_count": 0,
   "metadata": {
    "application/vnd.databricks.v1+cell": {
     "cellMetadata": {},
     "inputWidgets": {},
     "nuid": "7aed8b16-bcc0-4fc3-bda3-9f1715991a50",
     "showTitle": false,
     "tableResultSettingsMap": {},
     "title": ""
    }
   },
   "outputs": [],
   "source": []
  }
 ],
 "metadata": {
  "application/vnd.databricks.v1+notebook": {
   "computePreferences": null,
   "dashboards": [],
   "environmentMetadata": null,
   "inputWidgetPreferences": null,
   "language": "python",
   "notebookMetadata": {
    "pythonIndentUnit": 4
   },
   "notebookName": "2.1 - Building Multi-stage Reasoning Chain in Databricks",
   "widgets": {}
  },
  "language_info": {
   "name": "python"
  }
 },
 "nbformat": 4,
 "nbformat_minor": 0
}