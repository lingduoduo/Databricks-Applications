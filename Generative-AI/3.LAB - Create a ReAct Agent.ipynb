{
 "cells": [
  {
   "cell_type": "markdown",
   "metadata": {
    "application/vnd.databricks.v1+cell": {
     "cellMetadata": {},
     "inputWidgets": {},
     "nuid": "f84c08e6-4672-4186-b270-d3d99239ea98",
     "showTitle": false,
     "tableResultSettingsMap": {},
     "title": ""
    }
   },
   "source": [
    "\n",
    "<div style=\"text-align: center; line-height: 0; padding-top: 9px;\">\n",
    "  <img src=\"https://databricks.com/wp-content/uploads/2018/03/db-academy-rgb-1200px.png\" alt=\"Databricks Learning\">\n",
    "</div>\n"
   ]
  },
  {
   "cell_type": "markdown",
   "metadata": {
    "application/vnd.databricks.v1+cell": {
     "cellMetadata": {},
     "inputWidgets": {},
     "nuid": "6b74d07c-57b4-4ce6-b2e1-f2d1a4114b49",
     "showTitle": false,
     "tableResultSettingsMap": {},
     "title": ""
    }
   },
   "source": [
    "\n",
    "# LAB - Create a ReAct Agent\n",
    "\n",
    "In this lab, we will create a virtual stock advisor agent that uses the **ReAct** prompting framework. This agent will reason and act based on the prompts and tools provided.\n",
    "\n",
    "Of course, the agent is built for demonstration purposes and the answers shouldn't be used as investment advice!\n",
    "\n",
    "\n",
    "**Lab Outline:**\n",
    "\n",
    "In this lab, you will need to complete the following tasks;\n",
    "\n",
    "* **Task 1 :** Define the agent brain\n",
    "\n",
    "* **Task 2 :** Define the agent tools\n",
    "\n",
    "* **Task 3 :** Define an agent logic\n",
    "\n",
    "* **Task 4 :** Create the agent \n",
    "\n",
    "* **Task 5 :** Run the agent\n",
    "\n",
    "**📝 Your task:** Complete the **`<FILL_IN>`** sections in the code blocks and follow the other steps as instructed."
   ]
  },
  {
   "cell_type": "markdown",
   "metadata": {
    "application/vnd.databricks.v1+cell": {
     "cellMetadata": {},
     "inputWidgets": {},
     "nuid": "485c70a5-cb62-4575-9716-8330e057cce2",
     "showTitle": false,
     "tableResultSettingsMap": {},
     "title": ""
    }
   },
   "source": [
    "## Requirements\n",
    "\n",
    "Please review the following requirements before starting the lesson:\n",
    "\n",
    "* To run this notebook, you need to use one of the following Databricks runtime(s): **15.4.x-cpu-ml-scala2.12**"
   ]
  },
  {
   "cell_type": "markdown",
   "metadata": {
    "application/vnd.databricks.v1+cell": {
     "cellMetadata": {},
     "inputWidgets": {},
     "nuid": "1f299b26-54d4-441b-9fd5-51c6383d29be",
     "showTitle": false,
     "tableResultSettingsMap": {},
     "title": ""
    }
   },
   "source": [
    "\n",
    "## Classroom Setup\n",
    "\n",
    "Before starting the lab, run the provided classroom setup scripts. These scripts will install the required libraries and configure variables which are needed for the lab."
   ]
  },
  {
   "cell_type": "code",
   "execution_count": 0,
   "metadata": {
    "application/vnd.databricks.v1+cell": {
     "cellMetadata": {
      "byteLimit": 2048000,
      "rowLimit": 10000
     },
     "inputWidgets": {},
     "nuid": "2576d18b-3ae5-4f8b-ab0d-e6d12bac35b2",
     "showTitle": false,
     "tableResultSettingsMap": {},
     "title": ""
    }
   },
   "outputs": [
    {
     "output_type": "stream",
     "name": "stdout",
     "output_type": "stream",
     "text": [
      "ERROR: pip's dependency resolver does not currently take into account all the packages that are installed. This behaviour is the source of the following dependency conflicts.\njupyter-server 1.23.4 requires anyio<4,>=3.1.0, but you have anyio 4.9.0 which is incompatible.\n\u001B[43mNote: you may need to restart the kernel using %restart_python or dbutils.library.restartPython() to use updated packages.\u001B[0m\n"
     ]
    }
   ],
   "source": [
    "%pip install -U -qq langchain-databricks langchain==0.3.7 langchain_community==0.3.5 wikipedia==1.4.0 youtube-search duckduckgo-search\n",
    "\n",
    "dbutils.library.restartPython()"
   ]
  },
  {
   "cell_type": "code",
   "execution_count": 0,
   "metadata": {
    "application/vnd.databricks.v1+cell": {
     "cellMetadata": {
      "byteLimit": 2048000,
      "rowLimit": 10000
     },
     "inputWidgets": {},
     "nuid": "ccfe032f-066b-4711-8f1e-f661fa46e366",
     "showTitle": false,
     "tableResultSettingsMap": {},
     "title": ""
    }
   },
   "outputs": [
    {
     "output_type": "stream",
     "name": "stdout",
     "output_type": "stream",
     "text": [
      "\u001B[43mNote: you may need to restart the kernel using %restart_python or dbutils.library.restartPython() to use updated packages.\u001B[0m\n"
     ]
    },
    {
     "output_type": "stream",
     "name": "stdout",
     "output_type": "stream",
     "text": [
      "\nThe examples and models presented in this course are intended solely for demonstration and educational purposes.\n Please note that the models and prompt examples may sometimes contain offensive, inaccurate, biased, or harmful content.\n"
     ]
    },
    {
     "output_type": "stream",
     "name": "stderr",
     "output_type": "stream",
     "text": [
      "2025-04-30 15:54:42,004 26627 ERROR _handle_rpc_error GRPC Error received\nTraceback (most recent call last):\n  File \"/databricks/python/lib/python3.10/site-packages/pyspark/sql/connect/client/core.py\", line 1721, in config\n    resp = self._stub.Config(req, metadata=self.metadata())\n  File \"/databricks/python/lib/python3.10/site-packages/grpc/_interceptor.py\", line 277, in __call__\n    response, ignored_call = self._with_call(\n  File \"/databricks/python/lib/python3.10/site-packages/grpc/_interceptor.py\", line 332, in _with_call\n    return call.result(), call\n  File \"/databricks/python/lib/python3.10/site-packages/grpc/_channel.py\", line 439, in result\n    raise self\n  File \"/databricks/python/lib/python3.10/site-packages/grpc/_interceptor.py\", line 315, in continuation\n    response, call = self._thunk(new_method).with_call(\n  File \"/databricks/python/lib/python3.10/site-packages/grpc/_channel.py\", line 1193, in with_call\n    return _end_unary_response_blocking(state, call, True, None)\n  File \"/databricks/python/lib/python3.10/site-packages/grpc/_channel.py\", line 1005, in _end_unary_response_blocking\n    raise _InactiveRpcError(state)  # pytype: disable=not-instantiable\ngrpc._channel._InactiveRpcError: <_InactiveRpcError of RPC that terminated with:\n\tstatus = StatusCode.INTERNAL\n\tdetails = \"[CONFIG_NOT_AVAILABLE] Configuration DA.datasets.dais is not available. SQLSTATE: 42K0I\"\n\tdebug_error_string = \"UNKNOWN:Error received from peer  {created_time:\"2025-04-30T15:54:42.00359196+00:00\", grpc_status:13, grpc_message:\"[CONFIG_NOT_AVAILABLE] Configuration DA.datasets.dais is not available. SQLSTATE: 42K0I\"}\"\n>\n2025-04-30 15:54:42,004 26627 ERROR _handle_rpc_error GRPC Error received\nTraceback (most recent call last):\n  File \"/databricks/python/lib/python3.10/site-packages/pyspark/sql/connect/client/core.py\", line 1721, in config\n    resp = self._stub.Config(req, metadata=self.metadata())\n  File \"/databricks/python/lib/python3.10/site-packages/grpc/_interceptor.py\", line 277, in __call__\n    response, ignored_call = self._with_call(\n  File \"/databricks/python/lib/python3.10/site-packages/grpc/_interceptor.py\", line 332, in _with_call\n    return call.result(), call\n  File \"/databricks/python/lib/python3.10/site-packages/grpc/_channel.py\", line 439, in result\n    raise self\n  File \"/databricks/python/lib/python3.10/site-packages/grpc/_interceptor.py\", line 315, in continuation\n    response, call = self._thunk(new_method).with_call(\n  File \"/databricks/python/lib/python3.10/site-packages/grpc/_channel.py\", line 1193, in with_call\n    return _end_unary_response_blocking(state, call, True, None)\n  File \"/databricks/python/lib/python3.10/site-packages/grpc/_channel.py\", line 1005, in _end_unary_response_blocking\n    raise _InactiveRpcError(state)  # pytype: disable=not-instantiable\ngrpc._channel._InactiveRpcError: <_InactiveRpcError of RPC that terminated with:\n\tstatus = StatusCode.INTERNAL\n\tdetails = \"[CONFIG_NOT_AVAILABLE] Configuration DA.datasets.dais is not available. SQLSTATE: 42K0I\"\n\tdebug_error_string = \"UNKNOWN:Error received from peer  {created_time:\"2025-04-30T15:54:42.00359196+00:00\", grpc_status:13, grpc_message:\"[CONFIG_NOT_AVAILABLE] Configuration DA.datasets.dais is not available. SQLSTATE: 42K0I\"}\"\n>\nERROR:pyspark.sql.connect.client.logging:GRPC Error received\nTraceback (most recent call last):\n  File \"/databricks/python/lib/python3.10/site-packages/pyspark/sql/connect/client/core.py\", line 1721, in config\n    resp = self._stub.Config(req, metadata=self.metadata())\n  File \"/databricks/python/lib/python3.10/site-packages/grpc/_interceptor.py\", line 277, in __call__\n    response, ignored_call = self._with_call(\n  File \"/databricks/python/lib/python3.10/site-packages/grpc/_interceptor.py\", line 332, in _with_call\n    return call.result(), call\n  File \"/databricks/python/lib/python3.10/site-packages/grpc/_channel.py\", line 439, in result\n    raise self\n  File \"/databricks/python/lib/python3.10/site-packages/grpc/_interceptor.py\", line 315, in continuation\n    response, call = self._thunk(new_method).with_call(\n  File \"/databricks/python/lib/python3.10/site-packages/grpc/_channel.py\", line 1193, in with_call\n    return _end_unary_response_blocking(state, call, True, None)\n  File \"/databricks/python/lib/python3.10/site-packages/grpc/_channel.py\", line 1005, in _end_unary_response_blocking\n    raise _InactiveRpcError(state)  # pytype: disable=not-instantiable\ngrpc._channel._InactiveRpcError: <_InactiveRpcError of RPC that terminated with:\n\tstatus = StatusCode.INTERNAL\n\tdetails = \"[CONFIG_NOT_AVAILABLE] Configuration DA.datasets.dais is not available. SQLSTATE: 42K0I\"\n\tdebug_error_string = \"UNKNOWN:Error received from peer  {created_time:\"2025-04-30T15:54:42.00359196+00:00\", grpc_status:13, grpc_message:\"[CONFIG_NOT_AVAILABLE] Configuration DA.datasets.dais is not available. SQLSTATE: 42K0I\"}\"\n>\n2025-04-30 15:54:42,126 26627 ERROR _handle_rpc_error GRPC Error received\nTraceback (most recent call last):\n  File \"/databricks/python/lib/python3.10/site-packages/pyspark/sql/connect/client/core.py\", line 1721, in config\n    resp = self._stub.Config(req, metadata=self.metadata())\n  File \"/databricks/python/lib/python3.10/site-packages/grpc/_interceptor.py\", line 277, in __call__\n    response, ignored_call = self._with_call(\n  File \"/databricks/python/lib/python3.10/site-packages/grpc/_interceptor.py\", line 332, in _with_call\n    return call.result(), call\n  File \"/databricks/python/lib/python3.10/site-packages/grpc/_channel.py\", line 439, in result\n    raise self\n  File \"/databricks/python/lib/python3.10/site-packages/grpc/_interceptor.py\", line 315, in continuation\n    response, call = self._thunk(new_method).with_call(\n  File \"/databricks/python/lib/python3.10/site-packages/grpc/_channel.py\", line 1193, in with_call\n    return _end_unary_response_blocking(state, call, True, None)\n  File \"/databricks/python/lib/python3.10/site-packages/grpc/_channel.py\", line 1005, in _end_unary_response_blocking\n    raise _InactiveRpcError(state)  # pytype: disable=not-instantiable\ngrpc._channel._InactiveRpcError: <_InactiveRpcError of RPC that terminated with:\n\tstatus = StatusCode.INTERNAL\n\tdetails = \"[CONFIG_NOT_AVAILABLE] Configuration DA.paths.datasets.dais is not available. SQLSTATE: 42K0I\"\n\tdebug_error_string = \"UNKNOWN:Error received from peer  {grpc_message:\"[CONFIG_NOT_AVAILABLE] Configuration DA.paths.datasets.dais is not available. SQLSTATE: 42K0I\", grpc_status:13, created_time:\"2025-04-30T15:54:42.125939466+00:00\"}\"\n>\n2025-04-30 15:54:42,126 26627 ERROR _handle_rpc_error GRPC Error received\nTraceback (most recent call last):\n  File \"/databricks/python/lib/python3.10/site-packages/pyspark/sql/connect/client/core.py\", line 1721, in config\n    resp = self._stub.Config(req, metadata=self.metadata())\n  File \"/databricks/python/lib/python3.10/site-packages/grpc/_interceptor.py\", line 277, in __call__\n    response, ignored_call = self._with_call(\n  File \"/databricks/python/lib/python3.10/site-packages/grpc/_interceptor.py\", line 332, in _with_call\n    return call.result(), call\n  File \"/databricks/python/lib/python3.10/site-packages/grpc/_channel.py\", line 439, in result\n    raise self\n  File \"/databricks/python/lib/python3.10/site-packages/grpc/_interceptor.py\", line 315, in continuation\n    response, call = self._thunk(new_method).with_call(\n  File \"/databricks/python/lib/python3.10/site-packages/grpc/_channel.py\", line 1193, in with_call\n    return _end_unary_response_blocking(state, call, True, None)\n  File \"/databricks/python/lib/python3.10/site-packages/grpc/_channel.py\", line 1005, in _end_unary_response_blocking\n    raise _InactiveRpcError(state)  # pytype: disable=not-instantiable\ngrpc._channel._InactiveRpcError: <_InactiveRpcError of RPC that terminated with:\n\tstatus = StatusCode.INTERNAL\n\tdetails = \"[CONFIG_NOT_AVAILABLE] Configuration DA.paths.datasets.dais is not available. SQLSTATE: 42K0I\"\n\tdebug_error_string = \"UNKNOWN:Error received from peer  {grpc_message:\"[CONFIG_NOT_AVAILABLE] Configuration DA.paths.datasets.dais is not available. SQLSTATE: 42K0I\", grpc_status:13, created_time:\"2025-04-30T15:54:42.125939466+00:00\"}\"\n>\nERROR:pyspark.sql.connect.client.logging:GRPC Error received\nTraceback (most recent call last):\n  File \"/databricks/python/lib/python3.10/site-packages/pyspark/sql/connect/client/core.py\", line 1721, in config\n    resp = self._stub.Config(req, metadata=self.metadata())\n  File \"/databricks/python/lib/python3.10/site-packages/grpc/_interceptor.py\", line 277, in __call__\n    response, ignored_call = self._with_call(\n  File \"/databricks/python/lib/python3.10/site-packages/grpc/_interceptor.py\", line 332, in _with_call\n    return call.result(), call\n  File \"/databricks/python/lib/python3.10/site-packages/grpc/_channel.py\", line 439, in result\n    raise self\n  File \"/databricks/python/lib/python3.10/site-packages/grpc/_interceptor.py\", line 315, in continuation\n    response, call = self._thunk(new_method).with_call(\n  File \"/databricks/python/lib/python3.10/site-packages/grpc/_channel.py\", line 1193, in with_call\n    return _end_unary_response_blocking(state, call, True, None)\n  File \"/databricks/python/lib/python3.10/site-packages/grpc/_channel.py\", line 1005, in _end_unary_response_blocking\n    raise _InactiveRpcError(state)  # pytype: disable=not-instantiable\ngrpc._channel._InactiveRpcError: <_InactiveRpcError of RPC that terminated with:\n\tstatus = StatusCode.INTERNAL\n\tdetails = \"[CONFIG_NOT_AVAILABLE] Configuration DA.paths.datasets.dais is not available. SQLSTATE: 42K0I\"\n\tdebug_error_string = \"UNKNOWN:Error received from peer  {grpc_message:\"[CONFIG_NOT_AVAILABLE] Configuration DA.paths.datasets.dais is not available. SQLSTATE: 42K0I\", grpc_status:13, created_time:\"2025-04-30T15:54:42.125939466+00:00\"}\"\n>\n2025-04-30 15:54:42,226 26627 ERROR _handle_rpc_error GRPC Error received\nTraceback (most recent call last):\n  File \"/databricks/python/lib/python3.10/site-packages/pyspark/sql/connect/client/core.py\", line 1721, in config\n    resp = self._stub.Config(req, metadata=self.metadata())\n  File \"/databricks/python/lib/python3.10/site-packages/grpc/_interceptor.py\", line 277, in __call__\n    response, ignored_call = self._with_call(\n  File \"/databricks/python/lib/python3.10/site-packages/grpc/_interceptor.py\", line 332, in _with_call\n    return call.result(), call\n  File \"/databricks/python/lib/python3.10/site-packages/grpc/_channel.py\", line 439, in result\n    raise self\n  File \"/databricks/python/lib/python3.10/site-packages/grpc/_interceptor.py\", line 315, in continuation\n    response, call = self._thunk(new_method).with_call(\n  File \"/databricks/python/lib/python3.10/site-packages/grpc/_channel.py\", line 1193, in with_call\n    return _end_unary_response_blocking(state, call, True, None)\n  File \"/databricks/python/lib/python3.10/site-packages/grpc/_channel.py\", line 1005, in _end_unary_response_blocking\n    raise _InactiveRpcError(state)  # pytype: disable=not-instantiable\ngrpc._channel._InactiveRpcError: <_InactiveRpcError of RPC that terminated with:\n\tstatus = StatusCode.INTERNAL\n\tdetails = \"[CONFIG_NOT_AVAILABLE] Configuration DA.username is not available. SQLSTATE: 42K0I\"\n\tdebug_error_string = \"UNKNOWN:Error received from peer  {created_time:\"2025-04-30T15:54:42.226280253+00:00\", grpc_status:13, grpc_message:\"[CONFIG_NOT_AVAILABLE] Configuration DA.username is not available. SQLSTATE: 42K0I\"}\"\n>\n2025-04-30 15:54:42,226 26627 ERROR _handle_rpc_error GRPC Error received\nTraceback (most recent call last):\n  File \"/databricks/python/lib/python3.10/site-packages/pyspark/sql/connect/client/core.py\", line 1721, in config\n    resp = self._stub.Config(req, metadata=self.metadata())\n  File \"/databricks/python/lib/python3.10/site-packages/grpc/_interceptor.py\", line 277, in __call__\n    response, ignored_call = self._with_call(\n  File \"/databricks/python/lib/python3.10/site-packages/grpc/_interceptor.py\", line 332, in _with_call\n    return call.result(), call\n  File \"/databricks/python/lib/python3.10/site-packages/grpc/_channel.py\", line 439, in result\n    raise self\n  File \"/databricks/python/lib/python3.10/site-packages/grpc/_interceptor.py\", line 315, in continuation\n    response, call = self._thunk(new_method).with_call(\n  File \"/databricks/python/lib/python3.10/site-packages/grpc/_channel.py\", line 1193, in with_call\n    return _end_unary_response_blocking(state, call, True, None)\n  File \"/databricks/python/lib/python3.10/site-packages/grpc/_channel.py\", line 1005, in _end_unary_response_blocking\n    raise _InactiveRpcError(state)  # pytype: disable=not-instantiable\ngrpc._channel._InactiveRpcError: <_InactiveRpcError of RPC that terminated with:\n\tstatus = StatusCode.INTERNAL\n\tdetails = \"[CONFIG_NOT_AVAILABLE] Configuration DA.username is not available. SQLSTATE: 42K0I\"\n\tdebug_error_string = \"UNKNOWN:Error received from peer  {created_time:\"2025-04-30T15:54:42.226280253+00:00\", grpc_status:13, grpc_message:\"[CONFIG_NOT_AVAILABLE] Configuration DA.username is not available. SQLSTATE: 42K0I\"}\"\n>\nERROR:pyspark.sql.connect.client.logging:GRPC Error received\nTraceback (most recent call last):\n  File \"/databricks/python/lib/python3.10/site-packages/pyspark/sql/connect/client/core.py\", line 1721, in config\n    resp = self._stub.Config(req, metadata=self.metadata())\n  File \"/databricks/python/lib/python3.10/site-packages/grpc/_interceptor.py\", line 277, in __call__\n    response, ignored_call = self._with_call(\n  File \"/databricks/python/lib/python3.10/site-packages/grpc/_interceptor.py\", line 332, in _with_call\n    return call.result(), call\n  File \"/databricks/python/lib/python3.10/site-packages/grpc/_channel.py\", line 439, in result\n    raise self\n  File \"/databricks/python/lib/python3.10/site-packages/grpc/_interceptor.py\", line 315, in continuation\n    response, call = self._thunk(new_method).with_call(\n  File \"/databricks/python/lib/python3.10/site-packages/grpc/_channel.py\", line 1193, in with_call\n    return _end_unary_response_blocking(state, call, True, None)\n  File \"/databricks/python/lib/python3.10/site-packages/grpc/_channel.py\", line 1005, in _end_unary_response_blocking\n    raise _InactiveRpcError(state)  # pytype: disable=not-instantiable\ngrpc._channel._InactiveRpcError: <_InactiveRpcError of RPC that terminated with:\n\tstatus = StatusCode.INTERNAL\n\tdetails = \"[CONFIG_NOT_AVAILABLE] Configuration DA.username is not available. SQLSTATE: 42K0I\"\n\tdebug_error_string = \"UNKNOWN:Error received from peer  {created_time:\"2025-04-30T15:54:42.226280253+00:00\", grpc_status:13, grpc_message:\"[CONFIG_NOT_AVAILABLE] Configuration DA.username is not available. SQLSTATE: 42K0I\"}\"\n>\n2025-04-30 15:54:42,332 26627 ERROR _handle_rpc_error GRPC Error received\nTraceback (most recent call last):\n  File \"/databricks/python/lib/python3.10/site-packages/pyspark/sql/connect/client/core.py\", line 1721, in config\n    resp = self._stub.Config(req, metadata=self.metadata())\n  File \"/databricks/python/lib/python3.10/site-packages/grpc/_interceptor.py\", line 277, in __call__\n    response, ignored_call = self._with_call(\n  File \"/databricks/python/lib/python3.10/site-packages/grpc/_interceptor.py\", line 332, in _with_call\n    return call.result(), call\n  File \"/databricks/python/lib/python3.10/site-packages/grpc/_channel.py\", line 439, in result\n    raise self\n  File \"/databricks/python/lib/python3.10/site-packages/grpc/_interceptor.py\", line 315, in continuation\n    response, call = self._thunk(new_method).with_call(\n  File \"/databricks/python/lib/python3.10/site-packages/grpc/_channel.py\", line 1193, in with_call\n    return _end_unary_response_blocking(state, call, True, None)\n  File \"/databricks/python/lib/python3.10/site-packages/grpc/_channel.py\", line 1005, in _end_unary_response_blocking\n    raise _InactiveRpcError(state)  # pytype: disable=not-instantiable\ngrpc._channel._InactiveRpcError: <_InactiveRpcError of RPC that terminated with:\n\tstatus = StatusCode.INTERNAL\n\tdetails = \"[CONFIG_NOT_AVAILABLE] Configuration DA.catalog_name is not available. SQLSTATE: 42K0I\"\n\tdebug_error_string = \"UNKNOWN:Error received from peer  {created_time:\"2025-04-30T15:54:42.33142854+00:00\", grpc_status:13, grpc_message:\"[CONFIG_NOT_AVAILABLE] Configuration DA.catalog_name is not available. SQLSTATE: 42K0I\"}\"\n>\n2025-04-30 15:54:42,332 26627 ERROR _handle_rpc_error GRPC Error received\nTraceback (most recent call last):\n  File \"/databricks/python/lib/python3.10/site-packages/pyspark/sql/connect/client/core.py\", line 1721, in config\n    resp = self._stub.Config(req, metadata=self.metadata())\n  File \"/databricks/python/lib/python3.10/site-packages/grpc/_interceptor.py\", line 277, in __call__\n    response, ignored_call = self._with_call(\n  File \"/databricks/python/lib/python3.10/site-packages/grpc/_interceptor.py\", line 332, in _with_call\n    return call.result(), call\n  File \"/databricks/python/lib/python3.10/site-packages/grpc/_channel.py\", line 439, in result\n    raise self\n  File \"/databricks/python/lib/python3.10/site-packages/grpc/_interceptor.py\", line 315, in continuation\n    response, call = self._thunk(new_method).with_call(\n  File \"/databricks/python/lib/python3.10/site-packages/grpc/_channel.py\", line 1193, in with_call\n    return _end_unary_response_blocking(state, call, True, None)\n  File \"/databricks/python/lib/python3.10/site-packages/grpc/_channel.py\", line 1005, in _end_unary_response_blocking\n    raise _InactiveRpcError(state)  # pytype: disable=not-instantiable\ngrpc._channel._InactiveRpcError: <_InactiveRpcError of RPC that terminated with:\n\tstatus = StatusCode.INTERNAL\n\tdetails = \"[CONFIG_NOT_AVAILABLE] Configuration DA.catalog_name is not available. SQLSTATE: 42K0I\"\n\tdebug_error_string = \"UNKNOWN:Error received from peer  {created_time:\"2025-04-30T15:54:42.33142854+00:00\", grpc_status:13, grpc_message:\"[CONFIG_NOT_AVAILABLE] Configuration DA.catalog_name is not available. SQLSTATE: 42K0I\"}\"\n>\nERROR:pyspark.sql.connect.client.logging:GRPC Error received\nTraceback (most recent call last):\n  File \"/databricks/python/lib/python3.10/site-packages/pyspark/sql/connect/client/core.py\", line 1721, in config\n    resp = self._stub.Config(req, metadata=self.metadata())\n  File \"/databricks/python/lib/python3.10/site-packages/grpc/_interceptor.py\", line 277, in __call__\n    response, ignored_call = self._with_call(\n  File \"/databricks/python/lib/python3.10/site-packages/grpc/_interceptor.py\", line 332, in _with_call\n    return call.result(), call\n  File \"/databricks/python/lib/python3.10/site-packages/grpc/_channel.py\", line 439, in result\n    raise self\n  File \"/databricks/python/lib/python3.10/site-packages/grpc/_interceptor.py\", line 315, in continuation\n    response, call = self._thunk(new_method).with_call(\n  File \"/databricks/python/lib/python3.10/site-packages/grpc/_channel.py\", line 1193, in with_call\n    return _end_unary_response_blocking(state, call, True, None)\n  File \"/databricks/python/lib/python3.10/site-packages/grpc/_channel.py\", line 1005, in _end_unary_response_blocking\n    raise _InactiveRpcError(state)  # pytype: disable=not-instantiable\ngrpc._channel._InactiveRpcError: <_InactiveRpcError of RPC that terminated with:\n\tstatus = StatusCode.INTERNAL\n\tdetails = \"[CONFIG_NOT_AVAILABLE] Configuration DA.catalog_name is not available. SQLSTATE: 42K0I\"\n\tdebug_error_string = \"UNKNOWN:Error received from peer  {created_time:\"2025-04-30T15:54:42.33142854+00:00\", grpc_status:13, grpc_message:\"[CONFIG_NOT_AVAILABLE] Configuration DA.catalog_name is not available. SQLSTATE: 42K0I\"}\"\n>\n2025-04-30 15:54:42,435 26627 ERROR _handle_rpc_error GRPC Error received\nTraceback (most recent call last):\n  File \"/databricks/python/lib/python3.10/site-packages/pyspark/sql/connect/client/core.py\", line 1721, in config\n    resp = self._stub.Config(req, metadata=self.metadata())\n  File \"/databricks/python/lib/python3.10/site-packages/grpc/_interceptor.py\", line 277, in __call__\n    response, ignored_call = self._with_call(\n  File \"/databricks/python/lib/python3.10/site-packages/grpc/_interceptor.py\", line 332, in _with_call\n    return call.result(), call\n  File \"/databricks/python/lib/python3.10/site-packages/grpc/_channel.py\", line 439, in result\n    raise self\n  File \"/databricks/python/lib/python3.10/site-packages/grpc/_interceptor.py\", line 315, in continuation\n    response, call = self._thunk(new_method).with_call(\n  File \"/databricks/python/lib/python3.10/site-packages/grpc/_channel.py\", line 1193, in with_call\n    return _end_unary_response_blocking(state, call, True, None)\n  File \"/databricks/python/lib/python3.10/site-packages/grpc/_channel.py\", line 1005, in _end_unary_response_blocking\n    raise _InactiveRpcError(state)  # pytype: disable=not-instantiable\ngrpc._channel._InactiveRpcError: <_InactiveRpcError of RPC that terminated with:\n\tstatus = StatusCode.INTERNAL\n\tdetails = \"[CONFIG_NOT_AVAILABLE] Configuration DA.schema_name is not available. SQLSTATE: 42K0I\"\n\tdebug_error_string = \"UNKNOWN:Error received from peer  {created_time:\"2025-04-30T15:54:42.435400699+00:00\", grpc_status:13, grpc_message:\"[CONFIG_NOT_AVAILABLE] Configuration DA.schema_name is not available. SQLSTATE: 42K0I\"}\"\n>\n2025-04-30 15:54:42,435 26627 ERROR _handle_rpc_error GRPC Error received\nTraceback (most recent call last):\n  File \"/databricks/python/lib/python3.10/site-packages/pyspark/sql/connect/client/core.py\", line 1721, in config\n    resp = self._stub.Config(req, metadata=self.metadata())\n  File \"/databricks/python/lib/python3.10/site-packages/grpc/_interceptor.py\", line 277, in __call__\n    response, ignored_call = self._with_call(\n  File \"/databricks/python/lib/python3.10/site-packages/grpc/_interceptor.py\", line 332, in _with_call\n    return call.result(), call\n  File \"/databricks/python/lib/python3.10/site-packages/grpc/_channel.py\", line 439, in result\n    raise self\n  File \"/databricks/python/lib/python3.10/site-packages/grpc/_interceptor.py\", line 315, in continuation\n    response, call = self._thunk(new_method).with_call(\n  File \"/databricks/python/lib/python3.10/site-packages/grpc/_channel.py\", line 1193, in with_call\n    return _end_unary_response_blocking(state, call, True, None)\n  File \"/databricks/python/lib/python3.10/site-packages/grpc/_channel.py\", line 1005, in _end_unary_response_blocking\n    raise _InactiveRpcError(state)  # pytype: disable=not-instantiable\ngrpc._channel._InactiveRpcError: <_InactiveRpcError of RPC that terminated with:\n\tstatus = StatusCode.INTERNAL\n\tdetails = \"[CONFIG_NOT_AVAILABLE] Configuration DA.schema_name is not available. SQLSTATE: 42K0I\"\n\tdebug_error_string = \"UNKNOWN:Error received from peer  {created_time:\"2025-04-30T15:54:42.435400699+00:00\", grpc_status:13, grpc_message:\"[CONFIG_NOT_AVAILABLE] Configuration DA.schema_name is not available. SQLSTATE: 42K0I\"}\"\n>\nERROR:pyspark.sql.connect.client.logging:GRPC Error received\nTraceback (most recent call last):\n  File \"/databricks/python/lib/python3.10/site-packages/pyspark/sql/connect/client/core.py\", line 1721, in config\n    resp = self._stub.Config(req, metadata=self.metadata())\n  File \"/databricks/python/lib/python3.10/site-packages/grpc/_interceptor.py\", line 277, in __call__\n    response, ignored_call = self._with_call(\n  File \"/databricks/python/lib/python3.10/site-packages/grpc/_interceptor.py\", line 332, in _with_call\n    return call.result(), call\n  File \"/databricks/python/lib/python3.10/site-packages/grpc/_channel.py\", line 439, in result\n    raise self\n  File \"/databricks/python/lib/python3.10/site-packages/grpc/_interceptor.py\", line 315, in continuation\n    response, call = self._thunk(new_method).with_call(\n  File \"/databricks/python/lib/python3.10/site-packages/grpc/_channel.py\", line 1193, in with_call\n    return _end_unary_response_blocking(state, call, True, None)\n  File \"/databricks/python/lib/python3.10/site-packages/grpc/_channel.py\", line 1005, in _end_unary_response_blocking\n    raise _InactiveRpcError(state)  # pytype: disable=not-instantiable\ngrpc._channel._InactiveRpcError: <_InactiveRpcError of RPC that terminated with:\n\tstatus = StatusCode.INTERNAL\n\tdetails = \"[CONFIG_NOT_AVAILABLE] Configuration DA.schema_name is not available. SQLSTATE: 42K0I\"\n\tdebug_error_string = \"UNKNOWN:Error received from peer  {created_time:\"2025-04-30T15:54:42.435400699+00:00\", grpc_status:13, grpc_message:\"[CONFIG_NOT_AVAILABLE] Configuration DA.schema_name is not available. SQLSTATE: 42K0I\"}\"\n>\n2025-04-30 15:54:42,533 26627 ERROR _handle_rpc_error GRPC Error received\nTraceback (most recent call last):\n  File \"/databricks/python/lib/python3.10/site-packages/pyspark/sql/connect/client/core.py\", line 1721, in config\n    resp = self._stub.Config(req, metadata=self.metadata())\n  File \"/databricks/python/lib/python3.10/site-packages/grpc/_interceptor.py\", line 277, in __call__\n    response, ignored_call = self._with_call(\n  File \"/databricks/python/lib/python3.10/site-packages/grpc/_interceptor.py\", line 332, in _with_call\n    return call.result(), call\n  File \"/databricks/python/lib/python3.10/site-packages/grpc/_channel.py\", line 439, in result\n    raise self\n  File \"/databricks/python/lib/python3.10/site-packages/grpc/_interceptor.py\", line 315, in continuation\n    response, call = self._thunk(new_method).with_call(\n  File \"/databricks/python/lib/python3.10/site-packages/grpc/_channel.py\", line 1193, in with_call\n    return _end_unary_response_blocking(state, call, True, None)\n  File \"/databricks/python/lib/python3.10/site-packages/grpc/_channel.py\", line 1005, in _end_unary_response_blocking\n    raise _InactiveRpcError(state)  # pytype: disable=not-instantiable\ngrpc._channel._InactiveRpcError: <_InactiveRpcError of RPC that terminated with:\n\tstatus = StatusCode.INTERNAL\n\tdetails = \"[CONFIG_NOT_AVAILABLE] Configuration DA.paths.working_dir is not available. SQLSTATE: 42K0I\"\n\tdebug_error_string = \"UNKNOWN:Error received from peer  {grpc_message:\"[CONFIG_NOT_AVAILABLE] Configuration DA.paths.working_dir is not available. SQLSTATE: 42K0I\", grpc_status:13, created_time:\"2025-04-30T15:54:42.532904494+00:00\"}\"\n>\n2025-04-30 15:54:42,533 26627 ERROR _handle_rpc_error GRPC Error received\nTraceback (most recent call last):\n  File \"/databricks/python/lib/python3.10/site-packages/pyspark/sql/connect/client/core.py\", line 1721, in config\n    resp = self._stub.Config(req, metadata=self.metadata())\n  File \"/databricks/python/lib/python3.10/site-packages/grpc/_interceptor.py\", line 277, in __call__\n    response, ignored_call = self._with_call(\n  File \"/databricks/python/lib/python3.10/site-packages/grpc/_interceptor.py\", line 332, in _with_call\n    return call.result(), call\n  File \"/databricks/python/lib/python3.10/site-packages/grpc/_channel.py\", line 439, in result\n    raise self\n  File \"/databricks/python/lib/python3.10/site-packages/grpc/_interceptor.py\", line 315, in continuation\n    response, call = self._thunk(new_method).with_call(\n  File \"/databricks/python/lib/python3.10/site-packages/grpc/_channel.py\", line 1193, in with_call\n    return _end_unary_response_blocking(state, call, True, None)\n  File \"/databricks/python/lib/python3.10/site-packages/grpc/_channel.py\", line 1005, in _end_unary_response_blocking\n    raise _InactiveRpcError(state)  # pytype: disable=not-instantiable\ngrpc._channel._InactiveRpcError: <_InactiveRpcError of RPC that terminated with:\n\tstatus = StatusCode.INTERNAL\n\tdetails = \"[CONFIG_NOT_AVAILABLE] Configuration DA.paths.working_dir is not available. SQLSTATE: 42K0I\"\n\tdebug_error_string = \"UNKNOWN:Error received from peer  {grpc_message:\"[CONFIG_NOT_AVAILABLE] Configuration DA.paths.working_dir is not available. SQLSTATE: 42K0I\", grpc_status:13, created_time:\"2025-04-30T15:54:42.532904494+00:00\"}\"\n>\nERROR:pyspark.sql.connect.client.logging:GRPC Error received\nTraceback (most recent call last):\n  File \"/databricks/python/lib/python3.10/site-packages/pyspark/sql/connect/client/core.py\", line 1721, in config\n    resp = self._stub.Config(req, metadata=self.metadata())\n  File \"/databricks/python/lib/python3.10/site-packages/grpc/_interceptor.py\", line 277, in __call__\n    response, ignored_call = self._with_call(\n  File \"/databricks/python/lib/python3.10/site-packages/grpc/_interceptor.py\", line 332, in _with_call\n    return call.result(), call\n  File \"/databricks/python/lib/python3.10/site-packages/grpc/_channel.py\", line 439, in result\n    raise self\n  File \"/databricks/python/lib/python3.10/site-packages/grpc/_interceptor.py\", line 315, in continuation\n    response, call = self._thunk(new_method).with_call(\n  File \"/databricks/python/lib/python3.10/site-packages/grpc/_channel.py\", line 1193, in with_call\n    return _end_unary_response_blocking(state, call, True, None)\n  File \"/databricks/python/lib/python3.10/site-packages/grpc/_channel.py\", line 1005, in _end_unary_response_blocking\n    raise _InactiveRpcError(state)  # pytype: disable=not-instantiable\ngrpc._channel._InactiveRpcError: <_InactiveRpcError of RPC that terminated with:\n\tstatus = StatusCode.INTERNAL\n\tdetails = \"[CONFIG_NOT_AVAILABLE] Configuration DA.paths.working_dir is not available. SQLSTATE: 42K0I\"\n\tdebug_error_string = \"UNKNOWN:Error received from peer  {grpc_message:\"[CONFIG_NOT_AVAILABLE] Configuration DA.paths.working_dir is not available. SQLSTATE: 42K0I\", grpc_status:13, created_time:\"2025-04-30T15:54:42.532904494+00:00\"}\"\n>\n2025-04-30 15:54:42,620 26627 ERROR _handle_rpc_error GRPC Error received\nTraceback (most recent call last):\n  File \"/databricks/python/lib/python3.10/site-packages/pyspark/sql/connect/client/core.py\", line 1721, in config\n    resp = self._stub.Config(req, metadata=self.metadata())\n  File \"/databricks/python/lib/python3.10/site-packages/grpc/_interceptor.py\", line 277, in __call__\n    response, ignored_call = self._with_call(\n  File \"/databricks/python/lib/python3.10/site-packages/grpc/_interceptor.py\", line 332, in _with_call\n    return call.result(), call\n  File \"/databricks/python/lib/python3.10/site-packages/grpc/_channel.py\", line 439, in result\n    raise self\n  File \"/databricks/python/lib/python3.10/site-packages/grpc/_interceptor.py\", line 315, in continuation\n    response, call = self._thunk(new_method).with_call(\n  File \"/databricks/python/lib/python3.10/site-packages/grpc/_channel.py\", line 1193, in with_call\n    return _end_unary_response_blocking(state, call, True, None)\n  File \"/databricks/python/lib/python3.10/site-packages/grpc/_channel.py\", line 1005, in _end_unary_response_blocking\n    raise _InactiveRpcError(state)  # pytype: disable=not-instantiable\ngrpc._channel._InactiveRpcError: <_InactiveRpcError of RPC that terminated with:\n\tstatus = StatusCode.INTERNAL\n\tdetails = \"[CONFIG_NOT_AVAILABLE] Configuration DA.cluster_name is not available. SQLSTATE: 42K0I\"\n\tdebug_error_string = \"UNKNOWN:Error received from peer  {grpc_message:\"[CONFIG_NOT_AVAILABLE] Configuration DA.cluster_name is not available. SQLSTATE: 42K0I\", grpc_status:13, created_time:\"2025-04-30T15:54:42.620196828+00:00\"}\"\n>\n2025-04-30 15:54:42,620 26627 ERROR _handle_rpc_error GRPC Error received\nTraceback (most recent call last):\n  File \"/databricks/python/lib/python3.10/site-packages/pyspark/sql/connect/client/core.py\", line 1721, in config\n    resp = self._stub.Config(req, metadata=self.metadata())\n  File \"/databricks/python/lib/python3.10/site-packages/grpc/_interceptor.py\", line 277, in __call__\n    response, ignored_call = self._with_call(\n  File \"/databricks/python/lib/python3.10/site-packages/grpc/_interceptor.py\", line 332, in _with_call\n    return call.result(), call\n  File \"/databricks/python/lib/python3.10/site-packages/grpc/_channel.py\", line 439, in result\n    raise self\n  File \"/databricks/python/lib/python3.10/site-packages/grpc/_interceptor.py\", line 315, in continuation\n    response, call = self._thunk(new_method).with_call(\n  File \"/databricks/python/lib/python3.10/site-packages/grpc/_channel.py\", line 1193, in with_call\n    return _end_unary_response_blocking(state, call, True, None)\n  File \"/databricks/python/lib/python3.10/site-packages/grpc/_channel.py\", line 1005, in _end_unary_response_blocking\n    raise _InactiveRpcError(state)  # pytype: disable=not-instantiable\ngrpc._channel._InactiveRpcError: <_InactiveRpcError of RPC that terminated with:\n\tstatus = StatusCode.INTERNAL\n\tdetails = \"[CONFIG_NOT_AVAILABLE] Configuration DA.cluster_name is not available. SQLSTATE: 42K0I\"\n\tdebug_error_string = \"UNKNOWN:Error received from peer  {grpc_message:\"[CONFIG_NOT_AVAILABLE] Configuration DA.cluster_name is not available. SQLSTATE: 42K0I\", grpc_status:13, created_time:\"2025-04-30T15:54:42.620196828+00:00\"}\"\n>\nERROR:pyspark.sql.connect.client.logging:GRPC Error received\nTraceback (most recent call last):\n  File \"/databricks/python/lib/python3.10/site-packages/pyspark/sql/connect/client/core.py\", line 1721, in config\n    resp = self._stub.Config(req, metadata=self.metadata())\n  File \"/databricks/python/lib/python3.10/site-packages/grpc/_interceptor.py\", line 277, in __call__\n    response, ignored_call = self._with_call(\n  File \"/databricks/python/lib/python3.10/site-packages/grpc/_interceptor.py\", line 332, in _with_call\n    return call.result(), call\n  File \"/databricks/python/lib/python3.10/site-packages/grpc/_channel.py\", line 439, in result\n    raise self\n  File \"/databricks/python/lib/python3.10/site-packages/grpc/_interceptor.py\", line 315, in continuation\n    response, call = self._thunk(new_method).with_call(\n  File \"/databricks/python/lib/python3.10/site-packages/grpc/_channel.py\", line 1193, in with_call\n    return _end_unary_response_blocking(state, call, True, None)\n  File \"/databricks/python/lib/python3.10/site-packages/grpc/_channel.py\", line 1005, in _end_unary_response_blocking\n    raise _InactiveRpcError(state)  # pytype: disable=not-instantiable\ngrpc._channel._InactiveRpcError: <_InactiveRpcError of RPC that terminated with:\n\tstatus = StatusCode.INTERNAL\n\tdetails = \"[CONFIG_NOT_AVAILABLE] Configuration DA.cluster_name is not available. SQLSTATE: 42K0I\"\n\tdebug_error_string = \"UNKNOWN:Error received from peer  {grpc_message:\"[CONFIG_NOT_AVAILABLE] Configuration DA.cluster_name is not available. SQLSTATE: 42K0I\", grpc_status:13, created_time:\"2025-04-30T15:54:42.620196828+00:00\"}\"\n>\n2025-04-30 15:54:42,724 26627 ERROR _handle_rpc_error GRPC Error received\nTraceback (most recent call last):\n  File \"/databricks/python/lib/python3.10/site-packages/pyspark/sql/connect/client/core.py\", line 1721, in config\n    resp = self._stub.Config(req, metadata=self.metadata())\n  File \"/databricks/python/lib/python3.10/site-packages/grpc/_interceptor.py\", line 277, in __call__\n    response, ignored_call = self._with_call(\n  File \"/databricks/python/lib/python3.10/site-packages/grpc/_interceptor.py\", line 332, in _with_call\n    return call.result(), call\n  File \"/databricks/python/lib/python3.10/site-packages/grpc/_channel.py\", line 439, in result\n    raise self\n  File \"/databricks/python/lib/python3.10/site-packages/grpc/_interceptor.py\", line 315, in continuation\n    response, call = self._thunk(new_method).with_call(\n  File \"/databricks/python/lib/python3.10/site-packages/grpc/_channel.py\", line 1193, in with_call\n    return _end_unary_response_blocking(state, call, True, None)\n  File \"/databricks/python/lib/python3.10/site-packages/grpc/_channel.py\", line 1005, in _end_unary_response_blocking\n    raise _InactiveRpcError(state)  # pytype: disable=not-instantiable\ngrpc._channel._InactiveRpcError: <_InactiveRpcError of RPC that terminated with:\n\tstatus = StatusCode.INTERNAL\n\tdetails = \"[CONFIG_NOT_AVAILABLE] Configuration DA.pseudonym is not available. SQLSTATE: 42K0I\"\n\tdebug_error_string = \"UNKNOWN:Error received from peer  {grpc_message:\"[CONFIG_NOT_AVAILABLE] Configuration DA.pseudonym is not available. SQLSTATE: 42K0I\", grpc_status:13, created_time:\"2025-04-30T15:54:42.724384968+00:00\"}\"\n>\n2025-04-30 15:54:42,724 26627 ERROR _handle_rpc_error GRPC Error received\nTraceback (most recent call last):\n  File \"/databricks/python/lib/python3.10/site-packages/pyspark/sql/connect/client/core.py\", line 1721, in config\n    resp = self._stub.Config(req, metadata=self.metadata())\n  File \"/databricks/python/lib/python3.10/site-packages/grpc/_interceptor.py\", line 277, in __call__\n    response, ignored_call = self._with_call(\n  File \"/databricks/python/lib/python3.10/site-packages/grpc/_interceptor.py\", line 332, in _with_call\n    return call.result(), call\n  File \"/databricks/python/lib/python3.10/site-packages/grpc/_channel.py\", line 439, in result\n    raise self\n  File \"/databricks/python/lib/python3.10/site-packages/grpc/_interceptor.py\", line 315, in continuation\n    response, call = self._thunk(new_method).with_call(\n  File \"/databricks/python/lib/python3.10/site-packages/grpc/_channel.py\", line 1193, in with_call\n    return _end_unary_response_blocking(state, call, True, None)\n  File \"/databricks/python/lib/python3.10/site-packages/grpc/_channel.py\", line 1005, in _end_unary_response_blocking\n    raise _InactiveRpcError(state)  # pytype: disable=not-instantiable\ngrpc._channel._InactiveRpcError: <_InactiveRpcError of RPC that terminated with:\n\tstatus = StatusCode.INTERNAL\n\tdetails = \"[CONFIG_NOT_AVAILABLE] Configuration DA.pseudonym is not available. SQLSTATE: 42K0I\"\n\tdebug_error_string = \"UNKNOWN:Error received from peer  {grpc_message:\"[CONFIG_NOT_AVAILABLE] Configuration DA.pseudonym is not available. SQLSTATE: 42K0I\", grpc_status:13, created_time:\"2025-04-30T15:54:42.724384968+00:00\"}\"\n>\nERROR:pyspark.sql.connect.client.logging:GRPC Error received\nTraceback (most recent call last):\n  File \"/databricks/python/lib/python3.10/site-packages/pyspark/sql/connect/client/core.py\", line 1721, in config\n    resp = self._stub.Config(req, metadata=self.metadata())\n  File \"/databricks/python/lib/python3.10/site-packages/grpc/_interceptor.py\", line 277, in __call__\n    response, ignored_call = self._with_call(\n  File \"/databricks/python/lib/python3.10/site-packages/grpc/_interceptor.py\", line 332, in _with_call\n    return call.result(), call\n  File \"/databricks/python/lib/python3.10/site-packages/grpc/_channel.py\", line 439, in result\n    raise self\n  File \"/databricks/python/lib/python3.10/site-packages/grpc/_interceptor.py\", line 315, in continuation\n    response, call = self._thunk(new_method).with_call(\n  File \"/databricks/python/lib/python3.10/site-packages/grpc/_channel.py\", line 1193, in with_call\n    return _end_unary_response_blocking(state, call, True, None)\n  File \"/databricks/python/lib/python3.10/site-packages/grpc/_channel.py\", line 1005, in _end_unary_response_blocking\n    raise _InactiveRpcError(state)  # pytype: disable=not-instantiable\ngrpc._channel._InactiveRpcError: <_InactiveRpcError of RPC that terminated with:\n\tstatus = StatusCode.INTERNAL\n\tdetails = \"[CONFIG_NOT_AVAILABLE] Configuration DA.pseudonym is not available. SQLSTATE: 42K0I\"\n\tdebug_error_string = \"UNKNOWN:Error received from peer  {grpc_message:\"[CONFIG_NOT_AVAILABLE] Configuration DA.pseudonym is not available. SQLSTATE: 42K0I\", grpc_status:13, created_time:\"2025-04-30T15:54:42.724384968+00:00\"}\"\n>\n"
     ]
    }
   ],
   "source": [
    "%run ../Includes/Classroom-Setup-03LAB"
   ]
  },
  {
   "cell_type": "markdown",
   "metadata": {
    "application/vnd.databricks.v1+cell": {
     "cellMetadata": {},
     "inputWidgets": {},
     "nuid": "3699c221-f38b-40e5-aaa8-01337ac48319",
     "showTitle": false,
     "tableResultSettingsMap": {},
     "title": ""
    }
   },
   "source": [
    "**Enable MLflow Auto-Log**"
   ]
  },
  {
   "cell_type": "code",
   "execution_count": 0,
   "metadata": {
    "application/vnd.databricks.v1+cell": {
     "cellMetadata": {
      "byteLimit": 2048000,
      "rowLimit": 10000
     },
     "inputWidgets": {},
     "nuid": "dae2be55-f00f-43dc-97d1-9e5d63f529b2",
     "showTitle": false,
     "tableResultSettingsMap": {},
     "title": ""
    }
   },
   "outputs": [],
   "source": [
    "import mlflow\n",
    "mlflow.langchain.autolog()"
   ]
  },
  {
   "cell_type": "markdown",
   "metadata": {
    "application/vnd.databricks.v1+cell": {
     "cellMetadata": {},
     "inputWidgets": {},
     "nuid": "434eeeeb-a210-4fe2-9672-3e1da2eb8cb3",
     "showTitle": false,
     "tableResultSettingsMap": {},
     "title": ""
    }
   },
   "source": [
    "**Other Conventions:**\n",
    "\n",
    "Throughout this demo, we'll refer to the object `DA`. This object, provided by Databricks Academy, contains variables such as your username, catalog name, schema name, working directory, and dataset locations. Run the code block below to view these details:"
   ]
  },
  {
   "cell_type": "code",
   "execution_count": 0,
   "metadata": {
    "application/vnd.databricks.v1+cell": {
     "cellMetadata": {
      "byteLimit": 2048000,
      "rowLimit": 10000
     },
     "inputWidgets": {},
     "nuid": "3ff40ba9-efd2-48df-aa15-55ed5d31d9f4",
     "showTitle": false,
     "tableResultSettingsMap": {},
     "title": ""
    }
   },
   "outputs": [
    {
     "output_type": "stream",
     "name": "stdout",
     "output_type": "stream",
     "text": [
      "Username:          labuser10152510_1746020930@vocareum.com\nCatalog Name:      dbacademy\nSchema Name:       labuser10152510_1746020930\nWorking Directory: /Volumes/dbacademy/ops/labuser10152510_1746020930@vocareum_com\nDataset Location:  NestedNamespace (dais='/Volumes/dbacademy_dais/v01')\n"
     ]
    }
   ],
   "source": [
    "print(f\"Username:          {DA.username}\")\n",
    "print(f\"Catalog Name:      {DA.catalog_name}\")\n",
    "print(f\"Schema Name:       {DA.schema_name}\")\n",
    "print(f\"Working Directory: {DA.paths.working_dir}\")\n",
    "print(f\"Dataset Location:  {DA.paths.datasets}\")"
   ]
  },
  {
   "cell_type": "markdown",
   "metadata": {
    "application/vnd.databricks.v1+cell": {
     "cellMetadata": {},
     "inputWidgets": {},
     "nuid": "99288841-9d07-4e15-b680-a44224af58cf",
     "showTitle": false,
     "tableResultSettingsMap": {},
     "title": ""
    }
   },
   "source": [
    "## Task 1: Define the Brain of the Agent\n",
    "\n",
    "Let's start by defining the agent brain using one of the available LLMs on Databricks.\n",
    "\n",
    "* For this lab, use **databricks-meta-llama-3-3-70b-instruct** \n",
    "\n",
    "* Define the maximum number of tokens"
   ]
  },
  {
   "cell_type": "code",
   "execution_count": 0,
   "metadata": {
    "application/vnd.databricks.v1+cell": {
     "cellMetadata": {
      "byteLimit": 2048000,
      "rowLimit": 10000
     },
     "inputWidgets": {},
     "nuid": "5d168195-a643-4f91-9966-540dec965c9a",
     "showTitle": false,
     "tableResultSettingsMap": {},
     "title": ""
    }
   },
   "outputs": [
    {
     "output_type": "stream",
     "name": "stderr",
     "output_type": "stream",
     "text": [
      "/home/spark-6a681e8a-a99d-4bcc-9a97-64/.ipykernel/26627/command-3951983942472383-4136645084:5: LangChainDeprecationWarning: Use databricks_langchain.ChatDatabricks\n  llm_llama = ChatDatabricks(endpoint=\"databricks-meta-llama-3-3-70b-instruct\", max_tokens = 2500)\n"
     ]
    }
   ],
   "source": [
    "from langchain.agents import AgentType, initialize_agent\n",
    "from langchain_databricks import ChatDatabricks\n",
    "\n",
    "# define the brain\n",
    "llm_llama = ChatDatabricks(endpoint=\"databricks-meta-llama-3-3-70b-instruct\", max_tokens = 2500)"
   ]
  },
  {
   "cell_type": "code",
   "execution_count": 0,
   "metadata": {
    "application/vnd.databricks.v1+cell": {
     "cellMetadata": {
      "byteLimit": 2048000,
      "rowLimit": 10000
     },
     "inputWidgets": {},
     "nuid": "940dfa6e-769d-4e13-9d5f-508bfb528f1f",
     "showTitle": false,
     "tableResultSettingsMap": {},
     "title": ""
    }
   },
   "outputs": [
    {
     "output_type": "execute_result",
     "data": {
      "text/plain": [
       "AIMessage(content=\"Hello! I'm just a language model, so I don't have feelings or emotions like humans do, but I'm functioning properly and ready to help with any questions or tasks you may have! How about you? How's your day going so far?\", additional_kwargs={}, response_metadata={'prompt_tokens': 16, 'completion_tokens': 52, 'total_tokens': 68}, id='run-db7348f8-c795-4ba2-90e0-0660509fce5a-0')"
      ]
     },
     "execution_count": 10,
     "metadata": {},
     "output_type": "execute_result"
    },
    {
     "output_type": "display_data",
     "data": {
      "application/databricks.mlflow.trace": "\"tr-36e95bffe54d4d2e8e3387d263b38a37\"",
      "text/plain": [
       "Trace(request_id=tr-36e95bffe54d4d2e8e3387d263b38a37)"
      ]
     },
     "metadata": {},
     "output_type": "display_data"
    }
   ],
   "source": [
    "# let's test the brain\n",
    "llm_llama.invoke(\"Hi! How are you?\")"
   ]
  },
  {
   "cell_type": "markdown",
   "metadata": {
    "application/vnd.databricks.v1+cell": {
     "cellMetadata": {},
     "inputWidgets": {},
     "nuid": "d806f45b-dd14-42cf-89a5-429617212cc4",
     "showTitle": false,
     "tableResultSettingsMap": {},
     "title": ""
    }
   },
   "source": [
    "## Task 2 : Define Tools that the Agent Will Use\n",
    "\n",
    "For an agent, the toolset is a crucial component to complete the defined task. The agent will reason about the next action to take and use an appropriate tool to complete that action.\n",
    "\n",
    "For our stock advisor agent, we will use the following tools:\n",
    "\n",
    "* **Wikipedia tool**: For searching company details. [[LangChain Doc](https://python.langchain.com/docs/integrations/tools/wikipedia/)]\n",
    "\n",
    "* **DuckDuckGo Search tool**: This will be used for searching the latest news and updates about a stock.[[LangChain Doc](https://python.langchain.com/docs/integrations/tools/ddg/)]\n",
    "\n",
    "* **YouTube search tool**: This will be used to search for review videos about the latest financial reports. [[LangChain Doc](https://python.langchain.com/docs/integrations/tools/youtube/)]"
   ]
  },
  {
   "cell_type": "markdown",
   "metadata": {
    "application/vnd.databricks.v1+cell": {
     "cellMetadata": {},
     "inputWidgets": {},
     "nuid": "a4bcafa4-7144-40fd-b3ed-7280a2c51c76",
     "showTitle": false,
     "tableResultSettingsMap": {},
     "title": ""
    }
   },
   "source": [
    "### Wikipedia Tool"
   ]
  },
  {
   "cell_type": "code",
   "execution_count": 0,
   "metadata": {
    "application/vnd.databricks.v1+cell": {
     "cellMetadata": {
      "byteLimit": 2048000,
      "rowLimit": 10000
     },
     "inputWidgets": {},
     "nuid": "0a944e34-f216-45cb-8fc0-fe7edc529849",
     "showTitle": false,
     "tableResultSettingsMap": {},
     "title": ""
    }
   },
   "outputs": [],
   "source": [
    "from langchain.tools import WikipediaQueryRun\n",
    "from langchain_community.utilities import WikipediaAPIWrapper\n",
    "\n",
    "api_wrapper = WikipediaAPIWrapper(top_k_results=3, doc_content_chars_max=1000)\n",
    "tool_wiki = WikipediaQueryRun(api_wrapper=api_wrapper)"
   ]
  },
  {
   "cell_type": "code",
   "execution_count": 0,
   "metadata": {
    "application/vnd.databricks.v1+cell": {
     "cellMetadata": {
      "byteLimit": 2048000,
      "rowLimit": 10000
     },
     "inputWidgets": {},
     "nuid": "915f9575-2a83-464e-a500-e139b7aa7d88",
     "showTitle": false,
     "tableResultSettingsMap": {},
     "title": ""
    }
   },
   "outputs": [
    {
     "output_type": "execute_result",
     "data": {
      "text/plain": [
       "\"Page: Apple Inc.\\nSummary: Apple Inc. is an American multinational corporation and technology company headquartered in Cupertino, California, in Silicon Valley. It is best known for its consumer electronics, software, and services. Founded in 1976 as Apple Computer Company by Steve Jobs, Steve Wozniak and Ronald Wayne, the company was incorporated by Jobs and Wozniak as Apple Computer, Inc. the following year. It was renamed Apple Inc. in 2007 as the company had expanded its focus from computers to consumer electronics. Apple is the largest technology company by revenue, with US$391.04 billion in the 2024 fiscal year.\\nThe company was founded to produce and market Wozniak's Apple I personal computer. Its second computer, the Apple II, became a best seller as one of the first mass-produced microcomputers. Apple introduced the Lisa in 1983 and the Macintosh in 1984, as some of the first computers to use a graphical user interface and a mouse. By 1985, internal company problems led to Jobs \""
      ]
     },
     "execution_count": 12,
     "metadata": {},
     "output_type": "execute_result"
    },
    {
     "output_type": "display_data",
     "data": {
      "application/databricks.mlflow.trace": "\"tr-578f543a35924a1eb0d01e288039f115\"",
      "text/plain": [
       "Trace(request_id=tr-578f543a35924a1eb0d01e288039f115)"
      ]
     },
     "metadata": {},
     "output_type": "display_data"
    }
   ],
   "source": [
    "# Test the Wikipedia tool\n",
    "tool_wiki.run(\"Apple company history\")"
   ]
  },
  {
   "cell_type": "markdown",
   "metadata": {
    "application/vnd.databricks.v1+cell": {
     "cellMetadata": {},
     "inputWidgets": {},
     "nuid": "28c15955-d393-47a4-8a05-773e1d61cf78",
     "showTitle": false,
     "tableResultSettingsMap": {},
     "title": ""
    }
   },
   "source": [
    "### DuckDuckGo Search Tool"
   ]
  },
  {
   "cell_type": "code",
   "execution_count": 0,
   "metadata": {
    "application/vnd.databricks.v1+cell": {
     "cellMetadata": {
      "byteLimit": 2048000,
      "rowLimit": 10000
     },
     "inputWidgets": {},
     "nuid": "dcbd3707-09dd-4b07-bf2c-ae9a86672bab",
     "showTitle": false,
     "tableResultSettingsMap": {},
     "title": ""
    }
   },
   "outputs": [],
   "source": [
    "# DuckDuckGo Search Tool\n",
    "from langchain_community.tools.ddg_search import DuckDuckGoSearchRun\n",
    "\n",
    "tool_news = DuckDuckGoSearchRun()"
   ]
  },
  {
   "cell_type": "code",
   "execution_count": 0,
   "metadata": {
    "application/vnd.databricks.v1+cell": {
     "cellMetadata": {
      "byteLimit": 2048000,
      "rowLimit": 10000
     },
     "inputWidgets": {},
     "nuid": "b4a3813b-ee6a-450e-8dde-70e0ca7a9695",
     "showTitle": false,
     "tableResultSettingsMap": {},
     "title": ""
    }
   },
   "outputs": [
    {
     "output_type": "stream",
     "name": "stderr",
     "output_type": "stream",
     "text": [
      "/local_disk0/.ephemeral_nfs/envs/pythonEnv-6a681e8a-a99d-4bcc-9a97-64714f559fb6/lib/python3.10/site-packages/langchain_community/utilities/duckduckgo_search.py:64: UserWarning: backend='api' is deprecated, using backend='auto'\n  ddgs_gen = ddgs.text(\n"
     ]
    },
    {
     "output_type": "execute_result",
     "data": {
      "text/plain": [
       "\"Get the latest news on Apple stock with updates on market trends, financials, and analysis from Benzinga. Stay informed on AAPL performance Get a real-time Apple Inc. (AAPL) stock price with an overview of financials, statistics, forecasts, charts and more. ... The 12-month stock price forecast is $235.93, which is an increase of 12.27% from the latest price. Price Target. $235.93 (12.27% upside) Analyst Consensus: Buy. Stock Forecasts. News. All; ... Daily market news in bullet ... Prakash Investment Advisors LLC acquired a new stake in Apple Inc. (NASDAQ:AAPL - Free Report) in the 4th quarter, according to the company in its most recent filing with the SEC. The firm acquired 31,151 shares of the iPhone maker's stock, valued at approximately $7,801,000. Stay up-to-date on Apple Inc. Common Stock (AAPL) news with the latest updates, breaking headlines, news articles, and more from around the web at Nasdaq.com. Apple is scheduled to report fiscal second-quarter earnings after the closing bell Thursday. Bank of America recently trimmed its price target for Apple stock amid concerns about shifting trade ...\""
      ]
     },
     "execution_count": 14,
     "metadata": {},
     "output_type": "execute_result"
    },
    {
     "output_type": "display_data",
     "data": {
      "application/databricks.mlflow.trace": "\"tr-d3c73647c95f4383b41d564e9e5342c9\"",
      "text/plain": [
       "Trace(request_id=tr-d3c73647c95f4383b41d564e9e5342c9)"
      ]
     },
     "metadata": {},
     "output_type": "display_data"
    }
   ],
   "source": [
    "# Test DuckDuckGo tool\n",
    "tool_news.run(\"Latest news about Apple stock\")"
   ]
  },
  {
   "cell_type": "markdown",
   "metadata": {
    "application/vnd.databricks.v1+cell": {
     "cellMetadata": {},
     "inputWidgets": {},
     "nuid": "8f6b6024-deee-4bc0-8ca8-9363eb10bf1e",
     "showTitle": false,
     "tableResultSettingsMap": {},
     "title": ""
    }
   },
   "source": [
    "### YouTube Search Tool"
   ]
  },
  {
   "cell_type": "code",
   "execution_count": 0,
   "metadata": {
    "application/vnd.databricks.v1+cell": {
     "cellMetadata": {
      "byteLimit": 2048000,
      "rowLimit": 10000
     },
     "inputWidgets": {},
     "nuid": "b620c93f-99a8-431d-8387-8d8ec853cab2",
     "showTitle": false,
     "tableResultSettingsMap": {},
     "title": ""
    }
   },
   "outputs": [],
   "source": [
    "from langchain_community.tools import YouTubeSearchTool\n",
    "\n",
    "tool_youtube = YouTubeSearchTool()"
   ]
  },
  {
   "cell_type": "code",
   "execution_count": 0,
   "metadata": {
    "application/vnd.databricks.v1+cell": {
     "cellMetadata": {
      "byteLimit": 2048000,
      "rowLimit": 10000
     },
     "inputWidgets": {},
     "nuid": "6f019ca7-8693-4278-832a-127dc548d5a9",
     "showTitle": false,
     "tableResultSettingsMap": {},
     "title": ""
    }
   },
   "outputs": [
    {
     "output_type": "execute_result",
     "data": {
      "text/plain": [
       "\"['https://www.youtube.com/watch?v=9fQwp4UHZHQ&pp=ygUTQXBwbGUgY29tcGFueSBzdG9jaw%3D%3D', 'https://www.youtube.com/watch?v=-jICRX_YDUA&pp=ygUTQXBwbGUgY29tcGFueSBzdG9jaw%3D%3D']\""
      ]
     },
     "execution_count": 16,
     "metadata": {},
     "output_type": "execute_result"
    },
    {
     "output_type": "display_data",
     "data": {
      "application/databricks.mlflow.trace": "\"tr-9f82eb16fa7b49ccbc0ad38fa63b91b4\"",
      "text/plain": [
       "Trace(request_id=tr-9f82eb16fa7b49ccbc0ad38fa63b91b4)"
      ]
     },
     "metadata": {},
     "output_type": "display_data"
    }
   ],
   "source": [
    "# Test the YouTube search tool \n",
    "tool_youtube.run(\"Apple company stock\")"
   ]
  },
  {
   "cell_type": "markdown",
   "metadata": {
    "application/vnd.databricks.v1+cell": {
     "cellMetadata": {},
     "inputWidgets": {},
     "nuid": "50628fab-ef40-488f-b7a9-4e78e9c1b87d",
     "showTitle": false,
     "tableResultSettingsMap": {},
     "title": ""
    }
   },
   "source": [
    "### Define Toolset\n",
    "\n",
    "Next, add all tools together to be used in the next step."
   ]
  },
  {
   "cell_type": "code",
   "execution_count": 0,
   "metadata": {
    "application/vnd.databricks.v1+cell": {
     "cellMetadata": {
      "byteLimit": 2048000,
      "rowLimit": 10000
     },
     "inputWidgets": {},
     "nuid": "1bf29d0a-5bb1-4677-8202-5ae4cd30ff95",
     "showTitle": false,
     "tableResultSettingsMap": {},
     "title": ""
    }
   },
   "outputs": [],
   "source": [
    "tools = [tool_wiki, tool_youtube, tool_news]"
   ]
  },
  {
   "cell_type": "markdown",
   "metadata": {
    "application/vnd.databricks.v1+cell": {
     "cellMetadata": {},
     "inputWidgets": {},
     "nuid": "1d688bab-b469-4888-8a71-446eea516189",
     "showTitle": false,
     "tableResultSettingsMap": {},
     "title": ""
    }
   },
   "source": [
    "## Task 3: Define Agent Logic\n",
    "\n",
    "An agent requires a planning prompt that defines how it should **reason and act**. LangChain provides a few ready-to-use prompt templates through its **[LangChain Hub](https://smith.langchain.com/hub)**, including those that follow the **ReAct (Reason + Act)** style.\n",
    "\n",
    "In this task, you'll pull a pre-defined ReAct-style prompt from LangChain Hub, which is designed to work with tool-using agents.\n",
    "\n",
    "> 💡 Using the Hub simplifies your code and ensures you're working with prompt templates that are community-tested and regularly maintained.\n",
    "\n",
    "📚 [Learn more: LangChain Agent Executor Documentation](https://python.langchain.com/docs/how_to/agent_executor/#create-the-agent)"
   ]
  },
  {
   "cell_type": "code",
   "execution_count": 0,
   "metadata": {
    "application/vnd.databricks.v1+cell": {
     "cellMetadata": {
      "byteLimit": 2048000,
      "rowLimit": 10000
     },
     "inputWidgets": {},
     "nuid": "afa7631b-fdfd-4509-8822-64d00a522781",
     "showTitle": false,
     "tableResultSettingsMap": {},
     "title": ""
    }
   },
   "outputs": [
    {
     "output_type": "stream",
     "name": "stderr",
     "output_type": "stream",
     "text": [
      "/local_disk0/.ephemeral_nfs/envs/pythonEnv-6a681e8a-a99d-4bcc-9a97-64714f559fb6/lib/python3.10/site-packages/langsmith/client.py:241: LangSmithMissingAPIKeyWarning: API key must be provided when using hosted LangSmith API\n  warnings.warn(\n"
     ]
    },
    {
     "output_type": "execute_result",
     "data": {
      "text/plain": [
       "[SystemMessagePromptTemplate(prompt=PromptTemplate(input_variables=[], input_types={}, partial_variables={}, template='You are a helpful assistant'), additional_kwargs={}),\n",
       " MessagesPlaceholder(variable_name='chat_history', optional=True),\n",
       " HumanMessagePromptTemplate(prompt=PromptTemplate(input_variables=['input'], input_types={}, partial_variables={}, template='{input}'), additional_kwargs={}),\n",
       " MessagesPlaceholder(variable_name='agent_scratchpad')]"
      ]
     },
     "execution_count": 18,
     "metadata": {},
     "output_type": "execute_result"
    }
   ],
   "source": [
    "# Import LangChain Hub\n",
    "from langchain import hub\n",
    "\n",
    "# Pull a ReAct-style prompt for function/tool-calling agents\n",
    "prompt = hub.pull(\"hwchase17/openai-functions-agent\")\n",
    "\n",
    "# Display the prompt structure\n",
    "prompt.messages"
   ]
  },
  {
   "cell_type": "markdown",
   "metadata": {
    "application/vnd.databricks.v1+cell": {
     "cellMetadata": {},
     "inputWidgets": {},
     "nuid": "e7a68cf7-afb2-4a92-80da-e9d8a4f40e74",
     "showTitle": false,
     "tableResultSettingsMap": {},
     "title": ""
    }
   },
   "source": [
    "## Task 4: Create the Agent\n",
    "\n",
    "The final step is to create the agent using the LLM, planning prompt and toolset."
   ]
  },
  {
   "cell_type": "code",
   "execution_count": 0,
   "metadata": {
    "application/vnd.databricks.v1+cell": {
     "cellMetadata": {
      "byteLimit": 2048000,
      "rowLimit": 10000
     },
     "inputWidgets": {},
     "nuid": "8b0e5e51-2ebc-41a1-bc5b-e17b9d03f21d",
     "showTitle": false,
     "tableResultSettingsMap": {},
     "title": ""
    }
   },
   "outputs": [],
   "source": [
    "from langchain.agents import AgentExecutor, create_tool_calling_agent\n",
    "\n",
    "agent = create_tool_calling_agent(llm_llama, tools, prompt)\n",
    "agent_exec  = AgentExecutor(agent=agent, tools=tools, verbose=True, handle_parsing_errors=True)"
   ]
  },
  {
   "cell_type": "markdown",
   "metadata": {
    "application/vnd.databricks.v1+cell": {
     "cellMetadata": {},
     "inputWidgets": {},
     "nuid": "f2f48ffa-185f-45bd-a216-c4dcd0ee1203",
     "showTitle": false,
     "tableResultSettingsMap": {},
     "title": ""
    }
   },
   "source": [
    "## Task 5: Run the Agent\n",
    "\n",
    "Let's test the agent!\n",
    "\n",
    "Note: YouTube search might not return the best results. For better results, you could use a paid API/Service that supports better search.\n",
    "\n",
    "**Use this prompt:**\n",
    "<blockquote>\n",
    "What do you think about investing in Apple stock? Provide an overview of the latest news about the company. Next, search a video on YouTube which reviews Apple's latest financials.\n",
    "\n",
    "Format the final answer as HTML.\n",
    "</blockquote>\n"
   ]
  },
  {
   "cell_type": "code",
   "execution_count": 0,
   "metadata": {
    "application/vnd.databricks.v1+cell": {
     "cellMetadata": {
      "byteLimit": 2048000,
      "rowLimit": 10000
     },
     "inputWidgets": {},
     "nuid": "398234b9-257c-46da-be77-ea29c2eff294",
     "showTitle": false,
     "tableResultSettingsMap": {},
     "title": ""
    }
   },
   "outputs": [
    {
     "output_type": "stream",
     "name": "stdout",
     "output_type": "stream",
     "text": [
      "\n\n\u001B[1m> Entering new AgentExecutor chain...\u001B[0m\n\u001B[32;1m\u001B[1;3m<p>Investing in Apple stock can be a viable option for those looking to diversify their portfolio with a well-established technology company. As one of the world's largest and most successful companies, Apple has a strong track record of innovation and customer loyalty. However, it's essential to stay up-to-date with the latest news and trends affecting the company's stock performance.</p>\n\n<p>To get an overview of the latest news about Apple, let's search for information on DuckDuckGo: <function=duckduckgo_search>{ \"query\": \"Apple latest news\" }</function>\u001B[0m\n\n\u001B[1m> Finished chain.\u001B[0m\n"
     ]
    },
    {
     "output_type": "display_data",
     "data": {
      "text/html": [
       "<p>Investing in Apple stock can be a viable option for those looking to diversify their portfolio with a well-established technology company. As one of the world's largest and most successful companies, Apple has a strong track record of innovation and customer loyalty. However, it's essential to stay up-to-date with the latest news and trends affecting the company's stock performance.</p>\n",
       "\n",
       "<p>To get an overview of the latest news about Apple, let's search for information on DuckDuckGo: <function=duckduckgo_search>{ \"query\": \"Apple latest news\" }</function>"
      ]
     },
     "metadata": {},
     "output_type": "display_data"
    },
    {
     "output_type": "display_data",
     "data": {
      "application/databricks.mlflow.trace": "\"tr-e2532629fe97472281bb6d270ac09918\"",
      "text/plain": [
       "Trace(request_id=tr-e2532629fe97472281bb6d270ac09918)"
      ]
     },
     "metadata": {},
     "output_type": "display_data"
    }
   ],
   "source": [
    "response = agent_exec.invoke({\"input\": \n",
    "    \"\"\"\n",
    "    What do you think about investing in Apple stock? Provide an overview of the latest news about the company. Next, search a video on YouTube which reviews Apple's latest financials.\n",
    "\n",
    "    Format the final answer as HTML.\n",
    "    \"\"\"})\n",
    "\n",
    "displayHTML(response[\"output\"])"
   ]
  },
  {
   "cell_type": "markdown",
   "metadata": {
    "application/vnd.databricks.v1+cell": {
     "cellMetadata": {},
     "inputWidgets": {},
     "nuid": "abcc6c47-b97c-464a-b3e7-da3ed35d9942",
     "showTitle": false,
     "tableResultSettingsMap": {},
     "title": ""
    }
   },
   "source": [
    "It seems like the agent uses company name only when searching for videos. **Let's play with the prompt to get better results.**\n",
    "\n",
    "In real-world, the agent would be used in a conversational way and we would just chat with the agent to tweak the search query or to adjust the response in a desired format. \n",
    "\n",
    "**Use this prompt:**\n",
    "<blockquote>\n",
    "What do you think about investing in Apple stock? Provide an overview of the latest news about the company. Next, search a video on YouTube which reviews Apple's latest financials.\n",
    "\n",
    "When searching on YouTube use such as \"Apple  stock finance investment earnings valuation\".\n",
    "\n",
    "Write a nice summary of the results.\n",
    "\n",
    "Format the final answer as HTML.\n",
    "</blockquote>"
   ]
  },
  {
   "cell_type": "code",
   "execution_count": 0,
   "metadata": {
    "application/vnd.databricks.v1+cell": {
     "cellMetadata": {
      "byteLimit": 2048000,
      "rowLimit": 10000
     },
     "inputWidgets": {},
     "nuid": "b0d2f216-22ab-4fbd-bc7b-3153b29ef672",
     "showTitle": false,
     "tableResultSettingsMap": {},
     "title": ""
    }
   },
   "outputs": [
    {
     "output_type": "stream",
     "name": "stdout",
     "output_type": "stream",
     "text": [
      "\n\n\u001B[1m> Entering new AgentExecutor chain...\u001B[0m\n\u001B[32;1m\u001B[1;3m\nInvoking: `duckduckgo_search` with `{'query': 'Apple latest news'}`\n\n\n\u001B[0m"
     ]
    },
    {
     "output_type": "stream",
     "name": "stderr",
     "output_type": "stream",
     "text": [
      "/local_disk0/.ephemeral_nfs/envs/pythonEnv-6a681e8a-a99d-4bcc-9a97-64714f559fb6/lib/python3.10/site-packages/langchain_community/utilities/duckduckgo_search.py:64: UserWarning: backend='api' is deprecated, using backend='auto'\n  ddgs_gen = ddgs.text(\n"
     ]
    },
    {
     "output_type": "stream",
     "name": "stdout",
     "output_type": "stream",
     "text": [
      "\u001B[38;5;200m\u001B[1;3mCraft is constantly adding new features to its notes and documents experience on the iPhone, iPad, Mac, Apple Vision Pro, and web. The latest addition is integration with Readwise, a service that ... CUPERTINO, CALIFORNIA Apple today announced its largest-ever spend commitment, with plans to spend and invest more than $500 billion in the U.S. over the next four years. This new pledge builds on Apple's long history of investing in American innovation and advanced high-skilled manufacturing, and will support a wide range of initiatives that focus on artificial intelligence, silicon ... Find news about Apple Company News in the Apple Newsroom archive. Access press releases, updates, photos, videos and more. Apple; ... Apple Services; Apple Stories; Search Newsroom Close. opens in new window. Latest News. Company News. PRESS RELEASE. Apple will spend more than $500 billion in the U.S. over the next four years. February 24, 2025 ... 7NEWS brings you the latest Apple news from Australia and around the world. Stay up to date with all of the breaking Apple headlines and reports. Today's Apple news, live updates & all of the latest breaking stories from 7NEWS. ... How Apple's new budget-friendly iPhone stacks up to current lineup. 2 min read. iPhone users report alarming ... Latest Market News . Trump eases auto tariffs. UPS is cutting 20,000 jobs. It's not what you think. ... The new Apple Watch 10 is the thinnest smartwatch Apple has made yet - and it has the ...\u001B[0m\u001B[32;1m\u001B[1;3m\nInvoking: `youtube_search` with `{'query': 'Apple stock finance investment earnings valuation'}`\n\n\n\u001B[0m\u001B[33;1m\u001B[1;3m['https://www.youtube.com/watch?v=jIxFGVq58hs&pp=ygUxQXBwbGUgc3RvY2sgZmluYW5jZSBpbnZlc3RtZW50IGVhcm5pbmdzIHZhbHVhdGlvbg%3D%3D', 'https://www.youtube.com/watch?v=7_xRp18H6W8&pp=ygUxQXBwbGUgc3RvY2sgZmluYW5jZSBpbnZlc3RtZW50IGVhcm5pbmdzIHZhbHVhdGlvbg%3D%3D']\u001B[0m\u001B[32;1m\u001B[1;3m<html>\n  <body>\n    <h1>Investing in Apple Stock: An Overview</h1>\n    <p>Apple has recently announced its largest-ever spend commitment, with plans to spend and invest more than $500 billion in the U.S. over the next four years. This new pledge builds on Apple's long history of investing in American innovation and advanced high-skilled manufacturing, and will support a wide range of initiatives that focus on artificial intelligence, silicon, and more.</p>\n    <p>For those interested in investing in Apple stock, it's essential to stay up-to-date with the latest news and financials. A review of Apple's latest financials can be found on YouTube, with videos discussing the company's earnings, valuation, and investment opportunities.</p>\n    <p>Some recommended videos include:\n    <ul>\n      <li><a href=\"https://www.youtube.com/watch?v=jIxFGVq58hs\">Apple Stock Finance Investment Earnings Valuation</a></li>\n      <li><a href=\"https://www.youtube.com/watch?v=7_xRp18H6W8\">Apple Stock Finance Investment Earnings Valuation</a></li>\n    </ul>\n    </p>\n    <p>These videos provide an in-depth analysis of Apple's financial performance and offer insights into the company's future prospects. By staying informed and doing your own research, you can make a more informed decision about investing in Apple stock.</p>\n  </body>\n</html>\u001B[0m\n\n\u001B[1m> Finished chain.\u001B[0m\n"
     ]
    },
    {
     "output_type": "display_data",
     "data": {
      "text/html": [
       "<html>\n",
       "  <body>\n",
       "    <h1>Investing in Apple Stock: An Overview</h1>\n",
       "    <p>Apple has recently announced its largest-ever spend commitment, with plans to spend and invest more than $500 billion in the U.S. over the next four years. This new pledge builds on Apple's long history of investing in American innovation and advanced high-skilled manufacturing, and will support a wide range of initiatives that focus on artificial intelligence, silicon, and more.</p>\n",
       "    <p>For those interested in investing in Apple stock, it's essential to stay up-to-date with the latest news and financials. A review of Apple's latest financials can be found on YouTube, with videos discussing the company's earnings, valuation, and investment opportunities.</p>\n",
       "    <p>Some recommended videos include:\n",
       "    <ul>\n",
       "      <li><a href=\"https://www.youtube.com/watch?v=jIxFGVq58hs\">Apple Stock Finance Investment Earnings Valuation</a></li>\n",
       "      <li><a href=\"https://www.youtube.com/watch?v=7_xRp18H6W8\">Apple Stock Finance Investment Earnings Valuation</a></li>\n",
       "    </ul>\n",
       "    </p>\n",
       "    <p>These videos provide an in-depth analysis of Apple's financial performance and offer insights into the company's future prospects. By staying informed and doing your own research, you can make a more informed decision about investing in Apple stock.</p>\n",
       "  </body>\n",
       "</html>"
      ]
     },
     "metadata": {},
     "output_type": "display_data"
    },
    {
     "output_type": "display_data",
     "data": {
      "application/databricks.mlflow.trace": "\"tr-313b095f6bf940a3b4aebb57e82b2913\"",
      "text/plain": [
       "Trace(request_id=tr-313b095f6bf940a3b4aebb57e82b2913)"
      ]
     },
     "metadata": {},
     "output_type": "display_data"
    }
   ],
   "source": [
    "response = agent_exec.invoke({\"input\": \n",
    "    \"\"\"\n",
    "    What do you think about investing in Apple stock? Provide an overview of the latest news about the company. Next, search a video on YouTube which reviews Apple's latest financials.\n",
    "    When searching on YouTube use such as \"Apple  stock finance investment earnings valuation\".\n",
    "\n",
    "    Write a nice summary of the results.\n",
    "\n",
    "    Format the final answer as HTML.\n",
    "\n",
    "    \"\"\"})\n",
    "displayHTML(response[\"output\"])"
   ]
  },
  {
   "cell_type": "markdown",
   "metadata": {
    "application/vnd.databricks.v1+cell": {
     "cellMetadata": {},
     "inputWidgets": {},
     "nuid": "de35ecc7-2a74-4a93-b364-70b375e23e87",
     "showTitle": false,
     "tableResultSettingsMap": {},
     "title": ""
    }
   },
   "source": [
    "\n",
    "## Conclusion\n",
    "\n",
    "In this lab, you successfully created a virtual stock advisor agent using the ReAct prompting framework. By defining the agent's brain, tools, logic, and execution flow, you demonstrated how the agent can interact with various data sources to provide investment insights."
   ]
  },
  {
   "cell_type": "markdown",
   "metadata": {
    "application/vnd.databricks.v1+cell": {
     "cellMetadata": {},
     "inputWidgets": {},
     "nuid": "4683b291-bc9d-49f1-8fae-2e4d21118695",
     "showTitle": false,
     "tableResultSettingsMap": {},
     "title": ""
    }
   },
   "source": [
    "\n",
    "&copy; 2025 Databricks, Inc. All rights reserved.<br/>\n",
    "Apache, Apache Spark, Spark and the Spark logo are trademarks of the \n",
    "<a href=\"https://www.apache.org/\">Apache Software Foundation</a>.<br/>\n",
    "<br/><a href=\"https://databricks.com/privacy-policy\">Privacy Policy</a> | \n",
    "<a href=\"https://databricks.com/terms-of-use\">Terms of Use</a> | \n",
    "<a href=\"https://help.databricks.com/\">Support</a>"
   ]
  }
 ],
 "metadata": {
  "application/vnd.databricks.v1+notebook": {
   "computePreferences": null,
   "dashboards": [],
   "environmentMetadata": null,
   "inputWidgetPreferences": null,
   "language": "python",
   "notebookMetadata": {
    "pythonIndentUnit": 4
   },
   "notebookName": "3.LAB - Create a ReAct Agent",
   "widgets": {}
  },
  "language_info": {
   "name": "python"
  }
 },
 "nbformat": 4,
 "nbformat_minor": 0
}