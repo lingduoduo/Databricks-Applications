{
 "cells": [
  {
   "cell_type": "markdown",
   "metadata": {
    "application/vnd.databricks.v1+cell": {
     "cellMetadata": {},
     "inputWidgets": {},
     "nuid": "56e3ba84-bdd0-44a9-8f33-a064496bfcda",
     "showTitle": false,
     "tableResultSettingsMap": {},
     "title": ""
    }
   },
   "source": [
    "\n",
    "<div style=\"text-align: center; line-height: 0; padding-top: 9px;\">\n",
    "  <img src=\"https://databricks.com/wp-content/uploads/2018/03/db-academy-rgb-1200px.png\" alt=\"Databricks Learning\">\n",
    "</div>\n"
   ]
  },
  {
   "cell_type": "markdown",
   "metadata": {
    "application/vnd.databricks.v1+cell": {
     "cellMetadata": {},
     "inputWidgets": {},
     "nuid": "9d495e26-0b50-4ab1-aef9-3b00b6f6d844",
     "showTitle": false,
     "tableResultSettingsMap": {},
     "title": ""
    }
   },
   "source": [
    "# 2.4 - Creating and Executing Unit Tests\n",
    "\n",
    "A unit test is a type of software testing that focuses on verifying the smallest parts of an application, typically individual functions or methods in isolation. The goal is to ensure that each unit of code works as expected, producing the correct output for a given input. Unit tests are typically automated and run frequently during development to catch bugs early and maintain code quality.\n",
    "\n",
    "## Objectives\n",
    "\n",
    "- Write simple unit tests within a notebook to verify the functionality of the code.\n",
    "- Store unit tests in an external .py file, evaluating the advantages of externalizing tests for maintainability.\n",
    "- Use the `pytest` package to automatically discover and execute test functions."
   ]
  },
  {
   "cell_type": "markdown",
   "metadata": {
    "application/vnd.databricks.v1+cell": {
     "cellMetadata": {},
     "inputWidgets": {},
     "nuid": "877eec93-8a9d-453f-ae17-cb8b763b0832",
     "showTitle": false,
     "tableResultSettingsMap": {},
     "title": ""
    }
   },
   "source": [
    "## REQUIRED - SELECT CLASSIC COMPUTE\n",
    "\n",
    "Before executing cells in this notebook, please select your classic compute cluster in the lab. Be aware that **Serverless** is enabled by default.\n",
    "\n",
    "Follow these steps to select the classic compute cluster:\n",
    "\n",
    "1. Navigate to the top-right of this notebook and click the drop-down menu to select your cluster. By default, the notebook will use **Serverless**.\n",
    "\n",
    "1. If your cluster is available, select it and continue to the next cell. If the cluster is not shown:\n",
    "\n",
    "  - In the drop-down, select **More**.\n",
    "\n",
    "  - In the **Attach to an existing compute resource** pop-up, select the first drop-down. You will see a unique cluster name in that drop-down. Please select that cluster.\n",
    "\n",
    "**NOTE:** If your cluster has terminated, you might need to restart it in order to select it. To do this:\n",
    "\n",
    "1. Right-click on **Compute** in the left navigation pane and select *Open in new tab*.\n",
    "\n",
    "1. Find the triangle icon to the right of your compute cluster name and click it.\n",
    "\n",
    "1. Wait a few minutes for the cluster to start.\n",
    "\n",
    "1. Once the cluster is running, complete the steps above to select your cluster."
   ]
  },
  {
   "cell_type": "markdown",
   "metadata": {
    "application/vnd.databricks.v1+cell": {
     "cellMetadata": {},
     "inputWidgets": {},
     "nuid": "fa003c5f-d1c0-4557-9f7f-225b085e7b65",
     "showTitle": false,
     "tableResultSettingsMap": {},
     "title": ""
    }
   },
   "source": [
    "## A. Create Simple Unit Tests in a Databricks Notebook\n",
    "\n",
    "Let's perform simple unit tests on the functions we created in the previous demonstration. To create a unit test for a function:\n",
    "\n",
    "- **a. Create the Initial Function**  \n",
    "  Create the initial function you want to use in production. Ensure it has clear inputs and outputs that can be easily validated.\n",
    "\n",
    "- **b. Create One or More Test Functions**  \n",
    "  Write a unit test function (or multiple functions to test different expectations) that calls the initial function with sample inputs and checks if the actual function output matches the defined expected result using assertions. Name the test function with the keyword `test_` followed by a description of what you are testing.  \n",
    "\n",
    "- **c. Execute the Unit Test Functions**  \n",
    "  Run and review the test using a testing framework like `pytest`. Review the results to ensure the function behaves as expected, and fix any issues if the test fails.\n",
    "\n",
    "    **NOTE:** There are many available frameworks you can use. We will use `pytest` in this course. The framework you choose should be discussed with your team or organization."
   ]
  },
  {
   "cell_type": "markdown",
   "metadata": {
    "application/vnd.databricks.v1+cell": {
     "cellMetadata": {},
     "inputWidgets": {},
     "nuid": "20cab537-cee9-49a8-a2cf-f2f600510554",
     "showTitle": false,
     "tableResultSettingsMap": {},
     "title": ""
    }
   },
   "source": [
    "1. Complete the following to view the custom functions for this project:\n",
    "\n",
    "   a. Navigate to the main course folder **DevOps Essentials for Data Engineering**.  \n",
    "   \n",
    "   b. Select **src**.  \n",
    "\n",
    "   c. Then select **helpers**.  \n",
    "\n",
    "   d. Right-click on **[project_functions.py]($../../src/helpers/project_functions.py)**  and select *Open in new tab*.  \n",
    "\n",
    "   e. Review the **project_functions.py** file. Notice it contains the following functions that we saw in the previous notebook: \n",
    "\n",
    "     - `get_health_csv_schema` - Returns the schema for the health data CSVs.  \n",
    "\n",
    "     - `highcholest_map` - Maps a cholesterol value to a categorical label.  \n",
    "     \n",
    "     - `group_ages_map` - Maps an age value to an age group category.  \n",
    "\n",
    "   f. Close the **project_functions.py** tab.\n",
    "   \n",
    "   g. Run the cell below to import the custom functions from the **helpers** module.\n",
    "\n",
    "   **NOTE:** `sys.path.append()` Adds the root folder path to the system path (this allows you to import modules from this folder)."
   ]
  },
  {
   "cell_type": "code",
   "execution_count": 0,
   "metadata": {
    "application/vnd.databricks.v1+cell": {
     "cellMetadata": {
      "byteLimit": 2048000,
      "rowLimit": 10000
     },
     "inputWidgets": {},
     "nuid": "6c06e229-4efa-4628-ac78-3e271c23251a",
     "showTitle": false,
     "tableResultSettingsMap": {},
     "title": ""
    }
   },
   "outputs": [
    {
     "output_type": "stream",
     "name": "stdout",
     "output_type": "stream",
     "text": [
      "Add the following path: /Workspace/Users/labuser9989464_1744809149@vocareum.com/devops-essentials-for-data-engineering-2.0.3/DevOps Essentials for Data Engineering\n"
     ]
    }
   ],
   "source": [
    "# Adds the parent directory of the current working directory to the Python search path\n",
    "import sys\n",
    "import os\n",
    "\n",
    "# Get the current working directory\n",
    "current_path = os.getcwd()\n",
    "\n",
    "# Get the root folder path by navigating two levels up from the current path\n",
    "root_folder_path = os.path.dirname(os.path.dirname(current_path))\n",
    "\n",
    "# Add the root folder path to the system path (this allows you to import modules from this folder)\n",
    "sys.path.append(root_folder_path)\n",
    "\n",
    "# Print a message confirming the root folder path added to sys.path\n",
    "print(f'Add the following path: {root_folder_path}')"
   ]
  },
  {
   "cell_type": "code",
   "execution_count": 0,
   "metadata": {
    "application/vnd.databricks.v1+cell": {
     "cellMetadata": {
      "byteLimit": 2048000,
      "rowLimit": 10000
     },
     "inputWidgets": {},
     "nuid": "f7a0727c-a928-470a-84bd-2473b575cdaf",
     "showTitle": false,
     "tableResultSettingsMap": {},
     "title": ""
    }
   },
   "outputs": [],
   "source": [
    "## Import the custom functions\n",
    "from src.helpers import project_functions"
   ]
  },
  {
   "cell_type": "markdown",
   "metadata": {
    "application/vnd.databricks.v1+cell": {
     "cellMetadata": {},
     "inputWidgets": {},
     "nuid": "652eae5e-7435-4bc9-9424-7852bce98047",
     "showTitle": false,
     "tableResultSettingsMap": {},
     "title": ""
    }
   },
   "source": [
    "2. Create the test function `test_get_health_csv_schema_match` to test the `get_health_csv_schema` function from above. \n",
    "\n",
    "      Within the test function:\n",
    "\n",
    "   - The variable **actual_schema** holds the schema result from the `get_health_csv_schema` function.\n",
    "\n",
    "   - The variable **expected_schema** specifies the schema we expect the function to return if it works as expected.\n",
    "\n",
    "   - The `assertSchemaEqual` statement from `pyspark.testing.utils` compares the **expected_schema** with **actual_schema**. If the values are not equal, an error will be raised.\n",
    "\n",
    "\n",
    "   Run the cell and confirm that no errors are returned. This shows that the `get_health_csv_schema` function is working as expected.\n",
    "\n",
    "   [Pytest Testing Documentation](https://spark.apache.org/docs/latest/api/python/reference/pyspark.testing.html#testing)"
   ]
  },
  {
   "cell_type": "code",
   "execution_count": 0,
   "metadata": {
    "application/vnd.databricks.v1+cell": {
     "cellMetadata": {
      "byteLimit": 2048000,
      "rowLimit": 10000
     },
     "inputWidgets": {},
     "nuid": "01e0d5a8-205e-4988-b32f-2d49d7df8d4c",
     "showTitle": false,
     "tableResultSettingsMap": {},
     "title": ""
    }
   },
   "outputs": [
    {
     "output_type": "stream",
     "name": "stdout",
     "output_type": "stream",
     "text": [
      "Test passed!\n"
     ]
    }
   ],
   "source": [
    "from pyspark.sql.types import StructType, StructField, IntegerType, StringType, DateType, DoubleType, LongType\n",
    "from pyspark.sql.functions import when, col\n",
    "\n",
    "from pyspark.testing.utils import assertSchemaEqual\n",
    "\n",
    "def test_get_health_csv_schema_match():\n",
    "\n",
    "    # Get schema from our function\n",
    "    actual_schema = project_functions.get_health_csv_schema()\n",
    "    \n",
    "    # Define the expected schema that the function should return. If that function is changed during development the unit test will pick up the error and the test will fail.\n",
    "    expected_schema = StructType([\n",
    "        StructField(\"ID\", IntegerType(), True),\n",
    "        StructField(\"PII\", StringType(), True),\n",
    "        StructField(\"date\", DateType(), True),\n",
    "        StructField(\"HighCholest\", IntegerType(), True),\n",
    "        StructField(\"HighBP\", DoubleType(), True),\n",
    "        StructField(\"BMI\", DoubleType(), True),\n",
    "        StructField(\"Age\", DoubleType(), True),\n",
    "        StructField(\"Education\", DoubleType(), True),\n",
    "        StructField(\"income\", IntegerType(), True)\n",
    "    ])\n",
    "\n",
    "    # Assert the actual schema matches the expected schema\n",
    "    assertSchemaEqual(actual_schema, expected_schema)\n",
    "    print('Test passed!')\n",
    "\n",
    "test_get_health_csv_schema_match()"
   ]
  },
  {
   "cell_type": "markdown",
   "metadata": {
    "application/vnd.databricks.v1+cell": {
     "cellMetadata": {},
     "inputWidgets": {},
     "nuid": "289f3077-8699-45ca-8755-1eece2e2b4ce",
     "showTitle": false,
     "tableResultSettingsMap": {},
     "title": ""
    }
   },
   "source": [
    "3. Create the test function `test_high_cholest_column_valid_map` to test the `highcholest_map` function from above. Within the test function:\n",
    "\n",
    "   - Import the `assertDataFrameEqual` function from the `pyspark.testing.utils` module to compare two PySpark DataFrames and assert that they are equal, checking both the data and schema.\n",
    "   \n",
    "   - The variable **actual_df** holds the new column created from the result of the `highcholest_map` function.\n",
    "   \n",
    "   - The variable **expected_df** contains the expected dataframe we anticipate from the function.\n",
    "   \n",
    "   - The `assertDataFrameEqual` function from `pyspark.testing.utils` compares the dataframes **actual_df** and **expected_df**. If the data or schema are not equal, an error will be raised.\n",
    "\n",
    "   Run the cell and confirm that no errors are returned. This shows that the `highcholest_map` function is working as expected.\n",
    "\n",
    "   [Pytest Testing Documentation](https://spark.apache.org/docs/latest/api/python/reference/pyspark.testing.html#testing)"
   ]
  },
  {
   "cell_type": "code",
   "execution_count": 0,
   "metadata": {
    "application/vnd.databricks.v1+cell": {
     "cellMetadata": {
      "byteLimit": 2048000,
      "rowLimit": 10000
     },
     "inputWidgets": {},
     "nuid": "26cbace8-9739-4f7a-b60e-1dd8ab35b06d",
     "showTitle": false,
     "tableResultSettingsMap": {},
     "title": ""
    }
   },
   "outputs": [
    {
     "output_type": "stream",
     "name": "stdout",
     "output_type": "stream",
     "text": [
      "Test passed!\n"
     ]
    }
   ],
   "source": [
    "## Import assertDataFrameEqual to compare your DataFrames\n",
    "from pyspark.testing.utils import assertDataFrameEqual\n",
    "\n",
    "def test_high_cholest_column_valid_map():\n",
    "\n",
    "    # Create the sample DataFrame to test the function on\n",
    "    data = [\n",
    "        (0,),\n",
    "        (1,), \n",
    "        (2,), \n",
    "        (3,), \n",
    "        (4,), \n",
    "        (None,)\n",
    "    ]\n",
    "    sample_df = spark.createDataFrame(data, [\"value\"])\n",
    "\n",
    "    # Apply the function on the sample data\n",
    "    actual_df = sample_df.withColumn(\"actual\", project_functions.high_cholest_map(\"value\"))\n",
    "\n",
    "    # Create a static DataFrame with the expected results of the highcholest_map function above\n",
    "    expected_df = spark.createDataFrame(\n",
    "        [\n",
    "            (0, \"Normal\"),\n",
    "            (1, \"Above Average\"),\n",
    "            (2, \"High\"),\n",
    "            (3, \"Unknown\"),\n",
    "            (4, \"Unknown\"),\n",
    "            (None, \"Unknown\")\n",
    "        ],\n",
    "        schema=StructType([\n",
    "            StructField(\"value\", LongType(), True),\n",
    "            StructField(\"actual\", StringType(), True)\n",
    "        ])\n",
    "    )\n",
    "\n",
    "    ## Check to make sure the column in the sample dataframe and expected dataframe are the same. If not equal an error will be returned.\n",
    "    assertDataFrameEqual(actual_df, expected_df)\n",
    "    print('Test passed!')\n",
    "\n",
    "test_high_cholest_column_valid_map()"
   ]
  },
  {
   "cell_type": "markdown",
   "metadata": {
    "application/vnd.databricks.v1+cell": {
     "cellMetadata": {},
     "inputWidgets": {},
     "nuid": "0dec1a2f-9fbe-44b8-97a9-3288fa0c28bf",
     "showTitle": false,
     "tableResultSettingsMap": {},
     "title": ""
    }
   },
   "source": [
    "4. In cell below the **expected_df** variable has been modified from `(0, \"Normal\")` to `(0, \"Bad Value Cause Error\")`. This will cause the unit test to fail because the expected results were incorrectly specified and will not match the **actual_df**.\n",
    "\n",
    "    Run the unit test below. Notice that the test function returns an error because the dataframes don't match. \n",
    "    \n",
    "    **NOTE:** If your unit tests fail you will need to assess where the failure occurred and fix it."
   ]
  },
  {
   "cell_type": "code",
   "execution_count": 0,
   "metadata": {
    "application/vnd.databricks.v1+cell": {
     "cellMetadata": {
      "byteLimit": 2048000,
      "rowLimit": 10000
     },
     "inputWidgets": {},
     "nuid": "b84ca14a-38c1-496b-a1c6-32cfe5068e68",
     "showTitle": false,
     "tableResultSettingsMap": {},
     "title": ""
    }
   },
   "outputs": [
    {
     "output_type": "display_data",
     "data": {
      "text/plain": [
       "\u001B[0;31m---------------------------------------------------------------------------\u001B[0m\n",
       "\u001B[0;31mPySparkAssertionError\u001B[0m                     Traceback (most recent call last)\n",
       "File \u001B[0;32m<command-1470590687854664>, line 40\u001B[0m\n",
       "\u001B[1;32m     37\u001B[0m     \u001B[38;5;66;03m## Check to make sure the column in the sample dataframe and expected dataframe are the same. If not equal an error will be returned.\u001B[39;00m\n",
       "\u001B[1;32m     38\u001B[0m     assertDataFrameEqual(actual_df, expected_df)\n",
       "\u001B[0;32m---> 40\u001B[0m test_high_cholest_column_invalid_map()\n",
       "\n",
       "File \u001B[0;32m<command-1470590687854664>, line 38\u001B[0m, in \u001B[0;36mtest_high_cholest_column_invalid_map\u001B[0;34m()\u001B[0m\n",
       "\u001B[1;32m     22\u001B[0m expected_df \u001B[38;5;241m=\u001B[39m spark\u001B[38;5;241m.\u001B[39mcreateDataFrame(\n",
       "\u001B[1;32m     23\u001B[0m     [\n",
       "\u001B[1;32m     24\u001B[0m         (\u001B[38;5;241m0\u001B[39m, \u001B[38;5;124m\"\u001B[39m\u001B[38;5;124mBad Value Cause Error\u001B[39m\u001B[38;5;124m\"\u001B[39m),     \u001B[38;5;66;03m####### <--- Value has been changed to cause an error\u001B[39;00m\n",
       "\u001B[0;32m   (...)\u001B[0m\n",
       "\u001B[1;32m     34\u001B[0m     ])\n",
       "\u001B[1;32m     35\u001B[0m )\n",
       "\u001B[1;32m     37\u001B[0m \u001B[38;5;66;03m## Check to make sure the column in the sample dataframe and expected dataframe are the same. If not equal an error will be returned.\u001B[39;00m\n",
       "\u001B[0;32m---> 38\u001B[0m assertDataFrameEqual(actual_df, expected_df)\n",
       "\n",
       "File \u001B[0;32m/databricks/spark/python/pyspark/instrumentation_utils.py:47\u001B[0m, in \u001B[0;36m_wrap_function.<locals>.wrapper\u001B[0;34m(*args, **kwargs)\u001B[0m\n",
       "\u001B[1;32m     45\u001B[0m start \u001B[38;5;241m=\u001B[39m time\u001B[38;5;241m.\u001B[39mperf_counter()\n",
       "\u001B[1;32m     46\u001B[0m \u001B[38;5;28;01mtry\u001B[39;00m:\n",
       "\u001B[0;32m---> 47\u001B[0m     res \u001B[38;5;241m=\u001B[39m func(\u001B[38;5;241m*\u001B[39margs, \u001B[38;5;241m*\u001B[39m\u001B[38;5;241m*\u001B[39mkwargs)\n",
       "\u001B[1;32m     48\u001B[0m     logger\u001B[38;5;241m.\u001B[39mlog_success(\n",
       "\u001B[1;32m     49\u001B[0m         module_name, class_name, function_name, time\u001B[38;5;241m.\u001B[39mperf_counter() \u001B[38;5;241m-\u001B[39m start, signature\n",
       "\u001B[1;32m     50\u001B[0m     )\n",
       "\u001B[1;32m     51\u001B[0m     \u001B[38;5;28;01mreturn\u001B[39;00m res\n",
       "\n",
       "File \u001B[0;32m/databricks/spark/python/pyspark/testing/utils.py:1024\u001B[0m, in \u001B[0;36massertDataFrameEqual\u001B[0;34m(actual, expected, checkRowOrder, rtol, atol, ignoreNullable, ignoreColumnOrder, ignoreColumnName, ignoreColumnType, maxErrors, showOnlyDiff, includeDiffRows)\u001B[0m\n",
       "\u001B[1;32m   1021\u001B[0m     actual_list \u001B[38;5;241m=\u001B[39m \u001B[38;5;28msorted\u001B[39m(actual_list, key\u001B[38;5;241m=\u001B[39m\u001B[38;5;28;01mlambda\u001B[39;00m x: \u001B[38;5;28mstr\u001B[39m(x))\n",
       "\u001B[1;32m   1022\u001B[0m     expected_list \u001B[38;5;241m=\u001B[39m \u001B[38;5;28msorted\u001B[39m(expected_list, key\u001B[38;5;241m=\u001B[39m\u001B[38;5;28;01mlambda\u001B[39;00m x: \u001B[38;5;28mstr\u001B[39m(x))\n",
       "\u001B[0;32m-> 1024\u001B[0m assert_rows_equal(actual_list, expected_list, maxErrors\u001B[38;5;241m=\u001B[39mmaxErrors, showOnlyDiff\u001B[38;5;241m=\u001B[39mshowOnlyDiff)\n",
       "\n",
       "File \u001B[0;32m/databricks/spark/python/pyspark/testing/utils.py:980\u001B[0m, in \u001B[0;36massertDataFrameEqual.<locals>.assert_rows_equal\u001B[0;34m(rows1, rows2, maxErrors, showOnlyDiff)\u001B[0m\n",
       "\u001B[1;32m    978\u001B[0m error_msg \u001B[38;5;241m+\u001B[39m\u001B[38;5;241m=\u001B[39m \u001B[38;5;124m\"\u001B[39m\u001B[38;5;130;01m\\n\u001B[39;00m\u001B[38;5;124m\"\u001B[39m \u001B[38;5;241m+\u001B[39m \u001B[38;5;124m\"\u001B[39m\u001B[38;5;130;01m\\n\u001B[39;00m\u001B[38;5;124m\"\u001B[39m\u001B[38;5;241m.\u001B[39mjoin(generated_diff)\n",
       "\u001B[1;32m    979\u001B[0m data \u001B[38;5;241m=\u001B[39m diff_rows \u001B[38;5;28;01mif\u001B[39;00m includeDiffRows \u001B[38;5;28;01melse\u001B[39;00m \u001B[38;5;28;01mNone\u001B[39;00m\n",
       "\u001B[0;32m--> 980\u001B[0m \u001B[38;5;28;01mraise\u001B[39;00m PySparkAssertionError(\n",
       "\u001B[1;32m    981\u001B[0m     error_class\u001B[38;5;241m=\u001B[39m\u001B[38;5;124m\"\u001B[39m\u001B[38;5;124mDIFFERENT_ROWS\u001B[39m\u001B[38;5;124m\"\u001B[39m, message_parameters\u001B[38;5;241m=\u001B[39m{\u001B[38;5;124m\"\u001B[39m\u001B[38;5;124merror_msg\u001B[39m\u001B[38;5;124m\"\u001B[39m: error_msg}, data\u001B[38;5;241m=\u001B[39mdata\n",
       "\u001B[1;32m    982\u001B[0m )\n",
       "\n",
       "\u001B[0;31mPySparkAssertionError\u001B[0m: [DIFFERENT_ROWS] Results do not match: ( 16.66667 % )\n",
       "*** actual ***\n",
       "\u001B[31m! Row(value=0, actual='Normal')\u001B[0m\n",
       "  Row(value=1, actual='Above Average')\n",
       "  Row(value=2, actual='High')\n",
       "  Row(value=3, actual='Unknown')\n",
       "  Row(value=4, actual='Unknown')\n",
       "  Row(value=None, actual='Unknown')\n",
       "\n",
       "\n",
       "*** expected ***\n",
       "\u001B[31m! Row(value=0, actual='Bad Value Cause Error')\u001B[0m\n",
       "  Row(value=1, actual='Above Average')\n",
       "  Row(value=2, actual='High')\n",
       "  Row(value=3, actual='Unknown')\n",
       "  Row(value=4, actual='Unknown')\n",
       "  Row(value=None, actual='Unknown')"
      ]
     },
     "metadata": {
      "application/vnd.databricks.v1+output": {
       "addedWidgets": {},
       "arguments": {},
       "datasetInfos": [],
       "jupyterProps": {
        "ename": "PySparkAssertionError",
        "evalue": "[DIFFERENT_ROWS] Results do not match: ( 16.66667 % )\n*** actual ***\n\u001B[31m! Row(value=0, actual='Normal')\u001B[0m\n  Row(value=1, actual='Above Average')\n  Row(value=2, actual='High')\n  Row(value=3, actual='Unknown')\n  Row(value=4, actual='Unknown')\n  Row(value=None, actual='Unknown')\n\n\n*** expected ***\n\u001B[31m! Row(value=0, actual='Bad Value Cause Error')\u001B[0m\n  Row(value=1, actual='Above Average')\n  Row(value=2, actual='High')\n  Row(value=3, actual='Unknown')\n  Row(value=4, actual='Unknown')\n  Row(value=None, actual='Unknown')"
       },
       "metadata": {
        "errorSummary": "[DIFFERENT_ROWS] Results do not match: ( 16.66667 % )\n*** actual ***\n\u001B[31m! Row(value=0, actual='Normal')\u001B[0m\n  Row(value=1, actual='Above Average')\n  Row(value=2, actual='High')\n  Row(value=3, actual='Unknown')\n  Row(value=4, actual='Unknown')\n  Row(value=None, actual='Unknown')\n\n\n*** expected ***\n\u001B[31m! Row(value=0, actual='Bad Value Cause Error')\u001B[0m\n  Row(value=1, actual='Above Average')\n  Row(value=2, actual='High')\n  Row(value=3, actual='Unknown')\n  Row(value=4, actual='Unknown')\n  Row(value=None, actual='Unknown')"
       },
       "removedWidgets": [],
       "sqlProps": {
        "errorClass": "DIFFERENT_ROWS",
        "pysparkCallSite": null,
        "pysparkFragment": null,
        "sqlState": null,
        "stackTrace": null,
        "startIndex": null,
        "stopIndex": null
       },
       "stackFrames": [
        "\u001B[0;31m---------------------------------------------------------------------------\u001B[0m",
        "\u001B[0;31mPySparkAssertionError\u001B[0m                     Traceback (most recent call last)",
        "File \u001B[0;32m<command-1470590687854664>, line 40\u001B[0m\n\u001B[1;32m     37\u001B[0m     \u001B[38;5;66;03m## Check to make sure the column in the sample dataframe and expected dataframe are the same. If not equal an error will be returned.\u001B[39;00m\n\u001B[1;32m     38\u001B[0m     assertDataFrameEqual(actual_df, expected_df)\n\u001B[0;32m---> 40\u001B[0m test_high_cholest_column_invalid_map()\n",
        "File \u001B[0;32m<command-1470590687854664>, line 38\u001B[0m, in \u001B[0;36mtest_high_cholest_column_invalid_map\u001B[0;34m()\u001B[0m\n\u001B[1;32m     22\u001B[0m expected_df \u001B[38;5;241m=\u001B[39m spark\u001B[38;5;241m.\u001B[39mcreateDataFrame(\n\u001B[1;32m     23\u001B[0m     [\n\u001B[1;32m     24\u001B[0m         (\u001B[38;5;241m0\u001B[39m, \u001B[38;5;124m\"\u001B[39m\u001B[38;5;124mBad Value Cause Error\u001B[39m\u001B[38;5;124m\"\u001B[39m),     \u001B[38;5;66;03m####### <--- Value has been changed to cause an error\u001B[39;00m\n\u001B[0;32m   (...)\u001B[0m\n\u001B[1;32m     34\u001B[0m     ])\n\u001B[1;32m     35\u001B[0m )\n\u001B[1;32m     37\u001B[0m \u001B[38;5;66;03m## Check to make sure the column in the sample dataframe and expected dataframe are the same. If not equal an error will be returned.\u001B[39;00m\n\u001B[0;32m---> 38\u001B[0m assertDataFrameEqual(actual_df, expected_df)\n",
        "File \u001B[0;32m/databricks/spark/python/pyspark/instrumentation_utils.py:47\u001B[0m, in \u001B[0;36m_wrap_function.<locals>.wrapper\u001B[0;34m(*args, **kwargs)\u001B[0m\n\u001B[1;32m     45\u001B[0m start \u001B[38;5;241m=\u001B[39m time\u001B[38;5;241m.\u001B[39mperf_counter()\n\u001B[1;32m     46\u001B[0m \u001B[38;5;28;01mtry\u001B[39;00m:\n\u001B[0;32m---> 47\u001B[0m     res \u001B[38;5;241m=\u001B[39m func(\u001B[38;5;241m*\u001B[39margs, \u001B[38;5;241m*\u001B[39m\u001B[38;5;241m*\u001B[39mkwargs)\n\u001B[1;32m     48\u001B[0m     logger\u001B[38;5;241m.\u001B[39mlog_success(\n\u001B[1;32m     49\u001B[0m         module_name, class_name, function_name, time\u001B[38;5;241m.\u001B[39mperf_counter() \u001B[38;5;241m-\u001B[39m start, signature\n\u001B[1;32m     50\u001B[0m     )\n\u001B[1;32m     51\u001B[0m     \u001B[38;5;28;01mreturn\u001B[39;00m res\n",
        "File \u001B[0;32m/databricks/spark/python/pyspark/testing/utils.py:1024\u001B[0m, in \u001B[0;36massertDataFrameEqual\u001B[0;34m(actual, expected, checkRowOrder, rtol, atol, ignoreNullable, ignoreColumnOrder, ignoreColumnName, ignoreColumnType, maxErrors, showOnlyDiff, includeDiffRows)\u001B[0m\n\u001B[1;32m   1021\u001B[0m     actual_list \u001B[38;5;241m=\u001B[39m \u001B[38;5;28msorted\u001B[39m(actual_list, key\u001B[38;5;241m=\u001B[39m\u001B[38;5;28;01mlambda\u001B[39;00m x: \u001B[38;5;28mstr\u001B[39m(x))\n\u001B[1;32m   1022\u001B[0m     expected_list \u001B[38;5;241m=\u001B[39m \u001B[38;5;28msorted\u001B[39m(expected_list, key\u001B[38;5;241m=\u001B[39m\u001B[38;5;28;01mlambda\u001B[39;00m x: \u001B[38;5;28mstr\u001B[39m(x))\n\u001B[0;32m-> 1024\u001B[0m assert_rows_equal(actual_list, expected_list, maxErrors\u001B[38;5;241m=\u001B[39mmaxErrors, showOnlyDiff\u001B[38;5;241m=\u001B[39mshowOnlyDiff)\n",
        "File \u001B[0;32m/databricks/spark/python/pyspark/testing/utils.py:980\u001B[0m, in \u001B[0;36massertDataFrameEqual.<locals>.assert_rows_equal\u001B[0;34m(rows1, rows2, maxErrors, showOnlyDiff)\u001B[0m\n\u001B[1;32m    978\u001B[0m error_msg \u001B[38;5;241m+\u001B[39m\u001B[38;5;241m=\u001B[39m \u001B[38;5;124m\"\u001B[39m\u001B[38;5;130;01m\\n\u001B[39;00m\u001B[38;5;124m\"\u001B[39m \u001B[38;5;241m+\u001B[39m \u001B[38;5;124m\"\u001B[39m\u001B[38;5;130;01m\\n\u001B[39;00m\u001B[38;5;124m\"\u001B[39m\u001B[38;5;241m.\u001B[39mjoin(generated_diff)\n\u001B[1;32m    979\u001B[0m data \u001B[38;5;241m=\u001B[39m diff_rows \u001B[38;5;28;01mif\u001B[39;00m includeDiffRows \u001B[38;5;28;01melse\u001B[39;00m \u001B[38;5;28;01mNone\u001B[39;00m\n\u001B[0;32m--> 980\u001B[0m \u001B[38;5;28;01mraise\u001B[39;00m PySparkAssertionError(\n\u001B[1;32m    981\u001B[0m     error_class\u001B[38;5;241m=\u001B[39m\u001B[38;5;124m\"\u001B[39m\u001B[38;5;124mDIFFERENT_ROWS\u001B[39m\u001B[38;5;124m\"\u001B[39m, message_parameters\u001B[38;5;241m=\u001B[39m{\u001B[38;5;124m\"\u001B[39m\u001B[38;5;124merror_msg\u001B[39m\u001B[38;5;124m\"\u001B[39m: error_msg}, data\u001B[38;5;241m=\u001B[39mdata\n\u001B[1;32m    982\u001B[0m )\n",
        "\u001B[0;31mPySparkAssertionError\u001B[0m: [DIFFERENT_ROWS] Results do not match: ( 16.66667 % )\n*** actual ***\n\u001B[31m! Row(value=0, actual='Normal')\u001B[0m\n  Row(value=1, actual='Above Average')\n  Row(value=2, actual='High')\n  Row(value=3, actual='Unknown')\n  Row(value=4, actual='Unknown')\n  Row(value=None, actual='Unknown')\n\n\n*** expected ***\n\u001B[31m! Row(value=0, actual='Bad Value Cause Error')\u001B[0m\n  Row(value=1, actual='Above Average')\n  Row(value=2, actual='High')\n  Row(value=3, actual='Unknown')\n  Row(value=4, actual='Unknown')\n  Row(value=None, actual='Unknown')"
       ],
       "type": "baseError"
      }
     },
     "output_type": "display_data"
    }
   ],
   "source": [
    "################################################################################\n",
    "## Cell causes an error because the actual df does not match the expected df\n",
    "################################################################################\n",
    "\n",
    "def test_high_cholest_column_invalid_map():\n",
    "\n",
    "    # Create the sample DataFrame to test the function on\n",
    "    data = [\n",
    "        (0,),\n",
    "        (1,), \n",
    "        (2,), \n",
    "        (3,), \n",
    "        (4,), \n",
    "        (None,)\n",
    "    ]\n",
    "    sample_df = spark.createDataFrame(data, [\"value\"])\n",
    "\n",
    "    # Apply the function on the sample data\n",
    "    actual_df = sample_df.withColumn(\"actual\", project_functions.high_cholest_map(\"value\"))\n",
    "\n",
    "    # Create a static DataFrame with the expected results of the highcholest_map function above\n",
    "    expected_df = spark.createDataFrame(\n",
    "        [\n",
    "            (0, \"Bad Value Cause Error\"),     ####### <--- Value has been changed to cause an error\n",
    "            (1, \"Above Average\"),\n",
    "            (2, \"High\"),\n",
    "            (3, \"Unknown\"),\n",
    "            (4, \"Unknown\"),\n",
    "            (None, \"Unknown\")\n",
    "        ],\n",
    "        schema=StructType([\n",
    "            StructField(\"value\", LongType(), True),\n",
    "            StructField(\"actual\", StringType(), True)\n",
    "        ])\n",
    "    )\n",
    "\n",
    "    ## Check to make sure the column in the sample dataframe and expected dataframe are the same. If not equal an error will be returned.\n",
    "    assertDataFrameEqual(actual_df, expected_df)\n",
    "\n",
    "test_high_cholest_column_invalid_map()"
   ]
  },
  {
   "cell_type": "markdown",
   "metadata": {
    "application/vnd.databricks.v1+cell": {
     "cellMetadata": {},
     "inputWidgets": {},
     "nuid": "a7b9146e-705a-446c-894b-52dcd4c0a396",
     "showTitle": false,
     "tableResultSettingsMap": {},
     "title": ""
    }
   },
   "source": [
    "Developing good unit tests are important because they help ensure individual components of your code work as expected, catching errors early in the development process. This leads to more reliable, maintainable code and can save time in debugging later on."
   ]
  },
  {
   "cell_type": "markdown",
   "metadata": {
    "application/vnd.databricks.v1+cell": {
     "cellMetadata": {},
     "inputWidgets": {},
     "nuid": "32b27fc5-53e8-4ae5-85ff-30a31a3f74ab",
     "showTitle": false,
     "tableResultSettingsMap": {},
     "title": ""
    }
   },
   "source": [
    "## B. Create a File for the Unit Tests\n",
    "\n",
    "In the previous cells, we implemented our unit tests within the Databricks notebook.\n",
    "\n",
    "Typically, unit tests are placed in a separate location, such as a **tests/unit_tests/tests_file_name.py** file (or in multiple Python files), to keep them separate from the main code and maintain a clean project structure. A testing framework is then used to execute the tests.\n",
    "\n",
    "This approach makes it easier to manage, update, and run tests without affecting the application’s core functionality."
   ]
  },
  {
   "cell_type": "markdown",
   "metadata": {
    "application/vnd.databricks.v1+cell": {
     "cellMetadata": {},
     "inputWidgets": {},
     "nuid": "8f8ae477-36fd-4c91-870a-8178be2f6e77",
     "showTitle": false,
     "tableResultSettingsMap": {},
     "title": ""
    }
   },
   "source": [
    "1. Let's start by importing our testing framework package `pytest` on the cluster.\n",
    "\n",
    "    [pytest documentation](https://docs.pytest.org/en/stable/)"
   ]
  },
  {
   "cell_type": "code",
   "execution_count": 0,
   "metadata": {
    "application/vnd.databricks.v1+cell": {
     "cellMetadata": {
      "byteLimit": 2048000,
      "rowLimit": 10000
     },
     "inputWidgets": {},
     "nuid": "c55a3aac-a6c5-48ed-9813-96743e83f673",
     "showTitle": false,
     "tableResultSettingsMap": {},
     "title": ""
    }
   },
   "outputs": [
    {
     "output_type": "stream",
     "name": "stdout",
     "output_type": "stream",
     "text": [
      "Collecting pytest==8.3.4\n  Obtaining dependency information for pytest==8.3.4 from https://files.pythonhosted.org/packages/11/92/76a1c94d3afee238333bc0a42b82935dd8f9cf8ce9e336ff87ee14d9e1cf/pytest-8.3.4-py3-none-any.whl.metadata\n  Downloading pytest-8.3.4-py3-none-any.whl.metadata (7.5 kB)\nCollecting iniconfig (from pytest==8.3.4)\n  Obtaining dependency information for iniconfig from https://files.pythonhosted.org/packages/2c/e1/e6716421ea10d38022b952c159d5161ca1193197fb744506875fbb87ea7b/iniconfig-2.1.0-py3-none-any.whl.metadata\n  Downloading iniconfig-2.1.0-py3-none-any.whl.metadata (2.7 kB)\nRequirement already satisfied: packaging in /databricks/python3/lib/python3.11/site-packages (from pytest==8.3.4) (23.2)\nCollecting pluggy<2,>=1.5 (from pytest==8.3.4)\n  Obtaining dependency information for pluggy<2,>=1.5 from https://files.pythonhosted.org/packages/88/5f/e351af9a41f866ac3f1fac4ca0613908d9a41741cfcf2228f4ad853b697d/pluggy-1.5.0-py3-none-any.whl.metadata\n  Downloading pluggy-1.5.0-py3-none-any.whl.metadata (4.8 kB)\nDownloading pytest-8.3.4-py3-none-any.whl (343 kB)\n\u001B[?25l   \u001B[90m━━━━━━━━━━━━━━━━━━━━━━━━━━━━━━━━━━━━━━━━\u001B[0m \u001B[32m0.0/343.1 kB\u001B[0m \u001B[31m?\u001B[0m eta \u001B[36m-:--:--\u001B[0m\n\u001B[2K   \u001B[91m━━━━━━━━━━━━━━━━━━━━━━━━━━━\u001B[0m\u001B[90m╺\u001B[0m\u001B[90m━━━━━━━━━━━━\u001B[0m \u001B[32m235.5/343.1 kB\u001B[0m \u001B[31m7.0 MB/s\u001B[0m eta \u001B[36m0:00:01\u001B[0m\n\u001B[2K   \u001B[90m━━━━━━━━━━━━━━━━━━━━━━━━━━━━━━━━━━━━━━━━\u001B[0m \u001B[32m343.1/343.1 kB\u001B[0m \u001B[31m7.2 MB/s\u001B[0m eta \u001B[36m0:00:00\u001B[0m\n\u001B[?25hDownloading pluggy-1.5.0-py3-none-any.whl (20 kB)\nDownloading iniconfig-2.1.0-py3-none-any.whl (6.0 kB)\nInstalling collected packages: pluggy, iniconfig, pytest\nSuccessfully installed iniconfig-2.1.0 pluggy-1.5.0 pytest-8.3.4\n\u001B[43mNote: you may need to restart the kernel using %restart_python or dbutils.library.restartPython() to use updated packages.\u001B[0m\n"
     ]
    }
   ],
   "source": [
    "!pip install pytest==8.3.4"
   ]
  },
  {
   "cell_type": "markdown",
   "metadata": {
    "application/vnd.databricks.v1+cell": {
     "cellMetadata": {},
     "inputWidgets": {},
     "nuid": "188659d0-5c42-4f69-9a75-ec8bf41c1061",
     "showTitle": false,
     "tableResultSettingsMap": {},
     "title": ""
    }
   },
   "source": [
    "2. Complete the following steps to view how to define the unit test in your Python file for this project. The unit test functions have already been placed in main course folder in the **tests/unit_tests/test_spark_helper_functions.py** file for you.\n",
    "\n",
    "    a. Navigate to the main course folder **DevOps Essentials for Data Engineering**.  \n",
    "   \n",
    "    b. Open the **tests/unit_tests** folder.\n",
    "\n",
    "    c. Right-click on the **[tests/unit_tests/test_spark_helper_functions.py]($../../tests/unit_tests/test_spark_helper_functions.py)** file and select *Open in a new tab*. Review the file. \n",
    "    \n",
    "    Notice the following:\n",
    "  \n",
    "      - On line 13, our custom `project_functions` is being imported from the `src.helpers` module.\n",
    "\n",
    "         **NOTE:** We are defining the Python path setting for `pytest` within the **pytest.ini** file in the main course directory. This ensures that the specified directory is added to the Python module search path when `pytest` is run. This is useful for allowing `pytest` to import code from the project root or sibling directories without needing to manually modify `sys.path`. This makes the functions available for use in the current script.\n",
    "      \n",
    "      - `@pytest.fixture` is a pytest fixture named **spark** with a session scope, which means it will be set up once per test session and shared across multiple test functions. It creates a SparkSession using `SparkSession.builder.getOrCreate()` (which either retrieves an existing session or creates a new one if none exists) and then yields the spark session to the test functions that use this fixture, allowing them to access the Spark environment for their tests.\n",
    "\n",
    "      - The remainder of the file creates the unit test functions: \n",
    "         - `test_get_health_csv_schema_match`\n",
    "\n",
    "         - `test_highcholest_column_map`\n",
    "\n",
    "         - `test_age_group_column_map`\n",
    "\n",
    "    e. After reviewing the file, close the tab.\n",
    "\n",
    "   **NOTE:** The complexity and thoroughness of your tests depend on your organization's best practices and guidelines. This is a simple demonstration example. This course is simply introducing unit testing and will not go deep into `pytest` or any other testing framework.\n"
   ]
  },
  {
   "cell_type": "markdown",
   "metadata": {
    "application/vnd.databricks.v1+cell": {
     "cellMetadata": {},
     "inputWidgets": {},
     "nuid": "99135762-c8e6-4ca8-9d6b-790791ce1a38",
     "showTitle": false,
     "tableResultSettingsMap": {},
     "title": ""
    }
   },
   "source": [
    "5.  In the next cell use `pytest` to execute all the tests (3 tests) within the **tests/unit_tests/test_spark_helper_functions.py** file.\n",
    "\n",
    "    To execute pytest within Databricks complete the following:\n",
    "\n",
    "    - `sys.dont_write_bytecode = True` - By default, Python generates .pyc bytecode files in a __pycache__ directory. Setting  it to `True` prevents this, which is useful in read-only environments.\n",
    "\n",
    "    - `pytest.main()` - This is the function that starts pytest and runs the tests.\n",
    "\n",
    "    - `./test_simple/test_simple_functions.py` - The path to the test file you want to run.\n",
    "\n",
    "    - `-v` - This stands for \"verbose\". It tells pytest to provide more detailed output during test execution, including the names of tests and their results.\n",
    "\n",
    "    - `-p no:cacheprovider\"` - This disables pytest's cache provider. pytest uses a caching mechanism to speed up repeated test runs, but in some cases, you may want to disable it. The no:cacheprovider option tells pytest to avoid using the cache, which may be useful if you’re running tests in an environment where caching could cause issues.\n",
    "\n",
    "    When executing pytest, it looks for:\n",
    "\n",
    "    - Test files: By default, files named **test_\\*.py** or **\\*_test.py**. In this example we are specifically testing the functions within the **tests/unit_tests/test_spark_helper_functions.py** file.\n",
    "\n",
    "    - Test functions: Functions starting with `test_*()`.\n",
    "\n",
    "    - For example, if you have a file like **test_example.py** with a function `test_addition()`, pytest will automatically detect and run the tests in that file.\n",
    " \n",
    "    Run the cell below and view the results.\n",
    "\n",
    "\n",
    "**NOTE:** Depending on your organization's best practices, you can run unit tests within Databricks or locally in the IDE of your choice based on your needs."
   ]
  },
  {
   "cell_type": "code",
   "execution_count": 0,
   "metadata": {
    "application/vnd.databricks.v1+cell": {
     "cellMetadata": {
      "byteLimit": 2048000,
      "rowLimit": 10000
     },
     "inputWidgets": {},
     "nuid": "0b24ab02-aaad-4243-a605-02459b9856d1",
     "showTitle": false,
     "tableResultSettingsMap": {},
     "title": ""
    }
   },
   "outputs": [
    {
     "output_type": "stream",
     "name": "stdout",
     "output_type": "stream",
     "text": [
      "\u001B[1m============================= test session starts ==============================\u001B[0m\nplatform linux -- Python 3.11.11, pytest-8.3.4, pluggy-1.5.0 -- /local_disk0/.ephemeral_nfs/envs/pythonEnv-c78bb5f8-5a4a-4ce9-b878-044ec96a9f1f/bin/python\nrootdir: /Workspace/Users/labuser9989464_1744809149@vocareum.com/devops-essentials-for-data-engineering-2.0.3/DevOps Essentials for Data Engineering\nconfigfile: pytest.ini\n\u001B[1mcollecting ... \u001B[0mcollected 3 items\n\n../../tests/unit_tests/test_spark_helper_functions.py::test_get_health_csv_schema_match \u001B[32mPASSED\u001B[0m\u001B[32m [ 33%]\u001B[0m\n../../tests/unit_tests/test_spark_helper_functions.py::test_high_cholest_column_valid_map \u001B[32mPASSED\u001B[0m\u001B[32m [ 66%]\u001B[0m\n../../tests/unit_tests/test_spark_helper_functions.py::test_age_group_column_valid_map \u001B[32mPASSED\u001B[0m\u001B[32m [100%]\u001B[0m\n\n\u001B[32m============================== \u001B[32m\u001B[1m3 passed\u001B[0m\u001B[32m in 3.07s\u001B[0m\u001B[32m ===============================\u001B[0m\n"
     ]
    }
   ],
   "source": [
    "## import the `pytest` and `sys` modules.\n",
    "import pytest\n",
    "import sys\n",
    "\n",
    "sys.dont_write_bytecode = True\n",
    "\n",
    "retcode = pytest.main([\"../../tests/unit_tests/test_spark_helper_functions.py\", \"-v\", \"-p\", \"no:cacheprovider\"])\n",
    "\n",
    "# Fail the cell execution if there are any test failures.\n",
    "assert retcode == 0, \"The pytest invocation failed. See the log for details.\""
   ]
  },
  {
   "cell_type": "markdown",
   "metadata": {
    "application/vnd.databricks.v1+cell": {
     "cellMetadata": {},
     "inputWidgets": {},
     "nuid": "620cdec9-1a8a-486d-a35f-18426a108aa5",
     "showTitle": false,
     "tableResultSettingsMap": {},
     "title": ""
    }
   },
   "source": [
    "6. View the output of the cell above. Notice that:\n",
    "\n",
    "  - `pytest` automatically discovered all the unit test functions within the **/tests/test_spark_helper_functions.py** file.\n",
    "  \n",
    "  - The **test_spark_helper_functions.py** file contained three test functions: \n",
    "    - `test_get_health_csv_schema_match()`\n",
    "\n",
    "    - `test_highcholest_column_map()`\n",
    "\n",
    "    - `test_age_group_column_map()`\n",
    "  \n",
    "  - All three unit tests passed.\n",
    "\n",
    "\n",
    "For more information: \n",
    "  \n",
    "[Pyspark Testing Documentation](https://spark.apache.org/docs/latest/api/python/reference/pyspark.testing.html#testing)\n",
    "\n",
    "[Testing Pyspark Documentation](https://spark.apache.org/docs/latest/api/python/getting_started/testing_pyspark.html#Testing-PySpark)\n"
   ]
  },
  {
   "cell_type": "markdown",
   "metadata": {
    "application/vnd.databricks.v1+cell": {
     "cellMetadata": {},
     "inputWidgets": {},
     "nuid": "e0345886-8cb0-4ffe-bba6-b7880ad5a83a",
     "showTitle": false,
     "tableResultSettingsMap": {},
     "title": ""
    }
   },
   "source": [
    "## Summary\n",
    "Unit testing is important because it helps ensure that individual parts of your code (like functions or methods) work correctly. It catches bugs early, improves code reliability, and makes it easier to maintain and refactor your code with confidence, knowing that existing functionality is still working as expected. You can perform your unit testing within Databricks or locally using the IDE of your choice.\n",
    "\n",
    "This demonstration was a simple, quick introduction to unit testing with the `pytest` framework. There are a variety of other frameworks available, and you must decide which one works best for your team. Also, it's important to decide on unit test best practices for your team and organization.\n",
    "\n",
    "#### Next Steps\n",
    "You can set up a continuous integration and continuous delivery or deployment (CI/CD) system, such as GitHub Actions, to automatically run your unit tests whenever your code changes. For an example, see the coverage of GitHub Actions in [Software engineering best practices for notebooks](https://docs.databricks.com/en/notebooks/best-practices.html). \n",
    "\n",
    "\n",
    "#### Additional Unit Testing Resources\n",
    "- [pytest](https://docs.pytest.org/en/stable/)\n",
    "- [chispas](https://github.com/MrPowers/chispa)\n",
    "- [nutter](https://github.com/microsoft/nutter)\n",
    "- [unittest](https://docs.python.org/3/library/unittest.html)\n",
    "- [Best Practices for Unit Testing PySpark](https://www.youtube.com/watch?v=TbWcCyP2MgE)"
   ]
  },
  {
   "cell_type": "markdown",
   "metadata": {
    "application/vnd.databricks.v1+cell": {
     "cellMetadata": {},
     "inputWidgets": {},
     "nuid": "59832d97-ffea-4d0a-bb4f-b80d54c1bca3",
     "showTitle": false,
     "tableResultSettingsMap": {},
     "title": ""
    }
   },
   "source": [
    "\n",
    "&copy; 2025 Databricks, Inc. All rights reserved.<br/>\n",
    "Apache, Apache Spark, Spark and the Spark logo are trademarks of the \n",
    "<a href=\"https://www.apache.org/\">Apache Software Foundation</a>.<br/>\n",
    "<br/><a href=\"https://databricks.com/privacy-policy\">Privacy Policy</a> | \n",
    "<a href=\"https://databricks.com/terms-of-use\">Terms of Use</a> | \n",
    "<a href=\"https://help.databricks.com/\">Support</a>"
   ]
  }
 ],
 "metadata": {
  "application/vnd.databricks.v1+notebook": {
   "computePreferences": null,
   "dashboards": [],
   "environmentMetadata": null,
   "inputWidgetPreferences": null,
   "language": "python",
   "notebookMetadata": {
    "pythonIndentUnit": 4
   },
   "notebookName": "2.4 - Creating and Executing Unit Tests",
   "widgets": {}
  },
  "language_info": {
   "name": "python"
  }
 },
 "nbformat": 4,
 "nbformat_minor": 0
}