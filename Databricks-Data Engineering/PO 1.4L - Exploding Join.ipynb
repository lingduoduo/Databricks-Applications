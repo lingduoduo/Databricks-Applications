{
 "cells": [
  {
   "cell_type": "markdown",
   "metadata": {
    "application/vnd.databricks.v1+cell": {
     "cellMetadata": {},
     "inputWidgets": {},
     "nuid": "35243feb-cb94-4581-b6a9-8859eda1dd3a",
     "showTitle": false,
     "tableResultSettingsMap": {},
     "title": ""
    }
   },
   "source": [
    "\n",
    "<div style=\"text-align: center; line-height: 0; padding-top: 9px;\">\n",
    "  <img src=\"https://databricks.com/wp-content/uploads/2018/03/db-academy-rgb-1200px.png\" alt=\"Databricks Learning\">\n",
    "</div>\n"
   ]
  },
  {
   "cell_type": "markdown",
   "metadata": {
    "application/vnd.databricks.v1+cell": {
     "cellMetadata": {},
     "inputWidgets": {},
     "nuid": "dd2cda2d-95b5-42bc-9fb4-213baffae09a",
     "showTitle": false,
     "tableResultSettingsMap": {},
     "title": ""
    }
   },
   "source": [
    "\n",
    "# Exploding Join\n",
    "\n",
    "In this lab, we will be working on improving query performance on an exploding join between 3 tables:\n",
    "- **transactions**\n",
    "- **stores**\n",
    "- **countries**\n",
    "\n",
    "We want to identify spill introduced by the exploding join and gradually improve the performance of the join.\n"
   ]
  },
  {
   "cell_type": "markdown",
   "metadata": {
    "application/vnd.databricks.v1+cell": {
     "cellMetadata": {},
     "inputWidgets": {},
     "nuid": "2cf1660f-21c3-4117-9235-f92170a9a8d0",
     "showTitle": false,
     "tableResultSettingsMap": {},
     "title": ""
    }
   },
   "source": [
    "## REQUIRED - SELECT CLASSIC COMPUTE\n",
    "\n",
    "Before executing cells in this notebook, please select your classic compute cluster in the lab. Be aware that **Serverless** is enabled by default. If you use Serverless, errors will be returned when setting compute runtime properties.\n",
    "\n",
    "Follow these steps to select the classic compute cluster:\n",
    "\n",
    "1. Navigate to the top-right of this notebook and click the drop-down menu to select your cluster. By default, the notebook will use **Serverless**.\n",
    "\n",
    "1. If your cluster is available, select it and continue to the next cell. If the cluster is not shown:\n",
    "\n",
    "  - In the drop-down, select **More**.\n",
    "\n",
    "  - In the **Attach to an existing compute resource** pop-up, select the first drop-down. You will see a unique cluster name in that drop-down. Please select that cluster.\n",
    "\n",
    "**NOTE:** If your cluster has terminated, you might need to restart it in order to select it. To do this:\n",
    "\n",
    "1. Right-click on **Compute** in the left navigation pane and select *Open in new tab*.\n",
    "\n",
    "1. Find the triangle icon to the right of your compute cluster name and click it.\n",
    "\n",
    "1. Wait a few minutes for the cluster to start.\n",
    "\n",
    "1. Once the cluster is running, complete the steps above to select your cluster."
   ]
  },
  {
   "cell_type": "markdown",
   "metadata": {
    "application/vnd.databricks.v1+cell": {
     "cellMetadata": {},
     "inputWidgets": {},
     "nuid": "ae7f1f44-6c2e-4aa0-937f-3006207b0fc0",
     "showTitle": false,
     "tableResultSettingsMap": {},
     "title": ""
    }
   },
   "source": [
    "## A. Classroom Setup\n",
    "\n",
    "Run the following cell to configure your working environment for this course. It will also set your default catalog to **dbacademy** and the default schema to your specific schema name shown below using the `USE` statements.\n",
    "<br></br>\n",
    "\n",
    "\n",
    "```\n",
    "USE CATALOG dbacademy;\n",
    "USE SCHEMA dbacademy.<your unique schema name>;\n",
    "```\n",
    "\n",
    "**NOTE:** The `DA` object is only used in Databricks Academy courses and is not available outside of these courses. It will dynamically reference the information needed to run the course."
   ]
  },
  {
   "cell_type": "code",
   "execution_count": 0,
   "metadata": {
    "application/vnd.databricks.v1+cell": {
     "cellMetadata": {},
     "inputWidgets": {},
     "nuid": "bd08038a-4d80-40f0-8669-ca3e08ade373",
     "showTitle": false,
     "tableResultSettingsMap": {},
     "title": ""
    }
   },
   "outputs": [],
   "source": [
    "%run ./Includes/Classroom-Setup-4L"
   ]
  },
  {
   "cell_type": "markdown",
   "metadata": {
    "application/vnd.databricks.v1+cell": {
     "cellMetadata": {},
     "inputWidgets": {},
     "nuid": "dc5464db-e273-4042-ba66-24e9ee8b1882",
     "showTitle": false,
     "tableResultSettingsMap": {},
     "title": ""
    }
   },
   "source": [
    "## B. Disable Caching\n",
    "\n",
    "Run the following cell to set a Spark configuration variable that disables disk caching.\n",
    "\n",
    "Turning disk caching off prevents Databricks from storing cloud storage files after the first query. This makes the effect of the optimizations more apparent by ensuring that files are always pulled from cloud storage for each query.\n",
    "\n",
    "For more information, see [Optimize performance with caching on Databricks](https://docs.databricks.com/en/optimizations/disk-cache.html#optimize-performance-with-caching-on-databricks).\n",
    "\n",
    "**NOTE:** This will not work in Serverless. Please use classic compute to turn off caching. If you're using Serverless, an error will be returned."
   ]
  },
  {
   "cell_type": "code",
   "execution_count": 0,
   "metadata": {
    "application/vnd.databricks.v1+cell": {
     "cellMetadata": {},
     "inputWidgets": {},
     "nuid": "b15263f5-22cd-4a65-9f43-e91aecb89404",
     "showTitle": false,
     "tableResultSettingsMap": {},
     "title": ""
    }
   },
   "outputs": [],
   "source": [
    "spark.conf.set('spark.databricks.io.cache.enabled', False)"
   ]
  },
  {
   "cell_type": "markdown",
   "metadata": {
    "application/vnd.databricks.v1+cell": {
     "cellMetadata": {},
     "inputWidgets": {},
     "nuid": "d8752c25-c49a-4f92-a332-718015851b35",
     "showTitle": false,
     "tableResultSettingsMap": {},
     "title": ""
    }
   },
   "source": [
    "## C. Creating & Storing Data"
   ]
  },
  {
   "cell_type": "markdown",
   "metadata": {
    "application/vnd.databricks.v1+cell": {
     "cellMetadata": {},
     "inputWidgets": {},
     "nuid": "181cf038-5a30-47a9-a1d2-a69b7ea9bb3f",
     "showTitle": false,
     "tableResultSettingsMap": {},
     "title": ""
    }
   },
   "source": [
    "### C1. Create the transactions table\n",
    "Generate the **transactions** table with the schema below and write it to a Delta table. This is the table with the largest amount of data, containing 2,000,000 rows.\n"
   ]
  },
  {
   "cell_type": "code",
   "execution_count": 0,
   "metadata": {
    "application/vnd.databricks.v1+cell": {
     "cellMetadata": {},
     "inputWidgets": {},
     "nuid": "119aff27-1cf1-4e21-bede-d8d9a02142e7",
     "showTitle": false,
     "tableResultSettingsMap": {},
     "title": ""
    }
   },
   "outputs": [],
   "source": [
    "from pyspark.sql.functions import *\n",
    "\n",
    "## Delete the table if it exists\n",
    "spark.sql('DROP TABLE IF EXISTS transactions')\n",
    "\n",
    "\n",
    "## Create the table\n",
    "transactions_df = (spark\n",
    "                   .range(0, 2000000, 1, 32)\n",
    "                    .select(\n",
    "                        'id',\n",
    "                        round(rand() * 10000, 2).alias('amount'),\n",
    "                        (col('id') % 10).alias('country_id'),\n",
    "                        (col('id') % 100).alias('store_id')\n",
    "                    )\n",
    "                    .write\n",
    "                    .mode('overwrite')\n",
    "                    .option(\"overwriteSchema\", \"true\")\n",
    "                    .saveAsTable('transactions')\n",
    "                )\n",
    "\n",
    "## Display the table\n",
    "display(spark.sql('SELECT * FROM transactions LIMIT 10'))"
   ]
  },
  {
   "cell_type": "markdown",
   "metadata": {
    "application/vnd.databricks.v1+cell": {
     "cellMetadata": {},
     "inputWidgets": {},
     "nuid": "6da0b9ff-018e-4437-b60f-75f6e6e4bb13",
     "showTitle": false,
     "tableResultSettingsMap": {},
     "title": ""
    }
   },
   "source": [
    "### C2. Create the countries table\n",
    "Generate the **countries** table to join with the **transactions** table later."
   ]
  },
  {
   "cell_type": "code",
   "execution_count": 0,
   "metadata": {
    "application/vnd.databricks.v1+cell": {
     "cellMetadata": {},
     "inputWidgets": {},
     "nuid": "f88325a2-680b-4ba7-89c1-59458e40beca",
     "showTitle": false,
     "tableResultSettingsMap": {},
     "title": ""
    }
   },
   "outputs": [],
   "source": [
    "## Drop the table if it exists\n",
    "spark.sql('DROP TABLE IF EXISTS countries')\n",
    "\n",
    "## Create the table\n",
    "countries = [(0, \"Italy\"),\n",
    "             (1, \"Canada\"),\n",
    "             (2, \"Mexico\"),\n",
    "             (3, \"China\"),\n",
    "             (4, \"Germany\"),\n",
    "             (5, \"UK\"),\n",
    "             (6, \"Japan\"),\n",
    "             (7, \"Korea\"),\n",
    "             (8, \"Australia\"),\n",
    "             (9, \"France\"),\n",
    "             (10, \"Spain\"),\n",
    "             (11, \"USA\")\n",
    "            ]\n",
    "columns = [\"id\", \"name\"]\n",
    "\n",
    "countries_df = (spark\n",
    "                .createDataFrame(data = countries, schema = columns)\n",
    "                .write\n",
    "                .mode('overwrite')\n",
    "                .saveAsTable(\"countries\")\n",
    "            )\n",
    "\n",
    "\n",
    "## Display the table\n",
    "display(spark.sql('SELECT * FROM countries'))"
   ]
  },
  {
   "cell_type": "markdown",
   "metadata": {
    "application/vnd.databricks.v1+cell": {
     "cellMetadata": {},
     "inputWidgets": {},
     "nuid": "17972da7-5351-4a5b-a73b-4d20c8b164ec",
     "showTitle": false,
     "tableResultSettingsMap": {},
     "title": ""
    }
   },
   "source": [
    "\n",
    "### C3. Create the stores table\n",
    "- Generate the **stores** table to join with the **transactions** table later on.\n",
    "- The **stores** table intentionally contains duplicates of the **id** value, which will introduce an exploding join with the **transactions** table.\n",
    "- When joining the **transactions** table with the **stores** table, a number of rows will explode due to the duplicated **ids**.\n"
   ]
  },
  {
   "cell_type": "code",
   "execution_count": 0,
   "metadata": {
    "application/vnd.databricks.v1+cell": {
     "cellMetadata": {},
     "inputWidgets": {},
     "nuid": "d265d9d7-476d-4aa6-ae6d-36e1e0880392",
     "showTitle": false,
     "tableResultSettingsMap": {},
     "title": ""
    }
   },
   "outputs": [],
   "source": [
    "## Drop the table if it exists\n",
    "spark.sql('DROP TABLE IF EXISTS stores')\n",
    "\n",
    "\n",
    "stores_df = (spark\n",
    "                .range(0, 9999)\n",
    "                .select(\n",
    "                    (col('id') % 100).alias('id'), # intentionally duplicating ids to explode the join\n",
    "                    round(rand() * 100, 0).alias('employees'),\n",
    "                    (col('id') % 10).alias('country_id'),\n",
    "                    expr('uuid()').alias('name')\n",
    "                )\n",
    "                .write\n",
    "                .mode('overwrite')\n",
    "                .saveAsTable('stores')\n",
    "            )\n",
    "\n",
    "\n",
    "## Display the table\n",
    "display(spark.sql('SELECT * FROM stores ORDER BY id'))"
   ]
  },
  {
   "cell_type": "markdown",
   "metadata": {
    "application/vnd.databricks.v1+cell": {
     "cellMetadata": {},
     "inputWidgets": {},
     "nuid": "ea947e30-cd34-47c0-8373-548368609006",
     "showTitle": false,
     "tableResultSettingsMap": {},
     "title": ""
    }
   },
   "source": [
    "## D. Perform an Exploding Join"
   ]
  },
  {
   "cell_type": "markdown",
   "metadata": {
    "application/vnd.databricks.v1+cell": {
     "cellMetadata": {},
     "inputWidgets": {},
     "nuid": "ac883688-43ef-47e6-84ce-b95f7a21abbb",
     "showTitle": false,
     "tableResultSettingsMap": {},
     "title": ""
    }
   },
   "source": [
    "In this cell, turn off broadcast joins to gradually demonstrate the performance improvements of tuning the join strategy.\n",
    "\n",
    "\n",
    "- [spark.sql.autoBroadcastJoinThreshold](https://spark.apache.org/docs/3.5.3/sql-performance-tuning.html#other-configuration-options) documentation\n",
    "\n",
    "- [spark.databricks.adaptive.autoBroadcastJoinThreshold](https://spark.apache.org/docs/3.5.3/sql-performance-tuning.html#converting-sort-merge-join-to-broadcast-join) documentation"
   ]
  },
  {
   "cell_type": "code",
   "execution_count": 0,
   "metadata": {
    "application/vnd.databricks.v1+cell": {
     "cellMetadata": {},
     "inputWidgets": {},
     "nuid": "f78b2863-5f9c-4af7-9f9b-9dc02c324eed",
     "showTitle": false,
     "tableResultSettingsMap": {},
     "title": ""
    }
   },
   "outputs": [],
   "source": [
    "## Disabling the automatic broadcast join entirely. That is, Spark will never broadcast any dataset for joins, regardless of its size.\n",
    "spark.conf.set(\"spark.sql.autoBroadcastJoinThreshold\", -1)\n",
    "\n",
    "# Disabling the broadcast join feature under AQE, meaning that even when using adaptive query execution, Spark will not attempt to broadcast any smaller side of a join.\n",
    "spark.conf.set(\"spark.databricks.adaptive.autoBroadcastJoinThreshold\", -1)"
   ]
  },
  {
   "cell_type": "markdown",
   "metadata": {
    "application/vnd.databricks.v1+cell": {
     "cellMetadata": {},
     "inputWidgets": {},
     "nuid": "712c68c4-9810-4450-9683-a0847c34586a",
     "showTitle": false,
     "tableResultSettingsMap": {},
     "title": ""
    }
   },
   "source": [
    "We will be joining the **transactions** table with the **countries** and **stores** data, and trigger the action by saving the result to a table named **transact_countries**. The query has been written for you below.\n",
    "\n",
    "Run the cell, note down the time taken to execute the query, and compare it with each optimization.\n",
    "\n",
    "**NOTE:** This should take about ~1 minute.\n"
   ]
  },
  {
   "cell_type": "code",
   "execution_count": 0,
   "metadata": {
    "application/vnd.databricks.v1+cell": {
     "cellMetadata": {},
     "inputWidgets": {},
     "nuid": "4a2f0ebf-d087-4e9c-8618-d405cfda0b2c",
     "showTitle": false,
     "tableResultSettingsMap": {},
     "title": ""
    }
   },
   "outputs": [],
   "source": [
    "joined_df_nobroadcast = spark.sql(\"\"\"\n",
    "    SELECT \n",
    "        transactions.id,\n",
    "        amount,\n",
    "        countries.name as country_name,\n",
    "        employees,\n",
    "        stores.name as store_name\n",
    "    FROM\n",
    "        transactions\n",
    "    JOIN\n",
    "        stores\n",
    "        ON\n",
    "            transactions.store_id = stores.id\n",
    "    JOIN\n",
    "        countries\n",
    "        ON\n",
    "            transactions.country_id = countries.id\n",
    "\"\"\")\n",
    "\n",
    "(joined_df_nobroadcast\n",
    " .write\n",
    " .mode('overwrite')\n",
    " .saveAsTable('transact_countries')\n",
    ")"
   ]
  },
  {
   "cell_type": "markdown",
   "metadata": {
    "application/vnd.databricks.v1+cell": {
     "cellMetadata": {},
     "inputWidgets": {},
     "nuid": "6d97a87b-436e-4801-9c16-7c5c62ba44ff",
     "showTitle": false,
     "tableResultSettingsMap": {},
     "title": ""
    }
   },
   "source": [
    "### D1. TODO: See the Exploding Join\n",
    "Open the Spark UI and navigate to the **Stages** page. Identify the explosion of rows in the DAG of the Spark UI. To view the DAG, complete the following:\n",
    "\n",
    "1. In the cell above, expand **Spark Jobs**.\n",
    "\n",
    "2. In the first job, right-click on **View** and select *Open in a New Tab*.\n",
    "\n",
    "    **NOTE:** In the Vocareum lab environment, if you click **View** without opening it in a new tab, the pop-up window will display an error.\n",
    "\n",
    "3. In the new window, find the **Associated SQL Query** header at the top and select the number.\n",
    "\n",
    "4. Here, you should see the entire query plan. Read the DAG graph from bottom to top to better understand the details of the execution plan.\n",
    "\n",
    "<br></br>\n",
    "![1.4-d1-exploding_join_shuffle_dag.png](./Includes/images/1.4-d1-exploding_join_shuffle_dag.png)\n",
    "\n",
    "5. In the query plan, below the number of rows (199,980,000), expand the **PhotonShuffleExchangeSink** box (the arrow in the image above shows you what to expand). Notice that the **metric** for *estimated rows output* has exploded by 100x after joining the **transactions** table with the **stores** table, which is caused by duplicates of the store-id in the stores table.\n",
    "\n",
    "6. In the same location, look at the **metric** **num bytes spilled to disk due to memory pressure total (min, med, max)**. Notice that *927.6 MiB* (value can vary) spilled to disk.\n",
    "\n",
    "7. Leave the Spark UI open.\n"
   ]
  },
  {
   "cell_type": "markdown",
   "metadata": {
    "application/vnd.databricks.v1+cell": {
     "cellMetadata": {},
     "inputWidgets": {},
     "nuid": "de872340-22c5-4029-a325-f6505688fdb6",
     "showTitle": false,
     "tableResultSettingsMap": {},
     "title": ""
    }
   },
   "source": [
    "### D2. TODO: See the Spill\n",
    "In the Spark UI view the memory spill. \n",
    "\n",
    "1. In the Spark UI select **Stages** on the top navigation bar. Here you can see all the stages performed on the cluster.\n",
    "\n",
    "2. Find the stage with the largest amount of **Shuffle Writes** (should be around 1335.0 MiB, but it can vary) for the query within the **Description** column that begins with `joined_df_nobroadcast = spark(\"\"\"SELECT...)`.\n",
    "\n",
    "3. After you find that stage, select the link in the **Description** field.\n",
    "![1.4-d2_find_spill.png](./Includes/images/1.4-d2_find_spill.png)\n",
    "\n",
    "4. Look at the field **Spill (Disk)** for the stage. Notice that this query spilled to disk.\n",
    "\n",
    "    **NOTE:** In Apache Spark, when there's more data than it can handle in memory, it puts some of the extra data on the hard drive. This is called *spilling to disk* and the 927.9 MiB means it had to move about 927.9 megabytes of data to the hard drive to keep processing.\n",
    "\n",
    "<br></br>\n",
    "![1.4-d2_memory_spill.png](./Includes/images/1.4-d2_memory_spill.png)\n",
    "\n",
    "\n",
    "\n",
    "5. In the same page look at the **Locality Level Summary**. This means that the number of partitions in this stage is 4. Think to yourself, is this a good setting?\n",
    "\n",
    "6. Close the Spark UI browser."
   ]
  },
  {
   "cell_type": "markdown",
   "metadata": {
    "application/vnd.databricks.v1+cell": {
     "cellMetadata": {},
     "inputWidgets": {},
     "nuid": "1ca3841a-0d98-48a3-bcdc-e12a495eb9f0",
     "showTitle": false,
     "tableResultSettingsMap": {},
     "title": ""
    }
   },
   "source": [
    "\n",
    "## E. Improve: Increasing the number of shuffle partitions\n",
    "Let's try to increase the performance of this query by increasing the number of shuffle partitions. You can do this by modifying the **spark.sql.shuffle.partitions** configuration setting and setting it to **8** partitions. \n",
    "\n",
    "This configures the number of partitions to use when shuffling data for joins or aggregations.\n",
    "\n",
    "For more information, view the [spark.sql.shuffle.partitions](https://spark.apache.org/docs/3.5.3/sql-performance-tuning.html#other-configuration-options) documentation.\n"
   ]
  },
  {
   "cell_type": "code",
   "execution_count": 0,
   "metadata": {
    "application/vnd.databricks.v1+cell": {
     "cellMetadata": {},
     "inputWidgets": {},
     "nuid": "d4c07c1f-83f2-4c69-ac87-f80e27d6ed1f",
     "showTitle": false,
     "tableResultSettingsMap": {},
     "title": ""
    }
   },
   "outputs": [],
   "source": [
    "## Rerun the cell to turn off the broadcast join features if not already turned off\n",
    "spark.conf.set(\"spark.sql.autoBroadcastJoinThreshold\", -1)\n",
    "spark.conf.set(\"spark.databricks.adaptive.autoBroadcastJoinThreshold\", -1)\n",
    "\n",
    "# Deal with the spill by increasing the number of shuffle partitions to 8\n",
    "# Not a huge difference in this small example, but as the amount of data spilled increases\n",
    "# This can make a big difference\n",
    "spark.conf.set(\"spark.sql.shuffle.partitions\", <FILL_IN>)"
   ]
  },
  {
   "cell_type": "markdown",
   "metadata": {
    "application/vnd.databricks.v1+cell": {
     "cellMetadata": {},
     "inputWidgets": {},
     "nuid": "642450d6-5d0b-4824-a9db-bf4c59f7dc03",
     "showTitle": false,
     "tableResultSettingsMap": {},
     "title": ""
    }
   },
   "source": [
    "Run the same query as the previous example, but this time with the number of shuffle partitions set to 8. Note the time the query takes to execute.\n",
    "\n",
    "**NOTE:** This should take about ~50 seconds.\n"
   ]
  },
  {
   "cell_type": "code",
   "execution_count": 0,
   "metadata": {
    "application/vnd.databricks.v1+cell": {
     "cellMetadata": {},
     "inputWidgets": {},
     "nuid": "31530218-ae17-4828-861f-79503001cdd7",
     "showTitle": false,
     "tableResultSettingsMap": {},
     "title": ""
    }
   },
   "outputs": [],
   "source": [
    "joined_df_8_partitions = spark.sql(\"\"\"\n",
    "    SELECT \n",
    "        transactions.id,\n",
    "        amount,\n",
    "        countries.name as country_name,\n",
    "        employees,\n",
    "        stores.name as store_name\n",
    "    FROM\n",
    "        transactions\n",
    "    JOIN\n",
    "        stores\n",
    "        ON\n",
    "            transactions.store_id = stores.id\n",
    "    JOIN\n",
    "        countries\n",
    "        ON\n",
    "            transactions.country_id = countries.id\n",
    "\"\"\")\n",
    "\n",
    "(joined_df_8_partitions\n",
    " .write\n",
    " .mode('overwrite')\n",
    " .saveAsTable('transact_countries')\n",
    ")\n",
    "\n",
    "## Reset the shuffle.partions to the default setting\n",
    "spark.conf.unset(\"spark.sql.shuffle.partitions\")"
   ]
  },
  {
   "cell_type": "markdown",
   "metadata": {
    "application/vnd.databricks.v1+cell": {
     "cellMetadata": {},
     "inputWidgets": {},
     "nuid": "aa1fe216-c228-4e4b-86d8-554d8f860ded",
     "showTitle": false,
     "tableResultSettingsMap": {},
     "title": ""
    }
   },
   "source": [
    "### E1. TODO: See the Spill\n",
    "\n",
    "In the Spark UI view the memory spill. \n",
    "\n",
    "1. In the Spark UI select **Stages** on the top navigation bar.\n",
    "\n",
    "2. Find the stage with the largest amount of shuffle writes (should be around 679.9 MiB, but it can vary) for the query within the **Description** column that begins with `joined_df_8_partitions = spark(\"\"\"SELECT...)`.\n",
    "\n",
    "3. After you find that stage, select the link in the **Description** field.\n",
    "\n",
    "4. Look at the field **Spill (Disk)**. Notice that this stage spilled to disk.\n",
    "\n",
    "    **NOTE:** In Apache Spark, when there's more data than it can handle in memory, it puts some of the extra data on the hard drive. This is called *spilling to disk* and the 273.4 MiB means it had to move about 273.4 MiB of data to the hard drive to keep processing.\n",
    "\n",
    "    When modifying the number of partitions the spill has decreased.\n",
    "\n",
    "\n",
    "<br></br>\n",
    "![1.4-e_memory_spill.png](./Includes/images/1.4-e_memory_spill.png)\n",
    "<br></br>\n",
    "\n",
    "5. In the same page look at the **Locality Level Summary**. This means that the number of partitions in this stage is 6 even though we set the number of partitions to 8. This is because Spark automatically decides to combine smaller partitions into bigger ones during a job, which can help Spark finish the job more quickly and use less memory. \n",
    "\n",
    "    You can disable this by setting the following option `spark.conf.set(\"spark.sql.adaptive.coalescePartitions.enabled\", False)`.\n",
    "\n",
    "\n",
    "6. Note down amount of data spilled has been reduced and time taken to execute the query is a bit faster. \n",
    "\n",
    "**NOTE:** The spill metrics of 273MB spilled can be observed in query plan in **PhotonShuffleExchangeSink** that follows the join operations, as well as stage details for stage that has largets amount of shuffle writes."
   ]
  },
  {
   "cell_type": "markdown",
   "metadata": {
    "application/vnd.databricks.v1+cell": {
     "cellMetadata": {},
     "inputWidgets": {},
     "nuid": "57ce678b-afc4-41c7-9448-371b4476ac84",
     "showTitle": false,
     "tableResultSettingsMap": {},
     "title": ""
    }
   },
   "source": [
    "## F. Improve: Change the Order of the Join"
   ]
  },
  {
   "cell_type": "markdown",
   "metadata": {
    "application/vnd.databricks.v1+cell": {
     "cellMetadata": {},
     "inputWidgets": {},
     "nuid": "d6182f2a-b36b-403a-ac49-cedd198b5a49",
     "showTitle": false,
     "tableResultSettingsMap": {},
     "title": ""
    }
   },
   "source": [
    "Run the cell below to turn off **autoBroadcastJoinThreshold** if not already turned off."
   ]
  },
  {
   "cell_type": "code",
   "execution_count": 0,
   "metadata": {
    "application/vnd.databricks.v1+cell": {
     "cellMetadata": {},
     "inputWidgets": {},
     "nuid": "e4930c36-db14-41b2-a656-fe9a9543f5c2",
     "showTitle": false,
     "tableResultSettingsMap": {},
     "title": ""
    }
   },
   "outputs": [],
   "source": [
    "## Turn off the broadcast join features if not already turned off\n",
    "spark.conf.set(\"spark.sql.autoBroadcastJoinThreshold\", -1)\n",
    "spark.conf.set(\"spark.databricks.adaptive.autoBroadcastJoinThreshold\", -1)"
   ]
  },
  {
   "cell_type": "markdown",
   "metadata": {
    "application/vnd.databricks.v1+cell": {
     "cellMetadata": {},
     "inputWidgets": {},
     "nuid": "47257a4d-a126-4507-a090-c8f47b43aba3",
     "showTitle": false,
     "tableResultSettingsMap": {},
     "title": ""
    }
   },
   "source": [
    "Let's look at the modified query below, which now joins the **transactions** table with the **countries** first, then joins with the **stores** table. \n",
    "\n",
    "Running the smaller join first (avoiding the large exploding join) means we don't have to shuffle as much data as we did when joining with the **stores** table first.\n",
    "\n",
    "Run the cell and note the amount of time it takes to complete the query.\n",
    "\n",
    "**NOTE:** The query has been modified for you. Simply run the cell."
   ]
  },
  {
   "cell_type": "code",
   "execution_count": 0,
   "metadata": {
    "application/vnd.databricks.v1+cell": {
     "cellMetadata": {},
     "inputWidgets": {},
     "nuid": "b682c449-9103-4fce-bedb-dbf8cbfdd4a0",
     "showTitle": false,
     "tableResultSettingsMap": {},
     "title": ""
    }
   },
   "outputs": [],
   "source": [
    "small_joined_first_df = spark.sql(\"\"\"\n",
    "    SELECT \n",
    "        transactions.id,\n",
    "        amount,\n",
    "        countries.name as country_name,\n",
    "        employees,\n",
    "        stores.name as store_name\n",
    "    FROM\n",
    "        transactions\n",
    "    -- Notice that we are joining with countries first to avoid instead of stores --\n",
    "    JOIN\n",
    "        countries\n",
    "        ON\n",
    "            transactions.country_id = countries.id\n",
    "    -- Then we join the results with the stores table, avoiding the shuffle of the large exploding join  --\n",
    "    JOIN\n",
    "        stores\n",
    "        ON\n",
    "            transactions.store_id = stores.id\n",
    "\"\"\")\n",
    "\n",
    "\n",
    "(small_joined_first_df\n",
    " .write\n",
    " .mode('overwrite')\n",
    " .saveAsTable('transact_countries')\n",
    ")"
   ]
  },
  {
   "cell_type": "markdown",
   "metadata": {
    "application/vnd.databricks.v1+cell": {
     "cellMetadata": {},
     "inputWidgets": {},
     "nuid": "55675487-5571-4f1f-bd27-5d8baeb8def5",
     "showTitle": false,
     "tableResultSettingsMap": {},
     "title": ""
    }
   },
   "source": [
    "### F1. TODO: See the Shuffles\n",
    "Open the Spark UI and navigate to the query DAG. Identify the explosion of rows in the DAG of the Spark UI. To view how the DAG works, complete the following:\n",
    "\n",
    "1. In the cell above, expand **Spark Jobs**.\n",
    "\n",
    "2. In the first Job, right-click on **View** and select *Open in a New Tab*. \n",
    "\n",
    "    **NOTE:** In the Vocareum lab environment, if you click **View** without opening it in a new tab, the pop-up window will display an error.\n",
    "\n",
    "3. In the new window, find the **Associated SQL Query** header at the top and select the number.\n",
    "\n",
    "4. Here, you should see the entire query plan. Read the DAG graph bottom-up to better understand the details of the execution plan. \n",
    "\n",
    "5. In the query plan view, notice that the first join is between the **transactions** and **countries** tables, which returns 2 million results. Then, the results join with the **stores** table, creating the exploding join. This avoids having to shuffle the large join between **transactions** and **stores** (~200,000,000 rows) as we did in the first query.\n",
    "\n",
    "<br></br>\n",
    "![1.4-f_smaller_join_first_dag.png](./Includes/images/1.4-f_smaller_join_first_dag.png)\n",
    "\n",
    "<br></br>\n",
    "6. Leave the Spark UI open.\n"
   ]
  },
  {
   "cell_type": "markdown",
   "metadata": {
    "application/vnd.databricks.v1+cell": {
     "cellMetadata": {},
     "inputWidgets": {},
     "nuid": "f69d1fdf-814c-4e2f-b043-a906fbc3f42d",
     "showTitle": false,
     "tableResultSettingsMap": {},
     "title": ""
    }
   },
   "source": [
    "### F2. TODO: See the Spill\n",
    "In the Spark UI view the memory spill. \n",
    "\n",
    "1. In the Spark UI select **Stages** on the top navigation bar. Here you can see all the stages performed on the cluster.\n",
    "\n",
    "2. Find the stage with the largest amount of **Shuffle Writes** (should be around 19.1 MiB, but it can vary) for the query within the **Description** column that begins with `small_joined_first_df = spark(\"\"\"SELECT...)`.\n",
    "\n",
    "3. After you find that stage, select the link in the **Description** field.\n",
    "\n",
    "4. Look at the field **Spill (Disk)**. Notice that this query did not spill to disk.\n",
    "\n",
    "<br></br>\n",
    "![1.4-f2_memory_spill.png](./Includes/images/1.4-f2_memory_spill.png)\n",
    "<br></br>\n",
    "\n",
    "\n",
    "5. Close the Spark UI browser."
   ]
  },
  {
   "cell_type": "markdown",
   "metadata": {
    "application/vnd.databricks.v1+cell": {
     "cellMetadata": {},
     "inputWidgets": {},
     "nuid": "45de35f3-e8a7-4360-bb70-2bdc6afe4579",
     "showTitle": false,
     "tableResultSettingsMap": {},
     "title": ""
    }
   },
   "source": [
    "Can you still see Spill in Spark UI? Did this query run faster or slower than the previous example?"
   ]
  },
  {
   "cell_type": "markdown",
   "metadata": {
    "application/vnd.databricks.v1+cell": {
     "cellMetadata": {},
     "inputWidgets": {},
     "nuid": "d1e55129-a1d4-4b2c-a683-ec41b1ab39a5",
     "showTitle": false,
     "tableResultSettingsMap": {},
     "title": ""
    }
   },
   "source": [
    "\n",
    "## G. Improve: Analyze and Use Default Broadcast Configurations: \n"
   ]
  },
  {
   "cell_type": "markdown",
   "metadata": {
    "application/vnd.databricks.v1+cell": {
     "cellMetadata": {},
     "inputWidgets": {},
     "nuid": "166895e0-cd47-4a6e-96db-82b1c075f417",
     "showTitle": false,
     "tableResultSettingsMap": {},
     "title": ""
    }
   },
   "source": [
    "Reset the **spark.sql.autoBroadcastJoinThreshold** and **spark.databricks.adaptive.autoBroadcastJoinThreshold** configurations using the `spark.conf.unset()` method.\n",
    "\n",
    "[spark.sql.autoBroadcastJoinThreshold](https://spark.apache.org/docs/3.5.3/sql-performance-tuning.html#other-configuration-options) documentation\n",
    "\n",
    "[spark.databricks.adaptive.autoBroadcastJoinThreshold](https://spark.apache.org/docs/3.5.3/sql-performance-tuning.html#converting-sort-merge-join-to-broadcast-join) documentation\n",
    "\n",
    "Run the cell and view the results. Confirm the following default values for the configurations:\n",
    "- *Default value of autoBroadcastJoinThreshold: 10,485,760 bytes*\n",
    "- *Default value of adaptive.autoBroadcastJoinThreshold: 31,457,280 bytes*\n"
   ]
  },
  {
   "cell_type": "code",
   "execution_count": 0,
   "metadata": {
    "application/vnd.databricks.v1+cell": {
     "cellMetadata": {},
     "inputWidgets": {},
     "nuid": "94b2ec9f-e895-4148-8fc1-f1ab573ac1b4",
     "showTitle": false,
     "tableResultSettingsMap": {},
     "title": ""
    }
   },
   "outputs": [],
   "source": [
    "# Reset defaults here\n",
    "spark.conf.unset(<FILL_IN>)\n",
    "spark.conf.unset(<FILL_IN>)\n",
    "\n",
    "# Display the values\n",
    "print(f'Default value of autoBroadcastJoinThreshold: {spark.conf.get(\"spark.sql.autoBroadcastJoinThreshold\")}')\n",
    "print(f'Default value of adaptive.autoBroadcastJoinThreshold: {spark.conf.get(\"spark.databricks.adaptive.autoBroadcastJoinThreshold\")}')"
   ]
  },
  {
   "cell_type": "markdown",
   "metadata": {
    "application/vnd.databricks.v1+cell": {
     "cellMetadata": {},
     "inputWidgets": {},
     "nuid": "e9a7ee5d-c18c-432f-ad48-82277ce64c19",
     "showTitle": false,
     "tableResultSettingsMap": {},
     "title": ""
    }
   },
   "source": [
    "Cost-based optimizers rely on statistics information to generate the most efficient physical query plan with the lowest cost. This includes decisions on join strategy and the order of joins.\n",
    "\n",
    "Running `ANALYZE` on the joining columns across the three tables allows the optimizer to make better decisions, and everything will work as if by magic. \n",
    "\n",
    "Complete the cell below by writing the required `ANALYZE` statements. \n",
    "\n",
    "**HINT:** View the [ANALYZE TABLE](https://docs.databricks.com/en/sql/language-manual/sql-ref-syntax-aux-analyze-table.html) documentation for more information.\n"
   ]
  },
  {
   "cell_type": "code",
   "execution_count": 0,
   "metadata": {
    "application/vnd.databricks.v1+cell": {
     "cellMetadata": {},
     "inputWidgets": {},
     "nuid": "e17af86b-6f02-4f63-8100-1776a94f8c19",
     "showTitle": false,
     "tableResultSettingsMap": {},
     "title": ""
    }
   },
   "outputs": [],
   "source": [
    "\n",
    "# Analyze the transactions table and compute statistics for columns country_id and store_id\n",
    "\n",
    "\n",
    "# Analyze the stores table and compute statistics for the column id\n",
    "\n",
    "\n",
    "# Analyze the countries table and compute statistics for the column id"
   ]
  },
  {
   "cell_type": "markdown",
   "metadata": {
    "application/vnd.databricks.v1+cell": {
     "cellMetadata": {},
     "inputWidgets": {},
     "nuid": "3f940539-0258-4937-b4c1-33d769db1a70",
     "showTitle": false,
     "tableResultSettingsMap": {},
     "title": ""
    }
   },
   "source": [
    "\n",
    "In the example below, a developer writes joins without considering the optimal order of joins.\n",
    "\n",
    "Run the query again using the initial query we used in this demonstration that joins **transactions** with **stores** first and explodes the data for the large shuffle. \n",
    "\n",
    "Will letting Spark figure out how to join the data efficiently work? \n",
    "\n",
    "Note down time taken to do the join."
   ]
  },
  {
   "cell_type": "code",
   "execution_count": 0,
   "metadata": {
    "application/vnd.databricks.v1+cell": {
     "cellMetadata": {},
     "inputWidgets": {},
     "nuid": "213d3615-2f10-47c9-9027-856dc044a4f4",
     "showTitle": false,
     "tableResultSettingsMap": {},
     "title": ""
    }
   },
   "outputs": [],
   "source": [
    "joined_df_analyze = spark.sql(\"\"\"\n",
    "    SELECT \n",
    "        transactions.id,\n",
    "        amount,\n",
    "        countries.name as country_name,\n",
    "        employees,\n",
    "        stores.name as store_name\n",
    "    FROM\n",
    "        transactions\n",
    "    JOIN\n",
    "        stores\n",
    "        ON\n",
    "            transactions.store_id = stores.id\n",
    "    JOIN\n",
    "        countries\n",
    "        ON\n",
    "            transactions.country_id = countries.id\n",
    "\"\"\")\n",
    "\n",
    "(joined_df_analyze\n",
    " .write\n",
    " .mode('overwrite')\n",
    " .saveAsTable('transact_countries')\n",
    ")"
   ]
  },
  {
   "cell_type": "markdown",
   "metadata": {
    "application/vnd.databricks.v1+cell": {
     "cellMetadata": {},
     "inputWidgets": {},
     "nuid": "be418688-a621-488c-a700-3fdd57e238c1",
     "showTitle": false,
     "tableResultSettingsMap": {},
     "title": ""
    }
   },
   "source": [
    "**NOTES:**\n",
    "- We put the shuffle settings back to the defaults.  Usually best to stick with the defaults which tend to improve over time.  If you hard-code configurations, you may be opting out of future performance improvements unwittingly.  Always worth checking old configurations to make sure they're still needed.  You could get big performance improvements by cleaning out old configurations."
   ]
  },
  {
   "cell_type": "markdown",
   "metadata": {
    "application/vnd.databricks.v1+cell": {
     "cellMetadata": {},
     "inputWidgets": {},
     "nuid": "1fd809c5-74a7-44e4-975e-961c2cd10c6d",
     "showTitle": false,
     "tableResultSettingsMap": {},
     "title": ""
    }
   },
   "source": [
    "View the Spark UI. Think about the following:\n",
    "- What can you see in DAG of query plan? \n",
    "- Any spill? \n",
    "- Rows exploded? \n",
    "- Order of Join? \n",
    "- Is the DAG similar to the previous joins? \n",
    "- Did the query execute faster? What were the size of the shuffle writes? \n",
    "- Larger or smaller than the previous queries?\n",
    "\n",
    "<br></br>\n",
    "**Stages**\n",
    "- Notice the small amount of shuffle writes.\n",
    "![1.4-g_analyze_stages.png](./Includes/images/1.4-g_analyze_stages.png)\n",
    "\n",
    "<br></br>\n",
    "**DAG**\n",
    "- Look at the differences in the DAG.\n",
    "![1.4_g_dag.png](./Includes/images/1.4_g_dag.png)"
   ]
  },
  {
   "cell_type": "markdown",
   "metadata": {
    "application/vnd.databricks.v1+cell": {
     "cellMetadata": {},
     "inputWidgets": {},
     "nuid": "40a9d75e-5332-4a5e-85df-779d8093c57a",
     "showTitle": false,
     "tableResultSettingsMap": {},
     "title": ""
    }
   },
   "source": [
    "## Summary of the 4 Joins\n",
    "\n",
    "| Join Strategy | Execution Time | Memory Spill | Largest Shuffle Write | Notes |\n",
    "|---------------|----------------|----------------|----------------|----------------|\n",
    "|D. Exploding Join| ~60 seconds| ~928 MiB |\t1334.8 MiB |Joining the **transactions** table with the **store** table (exploding join) first |\n",
    "|E. Increase the number of shuffles| ~50 seconds | ~273.7 MiB | 680.5 MiB |Same join as before, specify 8 partitions |\n",
    "|F. Change the join order | ~40 seconds| 0 | 19.1 MiB |Change the join order to join **transactions** with **countries** first |\n",
    "|G. Analyze and broadcast join| ~20 seconds| 0 | 383.6 KiB |Let Databricks analyze and use default broadcast configurations. While the query took about the same time, |\n"
   ]
  },
  {
   "cell_type": "markdown",
   "metadata": {
    "application/vnd.databricks.v1+cell": {
     "cellMetadata": {},
     "inputWidgets": {},
     "nuid": "3c5ff3d3-abcb-4118-8bef-d94f99ea8053",
     "showTitle": false,
     "tableResultSettingsMap": {},
     "title": ""
    }
   },
   "source": [
    "\n",
    "&copy; 2025 Databricks, Inc. All rights reserved.<br/>\n",
    "Apache, Apache Spark, Spark and the Spark logo are trademarks of the \n",
    "<a href=\"https://www.apache.org/\">Apache Software Foundation</a>.<br/>\n",
    "<br/><a href=\"https://databricks.com/privacy-policy\">Privacy Policy</a> | \n",
    "<a href=\"https://databricks.com/terms-of-use\">Terms of Use</a> | \n",
    "<a href=\"https://help.databricks.com/\">Support</a>"
   ]
  }
 ],
 "metadata": {
  "application/vnd.databricks.v1+notebook": {
   "computePreferences": null,
   "dashboards": [],
   "environmentMetadata": null,
   "language": "python",
   "notebookMetadata": {},
   "notebookName": "PO 1.4L - Exploding Join",
   "widgets": {}
  },
  "language_info": {
   "name": "python"
  }
 },
 "nbformat": 4,
 "nbformat_minor": 0
}