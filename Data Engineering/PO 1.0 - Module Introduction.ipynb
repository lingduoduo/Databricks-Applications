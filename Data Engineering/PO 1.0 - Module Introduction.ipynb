{
 "cells": [
  {
   "cell_type": "markdown",
   "metadata": {
    "application/vnd.databricks.v1+cell": {
     "cellMetadata": {},
     "inputWidgets": {},
     "nuid": "83d9c4f1-4550-4427-b6c0-b072fa00e314",
     "showTitle": false,
     "tableResultSettingsMap": {},
     "title": ""
    }
   },
   "source": [
    "\n",
    "<div style=\"text-align: center; line-height: 0; padding-top: 9px;\">\n",
    "  <img src=\"https://databricks.com/wp-content/uploads/2018/03/db-academy-rgb-1200px.png\" alt=\"Databricks Learning\">\n",
    "</div>\n"
   ]
  },
  {
   "cell_type": "markdown",
   "metadata": {
    "application/vnd.databricks.v1+cell": {
     "cellMetadata": {},
     "inputWidgets": {},
     "nuid": "f7852d5d-2328-4d18-a7c2-cf4351e2d6fe",
     "showTitle": false,
     "tableResultSettingsMap": {},
     "title": ""
    }
   },
   "source": [
    "\n",
    "## Databricks Performance Optimization\n",
    "This module is part of the Data Engineer Learning Path by Databricks Academy.\n",
    "\n",
    "#### Lessons\n",
    "Lecture: Performance Optimization <br>\n",
    "[PO 1.1 - Demo - File Explosion]($./PO 1.1 - File Explosion) <br>\n",
    "[PO 1.2L - Lab - Data Skipping and Liquid Clustering]($./PO 1.2L - Data Skipping and Liquid Clustering) <br>\n",
    "[PO 1.3 - Demo - Shuffle]($./PO 1.3 - Shuffle) <br>\n",
    "[PO 1.4L - Lab - Exploding Join]($./PO 1.4L - Exploding Join) <br>\n",
    "[PO 1.5 - Demo - User-Defined Functions]($./PO 1.5 - User-Defined Functions) <br>\n",
    "\n",
    "\n",
    "\n",
    "#### Prerequisites\n",
    "* Ability to perform basic code development tasks using the Databricks Data Engineering & Data Science workspace (create clusters, run code in notebooks, use basic notebook operations, import repos from git, etc)\n",
    "* Intermediate programming experience with PySpark\n",
    "  * Extract data from a variety of file formats and data sources\n",
    "  * Apply a number of common transformations to clean data\n",
    "  * Reshape and manipulate complex data using advanced built-in functions\n",
    "* Intermediate programming experience with Delta Lake (create tables, perform complete and incremental updates, compact files, restore previous versions etc.)\n",
    "\n",
    "#### Technical Considerations\n",
    "* This course runs on **15.4.x-scala2.12.**.\n",
    "* This course cannot be delivered on Databricks Community Edition."
   ]
  },
  {
   "cell_type": "markdown",
   "metadata": {
    "application/vnd.databricks.v1+cell": {
     "cellMetadata": {},
     "inputWidgets": {},
     "nuid": "d4fe5ef0-ae6a-4986-9a9a-2fa518d52bed",
     "showTitle": false,
     "tableResultSettingsMap": {},
     "title": ""
    }
   },
   "source": [
    "\n",
    "&copy; 2025 Databricks, Inc. All rights reserved.<br/>\n",
    "Apache, Apache Spark, Spark and the Spark logo are trademarks of the \n",
    "<a href=\"https://www.apache.org/\">Apache Software Foundation</a>.<br/>\n",
    "<br/><a href=\"https://databricks.com/privacy-policy\">Privacy Policy</a> | \n",
    "<a href=\"https://databricks.com/terms-of-use\">Terms of Use</a> | \n",
    "<a href=\"https://help.databricks.com/\">Support</a>"
   ]
  }
 ],
 "metadata": {
  "application/vnd.databricks.v1+notebook": {
   "computePreferences": null,
   "dashboards": [],
   "environmentMetadata": null,
   "language": "python",
   "notebookMetadata": {
    "pythonIndentUnit": 4
   },
   "notebookName": "PO 1.0 - Module Introduction",
   "widgets": {}
  },
  "language_info": {
   "name": "python"
  }
 },
 "nbformat": 4,
 "nbformat_minor": 0
}