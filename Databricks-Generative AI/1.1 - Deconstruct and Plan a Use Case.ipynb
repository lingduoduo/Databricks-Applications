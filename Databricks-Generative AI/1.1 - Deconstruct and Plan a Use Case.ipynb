{
 "cells": [
  {
   "cell_type": "markdown",
   "metadata": {
    "application/vnd.databricks.v1+cell": {
     "cellMetadata": {},
     "inputWidgets": {},
     "nuid": "efddc377-3b5e-4583-8a88-e79ab88b678a",
     "showTitle": false,
     "tableResultSettingsMap": {},
     "title": ""
    }
   },
   "source": [
    "\n",
    "<div style=\"text-align: center; line-height: 0; padding-top: 9px;\">\n",
    "  <img src=\"https://databricks.com/wp-content/uploads/2018/03/db-academy-rgb-1200px.png\" alt=\"Databricks Learning\">\n",
    "</div>\n"
   ]
  },
  {
   "cell_type": "markdown",
   "metadata": {
    "application/vnd.databricks.v1+cell": {
     "cellMetadata": {},
     "inputWidgets": {},
     "nuid": "e6fd4023-1d27-4517-8bd7-b105886c10d1",
     "showTitle": false,
     "tableResultSettingsMap": {},
     "title": ""
    }
   },
   "source": [
    "\n",
    "# Deconstruct and Plan a Use Case\n",
    "\n",
    "In this demo, we will plan a compound AI system architecture using pure python. The goal is to define the scope, functionalities and constraints of the system to be developed. \n",
    "\n",
    "We will create the system architecture to outline the structure and relationship of each component of the system. At this stage, we need to address the technical challenges and constraints of language model and frameworks to be used. \n",
    "\n",
    "**Learning Objectives:**\n",
    "\n",
    "*By the end of this demo, you will be able to*:\n",
    "\n",
    "* Apply a class architecture to the stages identified during Decomposition\n",
    "\n",
    "* Explain a convention that maps stage(s) to class methods\n",
    "\n",
    "* Plan what method attributes to use when writing a compound application\n",
    "\n",
    "* Identify various components in a compound app\n"
   ]
  },
  {
   "cell_type": "markdown",
   "metadata": {
    "application/vnd.databricks.v1+cell": {
     "cellMetadata": {},
     "inputWidgets": {},
     "nuid": "7b0e7521-5b52-4cc9-86a6-f10ef9157eaf",
     "showTitle": false,
     "tableResultSettingsMap": {},
     "title": ""
    }
   },
   "source": [
    "## Requirements\n",
    "\n",
    "Please review the following requirements before starting the lesson:\n",
    "\n",
    "* To run this notebook, you need to use one of the following Databricks runtime(s): **15.4.x-cpu-ml-scala2.12**\n"
   ]
  },
  {
   "cell_type": "markdown",
   "metadata": {
    "application/vnd.databricks.v1+cell": {
     "cellMetadata": {},
     "inputWidgets": {},
     "nuid": "913fd2cc-71d6-42a9-9002-b3a44eea9dee",
     "showTitle": false,
     "tableResultSettingsMap": {},
     "title": ""
    }
   },
   "source": [
    "\n",
    "## Classroom Setup\n",
    "\n",
    "Before starting the demo, **run the following code cells**."
   ]
  },
  {
   "cell_type": "code",
   "execution_count": 0,
   "metadata": {
    "application/vnd.databricks.v1+cell": {
     "cellMetadata": {
      "byteLimit": 2048000,
      "rowLimit": 10000
     },
     "inputWidgets": {},
     "nuid": "d71b703c-8eda-42a1-bfb1-8381843050bf",
     "showTitle": false,
     "tableResultSettingsMap": {},
     "title": ""
    }
   },
   "outputs": [],
   "source": [
    "%run ../Includes/Classroom-Setup-01"
   ]
  },
  {
   "cell_type": "markdown",
   "metadata": {
    "application/vnd.databricks.v1+cell": {
     "cellMetadata": {},
     "inputWidgets": {},
     "nuid": "dd68b1ce-1050-436d-b521-6664b1433fd9",
     "showTitle": false,
     "tableResultSettingsMap": {},
     "title": ""
    }
   },
   "source": [
    "## Overview of application\n",
    "\n",
    "In  notebook 1.1 - Multi-stage Deconstruct we created the sketch of our application below. Now it's time to fill in some of the details about each stage. Approach is more art than science, so this activity, we'll set convention for our planning that we want to define the following method attributes for each of our stages:\n",
    " * **Intent**: Provided from our previous exercise. Keep this around, when you get into actual coding this will be the description part of your docstring, see [PEP-257\n",
    "](https://peps.python.org/pep-0257/).\n",
    " * **Name**: YES! Naming things is hard. You'll get a pass in the exercise because we provide the name for you keep the content organized, but consider how you would have named things. Would you have used the `run_` prefix? Also remember that [PEP-8](https://peps.python.org/pep-0008/#method-names-and-instance-variables) already provides some conventions, specifically:\n",
    "     * lowercase with words separated by underscores as necessary to improve readability\n",
    "     * Use one leading underscore only for non-public methods and instance variables (not applicable to our exercise here)\n",
    "     * Avoid name clashes with subclasses\n",
    " * **Dependencies**: When planning you'll likely already have an idea of approach or library that you'll need in each stage. Here, you will want to capture those dependencies. After looking at those dependencies you may notice that you'll need more     \n",
    " * **Signature**: These are the argument names and types as well as the output type. However, when working with compound apps it's helpful to have stage methods that are directly tied to an LLM type of chat or completion to take the form:\n",
    "     * **model_inputs**: These are inputs that will change with each request and are not a configuration setting in the application.\n",
    "     * **params**: These are additional arguments we want exposed in our methods, but will likely not be argumented by users once the model is in model serving.\n",
    "     * **output**: This is the output of a method and will commonly take the form of the request response of a served model if one is called within the method.\n",
    "\n",
    "\n",
    " **NOTE**: At this point in planning, you don't necessarily need to get into the decisions about what arguments should be a compound app class entity and which should be maintained as class members.\n",
    "\n",
    " **NOTE**: The separation of model_inputs and params is an important one. Compound applications accumulate a lot of parameters that will need to have defaults set during class instantiation or load_context calls. By separating those arguments in the planning phase, it will be easier to identify the parameter space that is configurable in your compound application. While not exactly the same, it may be helpful to think of this collection of parameters as hyperparameters - these are configurations will spend time optimizing prior to best application selection, but not set during inference.\n"
   ]
  },
  {
   "cell_type": "markdown",
   "metadata": {
    "application/vnd.databricks.v1+cell": {
     "cellMetadata": {},
     "inputWidgets": {},
     "nuid": "3262a227-9a91-47d0-aadc-3ea088e89e8e",
     "showTitle": false,
     "tableResultSettingsMap": {},
     "title": ""
    }
   },
   "source": [
    "\n",
    "### 1. `run_search` Stage Attributes\n",
    "\n",
    "Our initial stage is run_search. Our intent is to get a list of candidate content that will be useful to augment our qa_model. Check out [Query a Vector Search Endpoint](https://docs.databricks.com/en/generative-ai/create-query-vector-search.html#query-a-vector-search-endpoint) to see examples using Databricks Vector Search.\n",
    "\n"
   ]
  },
  {
   "cell_type": "code",
   "execution_count": 0,
   "metadata": {
    "application/vnd.databricks.v1+cell": {
     "cellMetadata": {
      "byteLimit": 2048000,
      "rowLimit": 10000
     },
     "inputWidgets": {},
     "nuid": "97b0bffd-505a-4e35-94be-f511f73cee75",
     "showTitle": false,
     "tableResultSettingsMap": {},
     "title": ""
    }
   },
   "outputs": [
    {
     "output_type": "display_data",
     "data": {
      "text/html": [
       "<style>\n",
       "  table {\n",
       "    border-collapse: collapse;\n",
       "    width: 100%;\n",
       "    border: 1px solid #ccc;\n",
       "  }\n",
       "  th, td {\n",
       "    border: 1px solid #ccc;\n",
       "    padding: 8px;\n",
       "    text-align: left;\n",
       "  }\n",
       "  th {\n",
       "    background-color: #f2f2f2;\n",
       "  }\n",
       "  .toggle-div {\n",
       "    display: block;\n",
       "    margin-bottom: 10px;\n",
       "  }\n",
       "  .hidden {\n",
       "    display: none;\n",
       "  }\n",
       "  .txb-wide {\n",
       "    width: 400px;\n",
       "    padding: 8px;\n",
       "    border: 1px solid #ccc;\n",
       "    border-radius: 4px;\n",
       "    box-sizing: border-box; /* Include padding and border in total width */\n",
       "  }\n",
       "  .ptext {\n",
       "    font-size: 16px;\n",
       "  }\n",
       "</style>\n",
       "\n",
       "<table>\n",
       "  <thead>\n",
       "    <tr>\n",
       "      <th>Attribute</th>\n",
       "      <th>Considerations</th>\n",
       "      <th>Student Answer</th>\n",
       "      <th>Instruction Approach</th>\n",
       "    </tr>\n",
       "  </thead>\n",
       "  <tbody>\n",
       "    <tr>\n",
       "      <td bgcolor= \"#FFFFE0\">Name</td>\n",
       "      <td>Name the method, be succinct</td>\n",
       "      <td><input type=\"text\" id=\"input_name\" value=\"run_search\" class=\"txb-wide\"></td>\n",
       "      <td><div class=\"toggle-div\" display=false><b>run_search</b></div></td>\n",
       "    </tr>\n",
       "    <tr>\n",
       "      <td bgcolor= \"#FFFFE0\">Dependencies</td>\n",
       "      <td>If we use a Databricks <a href=\"https://api-docs.databricks.com/python/vector-search/databricks.vector_search.html#databricks.vector_search.client.VectorSearchClient\" taget=\"_blank\">VectorSearchClient</a> with a <a href=\"https://api-docs.databricks.com/python/vector-search/databricks.vector_search.html#databricks.vector_search.index.VectorSearchIndex\" taget=\"_blank\">VectorSearchIndex</a>, which methods would we use?</td>\n",
       "      <td><input type=\"text\" id=\"txb_dependencies\" class=\"txb-wide\"></td>\n",
       "      <td><div class=\"toggle-div\" display=false><a href=\"https://api-docs.databricks.com/python/vector-search/databricks.vector_search.html#databricks.vector_search.client.VectorSearchClient.get_index\" taget=\"_blank\">databricks.vector_search.index.VectorSearchIndex.get_index</a></br></br><a href=\"https://api-docs.databricks.com/python/vector-search/databricks.vector_search.html#databricks.vector_search.index.VectorSearchIndex.similarity_search\" taget=\"_blank\">databricks.vector_search.index.VectorSearchIndex.similarity_search</a></div></td>\n",
       "    </tr>\n",
       "    <tr>\n",
       "      <td bgcolor= \"#FFFFE0\">Application-Arguments</td>\n",
       "      <td>What configurations for this stage would we want to set as an application configuration?</td>\n",
       "      <td><input type=\"text\" id=\"txb_input\" class=\"txb-wide\"></td>\n",
       "      <td><div class=\"toggle-div\" display=false><i>We'll want to have the vector search index set during instantiation. The two arguments we'll need for that are:</i></br></br><b>endpoint_name</b>: str</br><b>index_name</b>: str</div></td>\n",
       "    </tr>\n",
       "    <tr>\n",
       "      <td bgcolor= \"#FFFFE0\">Signature-Input</td>\n",
       "      <td>What input will we provide to our search?</td>\n",
       "      <td><input type=\"text\" id=\"txb_input\" class=\"txb-wide\"></td>\n",
       "      <td><div class=\"toggle-div\" display=false><i>We'll want to provide the question being asked to search against. To provide our question as text similarity_search uses:</i></br></br><b>query_text</b>: str</div></td>\n",
       "    </tr>\n",
       "    <tr>\n",
       "      <td bgcolor= \"#FFFFE0\">Signature-Params</td>\n",
       "      <td>What parameters can be provided to our search?</td>\n",
       "      <td><textarea name=\"txa_params\" rows=\"6\" class=\"txb-wide\"></textarea></td>\n",
       "      <td><div class=\"toggle-div\" display=false><i>Anything that isn't our input could be a parameter. For similarity_search those are:</i></br></br><b>columns</b>: [str]</br><b>filters</b>: str</br><b>num_results</b>: int</br><b>debug_level</b>: str</li></ul></div></td>\n",
       "    </tr>\n",
       "    <tr>\n",
       "      <td bgcolor= \"#FFFFE0\">Signature-Output</td>\n",
       "      <td>What kind of output should we define for this stage? The output of similarity_search string of dict. Add some structure and define the output as a <a href=\"https://docs.python.org/3/library/dataclasses.html#module-dataclasses\">dataclass</a>.</td>\n",
       "      <td><textarea name=\"txa_output\" rows=\"6\" class=\"txb-wide\"></textarea></td>\n",
       "      <td><div class=\"toggle-div\" display=false></i>Similarity_search returns a dict that includes all n search results. In this MVP we'll define that result as a dataclass based on the response structure to simplify handling in our next stage run_augment:</br></br>@dataclass</br>class SimilaritySearchResult:</br>&emsp;&emsp;<b>manifest</b>: dict = ...</br>&emsp;&emsp;<b>result</b>: dict = ...</br>&emsp;&emsp;<b>next_page_token</b>: str</br>&emsp;&emsp;<b>debug_info</b>: dict = ...</div></td>\n",
       "    </tr>\n",
       "  </tbody>\n",
       "</table>\n",
       "\n",
       "</br><button id=\"toggleButton\">Hide/Show Solution</button></br></br>\n",
       "\n",
       "<script>\n",
       "  document.getElementById('toggleButton').addEventListener('click', function() {\n",
       "    var divs = document.querySelectorAll('.toggle-div');\n",
       "    divs.forEach(function(div) {\n",
       "      div.classList.toggle('hidden');\n",
       "    });\n",
       "  });\n",
       "  document.getElementById('toggleButton').click();\n",
       "</script>"
      ]
     },
     "metadata": {},
     "output_type": "display_data"
    }
   ],
   "source": [
    "displayHTML(html_run_search_1)"
   ]
  },
  {
   "cell_type": "markdown",
   "metadata": {
    "application/vnd.databricks.v1+cell": {
     "cellMetadata": {},
     "inputWidgets": {},
     "nuid": "50ce34c4-b49d-486b-8da9-58f1f1774454",
     "showTitle": false,
     "tableResultSettingsMap": {},
     "title": ""
    }
   },
   "source": [
    "\n",
    "### 2. `run_summary` Stage Attributes\n",
    "\n",
    "We'll look at the run_summary method before we look at what needs to be done to run it asynchronously with run_augment. Recall that the output of our previous stage will be a dataclass, but ultimately that dataclass will need to be transformed into it's essential parts as a list of `tuple(id, content)`. Each iteration of run_summary will therefore have content and id variables in context from a single search result.\n",
    "\n"
   ]
  },
  {
   "cell_type": "code",
   "execution_count": 0,
   "metadata": {
    "application/vnd.databricks.v1+cell": {
     "cellMetadata": {
      "byteLimit": 2048000,
      "rowLimit": 10000
     },
     "inputWidgets": {},
     "nuid": "e9ec9c37-db9a-47d2-991f-783646a17049",
     "showTitle": false,
     "tableResultSettingsMap": {},
     "title": ""
    }
   },
   "outputs": [
    {
     "output_type": "display_data",
     "data": {
      "text/html": [
       "<style>\n",
       "  table {\n",
       "    border-collapse: collapse;\n",
       "    width: 100%;\n",
       "    border: 1px solid #ccc;\n",
       "  }\n",
       "  th, td {\n",
       "    border: 1px solid #ccc;\n",
       "    padding: 8px;\n",
       "    text-align: left;\n",
       "  }\n",
       "  th {\n",
       "    background-color: #f2f2f2;\n",
       "  }\n",
       "  .toggle-div {\n",
       "    display: block;\n",
       "    margin-bottom: 10px;\n",
       "  }\n",
       "  .hidden {\n",
       "    display: none;\n",
       "  }\n",
       "  .txb-wide {\n",
       "    width: 400px;\n",
       "    padding: 8px;\n",
       "    border: 1px solid #ccc;\n",
       "    border-radius: 4px;\n",
       "    box-sizing: border-box; /* Include padding and border in total width */\n",
       "  }\n",
       "  .ptext {\n",
       "    font-size: 16px;\n",
       "  }\n",
       "</style>\n",
       "\n",
       "<table>\n",
       "  <thead>\n",
       "    <tr>\n",
       "      <th>Attribute</th>\n",
       "      <th>Considerations</th>\n",
       "      <th>Student Answer</th>\n",
       "      <th>Instruction Approach</th>\n",
       "    </tr>\n",
       "  </thead>\n",
       "  <tbody>\n",
       "    <tr>\n",
       "      <td bgcolor= \"#FFFFE0\">Name</td>\n",
       "      <td>Name the method, be succinct</td>\n",
       "      <td><input type=\"text\" id=\"input_name\" value=\"run_summary\" class=\"txb-wide\"></td>\n",
       "      <td><div class=\"toggle-div\" display=false><b>run_summary</b></div></td>\n",
       "    </tr>\n",
       "    <tr>\n",
       "      <td bgcolor= \"#FFFFE0\">Dependencies</td>\n",
       "      <td>If we use a <a href=\"https://mlflow.org/docs/latest/python_api/mlflow.deployments.html?highlight=mlflow%20deployments#mlflow.deployments.DatabricksDeploymentClient\" taget=\"_blank\">DatabricksDeploymentClient</a> to run a completion llm. Which methods would we use?</td>\n",
       "      <td><input type=\"text\" id=\"txb_dependencies\" class=\"txb-wide\"></td>\n",
       "      <td><div class=\"toggle-div\" display=false><a href=\"https://mlflow.org/docs/latest/python_api/mlflow.deployments.html#mlflow.deployments.get_deploy_client\" taget=\"_blank\">mlflow.deployments.get_deploy_client</a></br></br><a href=\"https://mlflow.org/docs/latest/python_api/mlflow.deployments.html#mlflow.deployments.DatabricksDeploymentClient.predict\" taget=\"_blank\">mlflow.deployments.DatabricksDeploymentClient.predict</a></div></td>\n",
       "    </tr>\n",
       "    <tr>\n",
       "      <td bgcolor= \"#FFFFE0\">Application-Arguments</td>\n",
       "      <td>What configurations for this stage coreoutine would we want to set as an application configuration? Assume that we want to use the same model endpoint for all summary predicts within the application.</td>\n",
       "      <td><input type=\"text\" id=\"txb_input\" class=\"txb-wide\"></td>\n",
       "      <td><div class=\"toggle-div\" display=false><i>We'll want to have the deploy_client set during instantiation. Since we know the deploy client will be Databricks, we can instantiate with a static argument, <b>get_deploy_client(\"databricks\")</b> To keep the model_endpoint consistant across call, we'll make the model_endpoint used for summary provided as an application argument. Thus, the <b>predict</b> method will have one argument populated from an application argument:</i></br></br><b>endpoint_name</b>: str</div></td>\n",
       "    </tr>\n",
       "    <tr>\n",
       "      <td bgcolor= \"#FFFFE0\">Signature-Input</td>\n",
       "      <td>What input will we provide to the completion model to get a summary and relavance score? Assume you already know that the required input is a prompt. What two variables should the prompt template take?</td>\n",
       "      <td><input type=\"text\" id=\"txb_input\" class=\"txb-wide\"></td>\n",
       "      <td><div class=\"toggle-div\" display=false><i>From <a href=\"https://docs.databricks.com/en/machine-learning/model-serving/score-foundation-models.html#query-a-text-completion-model\">Text Completion Docs</a> we see that we need to provide a prompt. We'll want to use both the content we are summarizing as well as the original question, thus:</i></br></br><b>content</b>: str</br><b>question</b>: str</td>\n",
       "    </tr>\n",
       "    <tr>\n",
       "      <td bgcolor= \"#FFFFE0\">Signature-Params</td>\n",
       "      <td>What parameters can be provided to our summary model? Assume that the model type we are using is a completion model. Refer to the inputs from <a href=\"https://docs.databricks.com/en/machine-learning/model-serving/score-foundation-models.html#query-a-text-completion-model\">Text Completion Docs</a></td>\n",
       "      <td><textarea name=\"txa_params\" rows=\"6\" class=\"txb-wide\"></textarea></td>\n",
       "      <td><div class=\"toggle-div\" display=false><i>Anything that isn't prompt could be a parameter. For a completion LLM type we could parameterize:</i></br></br><b>max_tokens</b>: int</br><b>temperature</b>: float</br><b>stop</b>: [str]</br><b>n</b>: int</br><b>stream</b>: bool</br><b>extra_params</b>: dict</br></br>Above, we assumed the use of a prompt template. Thus another parameter that we'll have for our stage coroutine is that prompt template:</br><b>summary_prompt</b>: str</div></td>\n",
       "    </tr>\n",
       "    <tr>\n",
       "      <td bgcolor= \"#FFFFE0\">Signature-Output</td>\n",
       "      <td>What kind of output should we plan for this stage coroutine?</td>\n",
       "      <td><input type=\"text\" id=\"txb_output\" class=\"txb-wide\"></td>\n",
       "      <td><div class=\"toggle-div\" display=false>Our output from predict will be a response dict. From that, we'll want to extract the summary and relevance score. For debugging purposes, we should also include the id and content from the original search and define as a dataclass:</br></br>@dataclass</br>class <b>SearchResultAugmentedContent</b>:</br>&emsp;&emsp;<b>id</b>: int</br>&emsp;&emsp;<b>content</b>: str</br>&emsp;&emsp;<b>summerization</b>: str</br>&emsp;&emsp;<b>relevanceScore</b>: float</div></td>\n",
       "    </tr>\n",
       "  </tbody>\n",
       "</table>\n",
       "\n",
       "</br><button id=\"toggleButton\">Hide/Show Solution</button></br></br>\n",
       "\n",
       "<script>\n",
       "  document.getElementById('toggleButton').addEventListener('click', function() {\n",
       "    var divs = document.querySelectorAll('.toggle-div');\n",
       "    divs.forEach(function(div) {\n",
       "      div.classList.toggle('hidden');\n",
       "    });\n",
       "  });\n",
       "  document.getElementById('toggleButton').click();\n",
       "</script>"
      ]
     },
     "metadata": {},
     "output_type": "display_data"
    }
   ],
   "source": [
    "displayHTML(html_run_search_2)"
   ]
  },
  {
   "cell_type": "markdown",
   "metadata": {
    "application/vnd.databricks.v1+cell": {
     "cellMetadata": {},
     "inputWidgets": {},
     "nuid": "1d09028e-b529-40b9-8588-4a3e9443d883",
     "showTitle": false,
     "tableResultSettingsMap": {},
     "title": ""
    }
   },
   "source": [
    "\n",
    "### 3. (Optional) `run_augment` Stage Attributes\n",
    "\n",
    "Now let's plan what's necessary to execute `run_summary` asynchronously. The actual lesson of how asyncio works is beyond the scope of this instruction. However, we can still go through the planning exercise for a stage that runs asynchronously. If you are uncomfortable that you are planning without understanding exactly how every library works, take comfort in the fact that a lot of library discovery takes place during planning.\n",
    "\n",
    "\n"
   ]
  },
  {
   "cell_type": "code",
   "execution_count": 0,
   "metadata": {
    "application/vnd.databricks.v1+cell": {
     "cellMetadata": {
      "byteLimit": 2048000,
      "rowLimit": 10000
     },
     "inputWidgets": {},
     "nuid": "ba863df4-e586-48b7-87bd-5e3bc4c8b17f",
     "showTitle": false,
     "tableResultSettingsMap": {},
     "title": ""
    }
   },
   "outputs": [
    {
     "output_type": "display_data",
     "data": {
      "text/html": [
       "<style>\n",
       "  table {\n",
       "    border-collapse: collapse;\n",
       "    width: 100%;\n",
       "    border: 1px solid #ccc;\n",
       "  }\n",
       "  th, td {\n",
       "    border: 1px solid #ccc;\n",
       "    padding: 8px;\n",
       "    text-align: left;\n",
       "  }\n",
       "  th {\n",
       "    background-color: #f2f2f2;\n",
       "  }\n",
       "  .toggle-div {\n",
       "    display: block;\n",
       "    margin-bottom: 10px;\n",
       "  }\n",
       "  .hidden {\n",
       "    display: none;\n",
       "  }\n",
       "  .txb-wide {\n",
       "    width: 400px;\n",
       "    padding: 8px;\n",
       "    border: 1px solid #ccc;\n",
       "    border-radius: 4px;\n",
       "    box-sizing: border-box; /* Include padding and border in total width */\n",
       "  }\n",
       "  .ptext {\n",
       "    font-size: 16px;\n",
       "  }\n",
       "</style>\n",
       "\n",
       "<table>\n",
       "  <thead>\n",
       "    <tr>\n",
       "      <th>Attribute</th>\n",
       "      <th>Considerations</th>\n",
       "      <th>Student Answer</th>\n",
       "      <th>Instruction Approach</th>\n",
       "    </tr>\n",
       "  </thead>\n",
       "  <tbody>\n",
       "    <tr>\n",
       "      <td bgcolor= \"#FFFFE0\">Name</td>\n",
       "      <td>Name the method, be succinct</td>\n",
       "      <td><input type=\"text\" id=\"input_name\" value=\"run_augment\" class=\"txb-wide\"></td>\n",
       "      <td><div class=\"toggle-div\" display=false><b>run_augment</b></div></td>\n",
       "    </tr>\n",
       "    <tr>\n",
       "      <td bgcolor= \"#FFFFE0\">Dependencies</td>\n",
       "      <td>Use <a href=\"https://docs.python.org/3/library/asyncio.html\" taget=\"_blank\">asyncio</a> to execute run_summary coroutines asynchronously. You will need to have an event loop, make the run_summary method execute as a coroutine, and gather the results.</td>\n",
       "      <td><textarea id=\"txa_dependencies\" name=\"txa_dependencies\" rows=\"3\" class=\"txb-wide\"></textarea></td>\n",
       "      <td><div class=\"toggle-div\" display=false><a href=\"https://docs.python.org/3/library/asyncio-eventloop.html#asyncio.get_event_loop\" taget=\"_blank\">asyncio.get_event_loop</a></br><a href=\"https://docs.python.org/3/library/asyncio-task.html#asyncio.to_thread\" taget=\"_blank\">asyncio.to_thread</a></br><a href=\"https://docs.python.org/3/library/asyncio-task.html#asyncio.gather\" taget=\"_blank\">asyncio.gather</a></div></td>\n",
       "    </tr>\n",
       "    <tr>\n",
       "      <td bgcolor= \"#FFFFE0\">Signature-Input</td>\n",
       "      <td>What input will we provide to run_augment? Consider what output we have from the prior stage, run_search.</td>\n",
       "      <td><input type=\"text\" id=\"txb_input_input\" class=\"txb-wide\"></td>\n",
       "      <td><div class=\"toggle-div\" display=false>Same as output from run_search: </br><b>SimilaritySearchResult</b></td>\n",
       "    </tr>\n",
       "    <tr>\n",
       "      <td bgcolor= \"#FFFFE0\">Signature-Output</td>\n",
       "      <td>What kind of output will we define for this stage? The gather method from asyncio creates a list. Thus our output should be a list of run_summary output.</td>\n",
       "      <td><input type=\"text\" id=\"txb_output\" class=\"txb-wide\"></td>\n",
       "      <td><div class=\"toggle-div\" display=false>[<b>SearchResultAugmentedContent</b>]</td>\n",
       "    </tr>\n",
       "  </tbody>\n",
       "</table>\n",
       "\n",
       "</br><button id=\"toggleButton\">Hide/Show Solution</button></br></br>\n",
       "\n",
       "<script>\n",
       "  document.getElementById('toggleButton').addEventListener('click', function() {\n",
       "    var divs = document.querySelectorAll('.toggle-div');\n",
       "    divs.forEach(function(div) {\n",
       "      div.classList.toggle('hidden');\n",
       "    });\n",
       "  });\n",
       "  document.getElementById('toggleButton').click();\n",
       "  document.getElementById('txa_dependencies').value='asyncio.get_event_loop\\nasyncio.to_thread\\nasyncio.gather';\n",
       "</script>"
      ]
     },
     "metadata": {},
     "output_type": "display_data"
    }
   ],
   "source": [
    "displayHTML(html_run_search_3)"
   ]
  },
  {
   "cell_type": "markdown",
   "metadata": {
    "application/vnd.databricks.v1+cell": {
     "cellMetadata": {},
     "inputWidgets": {},
     "nuid": "8b957bd4-e9ca-480d-95de-8b992605b98e",
     "showTitle": false,
     "tableResultSettingsMap": {},
     "title": ""
    }
   },
   "source": [
    "\n",
    "### 4. `run_get_context` Stage Attributes\n",
    "\n",
    "This stage we just need to take the results of our `run_augment` stage and convert into a context for our QA stage. That's right, a stage doesn't have to include an LLM. While this stage could have been made part of the stage before or after, it's broken out as it's own entity so this compound app could have a non-LLM stage.\n",
    "\n",
    "\n"
   ]
  },
  {
   "cell_type": "code",
   "execution_count": 0,
   "metadata": {
    "application/vnd.databricks.v1+cell": {
     "cellMetadata": {
      "byteLimit": 2048000,
      "rowLimit": 10000
     },
     "inputWidgets": {},
     "nuid": "11ad7b0f-2b37-4d60-a407-d47d53e700a2",
     "showTitle": false,
     "tableResultSettingsMap": {},
     "title": ""
    }
   },
   "outputs": [
    {
     "output_type": "display_data",
     "data": {
      "text/html": [
       "<style>\n",
       "  table {\n",
       "    border-collapse: collapse;\n",
       "    width: 100%;\n",
       "    border: 1px solid #ccc;\n",
       "  }\n",
       "  th, td {\n",
       "    border: 1px solid #ccc;\n",
       "    padding: 8px;\n",
       "    text-align: left;\n",
       "  }\n",
       "  th {\n",
       "    background-color: #f2f2f2;\n",
       "  }\n",
       "  .toggle-div {\n",
       "    display: block;\n",
       "    margin-bottom: 10px;\n",
       "  }\n",
       "  .hidden {\n",
       "    display: none;\n",
       "  }\n",
       "  .txb-wide {\n",
       "    width: 400px;\n",
       "    padding: 8px;\n",
       "    border: 1px solid #ccc;\n",
       "    border-radius: 4px;\n",
       "    box-sizing: border-box; /* Include padding and border in total width */\n",
       "  }\n",
       "  .ptext {\n",
       "    font-size: 16px;\n",
       "  }\n",
       "</style>\n",
       "\n",
       "\n",
       "<table>\n",
       "  <thead>\n",
       "    <tr>\n",
       "      <th>Attribute</th>\n",
       "      <th>Considerations</th>\n",
       "      <th>Student Answer</th>\n",
       "      <th>Instruction Approach</th>\n",
       "    </tr>\n",
       "  </thead>\n",
       "  <tbody>\n",
       "    <tr>\n",
       "      <td bgcolor= \"#FFFFE0\">Name</td>\n",
       "      <td>Name the method, be succinct</td>\n",
       "      <td><input type=\"text\" id=\"input_name\" value=\"run_get_context\" class=\"txb-wide\"></td>\n",
       "      <td><div class=\"toggle-div\" display=false><b>run_get_context</b></div></td>\n",
       "    </tr>\n",
       "    <tr>\n",
       "      <td bgcolor= \"#FFFFE0\">Dependencies</td>\n",
       "      <td>We have a list and we need to sort it. We can do this python pure. </td>\n",
       "      <td><input type=\"text\" id=\"input_dependencies\" value=\"list.sort\" class=\"txb-wide\"></td>\n",
       "      <td><div class=\"toggle-div\" display=false><a href=\"https://docs.python.org/3/library/stdtypes.html#list.sort\" taget=\"_blank\">list.sort</div></td>\n",
       "    </tr>\n",
       "    <tr>\n",
       "      <td bgcolor= \"#FFFFE0\">Signature-Input</td>\n",
       "      <td>What input will we provide to run_get_context? Consider what output we have from the prior stage, run_augment.</td>\n",
       "      <td><input type=\"text\" id=\"txb_input_input\" class=\"txb-wide\"></td>\n",
       "      <td><div class=\"toggle-div\" display=false>Same as output from run_augment: </br>[<b>SearchResultAugmentedContent</b>]</td>\n",
       "    </tr>\n",
       "    <tr>\n",
       "      <td bgcolor= \"#FFFFE0\">Signature-Output</td>\n",
       "      <td>What kind of output will we define for this stage? Intent is to simply consolidate the top three results into a single string and use that as context in the QA model.</td>\n",
       "      <td><input type=\"text\" id=\"txb_output\" class=\"txb-wide\"></td>\n",
       "      <td><div class=\"toggle-div\" display=false><b>context</b>: str</td>\n",
       "    </tr>\n",
       "  </tbody>\n",
       "</table>\n",
       "\n",
       "</br><button id=\"toggleButton\">Hide/Show Solution</button></br></br>\n",
       "\n",
       "<script>\n",
       "  document.getElementById('toggleButton').addEventListener('click', function() {\n",
       "    var divs = document.querySelectorAll('.toggle-div');\n",
       "    divs.forEach(function(div) {\n",
       "      div.classList.toggle('hidden');\n",
       "    });\n",
       "  });\n",
       "  document.getElementById('toggleButton').click();\n",
       "</script>"
      ]
     },
     "metadata": {},
     "output_type": "display_data"
    }
   ],
   "source": [
    "displayHTML(html_run_search_4)"
   ]
  },
  {
   "cell_type": "markdown",
   "metadata": {
    "application/vnd.databricks.v1+cell": {
     "cellMetadata": {},
     "inputWidgets": {},
     "nuid": "4732af41-1e15-4a23-9cd0-5dfbcaaf400a",
     "showTitle": false,
     "tableResultSettingsMap": {},
     "title": ""
    }
   },
   "source": [
    "\n",
    "### 5. `run_qa` Stage Attributes\n",
    "\n",
    "We'll look at the `run_qa` stage. To make things interesting we are going to use a Chat LLM type instead of a Completion LLM type like we used in run_summary. That means you should take a look at [Chat Model](https://docs.databricks.com/en/machine-learning/model-serving/score-foundation-models.html#query-a-chat-completion-model) Docs. It may look the same as the completion model signature, but look closely, it's not.\n",
    "\n",
    "\n"
   ]
  },
  {
   "cell_type": "code",
   "execution_count": 0,
   "metadata": {
    "application/vnd.databricks.v1+cell": {
     "cellMetadata": {
      "byteLimit": 2048000,
      "rowLimit": 10000
     },
     "inputWidgets": {},
     "nuid": "14071072-5356-4e07-b635-7975b77c8257",
     "showTitle": false,
     "tableResultSettingsMap": {},
     "title": ""
    }
   },
   "outputs": [
    {
     "output_type": "display_data",
     "data": {
      "text/html": [
       "<style>\n",
       "  table {\n",
       "    border-collapse: collapse;\n",
       "    width: 100%;\n",
       "    border: 1px solid #ccc;\n",
       "  }\n",
       "  th, td {\n",
       "    border: 1px solid #ccc;\n",
       "    padding: 8px;\n",
       "    text-align: left;\n",
       "  }\n",
       "  th {\n",
       "    background-color: #f2f2f2;\n",
       "  }\n",
       "  .toggle-div {\n",
       "    display: block;\n",
       "    margin-bottom: 10px;\n",
       "  }\n",
       "  .hidden {\n",
       "    display: none;\n",
       "  }\n",
       "  .txb-wide {\n",
       "    width: 400px;\n",
       "    padding: 8px;\n",
       "    border: 1px solid #ccc;\n",
       "    border-radius: 4px;\n",
       "    box-sizing: border-box; /* Include padding and border in total width */\n",
       "  }\n",
       "  .ptext {\n",
       "    font-size: 16px;\n",
       "  }\n",
       "</style>\n",
       "\n",
       "\n",
       "<table>\n",
       "  <thead>\n",
       "    <tr>\n",
       "      <th>Attribute</th>\n",
       "      <th>Considerations</th>\n",
       "      <th>Student Answer</th>\n",
       "      <th>Instruction Approach</th>\n",
       "    </tr>\n",
       "  </thead>\n",
       "  <tbody>\n",
       "    <tr>\n",
       "      <td bgcolor= \"#FFFFE0\">Name</td>\n",
       "      <td>Name the method, be succinct</td>\n",
       "      <td><input type=\"text\" id=\"input_name\" value=\"run_qa\" class=\"txb-wide\"></td>\n",
       "      <td><div class=\"toggle-div\" display=false><b>run_qa</b></div></td>\n",
       "    </tr>\n",
       "    <tr>\n",
       "      <td bgcolor= \"#FFFFE0\">Dependencies</td>\n",
       "      <td>If we use a <a href=\"https://mlflow.org/docs/latest/python_api/mlflow.deployments.html?highlight=mlflow%20deployments#mlflow.deployments.DatabricksDeploymentClient\" taget=\"_blank\">DatabricksDeploymentClient</a> to run a chat llm. Which methods would we use? Hint: we can use the same dependencies for completion llms as we will use for chat llms.</td>\n",
       "      <td><input type=\"text\" id=\"txb_dependencies\" class=\"txb-wide\"></td>\n",
       "      <td><div class=\"toggle-div\" display=false><a href=\"https://mlflow.org/docs/latest/python_api/mlflow.deployments.html#mlflow.deployments.get_deploy_client\" taget=\"_blank\">mlflow.deployments.get_deploy_client</a></br></br><a href=\"https://mlflow.org/docs/latest/python_api/mlflow.deployments.html#mlflow.deployments.DatabricksDeploymentClient.predict\" taget=\"_blank\">mlflow.deployments.DatabricksDeploymentClient.predict</a></div></td>\n",
       "    </tr>\n",
       "    <tr>\n",
       "      <td bgcolor= \"#FFFFE0\">Application-Arguments</td>\n",
       "      <td>What configurations for this stage  would we want to set as an application configuration? Assume that we want to use the same model endpoint for all QA predicts within the application.</td>\n",
       "      <td><input type=\"text\" id=\"txb_input\" class=\"txb-wide\"></td>\n",
       "      <td><div class=\"toggle-div\" display=false><i>We'll want to have the deploy_client set during instantiation. Since we know the deploy client will be Databricks, we can instantiate with a static argument, <b>get_deploy_client(\"databricks\")</b> To keep the model_endpoint consistant across calls, we'll make the model_endpoint used for QA provided as an application argument. Thus, the <b>predict</b> method will have one argument populated from an application argument:</i></br></br><b>endpoint_name</b>: str</div></td>\n",
       "    </tr>\n",
       "    <tr>\n",
       "      <td bgcolor= \"#FFFFE0\">Signature-Input</td>\n",
       "      <td>What input will we provide to the chat model the uses our context and the original question? Assume that we will again use a prompt template. What two variables should the prompt template take?</td>\n",
       "      <td><input type=\"text\" id=\"txb_input\" class=\"txb-wide\"></td>\n",
       "      <td><div class=\"toggle-div\" display=false><i>From <a href=\"https://docs.databricks.com/en/machine-learning/model-serving/score-foundation-models.html#query-a-chat-completion-model\">Chat Model Docs</a> we see that we need to provide messages. The messages format is a list of dict to handle message history, but we'll just need to coerse a prompt into this format. Our prompt will take the following:</br></br><b>context</b>: str</br><b>question</b>: str</td>\n",
       "    </tr>\n",
       "    <tr>\n",
       "      <td bgcolor= \"#FFFFE0\">Signature-Params</td>\n",
       "      <td>What parameters can be provided to our qa model? Assume that the model type we are using is a chat model. Refer to the inputs from <a href=\"https://docs.databricks.com/en/machine-learning/model-serving/score-foundation-models.html#query-a-chat-completion-model\">Chat Model Docs</a></td>\n",
       "      <td><textarea name=\"txa_params\" rows=\"6\" class=\"txb-wide\"></textarea></td>\n",
       "      <td><div class=\"toggle-div\" display=false><i>Anything that isn't prompt could be a parameter. For a chat LLM type we could parameterize:</i></br></br><b>max_tokens</b>: int</br><b>temperature</b>: float</br></br></br>Above, we assumed the use of a prompt template. Thus another parameter that we'll have for qa is our own:</br></br></br><b>qa_prompt</b>: str</div></td>\n",
       "    </tr>\n",
       "    <tr>\n",
       "      <td bgcolor= \"#FFFFE0\">Signature-Output</td>\n",
       "      <td>What kind of output should we plan for this stage? The final output of the model is an answer and single string. However, we would like the full response available as an output of this stage.</td>\n",
       "      <td><input type=\"text\" id=\"txb_output\" class=\"txb-wide\"></td>\n",
       "      <td><div class=\"toggle-div\" display=false>Our output from predict will be a response dict. From that, we'll put that in a dataclass for ease of use:</br></br>@dataclass</br>class <b>SummaryModelResult</b>:</br>&emsp;&emsp;<b>id</b>: int</br>&emsp;&emsp;<b>object</b>: str</br>&emsp;&emsp;<b>model</b>: str</br>&emsp;&emsp;<b>choices</b>: [dict] = ...</br>&emsp;&emsp;<b>usage</b>: dict = ...</div></td>\n",
       "    </tr>\n",
       "  </tbody>\n",
       "</table>\n",
       "\n",
       "</br><button id=\"toggleButton\">Hide/Show Solution</button></br></br>\n",
       "\n",
       "<script>\n",
       "  document.getElementById('toggleButton').addEventListener('click', function() {\n",
       "    var divs = document.querySelectorAll('.toggle-div');\n",
       "    divs.forEach(function(div) {\n",
       "      div.classList.toggle('hidden');\n",
       "    });\n",
       "  });\n",
       "  document.getElementById('toggleButton').click();\n",
       "</script>"
      ]
     },
     "metadata": {},
     "output_type": "display_data"
    }
   ],
   "source": [
    "displayHTML(html_run_search_5)"
   ]
  },
  {
   "cell_type": "markdown",
   "metadata": {
    "application/vnd.databricks.v1+cell": {
     "cellMetadata": {},
     "inputWidgets": {},
     "nuid": "0418dd4c-9d15-4f4f-a355-60c117a1650b",
     "showTitle": false,
     "tableResultSettingsMap": {},
     "title": ""
    }
   },
   "source": [
    "\n",
    "### 6. (Optional) `main` Putting the Stages Together\n",
    "\n",
    "Time to take all that work planning each individual stage and putting it all together. Take a look below how our individual state planning greatly simplifies chaining our stages together. Not only is it succinct and easy to read, the logical separation and inclusion of dataclasses will also make the following future developer tasks much more straight forward:\n",
    "\n",
    "* **Testing**: Test can be written by each module we've created making it easier than would have otherwise been if we wrote our code as a script.\n",
    "\n",
    "* **Tracing**: Beyond the scope of this instruction, but adding trace decorators each stage will allow better evaluation for future improvements.\n",
    "\n",
    "* **Parameterizing**: By extraction out what all parameters are in the solution, we now have an understanding of our parameter space and ability to create new model versions by simply modifying parameters with no code updates.\n",
    "\n"
   ]
  },
  {
   "cell_type": "code",
   "execution_count": 0,
   "metadata": {
    "application/vnd.databricks.v1+cell": {
     "cellMetadata": {
      "byteLimit": 2048000,
      "rowLimit": 10000
     },
     "inputWidgets": {},
     "nuid": "43d2bff9-e21c-4353-849e-9a6241c8b615",
     "showTitle": false,
     "tableResultSettingsMap": {},
     "title": ""
    }
   },
   "outputs": [
    {
     "output_type": "display_data",
     "data": {
      "text/html": [
       "<style>\n",
       "  /* Python IDE Colors */\n",
       "  .keyword { color: #569CD6; } /* Blue */\n",
       "  .reserved { color: #800080; } /* Purple */  \n",
       "  .constant { color: gray; } /* Brown */\n",
       "  .operator { color: #6A9955; } /* Green */\n",
       "  .ctype { color: #008000; } /* Green */\n",
       "  /* Light gray box */\n",
       "  .code-box {\n",
       "    background-color: #f2f2f2;\n",
       "    padding: 20px;\n",
       "    border-radius: 8px;\n",
       "    text-align: left;\n",
       "    font-size: 18px;\n",
       "    line-height: 1.7\n",
       "  }\n",
       "  table {\n",
       "    border-collapse: collapse;\n",
       "    width: 100%;\n",
       "    border: 1px solid #ccc;\n",
       "  }\n",
       "  th, td {\n",
       "    border: 1px solid #ccc;\n",
       "    padding: 8px;\n",
       "    text-align: left;\n",
       "  }\n",
       "  th {\n",
       "    background-color: #f2f2f2;\n",
       "  }\n",
       "  .toggle-div {\n",
       "    display: block;\n",
       "    margin-bottom: 10px;\n",
       "  }\n",
       "  .hidden {\n",
       "    display: none;\n",
       "  }\n",
       "  .txb-wide {\n",
       "    width: 400px;\n",
       "    padding: 8px;\n",
       "    border: 1px solid #ccc;\n",
       "    border-radius: 4px;\n",
       "    box-sizing: border-box; /* Include padding and border in total width */\n",
       "  }\n",
       "  .ptext {\n",
       "    font-size: 16px;\n",
       "  }\n",
       "</style>\n",
       "\n",
       "<div class=\"code-box\" >\n",
       "  <pre>\n",
       "    <code>\n",
       "      <span class=\"reserved\">def</span> <span class=\"keyword\">main</span>(<span class=\"reserved\">self</span>, question: <span class=\"ctype\">str</span>) -> <span class=\"ctype\">str</span>:\n",
       "          <span>search_result:</span> <span class=\"ctype\">SimilaritySearchResult</span> </span>=</span> </span class=\"type\"></span><span class=\"reserved\">self</span></span\">.run_search(question)</span>\n",
       "          <span>augmented_result:</span> <span class=\"ctype\">Tuple[SearchResultAugmentedContent, ...]</span> </span>=</span> </span class=\"type\"></span><span class=\"reserved\">self</span></span\">.run_augment(search_result, question)</span>\n",
       "          <span>context:</span> <span class=\"ctype\">str</span> </span>=</span> </span class=\"type\"></span><span class=\"reserved\">self</span></span\">.run_get_context(augmented_result)</span>\n",
       "          <span>qa_result:</span> <span class=\"ctype\">QaModelResult</span> </span>=</span> </span class=\"type\"></span><span class=\"reserved\">self</span></span\">.run_qa(question, context)</span>\n",
       "          <span class=\"reserved\">return</span>qa_result.get_answer()\n",
       "    </code>\n",
       "  </pre>\n",
       "</div>\n",
       "\n",
       "<table>\n",
       "  <thead>\n",
       "    <tr>\n",
       "      <th>Attribute</th>\n",
       "      <th>Considerations</th>\n",
       "      <th>Student Answer</th>\n",
       "      <th>Instruction Approach</th>\n",
       "    </tr>\n",
       "  </thead>\n",
       "  <tbody>\n",
       "    <tr>\n",
       "      <td bgcolor= \"#FFFFE0\">Name</td>\n",
       "      <td>Name the method, be succinct</td>\n",
       "      <td><input type=\"text\" id=\"input_name\" value=\"main\" class=\"txb-wide\"></td>\n",
       "      <td><div class=\"toggle-div\" display=false><b>main</b></div></td>\n",
       "    </tr>\n",
       "    <tr>\n",
       "      <td bgcolor= \"#FFFFE0\">Signature-Input</td>\n",
       "      <td>Using the code above, what is our input?</td>\n",
       "      <td><input type=\"text\" id=\"txb_input\" class=\"txb-wide\"></td>\n",
       "      <td><div class=\"toggle-div\" display=false>question: str</td>\n",
       "    </tr>\n",
       "    <tr>\n",
       "      <td bgcolor= \"#FFFFE0\">Signature-Output</td>\n",
       "      <td>Using the code above, what is our output?</td>\n",
       "      <td><input type=\"text\" id=\"txb_output\" class=\"txb-wide\"></td>\n",
       "      <td><div class=\"toggle-div\" display=false>str</div></td>\n",
       "    </tr>\n",
       "  </tbody>\n",
       "</table>\n",
       "\n",
       "</br><button id=\"toggleButton\">Hide/Show Solution</button></br></br>\n",
       "\n",
       "\n",
       "<script>\n",
       "  document.getElementById('toggleButton').addEventListener('click', function() {\n",
       "    var divs = document.querySelectorAll('.toggle-div');\n",
       "    divs.forEach(function(div) {\n",
       "      div.classList.toggle('hidden');\n",
       "    });\n",
       "  });\n",
       "  document.getElementById('toggleButton').click();\n",
       "</script>"
      ]
     },
     "metadata": {},
     "output_type": "display_data"
    }
   ],
   "source": [
    "displayHTML(html_run_search_6)"
   ]
  },
  {
   "cell_type": "markdown",
   "metadata": {
    "application/vnd.databricks.v1+cell": {
     "cellMetadata": {},
     "inputWidgets": {},
     "nuid": "418c6ced-9884-4a4e-b3a6-34da5b888d33",
     "showTitle": false,
     "tableResultSettingsMap": {},
     "title": ""
    }
   },
   "source": [
    "\n",
    "### 7. (Optional) Compound App as Pyfunc Model\n",
    "\n",
    "Our main method is nice, it can take a string and return a string. However, while local execution is nice, we'd really like our model to be deployable and be evaluated just as if it were a foundation model or external model. MLFlow and Databricks accomplish model deployments through built-in model types. Since we are not using a model library, we can use MLFlow's general form of a `pyfunc` model, and we can use a specific subclass of `mlflow.PythonModel`.\n"
   ]
  },
  {
   "cell_type": "code",
   "execution_count": 0,
   "metadata": {
    "application/vnd.databricks.v1+cell": {
     "cellMetadata": {
      "byteLimit": 2048000,
      "rowLimit": 10000
     },
     "inputWidgets": {},
     "nuid": "2dc8cea7-c23f-495b-ba1e-694ec3b937e0",
     "showTitle": false,
     "tableResultSettingsMap": {},
     "title": ""
    }
   },
   "outputs": [
    {
     "output_type": "display_data",
     "data": {
      "text/html": [
       "<style>\n",
       "  /* Python IDE Colors */\n",
       "  .keyword { color: #569CD6; } /* Blue */\n",
       "  .reserved { color: #800080; } /* Purple */  \n",
       "  .constant { color: gray; } /* Brown */\n",
       "  .operator { color: #6A9955; } /* Green */\n",
       "  .ctype { color: #008000; } /* Green */\n",
       "\n",
       "  /* Light gray box */\n",
       "  .code-box {\n",
       "    background-color: #f2f2f2;\n",
       "    padding: 20px;\n",
       "    border-radius: 8px;\n",
       "    text-align: left;\n",
       "    font-size: 18px;\n",
       "    line-height: 1.7;\n",
       "  }\n",
       "\n",
       "  table {\n",
       "    border-collapse: collapse;\n",
       "    width: 100%;\n",
       "    border: 1px solid #ccc;\n",
       "  }\n",
       "\n",
       "  th, td {\n",
       "    border: 1px solid #ccc;\n",
       "    padding: 8px;\n",
       "    text-align: left;\n",
       "  }\n",
       "\n",
       "  th {\n",
       "    background-color: #f2f2f2;\n",
       "  }\n",
       "\n",
       "  .hidden {\n",
       "    display: none;\n",
       "  }\n",
       "\n",
       "  .txb-wide {\n",
       "    width: 400px;\n",
       "    padding: 8px;\n",
       "    border: 1px solid #ccc;\n",
       "    border-radius: 4px;\n",
       "    box-sizing: border-box; \n",
       "  }\n",
       "\n",
       "  .ptext {\n",
       "    font-size: 16px;\n",
       "  }\n",
       "</style>\n",
       "\n",
       "<div class=\"code-box\">\n",
       "  <pre>\n",
       "    <code>\n",
       "      <span class=\"reserved\">import</span> mlflow\n",
       "      <span class=\"reserved\">import</span> mlflow.pyfunc\n",
       "      <span class=\"reserved\">class</span> <span class=\"keyword\">CompoundRAGModel</span>(mlflow.pyfunc.PythonModel):\n",
       "          <span class=\"reserved\">def</span> <span class=\"keyword\">predict</span>(<span class=\"reserved\">self</span>, context, model_input: <span class=\"ctype\">dict</span>) -> <span class=\"ctype\">str</span>:\n",
       "              \"\"\"\n",
       "              Runs a multi-stage reasoning system to generate a response.\n",
       "              - model_input (dict): Expects key 'query' containing the query string.\n",
       "              \"\"\"\n",
       "              query = model_input.get(\"query\", \"\")\n",
       "              if not query:\n",
       "                  raise ValueError(\"Query is required for prediction.\")\n",
       "              # Step 1: Retrieve search results\n",
       "              search_result: SimilaritySearchResult = self.run_search(query)\n",
       "              # Step 2: Generate context\n",
       "              context: str = self.generate_context(search_result)\n",
       "              # Step 3: Get final response\n",
       "              qa_result: QaModelResult = self.run_qa(query, context)\n",
       "              <span class=\"reserved\">return</span> qa_result.get_answer()\n",
       "      <span class=\"reserved\"># Registering the model in MLflow</span>\n",
       "      <span class=\"reserved\">with</span> mlflow.start_run():\n",
       "          mlflow.pyfunc.log_model(\"compound_rag_model\", python_model=CompoundRAGModel())\n",
       "    </code>\n",
       "  </pre>\n",
       "</div>\n",
       "\n",
       "<!-- Table for Signature Inputs/Outputs -->\n",
       "<table>\n",
       "  <thead>\n",
       "    <tr>\n",
       "      <th>Attribute</th>\n",
       "      <th>Considerations</th>\n",
       "      <th>Student Answer</th>\n",
       "      <th>Instruction Approach</th>\n",
       "    </tr>\n",
       "  </thead>\n",
       "  <tbody>\n",
       "    <tr>\n",
       "      <td bgcolor=\"#FFFFE0\">Name</td>\n",
       "      <td>Name the method, be succinct</td>\n",
       "      <td><input type=\"text\" id=\"input_name\" value=\"predict\" class=\"txb-wide\"></td>\n",
       "      <td><div class=\"toggle-div hidden\"><b>predict</b></div></td>\n",
       "    </tr>\n",
       "    <tr>\n",
       "      <td bgcolor=\"#FFFFE0\">Dependencies</td>\n",
       "      <td>Which MLflow method is used for model deployment?</td>\n",
       "      <td><input type=\"text\" id=\"txb_dependencies\" class=\"txb-wide\"></td>\n",
       "      <td><div class=\"toggle-div hidden\"><b>mlflow.pyfunc.log_model()</b></div></td>\n",
       "    </tr>\n",
       "    <tr>\n",
       "      <td bgcolor=\"#FFFFE0\">Signature-Input</td>\n",
       "      <td>What input is required for the model?</td>\n",
       "      <td><input type=\"text\" id=\"txb_input\" class=\"txb-wide\"></td>\n",
       "      <td><div class=\"toggle-div hidden\"><b>model_input: dict</b> (expects key \"query\")</div></td>\n",
       "    </tr>\n",
       "    <tr>\n",
       "      <td bgcolor=\"#FFFFE0\">Signature-Output</td>\n",
       "      <td>What is the expected output of the model?</td>\n",
       "      <td><input type=\"text\" id=\"txb_output\" class=\"txb-wide\"></td>\n",
       "      <td><div class=\"toggle-div hidden\"><b>str</b> (final answer from QA model)</div></td>\n",
       "    </tr>\n",
       "  </tbody>\n",
       "</table>\n",
       "\n",
       "</br><button id=\"toggleButton\">Hide/Show Solution</button></br></br>\n",
       "\n",
       "<script>\n",
       "  document.getElementById('toggleButton').addEventListener('click', function() {\n",
       "    var divs = document.querySelectorAll('.toggle-div');\n",
       "    divs.forEach(function(div) {\n",
       "      div.classList.toggle('hidden');\n",
       "    });\n",
       "\n",
       "    // Change button text dynamically\n",
       "    if (this.textContent === \"Show Solution\") {\n",
       "      this.textContent = \"Hide Solution\";\n",
       "    } else {\n",
       "      this.textContent = \"Show Solution\";\n",
       "    }\n",
       "  });\n",
       "\n",
       "  // Ensure solutions are hidden on page load\n",
       "  window.onload = function() {\n",
       "    document.querySelectorAll('.toggle-div').forEach(function(div) {\n",
       "      div.classList.add('hidden');\n",
       "    });\n",
       "  };\n",
       "</script>\n"
      ]
     },
     "metadata": {},
     "output_type": "display_data"
    }
   ],
   "source": [
    "displayHTML(html_run_search_7)"
   ]
  },
  {
   "cell_type": "markdown",
   "metadata": {
    "application/vnd.databricks.v1+cell": {
     "cellMetadata": {},
     "inputWidgets": {},
     "nuid": "73943e60-301f-459d-89e7-b7a0193ca178",
     "showTitle": false,
     "tableResultSettingsMap": {},
     "title": ""
    }
   },
   "source": [
    "\n",
    "%md\n",
    "\n",
    "### Full Multi-Endpoint Architecture\n",
    "\n",
    "\n",
    "We've gone through all the work of identifying the dependencies which include both a Data Serving Endpoint and a couple model serving endpoints. We should have a look at what our final architecture is. Even in this straight forward compound application, you can see that it has a lot of endpoint dependencies. It's worth having this perspective to see all the serving endpoints that must be maintained.\n",
    "\n"
   ]
  },
  {
   "cell_type": "markdown",
   "metadata": {
    "application/vnd.databricks.v1+cell": {
     "cellMetadata": {},
     "inputWidgets": {},
     "nuid": "a964512a-4951-452c-a807-53439b561c67",
     "showTitle": false,
     "tableResultSettingsMap": {},
     "title": ""
    }
   },
   "source": [
    "\n",
    "## Conclusion\n",
    "\n",
    "In this demo, we planned a sample compound AI system using pure code. This demo showed how different components can be defined independently and then are linked together to build the system."
   ]
  },
  {
   "cell_type": "markdown",
   "metadata": {
    "application/vnd.databricks.v1+cell": {
     "cellMetadata": {},
     "inputWidgets": {},
     "nuid": "0b90fccc-7217-4136-a19c-3795b2cfa8eb",
     "showTitle": false,
     "tableResultSettingsMap": {},
     "title": ""
    }
   },
   "source": [
    "\n",
    "&copy; 2025 Databricks, Inc. All rights reserved.<br/>\n",
    "Apache, Apache Spark, Spark and the Spark logo are trademarks of the \n",
    "<a href=\"https://www.apache.org/\">Apache Software Foundation</a>.<br/>\n",
    "<br/><a href=\"https://databricks.com/privacy-policy\">Privacy Policy</a> | \n",
    "<a href=\"https://databricks.com/terms-of-use\">Terms of Use</a> | \n",
    "<a href=\"https://help.databricks.com/\">Support</a>"
   ]
  }
 ],
 "metadata": {
  "application/vnd.databricks.v1+notebook": {
   "computePreferences": null,
   "dashboards": [],
   "environmentMetadata": null,
   "inputWidgetPreferences": null,
   "language": "python",
   "notebookMetadata": {
    "pythonIndentUnit": 4
   },
   "notebookName": "1.1 - Deconstruct and Plan a Use Case",
   "widgets": {}
  },
  "language_info": {
   "name": "python"
  }
 },
 "nbformat": 4,
 "nbformat_minor": 0
}