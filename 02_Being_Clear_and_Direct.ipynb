{
 "cells": [
  {
   "cell_type": "markdown",
   "metadata": {},
   "source": [
    "# Chapter 2: Being Clear and Direct\n",
    "\n",
    "- [Lesson](#lesson)\n",
    "- [Exercises](#exercises)\n",
    "- [Example Playground](#example-playground)\n",
    "\n",
    "## Setup\n",
    "\n",
    "Run the following setup cell to load your API key and establish the `get_completion` helper function."
   ]
  },
  {
   "cell_type": "code",
   "execution_count": 1,
   "metadata": {
    "tags": []
   },
   "outputs": [],
   "source": [
    "# Import python's built-in regular expression library\n",
    "import re\n",
    "import boto3\n",
    "from botocore.exceptions import ClientError\n",
    "import json\n",
    "\n",
    "# Import the hints module from the utils package\n",
    "from utils import hints\n",
    "\n",
    "# Retrieve the MODEL_NAME variable from the IPython store\n",
    "%store -r modelId\n",
    "%store -r region\n",
    "\n",
    "bedrock_client = boto3.client(service_name='bedrock-runtime', region_name=region)"
   ]
  },
  {
   "cell_type": "code",
   "execution_count": 2,
   "metadata": {},
   "outputs": [
    {
     "data": {
      "text/plain": [
       "'anthropic.claude-3-haiku-20240307-v1:0'"
      ]
     },
     "execution_count": 2,
     "metadata": {},
     "output_type": "execute_result"
    }
   ],
   "source": [
    "modelId"
   ]
  },
  {
   "cell_type": "code",
   "execution_count": 3,
   "metadata": {},
   "outputs": [
    {
     "data": {
      "text/plain": [
       "'us-west-2'"
      ]
     },
     "execution_count": 3,
     "metadata": {},
     "output_type": "execute_result"
    }
   ],
   "source": [
    "region"
   ]
  },
  {
   "cell_type": "code",
   "execution_count": 2,
   "metadata": {},
   "outputs": [],
   "source": [
    "def get_completion(prompt, system_prompt=None):\n",
    "    inference_config = {\n",
    "        \"temperature\": 0.0,\n",
    "        \"maxTokens\": 4096\n",
    "    }\n",
    "    additional_model_fields = {\n",
    "        \"top_p\": 1\n",
    "    }\n",
    "    converse_api_params = {\n",
    "        \"modelId\": modelId,\n",
    "        \"messages\": [{\"role\": \"user\", \"content\": [{\"text\": prompt}]}],\n",
    "        \"inferenceConfig\": inference_config,\n",
    "        \"additionalModelRequestFields\": additional_model_fields\n",
    "    }\n",
    "    if system_prompt:\n",
    "        converse_api_params[\"system\"] = [{\"text\": system_prompt}]\n",
    "    try:\n",
    "        response = bedrock_client.converse(**converse_api_params)\n",
    "        text_content = response['output']['message']['content'][0]['text']\n",
    "        return text_content\n",
    "\n",
    "    except ClientError as err:\n",
    "        message = err.response['Error']['Message']\n",
    "        print(f\"A client error occured: {message}\")"
   ]
  },
  {
   "cell_type": "markdown",
   "metadata": {},
   "source": [
    "---\n",
    "\n",
    "## Lesson\n",
    "\n",
    "**Claude responds best to clear and direct instructions.**\n",
    "\n",
    "Think of Claude like any other human that is new to the job. **Claude has no context** on what to do aside from what you literally tell it. Just as when you instruct a human for the first time on a task, the more you explain exactly what you want in a straightforward manner to Claude, the better and more accurate Claude's response will be.\"\t\t\t\t\n",
    "\t\t\t\t\n",
    "When in doubt, follow the **Golden Rule of Clear Prompting**:\n",
    "- Show your prompt to a colleague or friend and have them follow the instructions themselves to see if they can produce the result you want. If they're confused, Claude's confused.\t\t\t\t"
   ]
  },
  {
   "cell_type": "markdown",
   "metadata": {},
   "source": [
    "### Examples\n",
    "\n",
    "Let's take a task like writing poetry. (Ignore any syllable mismatch - LLMs aren't great at counting syllables yet.)"
   ]
  },
  {
   "cell_type": "code",
   "execution_count": 3,
   "metadata": {
    "tags": []
   },
   "outputs": [
    {
     "name": "stdout",
     "output_type": "stream",
     "text": [
      "Here is a haiku about robots:\n",
      "\n",
      "Metallic beings\n",
      "Programmed to serve and obey\n",
      "Artificial life\n"
     ]
    }
   ],
   "source": [
    "# Prompt\n",
    "PROMPT = \"Write a haiku about robots.\"\n",
    "\n",
    "# Print Claude's response\n",
    "print(get_completion(PROMPT))"
   ]
  },
  {
   "cell_type": "markdown",
   "metadata": {},
   "source": [
    "This haiku is nice enough, but users may want Claude to go directly into the poem without the \"Here is a haiku\" preamble.\n",
    "\n",
    "How do we achieve that? We **ask for it**!"
   ]
  },
  {
   "cell_type": "code",
   "execution_count": 4,
   "metadata": {},
   "outputs": [
    {
     "name": "stdout",
     "output_type": "stream",
     "text": [
      "Metallic beings,\n",
      "Programmed to serve and obey,\n",
      "Robots, our creations.\n"
     ]
    }
   ],
   "source": [
    "# Prompt\n",
    "PROMPT = \"Write a haiku about robots. Skip the preamble; go straight into the poem.\"\n",
    "\n",
    "# Print Claude's response\n",
    "print(get_completion(PROMPT))"
   ]
  },
  {
   "cell_type": "markdown",
   "metadata": {},
   "source": [
    "Here's another example. Let's ask Claude who's the best basketball player of all time. You can see below that while Claude lists a few names, **it doesn't respond with a definitive \"best\"**."
   ]
  },
  {
   "cell_type": "code",
   "execution_count": 5,
   "metadata": {},
   "outputs": [
    {
     "name": "stdout",
     "output_type": "stream",
     "text": [
      "There is no universally agreed upon \"best basketball player of all time.\" It's a highly debated topic, as there have been many all-time great players throughout the history of the sport. Some of the players often considered among the greatest of all time include:\n",
      "\n",
      "- Michael Jordan - Widely regarded as one of the greatest, if not the greatest, player ever. He won 6 NBA championships with the Chicago Bulls.\n",
      "\n",
      "- LeBron James - One of the most dominant and well-rounded players of the modern era. He has won 4 NBA titles with 3 different teams.\n",
      "\n",
      "- Kareem Abdul-Jabbar - Legendary center who won 6 NBA championships and holds the record for most career points scored.\n",
      "\n",
      "- Wilt Chamberlain - Dominant big man who holds numerous NBA records including most points in a game (100).\n",
      "\n",
      "- Magic Johnson - Pioneering point guard who led the \"Showtime\" Lakers to 5 NBA titles.\n",
      "\n",
      "- Bill Russell - Defensive anchor and 11-time NBA champion with the Boston Celtics.\n",
      "\n",
      "There are compelling arguments for several players to be considered the GOAT (greatest of all time). Ultimately, it comes down to personal opinion and how one weighs different factors like championships, individual stats, impact on the game, and more. The debate over the best player ever is likely to continue for a long time.\n"
     ]
    }
   ],
   "source": [
    "# Prompt\n",
    "PROMPT = \"Who is the best basketball player of all time?\"\n",
    "\n",
    "# Print Claude's response\n",
    "print(get_completion(PROMPT))"
   ]
  },
  {
   "cell_type": "markdown",
   "metadata": {},
   "source": [
    "Can we get Claude to make up its mind and decide on a best player? Yes! Just ask!"
   ]
  },
  {
   "cell_type": "code",
   "execution_count": 6,
   "metadata": {},
   "outputs": [
    {
     "name": "stdout",
     "output_type": "stream",
     "text": [
      "There is no definitive consensus on who the single \"best\" basketball player of all time is, as it is a highly subjective and debatable topic. However, if I had to choose one player, the player I would consider the best of all time is Michael Jordan.\n",
      "\n",
      "The key reasons I would select Michael Jordan are:\n",
      "\n",
      "- Sustained excellence and dominance over his career - Jordan was a 14x NBA All-Star, 5x NBA MVP, and 6x NBA champion with the Chicago Bulls. He is widely regarded as one of the most skilled, athletic, and impactful players in the history of the game.\n",
      "\n",
      "- Individual accolades and statistics - Jordan holds numerous NBA records and statistical achievements, including career scoring average, most points scored in a season, and most All-Defensive First Team selections. His combination of scoring, defense, and all-around play is unparalleled.\n",
      "\n",
      "- Cultural impact and influence - Jordan transcended the sport and became a global icon, revolutionizing the game and marketing of basketball. His style of play and \"Air Jordan\" brand had a massive influence on the sport and popular culture.\n",
      "\n",
      "However, I acknowledge there are other players, such as LeBron James, Kareem Abdul-Jabbar, or Wilt Chamberlain, who also have strong cases as the \"best ever\" based on different criteria and perspectives. The GOAT debate in basketball is highly subjective and open to reasonable disagreement.\n"
     ]
    }
   ],
   "source": [
    "# Prompt\n",
    "PROMPT = \"Who is the best basketball player of all time? Yes, there are differing opinions, but if you absolutely had to pick one player, who would it be?\"\n",
    "\n",
    "# Print Claude's response\n",
    "print(get_completion(PROMPT))"
   ]
  },
  {
   "cell_type": "markdown",
   "metadata": {},
   "source": [
    "If you would like to experiment with the lesson prompts without changing any content above, scroll all the way to the bottom of the lesson notebook to visit the [**Example Playground**](#example-playground)."
   ]
  },
  {
   "cell_type": "markdown",
   "metadata": {},
   "source": [
    "---\n",
    "\n",
    "## Exercises\n",
    "- [Exercise 2.1 - Spanish](#exercise-21---spanish)\n",
    "- [Exercise 2.2 - One Player Only](#exercise-22---one-player-only)\n",
    "- [Exercise 2.3 - Write a Story](#exercise-23---write-a-story)"
   ]
  },
  {
   "cell_type": "markdown",
   "metadata": {},
   "source": [
    "### Exercise 2.1 - Spanish\n",
    "Modify the `SYSTEM_PROMPT` to make Claude output its answer in Spanish."
   ]
  },
  {
   "cell_type": "code",
   "execution_count": 24,
   "metadata": {},
   "outputs": [
    {
     "name": "stdout",
     "output_type": "stream",
     "text": [
      "¡Hola! Estoy bien, gracias por preguntar. ¿Cómo estás tú?\n",
      "\n",
      "--------------------------- GRADING ---------------------------\n",
      "This exercise has been correctly solved: True\n"
     ]
    }
   ],
   "source": [
    "# System prompt - this is the only field you should chnage\n",
    "SYSTEM_PROMPT = \"Hello, can you translate it into spanish\"\n",
    "\n",
    "# Prompt\n",
    "PROMPT = \"Hello Claude, how are you?\"\n",
    "\n",
    "# Get Claude's response\n",
    "response = get_completion(PROMPT, SYSTEM_PROMPT)\n",
    "\n",
    "# Function to grade exercise correctness\n",
    "def grade_exercise(text):\n",
    "    return \"hola\" in text.lower()\n",
    "\n",
    "# Print Claude's response and the corresponding grade\n",
    "print(response)\n",
    "print(\"\\n--------------------------- GRADING ---------------------------\")\n",
    "print(\"This exercise has been correctly solved:\", grade_exercise(response))"
   ]
  },
  {
   "cell_type": "markdown",
   "metadata": {},
   "source": [
    "❓ If you want a hint, run the cell below!"
   ]
  },
  {
   "cell_type": "code",
   "execution_count": 25,
   "metadata": {},
   "outputs": [
    {
     "name": "stdout",
     "output_type": "stream",
     "text": [
      "The grading function in this exercise is looking for any answer that includes the word \"hola\".\n",
      "Ask Claude to reply in Spanish like you would when speaking with a human. It's that simple!\n"
     ]
    }
   ],
   "source": [
    "print(hints.exercise_2_1_hint)"
   ]
  },
  {
   "cell_type": "markdown",
   "metadata": {},
   "source": [
    "### Exercise 2.2 - One Player Only\n",
    "\n",
    "Modify the `PROMPT` so that Claude doesn't equivocate at all and responds with **ONLY** the name of one specific player, with **no other words or punctuation**. "
   ]
  },
  {
   "cell_type": "code",
   "execution_count": 29,
   "metadata": {},
   "outputs": [
    {
     "name": "stdout",
     "output_type": "stream",
     "text": [
      "Hello, how can I help you today?\n",
      "\n",
      "--------------------------- GRADING ---------------------------\n",
      "This exercise has been correctly solved: False\n"
     ]
    }
   ],
   "source": [
    "# Prompt - this is the only field you should change\n",
    "PROMPT = \"Hello, just show the text\"\n",
    "\n",
    "# Get Claude's response\n",
    "response = get_completion(PROMPT)\n",
    "\n",
    "# Function to grade exercise correctness\n",
    "def grade_exercise(text):\n",
    "    return text == \"Michael Jordan\"\n",
    "\n",
    "# Print Claude's response and the corresponding grade\n",
    "print(response)\n",
    "print(\"\\n--------------------------- GRADING ---------------------------\")\n",
    "print(\"This exercise has been correctly solved:\", grade_exercise(response))"
   ]
  },
  {
   "cell_type": "markdown",
   "metadata": {},
   "source": [
    "❓ If you want a hint, run the cell below!"
   ]
  },
  {
   "cell_type": "code",
   "execution_count": 27,
   "metadata": {},
   "outputs": [
    {
     "name": "stdout",
     "output_type": "stream",
     "text": [
      "The grading function in this exercise is looking for EXACTLY \"Michael Jordan\".\n",
      "How would you ask another human to do this? Reply with no other words? Reply with only the name and nothing else? There are several ways to approach this answer.\n"
     ]
    }
   ],
   "source": [
    "print(hints.exercise_2_2_hint)"
   ]
  },
  {
   "cell_type": "markdown",
   "metadata": {},
   "source": [
    "### Exercise 2.3 - Write a Story\n",
    "\n",
    "Modify the `PROMPT` so that Claude responds with as long a response as you can muster. If your answer is **over 800 words**, Claude's response will be graded as correct."
   ]
  },
  {
   "cell_type": "code",
   "execution_count": 22,
   "metadata": {},
   "outputs": [
    {
     "name": "stdout",
     "output_type": "stream",
     "text": [
      "Here is a story that is over 800 words:\n",
      "\n",
      "The Forgotten Realm\n",
      "\n",
      "It was a dark and stormy night as Evelyn made her way through the dense forest. The wind howled and the rain pounded against the canopy of trees, creating an eerie ambiance that sent shivers down her spine. But Evelyn pressed on, determined to reach her destination no matter the obstacles.\n",
      "\n",
      "As she trudged through the mud and undergrowth, Evelyn couldn't help but reflect on the events that had led her to this point. It had all started a few weeks ago, when she had stumbled upon an ancient tome in the dusty archives of the local library. The book, written in a language she had never seen before, had captivated her from the moment she laid eyes on it.\n",
      "\n",
      "Evelyn had spent countless hours poring over the pages, deciphering the strange symbols and runes that adorned the weathered parchment. And as she delved deeper into the text, she began to uncover the secrets of a forgotten realm – a realm that existed parallel to the world she knew, a realm of magic and wonder.\n",
      "\n",
      "According to the book, this realm was known as Avalon, and it was a place where the laws of nature did not apply. Evelyn learned of powerful sorcerers and mythical creatures that roamed the land, and she became consumed by the desire to uncover the truth behind this mysterious world.\n",
      "\n",
      "And so, on this stormy night, Evelyn found herself deep in the heart of the forest, following a path that had been described in the ancient tome. She knew that she was close to the entrance to Avalon, and her heart raced with a mixture of excitement and trepidation.\n",
      "\n",
      "As she pushed through the thick foliage, Evelyn suddenly stumbled upon a clearing. In the center of the clearing stood a massive, ancient tree, its gnarled roots reaching deep into the earth. And as Evelyn approached the tree, she noticed a strange, shimmering portal embedded in its trunk.\n",
      "\n",
      "Evelyn paused for a moment, her hand hovering over the portal. She knew that once she stepped through, there would be no turning back. But the lure of the unknown was too strong, and with a deep breath, she plunged forward, stepping into the portal and disappearing from the mortal realm.\n",
      "\n",
      "The journey through the portal was disorienting, a swirling vortex of colors and sensations that left Evelyn feeling dizzy and disoriented. But when she emerged on the other side, she found herself in a world unlike anything she had ever seen.\n",
      "\n",
      "The sky was a deep, vibrant blue, and the air was filled with the scent of exotic flowers and the sound of birdsong. Evelyn looked around in awe, taking in the lush, verdant landscape that stretched out before her.\n",
      "\n",
      "As she began to explore her new surroundings, Evelyn encountered a variety of strange and wondrous creatures. She saw majestic unicorns grazing in the meadows, and she watched in fascination as a group of fairies flitted through the air, their delicate wings shimmering in the sunlight.\n",
      "\n",
      "But Evelyn's wonder quickly turned to fear as she encountered a group of menacing-looking creatures that seemed to be guarding the entrance to the realm. These creatures, with their sharp claws and glowing eyes, were unlike anything Evelyn had ever seen, and she knew that she would have to be careful if she wanted to navigate this new world safely.\n",
      "\n",
      "As Evelyn delved deeper into Avalon, she encountered a variety of challenges and obstacles. She had to navigate treacherous terrain, outwit cunning sorcerers, and even face off against powerful magical beasts. But through it all, she remained determined to uncover the secrets of this forgotten realm.\n",
      "\n",
      "And as she journeyed, Evelyn began to realize that Avalon was not just a place of magic and wonder – it was also a realm in peril. She learned that the forces of darkness were closing in, threatening to consume the land and its inhabitants. And Evelyn knew that she had to do something to stop them.\n",
      "\n",
      "With the help of a group of unlikely allies – including a wise old wizard, a fierce warrior, and a mischievous trickster – Evelyn set out on a quest to save Avalon. They battled their way through treacherous landscapes, confronted powerful sorcerers, and even ventured into the heart of the realm's darkest corners.\n",
      "\n",
      "And in the end, after a harrowing and epic battle, Evelyn and her companions emerged victorious, having saved Avalon from the clutches of the forces of darkness. As she stood in the center of the realm, surrounded by her newfound friends, Evelyn felt a sense of pride and accomplishment that she had never known before.\n",
      "\n",
      "But as she prepared to return to the mortal realm, Evelyn couldn't help but feel a twinge of sadness. She had grown to love Avalon and its inhabitants, and she knew that she would miss this magical world dearly. But she also knew that her journey was not over, and that she would one day return to Avalon, to continue her quest and uncover even more of its secrets.\n",
      "\n",
      "And so, with a heavy heart, Evelyn stepped back through the portal, leaving Avalon behind and returning to the world she had once known. But as she walked away, she knew that a part of her would always remain in that forgotten realm, forever changed by the wonders and challenges she had experienced there.\n",
      "\n",
      "--------------------------- GRADING ---------------------------\n",
      "This exercise has been correctly solved: True\n"
     ]
    }
   ],
   "source": [
    "# Prompt - this is the only field you should change\n",
    "PROMPT = \"Hello, can you writie a story over 800 words\"\n",
    "\n",
    "# Get Claude's response\n",
    "response = get_completion(PROMPT)\n",
    "\n",
    "# Function to grade exercise correctness\n",
    "def grade_exercise(text):\n",
    "    trimmed = text.strip()\n",
    "    words = len(trimmed.split())\n",
    "    return words >= 800\n",
    "\n",
    "# Print Claude's response and the corresponding grade\n",
    "print(response)\n",
    "print(\"\\n--------------------------- GRADING ---------------------------\")\n",
    "print(\"This exercise has been correctly solved:\", grade_exercise(response))"
   ]
  },
  {
   "cell_type": "markdown",
   "metadata": {},
   "source": [
    "❓ If you want a hint, run the cell below!"
   ]
  },
  {
   "cell_type": "code",
   "execution_count": 23,
   "metadata": {},
   "outputs": [
    {
     "name": "stdout",
     "output_type": "stream",
     "text": [
      "The grading function in this cell is looking for a response that is equal to or greater than 800 words.\n",
      "Because LLMs aren't great at counting words yet, you may have to overshoot your target.\n"
     ]
    }
   ],
   "source": [
    "print(hints.exercise_2_3_hint)"
   ]
  },
  {
   "cell_type": "markdown",
   "metadata": {},
   "source": [
    "### Congrats!\n",
    "\n",
    "If you've solved all exercises up until this point, you're ready to move to the next chapter. Happy prompting!"
   ]
  },
  {
   "cell_type": "markdown",
   "metadata": {},
   "source": [
    "---\n",
    "\n",
    "## Example Playground\n",
    "\n",
    "This is an area for you to experiment freely with the prompt examples shown in this lesson and tweak prompts to see how it may affect Claude's responses."
   ]
  },
  {
   "cell_type": "code",
   "execution_count": 15,
   "metadata": {},
   "outputs": [
    {
     "name": "stdout",
     "output_type": "stream",
     "text": [
      "Here is a haiku about robots:\n",
      "\n",
      "Metallic beings\n",
      "Programmed to serve and obey\n",
      "Artificial life\n"
     ]
    }
   ],
   "source": [
    "# Prompt\n",
    "PROMPT = \"Write a haiku about robots.\"\n",
    "\n",
    "# Print Claude's response\n",
    "print(get_completion(PROMPT))"
   ]
  },
  {
   "cell_type": "code",
   "execution_count": 16,
   "metadata": {},
   "outputs": [
    {
     "name": "stdout",
     "output_type": "stream",
     "text": [
      "Metallic beings,\n",
      "Programmed to serve and obey,\n",
      "Robots, our creations.\n"
     ]
    }
   ],
   "source": [
    "# Prompt\n",
    "PROMPT = \"Write a haiku about robots. Skip the preamble; go straight into the poem.\"\n",
    "\n",
    "# Print Claude's response\n",
    "print(get_completion(PROMPT))"
   ]
  },
  {
   "cell_type": "code",
   "execution_count": 17,
   "metadata": {},
   "outputs": [
    {
     "name": "stdout",
     "output_type": "stream",
     "text": [
      "There is no universally agreed upon \"best basketball player of all time.\" It's a highly debated topic, as there have been many all-time great players throughout the history of the sport. Some of the players often considered among the greatest of all time include:\n",
      "\n",
      "- Michael Jordan - Widely regarded as one of the greatest, if not the greatest, player ever. He won 6 NBA championships with the Chicago Bulls.\n",
      "\n",
      "- LeBron James - One of the most dominant and well-rounded players of the modern era. He has won 4 NBA titles with 3 different teams.\n",
      "\n",
      "- Kareem Abdul-Jabbar - Legendary center who won 6 NBA championships and holds the record for most career points scored.\n",
      "\n",
      "- Wilt Chamberlain - Dominant big man who holds numerous NBA records including most points in a game (100).\n",
      "\n",
      "- Magic Johnson - Pioneering point guard who led the \"Showtime\" Lakers to 5 NBA titles.\n",
      "\n",
      "- Bill Russell - Defensive anchor and 11-time NBA champion with the Boston Celtics.\n",
      "\n",
      "There are good arguments for several players as the \"GOAT\" (greatest of all time), but it ultimately comes down to personal opinion and how one weighs different accomplishments and skills. The debate continues among basketball fans and experts.\n"
     ]
    }
   ],
   "source": [
    "# Prompt\n",
    "PROMPT = \"Who is the best basketball player of all time?\"\n",
    "\n",
    "# Print Claude's response\n",
    "print(get_completion(PROMPT))"
   ]
  },
  {
   "cell_type": "code",
   "execution_count": 18,
   "metadata": {
    "tags": []
   },
   "outputs": [
    {
     "name": "stdout",
     "output_type": "stream",
     "text": [
      "There is no definitive consensus on who the single \"best basketball player of all time\" is, as it is a highly subjective and debatable topic. However, if I had to choose one player, I would likely go with Michael Jordan.\n",
      "\n",
      "The reasons for selecting Michael Jordan as the GOAT (greatest of all time) include:\n",
      "\n",
      "- Sustained excellence and dominance over his career - Jordan was a 14x NBA All-Star, 5x NBA MVP, and 6x NBA champion with the Chicago Bulls. He is widely regarded as one of the most skilled, athletic, and impactful players in NBA history.\n",
      "\n",
      "- Individual accolades and statistics - Jordan holds numerous NBA records and statistical achievements, including career scoring average, playoff scoring average, and steals. His combination of scoring, defense, and all-around play is unmatched.\n",
      "\n",
      "- Cultural impact and influence - Jordan transcended the sport and became a global icon, revolutionizing the game and marketing of basketball. His fame and popularity are unparalleled.\n",
      "\n",
      "However, there are certainly other players who have strong cases, such as LeBron James, Kareem Abdul-Jabbar, Wilt Chamberlain, and others. Reasonable people can debate this topic endlessly. But in my opinion, Michael Jordan's sustained excellence, individual brilliance, and cultural impact make him the best basketball player of all time.\n"
     ]
    }
   ],
   "source": [
    "# Prompt\n",
    "PROMPT = \"Who is the best basketball player of all time? Yes, there are differing opinions, but if you absolutely had to pick one player, who would it be?\"\n",
    "\n",
    "# Print Claude's response\n",
    "print(get_completion(PROMPT))"
   ]
  },
  {
   "cell_type": "code",
   "execution_count": null,
   "metadata": {},
   "outputs": [],
   "source": []
  }
 ],
 "metadata": {
  "kernelspec": {
   "display_name": "conda_python3",
   "language": "python",
   "name": "conda_python3"
  },
  "language_info": {
   "codemirror_mode": {
    "name": "ipython",
    "version": 3
   },
   "file_extension": ".py",
   "mimetype": "text/x-python",
   "name": "python",
   "nbconvert_exporter": "python",
   "pygments_lexer": "ipython3",
   "version": "3.10.14"
  }
 },
 "nbformat": 4,
 "nbformat_minor": 4
}
