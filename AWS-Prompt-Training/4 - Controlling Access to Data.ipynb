{
 "cells": [
  {
   "cell_type": "markdown",
   "metadata": {
    "application/vnd.databricks.v1+cell": {
     "cellMetadata": {},
     "inputWidgets": {},
     "nuid": "ac5444a4-b7d0-4432-9511-678ea3ea8f61",
     "showTitle": false,
     "tableResultSettingsMap": {},
     "title": ""
    }
   },
   "source": [
    "\n",
    "<div style=\"text-align: center; line-height: 0; padding-top: 9px;\">\n",
    "  <img src=\"https://databricks.com/wp-content/uploads/2018/03/db-academy-rgb-1200px.png\" alt=\"Databricks Learning\">\n",
    "</div>\n"
   ]
  },
  {
   "cell_type": "markdown",
   "metadata": {
    "application/vnd.databricks.v1+cell": {
     "cellMetadata": {},
     "inputWidgets": {},
     "nuid": "df45a43e-db99-415a-b992-efd34eef4470",
     "showTitle": false,
     "tableResultSettingsMap": {},
     "title": ""
    }
   },
   "source": [
    "# Controlling Access to Data\n",
    "In this demo, we explore the capabilities of Databricks' metastore, focusing on fine-grained access control through column masking, row filtering, and dynamic views. We will learn to analyze the structure and components of the metastore, implement SQL queries to examine catalogs, schemas, tables, and views, and control access to data objects. Through practical exercises, we will delve into techniques such as column masking to obscure sensitive information, row filtering to selectively retrieve data based on criteria, and dynamic views for conditional access control."
   ]
  },
  {
   "cell_type": "markdown",
   "metadata": {
    "application/vnd.databricks.v1+cell": {
     "cellMetadata": {},
     "inputWidgets": {},
     "nuid": "b6d71ba3-e8c8-4ccb-b3f1-fd428d56660d",
     "showTitle": false,
     "tableResultSettingsMap": {},
     "title": ""
    }
   },
   "source": [
    "### Learning Objectives\n",
    "By the end of this demo, you will be able to:\n",
    "1. Analyze the structure and components of a metastore.\n",
    "2. Implement SQL queries to analyze current catalogs, schemas, tables, and views within a classroom setup.\n",
    "3. Implement row and column security techniques such as column masking and row filtering using SQL functions.\n",
    "4. Develop user-defined functions to perform column masking and row filtering based on specific criteria.\n",
    "5. Design dynamic views to protect columns and rows by applying functions conditional on user identity or group membership."
   ]
  },
  {
   "cell_type": "markdown",
   "metadata": {
    "application/vnd.databricks.v1+cell": {
     "cellMetadata": {},
     "inputWidgets": {},
     "nuid": "b52738a4-b735-427d-a07d-c5c5a0df61c2",
     "showTitle": false,
     "tableResultSettingsMap": {},
     "title": ""
    }
   },
   "source": [
    "## Prerequisites\n",
    "In order to follow along with this demo, you will need:\n",
    "* Account administrator capabilities\n",
    "* Cloud resources to support the metastore\n",
    "* Have metastore admin capability in order to create and manage a catalog"
   ]
  },
  {
   "cell_type": "markdown",
   "metadata": {
    "application/vnd.databricks.v1+cell": {
     "cellMetadata": {},
     "inputWidgets": {},
     "nuid": "60a9b93c-e885-4624-83b8-521cc6a1409c",
     "showTitle": false,
     "tableResultSettingsMap": {},
     "title": ""
    }
   },
   "source": [
    "## REQUIRED - SELECT CLASSIC COMPUTE\n",
    "\n",
    "Before executing cells in this notebook, please select your classic compute cluster in the lab. Be aware that **Serverless** is enabled by default.\n",
    "\n",
    "Follow these steps to select the classic compute cluster:\n",
    "\n",
    "1. Navigate to the top-right of this notebook and click the drop-down menu to select your cluster. By default, the notebook will use **Serverless**.\n",
    "\n",
    "1. If your cluster is available, select it and continue to the next cell. If the cluster is not shown:\n",
    "\n",
    "  - In the drop-down, select **More**.\n",
    "\n",
    "  - In the **Attach to an existing compute resource** pop-up, select the first drop-down. You will see a unique cluster name in that drop-down. Please select that cluster.\n",
    "\n",
    "**NOTE:** If your cluster has terminated, you might need to restart it in order to select it. To do this:\n",
    "\n",
    "1. Right-click on **Compute** in the left navigation pane and select *Open in new tab*.\n",
    "\n",
    "1. Find the triangle icon to the right of your compute cluster name and click it.\n",
    "\n",
    "1. Wait a few minutes for the cluster to start.\n",
    "\n",
    "1. Once the cluster is running, complete the steps above to select your cluster."
   ]
  },
  {
   "cell_type": "markdown",
   "metadata": {
    "application/vnd.databricks.v1+cell": {
     "cellMetadata": {},
     "inputWidgets": {},
     "nuid": "61c2f780-a6e7-4122-837e-991a9c638a40",
     "showTitle": false,
     "tableResultSettingsMap": {},
     "title": ""
    }
   },
   "source": [
    "## A. Classroom Setup\n",
    "\n",
    "Run the following cell to configure your working environment for this course. It will also set your default catalog to your specific catalog and the schema to the schema name shown below using the `USE` statements.\n",
    "<br></br>\n",
    "\n",
    "\n",
    "```\n",
    "USE CATALOG <your catalog>;\n",
    "USE SCHEMA <your catalog>.<schema>;\n",
    "```\n",
    "\n",
    "**NOTE:** The `DA` object is only used in Databricks Academy courses and is not available outside of these courses. It will dynamically reference the information needed to run the course."
   ]
  },
  {
   "cell_type": "code",
   "execution_count": 0,
   "metadata": {
    "application/vnd.databricks.v1+cell": {
     "cellMetadata": {},
     "inputWidgets": {},
     "nuid": "6c9c1c52-f786-4d7c-85cd-27b4b605ac1c",
     "showTitle": false,
     "tableResultSettingsMap": {},
     "title": ""
    }
   },
   "outputs": [],
   "source": [
    "%run ./Includes/Classroom-Setup-4"
   ]
  },
  {
   "cell_type": "code",
   "execution_count": 0,
   "metadata": {
    "application/vnd.databricks.v1+cell": {
     "cellMetadata": {},
     "inputWidgets": {},
     "nuid": "c70acf74-2d6d-4fa2-824a-69cc57a17640",
     "showTitle": false,
     "tableResultSettingsMap": {},
     "title": ""
    }
   },
   "outputs": [],
   "source": [
    "SELECT current_catalog(), current_schema();"
   ]
  },
  {
   "cell_type": "markdown",
   "metadata": {
    "application/vnd.databricks.v1+cell": {
     "cellMetadata": {},
     "inputWidgets": {},
     "nuid": "8995752b-fe43-4bde-896c-2c7e5ffc6553",
     "showTitle": false,
     "tableResultSettingsMap": {},
     "title": ""
    }
   },
   "source": [
    "## Task 2: Controlling Access to Data\n",
    "\n",
    "In this section we're going to configure permissions on data objects we created. To keep things simple, we will be granting privileges to everyone. If you're working with a group, you can have others in the group test your work by attempting to access your data objects."
   ]
  },
  {
   "cell_type": "markdown",
   "metadata": {
    "application/vnd.databricks.v1+cell": {
     "cellMetadata": {},
     "inputWidgets": {},
     "nuid": "b111853b-a4a7-4982-85b4-cb48589d4391",
     "showTitle": false,
     "tableResultSettingsMap": {},
     "title": ""
    }
   },
   "source": [
    "### 2.1 Generate an SQL Query to Access the Table\n",
    "\n",
    "By default, if you run this command as written in your notebook, it will execute successfully because you are querying a version of the view that you own. However, to properly test the expected failure scenario, you should attempt to run the command on a view owned by someone else.\n",
    "\n",
    "To do this, replace the view name with the fully qualified name of a view that belongs to another user, using Unity Catalog's three-layer namespace format.\n",
    "\n",
    "eg. `SELECT * FROM someone_elses_catalog.schema.view;`"
   ]
  },
  {
   "cell_type": "code",
   "execution_count": 0,
   "metadata": {
    "application/vnd.databricks.v1+cell": {
     "cellMetadata": {},
     "inputWidgets": {},
     "nuid": "6b6322b2-e4b4-4196-a576-5f5a974f9dea",
     "showTitle": false,
     "tableResultSettingsMap": {},
     "title": ""
    }
   },
   "outputs": [],
   "source": [
    "SELECT * \n",
    "FROM vw_gold;"
   ]
  },
  {
   "cell_type": "markdown",
   "metadata": {
    "application/vnd.databricks.v1+cell": {
     "cellMetadata": {},
     "inputWidgets": {},
     "nuid": "779cae76-487a-43a7-94e5-64cd234fbc0b",
     "showTitle": false,
     "tableResultSettingsMap": {},
     "title": ""
    }
   },
   "source": [
    "If someone else were to run this query, this would currently fail since no privileges have been granted yet. Only you (the owner) can access the table at the current time.\n",
    "\n",
    "By default, no permissions are implied by the metastore. In order to access any data objects, users need appropriate permissions for the data object in question (a view, in this case), as well as all containing elements (the schema and catalog).\n",
    "\n",
    "Unity Catalog's security model accommodates two distinct patterns for managing data access permissions:\n",
    "\n",
    "1. Granting permissions in masses by taking advantage of Unity Catalog's privilege inheritance.\n",
    "1. Explicitly granting permissions to specific objects. This pattern is quite secure, but involves more work to set up and administer.\n",
    "\n",
    "We'll explore both approaches to provide an understanding of how each one works."
   ]
  },
  {
   "cell_type": "markdown",
   "metadata": {
    "application/vnd.databricks.v1+cell": {
     "cellMetadata": {},
     "inputWidgets": {},
     "nuid": "88f94b15-a51f-4d2e-a562-56627805bba8",
     "showTitle": false,
     "tableResultSettingsMap": {},
     "title": ""
    }
   },
   "source": [
    "### 2.2 Inherited Privileges\n",
    "\n",
    "As we've seen, securable objects in Unity Catalog are hierarchical, and privileges are inherited downward. Using this property makes it easy to set up default access rules for your data. Using privilege inheritance, let's build a permission chain that will allow anyone to access the *gold* view.\n",
    "\n",
    "#### **NOTE:** You will encounter a **`PERMISSION_DENIED`** error because you are working in a shared training workspace. You do not have permission to provide users access to your catalog."
   ]
  },
  {
   "cell_type": "code",
   "execution_count": 0,
   "metadata": {
    "application/vnd.databricks.v1+cell": {
     "cellMetadata": {},
     "inputWidgets": {},
     "nuid": "6dcb4127-bfd1-4e97-853a-f5d4e0d643a8",
     "showTitle": false,
     "tableResultSettingsMap": {},
     "title": ""
    }
   },
   "outputs": [],
   "source": [
    "%python\n",
    "spark.sql(f\"GRANT USE CATALOG, USE SCHEMA, SELECT ON CATALOG {DA.catalog_name} TO `account users`\")"
   ]
  },
  {
   "cell_type": "markdown",
   "metadata": {
    "application/vnd.databricks.v1+cell": {
     "cellMetadata": {},
     "inputWidgets": {},
     "nuid": "e1fcf38e-4ff2-4ccb-9a9b-3cd6b36bfb5d",
     "showTitle": false,
     "tableResultSettingsMap": {},
     "title": ""
    }
   },
   "source": [
    "If someone else were to attempt to run the query from earlier again, the query would succeed because all the appropriate permissions are in place. That is:\n",
    "\n",
    "* `USE CATALOG` on the catalog\n",
    "* `USE SCHEMA` on the schema\n",
    "* `SELECT` on the view\n",
    "\n",
    "All of these permissions were granted at the catalog level with one single statement. As convenient as this is, there are some very important things to keep in mind with this approach:\n",
    "\n",
    "* The grantee (everyone, in this case) now has the `SELECT` privilege on **all** applicable objects (that is, tables and views) in **all** schemas within the catalog\n",
    "* This privilege will also be extended to any future tables/views, as well as any future schemas that appear within the catalog\n",
    "\n",
    "While this can be very convenient for granting access to hundreds or thousands of tables, we must be very careful how we set this up when using privilege inheritance because it's much easier to grant permissions to the wrong things accidentally. Also keep in mind the above approach is extreme. A slightly less permissive compromise can be made, while still leveraging privilege inheritance, with the following two grants. Note, you don't need to run these statements; they're merely provided as an example to illustrate the different types of privilege structures you can create that take advantage of inheritance.\n",
    "<br></br>\n",
    "```\n",
    "GRANT USE CATALOG ON CATALOG ${clean_username} TO `account users`;\n",
    "GRANT USE SCHEMA,SELECT ON CATALOG ${clean_username}.example TO `account users`\n",
    "```\n",
    "Basically, this pushes the `USE SCHEMA` and `SELECT` down a level, so that grantees only have access to all applicable objects in the *example* schema.\n"
   ]
  },
  {
   "cell_type": "markdown",
   "metadata": {
    "application/vnd.databricks.v1+cell": {
     "cellMetadata": {},
     "inputWidgets": {},
     "nuid": "03f01186-1037-46cb-aeca-19174f803d53",
     "showTitle": false,
     "tableResultSettingsMap": {},
     "title": ""
    }
   },
   "source": [
    "### 2.3 Revoking Privileges\n",
    "\n",
    "No data governance platform would be complete without the ability to revoke previously issued grants. In preparation for testing the next approach to granting privileges, let's unwind what we just did using **`REVOKE`**.\n",
    "\n",
    "#### **NOTE:** You will encounter a **`PERMISSION_DENIED`** error because you are working in a shared training workspace. You do not have permission to provide users access to your catalog."
   ]
  },
  {
   "cell_type": "code",
   "execution_count": 0,
   "metadata": {
    "application/vnd.databricks.v1+cell": {
     "cellMetadata": {},
     "inputWidgets": {},
     "nuid": "44b17c20-0d1a-4e47-92dc-c93be57a2dbd",
     "showTitle": false,
     "tableResultSettingsMap": {},
     "title": ""
    }
   },
   "outputs": [],
   "source": [
    "%python\n",
    "spark.sql(f\"REVOKE USE CATALOG,USE SCHEMA,SELECT ON CATALOG {DA.catalog_name} FROM `account users`\")"
   ]
  },
  {
   "cell_type": "markdown",
   "metadata": {
    "application/vnd.databricks.v1+cell": {
     "cellMetadata": {},
     "inputWidgets": {},
     "nuid": "02aeefbf-bb90-4567-b041-2ad89bb74d79",
     "showTitle": false,
     "tableResultSettingsMap": {},
     "title": ""
    }
   },
   "source": [
    "### 2.4 Explicit Privileges\n",
    "\n",
    "Using explicit privilege grants, let's build a permission chain that will allow anyone to access the *gold* view.\n",
    "\n",
    "**NOTE:** For user's to access a schema within a catalog you will also have to grant `USE CATALOG` on the catalog. This will not working in this shared training environment. You do not have permission to share your catalog."
   ]
  },
  {
   "cell_type": "code",
   "execution_count": 0,
   "metadata": {
    "application/vnd.databricks.v1+cell": {
     "cellMetadata": {},
     "inputWidgets": {},
     "nuid": "f9bccfa9-f8a2-46de-a600-0e9da91dbadd",
     "showTitle": false,
     "tableResultSettingsMap": {},
     "title": ""
    }
   },
   "outputs": [],
   "source": [
    "%python\n",
    "## USE CATALOG will return an error. You can grant access to objects you own within your catalog like SCHEMAS and VIEWS.\n",
    "#spark.sql(f\"GRANT USE CATALOG ON CATALOG {clean_username} TO `account users`\")\n",
    "\n",
    "## You own the schema and view and can grant access. You do not own the catalog.\n",
    "spark.sql(f\"GRANT USE SCHEMA ON SCHEMA {DA.catalog_name}.example TO `account users`\")\n",
    "spark.sql(f\"GRANT SELECT ON VIEW {DA.catalog_name}.example.vw_gold TO `account users`\")"
   ]
  },
  {
   "cell_type": "markdown",
   "metadata": {
    "application/vnd.databricks.v1+cell": {
     "cellMetadata": {},
     "inputWidgets": {},
     "nuid": "8d79a19a-6f68-430d-8d45-469e48402f53",
     "showTitle": false,
     "tableResultSettingsMap": {},
     "title": ""
    }
   },
   "source": [
    "With these grants in place, if anyone else were to query the view again, the query still succeeds because all the appropriate permissions are in place; we've just taken a very different approach to establishing them.\n",
    "\n",
    "This seems more complicated. One statement from earlier has been replaced with three, and this only provides access to a single view. Following this pattern, we'd have to do an additional **`SELECT`** grant for each additional table or view we wanted to permit. But this complication comes with the benefit of security. Now, users can only read the *gold* view, but nothing else. There's no chance they could accidentally get access to some other object. So this is very explicit and secure, but one can imagine it would be very cumbersome when dealing with lots of tables and views."
   ]
  },
  {
   "cell_type": "markdown",
   "metadata": {
    "application/vnd.databricks.v1+cell": {
     "cellMetadata": {},
     "inputWidgets": {},
     "nuid": "9359797e-aab3-4e3d-ab51-4a5a34a88ff2",
     "showTitle": false,
     "tableResultSettingsMap": {},
     "title": ""
    }
   },
   "source": [
    "### Views vs. Tables\n",
    "\n",
    "We've explored two different approaches to managing permissions, and we now have permissions configured such that anyone can access the *gold* view, which processes and displays data from the *silver* table. \n",
    "\n",
    "But suppose someone else were to try to directly access the *silver* table. This could be accomplished by replacing *gold* in the previous query with *silver*.\n",
    "\n",
    "With explicit privileges in place, the query would fail. How then, does the query against the *gold* view work? Because the view's **owner** has appropriate privileges on the *silver* table (through ownership). This property gives rise to interesting applications of views in table security, which we cover in the next section."
   ]
  },
  {
   "cell_type": "markdown",
   "metadata": {
    "application/vnd.databricks.v1+cell": {
     "cellMetadata": {},
     "inputWidgets": {},
     "nuid": "6850b714-e934-421f-8ee9-fb8591ac0da8",
     "showTitle": false,
     "tableResultSettingsMap": {},
     "title": ""
    }
   },
   "source": [
    "## Task 3: Row and Column Security\n",
    "Column masks and row filters are techniques used in Databricks to implement fine-grained access control. These methods involve adding additional metadata to tables to specify functions that either mask column values or filter rows based on specific conditions.\n",
    "\n",
    "To implement column masking, functions are created for each column that needs to be masked. These user-defined functions \\(UDFs\\) contain the logic to conditionally mask column values.\n",
    "\n",
    "Row filters, on the other hand, allow you to apply a filter to a table so that only rows meeting certain criteria are returned in subsequent queries.\n",
    "\n",
    "While column masking requires a separate function for each masked column, row filtering only requires a single function to filter any number of rows.\n",
    "\n",
    "In both cases, the masking or filtering function is evaluated at query runtime, replacing references to the target column with the results of the function."
   ]
  },
  {
   "cell_type": "markdown",
   "metadata": {
    "application/vnd.databricks.v1+cell": {
     "cellMetadata": {},
     "inputWidgets": {},
     "nuid": "a82a3277-a8e2-476b-bddf-dd780b424bdd",
     "showTitle": false,
     "tableResultSettingsMap": {},
     "title": ""
    }
   },
   "source": [
    "### 3.1 Column Masking\n",
    "Let us implement column masking on the **silver** table and analyze it."
   ]
  },
  {
   "cell_type": "markdown",
   "metadata": {
    "application/vnd.databricks.v1+cell": {
     "cellMetadata": {},
     "inputWidgets": {},
     "nuid": "8a4a00be-fde7-492e-b4fd-a94c42549dad",
     "showTitle": false,
     "tableResultSettingsMap": {},
     "title": ""
    }
   },
   "source": [
    "#### 3.1.1 Query the Table before Masking\n",
    "Let us analyze the **silver** table before applying a column mask."
   ]
  },
  {
   "cell_type": "code",
   "execution_count": 0,
   "metadata": {
    "application/vnd.databricks.v1+cell": {
     "cellMetadata": {},
     "inputWidgets": {},
     "nuid": "9da08109-e101-4d2b-ad1c-47244564371e",
     "showTitle": false,
     "tableResultSettingsMap": {},
     "title": ""
    }
   },
   "outputs": [],
   "source": [
    "SELECT * \n",
    "FROM silver"
   ]
  },
  {
   "cell_type": "markdown",
   "metadata": {
    "application/vnd.databricks.v1+cell": {
     "cellMetadata": {},
     "inputWidgets": {},
     "nuid": "7991aee9-3685-44a5-b0f2-65ed1a280912",
     "showTitle": false,
     "tableResultSettingsMap": {},
     "title": ""
    }
   },
   "source": [
    "#### 3.1.2 Create a Function to Perform Column Masking\n"
   ]
  },
  {
   "cell_type": "markdown",
   "metadata": {
    "application/vnd.databricks.v1+cell": {
     "cellMetadata": {},
     "inputWidgets": {},
     "nuid": "9c5edda7-edd2-44cf-ae67-18cb5e96480b",
     "showTitle": false,
     "tableResultSettingsMap": {},
     "title": ""
    }
   },
   "source": [
    "Check to see if you are a member of *metastore_admins*. View the results. Notice you are not part of *metastore_admins*.\n",
    "\n",
    "The `is_account_group_member()` function returns *true* if the session (connected) user is a direct or indirect member of the specified group at the account level. In this example the function returns *false* since you are not a member.\n",
    "\n",
    "View the [is_account_group_member function documentation](https://docs.databricks.com/en/sql/language-manual/functions/is_account_group_member.html) for more information."
   ]
  },
  {
   "cell_type": "code",
   "execution_count": 0,
   "metadata": {
    "application/vnd.databricks.v1+cell": {
     "cellMetadata": {},
     "inputWidgets": {},
     "nuid": "2e7d6087-1c43-47d5-b71a-b3002c5d8ccb",
     "showTitle": false,
     "tableResultSettingsMap": {},
     "title": ""
    }
   },
   "outputs": [],
   "source": [
    "SELECT is_account_group_member('metastore_admins');"
   ]
  },
  {
   "cell_type": "markdown",
   "metadata": {
    "application/vnd.databricks.v1+cell": {
     "cellMetadata": {},
     "inputWidgets": {},
     "nuid": "b7c01b0c-bd8c-45d6-b590-5dbf89819927",
     "showTitle": false,
     "tableResultSettingsMap": {},
     "title": ""
    }
   },
   "source": [
    "Let us create the function **mrn_mask** to redact the **mrn** column."
   ]
  },
  {
   "cell_type": "code",
   "execution_count": 0,
   "metadata": {
    "application/vnd.databricks.v1+cell": {
     "cellMetadata": {},
     "inputWidgets": {},
     "nuid": "01744446-d3a7-4749-89c1-b2f3baeb3c29",
     "showTitle": false,
     "tableResultSettingsMap": {},
     "title": ""
    }
   },
   "outputs": [],
   "source": [
    "CREATE OR REPLACE FUNCTION mrn_mask(mrn STRING)\n",
    "  RETURN CASE WHEN is_member('metastore_admins') \n",
    "    THEN mrn \n",
    "    ELSE 'REDACTED' \n",
    "  END;"
   ]
  },
  {
   "cell_type": "markdown",
   "metadata": {
    "application/vnd.databricks.v1+cell": {
     "cellMetadata": {},
     "inputWidgets": {},
     "nuid": "f93c78fd-cbf3-41a3-8ef2-755a9e424d08",
     "showTitle": false,
     "tableResultSettingsMap": {},
     "title": ""
    }
   },
   "source": [
    "#### 3.1.3 Alter the Table to Apply the Mask\n",
    "Let us alter the **silver** table to apply the mask function to redact the mrn column."
   ]
  },
  {
   "cell_type": "code",
   "execution_count": 0,
   "metadata": {
    "application/vnd.databricks.v1+cell": {
     "cellMetadata": {},
     "inputWidgets": {},
     "nuid": "cec528c7-a072-4fe0-8b94-60489e3aa944",
     "showTitle": false,
     "tableResultSettingsMap": {},
     "title": ""
    }
   },
   "outputs": [],
   "source": [
    "ALTER TABLE silver \n",
    "  ALTER COLUMN mrn \n",
    "  SET MASK mrn_mask;"
   ]
  },
  {
   "cell_type": "markdown",
   "metadata": {
    "application/vnd.databricks.v1+cell": {
     "cellMetadata": {},
     "inputWidgets": {},
     "nuid": "12653a6a-06b9-4c95-8d77-fc88fabbd99e",
     "showTitle": false,
     "tableResultSettingsMap": {},
     "title": ""
    }
   },
   "source": [
    "#### 3.1.4 Query the Table with Masking\n",
    "Let us analyze the **silver** table after applying the column mask. Notice that the **mrn** column is now redacted since you are not part of the group."
   ]
  },
  {
   "cell_type": "code",
   "execution_count": 0,
   "metadata": {
    "application/vnd.databricks.v1+cell": {
     "cellMetadata": {},
     "inputWidgets": {},
     "nuid": "22d89319-68c4-4a12-91b9-12e4cf6ec4bc",
     "showTitle": false,
     "tableResultSettingsMap": {},
     "title": ""
    }
   },
   "outputs": [],
   "source": [
    "SELECT * \n",
    "FROM silver;"
   ]
  },
  {
   "cell_type": "markdown",
   "metadata": {
    "application/vnd.databricks.v1+cell": {
     "cellMetadata": {},
     "inputWidgets": {},
     "nuid": "e554480d-95e2-451c-b177-5361618d76af",
     "showTitle": false,
     "tableResultSettingsMap": {},
     "title": ""
    }
   },
   "source": [
    "#### 3.1.5 Alter the Table to Drop the Mask\n",
    "Let us alter the **silver** table to drop the mask function."
   ]
  },
  {
   "cell_type": "code",
   "execution_count": 0,
   "metadata": {
    "application/vnd.databricks.v1+cell": {
     "cellMetadata": {},
     "inputWidgets": {},
     "nuid": "2d91b416-5ce6-4ec4-a43e-e8235444bbf2",
     "showTitle": false,
     "tableResultSettingsMap": {},
     "title": ""
    }
   },
   "outputs": [],
   "source": [
    "ALTER TABLE silver \n",
    "  ALTER COLUMN mrn DROP MASK;"
   ]
  },
  {
   "cell_type": "markdown",
   "metadata": {
    "application/vnd.databricks.v1+cell": {
     "cellMetadata": {},
     "inputWidgets": {},
     "nuid": "457f871d-bd64-4c25-9233-22d9aa9098af",
     "showTitle": false,
     "tableResultSettingsMap": {},
     "title": ""
    }
   },
   "source": [
    "#### 3.1.6 Query the Table after Removing the Mask\n",
    "Let us analyze the silver table after removing the column mask. Notice that the **mrn** column is not redacted anymore."
   ]
  },
  {
   "cell_type": "code",
   "execution_count": 0,
   "metadata": {
    "application/vnd.databricks.v1+cell": {
     "cellMetadata": {},
     "inputWidgets": {},
     "nuid": "1f4c9966-1113-4f0e-bdc3-76046a6e3767",
     "showTitle": false,
     "tableResultSettingsMap": {},
     "title": ""
    }
   },
   "outputs": [],
   "source": [
    "SELECT * \n",
    "FROM silver;"
   ]
  },
  {
   "cell_type": "markdown",
   "metadata": {
    "application/vnd.databricks.v1+cell": {
     "cellMetadata": {},
     "inputWidgets": {},
     "nuid": "963dbf14-c5e2-462c-b845-31c30baa28f0",
     "showTitle": false,
     "tableResultSettingsMap": {},
     "title": ""
    }
   },
   "source": [
    "#### 3.1.7 Drop the Mask Function\n",
    "Let us drop the **mrn_mask** function that we had created earlier."
   ]
  },
  {
   "cell_type": "code",
   "execution_count": 0,
   "metadata": {
    "application/vnd.databricks.v1+cell": {
     "cellMetadata": {},
     "inputWidgets": {},
     "nuid": "8ddcb245-af4f-48b7-a4ca-7089726ce038",
     "showTitle": false,
     "tableResultSettingsMap": {},
     "title": ""
    }
   },
   "outputs": [],
   "source": [
    "DROP FUNCTION IF EXISTS mrn_mask;"
   ]
  },
  {
   "cell_type": "markdown",
   "metadata": {
    "application/vnd.databricks.v1+cell": {
     "cellMetadata": {},
     "inputWidgets": {},
     "nuid": "1d471a7d-5f47-40eb-970f-20bebf856c3a",
     "showTitle": false,
     "tableResultSettingsMap": {},
     "title": ""
    }
   },
   "source": [
    "### 3.2 Row Filtering\n",
    "Let us implement row filtering on the **silver** table and analyze it."
   ]
  },
  {
   "cell_type": "markdown",
   "metadata": {
    "application/vnd.databricks.v1+cell": {
     "cellMetadata": {},
     "inputWidgets": {},
     "nuid": "057267ce-a636-4a38-bd7f-3208db935b2d",
     "showTitle": false,
     "tableResultSettingsMap": {},
     "title": ""
    }
   },
   "source": [
    "#### 3.2.1 Query the Table before Row Filtering\n",
    "View the **silver** table with the **device_id** sorted. Notice that *30* rows are returned with **device_id** values ranging from *17* to *37*."
   ]
  },
  {
   "cell_type": "code",
   "execution_count": 0,
   "metadata": {
    "application/vnd.databricks.v1+cell": {
     "cellMetadata": {},
     "inputWidgets": {},
     "nuid": "553e2773-268b-4661-ae76-74a43c92fd33",
     "showTitle": false,
     "tableResultSettingsMap": {},
     "title": ""
    }
   },
   "outputs": [],
   "source": [
    "SELECT * \n",
    "FROM silver\n",
    "ORDER BY device_id DESC;"
   ]
  },
  {
   "cell_type": "markdown",
   "metadata": {
    "application/vnd.databricks.v1+cell": {
     "cellMetadata": {},
     "inputWidgets": {},
     "nuid": "cb8caeb8-9f9f-41fe-8d6a-58ce2a6be4e7",
     "showTitle": false,
     "tableResultSettingsMap": {},
     "title": ""
    }
   },
   "source": [
    "#### 3.2.2 Create a Function to Perform Row Filtering\n"
   ]
  },
  {
   "cell_type": "markdown",
   "metadata": {
    "application/vnd.databricks.v1+cell": {
     "cellMetadata": {},
     "inputWidgets": {},
     "nuid": "67213313-48e4-4f8c-8b7e-c74c2dbd9184",
     "showTitle": false,
     "tableResultSettingsMap": {},
     "title": ""
    }
   },
   "source": [
    "Check to see if you are a member of *admin*. View the results. Notice you are not part of *admin*."
   ]
  },
  {
   "cell_type": "code",
   "execution_count": 0,
   "metadata": {
    "application/vnd.databricks.v1+cell": {
     "cellMetadata": {},
     "inputWidgets": {},
     "nuid": "4ab57378-902e-462c-9152-4dc59ca766e0",
     "showTitle": false,
     "tableResultSettingsMap": {},
     "title": ""
    }
   },
   "outputs": [],
   "source": [
    "SELECT is_account_group_member('admin')"
   ]
  },
  {
   "cell_type": "markdown",
   "metadata": {
    "application/vnd.databricks.v1+cell": {
     "cellMetadata": {},
     "inputWidgets": {},
     "nuid": "8a92568b-4545-493e-a397-571649295ab9",
     "showTitle": false,
     "tableResultSettingsMap": {},
     "title": ""
    }
   },
   "source": [
    "Let us create a function **device_filter** to filter out rows whose **device_id** is less than 30 if the user is not part of the group *admin*."
   ]
  },
  {
   "cell_type": "code",
   "execution_count": 0,
   "metadata": {
    "application/vnd.databricks.v1+cell": {
     "cellMetadata": {},
     "inputWidgets": {},
     "nuid": "bd1c5faa-e5e5-4f2f-b2c1-1850b44d79ec",
     "showTitle": false,
     "tableResultSettingsMap": {},
     "title": ""
    }
   },
   "outputs": [],
   "source": [
    "CREATE OR REPLACE FUNCTION device_filter(device_id INT)\n",
    "  RETURN IF(IS_ACCOUNT_GROUP_MEMBER('admin'), true, device_id < 30);"
   ]
  },
  {
   "cell_type": "markdown",
   "metadata": {
    "application/vnd.databricks.v1+cell": {
     "cellMetadata": {},
     "inputWidgets": {},
     "nuid": "dc5839f4-199e-4647-8d7b-39bf437d286e",
     "showTitle": false,
     "tableResultSettingsMap": {},
     "title": ""
    }
   },
   "source": [
    "#### 3.2.3 Alter the Table to Apply the Row Filter\n",
    "Let us alter the **silver** table to apply the row filter function to filter out rows whose device_id is less than 30."
   ]
  },
  {
   "cell_type": "code",
   "execution_count": 0,
   "metadata": {
    "application/vnd.databricks.v1+cell": {
     "cellMetadata": {},
     "inputWidgets": {},
     "nuid": "712bca52-8d4b-4615-9859-88648213c77e",
     "showTitle": false,
     "tableResultSettingsMap": {},
     "title": ""
    }
   },
   "outputs": [],
   "source": [
    "ALTER TABLE silver \n",
    "SET ROW FILTER device_filter ON (device_id);"
   ]
  },
  {
   "cell_type": "markdown",
   "metadata": {
    "application/vnd.databricks.v1+cell": {
     "cellMetadata": {},
     "inputWidgets": {},
     "nuid": "118a9221-2719-4f90-ab11-a88bca8fd368",
     "showTitle": false,
     "tableResultSettingsMap": {},
     "title": ""
    }
   },
   "source": [
    "#### 3.2.4 Query the Table with Row Filtering\n",
    "Let us analyze the **silver** table after applying the row filter. Notice only *21* rows are returned where **device_id** values are less than *30*."
   ]
  },
  {
   "cell_type": "code",
   "execution_count": 0,
   "metadata": {
    "application/vnd.databricks.v1+cell": {
     "cellMetadata": {},
     "inputWidgets": {},
     "nuid": "093f2cd4-6a86-4f9f-b01c-de7e6b890a9a",
     "showTitle": false,
     "tableResultSettingsMap": {},
     "title": ""
    }
   },
   "outputs": [],
   "source": [
    "SELECT * \n",
    "FROM silver\n",
    "ORDER BY device_id DESC;"
   ]
  },
  {
   "cell_type": "markdown",
   "metadata": {
    "application/vnd.databricks.v1+cell": {
     "cellMetadata": {},
     "inputWidgets": {},
     "nuid": "758281b7-cbb8-4d3f-8348-363efd79b2ff",
     "showTitle": false,
     "tableResultSettingsMap": {},
     "title": ""
    }
   },
   "source": [
    "#### 3.2.5 Alter the Table to Drop the Row Filter\n",
    "Let us alter the **silver** table to drop the row filter function."
   ]
  },
  {
   "cell_type": "code",
   "execution_count": 0,
   "metadata": {
    "application/vnd.databricks.v1+cell": {
     "cellMetadata": {},
     "inputWidgets": {},
     "nuid": "516bca4d-8c05-46e7-a487-5b3e4666c0d9",
     "showTitle": false,
     "tableResultSettingsMap": {},
     "title": ""
    }
   },
   "outputs": [],
   "source": [
    "ALTER TABLE silver DROP ROW FILTER;"
   ]
  },
  {
   "cell_type": "markdown",
   "metadata": {
    "application/vnd.databricks.v1+cell": {
     "cellMetadata": {},
     "inputWidgets": {},
     "nuid": "590fc44d-cddc-49f7-af18-18c7fbc9c5b1",
     "showTitle": false,
     "tableResultSettingsMap": {},
     "title": ""
    }
   },
   "source": [
    "#### 3.2.6 Query the Table after Removing the Row Filter\n",
    "Let us analyze the **silver** table after removing the row filter. Notice that all 30 rows are returned."
   ]
  },
  {
   "cell_type": "code",
   "execution_count": 0,
   "metadata": {
    "application/vnd.databricks.v1+cell": {
     "cellMetadata": {},
     "inputWidgets": {},
     "nuid": "c3489db8-340e-491d-bd51-21f2497264fa",
     "showTitle": false,
     "tableResultSettingsMap": {},
     "title": ""
    }
   },
   "outputs": [],
   "source": [
    "SELECT * \n",
    "FROM silver\n",
    "ORDER BY device_id DESC"
   ]
  },
  {
   "cell_type": "markdown",
   "metadata": {
    "application/vnd.databricks.v1+cell": {
     "cellMetadata": {},
     "inputWidgets": {},
     "nuid": "2c84d273-a7d1-4c87-917e-f8a9f8cba1ef",
     "showTitle": false,
     "tableResultSettingsMap": {},
     "title": ""
    }
   },
   "source": [
    "#### 3.2.7 Drop the Row Filter Function\n",
    "Let us drop the **device_filter** function that we had created earlier."
   ]
  },
  {
   "cell_type": "code",
   "execution_count": 0,
   "metadata": {
    "application/vnd.databricks.v1+cell": {
     "cellMetadata": {},
     "inputWidgets": {},
     "nuid": "6dff25aa-2995-42c6-83ed-80bb576e385c",
     "showTitle": false,
     "tableResultSettingsMap": {},
     "title": ""
    }
   },
   "outputs": [],
   "source": [
    "DROP FUNCTION IF EXISTS device_filter;"
   ]
  },
  {
   "cell_type": "markdown",
   "metadata": {
    "application/vnd.databricks.v1+cell": {
     "cellMetadata": {},
     "inputWidgets": {},
     "nuid": "3de5dfa4-61e6-44b8-8b69-9e66fd38a96f",
     "showTitle": false,
     "tableResultSettingsMap": {},
     "title": ""
    }
   },
   "source": [
    "## Task 4: Protecting Columns and Rows with Dynamic Views\n",
    "\n",
    "Now, let's explore dynamic views, an alternative approach to securing rows and columns. While they have been available in Databricks for some time, they are no longer the primary method for controlling access to rows and columns. However, they still serve a purpose in certain scenarios.\n",
    "\n",
    "We have seen that Unity Catalog's treatment of views provides the ability for views to protect access to tables; users can be granted access to views that manipulate, transform, or obscure data from a source table, without needing to provide direct access to the source table.\n",
    "\n",
    "Dynamic views provide the ability to do fine-grained access control of columns and rows within a table, conditional on the principal running the query. Dynamic views are an extension to standard views that allow us to do things like:\n",
    "* partially obscure column values or redact them entirely\n",
    "* omit rows based on specific criteria\n",
    "\n",
    "Access control with dynamic views is achieved through the use of functions within the definition of the view. These functions include:\n",
    "* **`current_user()`**: returns the email address of the user querying the view\n",
    "* **`is_account_group_member()`**: returns TRUE if the user querying the view is a member of the specified group\n",
    "* **`is_member()`**: returns TRUE if the user querying the view is a member of the specified workspace-local group\n",
    "\n",
    "Note: Databricks generally advises against using the **`is_member()`** function in production, since it references workspace-local groups and hence introduces a workspace dependency into a metastore that potentially spans multiple workspaces."
   ]
  },
  {
   "cell_type": "markdown",
   "metadata": {
    "application/vnd.databricks.v1+cell": {
     "cellMetadata": {},
     "inputWidgets": {},
     "nuid": "2b646551-0a16-4222-abe5-93d04758d552",
     "showTitle": false,
     "tableResultSettingsMap": {},
     "title": ""
    }
   },
   "source": [
    "### 4.1 Redacting columns\n",
    "\n",
    "Suppose we want everyone to be able to see aggregated data trends from the *gold* view, but we don't want to disclose patient PII to everyone. Let's redefine the view to redact the *mrn* and *name* columns, so that only members of *metastore_admins* can see it, using the **`is_account_group_member()`** function."
   ]
  },
  {
   "cell_type": "markdown",
   "metadata": {
    "application/vnd.databricks.v1+cell": {
     "cellMetadata": {},
     "inputWidgets": {},
     "nuid": "b8b40f1e-e31b-4ee4-bfa0-69e31ca6a1e0",
     "showTitle": false,
     "tableResultSettingsMap": {},
     "title": ""
    }
   },
   "source": [
    "#### 4.1.1 Recreate the View\n",
    "Let us recreate a **gold** view while redacting the mrn and name columns."
   ]
  },
  {
   "cell_type": "code",
   "execution_count": 0,
   "metadata": {
    "application/vnd.databricks.v1+cell": {
     "cellMetadata": {},
     "inputWidgets": {},
     "nuid": "6e8a8335-be49-400e-92df-be6725573cca",
     "showTitle": false,
     "tableResultSettingsMap": {},
     "title": ""
    }
   },
   "outputs": [],
   "source": [
    "SELECT is_account_group_member('metastore_admins')"
   ]
  },
  {
   "cell_type": "code",
   "execution_count": 0,
   "metadata": {
    "application/vnd.databricks.v1+cell": {
     "cellMetadata": {},
     "inputWidgets": {},
     "nuid": "14c20dd8-a425-47ad-b2bb-65a91baed73c",
     "showTitle": false,
     "tableResultSettingsMap": {},
     "title": ""
    }
   },
   "outputs": [],
   "source": [
    "CREATE OR REPLACE VIEW vw_gold AS\n",
    "SELECT\n",
    "  CASE WHEN\n",
    "    is_account_group_member('metastore_admins') THEN mrn \n",
    "    ELSE 'REDACTED'\n",
    "  END AS mrn,\n",
    "  CASE WHEN\n",
    "    is_account_group_member('metastore_admins') THEN name\n",
    "    ELSE 'REDACTED'\n",
    "  END AS name,\n",
    "  MEAN(heartrate) avg_heartrate,\n",
    "  DATE_TRUNC(\"DD\", time) date\n",
    "FROM silver\n",
    "GROUP BY mrn, name, DATE_TRUNC(\"DD\", time);"
   ]
  },
  {
   "cell_type": "markdown",
   "metadata": {
    "application/vnd.databricks.v1+cell": {
     "cellMetadata": {},
     "inputWidgets": {},
     "nuid": "99f62cbf-1e7f-4cd9-a992-0708f8c84fbd",
     "showTitle": false,
     "tableResultSettingsMap": {},
     "title": ""
    }
   },
   "source": [
    "#### 4.1.2 Re-issue Grant Access to View\n",
    "We'll re-issue the grant since the above statement replaced the previous object and thus any grants applied directly on the object would have been lost."
   ]
  },
  {
   "cell_type": "code",
   "execution_count": 0,
   "metadata": {
    "application/vnd.databricks.v1+cell": {
     "cellMetadata": {},
     "inputWidgets": {},
     "nuid": "611ef9ea-5615-47e6-bcc1-df7313bc6019",
     "showTitle": false,
     "tableResultSettingsMap": {},
     "title": ""
    }
   },
   "outputs": [],
   "source": [
    "GRANT SELECT ON VIEW vw_gold TO `account users`"
   ]
  },
  {
   "cell_type": "markdown",
   "metadata": {
    "application/vnd.databricks.v1+cell": {
     "cellMetadata": {},
     "inputWidgets": {},
     "nuid": "18b613b7-c284-4ee7-b958-ebb3b73f80b7",
     "showTitle": false,
     "tableResultSettingsMap": {},
     "title": ""
    }
   },
   "source": [
    "#### 4.1.3 Query the View\n",
    "Now let's query the view."
   ]
  },
  {
   "cell_type": "code",
   "execution_count": 0,
   "metadata": {
    "application/vnd.databricks.v1+cell": {
     "cellMetadata": {},
     "inputWidgets": {},
     "nuid": "769dc987-a705-43cf-b3fe-3d26be36682d",
     "showTitle": false,
     "tableResultSettingsMap": {},
     "title": ""
    }
   },
   "outputs": [],
   "source": [
    "SELECT * \n",
    "FROM vw_gold"
   ]
  },
  {
   "cell_type": "markdown",
   "metadata": {
    "application/vnd.databricks.v1+cell": {
     "cellMetadata": {},
     "inputWidgets": {},
     "nuid": "e2ea76e1-b5ad-4e27-8c92-5db54c79dc3a",
     "showTitle": false,
     "tableResultSettingsMap": {},
     "title": ""
    }
   },
   "source": [
    "Does this output surprise you?\n",
    "\n",
    "As the owner of the view and table, you do not need any privileges to access these objects, yet when querying the view, we see redacted columns. This is because of the way the view is defined. As a regular user (one who is not a member of the **`metastore_admins`** group), the *mrn* and *name* columns are redacted."
   ]
  },
  {
   "cell_type": "markdown",
   "metadata": {
    "application/vnd.databricks.v1+cell": {
     "cellMetadata": {},
     "inputWidgets": {},
     "nuid": "5e6f239e-5c7d-422f-b771-0f2e0ff4f346",
     "showTitle": false,
     "tableResultSettingsMap": {},
     "title": ""
    }
   },
   "source": [
    "### 4.2 Restrict Rows\n",
    "\n",
    "Now let's suppose we want a view that, rather than aggregating and redacting columns, simply filters out rows from the source. Let's  apply the same **`is_account_group_member()`** function to create a view that passes through only rows whose *device_id* is less than 30. Row filtering is done by applying the conditional as a **`WHERE`** clause."
   ]
  },
  {
   "cell_type": "markdown",
   "metadata": {
    "application/vnd.databricks.v1+cell": {
     "cellMetadata": {},
     "inputWidgets": {},
     "nuid": "34177628-f6a3-4d7f-afb9-4c48753cc4e5",
     "showTitle": false,
     "tableResultSettingsMap": {},
     "title": ""
    }
   },
   "source": [
    "#### 4.2.1 Recreate the View\n",
    "Let us recreate a **gold** view while filtering out the rows from the source."
   ]
  },
  {
   "cell_type": "code",
   "execution_count": 0,
   "metadata": {
    "application/vnd.databricks.v1+cell": {
     "cellMetadata": {},
     "inputWidgets": {},
     "nuid": "5e487df5-f744-4090-8f67-691cd424845f",
     "showTitle": false,
     "tableResultSettingsMap": {},
     "title": ""
    }
   },
   "outputs": [],
   "source": [
    "CREATE OR REPLACE VIEW vw_gold AS\n",
    "SELECT\n",
    "  mrn,\n",
    "  time,\n",
    "  device_id,\n",
    "  heartrate\n",
    "FROM silver\n",
    "WHERE\n",
    "  CASE WHEN\n",
    "    is_account_group_member('metastore_admins') THEN TRUE\n",
    "    ELSE device_id < 30\n",
    "  END;"
   ]
  },
  {
   "cell_type": "markdown",
   "metadata": {
    "application/vnd.databricks.v1+cell": {
     "cellMetadata": {},
     "inputWidgets": {},
     "nuid": "d38944a8-a089-43cc-8178-998b10683628",
     "showTitle": false,
     "tableResultSettingsMap": {},
     "title": ""
    }
   },
   "source": [
    "#### 4.2.2 Re-issue Grant Access to View\n",
    "We'll re-issue the grant since the above statement replaced the previous object and thus any grants applied directly on the object would have been lost."
   ]
  },
  {
   "cell_type": "code",
   "execution_count": 0,
   "metadata": {
    "application/vnd.databricks.v1+cell": {
     "cellMetadata": {},
     "inputWidgets": {},
     "nuid": "11a36dbb-2149-4d66-aeb6-64f3d0d8ec71",
     "showTitle": false,
     "tableResultSettingsMap": {},
     "title": ""
    }
   },
   "outputs": [],
   "source": [
    "-- Re-issue the grant --\n",
    "GRANT SELECT ON VIEW vw_gold TO `account users`"
   ]
  },
  {
   "cell_type": "markdown",
   "metadata": {
    "application/vnd.databricks.v1+cell": {
     "cellMetadata": {},
     "inputWidgets": {},
     "nuid": "b93fa519-be0f-4967-bbb6-b569efaff8cf",
     "showTitle": false,
     "tableResultSettingsMap": {},
     "title": ""
    }
   },
   "source": [
    "#### 4.2.3 Query the View\n",
    "Now let's query the view."
   ]
  },
  {
   "cell_type": "code",
   "execution_count": 0,
   "metadata": {
    "application/vnd.databricks.v1+cell": {
     "cellMetadata": {},
     "inputWidgets": {},
     "nuid": "b1ea757b-31dc-43b1-acc6-2546abf2caca",
     "showTitle": false,
     "tableResultSettingsMap": {},
     "title": ""
    }
   },
   "outputs": [],
   "source": [
    "SELECT * \n",
    "FROM vw_gold\n",
    "ORDER BY device_id DESC"
   ]
  },
  {
   "cell_type": "markdown",
   "metadata": {
    "application/vnd.databricks.v1+cell": {
     "cellMetadata": {},
     "inputWidgets": {},
     "nuid": "1584a4a1-97af-4329-af97-ba3fd20d2c47",
     "showTitle": false,
     "tableResultSettingsMap": {},
     "title": ""
    }
   },
   "source": [
    "Nine records are omitted. Those records contained values for *device_id* that were caught by the filter. Only members of **`metastore_admins`** would see those."
   ]
  },
  {
   "cell_type": "markdown",
   "metadata": {
    "application/vnd.databricks.v1+cell": {
     "cellMetadata": {},
     "inputWidgets": {},
     "nuid": "e7734df6-dbd6-487e-bdba-a6d4d64f1efc",
     "showTitle": false,
     "tableResultSettingsMap": {},
     "title": ""
    }
   },
   "source": [
    "### 4.3 Data Masking\n",
    "One final use case for dynamic views is data masking, or partially obscuring data. This is fairly common practice (for example, displaying the last 4 digits of a credit card number, or the last two digits of a phone number). Masking is similar in principle to redaction except we are displaying some of the data rather than displaying none of it. And for this simple example, we'll leverage the *dbacademy_mask()* user-defined function that we created earlier to mask the *mrn* column."
   ]
  },
  {
   "cell_type": "markdown",
   "metadata": {
    "application/vnd.databricks.v1+cell": {
     "cellMetadata": {},
     "inputWidgets": {},
     "nuid": "3dd4cb40-b518-4f8f-8cca-7edc33142fa5",
     "showTitle": false,
     "tableResultSettingsMap": {},
     "title": ""
    }
   },
   "source": [
    "#### 4.3.1 Recreate the View\n",
    "Let us recreate a **gold** view and apply data masking on the **mrn** column. We'll also re-issue the grant since the below statement will replace the previous object and thus any grants applied previously on the object will be lost."
   ]
  },
  {
   "cell_type": "code",
   "execution_count": 0,
   "metadata": {
    "application/vnd.databricks.v1+cell": {
     "cellMetadata": {},
     "inputWidgets": {},
     "nuid": "f0432608-1394-4426-9e89-a2f3351b7328",
     "showTitle": false,
     "tableResultSettingsMap": {},
     "title": ""
    }
   },
   "outputs": [],
   "source": [
    "-- Create function\n",
    "CREATE OR REPLACE FUNCTION dbacademy_mask(x STRING)\n",
    "  RETURNS STRING\n",
    "  RETURN CONCAT(LEFT(x, 2) , REPEAT(\"*\", LENGTH(x) - 2));\n",
    "\n",
    "\n",
    "-- Create view\n",
    "CREATE OR REPLACE VIEW vw_gold AS\n",
    "SELECT\n",
    "  CASE WHEN\n",
    "    is_account_group_member('metastore_admins') THEN mrn\n",
    "    ELSE dbacademy_mask(mrn)\n",
    "  END AS mrn,\n",
    "  time,\n",
    "  device_id,\n",
    "  heartrate\n",
    "FROM silver\n",
    "WHERE\n",
    "  CASE WHEN\n",
    "    is_account_group_member('metastore_admins') THEN TRUE\n",
    "    ELSE device_id < 30\n",
    "  END;\n",
    "\n",
    "\n",
    "-- Re-issue the grant --\n",
    "GRANT SELECT ON VIEW vw_gold TO `account users`;"
   ]
  },
  {
   "cell_type": "markdown",
   "metadata": {
    "application/vnd.databricks.v1+cell": {
     "cellMetadata": {},
     "inputWidgets": {},
     "nuid": "28d4da61-41d5-4265-8299-75a7da688bf1",
     "showTitle": false,
     "tableResultSettingsMap": {},
     "title": ""
    }
   },
   "source": [
    "#### 4.3.2 Query the View\n",
    "Now let's query the view."
   ]
  },
  {
   "cell_type": "code",
   "execution_count": 0,
   "metadata": {
    "application/vnd.databricks.v1+cell": {
     "cellMetadata": {},
     "inputWidgets": {},
     "nuid": "42782c45-6001-40b3-b0aa-87b661c91f90",
     "showTitle": false,
     "tableResultSettingsMap": {},
     "title": ""
    }
   },
   "outputs": [],
   "source": [
    "SELECT * \n",
    "FROM vw_gold\n",
    "ORDER BY device_id DESC;"
   ]
  },
  {
   "cell_type": "markdown",
   "metadata": {
    "application/vnd.databricks.v1+cell": {
     "cellMetadata": {},
     "inputWidgets": {},
     "nuid": "d4216aa4-d6aa-413d-963d-c13b00fdb8cb",
     "showTitle": false,
     "tableResultSettingsMap": {},
     "title": ""
    }
   },
   "source": [
    "For us, all values in the **mrn** column will be masked."
   ]
  },
  {
   "cell_type": "markdown",
   "metadata": {
    "application/vnd.databricks.v1+cell": {
     "cellMetadata": {},
     "inputWidgets": {},
     "nuid": "37fc2751-772e-485d-8646-0bc9af85cb4c",
     "showTitle": false,
     "tableResultSettingsMap": {},
     "title": ""
    }
   },
   "source": [
    "## Conclusion\n",
    "In this demo, we delved into the functionalities of Databricks' metastore, emphasizing fine-grained access control through techniques such as column masking, row filtering, and dynamic views. By analyzing the structure and components of the metastore, implementing SQL queries, and managing permissions on data objects, we gained a comprehensive understanding of metadata management and security measures. Through practical exercises, we learned to implement row and column security techniques, including creating user-defined functions for masking and filtering, and designing dynamic views for conditional access control based on user identity or group membership. This hands-on exploration equipped us with essential skills to effectively manage metadata and enforce security policies to safeguard sensitive data within a Databricks environment."
   ]
  },
  {
   "cell_type": "markdown",
   "metadata": {
    "application/vnd.databricks.v1+cell": {
     "cellMetadata": {},
     "inputWidgets": {},
     "nuid": "0df00d6b-6e79-4900-8de9-9c0abc877135",
     "showTitle": false,
     "tableResultSettingsMap": {},
     "title": ""
    }
   },
   "source": [
    "\n",
    "&copy; 2025 Databricks, Inc. All rights reserved.<br/>\n",
    "Apache, Apache Spark, Spark and the Spark logo are trademarks of the \n",
    "<a href=\"https://www.apache.org/\">Apache Software Foundation</a>.<br/>\n",
    "<br/><a href=\"https://databricks.com/privacy-policy\">Privacy Policy</a> | \n",
    "<a href=\"https://databricks.com/terms-of-use\">Terms of Use</a> | \n",
    "<a href=\"https://help.databricks.com/\">Support</a>"
   ]
  }
 ],
 "metadata": {
  "application/vnd.databricks.v1+notebook": {
   "computePreferences": null,
   "dashboards": [],
   "environmentMetadata": null,
   "language": "sql",
   "notebookMetadata": {},
   "notebookName": "4 - Controlling Access to Data",
   "widgets": {}
  },
  "language_info": {
   "name": "sql"
  }
 },
 "nbformat": 4,
 "nbformat_minor": 0
}