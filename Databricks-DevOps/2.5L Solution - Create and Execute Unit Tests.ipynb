{
 "cells": [
  {
   "cell_type": "markdown",
   "metadata": {
    "application/vnd.databricks.v1+cell": {
     "cellMetadata": {},
     "inputWidgets": {},
     "nuid": "85c8f6a9-e5ed-4229-a9a8-4f41a592be95",
     "showTitle": false,
     "tableResultSettingsMap": {},
     "title": ""
    }
   },
   "source": [
    "\n",
    "<div style=\"text-align: center; line-height: 0; padding-top: 9px;\">\n",
    "  <img src=\"https://databricks.com/wp-content/uploads/2018/03/db-academy-rgb-1200px.png\" alt=\"Databricks Learning\">\n",
    "</div>\n"
   ]
  },
  {
   "cell_type": "markdown",
   "metadata": {
    "application/vnd.databricks.v1+cell": {
     "cellMetadata": {},
     "inputWidgets": {},
     "nuid": "c267df64-a8ca-4351-b026-c3c6a3a227f3",
     "showTitle": false,
     "tableResultSettingsMap": {},
     "title": ""
    }
   },
   "source": [
    "# 2.5 Lab - Create and Execute Unit Tests\n",
    "\n",
    "### Estimated Duration: 15-20 minutes\n",
    "\n",
    "By the end of this lab, you will have practiced creating and executing unit tests for the modularized functions that were created in the previous lab."
   ]
  },
  {
   "cell_type": "markdown",
   "metadata": {
    "application/vnd.databricks.v1+cell": {
     "cellMetadata": {},
     "inputWidgets": {},
     "nuid": "0b6212d8-7a71-4b37-a764-7f808a2516b9",
     "showTitle": false,
     "tableResultSettingsMap": {},
     "title": ""
    }
   },
   "source": [
    "## REQUIRED - SELECT CLASSIC COMPUTE\n",
    "\n",
    "Before executing cells in this notebook, please select your classic compute cluster in the lab. Be aware that **Serverless** is enabled by default.\n",
    "\n",
    "Follow these steps to select the classic compute cluster:\n",
    "\n",
    "1. Navigate to the top-right of this notebook and click the drop-down menu to select your cluster. By default, the notebook will use **Serverless**.\n",
    "\n",
    "1. If your cluster is available, select it and continue to the next cell. If the cluster is not shown:\n",
    "\n",
    "  - In the drop-down, select **More**.\n",
    "\n",
    "  - In the **Attach to an existing compute resource** pop-up, select the first drop-down. You will see a unique cluster name in that drop-down. Please select that cluster.\n",
    "\n",
    "**NOTE:** If your cluster has terminated, you might need to restart it in order to select it. To do this:\n",
    "\n",
    "1. Right-click on **Compute** in the left navigation pane and select *Open in new tab*.\n",
    "\n",
    "1. Find the triangle icon to the right of your compute cluster name and click it.\n",
    "\n",
    "1. Wait a few minutes for the cluster to start.\n",
    "\n",
    "1. Once the cluster is running, complete the steps above to select your cluster."
   ]
  },
  {
   "cell_type": "markdown",
   "metadata": {
    "application/vnd.databricks.v1+cell": {
     "cellMetadata": {},
     "inputWidgets": {},
     "nuid": "f5b54b98-9b13-40d8-86eb-bf57e396e7ba",
     "showTitle": false,
     "tableResultSettingsMap": {},
     "title": ""
    }
   },
   "source": [
    "## A. View the Functions in the Python File"
   ]
  },
  {
   "cell_type": "markdown",
   "metadata": {
    "application/vnd.databricks.v1+cell": {
     "cellMetadata": {},
     "inputWidgets": {},
     "nuid": "bd6a9241-4e5c-46c8-92ba-f0103bd5fc0a",
     "showTitle": false,
     "tableResultSettingsMap": {},
     "title": ""
    }
   },
   "source": [
    "1. From the **./Course Notebooks/M02 - CI** folder, navigate to the file **[./src_lab/lab_functions/transforms.py]($./src_lab/lab_functions/transforms.py)**. This Python file contains the modularized functions from the previous lab. \n",
    "\n",
    "    Confirm that the file contains the `convert_miles_to_km` and `uppercase_column_names` functions.\n",
    "\n",
    "\n",
    "<br></br>\n",
    "**Code in the transforms.py file:**\n",
    "```\n",
    "from pyspark.sql import functions as F\n",
    "\n",
    "\n",
    "def convert_miles_to_km(df, new_column_name, miles_column):\n",
    "    return df.withColumn(new_column_name, F.round(F.col(miles_column) * 1.60934, 2))\n",
    "\n",
    "\n",
    "def uppercase_columns_names(df):\n",
    "    return df.select([F.col(col).alias(col.upper()) for col in df.columns])\n",
    "```"
   ]
  },
  {
   "cell_type": "markdown",
   "metadata": {
    "application/vnd.databricks.v1+cell": {
     "cellMetadata": {},
     "inputWidgets": {},
     "nuid": "8728158b-e2a3-47b9-bae5-4d84aa945926",
     "showTitle": false,
     "tableResultSettingsMap": {},
     "title": ""
    }
   },
   "source": [
    "## B. Create Unit Tests\n",
    "\n",
    "Create two unit tests, one for each of the functions in the file above. \n",
    "\n",
    "It's typically easier to develop the unit tests within the notebook (or locally) and then move them to a separate **.py** file later to execute them with `pytest`."
   ]
  },
  {
   "cell_type": "markdown",
   "metadata": {
    "application/vnd.databricks.v1+cell": {
     "cellMetadata": {},
     "inputWidgets": {},
     "nuid": "f764d136-d331-4ca0-ac76-1934ef324aa7",
     "showTitle": false,
     "tableResultSettingsMap": {},
     "title": ""
    }
   },
   "source": [
    "1. Start by importing the `transforms` functions from the `lab_functions` module located in the `src_lab` directory, making them available for use in the current notebook.\n",
    "\n",
    "**HINT:** The **src_lab** folder is in the same directory as this notebook. You don't have to use `sys.path.append()` to append the python path. The current path is appended by default."
   ]
  },
  {
   "cell_type": "code",
   "execution_count": 0,
   "metadata": {
    "application/vnd.databricks.v1+cell": {
     "cellMetadata": {
      "byteLimit": 2048000,
      "rowLimit": 10000
     },
     "inputWidgets": {},
     "nuid": "1b41d78a-d3af-41c0-90d5-73f9657b0837",
     "showTitle": false,
     "tableResultSettingsMap": {},
     "title": ""
    }
   },
   "outputs": [],
   "source": [
    "from src_lab.lab_functions import transforms"
   ]
  },
  {
   "cell_type": "markdown",
   "metadata": {
    "application/vnd.databricks.v1+cell": {
     "cellMetadata": {},
     "inputWidgets": {},
     "nuid": "0d5f9f3e-9a5c-40c0-9d19-e3e75b3c6345",
     "showTitle": false,
     "tableResultSettingsMap": {},
     "title": ""
    }
   },
   "source": [
    "2. Complete the unit test `test_uppercase_columns_function` function to test the custom `transforms.uppercase_column_names()` function. \n",
    "\n",
    "    Use the starter code below to help guide you. After you are done, run the unit test function and confirm that it does not return an error.\n",
    "\n",
    "    **NOTE:** There are a variety of ways to test this function to. We will keep it simple for this lab.\n",
    "\n",
    "    **SOLUTION:** Solution can be found in the **[./tests_lab/lab_unit_test_solution.py]($./tests_lab/lab_unit_test_solution.py)** file."
   ]
  },
  {
   "cell_type": "code",
   "execution_count": 0,
   "metadata": {
    "application/vnd.databricks.v1+cell": {
     "cellMetadata": {
      "byteLimit": 2048000,
      "rowLimit": 10000
     },
     "inputWidgets": {},
     "nuid": "4ed529c1-ca80-4c65-99c0-4f0008245e6c",
     "showTitle": false,
     "tableResultSettingsMap": {},
     "title": ""
    }
   },
   "outputs": [
    {
     "output_type": "stream",
     "name": "stdout",
     "output_type": "stream",
     "text": [
      "Test Passed!\n"
     ]
    }
   ],
   "source": [
    "def test_uppercase_columns_function():\n",
    "\n",
    "    ## Fake DataFrame with random column names\n",
    "    data = [(1, 5.0, 1, 1, 1, 1)]\n",
    "    columns = [\"id\", \"trip_distance\", \"My_Column\", \"WithNumbers123\", \"WithSymbolX@#\", \"With Space\"]\n",
    "    df = spark.createDataFrame(data, columns)\n",
    "\n",
    "    ## Apply the transforms.uppercase_columns_names function to return the actual column names\n",
    "    actual_df = transforms.uppercase_columns_names(df)\n",
    "    actual_columns = actual_df.columns\n",
    "\n",
    "    ## Create a list of the expected column names\n",
    "    expected_columns = ['ID', 'TRIP_DISTANCE', 'MY_COLUMN', 'WITHNUMBERS123', 'WITHSYMBOLX@#', \"WITH SPACE\"]\n",
    "\n",
    "    ## Perform a test of the actual columns names and expected column names using a simple python assert statement\n",
    "    assert actual_columns == expected_columns\n",
    "    print('Test Passed!')\n",
    "\n",
    "test_uppercase_columns_function()"
   ]
  },
  {
   "cell_type": "markdown",
   "metadata": {
    "application/vnd.databricks.v1+cell": {
     "cellMetadata": {},
     "inputWidgets": {},
     "nuid": "57aa96c1-0fbd-4d70-9114-05401ad40d1c",
     "showTitle": false,
     "tableResultSettingsMap": {},
     "title": ""
    }
   },
   "source": [
    "2. Complete the unit test `test_convert_miles_to_km_function` to test the custom `transforms.convert_milles_to_km` function. Use the `pyspark.testing.utils.assertDataFrameEqual` function to test the actual DataFrame against the expected DataFrame.\n",
    "\n",
    "    Use the starter code below to help guide you. After you are done, run the unit tests and confirm that it does not return an error.\n",
    "\n",
    "    **NOTE:** There are a variety of unit tests you can run on the function. This is a simple example that tests the function on positive and null values. We should also test this function on negative values, but we will ignore those for this lab for simplicity.\n",
    "\n",
    "    **HINT:** [pyspark.testing.assertDataFrameEqual](https://spark.apache.org/docs/latest/api/python/reference/api/pyspark.testing.assertDataFrameEqual.html)"
   ]
  },
  {
   "cell_type": "code",
   "execution_count": 0,
   "metadata": {
    "application/vnd.databricks.v1+cell": {
     "cellMetadata": {
      "byteLimit": 2048000,
      "rowLimit": 10000
     },
     "inputWidgets": {},
     "nuid": "93e9166a-0d7f-4e8a-a06c-a26e3cc602a3",
     "showTitle": false,
     "tableResultSettingsMap": {},
     "title": ""
    }
   },
   "outputs": [
    {
     "output_type": "stream",
     "name": "stdout",
     "output_type": "stream",
     "text": [
      "Test Passed!\n"
     ]
    }
   ],
   "source": [
    "\n",
    "from pyspark.sql import functions as F\n",
    "from pyspark.sql.types import StructType, StructField, DoubleType\n",
    "from pyspark.testing.utils import assertDataFrameEqual\n",
    "\n",
    "\n",
    "def test_convert_miles_to_km_function():\n",
    "    # Prepare a DataFrame with sample data\n",
    "    data = [(1.0,), (5.5,), (None,)]\n",
    "    schema = StructType([\n",
    "        StructField(\"trip_distance_miles\", DoubleType(), True)  # Allow null values by setting nullable=True\n",
    "    ])\n",
    "    actual_df = spark.createDataFrame(data, schema)\n",
    "\n",
    "\n",
    "    ## Apply the function on the sample data and store the actual DataFrame\n",
    "    actual_df = transforms.convert_miles_to_km(df = actual_df, \n",
    "                                               new_column_name=\"trip_distance_km\",   ## Name of the new column\n",
    "                                               miles_column=\"trip_distance_miles\")   ## Name of the source miles column\n",
    "\n",
    "\n",
    "    ## Create an expected DataFrame with a defined schema using StructField DoubleType for each column\n",
    "    data = [\n",
    "        (1.0, 1.61),   # Row with values\n",
    "        (5.5, 8.85),   # Row with values\n",
    "        (None, None) # Row with null values\n",
    "    ]\n",
    "\n",
    "    ## Define schema\n",
    "    schema = StructType([\n",
    "        StructField(\"trip_distance_miles\", DoubleType(), True),\n",
    "        StructField(\"trip_distance_km\", DoubleType(), True)\n",
    "    ])\n",
    "\n",
    "    ## Create expected DataFrame\n",
    "    expected_df = spark.createDataFrame(data, schema)\n",
    "\n",
    "\n",
    "    ## Compare the actual and expected DataFrames using assertDataFrameEqual\n",
    "    assertDataFrameEqual(actual_df, expected_df)\n",
    "    print('Test Passed!')\n",
    "\n",
    "\n",
    "## Run the unit test\n",
    "test_convert_miles_to_km_function()"
   ]
  },
  {
   "cell_type": "markdown",
   "metadata": {
    "application/vnd.databricks.v1+cell": {
     "cellMetadata": {},
     "inputWidgets": {},
     "nuid": "543169d3-6557-464e-ab81-110f7d66eaef",
     "showTitle": false,
     "tableResultSettingsMap": {},
     "title": ""
    }
   },
   "source": [
    "## C. Use `pytest` to Execute the Unit Tests\n",
    "\n",
    "Next, use `pytest` to execute the unit tests. For this portion of the lab, you can do one of the following:\n",
    "\n",
    "**C1. DURING A LIVE CLASS**\n",
    "- Use `pytest` to execute the unit tests in the solution Python file that is already provided for you: **./tests_lab/lab_unit_test_solution.py**.\n",
    "\n",
    "**C2. CHALLENGE (COMPLETE AFTER CLASS)**\n",
    "- Migrate your unit tests from above into a new **your-file-name.py** file in the **tests_lab/** folder, and then use `pytest` to execute your file. Make sure to add your `pytest` fixture to create a Spark session and import the necessary packages to run the unit tests."
   ]
  },
  {
   "cell_type": "markdown",
   "metadata": {
    "application/vnd.databricks.v1+cell": {
     "cellMetadata": {},
     "inputWidgets": {},
     "nuid": "a74605fa-34a8-4c73-b174-9ee0781734d3",
     "showTitle": false,
     "tableResultSettingsMap": {},
     "title": ""
    }
   },
   "source": [
    "1. Import the `pytest` package version 8.3.4."
   ]
  },
  {
   "cell_type": "code",
   "execution_count": 0,
   "metadata": {
    "application/vnd.databricks.v1+cell": {
     "cellMetadata": {
      "byteLimit": 2048000,
      "rowLimit": 10000
     },
     "inputWidgets": {},
     "nuid": "10191685-679d-4998-9dc6-73cc829febde",
     "showTitle": false,
     "tableResultSettingsMap": {},
     "title": ""
    }
   },
   "outputs": [
    {
     "output_type": "stream",
     "name": "stdout",
     "output_type": "stream",
     "text": [
      "Collecting pytest==8.3.4\n  Obtaining dependency information for pytest==8.3.4 from https://files.pythonhosted.org/packages/11/92/76a1c94d3afee238333bc0a42b82935dd8f9cf8ce9e336ff87ee14d9e1cf/pytest-8.3.4-py3-none-any.whl.metadata\n  Using cached pytest-8.3.4-py3-none-any.whl.metadata (7.5 kB)\nCollecting iniconfig (from pytest==8.3.4)\n  Obtaining dependency information for iniconfig from https://files.pythonhosted.org/packages/2c/e1/e6716421ea10d38022b952c159d5161ca1193197fb744506875fbb87ea7b/iniconfig-2.1.0-py3-none-any.whl.metadata\n  Using cached iniconfig-2.1.0-py3-none-any.whl.metadata (2.7 kB)\nRequirement already satisfied: packaging in /databricks/python3/lib/python3.11/site-packages (from pytest==8.3.4) (23.2)\nCollecting pluggy<2,>=1.5 (from pytest==8.3.4)\n  Obtaining dependency information for pluggy<2,>=1.5 from https://files.pythonhosted.org/packages/88/5f/e351af9a41f866ac3f1fac4ca0613908d9a41741cfcf2228f4ad853b697d/pluggy-1.5.0-py3-none-any.whl.metadata\n  Using cached pluggy-1.5.0-py3-none-any.whl.metadata (4.8 kB)\nUsing cached pytest-8.3.4-py3-none-any.whl (343 kB)\nUsing cached pluggy-1.5.0-py3-none-any.whl (20 kB)\nUsing cached iniconfig-2.1.0-py3-none-any.whl (6.0 kB)\nInstalling collected packages: pluggy, iniconfig, pytest\nSuccessfully installed iniconfig-2.1.0 pluggy-1.5.0 pytest-8.3.4\n\u001B[43mNote: you may need to restart the kernel using %restart_python or dbutils.library.restartPython() to use updated packages.\u001B[0m\n"
     ]
    }
   ],
   "source": [
    "!pip install pytest==8.3.4"
   ]
  },
  {
   "cell_type": "markdown",
   "metadata": {
    "application/vnd.databricks.v1+cell": {
     "cellMetadata": {},
     "inputWidgets": {},
     "nuid": "87a98546-fc70-4f10-b61e-7768fc2c5a3e",
     "showTitle": false,
     "tableResultSettingsMap": {},
     "title": ""
    }
   },
   "source": [
    "\n",
    "2. If you are creating your own **.py** file for the challenge you can enable the autoreload extension to reload any imported modules automatically so that the command runs pick up those updates as you make them in the .py file. \n",
    "\n",
    "    Use the following commands in any notebook cell or Python file to enable the autoreload extension.\n",
    "\n",
    "    Documentation: [Autoreload for Python modules](https://docs.databricks.com/en/files/workspace-modules.html#autoreload-for-python-modules)"
   ]
  },
  {
   "cell_type": "code",
   "execution_count": 0,
   "metadata": {
    "application/vnd.databricks.v1+cell": {
     "cellMetadata": {
      "byteLimit": 2048000,
      "rowLimit": 10000
     },
     "inputWidgets": {},
     "nuid": "927dcbac-64c2-49e5-bda6-efe4432ff1c3",
     "showTitle": false,
     "tableResultSettingsMap": {},
     "title": ""
    }
   },
   "outputs": [],
   "source": [
    "%load_ext autoreload\n",
    "%autoreload 2"
   ]
  },
  {
   "cell_type": "markdown",
   "metadata": {
    "application/vnd.databricks.v1+cell": {
     "cellMetadata": {},
     "inputWidgets": {},
     "nuid": "65926814-8f02-4508-b157-0034451db426",
     "showTitle": false,
     "tableResultSettingsMap": {},
     "title": ""
    }
   },
   "source": [
    "3. Execute `pytest` on the **./tests_lab/lab_unit_test_solution.py** file. Run the cell and confirm both unit tests pass.\n",
    "\n",
    "    **NOTE:** If you are completing the challenge, modify the path to test your specific **.py** file."
   ]
  },
  {
   "cell_type": "code",
   "execution_count": 0,
   "metadata": {
    "application/vnd.databricks.v1+cell": {
     "cellMetadata": {
      "byteLimit": 2048000,
      "rowLimit": 10000
     },
     "inputWidgets": {},
     "nuid": "6de9efc2-bab5-41a2-99dc-45901e660e84",
     "showTitle": false,
     "tableResultSettingsMap": {},
     "title": ""
    }
   },
   "outputs": [
    {
     "output_type": "stream",
     "name": "stdout",
     "output_type": "stream",
     "text": [
      "\u001B[1m============================= test session starts ==============================\u001B[0m\nplatform linux -- Python 3.11.11, pytest-8.3.4, pluggy-1.5.0 -- /local_disk0/.ephemeral_nfs/envs/pythonEnv-c33aeba0-f736-470a-9ba0-a819eb7e2e34/bin/python\nrootdir: /Workspace/Users/labuser9989464_1744809149@vocareum.com/devops-essentials-for-data-engineering-2.0.3/DevOps Essentials for Data Engineering\nconfigfile: pytest.ini\n\u001B[1mcollecting ... \u001B[0mcollected 2 items\n\ntests_lab/lab_unit_test_solution.py::test_uppercase_columns_function \u001B[32mPASSED\u001B[0m\u001B[32m [ 50%]\u001B[0m\ntests_lab/lab_unit_test_solution.py::test_convert_miles_to_km_function \u001B[32mPASSED\u001B[0m\u001B[32m [100%]\u001B[0m\n\n\u001B[32m============================== \u001B[32m\u001B[1m2 passed\u001B[0m\u001B[32m in 5.04s\u001B[0m\u001B[32m ===============================\u001B[0m\n"
     ]
    }
   ],
   "source": [
    "import pytest\n",
    "import sys\n",
    "\n",
    "sys.dont_write_bytecode = True\n",
    "\n",
    "retcode = pytest.main([\"./tests_lab/lab_unit_test_solution.py\", \"-v\", \"-p\", \"no:cacheprovider\"])\n",
    "\n",
    "assert retcode == 0, \"The pytest invocation failed. See the log for details.\""
   ]
  },
  {
   "cell_type": "markdown",
   "metadata": {
    "application/vnd.databricks.v1+cell": {
     "cellMetadata": {},
     "inputWidgets": {},
     "nuid": "efb52d6d-129e-4df2-9017-6b4228a8e541",
     "showTitle": false,
     "tableResultSettingsMap": {},
     "title": ""
    }
   },
   "source": [
    "\n",
    "&copy; 2025 Databricks, Inc. All rights reserved.<br/>\n",
    "Apache, Apache Spark, Spark and the Spark logo are trademarks of the \n",
    "<a href=\"https://www.apache.org/\">Apache Software Foundation</a>.<br/>\n",
    "<br/><a href=\"https://databricks.com/privacy-policy\">Privacy Policy</a> | \n",
    "<a href=\"https://databricks.com/terms-of-use\">Terms of Use</a> | \n",
    "<a href=\"https://help.databricks.com/\">Support</a>"
   ]
  },
  {
   "cell_type": "code",
   "execution_count": 0,
   "metadata": {
    "application/vnd.databricks.v1+cell": {
     "cellMetadata": {},
     "inputWidgets": {},
     "nuid": "85f6bbb5-3511-4d0f-82d7-fa977613ac54",
     "showTitle": false,
     "tableResultSettingsMap": {},
     "title": ""
    }
   },
   "outputs": [],
   "source": []
  }
 ],
 "metadata": {
  "application/vnd.databricks.v1+notebook": {
   "computePreferences": null,
   "dashboards": [],
   "environmentMetadata": null,
   "inputWidgetPreferences": null,
   "language": "python",
   "notebookMetadata": {
    "pythonIndentUnit": 4
   },
   "notebookName": "2.5L Solution - Create and Execute Unit Tests",
   "widgets": {}
  },
  "language_info": {
   "name": "python"
  }
 },
 "nbformat": 4,
 "nbformat_minor": 0
}