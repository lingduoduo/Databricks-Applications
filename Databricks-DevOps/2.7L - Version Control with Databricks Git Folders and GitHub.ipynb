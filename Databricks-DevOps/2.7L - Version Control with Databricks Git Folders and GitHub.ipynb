{
 "cells": [
  {
   "cell_type": "markdown",
   "metadata": {
    "application/vnd.databricks.v1+cell": {
     "cellMetadata": {},
     "inputWidgets": {},
     "nuid": "ba518e07-1a96-4cfb-bd0c-9732352d0020",
     "showTitle": false,
     "tableResultSettingsMap": {},
     "title": ""
    }
   },
   "source": [
    "\n",
    "<div style=\"text-align: center; line-height: 0; padding-top: 9px;\">\n",
    "  <img src=\"https://databricks.com/wp-content/uploads/2018/03/db-academy-rgb-1200px.png\" alt=\"Databricks Learning\">\n",
    "</div>\n"
   ]
  },
  {
   "cell_type": "markdown",
   "metadata": {
    "application/vnd.databricks.v1+cell": {
     "cellMetadata": {},
     "inputWidgets": {},
     "nuid": "d0e3af45-1da6-4a1a-868b-7f508921138c",
     "showTitle": false,
     "tableResultSettingsMap": {},
     "title": ""
    }
   },
   "source": [
    "# 2.7 Lab - Version Control with Databricks Git Folders and GitHub\n",
    "\n",
    "\n",
    "### NOTE: This lab requires PERSONAL GitHub account to complete\n",
    "\n",
    "### Estimated Duration: 25-30 minutes\n",
    "\n",
    "This lab requires a PERSONAL GitHub account. Complete this lab if you would like to practice using GitHub and Databricks. It will cover the basics of working with Databricks and GitHub, providing a simple introduction to Git folders and GitHub.\n",
    "\n",
    "## Overview \n",
    "Git is an open source framework, but we will be utilizing a Git provider called [GitHub](https://github.com/). This is where your codebase will be hosted for development that:\n",
    "- Hosts Git repos \n",
    "- Provides mechanism for access control \n",
    "- Provides tools for merge requests \n",
    "- Provides tools and features for CI/CD Pipeline testing ([GitHub Actions](https://docs.databricks.com/en/dev-tools/bundles/ci-cd-bundles.html))\n",
    "\n",
    "\n",
    "### Learning Objectives\n",
    "By the end of this course, you will be able to: \n",
    "- Connect your GitHub account to Databricks Git folders using a Personal Access Token (PAT).\n",
    "- Perform basic Git operations like push, commit, pull in Databricks and Merge within GitHub.\n",
    "\n",
    "**NOTE:** This course does not cover GitHub Actions. Please see the link provided above for further reading on this topic."
   ]
  },
  {
   "cell_type": "markdown",
   "metadata": {
    "application/vnd.databricks.v1+cell": {
     "cellMetadata": {},
     "inputWidgets": {},
     "nuid": "ffe9e88f-ae7b-4daa-904d-6d7ceb679abd",
     "showTitle": false,
     "tableResultSettingsMap": {},
     "title": ""
    }
   },
   "source": [
    "\n",
    "## A. Create a GitHub Account\n",
    "If you already have a **non-work related GitHub account**, please go ahead and login. \n",
    "\n",
    "Otherwise, you will need to follow the instructions provided [here](https://docs.github.com/en/get-started/start-your-journey/creating-an-account-on-github) to create your own personal GitHub account. \n",
    "\n",
    "### 🚨 Do not use a work related GitHub account 🚨"
   ]
  },
  {
   "cell_type": "markdown",
   "metadata": {
    "application/vnd.databricks.v1+cell": {
     "cellMetadata": {},
     "inputWidgets": {},
     "nuid": "1c98976d-8482-470d-b9c6-d82d78ba3ca1",
     "showTitle": false,
     "tableResultSettingsMap": {},
     "title": ""
    }
   },
   "source": [
    "## B. Create a GitHub Repository\n",
    "To create a GitHub repository (repo), follow the steps laid out [here](https://docs.github.com/en/repositories/creating-and-managing-repositories/quickstart-for-repositories#create-a-repository).\n",
    "\n",
    "When creating your GitHub repo, make sure the following are set:\n",
    "\n",
    "1. Name the repo **databricks_devops**.\n",
    "\n",
    "2. Do not add a **README** file.\n",
    "\n",
    "3. Do not add a **gitignore** file.\n",
    "\n",
    "4. Do not add a license.\n",
    "\n",
    "5. After you create a GitHub repo you will get a note that looks like the following: ![GitHub](../Includes/images/05_github_new_repo.png)\n",
    "\n",
    "6. Select **HTTPS** and leave the page open. You will need the HTTP link to create your Git folder in Databricks.\n"
   ]
  },
  {
   "cell_type": "markdown",
   "metadata": {
    "application/vnd.databricks.v1+cell": {
     "cellMetadata": {},
     "inputWidgets": {},
     "nuid": "e5ddd52f-3d2f-4a89-b47a-6ac4c0632f96",
     "showTitle": false,
     "tableResultSettingsMap": {},
     "title": ""
    }
   },
   "source": [
    "## C. Setting up GitHub with Databricks\n",
    "\n",
    "Here we will integrate the GitHub repository you just created on GitHub with Databricks using Databricks Git Folders. \n"
   ]
  },
  {
   "cell_type": "markdown",
   "metadata": {
    "application/vnd.databricks.v1+cell": {
     "cellMetadata": {},
     "inputWidgets": {},
     "nuid": "bbdba7f8-108e-4617-963a-0d1864db88cd",
     "showTitle": false,
     "tableResultSettingsMap": {},
     "title": ""
    }
   },
   "source": [
    "### C1. Connect to a GitHub Repo Using a Personal Access Token (PAT)\n",
    "\n",
    "Either of the following approaches will work for this demonstration."
   ]
  },
  {
   "cell_type": "markdown",
   "metadata": {
    "application/vnd.databricks.v1+cell": {
     "cellMetadata": {},
     "inputWidgets": {},
     "nuid": "72a3d037-1503-453a-8f0f-79197cf17b62",
     "showTitle": false,
     "tableResultSettingsMap": {},
     "title": ""
    }
   },
   "source": [
    "#### Option 1 (Recommended): Fine-Grained PAT Configuration\n",
    "\n",
    "For fine-grained access, you should connect to the repository using a fine-grained PAT. [Connect to a GitHub repo using a fine-grained personal access token](https://docs.databricks.com/en/repos/get-access-tokens-from-git-provider.html#connect-to-a-github-repo-using-a-fine-grained-personal-access-token) for details. \n",
    "\n",
    "Here is a table that summarizes the permission and access level you will need when configuring your fine-grained PAT. \n",
    "| Permission      | Access Level      |\n",
    "|---------------|----------------|\n",
    "| Administration | Read and Write |\n",
    "| Contents      | Read and Write |\n",
    "| Pull Requests | Read and Write |\n",
    "| Webhooks      | Read and Write |\n",
    "\n",
    "Be aware that Metadata will automatically be turned to read-only as a mandatory configuration. \n",
    "\n",
    "**NOTE:** Select an custom expiration of tomorrow since you are using the Databricks Academy lab. However, the PAT will be removed when the lab is closed."
   ]
  },
  {
   "cell_type": "markdown",
   "metadata": {
    "application/vnd.databricks.v1+cell": {
     "cellMetadata": {},
     "inputWidgets": {},
     "nuid": "09a10e04-6216-4f22-bad2-6115778eae28",
     "showTitle": false,
     "tableResultSettingsMap": {},
     "title": ""
    }
   },
   "source": [
    "#### Option 2: Legacy PAT Configuration\n",
    "\n",
    "Follow the steps outlined in [Connect to a GitHub repo using a personal access token](https://docs.databricks.com/en/repos/get-access-tokens-from-git-provider.html#connect-to-a-github-repo-using-a-personal-access-token) for connecting to GitHub via a personal access token (PAT) with broad access to resources. \n",
    "\n",
    "Here is a table that summarizes the permission and access level you will need if you need to configure a Legacy PAT. \n",
    "| Permission        | Access Level             |\n",
    "|------------------|-------------------------|\n",
    "| Repo            | Full control of private repositories |\n",
    "| Workflow        | Read and Write access to workflows |\n",
    "| Admin:Repo_Hook | Manage repository hooks |\n",
    "| Delete_Repo     | Delete repositories |\n",
    "\n",
    "**NOTE:** Select an custom expiration of tomorrow since you are using the Databricks Academy lab. However, the PAT will be removed when the lab is closed."
   ]
  },
  {
   "cell_type": "markdown",
   "metadata": {
    "application/vnd.databricks.v1+cell": {
     "cellMetadata": {},
     "inputWidgets": {},
     "nuid": "24120b80-0c43-4557-a223-659d852ff01d",
     "showTitle": false,
     "tableResultSettingsMap": {},
     "title": ""
    }
   },
   "source": [
    "### C2. Create a Git Folder in Databricks\n",
    "\n",
    "Next, we're going to connect to the GitHub repo you created in a previous section.\n",
    "\n",
    "Git folders in Databricks (formerly known as Repos) are used for version control and are enabled by default in your Databricks workspace. After setting up a Git folder, you can perform common Git operations such as clone, checkout, commit, push, pull, and manage branches directly from the Databricks UI.\n",
    "\n",
    "Complete the following:\n",
    "\n",
    "1. In your GitHub account, navigate to the repository you created earlier and copy the HTTPS address. It should look like: `https://github.com/<github_username>/<repo_name>.git`.\n",
    "   \n",
    "2. In Databricks within a new tab, go to **Workspace**, click on **Users**, and find your username for this course.\n",
    "\n",
    "3. Click the blue **Create** button in the top-right corner.\n",
    "\n",
    "4. Select **Git folder** from the dropdown.\n",
    "\n",
    "5. Paste the copied URL into the textbox under **Git repository URL**.\n",
    "\n",
    "6. Click the blue button at the bottom labeled **Create Git folder**.\n",
    "\n",
    "7. In the Workspace, select your **databricks_devops** folder.\n",
    "\n",
    "8. To the right of your folder name, you should see the **main** branch listed.\n",
    "\n",
    "\n",
    "<br></br>\n",
    "**Git Folder**\n",
    "\n",
    "![Git Folder](../Includes/images/05_devops_db_git_folder.png)"
   ]
  },
  {
   "cell_type": "markdown",
   "metadata": {
    "application/vnd.databricks.v1+cell": {
     "cellMetadata": {},
     "inputWidgets": {},
     "nuid": "6cec6752-33a8-4e98-a19f-835d725d94b6",
     "showTitle": false,
     "tableResultSettingsMap": {},
     "title": ""
    }
   },
   "source": [
    "## D. Your First Push and Commit\n",
    "\n",
    "Let's add a file to your **Databricks Git folder** within the Databricks Workspace, then push and commit the changes to GitHub.\n",
    "\n",
    "1. From Databricks, navigate to your **Git folder in your Workspace**, and in that folder create a file named **README.md**.\n",
    "\n",
    "2. Add the following text to the **README.md** file:\n",
    "    ```\n",
    "    # Databricks DevOps Training\n",
    "    My first push and commit.\n",
    "    ```\n",
    "\n",
    "3. At the top right of the file, next to the file name **README.md**, you’ll see your repo branch name, **main**.\n",
    "\n",
    "4. Select the **main** branch (your only branch). You should see the following:\n",
    "\n",
    "![Changes](../Includes/images/05_first_push.png)\n",
    "\n",
    "**NOTE:** This page lets you see the branch you're working on, what changes have been made, settings, and gives you the option to commit and push changes to your GitHub repo.\n",
    "\n",
    "5. We want to commit and push the new **README.md** file that we created in the Databricks Git folder. Enter a commit message (e.g., \"First commit\") and click **Commit & Push**.\n",
    "\n",
    "6. Once you receive a confirmation message that the commit and push were successful, close the Git pop-up.\n",
    "\n",
    "7. Go to your GitHub repo and refresh the page.\n",
    "\n",
    "8. Select the **Code** tab at the top (if you're not already there). Here, you’ll find your newly uploaded file along with the commit message."
   ]
  },
  {
   "cell_type": "markdown",
   "metadata": {
    "application/vnd.databricks.v1+cell": {
     "cellMetadata": {},
     "inputWidgets": {},
     "nuid": "939f894a-664f-4fb9-9b87-557903f57fc8",
     "showTitle": false,
     "tableResultSettingsMap": {},
     "title": ""
    }
   },
   "source": [
    "#### D1. Creating a New Branch\n",
    "\n",
    "Let's create a **dev** branch within the **Databricks Git folder** to develop a new feature, and demonstrate how a pull request in GitHub reflects in our Git folder.\n",
    "\n",
    "Complete the following:\n",
    "\n",
    "1. In the Databricks Workspace, select the **main** branch of your folder. In the Databricks Git folder popup, click **Create Branch**, name the branch **dev**, and then click **Create**.\n",
    "\n",
    "2. Close the Databricks Git folder popup.\n",
    "\n",
    "3. You should now be in the **dev** branch.\n",
    "\n",
    "**NOTE:** Ensure that **dev** is selected by default, as we will be committing to this branch first. At this point, the **dev** and **main** branches are identical."
   ]
  },
  {
   "cell_type": "markdown",
   "metadata": {
    "application/vnd.databricks.v1+cell": {
     "cellMetadata": {},
     "inputWidgets": {},
     "nuid": "e81077c5-b734-4474-86d9-fdb7867c18e3",
     "showTitle": false,
     "tableResultSettingsMap": {},
     "title": ""
    }
   },
   "source": [
    "#### D2. Add a Feature to the Dev Branch\n",
    "\n",
    "Let's pretend we are creating a new feature in our **dev** branch.\n",
    "\n",
    "Complete the following:\n",
    "\n",
    "1. Go to your Git folder in the Databricks Workspace and ensure the **dev** branch is selected.\n",
    "\n",
    "2. Within the **dev** branch, create a notebook and name it **new_feature**. In the first cell, add a simple Python statement: `print('hello world')`.\n",
    "\n",
    "3. To the right of the notebook name within your Databricks Workspace, select the **dev** branch.\n",
    "\n",
    "4. You should now see that one file has been changed. Add the commit message *update feature* and click **Commit & Push**.\n",
    "\n",
    "5. The push should complete successfully to your GitHub repo. Close the GitHub popup in Databricks.\n",
    "\n",
    "6. Go to GitHub and ensure you're on the **main** branch. You should notice that your new feature is not in the **main** branch yet.\n",
    "\n",
    "7. In GitHub, switch to the **dev** branch (the default is **main**). Refresh the page if needed. The new notebook, **new_feature.ipynb**, should appear in your GitHub repo.\n",
    "\n",
    "8. Leave GitHub open."
   ]
  },
  {
   "cell_type": "markdown",
   "metadata": {
    "application/vnd.databricks.v1+cell": {
     "cellMetadata": {},
     "inputWidgets": {},
     "nuid": "f67a6907-2fd4-40ea-a70f-f84b68044b98",
     "showTitle": false,
     "tableResultSettingsMap": {},
     "title": ""
    }
   },
   "source": [
    "## E. Create a New Pull Request\n",
    "\n",
    "A pull request is a proposal to merge a set of changes from one branch into another. In a pull request, collaborators can review and discuss the proposed set of changes before they integrate the changes into the main codebase.\n",
    "\n"
   ]
  },
  {
   "cell_type": "markdown",
   "metadata": {
    "application/vnd.databricks.v1+cell": {
     "cellMetadata": {},
     "inputWidgets": {},
     "nuid": "e7746b4d-e616-41f3-a5db-a5a09767739e",
     "showTitle": false,
     "tableResultSettingsMap": {},
     "title": ""
    }
   },
   "source": [
    "1. Complete the following steps to perform a pull request into the **main** branch:\n",
    "\n",
    "   a. In GitHub, select the **Pull requests** tab in the top navigation bar.\n",
    "\n",
    "   b. Click **New pull request**.\n",
    "\n",
    "   c. You will see two dropdown menus. Select the following in the **base** and **compare** drop downs.:\n",
    "      - Change  first dropdown on the left to **main** (this is the base), \n",
    "      - Select **dev** (**compare**) on the right hand side as the branch to compare **main** to.\n",
    "\n",
    "   d. Scroll down and notice the updates in **dev** that are not in **main** (this includes the new notebook you created).\n",
    "\n",
    "   e. Click **Create pull request**.\n",
    "\n",
    "   f. In the **Open a pull request** section, you have several options. You can add a title and description for the pull request. On the right, you can specify **Reviewers**, **Assignees**, **Labels**, and more.\n",
    "\n",
    "   g. Fill out a title and description, then click **Create pull request**.\n",
    "\n",
    "   h. Leave the GitHub page open."
   ]
  },
  {
   "cell_type": "markdown",
   "metadata": {
    "application/vnd.databricks.v1+cell": {
     "cellMetadata": {},
     "inputWidgets": {},
     "nuid": "2748858c-a9f5-4b53-ac8b-1f08e48fbaa5",
     "showTitle": false,
     "tableResultSettingsMap": {},
     "title": ""
    }
   },
   "source": [
    "2. Next, complete the following steps to merge the pull request. All of the commits from the **dev** branch will be added to the **main** branch.\n",
    "\n",
    "   a. On the next screen, after a few moments, you will see a message in the middle of your screen that says **This branch has no conflicts with the base branch** with a green check mark.\n",
    "\n",
    "   b. You can choose to add a comment to the pull request.\n",
    "\n",
    "   c. Merge the **dev** branch into **main** by selecting **Merge pull request**. Then, select **Confirm merge**. A note saying **Pull request successfully merged and closed** should appear. You can delete the **dev** branch if you choose to, but we will leave it.\n",
    "\n",
    "   d. In GitHub, navigate to **Code** in the top navigation bar and make sure you are in the **main** branch. Confirm that the **new_feature.ipynb** file is now in the **main** branch, and that the two branches are in sync."
   ]
  },
  {
   "cell_type": "markdown",
   "metadata": {
    "application/vnd.databricks.v1+cell": {
     "cellMetadata": {},
     "inputWidgets": {},
     "nuid": "4b8c309a-7b38-430b-83d2-445e5accab89",
     "showTitle": false,
     "tableResultSettingsMap": {},
     "title": ""
    }
   },
   "source": [
    "## F. Pull within Databricks\n",
    "As one final step, let's pull the GitHub changes to our local Workspace.\n",
    "\n",
    "1. Go to **Workspace** and navigate to the location of your Git folder.\n",
    "\n",
    "2. Select the **main** branch in your Git folder to open the Git folder popup.\n",
    "\n",
    "3. Click **Pull** at the top-right of the popup to pull the most recent changes into your Workspace.\n",
    "\n",
    "4. Close the Git folder popup and notice that the new file is now in the **main** branch of your Workspace."
   ]
  },
  {
   "cell_type": "markdown",
   "metadata": {
    "application/vnd.databricks.v1+cell": {
     "cellMetadata": {},
     "inputWidgets": {},
     "nuid": "25afaae7-9c5e-4653-b5c4-739f4f03b536",
     "showTitle": false,
     "tableResultSettingsMap": {},
     "title": ""
    }
   },
   "source": [
    "## G. Delete your PAT\n",
    "At the end of this lab you should delete your PAT token you created in this lab from your GitHub account. \n",
    "\n",
    "However, when this lab ends this Vocareum lab account will cleared."
   ]
  },
  {
   "cell_type": "markdown",
   "metadata": {
    "application/vnd.databricks.v1+cell": {
     "cellMetadata": {},
     "inputWidgets": {},
     "nuid": "a3488cc8-7446-408d-918a-aa69b7ade219",
     "showTitle": false,
     "tableResultSettingsMap": {},
     "title": ""
    }
   },
   "source": [
    "# Next Steps (Advanced Deployment)\n",
    "\n",
    "The next step in your DevOps journey is to implement [GitHub Actions with DABs](https://docs.databricks.com/en/dev-tools/bundles/ci-cd-bundles.html). GitHub Actions can be used for continuous integration and delivery and are now in Public Preview. For a list of Databricks-specific GitHub actions like databricks/run-notebook, you can read the documentation [here](https://docs.databricks.com/en/dev-tools/ci-cd/ci-cd-github.html). The goal of GitHub Actions in general is to automate CI/CD workflows by automatically triggering pre-configured actions as a response to something happening in or to your GitHub repo - called an **Event**. For a full list of GitHub event types, see [this](https://docs.github.com/en/rest/using-the-rest-api/github-event-types?apiVersion=2022-11-28) documentation. \n"
   ]
  },
  {
   "cell_type": "markdown",
   "metadata": {
    "application/vnd.databricks.v1+cell": {
     "cellMetadata": {},
     "inputWidgets": {},
     "nuid": "739ded6a-c761-4ddf-9381-08a74f37b368",
     "showTitle": false,
     "tableResultSettingsMap": {},
     "title": ""
    }
   },
   "source": [
    "\n",
    "&copy; 2025 Databricks, Inc. All rights reserved.<br/>\n",
    "Apache, Apache Spark, Spark and the Spark logo are trademarks of the \n",
    "<a href=\"https://www.apache.org/\">Apache Software Foundation</a>.<br/>\n",
    "<br/><a href=\"https://databricks.com/privacy-policy\">Privacy Policy</a> | \n",
    "<a href=\"https://databricks.com/terms-of-use\">Terms of Use</a> | \n",
    "<a href=\"https://help.databricks.com/\">Support</a>"
   ]
  }
 ],
 "metadata": {
  "application/vnd.databricks.v1+notebook": {
   "computePreferences": null,
   "dashboards": [],
   "environmentMetadata": null,
   "inputWidgetPreferences": null,
   "language": "python",
   "notebookMetadata": {},
   "notebookName": "2.7L - Version Control with Databricks Git Folders and GitHub",
   "widgets": {}
  },
  "language_info": {
   "name": "python"
  }
 },
 "nbformat": 4,
 "nbformat_minor": 0
}