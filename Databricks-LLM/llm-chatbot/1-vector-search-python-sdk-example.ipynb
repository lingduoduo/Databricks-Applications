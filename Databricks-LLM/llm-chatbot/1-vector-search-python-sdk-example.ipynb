{
 "cells": [
  {
   "cell_type": "markdown",
   "metadata": {
    "application/vnd.databricks.v1+cell": {
     "cellMetadata": {},
     "inputWidgets": {},
     "nuid": "e75e57ba-b180-4799-a4f9-8e6796f0abe3",
     "showTitle": false,
     "title": ""
    }
   },
   "source": [
    "# Vector Search Python SDK example usage\n",
    "\n",
    "This notebook demonstrates usage of the Vector Search Python SDK, which provides a `VectorSearchClient` as a primary API for working with Vector Search.\n",
    "\n",
    "Alternatively, you may call the REST API directly.\n",
    "\n",
    "**Pre-req**: This notebook assumes you have already created a Model Serving endpoint for the embedding model.  See `embedding_model_endpoint` below, and the companion notebook for creating endpoints."
   ]
  },
  {
   "cell_type": "code",
   "execution_count": 0,
   "metadata": {
    "application/vnd.databricks.v1+cell": {
     "cellMetadata": {
      "byteLimit": 2048000,
      "rowLimit": 10000
     },
     "inputWidgets": {},
     "nuid": "90053e2a-7aee-4049-90f2-0d4a97b9c68a",
     "showTitle": false,
     "title": ""
    }
   },
   "outputs": [],
   "source": [
    "%pip install --upgrade --force-reinstall databricks-vectorsearch\n",
    "dbutils.library.restartPython()"
   ]
  },
  {
   "cell_type": "code",
   "execution_count": 0,
   "metadata": {
    "application/vnd.databricks.v1+cell": {
     "cellMetadata": {
      "byteLimit": 2048000,
      "rowLimit": 10000
     },
     "inputWidgets": {},
     "nuid": "e715c3ea-055a-45fa-b403-cfa7f52ccfc6",
     "showTitle": false,
     "title": ""
    }
   },
   "outputs": [],
   "source": [
    "from databricks.vector_search.client import VectorSearchClient\n",
    "\n",
    "vsc = VectorSearchClient()"
   ]
  },
  {
   "cell_type": "code",
   "execution_count": 0,
   "metadata": {
    "application/vnd.databricks.v1+cell": {
     "cellMetadata": {
      "byteLimit": 2048000,
      "rowLimit": 10000
     },
     "inputWidgets": {},
     "nuid": "1e6abf8c-238c-4b01-af11-6637a7369865",
     "showTitle": false,
     "title": ""
    }
   },
   "outputs": [],
   "source": [
    "help(VectorSearchClient)"
   ]
  },
  {
   "cell_type": "markdown",
   "metadata": {
    "application/vnd.databricks.v1+cell": {
     "cellMetadata": {},
     "inputWidgets": {},
     "nuid": "c9705552-3e5d-4494-9290-a4055a21180f",
     "showTitle": false,
     "title": ""
    }
   },
   "source": [
    "## Load toy dataset into source Delta table"
   ]
  },
  {
   "cell_type": "code",
   "execution_count": 0,
   "metadata": {
    "application/vnd.databricks.v1+cell": {
     "cellMetadata": {
      "byteLimit": 2048000,
      "rowLimit": 10000
     },
     "inputWidgets": {},
     "nuid": "a8d7847b-c5d9-42aa-993d-9edd093a89c8",
     "showTitle": false,
     "title": ""
    }
   },
   "outputs": [],
   "source": [
    "# We will create the following source Delta table.\n",
    "source_catalog = \"ling_test_demo\"\n",
    "source_schema = \"default\"\n",
    "source_table = \"en_wiki\"\n",
    "source_table_fullname = f\"ling_test_demo.default.en_wiki\""
   ]
  },
  {
   "cell_type": "code",
   "execution_count": 0,
   "metadata": {
    "application/vnd.databricks.v1+cell": {
     "cellMetadata": {
      "byteLimit": 2048000,
      "rowLimit": 10000
     },
     "inputWidgets": {},
     "nuid": "e6e76a47-6801-4827-be6e-9a4e76fea40b",
     "showTitle": false,
     "title": ""
    }
   },
   "outputs": [],
   "source": [
    "# Uncomment the below, if you need to create a catalog for the source data.\n",
    "\n",
    "spark.sql(f\"CREATE CATALOG IF NOT EXISTS {source_catalog}\")"
   ]
  },
  {
   "cell_type": "code",
   "execution_count": 0,
   "metadata": {
    "application/vnd.databricks.v1+cell": {
     "cellMetadata": {
      "byteLimit": 2048000,
      "rowLimit": 10000
     },
     "inputWidgets": {},
     "nuid": "81d62039-436e-4ba3-bdf0-6b74e6a4f572",
     "showTitle": false,
     "title": ""
    }
   },
   "outputs": [],
   "source": [
    "# Uncomment to create the source schema, if needed.\n",
    "\n",
    "spark.sql(f\"CREATE SCHEMA IF NOT EXISTS {source_catalog}.{source_schema} COMMENT 'This is a schema for source data for Vector Search indexes.'\")"
   ]
  },
  {
   "cell_type": "code",
   "execution_count": 0,
   "metadata": {
    "application/vnd.databricks.v1+cell": {
     "cellMetadata": {
      "byteLimit": 2048000,
      "rowLimit": 10000
     },
     "inputWidgets": {},
     "nuid": "7034ecdf-7513-41ea-af56-1809a9517012",
     "showTitle": false,
     "title": ""
    }
   },
   "outputs": [],
   "source": [
    "# Uncomment if you want to start from scratch.\n",
    "\n",
    "spark.sql(f\"DROP TABLE {source_table_fullname}\")"
   ]
  },
  {
   "cell_type": "code",
   "execution_count": 0,
   "metadata": {
    "application/vnd.databricks.v1+cell": {
     "cellMetadata": {
      "byteLimit": 2048000,
      "rowLimit": 10000
     },
     "inputWidgets": {},
     "nuid": "22ce4d43-3f21-4bb8-868a-cfad3c35ee71",
     "showTitle": false,
     "title": ""
    }
   },
   "outputs": [],
   "source": [
    "source_df = spark.read.parquet(\"dbfs:/databricks-datasets/wikipedia-datasets/data-001/en_wikipedia/articles-only-parquet\").limit(10)\n",
    "display(source_df)"
   ]
  },
  {
   "cell_type": "code",
   "execution_count": 0,
   "metadata": {
    "application/vnd.databricks.v1+cell": {
     "cellMetadata": {
      "byteLimit": 2048000,
      "rowLimit": 10000
     },
     "inputWidgets": {},
     "nuid": "11e65d0b-c286-4380-ba60-f28e8363c5b3",
     "showTitle": false,
     "title": ""
    }
   },
   "outputs": [],
   "source": [
    "source_table_fullname"
   ]
  },
  {
   "cell_type": "code",
   "execution_count": 0,
   "metadata": {
    "application/vnd.databricks.v1+cell": {
     "cellMetadata": {
      "byteLimit": 2048000,
      "rowLimit": 10000
     },
     "inputWidgets": {},
     "nuid": "789d6a57-fb48-4684-9d94-0fcd98ebd00a",
     "showTitle": false,
     "title": ""
    }
   },
   "outputs": [],
   "source": [
    "source_df.write.format(\"delta\").option(\"delta.enableChangeDataFeed\", \"true\").saveAsTable(source_table_fullname)"
   ]
  },
  {
   "cell_type": "code",
   "execution_count": 0,
   "metadata": {
    "application/vnd.databricks.v1+cell": {
     "cellMetadata": {
      "byteLimit": 2048000,
      "rowLimit": 10000
     },
     "inputWidgets": {},
     "nuid": "292aa65f-04ce-4534-8d7a-8e19311fdc9d",
     "showTitle": false,
     "title": ""
    }
   },
   "outputs": [],
   "source": [
    "display(spark.sql(f\"SELECT * FROM {source_table_fullname}\"))"
   ]
  },
  {
   "cell_type": "markdown",
   "metadata": {
    "application/vnd.databricks.v1+cell": {
     "cellMetadata": {},
     "inputWidgets": {},
     "nuid": "f8e08649-3607-40b9-9ad1-2479f69aba89",
     "showTitle": false,
     "title": ""
    }
   },
   "source": [
    "\n",
    "## Create Vector Search Endpoint"
   ]
  },
  {
   "cell_type": "code",
   "execution_count": 0,
   "metadata": {
    "application/vnd.databricks.v1+cell": {
     "cellMetadata": {
      "byteLimit": 2048000,
      "rowLimit": 10000
     },
     "inputWidgets": {},
     "nuid": "1e61d496-be0c-40da-995e-4035915bb39d",
     "showTitle": false,
     "title": ""
    }
   },
   "outputs": [],
   "source": [
    "vector_search_endpoint_name = \"vector-search-endpoint\""
   ]
  },
  {
   "cell_type": "code",
   "execution_count": 0,
   "metadata": {
    "application/vnd.databricks.v1+cell": {
     "cellMetadata": {
      "byteLimit": 2048000,
      "rowLimit": 10000
     },
     "inputWidgets": {},
     "nuid": "7076ff10-0dd0-47e2-b2cd-54c2aa6f3b4b",
     "showTitle": false,
     "title": ""
    }
   },
   "outputs": [],
   "source": [
    "vsc.create_endpoint(\n",
    "    name=vector_search_endpoint_name,\n",
    "    endpoint_type=\"STANDARD\"\n",
    ")"
   ]
  },
  {
   "cell_type": "code",
   "execution_count": 0,
   "metadata": {
    "application/vnd.databricks.v1+cell": {
     "cellMetadata": {
      "byteLimit": 2048000,
      "rowLimit": 10000
     },
     "inputWidgets": {},
     "nuid": "fdb63938-ac7f-42f0-87c9-e4572b9a6b4a",
     "showTitle": false,
     "title": ""
    }
   },
   "outputs": [],
   "source": [
    "endpoint = vsc.get_endpoint(\n",
    "  name=vector_search_endpoint_name)\n",
    "endpoint"
   ]
  },
  {
   "cell_type": "markdown",
   "metadata": {
    "application/vnd.databricks.v1+cell": {
     "cellMetadata": {},
     "inputWidgets": {},
     "nuid": "6b9ab5b0-5f3a-48b4-8168-2479c1783cc3",
     "showTitle": false,
     "title": ""
    }
   },
   "source": [
    "## Create vector index"
   ]
  },
  {
   "cell_type": "code",
   "execution_count": 0,
   "metadata": {
    "application/vnd.databricks.v1+cell": {
     "cellMetadata": {
      "byteLimit": 2048000,
      "rowLimit": 10000
     },
     "inputWidgets": {},
     "nuid": "c94131fd-93ee-45fa-8741-f3dbfbbed5d3",
     "showTitle": false,
     "title": ""
    }
   },
   "outputs": [],
   "source": [
    "# Vector index\n",
    "vs_index = \"wiki_index\"\n",
    "vs_index_fullname = f\"ling_test_demo.default.en_wiki\"\n",
    "\n",
    "embedding_model_endpoint = \"vector_search_demo-e5-small-v2\""
   ]
  },
  {
   "cell_type": "code",
   "execution_count": 0,
   "metadata": {
    "application/vnd.databricks.v1+cell": {
     "cellMetadata": {
      "byteLimit": 2048000,
      "rowLimit": 10000
     },
     "inputWidgets": {},
     "nuid": "be84e157-fd2d-447b-bf09-3e45602d5d3a",
     "showTitle": false,
     "title": ""
    }
   },
   "outputs": [],
   "source": [
    "vector_search_endpoint_name"
   ]
  },
  {
   "cell_type": "code",
   "execution_count": 0,
   "metadata": {
    "application/vnd.databricks.v1+cell": {
     "cellMetadata": {
      "byteLimit": 2048000,
      "rowLimit": 10000
     },
     "inputWidgets": {},
     "nuid": "2bdc72b7-e726-4ffb-ab48-fbebf4a51d29",
     "showTitle": false,
     "title": ""
    }
   },
   "outputs": [],
   "source": [
    "index = vsc.create_delta_sync_index(\n",
    "  endpoint_name=\"vector-search-endpoint\",\n",
    "  source_table_name=\"ling_test_demo.default.en_wiki\",\n",
    "  index_name=\"ling_test_demo.default.en_wiki_index\",\n",
    "  pipeline_type='TRIGGERED',\n",
    "  primary_key=\"id\",\n",
    "  embedding_source_column=\"text\",\n",
    "  embedding_model_endpoint_name=\"databricks-bge-large-en\"\n",
    ")\n",
    "index.describe()"
   ]
  },
  {
   "cell_type": "markdown",
   "metadata": {
    "application/vnd.databricks.v1+cell": {
     "cellMetadata": {},
     "inputWidgets": {},
     "nuid": "ba807119-337a-4bb4-a803-664947f76cdd",
     "showTitle": false,
     "title": ""
    }
   },
   "source": [
    "## Get a vector index  "
   ]
  },
  {
   "cell_type": "code",
   "execution_count": 0,
   "metadata": {
    "application/vnd.databricks.v1+cell": {
     "cellMetadata": {
      "byteLimit": 2048000,
      "rowLimit": 10000
     },
     "inputWidgets": {},
     "nuid": "d83e9874-5c31-4e7a-9599-97a67ce1a7c2",
     "showTitle": false,
     "title": ""
    }
   },
   "outputs": [],
   "source": [
    "# Get a vector index\n",
    "## Use the get_index() method to retrieve the vector index object using the vector index name\n",
    "index = vsc.get_index(endpoint_name=vector_search_endpoint_name, index_name=vs_index_fullname)\n",
    "## Use the describe() method on the index object to see a summary of the index's configuration information\n",
    "index.describe()"
   ]
  },
  {
   "cell_type": "code",
   "execution_count": 0,
   "metadata": {
    "application/vnd.databricks.v1+cell": {
     "cellMetadata": {
      "byteLimit": 2048000,
      "rowLimit": 10000
     },
     "inputWidgets": {},
     "nuid": "d0c9eed8-0e76-418b-a17b-b62dc121d5c9",
     "showTitle": false,
     "title": ""
    }
   },
   "outputs": [],
   "source": [
    "# Wait for index to become online. Expect this command to take several minutes.\n",
    "import time\n",
    "while not index.describe().get('status').get('status').startswith('ONLINE'):\n",
    "  print(\"Waiting for index to be ONLINE...\")\n",
    "  time.sleep(5)\n",
    "print(\"Index is ONLINE\")\n",
    "index.describe()"
   ]
  },
  {
   "cell_type": "markdown",
   "metadata": {
    "application/vnd.databricks.v1+cell": {
     "cellMetadata": {},
     "inputWidgets": {},
     "nuid": "50aac5d2-f11f-4194-95e4-0cc8406f4445",
     "showTitle": false,
     "title": ""
    }
   },
   "source": [
    "## Similarity search\n",
    "\n",
    "Query the Vector Index to find similar documents!"
   ]
  },
  {
   "cell_type": "code",
   "execution_count": 0,
   "metadata": {
    "application/vnd.databricks.v1+cell": {
     "cellMetadata": {
      "byteLimit": 2048000,
      "rowLimit": 10000
     },
     "inputWidgets": {},
     "nuid": "6fd29068-307c-444c-8e50-d812f492cf1f",
     "showTitle": false,
     "title": ""
    }
   },
   "outputs": [],
   "source": [
    "# returns [col1, col2, ...]\n",
    "# this can be set to any subset of the columns\n",
    "all_columns = spark.table(source_table_fullname).columns\n",
    "\n",
    "results = index.similarity_search(\n",
    "  query_text=\"Greek myths\",\n",
    "  columns=all_columns,\n",
    "  num_results=2)\n",
    "\n",
    "results"
   ]
  },
  {
   "cell_type": "code",
   "execution_count": 0,
   "metadata": {
    "application/vnd.databricks.v1+cell": {
     "cellMetadata": {
      "byteLimit": 2048000,
      "rowLimit": 10000
     },
     "inputWidgets": {},
     "nuid": "0244dd94-ed52-4be4-a819-5a5e96a0b80e",
     "showTitle": false,
     "title": ""
    }
   },
   "outputs": [],
   "source": [
    "# Search with a filter.\n",
    "results = index.similarity_search(\n",
    "  query_text=\"Greek myths\",\n",
    "  columns=all_columns,\n",
    "  filters={\"id NOT\": (\"13770\", \"88231\")},\n",
    "  num_results=2)\n",
    "\n",
    "results\n"
   ]
  },
  {
   "cell_type": "markdown",
   "metadata": {
    "application/vnd.databricks.v1+cell": {
     "cellMetadata": {},
     "inputWidgets": {},
     "nuid": "e43fd531-2edf-4934-a092-1d7f8fe76dac",
     "showTitle": false,
     "title": ""
    }
   },
   "source": [
    "## Convert results to LangChain documents\n",
    "\n",
    "The first column retrieved is loaded into page_content and the rest into metadata."
   ]
  },
  {
   "cell_type": "code",
   "execution_count": 0,
   "metadata": {
    "application/vnd.databricks.v1+cell": {
     "cellMetadata": {
      "byteLimit": 2048000,
      "rowLimit": 10000
     },
     "inputWidgets": {},
     "nuid": "e5b9a331-700c-4de9-92e8-06db294d4149",
     "showTitle": false,
     "title": ""
    }
   },
   "outputs": [],
   "source": [
    "from langchain.schema import Document\n",
    "\n",
    "def convert_vector_search_to_documents(results) -> List[Document]\n",
    "  column_names = []\n",
    "  for column in results[\"manifest\"][\"columns\"]:\n",
    "      column_names.append(column)\n",
    "\n",
    "  langchain_docs = []\n",
    "  for item in results[\"result\"][\"data_array\"]:\n",
    "      metadata = {}\n",
    "      score = item[-1]\n",
    "      # print(score)\n",
    "      i = 1\n",
    "      for field in item[1:-1]:\n",
    "          # print(field + \"--\")\n",
    "          metadata[column_names[i][\"name\"]] = field\n",
    "          i = i + 1\n",
    "      doc = Document(page_content=item[0], metadata=metadata)  # , 9)\n",
    "      langchain_docs.append(doc)\n",
    "  return langchain_docs\n",
    "\n",
    "langchain_docs = convert_vector_search_to_documents(results)\n",
    "\n",
    "langchain_docs"
   ]
  },
  {
   "cell_type": "markdown",
   "metadata": {
    "application/vnd.databricks.v1+cell": {
     "cellMetadata": {},
     "inputWidgets": {},
     "nuid": "c998374f-5852-406f-8912-4135f2d0e2ef",
     "showTitle": false,
     "title": ""
    }
   },
   "source": [
    "## Delete vector index"
   ]
  },
  {
   "cell_type": "code",
   "execution_count": 0,
   "metadata": {
    "application/vnd.databricks.v1+cell": {
     "cellMetadata": {},
     "inputWidgets": {},
     "nuid": "5b916545-f111-4ffa-84b2-1c1c0fcf1dd7",
     "showTitle": false,
     "title": ""
    }
   },
   "outputs": [],
   "source": [
    "vsc.delete_index(index_name=vs_index_fullname)"
   ]
  }
 ],
 "metadata": {
  "application/vnd.databricks.v1+notebook": {
   "dashboards": [],
   "language": "python",
   "notebookMetadata": {
    "pythonIndentUnit": 2
   },
   "notebookName": "1-vector-search-python-sdk-example",
   "widgets": {}
  }
 },
 "nbformat": 4,
 "nbformat_minor": 0
}
