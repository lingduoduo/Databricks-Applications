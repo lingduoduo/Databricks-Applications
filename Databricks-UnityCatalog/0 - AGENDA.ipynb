{
 "cells": [
  {
   "cell_type": "markdown",
   "metadata": {
    "application/vnd.databricks.v1+cell": {
     "cellMetadata": {},
     "inputWidgets": {},
     "nuid": "7b7d134b-ef3b-4faf-b2ec-6785e3c03744",
     "showTitle": false,
     "tableResultSettingsMap": {},
     "title": ""
    }
   },
   "source": [
    "\n",
    "<div style=\"text-align: center; line-height: 0; padding-top: 9px;\">\n",
    "  <img src=\"https://databricks.com/wp-content/uploads/2018/03/db-academy-rgb-1200px.png\" alt=\"Databricks Learning\">\n",
    "</div>\n"
   ]
  },
  {
   "cell_type": "markdown",
   "metadata": {
    "application/vnd.databricks.v1+cell": {
     "cellMetadata": {},
     "inputWidgets": {},
     "nuid": "1d9adcf0-054a-43df-b5fc-a3f1eb9c66d3",
     "showTitle": false,
     "tableResultSettingsMap": {},
     "title": ""
    }
   },
   "source": [
    "## Data Management and Governance with Unity Catalog\n",
    "\n",
    "\n",
    "### Course Agenda\n",
    "The following modules are part of the Data Engineer Learning Path by Databricks Academy.\n",
    "| # | Module Name |\n",
    "| --- | --- |\n",
    "| 1 | [Populating the Metastore]($./1 - Populating the Metastore) |\n",
    "| 2 | [Navigating the Metastore]($./2L - Navigating the Metastore) |\n",
    "| 3 | [Upgrading Tables to Unity Catalog]($./3 - Upgrading Tables to Unity Catalog) |\n",
    "| 4 | [Controlling Access to Data]($./4 - Controlling Access to Data) |\n",
    "| 5 | [Securing Data in Unity Catalog]($./5L - Securing Data in Unity Catalog) |\n",
    "| 6 | [6 BONUS - Lakehouse Monitoring]($./6 BONUS - Lakehouse Monitoring) |\n",
    "\n",
    "### Requirements\n",
    "\n",
    "Please review the following requirements before starting the lesson:\n",
    "\n",
    "* To run demo and lab notebooks, you need to use the following Databricks runtime: **15.4.x-scala2.12**\n",
    "\n"
   ]
  },
  {
   "cell_type": "markdown",
   "metadata": {
    "application/vnd.databricks.v1+cell": {
     "cellMetadata": {},
     "inputWidgets": {},
     "nuid": "bad6970d-49a8-4589-9fac-ae60609763e1",
     "showTitle": false,
     "tableResultSettingsMap": {},
     "title": ""
    }
   },
   "source": [
    "\n",
    "&copy; 2025 Databricks, Inc. All rights reserved.<br/>\n",
    "Apache, Apache Spark, Spark and the Spark logo are trademarks of the \n",
    "<a href=\"https://www.apache.org/\">Apache Software Foundation</a>.<br/>\n",
    "<br/><a href=\"https://databricks.com/privacy-policy\">Privacy Policy</a> | \n",
    "<a href=\"https://databricks.com/terms-of-use\">Terms of Use</a> | \n",
    "<a href=\"https://help.databricks.com/\">Support</a>"
   ]
  }
 ],
 "metadata": {
  "application/vnd.databricks.v1+notebook": {
   "computePreferences": null,
   "dashboards": [],
   "environmentMetadata": null,
   "language": "python",
   "notebookMetadata": {},
   "notebookName": "0 - AGENDA",
   "widgets": {}
  },
  "language_info": {
   "name": "python"
  }
 },
 "nbformat": 4,
 "nbformat_minor": 0
}