{
 "cells": [
  {
   "cell_type": "markdown",
   "metadata": {
    "application/vnd.databricks.v1+cell": {
     "cellMetadata": {},
     "inputWidgets": {},
     "nuid": "fffa3175-1ad7-4ecd-8612-f7be321ff6a5",
     "showTitle": false,
     "tableResultSettingsMap": {},
     "title": ""
    }
   },
   "source": [
    "\n",
    "<div style=\"text-align: center; line-height: 0; padding-top: 9px;\">\n",
    "  <img src=\"https://databricks.com/wp-content/uploads/2018/03/db-academy-rgb-1200px.png\" alt=\"Databricks Learning\">\n",
    "</div>\n"
   ]
  },
  {
   "cell_type": "markdown",
   "metadata": {
    "application/vnd.databricks.v1+cell": {
     "cellMetadata": {},
     "inputWidgets": {},
     "nuid": "0cc8c080-a668-45cf-8032-42c9355df1fe",
     "showTitle": false,
     "tableResultSettingsMap": {},
     "title": ""
    }
   },
   "source": [
    "# Securing Data in Unity Catalog\n",
    "\n",
    "In this lab, you will create two objects secure tables:\n",
    "\n",
    "1. Row Filtering and Column Masking Tables\n",
    "\n",
    "2. Dynamic Views\n",
    "\n",
    "\n",
    "### Learning Objectives\n",
    "By the end of this demo, you will be able to:\n",
    "1. Assign access permissions to the newly created view for account users and execute queries to validate the view's functionality and data integrity.\n",
    "1. Develop a dynamic view of the cloned table, applying data redaction and access restrictions to enhance data security."
   ]
  },
  {
   "cell_type": "markdown",
   "metadata": {
    "application/vnd.databricks.v1+cell": {
     "cellMetadata": {},
     "inputWidgets": {},
     "nuid": "76874403-e806-4c9f-98c1-b8b02f31d38c",
     "showTitle": false,
     "tableResultSettingsMap": {},
     "title": ""
    }
   },
   "source": [
    "## REQUIRED - SELECT CLASSIC COMPUTE\n",
    "\n",
    "Before executing cells in this notebook, please select your classic compute cluster in the lab. Be aware that **Serverless** is enabled by default.\n",
    "\n",
    "Follow these steps to select the classic compute cluster:\n",
    "\n",
    "1. Navigate to the top-right of this notebook and click the drop-down menu to select your cluster. By default, the notebook will use **Serverless**.\n",
    "\n",
    "1. If your cluster is available, select it and continue to the next cell. If the cluster is not shown:\n",
    "\n",
    "  - In the drop-down, select **More**.\n",
    "\n",
    "  - In the **Attach to an existing compute resource** pop-up, select the first drop-down. You will see a unique cluster name in that drop-down. Please select that cluster.\n",
    "\n",
    "**NOTE:** If your cluster has terminated, you might need to restart it in order to select it. To do this:\n",
    "\n",
    "1. Right-click on **Compute** in the left navigation pane and select *Open in new tab*.\n",
    "\n",
    "1. Find the triangle icon to the right of your compute cluster name and click it.\n",
    "\n",
    "1. Wait a few minutes for the cluster to start.\n",
    "\n",
    "1. Once the cluster is running, complete the steps above to select your cluster."
   ]
  },
  {
   "cell_type": "markdown",
   "metadata": {
    "application/vnd.databricks.v1+cell": {
     "cellMetadata": {},
     "inputWidgets": {},
     "nuid": "e58c65a2-62f1-406c-b24e-c0d0990b0b38",
     "showTitle": false,
     "tableResultSettingsMap": {},
     "title": ""
    }
   },
   "source": [
    "## A. Classroom Setup\n",
    "\n",
    "Run the following cell to configure your working environment for this course. It will also set your default catalog to your specific catalog and the schema to the schema name shown below using the `USE` statements.\n",
    "<br></br>\n",
    "\n",
    "\n",
    "```\n",
    "USE CATALOG <your catalog>;\n",
    "USE SCHEMA <your catalog>.<schema>;\n",
    "```\n",
    "\n",
    "**NOTE:** The `DA` object is only used in Databricks Academy courses and is not available outside of these courses. It will dynamically reference the information needed to run the course."
   ]
  },
  {
   "cell_type": "code",
   "execution_count": 0,
   "metadata": {
    "application/vnd.databricks.v1+cell": {
     "cellMetadata": {},
     "inputWidgets": {},
     "nuid": "63ddf4cc-4bac-488a-8bd4-7c3d03b5b32f",
     "showTitle": false,
     "tableResultSettingsMap": {},
     "title": ""
    }
   },
   "outputs": [],
   "source": [
    "%run ./Includes/Classroom-Setup-5"
   ]
  },
  {
   "cell_type": "markdown",
   "metadata": {
    "application/vnd.databricks.v1+cell": {
     "cellMetadata": {},
     "inputWidgets": {},
     "nuid": "0566e20e-46d8-4250-bab2-e57a7bdc418c",
     "showTitle": false,
     "tableResultSettingsMap": {},
     "title": ""
    }
   },
   "source": [
    "Run the code below and confirm that your current catalog is set to your unique catalog name and that the current schema is **default**.\n"
   ]
  },
  {
   "cell_type": "code",
   "execution_count": 0,
   "metadata": {
    "application/vnd.databricks.v1+cell": {
     "cellMetadata": {},
     "inputWidgets": {},
     "nuid": "ee355cf0-6e5a-459f-ba74-62379d597cbd",
     "showTitle": false,
     "tableResultSettingsMap": {},
     "title": ""
    }
   },
   "outputs": [],
   "source": [
    "SELECT current_catalog(), current_schema()"
   ]
  },
  {
   "cell_type": "markdown",
   "metadata": {
    "application/vnd.databricks.v1+cell": {
     "cellMetadata": {},
     "inputWidgets": {},
     "nuid": "2bb2d151-dbe3-4a30-bdda-c9a80992eea9",
     "showTitle": false,
     "tableResultSettingsMap": {},
     "title": ""
    }
   },
   "source": [
    "## B. Protect Columns and Rows with Column Masking and Row Filtering"
   ]
  },
  {
   "cell_type": "markdown",
   "metadata": {
    "application/vnd.databricks.v1+cell": {
     "cellMetadata": {},
     "inputWidgets": {},
     "nuid": "1b371cd1-ea8a-4ecd-b6a4-067ae37a30ee",
     "showTitle": false,
     "tableResultSettingsMap": {},
     "title": ""
    }
   },
   "source": [
    "### REQUIRED: Create the Table Customers\n",
    "1. Run the code below to create the **customers** table in your **default** schema."
   ]
  },
  {
   "cell_type": "code",
   "execution_count": 0,
   "metadata": {
    "application/vnd.databricks.v1+cell": {
     "cellMetadata": {},
     "inputWidgets": {},
     "nuid": "86fb2b3f-e25d-46e5-9ec4-e1556d23775a",
     "showTitle": false,
     "tableResultSettingsMap": {},
     "title": ""
    }
   },
   "outputs": [],
   "source": [
    "CREATE OR REPLACE TABLE customers AS\n",
    "SELECT *\n",
    "FROM samples.tpch.customer;"
   ]
  },
  {
   "cell_type": "markdown",
   "metadata": {
    "application/vnd.databricks.v1+cell": {
     "cellMetadata": {},
     "inputWidgets": {},
     "nuid": "b197ba7e-d650-43e4-8c79-f41817d91c80",
     "showTitle": false,
     "tableResultSettingsMap": {},
     "title": ""
    }
   },
   "source": [
    "2. Run a query to view *10* rows from the **customers** table in your **default** schema. Notice that the table contains information such as **c_name**, **c_phone**, and **c_mktsegment**."
   ]
  },
  {
   "cell_type": "code",
   "execution_count": 0,
   "metadata": {
    "application/vnd.databricks.v1+cell": {
     "cellMetadata": {},
     "inputWidgets": {},
     "nuid": "6f6f3150-c7bd-420e-8f75-69144f24c38f",
     "showTitle": false,
     "tableResultSettingsMap": {},
     "title": ""
    }
   },
   "outputs": [],
   "source": [
    "<FILL_IN>"
   ]
  },
  {
   "cell_type": "markdown",
   "metadata": {
    "application/vnd.databricks.v1+cell": {
     "cellMetadata": {},
     "inputWidgets": {},
     "nuid": "1e64aa7e-1fc3-4073-89d9-95065b1b7f0e",
     "showTitle": false,
     "tableResultSettingsMap": {},
     "title": ""
    }
   },
   "source": [
    "### B1. Create a Function to Perform Column Masking\n",
    "View the [Filter sensitive table data using row filters and column masks](https://docs.databricks.com/en/tables/row-and-column-filters.html) documentation for additional help.\n",
    "1. Create a function named **phone_mask** that redacts the **c_phone** column in the **customers** table if the user is not a member of the ('admin') group using the `is_account_group_member` function. The **phone_mask** function should return the string *REDACTED PHONE NUMBER* if the user is not a member."
   ]
  },
  {
   "cell_type": "code",
   "execution_count": 0,
   "metadata": {
    "application/vnd.databricks.v1+cell": {
     "cellMetadata": {},
     "inputWidgets": {},
     "nuid": "7d7bb514-7ba7-400a-b43b-14e5ffbb5628",
     "showTitle": false,
     "tableResultSettingsMap": {},
     "title": ""
    }
   },
   "outputs": [],
   "source": [
    "<FILL_IN>"
   ]
  },
  {
   "cell_type": "markdown",
   "metadata": {
    "application/vnd.databricks.v1+cell": {
     "cellMetadata": {},
     "inputWidgets": {},
     "nuid": "3efc28ae-1ecd-449e-904b-a08b2fe52c8a",
     "showTitle": false,
     "tableResultSettingsMap": {},
     "title": ""
    }
   },
   "source": [
    "2. Apply the column masking function **phone_mask** to the **customers** table using the `ALTER TABLE` statement."
   ]
  },
  {
   "cell_type": "code",
   "execution_count": 0,
   "metadata": {
    "application/vnd.databricks.v1+cell": {
     "cellMetadata": {},
     "inputWidgets": {},
     "nuid": "14154358-4292-4cae-b738-d7c98b3a51df",
     "showTitle": false,
     "tableResultSettingsMap": {},
     "title": ""
    }
   },
   "outputs": [],
   "source": [
    "<FILL_IN>"
   ]
  },
  {
   "cell_type": "markdown",
   "metadata": {
    "application/vnd.databricks.v1+cell": {
     "cellMetadata": {},
     "inputWidgets": {},
     "nuid": "d5bca04b-6d64-4a48-97c7-6b0c015f3548",
     "showTitle": false,
     "tableResultSettingsMap": {},
     "title": ""
    }
   },
   "source": [
    "3. Run the cell below to confirm that you have correctly masked the **c_phone** column in the **customers** table. If an error is returned make sure the function is created and applied correctly."
   ]
  },
  {
   "cell_type": "code",
   "execution_count": 0,
   "metadata": {
    "application/vnd.databricks.v1+cell": {
     "cellMetadata": {},
     "inputWidgets": {},
     "nuid": "f6916631-3bda-41e6-9e8b-570fc79b89e0",
     "showTitle": false,
     "tableResultSettingsMap": {},
     "title": ""
    }
   },
   "outputs": [],
   "source": [
    "%python\n",
    "sdf = spark.sql('SELECT c_phone FROM customers GROUP BY c_phone')\n",
    "value = sdf.collect()[0][0]\n",
    "\n",
    "assert value == 'REDACTED PHONE NUMBER', 'The c_phone column should only contain the value \"REDACTED PHONE NUMBER\". Please create the correct column mask function and apply it to the customers table.'\n",
    "print('You correctly applied the column mask to the customers table.')"
   ]
  },
  {
   "cell_type": "markdown",
   "metadata": {
    "application/vnd.databricks.v1+cell": {
     "cellMetadata": {},
     "inputWidgets": {},
     "nuid": "9aed306c-f12c-48f7-991c-8091dd428158",
     "showTitle": false,
     "tableResultSettingsMap": {},
     "title": ""
    }
   },
   "source": [
    "4. Run the query below to view the **customers** table with the column mask applied. Confirm that the **c_phone** column displays the value *REDACTED PHONE NUMBER*.\n",
    "\n"
   ]
  },
  {
   "cell_type": "code",
   "execution_count": 0,
   "metadata": {
    "application/vnd.databricks.v1+cell": {
     "cellMetadata": {},
     "inputWidgets": {},
     "nuid": "d7cf0972-fe55-4c3a-ae2e-4cf868ede7a2",
     "showTitle": false,
     "tableResultSettingsMap": {},
     "title": ""
    }
   },
   "outputs": [],
   "source": [
    "SELECT *\n",
    "FROM customers\n",
    "LIMIT 10;"
   ]
  },
  {
   "cell_type": "markdown",
   "metadata": {
    "application/vnd.databricks.v1+cell": {
     "cellMetadata": {},
     "inputWidgets": {},
     "nuid": "9d25b988-5682-4421-9fe9-8150b3703d3a",
     "showTitle": false,
     "tableResultSettingsMap": {},
     "title": ""
    }
   },
   "source": [
    "### B2. Create a Function to Perform Row Filtering\n",
    "View the [Filter sensitive table data using row filters and column masks](https://docs.databricks.com/en/tables/row-and-column-filters.html) documentation for additional help.\n",
    "\n",
    "1. Run the cell below to count the total number of rows in the **customers** table. Confirm that the table contains 750,000 rows of data.\n"
   ]
  },
  {
   "cell_type": "code",
   "execution_count": 0,
   "metadata": {
    "application/vnd.databricks.v1+cell": {
     "cellMetadata": {},
     "inputWidgets": {},
     "nuid": "a548cfa7-23fc-4a5b-9d15-853ed8f20419",
     "showTitle": false,
     "tableResultSettingsMap": {},
     "title": ""
    }
   },
   "outputs": [],
   "source": [
    "SELECT count(*) AS TotalRows\n",
    "FROM customers;"
   ]
  },
  {
   "cell_type": "markdown",
   "metadata": {
    "application/vnd.databricks.v1+cell": {
     "cellMetadata": {},
     "inputWidgets": {},
     "nuid": "0b8d3656-e3b1-4970-a81d-fd47e14b0679",
     "showTitle": false,
     "tableResultSettingsMap": {},
     "title": ""
    }
   },
   "source": [
    "2. Create a function named **nation_filter** that filters on **c_nationkey** in the **customers** table if the user is not a member of the ('admin') group using the `is_account_group_member` function. The function should only return rows where **c_nationkey** equals *21*.\n",
    "\n",
    "    View the [if function](https://docs.databricks.com/en/sql/language-manual/functions/if.html) documentation for additional help."
   ]
  },
  {
   "cell_type": "code",
   "execution_count": 0,
   "metadata": {
    "application/vnd.databricks.v1+cell": {
     "cellMetadata": {},
     "inputWidgets": {},
     "nuid": "d28b17ff-bb1e-4e05-ab17-d8e9590cbf33",
     "showTitle": false,
     "tableResultSettingsMap": {},
     "title": ""
    }
   },
   "outputs": [],
   "source": [
    "<FILL_IN>"
   ]
  },
  {
   "cell_type": "markdown",
   "metadata": {
    "application/vnd.databricks.v1+cell": {
     "cellMetadata": {},
     "inputWidgets": {},
     "nuid": "9f87b687-0c5f-49e7-a159-30c82c9e3681",
     "showTitle": false,
     "tableResultSettingsMap": {},
     "title": ""
    }
   },
   "source": [
    "3. Apply the function row filtering function `nation_filter` to the **customers** table using the `ALTER TABLE` statement."
   ]
  },
  {
   "cell_type": "code",
   "execution_count": 0,
   "metadata": {
    "application/vnd.databricks.v1+cell": {
     "cellMetadata": {},
     "inputWidgets": {},
     "nuid": "89a66939-8ca1-4c37-9df1-9f8fd6cb9a14",
     "showTitle": false,
     "tableResultSettingsMap": {},
     "title": ""
    }
   },
   "outputs": [],
   "source": [
    "<FILL_IN>"
   ]
  },
  {
   "cell_type": "markdown",
   "metadata": {
    "application/vnd.databricks.v1+cell": {
     "cellMetadata": {},
     "inputWidgets": {},
     "nuid": "4ad22cee-6d57-45a9-9529-6cef3adf7bed",
     "showTitle": false,
     "tableResultSettingsMap": {},
     "title": ""
    }
   },
   "source": [
    "4. Run the cell below to confirm that you added row filtering to the **customers** table column **c_nationkey** correctly.\n"
   ]
  },
  {
   "cell_type": "code",
   "execution_count": 0,
   "metadata": {
    "application/vnd.databricks.v1+cell": {
     "cellMetadata": {},
     "inputWidgets": {},
     "nuid": "9609bdcb-39bb-4ae7-9350-158fe1c13ff5",
     "showTitle": false,
     "tableResultSettingsMap": {},
     "title": ""
    }
   },
   "outputs": [],
   "source": [
    "%python\n",
    "sdf = spark.sql('SELECT c_nationkey FROM customers GROUP BY c_nationkey')\n",
    "value = sdf.collect()[0][0]\n",
    "\n",
    "assert value == 21, 'The c_nationkey column should only contain the value 21. Please create the correct row filter function and apply it to the customers table.'\n",
    "print('You correctly applied the row filter.')"
   ]
  },
  {
   "cell_type": "markdown",
   "metadata": {
    "application/vnd.databricks.v1+cell": {
     "cellMetadata": {},
     "inputWidgets": {},
     "nuid": "ae2a9913-b825-4e23-9a40-d14c405a8522",
     "showTitle": false,
     "tableResultSettingsMap": {},
     "title": ""
    }
   },
   "source": [
    "5. Run the query below to count the number of rows in the **customers** table for you since you've filtered out rows for users not admins. Confirm you can only view *29,859* rows (*where c_nationkey = 21*)."
   ]
  },
  {
   "cell_type": "code",
   "execution_count": 0,
   "metadata": {
    "application/vnd.databricks.v1+cell": {
     "cellMetadata": {},
     "inputWidgets": {},
     "nuid": "2d6389bb-276b-4fda-9437-14202757e52c",
     "showTitle": false,
     "tableResultSettingsMap": {},
     "title": ""
    }
   },
   "outputs": [],
   "source": [
    "SELECT count(*) AS TotalRows\n",
    "FROM customers;"
   ]
  },
  {
   "cell_type": "markdown",
   "metadata": {
    "application/vnd.databricks.v1+cell": {
     "cellMetadata": {},
     "inputWidgets": {},
     "nuid": "7bbcfd0d-d021-40c2-9600-045562888cc9",
     "showTitle": false,
     "tableResultSettingsMap": {},
     "title": ""
    }
   },
   "source": [
    "5. Run the query below to view the **customers** table. \n",
    "\n",
    "Confirm the final table:\n",
    "- redactes the **c_phone** column and\n",
    "- filters rows based on the **c_nationkey** column for users who are not *admins*."
   ]
  },
  {
   "cell_type": "code",
   "execution_count": 0,
   "metadata": {
    "application/vnd.databricks.v1+cell": {
     "cellMetadata": {},
     "inputWidgets": {},
     "nuid": "82314520-3c64-4a80-bdbb-8c543235e76f",
     "showTitle": false,
     "tableResultSettingsMap": {},
     "title": ""
    }
   },
   "outputs": [],
   "source": [
    "SELECT *\n",
    "FROM customers;"
   ]
  },
  {
   "cell_type": "markdown",
   "metadata": {
    "application/vnd.databricks.v1+cell": {
     "cellMetadata": {},
     "inputWidgets": {},
     "nuid": "43e18d31-f78f-41d7-b230-13b3b148393a",
     "showTitle": false,
     "tableResultSettingsMap": {},
     "title": ""
    }
   },
   "source": [
    "## C. Protecting Columns and Rows with Dynamic Views\n"
   ]
  },
  {
   "cell_type": "markdown",
   "metadata": {
    "application/vnd.databricks.v1+cell": {
     "cellMetadata": {},
     "inputWidgets": {},
     "nuid": "bca40420-97cd-4467-a325-06671f2270e9",
     "showTitle": false,
     "tableResultSettingsMap": {},
     "title": ""
    }
   },
   "source": [
    "### REQUIRED: Create the Table Customers_new\n",
    "1. Run the code below to create the **customers_new** table in your **default** schema."
   ]
  },
  {
   "cell_type": "code",
   "execution_count": 0,
   "metadata": {
    "application/vnd.databricks.v1+cell": {
     "cellMetadata": {},
     "inputWidgets": {},
     "nuid": "83cb10c2-3e4f-477a-ac3c-ff86786821aa",
     "showTitle": false,
     "tableResultSettingsMap": {},
     "title": ""
    }
   },
   "outputs": [],
   "source": [
    "CREATE OR REPLACE TABLE customers_new AS\n",
    "SELECT *\n",
    "FROM samples.tpch.customer;"
   ]
  },
  {
   "cell_type": "markdown",
   "metadata": {
    "application/vnd.databricks.v1+cell": {
     "cellMetadata": {},
     "inputWidgets": {},
     "nuid": "90848b7d-6918-4f74-a7d7-b3a4e9238135",
     "showTitle": false,
     "tableResultSettingsMap": {},
     "title": ""
    }
   },
   "source": [
    "2. Run a query to view *10* rows from the **customers_new** table in your **default** schema. Notice that the table contains information such as **c_name**, **c_phone**, and **c_mktsegment**."
   ]
  },
  {
   "cell_type": "code",
   "execution_count": 0,
   "metadata": {
    "application/vnd.databricks.v1+cell": {
     "cellMetadata": {},
     "inputWidgets": {},
     "nuid": "914018ff-d356-4bed-a4d4-387a68a7c8c9",
     "showTitle": false,
     "tableResultSettingsMap": {},
     "title": ""
    }
   },
   "outputs": [],
   "source": [
    "SELECT *\n",
    "FROM customers_new\n",
    "LIMIT 10;"
   ]
  },
  {
   "cell_type": "markdown",
   "metadata": {
    "application/vnd.databricks.v1+cell": {
     "cellMetadata": {},
     "inputWidgets": {},
     "nuid": "bb70baf0-fa98-48e5-90e1-be82c2b3b900",
     "showTitle": false,
     "tableResultSettingsMap": {},
     "title": ""
    }
   },
   "source": [
    "### C1. Create the Dynamic View\n",
    "Let's create a view named **vw_customers** that presents a processed view of the **customers_new** table data with the following transformations:\n",
    "1. Selects all columns from the **customers_new** table.\n",
    "\n",
    "2. Redact all values in the **c_phone** column to *REDACTED PHONE NUMBER* unless you are in the `is_account_group_member('admins')`\n",
    "    - HINT: Use a `CASE WHEN` statement in the `SELECT` clause.\n",
    "\n",
    "3. Restrict the rows where **c_nationkey** is equal to *21* unless you are in the `is_account_group_member('admins')`.\n",
    "    - HINT: Use a `CASE WHEN` statement in the `WHERE` clause."
   ]
  },
  {
   "cell_type": "code",
   "execution_count": 0,
   "metadata": {
    "application/vnd.databricks.v1+cell": {
     "cellMetadata": {},
     "inputWidgets": {},
     "nuid": "4cf17d12-4fcc-4df2-9936-af68245b86ff",
     "showTitle": false,
     "tableResultSettingsMap": {},
     "title": ""
    }
   },
   "outputs": [],
   "source": [
    "<FILL_IN>"
   ]
  },
  {
   "cell_type": "markdown",
   "metadata": {
    "application/vnd.databricks.v1+cell": {
     "cellMetadata": {},
     "inputWidgets": {},
     "nuid": "0361aff1-9d30-4236-849b-2e4dfb9d8006",
     "showTitle": false,
     "tableResultSettingsMap": {},
     "title": ""
    }
   },
   "source": [
    "3. Run the cell below to confirm that you have correctly masked the **c_phone** column in the **vw_customers** view. If an error is returned make sure the function is created and applied correctly."
   ]
  },
  {
   "cell_type": "code",
   "execution_count": 0,
   "metadata": {
    "application/vnd.databricks.v1+cell": {
     "cellMetadata": {},
     "inputWidgets": {},
     "nuid": "4cfc63c8-e1b1-4b43-bf34-d4cfe0b1c43f",
     "showTitle": false,
     "tableResultSettingsMap": {},
     "title": ""
    }
   },
   "outputs": [],
   "source": [
    "%python\n",
    "sdf = spark.sql('SELECT c_phone FROM vw_customers GROUP BY c_phone')\n",
    "value = sdf.collect()[0][0]\n",
    "\n",
    "assert value == 'REDACTED PHONE NUMBER', 'The c_phone column should only contain the value \"REDACTED PHONE NUMBER\". Please use the following expression in the SELECT clause: CASE WHEN is_account_group_member(\"admins\") THEN c_phone ELSE \"REDACTED PHONE NUMBER\" END as c_phone.'\n",
    "print('You correctly applied the column mask to the vw_customers view.')"
   ]
  },
  {
   "cell_type": "markdown",
   "metadata": {
    "application/vnd.databricks.v1+cell": {
     "cellMetadata": {},
     "inputWidgets": {},
     "nuid": "0e8b636b-276d-4c36-a834-b668c6d7bc7e",
     "showTitle": false,
     "tableResultSettingsMap": {},
     "title": ""
    }
   },
   "source": [
    "4. Run the cell below to confirm that you added row filtering to the **customers** table column **c_nationkey** correctly."
   ]
  },
  {
   "cell_type": "code",
   "execution_count": 0,
   "metadata": {
    "application/vnd.databricks.v1+cell": {
     "cellMetadata": {},
     "inputWidgets": {},
     "nuid": "de01c15a-3c74-4e93-9b16-4104e67e8a55",
     "showTitle": false,
     "tableResultSettingsMap": {},
     "title": ""
    }
   },
   "outputs": [],
   "source": [
    "%python\n",
    "sdf = spark.sql('SELECT c_nationkey FROM vw_customers GROUP BY c_nationkey')\n",
    "value = sdf.collect()[0][0]\n",
    "\n",
    "assert value == 21, 'The c_nationkey column should only contain the value 21. Please create the correct row filter in the view using the following expression in the WHERE clause: CASE WHEN is_account_group_member(\"admins\") THEN TRUE ELSE c_nationkey = 21 END.'\n",
    "print('You correctly applied the row filter to the view.')"
   ]
  },
  {
   "cell_type": "markdown",
   "metadata": {
    "application/vnd.databricks.v1+cell": {
     "cellMetadata": {},
     "inputWidgets": {},
     "nuid": "e642677f-f8e3-4829-810e-0418e4c3ad8c",
     "showTitle": false,
     "tableResultSettingsMap": {},
     "title": ""
    }
   },
   "source": [
    "5. Display the data in the **vw_customers** view. Confirm the **c_phone** column is redacted."
   ]
  },
  {
   "cell_type": "code",
   "execution_count": 0,
   "metadata": {
    "application/vnd.databricks.v1+cell": {
     "cellMetadata": {},
     "inputWidgets": {},
     "nuid": "f4c89c13-5623-4a8f-b3ce-5178d23aadb5",
     "showTitle": false,
     "tableResultSettingsMap": {},
     "title": ""
    }
   },
   "outputs": [],
   "source": [
    "SELECT * \n",
    "FROM vw_customers;"
   ]
  },
  {
   "cell_type": "markdown",
   "metadata": {
    "application/vnd.databricks.v1+cell": {
     "cellMetadata": {},
     "inputWidgets": {},
     "nuid": "41c6b691-f472-4032-a8c8-44e48fe2d1cd",
     "showTitle": false,
     "tableResultSettingsMap": {},
     "title": ""
    }
   },
   "source": [
    "6. Count the number of rows in the **vw_customers** view. Confirm the view contains *29,859* rows."
   ]
  },
  {
   "cell_type": "code",
   "execution_count": 0,
   "metadata": {
    "application/vnd.databricks.v1+cell": {
     "cellMetadata": {},
     "inputWidgets": {},
     "nuid": "51f83a10-a933-4cd8-a9e6-18274b5df7f4",
     "showTitle": false,
     "tableResultSettingsMap": {},
     "title": ""
    }
   },
   "outputs": [],
   "source": [
    "SELECT count(*)\n",
    "FROM vw_customers;"
   ]
  },
  {
   "cell_type": "markdown",
   "metadata": {
    "application/vnd.databricks.v1+cell": {
     "cellMetadata": {},
     "inputWidgets": {},
     "nuid": "16e56211-8e55-4f60-a42d-2875cbb0f1ed",
     "showTitle": false,
     "tableResultSettingsMap": {},
     "title": ""
    }
   },
   "source": [
    "### C2. Issue Grant Access to View\n",
    "1. Let us issue a grant for \"account users\" to view the **vw_customers** view.\n",
    "\n",
    "**NOTE:** You will also need to provide users access to the catalog and schema. In this shared training environment, you are unable to grant access to your catalog to other users.\n"
   ]
  },
  {
   "cell_type": "code",
   "execution_count": 0,
   "metadata": {
    "application/vnd.databricks.v1+cell": {
     "cellMetadata": {},
     "inputWidgets": {},
     "nuid": "175b1b04-c6d2-4a3a-be3f-deef366ab91d",
     "showTitle": false,
     "tableResultSettingsMap": {},
     "title": ""
    }
   },
   "outputs": [],
   "source": [
    "<FILL_IN>"
   ]
  },
  {
   "cell_type": "markdown",
   "metadata": {
    "application/vnd.databricks.v1+cell": {
     "cellMetadata": {},
     "inputWidgets": {},
     "nuid": "a657ac03-9429-47af-b925-9df2ab894cd2",
     "showTitle": false,
     "tableResultSettingsMap": {},
     "title": ""
    }
   },
   "source": [
    "2. Use the `SHOW` statement to displays all privileges (inherited, denied, and granted) that affect the **vw_customers** view. Confirm that the **Principal** column contains *account users*.\n",
    "\n",
    "View the [SHOW GRANTS](https://docs.databricks.com/en/sql/language-manual/security-show-grant.html) documentation for help."
   ]
  },
  {
   "cell_type": "code",
   "execution_count": 0,
   "metadata": {
    "application/vnd.databricks.v1+cell": {
     "cellMetadata": {},
     "inputWidgets": {},
     "nuid": "ca3bf331-f817-415f-bbf1-3575b6003c74",
     "showTitle": false,
     "tableResultSettingsMap": {},
     "title": ""
    }
   },
   "outputs": [],
   "source": [
    "<FILL_IN>"
   ]
  },
  {
   "cell_type": "markdown",
   "metadata": {
    "application/vnd.databricks.v1+cell": {
     "cellMetadata": {},
     "inputWidgets": {},
     "nuid": "471b28e5-e0fb-4ddd-9b66-b1bd1a223feb",
     "showTitle": false,
     "tableResultSettingsMap": {},
     "title": ""
    }
   },
   "source": [
    "\n",
    "&copy; 2025 Databricks, Inc. All rights reserved.<br/>\n",
    "Apache, Apache Spark, Spark and the Spark logo are trademarks of the \n",
    "<a href=\"https://www.apache.org/\">Apache Software Foundation</a>.<br/>\n",
    "<br/><a href=\"https://databricks.com/privacy-policy\">Privacy Policy</a> | \n",
    "<a href=\"https://databricks.com/terms-of-use\">Terms of Use</a> | \n",
    "<a href=\"https://help.databricks.com/\">Support</a>"
   ]
  }
 ],
 "metadata": {
  "application/vnd.databricks.v1+notebook": {
   "computePreferences": null,
   "dashboards": [],
   "environmentMetadata": null,
   "language": "sql",
   "notebookMetadata": {},
   "notebookName": "5L - Securing Data in Unity Catalog",
   "widgets": {}
  },
  "language_info": {
   "name": "sql"
  }
 },
 "nbformat": 4,
 "nbformat_minor": 0
}