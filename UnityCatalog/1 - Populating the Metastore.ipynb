{
 "cells": [
  {
   "cell_type": "markdown",
   "metadata": {
    "application/vnd.databricks.v1+cell": {
     "cellMetadata": {},
     "inputWidgets": {},
     "nuid": "18407dad-a4d3-46ec-8b29-47bd7c8ea96c",
     "showTitle": false,
     "tableResultSettingsMap": {},
     "title": ""
    }
   },
   "source": [
    "\n",
    "<div style=\"text-align: center; line-height: 0; padding-top: 9px;\">\n",
    "  <img src=\"https://databricks.com/wp-content/uploads/2018/03/db-academy-rgb-1200px.png\" alt=\"Databricks Learning\">\n",
    "</div>\n"
   ]
  },
  {
   "cell_type": "markdown",
   "metadata": {
    "application/vnd.databricks.v1+cell": {
     "cellMetadata": {},
     "inputWidgets": {},
     "nuid": "856497df-14b8-4aa5-b368-4538f59c9ea5",
     "showTitle": false,
     "tableResultSettingsMap": {},
     "title": ""
    }
   },
   "source": [
    "# Populating the Metastore\n",
    "In this demo, we will populate the metastore, focusing on the three-level namespace concept to create data containers and objects. We will cover the creation and management of catalogs, schemas, tables, views, and user-defined functions, demonstrating the execution of SQL commands to achieve these tasks. Additionally, we will verify the settings and inspect the data objects to ensure they are correctly stored and accessible for further analysis. This process includes creating and populating a managed table and view, as well as defining and executing a user-defined function to enhance SQL capabilities within the Unity Catalog environment."
   ]
  },
  {
   "cell_type": "markdown",
   "metadata": {
    "application/vnd.databricks.v1+cell": {
     "cellMetadata": {},
     "inputWidgets": {},
     "nuid": "08138b9a-7bac-48c2-b743-9ad9bc81eae1",
     "showTitle": false,
     "tableResultSettingsMap": {},
     "title": ""
    }
   },
   "source": [
    "### Learning Objectives\n",
    "By the end of this demo, you will be able to:\n",
    "1. Identify the prerequisites and understand the three-level namespace concept introduced by Unity Catalog.\n",
    "2. Describe the process of creating and managing catalogs, schemas, tables, views, and user-defined functions within Unity Catalog.\n",
    "3. Execute SQL commands to create and manage catalogs, schemas, tables, and views, and implement user-defined functions in the Unity Catalog environment.\n",
    "4. Inspect and verify the current catalog and schema settings, ensuring that the objects created are correctly stored and accessible for further analysis.\n",
    "5. Develop and populate a managed table and a view, as well as define and execute a user-defined function to extend SQL capabilities within the Unity Catalog."
   ]
  },
  {
   "cell_type": "markdown",
   "metadata": {
    "application/vnd.databricks.v1+cell": {
     "cellMetadata": {},
     "inputWidgets": {},
     "nuid": "9e79923c-78b3-4433-8108-35bcd8b14af1",
     "showTitle": false,
     "tableResultSettingsMap": {},
     "title": ""
    }
   },
   "source": [
    "## REQUIRED - SELECT CLASSIC COMPUTE\n",
    "\n",
    "Before executing cells in this notebook, please select your classic compute cluster in the lab. Be aware that **Serverless** is enabled by default.\n",
    "\n",
    "Follow these steps to select the classic compute cluster:\n",
    "\n",
    "1. Navigate to the top-right of this notebook and click the drop-down menu to select your cluster. By default, the notebook will use **Serverless**.\n",
    "\n",
    "1. If your cluster is available, select it and continue to the next cell. If the cluster is not shown:\n",
    "\n",
    "  - In the drop-down, select **More**.\n",
    "\n",
    "  - In the **Attach to an existing compute resource** pop-up, select the first drop-down. You will see a unique cluster name in that drop-down. Please select that cluster.\n",
    "\n",
    "**NOTE:** If your cluster has terminated, you might need to restart it in order to select it. To do this:\n",
    "\n",
    "1. Right-click on **Compute** in the left navigation pane and select *Open in new tab*.\n",
    "\n",
    "1. Find the triangle icon to the right of your compute cluster name and click it.\n",
    "\n",
    "1. Wait a few minutes for the cluster to start.\n",
    "\n",
    "1. Once the cluster is running, complete the steps above to select your cluster."
   ]
  },
  {
   "cell_type": "markdown",
   "metadata": {
    "application/vnd.databricks.v1+cell": {
     "cellMetadata": {},
     "inputWidgets": {},
     "nuid": "f0496615-89c6-4b1a-83f4-3b0d30470309",
     "showTitle": false,
     "tableResultSettingsMap": {},
     "title": ""
    }
   },
   "source": [
    "## A. Classroom Setup\n",
    "\n",
    "Run the following cell to configure your working environment for this course. \n",
    "\n",
    "**NOTE:** The `DA` object is only used in Databricks Academy courses and is not available outside of these courses. It will dynamically reference the information needed to run the course."
   ]
  },
  {
   "cell_type": "code",
   "execution_count": 0,
   "metadata": {
    "application/vnd.databricks.v1+cell": {
     "cellMetadata": {},
     "inputWidgets": {},
     "nuid": "968c3f03-79a3-4af0-80ae-dd8e205eadfe",
     "showTitle": false,
     "tableResultSettingsMap": {},
     "title": ""
    }
   },
   "outputs": [],
   "source": [
    "%run ./Includes/Classroom-Setup-1"
   ]
  },
  {
   "cell_type": "markdown",
   "metadata": {
    "application/vnd.databricks.v1+cell": {
     "cellMetadata": {},
     "inputWidgets": {},
     "nuid": "09b36072-129a-4a53-bc39-db2a6925f5b1",
     "showTitle": false,
     "tableResultSettingsMap": {},
     "title": ""
    }
   },
   "source": [
    "2. In this course, we may use dynamically generated variables created by the classroom setup scripts to reference your catalog and/or schema within the `DA` object. For example, the `DA.catalog_name` variable will dynamically reference your specific catalog when executing SQL code.\n",
    "\n",
    "\n",
    "    Run the cell below to view the value of the variable and confirm it matches your catalog name in the cell above."
   ]
  },
  {
   "cell_type": "code",
   "execution_count": 0,
   "metadata": {
    "application/vnd.databricks.v1+cell": {
     "cellMetadata": {},
     "inputWidgets": {},
     "nuid": "b622c918-cabe-4751-a451-3fad82385777",
     "showTitle": false,
     "tableResultSettingsMap": {},
     "title": ""
    }
   },
   "outputs": [],
   "source": [
    "%python\n",
    "print(DA.catalog_name)"
   ]
  },
  {
   "cell_type": "markdown",
   "metadata": {
    "application/vnd.databricks.v1+cell": {
     "cellMetadata": {},
     "inputWidgets": {},
     "nuid": "b4eb6010-7650-4401-b6e8-f974a5a3acd4",
     "showTitle": false,
     "tableResultSettingsMap": {},
     "title": ""
    }
   },
   "source": [
    "## B. Three-Level Namespace Recap\n",
    "\n",
    "\n",
    "#### B1. Traditional Two-Level Namespace\n",
    "\n",
    "Anyone with SQL experience will likely be familiar with the traditional two-level namespace to address tables or views within a schema (often referred to as a database) as shown in the following example:\n",
    "<br></br>\n",
    "\n",
    "```sql\n",
    "SELECT * \n",
    "FROM myschema.mytable;\n",
    "```\n",
    "\n",
    "<br></br>\n",
    "#### B2. Unity Catalog Three-Level Namespace\n",
    "Unity Catalog introduces the concept of a **catalog** into the hierarchy, which provides another containment layer above the schema layer. This provides a new way for organizations to segregate their data and can be handy in many use cases. For example:\n",
    "\n",
    "* Separating data relating to business units within your organization (sales, marketing, human resources, etc)\n",
    "* Satisfying SDLC requirements (dev, staging, prod, etc)\n",
    "* Establishing sandboxes containing temporary datasets for internal use\n",
    "\n",
    "You can have as many catalogs as you want in the metastore, and each can contain as many schemas as you want. To deal with this additional level, complete table/view references in Unity Catalog use a three-level namespace, like this:\n",
    "<br></br>\n",
    "```sql\n",
    "SELECT * \n",
    "FROM mycatalog.myschema.mytable;\n",
    "```\n",
    "We can take advantage of the **`USE`** statements to select a default catalog or schema to make our queries easier to write and read:\n",
    "<br></br>\n",
    "```sql\n",
    "USE CATALOG mycatalog;\n",
    "USE SCHEMA myschema;\n",
    "```"
   ]
  },
  {
   "cell_type": "markdown",
   "metadata": {
    "application/vnd.databricks.v1+cell": {
     "cellMetadata": {},
     "inputWidgets": {},
     "nuid": "40938956-7850-4afe-a328-6830b6bff1ba",
     "showTitle": false,
     "tableResultSettingsMap": {},
     "title": ""
    }
   },
   "source": [
    "## C. Create Data Containers and Objects to Populate the Metastore\n",
    "\n",
    "In this section, let's explore how to create data containers and objects in the metastore. This can be done using SQL and Python. We will focus on SQL in this course. \n",
    "\n",
    "  Note that the SQL statements used throughout this lab could also be applied to a DBSQL warehouse as well."
   ]
  },
  {
   "cell_type": "markdown",
   "metadata": {
    "application/vnd.databricks.v1+cell": {
     "cellMetadata": {},
     "inputWidgets": {},
     "nuid": "2c1f170a-c669-4a80-9412-0649eb64903a",
     "showTitle": false,
     "tableResultSettingsMap": {},
     "title": ""
    }
   },
   "source": [
    "### C1. Catalogs"
   ]
  },
  {
   "cell_type": "markdown",
   "metadata": {
    "application/vnd.databricks.v1+cell": {
     "cellMetadata": {},
     "inputWidgets": {},
     "nuid": "a638cb4a-d742-481f-b8dc-989da6372191",
     "showTitle": false,
     "tableResultSettingsMap": {},
     "title": ""
    }
   },
   "source": [
    "#### C1.1 Create a Catalog \n",
    "\n",
    "1. To create a catalog, use the `CREATE CATALOG <catalog_name>` statement. The `IF NOT EXISTS` keywords will prevent any errors if the catalog name already exists.\n",
    "\n",
    "##### NOTE - PLEASE READ, CELL BELOW WILL RETURN AN ERROR (permission denied)\n",
    "The code is for example purposes only. Your lab environment does not grant you permission to create your own catalog in this shared training workspace. Instead, the training environment has automatically created your course catalog for you.\n",
    "\n",
    "Be aware, depending on your organization's setup, there may be occasions when you do not have permission to create catalogs in your environment."
   ]
  },
  {
   "cell_type": "code",
   "execution_count": 0,
   "metadata": {
    "application/vnd.databricks.v1+cell": {
     "cellMetadata": {},
     "inputWidgets": {},
     "nuid": "ff4d56fb-ede5-4e27-a9d7-18c70631f687",
     "showTitle": false,
     "tableResultSettingsMap": {},
     "title": ""
    }
   },
   "outputs": [],
   "source": [
    "-------------------------------------\n",
    "-- Note below will fail on purpose --\n",
    "-------------------------------------\n",
    "CREATE CATALOG IF NOT EXISTS the_catalog_name;"
   ]
  },
  {
   "cell_type": "markdown",
   "metadata": {
    "application/vnd.databricks.v1+cell": {
     "cellMetadata": {},
     "inputWidgets": {},
     "nuid": "fa2225a0-f0e4-41b9-a127-de6ceb7fc4c6",
     "showTitle": false,
     "tableResultSettingsMap": {},
     "title": ""
    }
   },
   "source": [
    "#### C1.2 Selecting a Default Catalog"
   ]
  },
  {
   "cell_type": "markdown",
   "metadata": {
    "application/vnd.databricks.v1+cell": {
     "cellMetadata": {},
     "inputWidgets": {},
     "nuid": "3de2e9d5-7c63-43de-bc6d-04e99cc794cc",
     "showTitle": false,
     "tableResultSettingsMap": {},
     "title": ""
    }
   },
   "source": [
    "1. Let's set **your** specific course catalog as the default catalog using the `USE CATALOG <catalog_name>` statement.\n",
    "\n",
    "   After this, any schema references you make will be assumed to be in this catalog unless you explicitly select a different catalog using a three-level specification.\n",
    "\n",
    "   **NOTE:** The cell below uses `spark.sql()` to dynamically specify the catalog name using the `DA.catalog_name` variable."
   ]
  },
  {
   "cell_type": "code",
   "execution_count": 0,
   "metadata": {
    "application/vnd.databricks.v1+cell": {
     "cellMetadata": {},
     "inputWidgets": {},
     "nuid": "00acd257-4482-407a-9f23-44b222bd07ac",
     "showTitle": false,
     "tableResultSettingsMap": {},
     "title": ""
    }
   },
   "outputs": [],
   "source": [
    "%python\n",
    "spark.sql(f'USE CATALOG {DA.catalog_name}')"
   ]
  },
  {
   "cell_type": "markdown",
   "metadata": {
    "application/vnd.databricks.v1+cell": {
     "cellMetadata": {},
     "inputWidgets": {},
     "nuid": "25f0c06b-31f0-41d9-aabc-60f4d9d0a13f",
     "showTitle": false,
     "tableResultSettingsMap": {},
     "title": ""
    }
   },
   "source": [
    "#### C1.3 Verify the Current Catalog\n",
    "1. Inspect the current catalog setting again using the `current_catalog()` function in SQL. Notice that your default catalog has been set to your specific catalog name."
   ]
  },
  {
   "cell_type": "code",
   "execution_count": 0,
   "metadata": {
    "application/vnd.databricks.v1+cell": {
     "cellMetadata": {},
     "inputWidgets": {},
     "nuid": "d7640086-3a8b-449f-b324-e5d2c3968812",
     "showTitle": false,
     "tableResultSettingsMap": {},
     "title": ""
    }
   },
   "outputs": [],
   "source": [
    "SELECT current_catalog()"
   ]
  },
  {
   "cell_type": "markdown",
   "metadata": {
    "application/vnd.databricks.v1+cell": {
     "cellMetadata": {},
     "inputWidgets": {},
     "nuid": "f89b432f-b1fb-42c9-b666-58207474c039",
     "showTitle": false,
     "tableResultSettingsMap": {},
     "title": ""
    }
   },
   "source": [
    "### C2. Schemas"
   ]
  },
  {
   "cell_type": "markdown",
   "metadata": {
    "application/vnd.databricks.v1+cell": {
     "cellMetadata": {},
     "inputWidgets": {},
     "nuid": "02dc846d-c566-4a1b-8c78-4489ab40ea57",
     "showTitle": false,
     "tableResultSettingsMap": {},
     "title": ""
    }
   },
   "source": [
    "#### C2.1 Creating and Using a Schema\n",
    "1. In the following code cell, we will:\n",
    "* Create a schema named **example** within our default catalog set in the previous cell\n",
    "* Select the **example** schema as the default schema\n",
    "* Verify that our default schema is, indeed, the **example**\n",
    "\n",
    "**NOTE:** The concept of a schema in Unity Catalog is similar to the schemas or databases with which you're already likely familiar. Schemas contain data objects like tables and views but can also contain functions and ML/AI models. Let's create a schema in the catalog we just created. We don't have to worry about name uniqueness since our new catalog represents a clean namespace for the schemas it can hold.\n"
   ]
  },
  {
   "cell_type": "code",
   "execution_count": 0,
   "metadata": {
    "application/vnd.databricks.v1+cell": {
     "cellMetadata": {},
     "inputWidgets": {},
     "nuid": "9ca99de3-a3bb-4a3f-85be-ea55b7db237f",
     "showTitle": false,
     "tableResultSettingsMap": {},
     "title": ""
    }
   },
   "outputs": [],
   "source": [
    "-- Create a new schema\n",
    "CREATE SCHEMA IF NOT EXISTS example;\n",
    "\n",
    "-- Make our newly created schema the default\n",
    "USE SCHEMA example;\n",
    "\n",
    "-- Verify the current default schema\n",
    "SELECT current_catalog(), current_schema();"
   ]
  },
  {
   "cell_type": "markdown",
   "metadata": {
    "application/vnd.databricks.v1+cell": {
     "cellMetadata": {},
     "inputWidgets": {},
     "nuid": "82d99b38-a79d-46f1-afdc-2768f3b4a275",
     "showTitle": false,
     "tableResultSettingsMap": {},
     "title": ""
    }
   },
   "source": [
    "2. Manually view the catalog and schema using the navigation bar on the left by completing the following steps:\n",
    "   1. Select the catalog icon on the left.\n",
    "\n",
    "   2. Expand your unique catalog name.\n",
    "\n",
    "   3. Expand the **example** schema we previously created.\n",
    "\n",
    "   4. Leave your catalog explorer open on the left."
   ]
  },
  {
   "cell_type": "markdown",
   "metadata": {
    "application/vnd.databricks.v1+cell": {
     "cellMetadata": {},
     "inputWidgets": {},
     "nuid": "b85f9d37-31e0-48d2-baec-49a7eaaa8788",
     "showTitle": false,
     "tableResultSettingsMap": {},
     "title": ""
    }
   },
   "source": [
    "### C3. Managed Tables\n",
    "With all the necessary containers in place, let's turn our attention to creating some data objects."
   ]
  },
  {
   "cell_type": "markdown",
   "metadata": {
    "application/vnd.databricks.v1+cell": {
     "cellMetadata": {},
     "inputWidgets": {},
     "nuid": "dc5ab08c-3a38-4c09-8f41-f10662a8c8a5",
     "showTitle": false,
     "tableResultSettingsMap": {},
     "title": ""
    }
   },
   "source": [
    "#### C3.1 Create a Managed Table\n",
    "\n",
    "1. First let's create a table named **silver**. For this example, we'll pre-populate the table with a simple mock dataset containing synthetic patient heart rate data.\n",
    "\n",
    "Note the following:\n",
    "* We only need to specify the table name when creating the table. We don't need to specify the containing catalog or schema because we already selected defaults earlier with the `USE` statements.\n",
    "* This will be a Managed table since we aren't specifying a `LOCATION` or `PATH` keyword in `CREATE TABLE` statement.\n",
    "* Because it's a Managed table, it must be a Delta Lake table. (as opposed to Parquet, AVRO, ORC, etc.)"
   ]
  },
  {
   "cell_type": "code",
   "execution_count": 0,
   "metadata": {
    "application/vnd.databricks.v1+cell": {
     "cellMetadata": {},
     "inputWidgets": {},
     "nuid": "03ebcde2-1c33-46c0-8ed4-cab9bcad57ac",
     "showTitle": false,
     "tableResultSettingsMap": {},
     "title": ""
    }
   },
   "outputs": [],
   "source": [
    "-- Create an empty silver table\n",
    "CREATE OR REPLACE TABLE silver (\n",
    "  device_id  INT,\n",
    "  mrn        STRING,\n",
    "  name       STRING,\n",
    "  time       TIMESTAMP,\n",
    "  heartrate  DOUBLE\n",
    ");"
   ]
  },
  {
   "cell_type": "markdown",
   "metadata": {
    "application/vnd.databricks.v1+cell": {
     "cellMetadata": {},
     "inputWidgets": {},
     "nuid": "c2e1fe33-d443-41b4-86ad-f39f0dd91291",
     "showTitle": false,
     "tableResultSettingsMap": {},
     "title": ""
    }
   },
   "source": [
    "2. Run the `SHOW TABLES` statement to view tables in your default catalog and the schema we set earlier. In the results, you should see the table named **silver** in the **example** schema (database)."
   ]
  },
  {
   "cell_type": "code",
   "execution_count": 0,
   "metadata": {
    "application/vnd.databricks.v1+cell": {
     "cellMetadata": {},
     "inputWidgets": {},
     "nuid": "e94ea3ef-3d49-4c1d-9cfb-bf0c9c1045e4",
     "showTitle": false,
     "tableResultSettingsMap": {},
     "title": ""
    }
   },
   "outputs": [],
   "source": [
    "SHOW TABLES;"
   ]
  },
  {
   "cell_type": "markdown",
   "metadata": {
    "application/vnd.databricks.v1+cell": {
     "cellMetadata": {},
     "inputWidgets": {},
     "nuid": "a175f08a-7bda-4477-9361-c8f17651e173",
     "showTitle": false,
     "tableResultSettingsMap": {},
     "title": ""
    }
   },
   "source": [
    "#### C3.2 Populate and Query the Managed Table\n",
    "1. Populate the **silver** table with some sample data."
   ]
  },
  {
   "cell_type": "code",
   "execution_count": 0,
   "metadata": {
    "application/vnd.databricks.v1+cell": {
     "cellMetadata": {},
     "inputWidgets": {},
     "nuid": "abbe1d46-e9d9-4b8e-9fd0-ed201c796692",
     "showTitle": false,
     "tableResultSettingsMap": {},
     "title": ""
    }
   },
   "outputs": [],
   "source": [
    "INSERT OVERWRITE silver VALUES\n",
    "  (23,'40580129','Nicholas Spears','2020-02-01T00:01:58.000+0000',54.0122153343),\n",
    "  (17,'52804177','Lynn Russell','2020-02-01T00:02:55.000+0000',92.5136468131),\n",
    "  (37,'65300842','Samuel Hughes','2020-02-01T00:08:58.000+0000',52.1354807863),\n",
    "  (23,'40580129','Nicholas Spears','2020-02-01T00:16:51.000+0000',54.6477014191),\n",
    "  (17,'52804177','Lynn Russell','2020-02-01T00:18:08.000+0000',95.033344842),\n",
    "  (37,'65300842','Samuel Hughes','2020-02-01T00:23:58.000+0000',57.3391541312),\n",
    "  (23,'40580129','Nicholas Spears','2020-02-01T00:31:58.000+0000',56.6165053697),\n",
    "  (17,'52804177','Lynn Russell','2020-02-01T00:32:56.000+0000',94.8134313932),\n",
    "  (37,'65300842','Samuel Hughes','2020-02-01T00:38:54.000+0000',56.2469995332),\n",
    "  (23,'40580129','Nicholas Spears','2020-02-01T00:46:57.000+0000',54.8372685558),\n",
    "  (23,'40580129',NULL,'2020-02-01T00:01:58.000+0000',54.0122153343),\n",
    "  (17,'52804177',NULL,'2020-02-01T00:02:55.000+0000',92.5136468131),\n",
    "  (37,'65300842',NULL,'2020-02-01T00:08:58.000+0000',1000052.1354807863),\n",
    "  (23,'40580129',NULL,'2020-02-01T00:16:51.000+0000',54.6477014191),\n",
    "  (17,'52804177','Lynn Russell','2020-02-01T00:18:08.000+0000',9),\n",
    "  (37,'65300842','Samuel Hughes','2020-02-01T00:23:58.000+0000',7),\n",
    "  (23,'40580129','Nicholas Spears','2020-02-01T00:31:58.000+0000',6),\n",
    "  (17,'52804177','Lynn Russell','2020-02-01T00:32:56.000+0000',5),\n",
    "  (37,'65300842','Samuel Hughes','2020-02-01T00:38:54.000+0000',9000),\n",
    "  (23,'40580129','Nicholas Spears','2020-02-01T00:46:57.000+0000',66),\n",
    "  (23,'40580129',NULL,'2020-02-01T00:01:58.000+0000',54.0122153343),\n",
    "  (17,'52804177',NULL,'2020-02-01T00:02:55.000+0000',92.5136468131),\n",
    "  (37,'65300842',NULL,'2020-02-01T00:08:58.000+0000',1000052.1354807863),\n",
    "  (23,'40580129',NULL,'2020-02-01T00:16:51.000+0000',54.6477014191),\n",
    "  (17,'52804177','Lynn Russell','2020-02-01T00:18:08.000+0000',98),\n",
    "  (37,'65300842','Samuel Hughes','2020-02-01T00:23:58.000+0000',90),\n",
    "  (23,'40580129','Nicholas Spears','2020-02-01T00:31:58.000+0000',60),\n",
    "  (17,'52804177','Lynn Russell','2020-02-01T00:32:56.000+0000',50),\n",
    "  (37,'65300842','Samuel Hughes','2020-02-01T00:38:54.000+0000',30),\n",
    "  (23,'40580129','Nicholas Spears','2020-02-01T00:46:57.000+0000',80);"
   ]
  },
  {
   "cell_type": "markdown",
   "metadata": {
    "application/vnd.databricks.v1+cell": {
     "cellMetadata": {},
     "inputWidgets": {},
     "nuid": "215a58ef-f1b6-4ec1-9bd4-e68e830b7450",
     "showTitle": false,
     "tableResultSettingsMap": {},
     "title": ""
    }
   },
   "source": [
    "2. Execute queries on the created table to examine its contents, ensuring that the data is correctly stored and accessible for analysis purposes."
   ]
  },
  {
   "cell_type": "code",
   "execution_count": 0,
   "metadata": {
    "application/vnd.databricks.v1+cell": {
     "cellMetadata": {},
     "inputWidgets": {},
     "nuid": "a2cba7cf-eac2-4683-9cd1-a38a06fa7a07",
     "showTitle": false,
     "tableResultSettingsMap": {},
     "title": ""
    }
   },
   "outputs": [],
   "source": [
    "-- View the rows inside the silver table\n",
    "SELECT * \n",
    "FROM silver;"
   ]
  },
  {
   "cell_type": "markdown",
   "metadata": {
    "application/vnd.databricks.v1+cell": {
     "cellMetadata": {},
     "inputWidgets": {},
     "nuid": "a2cf3dfd-e325-4c80-98fa-3a62ea440b35",
     "showTitle": false,
     "tableResultSettingsMap": {},
     "title": ""
    }
   },
   "source": [
    "### C4. Creating and Managing Views\n",
    "\n",
    "1. Let's create a **vw_gold** view that presents a processed version of the **silver** table data by averaging heart rate data per patient on a daily basis. In the following cell, we will:\n",
    "- Create the view\n",
    "- Query the view"
   ]
  },
  {
   "cell_type": "code",
   "execution_count": 0,
   "metadata": {
    "application/vnd.databricks.v1+cell": {
     "cellMetadata": {},
     "inputWidgets": {},
     "nuid": "65288561-a0d8-4b32-b053-f062983736f2",
     "showTitle": false,
     "tableResultSettingsMap": {},
     "title": ""
    }
   },
   "outputs": [],
   "source": [
    "-- Create a gold view\n",
    "CREATE OR REPLACE VIEW vw_gold AS (\n",
    "  SELECT \n",
    "    mrn, \n",
    "    name, \n",
    "    MEAN(heartrate) \n",
    "    avg_heartrate, \n",
    "    DATE_TRUNC(\"DD\", time) AS date\n",
    "  FROM silver\n",
    "  GROUP BY mrn, name, DATE_TRUNC(\"DD\", time)\n",
    ");\n",
    "\n",
    "\n",
    "-- View the rows inside the gold view\n",
    "SELECT * \n",
    "FROM vw_gold;"
   ]
  },
  {
   "cell_type": "markdown",
   "metadata": {
    "application/vnd.databricks.v1+cell": {
     "cellMetadata": {},
     "inputWidgets": {},
     "nuid": "364773b9-4b99-4a0c-a9be-4b1ecc9bffd9",
     "showTitle": false,
     "tableResultSettingsMap": {},
     "title": ""
    }
   },
   "source": [
    "2. Use the `SHOW VIEWS` statement to display all available views. Run the cell and view the results. Notice that we have a view named **vw_gold**. The view is neither temporary nor materialized."
   ]
  },
  {
   "cell_type": "code",
   "execution_count": 0,
   "metadata": {
    "application/vnd.databricks.v1+cell": {
     "cellMetadata": {},
     "inputWidgets": {},
     "nuid": "aad19ec5-1e4b-4044-94b6-621b59c2a6b0",
     "showTitle": false,
     "tableResultSettingsMap": {},
     "title": ""
    }
   },
   "outputs": [],
   "source": [
    "SHOW VIEWS;"
   ]
  },
  {
   "cell_type": "markdown",
   "metadata": {
    "application/vnd.databricks.v1+cell": {
     "cellMetadata": {},
     "inputWidgets": {},
     "nuid": "e1d2758e-caa3-4215-a8fe-7c11de5880ce",
     "showTitle": false,
     "tableResultSettingsMap": {},
     "title": ""
    }
   },
   "source": [
    "### C5. Creating, Managing and Executing User-Defined Functions\n",
    "1. A User-Defined Function (UDF) in SQL is a feature that allows you to extend the native capabilities of SQL. It enables you to define your business logic as reusable functions that extend the vocabulary of SQL for transforming or masking data and reuse it across your applications. User-defined functions are contained by schemas as well. For this example, we'll set up simple function that masks all but the last two characters of a string."
   ]
  },
  {
   "cell_type": "code",
   "execution_count": 0,
   "metadata": {
    "application/vnd.databricks.v1+cell": {
     "cellMetadata": {},
     "inputWidgets": {},
     "nuid": "bba592e9-5c37-4557-bf6c-b6dd52a1866a",
     "showTitle": false,
     "tableResultSettingsMap": {},
     "title": ""
    }
   },
   "outputs": [],
   "source": [
    "-- Create a custom function to mask a string value except for 2 left-most characters\n",
    "CREATE OR REPLACE FUNCTION dbacademy_mask(x STRING)\n",
    "  RETURNS STRING\n",
    "  RETURN CONCAT(LEFT(x, 2) , REPEAT(\"*\", LENGTH(x) - 2));"
   ]
  },
  {
   "cell_type": "markdown",
   "metadata": {
    "application/vnd.databricks.v1+cell": {
     "cellMetadata": {},
     "inputWidgets": {},
     "nuid": "d9b95bc4-ca2b-4aa5-a4a5-b45206e92f7b",
     "showTitle": false,
     "tableResultSettingsMap": {},
     "title": ""
    }
   },
   "source": [
    "2. Manually view the newly created function by completing the following steps:\n",
    "\n",
    "   1. Select the **Catalog** icon (3rd one in icon list) in the left vertical bar (directly under **File** menu).\n",
    "\n",
    "   2. Expand your unique catalog name.\n",
    "\n",
    "   3. Expand the **example** schema we previously created. Notice that the schema now contains **Tables** and **Functions**.\n",
    "\n",
    "   4. Expand **Functions** (you might have to refresh your schema).\n",
    "   \n",
    "   5. Notice that the newly created function, **dbacademy_mask**, is available in your schema.\n",
    "\n",
    "\n"
   ]
  },
  {
   "cell_type": "markdown",
   "metadata": {
    "application/vnd.databricks.v1+cell": {
     "cellMetadata": {},
     "inputWidgets": {},
     "nuid": "e244dd14-93aa-4182-aaae-5aa13901abd7",
     "showTitle": false,
     "tableResultSettingsMap": {},
     "title": ""
    }
   },
   "source": [
    "3. Let's see how the function we just defined works. Note that you can expand the table by dragging the border to the right if the output is truncated."
   ]
  },
  {
   "cell_type": "code",
   "execution_count": 0,
   "metadata": {
    "application/vnd.databricks.v1+cell": {
     "cellMetadata": {},
     "inputWidgets": {},
     "nuid": "5e55297d-3d8d-44ff-8e2d-eb85599e10e6",
     "showTitle": false,
     "tableResultSettingsMap": {},
     "title": ""
    }
   },
   "outputs": [],
   "source": [
    "-- Run the custom function to verify its output\n",
    "SELECT dbacademy_mask('sensitive data') AS data;"
   ]
  },
  {
   "cell_type": "markdown",
   "metadata": {
    "application/vnd.databricks.v1+cell": {
     "cellMetadata": {},
     "inputWidgets": {},
     "nuid": "be7f7902-fc61-45e3-ace9-2eaa0d3372a6",
     "showTitle": false,
     "tableResultSettingsMap": {},
     "title": ""
    }
   },
   "source": [
    "### D. Catalog Explorer\n",
    "All of the data objects we have created are available to us in the Data Explorer. We can view and change permissions, change object ownership, examine lineage, and a whole lot more.\n",
    "\n"
   ]
  },
  {
   "cell_type": "markdown",
   "metadata": {
    "application/vnd.databricks.v1+cell": {
     "cellMetadata": {},
     "inputWidgets": {},
     "nuid": "ef4d7016-5e4c-442b-9d4a-81f9f382a165",
     "showTitle": false,
     "tableResultSettingsMap": {},
     "title": ""
    }
   },
   "source": [
    "#### D1. Using the Catalog Explorer\n",
    "1. Open the Catalog Explorer by right-clicking on **Catalog** in the far left sidebar menu and opening the link in a new tab. This will allow you to keep these instructions open.\n",
    "\n",
    "1. Click on your catalog's name. \n",
    "\n",
    "    You will see a list of at least five schemas in the catalog: \n",
    "    - **default** - this schema is created when the catalog is created and can be dropped, if needed\n",
    "    - **dmguc** - created by the *Classroom Setup* script we ran at the beginning of the notebook (**dmguc** is short for *Data Management and Governance with Unity Catalog*)\n",
    "    - **example** - we created this schema above\n",
    "    - **information_schema** - this schema is created when the catalog is created and contains a wealth of metadata. We will talk more about this schema in a future lesson\n",
    "    - **other** - created by the *Classroom Setup* script."
   ]
  },
  {
   "cell_type": "markdown",
   "metadata": {
    "application/vnd.databricks.v1+cell": {
     "cellMetadata": {},
     "inputWidgets": {},
     "nuid": "9b2bd5f7-40f0-4305-bb93-c2a0c52d7d1b",
     "showTitle": false,
     "tableResultSettingsMap": {},
     "title": ""
    }
   },
   "source": [
    "#### D2. Delete a Schema\n",
    "Let's delete the **other** schema. \n",
    "1. Under **Your** Catalog, click the **other** schema in the left navigation bar. \n",
    "\n",
    "2. Select the three dots to the right of the schema name.\n",
    "\n",
    "3. Select **Open in Catalog Explorer**. \n",
    "\n",
    "4. In the upper-right corner, click the three dots. Then you can select **Delete** to delete the **other** schema. \n",
    "\n",
    "5. Click the warning to accept.\n",
    "\n",
    "6. Close the Catalog Explorer browser.\n",
    "\n",
    "You can also drop a schema with code:\n",
    "```\n",
    "DROP SCHEMA IF EXISTS other;\n",
    "```"
   ]
  },
  {
   "cell_type": "code",
   "execution_count": 0,
   "metadata": {
    "application/vnd.databricks.v1+cell": {
     "cellMetadata": {},
     "inputWidgets": {},
     "nuid": "82f66611-5a89-42ef-96c5-88e557d0dd05",
     "showTitle": false,
     "tableResultSettingsMap": {},
     "title": ""
    }
   },
   "outputs": [],
   "source": [
    "-- If didn't DROP the 'other' schema via the User Interface, you can use the below code to do the same thing\n",
    "\n",
    "DROP SCHEMA IF EXISTS other;"
   ]
  },
  {
   "cell_type": "markdown",
   "metadata": {
    "application/vnd.databricks.v1+cell": {
     "cellMetadata": {},
     "inputWidgets": {},
     "nuid": "99c44a96-7c09-4214-9bb7-f0727cd09711",
     "showTitle": false,
     "tableResultSettingsMap": {},
     "title": ""
    }
   },
   "source": [
    "#### D3. Add AI Generated Comments\n",
    "Now, lets look at the *example* schema we created:\n",
    "\n",
    "1. Click **example** schema in the left navigation bar and select the three dots.\n",
    "\n",
    "1. Select **Open in Catalog Explorer** to view the details for this schema.\n",
    "\n",
    "1. Note the two data objects in the schema, the **silver** table and the **vw_gold** view. \n",
    "\n",
    "1. Click the **silver** table name.\n",
    "\n",
    "1. We see the columns we defined for this table. Note the button labeled **AI Generate**. We can use this to generate comments for our columns. \n",
    "\n",
    "1. Click **AI generate**.\n",
    "\n",
    "1. The Data Intelligence Platform proposes comments for each column in our table. Click the check next to the first comment to accept it.\n",
    "\n",
    "1. We also have an AI suggested description for the table. Click **Accept**. \n",
    "\n",
    "1. Leave the browser open."
   ]
  },
  {
   "cell_type": "markdown",
   "metadata": {
    "application/vnd.databricks.v1+cell": {
     "cellMetadata": {},
     "inputWidgets": {},
     "nuid": "798743ae-6da0-4bf9-a205-edbbbc5cc144",
     "showTitle": false,
     "tableResultSettingsMap": {},
     "title": ""
    }
   },
   "source": [
    "#### D4. Explore Table Information\n",
    "1. There are tabs along the top where we can view and manage metadata about this table:\n",
    "  - **Overview** - On the right, we have information about the table, tags, its description, and we can add a row filtering function if we wish. We will talk about this in a future lesson. On the left, we get information about each column in the table\n",
    "\n",
    "  - **Sample data** - This tab gives us the first rows of the table, so we can see the data contained within the table.\n",
    "\n",
    "  - **Details** - We get the same information here as we would get by running **`DESCRIBE EXTENDED silver`**.\n",
    "\n",
    "  - **Permissions** - The UI gives us the ability to manage table permissions. We can **`GRANT`** and **`REVOKE`** permissions here. We will talk about doing this programmatically in a future lesson.\n",
    "\n",
    "  - **History** - The Delta Lake transaction log is on this tab. We can get this programmatically by running **`DESCRIBE HISTORY silver`**.\n",
    "  \n",
    "  - **Lineage** - It is very helpful to see table lineage. Click **`See lineage graph`** to see both our *silver* table and the *gold* view. Note that the view gets its data from the *silver* table. Click the \"X\" in the upper-right corner to close the window.\n",
    "\n",
    "  - **Insights** - The Databricks Data Intelligence Platform provides these insights, so we can see how our data object is being used.\n",
    "\n",
    "  - **Quality** - This tab gives us the ability to monitor this table for data quality. Let's talk more about this next."
   ]
  },
  {
   "cell_type": "markdown",
   "metadata": {
    "application/vnd.databricks.v1+cell": {
     "cellMetadata": {},
     "inputWidgets": {},
     "nuid": "d21d6677-dd00-49fd-9722-11f50d92d604",
     "showTitle": false,
     "tableResultSettingsMap": {},
     "title": ""
    }
   },
   "source": [
    "### E. Dropping a Managed Table\n",
    "1. Because the table we created is a managed table, when it is dropped, the data we added to it is also deleted."
   ]
  },
  {
   "cell_type": "code",
   "execution_count": 0,
   "metadata": {
    "application/vnd.databricks.v1+cell": {
     "cellMetadata": {},
     "inputWidgets": {},
     "nuid": "360c5c84-fdca-4287-9ebf-e59691a1a2d5",
     "showTitle": false,
     "tableResultSettingsMap": {},
     "title": ""
    }
   },
   "outputs": [],
   "source": [
    "DROP TABLE silver;"
   ]
  },
  {
   "cell_type": "markdown",
   "metadata": {
    "application/vnd.databricks.v1+cell": {
     "cellMetadata": {},
     "inputWidgets": {},
     "nuid": "3ceaaa0c-a9a8-4b30-8035-9dc375406688",
     "showTitle": false,
     "tableResultSettingsMap": {},
     "title": ""
    }
   },
   "source": [
    "## Conclusion\n",
    "In this demo, we explored the process of upgrading tables to Unity Catalog, focusing on the three-level namespace concept. We created and managed catalogs, schemas, tables, views, and user-defined functions, demonstrating the execution of SQL commands for each task. We ensured correct storage and accessibility of data objects, created and populated a managed table and view, and defined a user-defined function to enhance SQL capabilities within the Unity Catalog environment. This comprehensive approach provided a structured and efficient method to manage data in the metastore, leveraging Unity Catalog's advanced features."
   ]
  },
  {
   "cell_type": "markdown",
   "metadata": {
    "application/vnd.databricks.v1+cell": {
     "cellMetadata": {},
     "inputWidgets": {},
     "nuid": "9f031495-347b-48dd-9858-facaeee694f9",
     "showTitle": false,
     "tableResultSettingsMap": {},
     "title": ""
    }
   },
   "source": [
    "\n",
    "&copy; 2025 Databricks, Inc. All rights reserved.<br/>\n",
    "Apache, Apache Spark, Spark and the Spark logo are trademarks of the \n",
    "<a href=\"https://www.apache.org/\">Apache Software Foundation</a>.<br/>\n",
    "<br/><a href=\"https://databricks.com/privacy-policy\">Privacy Policy</a> | \n",
    "<a href=\"https://databricks.com/terms-of-use\">Terms of Use</a> | \n",
    "<a href=\"https://help.databricks.com/\">Support</a>"
   ]
  }
 ],
 "metadata": {
  "application/vnd.databricks.v1+notebook": {
   "computePreferences": null,
   "dashboards": [],
   "environmentMetadata": null,
   "language": "sql",
   "notebookMetadata": {
    "pythonIndentUnit": 4
   },
   "notebookName": "1 - Populating the Metastore",
   "widgets": {}
  },
  "language_info": {
   "name": "sql"
  }
 },
 "nbformat": 4,
 "nbformat_minor": 0
}