{
 "cells": [
  {
   "cell_type": "code",
   "execution_count": 0,
   "metadata": {
    "application/vnd.databricks.v1+cell": {
     "cellMetadata": {},
     "inputWidgets": {},
     "nuid": "88311e54-6e13-4248-82bf-a4e8159ca93b",
     "showTitle": false,
     "title": ""
    }
   },
   "outputs": [],
   "source": [
    "!pip install Faker"
   ]
  },
  {
   "cell_type": "code",
   "execution_count": 0,
   "metadata": {
    "application/vnd.databricks.v1+cell": {
     "cellMetadata": {},
     "inputWidgets": {},
     "nuid": "a6f4bc51-f9fc-42ff-abfe-6fae5f413319",
     "showTitle": false,
     "title": ""
    }
   },
   "outputs": [],
   "source": [
    "# from pyspark.sql import functions as F\n",
    "# from faker import Faker\n",
    "# import random\n",
    "# from collections import OrderedDict \n",
    "# from pyspark.sql.types import StructType, StructField, StringType, DoubleType, IntegerType\n",
    "# import uuid"
   ]
  },
  {
   "cell_type": "code",
   "execution_count": 0,
   "metadata": {
    "application/vnd.databricks.v1+cell": {
     "cellMetadata": {},
     "inputWidgets": {},
     "nuid": "97ad3870-0267-46e0-a546-e05e2a0a69f3",
     "showTitle": false,
     "title": ""
    }
   },
   "outputs": [],
   "source": [
    "# # folder = \"s3://caden-os-dev-databricks-tmp/ling\"\n",
    "# folder = \"s3://caden-os-dev-demo-staging/ling\"\n",
    "# # dbutils.fs.rm(folder, True)\n",
    "# dbutils.fs.ls(folder)"
   ]
  },
  {
   "cell_type": "code",
   "execution_count": 0,
   "metadata": {
    "application/vnd.databricks.v1+cell": {
     "cellMetadata": {},
     "inputWidgets": {},
     "nuid": "eff2fd20-b8af-42c9-97b9-6237638ccf63",
     "showTitle": false,
     "title": ""
    }
   },
   "outputs": [],
   "source": [
    "# fake = Faker()\n",
    "\n",
    "# @udf(StructType([StructField(\"id\", StringType(), False),\n",
    "#                 StructField(\"firstname\", StringType(), False),\n",
    "#                 StructField(\"lastname\", StringType(), False),\n",
    "#                 StructField(\"email\", StringType(), False),\n",
    "#                 StructField(\"address\", StringType(), False),\n",
    "#                 StructField(\"operation\", StringType(), False),\n",
    "#                 StructField(\"operation_date\", StringType(), False)]))\n",
    "# def generate_fake_data():\n",
    "#     return (\n",
    "#         str(uuid.uuid4()),\n",
    "#         fake.first_name(),\n",
    "#         fake.last_name(),\n",
    "#         fake.ascii_company_email(),\n",
    "#         fake.address(),\n",
    "#         random.choice([\"APPEND\", \"DELETE\", \"UPDATE\"]),\n",
    "#         fake.date_time_this_month().strftime(\"%m-%d-%Y %H:%M:%S\")\n",
    "#     )\n",
    "\n",
    "# df = spark.range(0, 100000)\n",
    "# df = df.withColumn(\"fake_data\", generate_fake_data())\n",
    "# df = df.selectExpr(\"fake_data.id\", \"fake_data.firstname\", \"fake_data.lastname\", \"fake_data.email\", \"fake_data.address\", \"fake_data.operation\", \"fake_data.operation_date\")\n",
    "# df.repartition(100).write.format(\"json\").mode(\"overwrite\").save(folder+\"/customers\")"
   ]
  },
  {
   "cell_type": "code",
   "execution_count": 0,
   "metadata": {
    "application/vnd.databricks.v1+cell": {
     "cellMetadata": {},
     "inputWidgets": {},
     "nuid": "fb33d21a-a269-42ec-942d-7205e4fd762a",
     "showTitle": false,
     "title": ""
    }
   },
   "outputs": [],
   "source": [
    "# spark.read.json(folder+\"/customers\").display()"
   ]
  },
  {
   "cell_type": "code",
   "execution_count": 0,
   "metadata": {
    "application/vnd.databricks.v1+cell": {
     "cellMetadata": {},
     "inputWidgets": {},
     "nuid": "75b5b82f-4606-457a-965b-9101c31382a9",
     "showTitle": false,
     "title": ""
    }
   },
   "outputs": [],
   "source": [
    "# import dlt\n",
    "# from pyspark.sql.functions import *\n",
    "# from pyspark.sql.types import *"
   ]
  },
  {
   "cell_type": "code",
   "execution_count": 0,
   "metadata": {
    "application/vnd.databricks.v1+cell": {
     "cellMetadata": {},
     "inputWidgets": {},
     "nuid": "e030c835-a3aa-49d3-90c0-97f64d002c6a",
     "showTitle": false,
     "title": ""
    }
   },
   "outputs": [],
   "source": [
    "# # source = spark.conf.get(\"source\")\n",
    "# source = folder"
   ]
  },
  {
   "cell_type": "code",
   "execution_count": 0,
   "metadata": {
    "application/vnd.databricks.v1+cell": {
     "cellMetadata": {},
     "inputWidgets": {},
     "nuid": "1fe5c488-0ab5-4f52-9895-43463d23ea6e",
     "showTitle": false,
     "title": ""
    }
   },
   "outputs": [],
   "source": [
    "# @dlt.table(name=\"customer_bronze\",\n",
    "#                   comment = \"New customer data incrementally ingested from cloud object storage landing zone\",\n",
    "#   table_properties={\n",
    "#     \"quality\": \"bronze\"\n",
    "#   }\n",
    "# )\n",
    "# def customer_bronze():\n",
    "#   return (\n",
    "#     spark.readStream.format(\"cloudFiles\") \\\n",
    "#       .option(\"cloudFiles.format\", \"json\") \\\n",
    "#       .option(\"cloudFiles.inferColumnTypes\", \"true\") \\\n",
    "#       .load(f\"{source}/customers\")\n",
    "#   )"
   ]
  },
  {
   "cell_type": "code",
   "execution_count": 0,
   "metadata": {
    "application/vnd.databricks.v1+cell": {
     "cellMetadata": {},
     "inputWidgets": {},
     "nuid": "8ccf1365-6ed8-48d6-86a7-d1398e7c5039",
     "showTitle": false,
     "title": ""
    }
   },
   "outputs": [],
   "source": [
    "# @dlt.table(name=\"customer_bronze_clean_v\",\n",
    "#   comment=\"Cleansed bronze customer view (i.e. what will become Silver)\")\n",
    "\n",
    "# @dlt.expect_or_drop(\"valid_id\", \"id IS NOT NULL\")\n",
    "# @dlt.expect(\"valid_address\", \"address IS NOT NULL\")\n",
    "# @dlt.expect_or_drop(\"valid_operation\", \"operation IS NOT NULL\")\n",
    "# def customer_bronze_clean_v():\n",
    "#   return (dlt.read_stream(\"customer_bronze\")\n",
    "#             .select(\"address\", \"email\", \"id\", \"firstname\", \"lastname\", \"operation\", \"operation_date\", \"_rescued_data\")\n",
    "#          )"
   ]
  },
  {
   "cell_type": "code",
   "execution_count": 0,
   "metadata": {
    "application/vnd.databricks.v1+cell": {
     "cellMetadata": {},
     "inputWidgets": {},
     "nuid": "1a9a3ebf-afc9-450d-8464-5309cfe6664e",
     "showTitle": false,
     "title": ""
    }
   },
   "outputs": [],
   "source": [
    "# dlt.create_target_table(name=\"customer_silver\",\n",
    "#   comment=\"Clean, merged customers\",\n",
    "#   table_properties={\n",
    "#     \"quality\": \"silver\"\n",
    "#   }\n",
    "# )\n",
    "# dlt.apply_changes(\n",
    "#   target = \"customer_silver\", #The customer table being materilized\n",
    "#   source = \"customer_bronze_clean_v\", #the incoming CDC\n",
    "#   keys = [\"id\"], #Primary key to match the rows to upsert/delete\n",
    "#   sequence_by = col(\"operation_date\"), #deduplicate by operation date getting the most recent value\n",
    "#   apply_as_deletes = expr(\"operation = 'DELETE'\"), #DELETE condition\n",
    "#   except_column_list = [\"operation\", \"operation_date\", \"_rescued_data\"], # drop metadata columns\n",
    "#   stored_as_scd_type = 2\n",
    "# )"
   ]
  },
  {
   "cell_type": "code",
   "execution_count": 0,
   "metadata": {
    "application/vnd.databricks.v1+cell": {
     "cellMetadata": {},
     "inputWidgets": {},
     "nuid": "01adc6f8-2b4e-4248-a2df-ded148ab1abd",
     "showTitle": false,
     "title": ""
    }
   },
   "outputs": [],
   "source": [
    "import dlt\n",
    "from pyspark.sql.functions import *\n",
    "from pyspark.sql.types import *"
   ]
  },
  {
   "cell_type": "code",
   "execution_count": 0,
   "metadata": {
    "application/vnd.databricks.v1+cell": {
     "cellMetadata": {},
     "inputWidgets": {},
     "nuid": "2141ed4e-4303-44f8-8599-ecd53961e90b",
     "showTitle": false,
     "title": ""
    }
   },
   "outputs": [],
   "source": [
    "json_path = \"/databricks-datasets/wikipedia-datasets/data-001/clickstream/raw-uncompressed-json/2015_2_clickstream.json\"\n",
    "@dlt.create_table(\n",
    "  comment=\"The raw wikipedia clickstream dataset, ingested from /databricks-datasets.\"\n",
    ")\n",
    "def clickstream_raw():          \n",
    "  return (\n",
    "    spark.read.json(json_path)\n",
    "  )"
   ]
  },
  {
   "cell_type": "code",
   "execution_count": 0,
   "metadata": {
    "application/vnd.databricks.v1+cell": {
     "cellMetadata": {},
     "inputWidgets": {},
     "nuid": "7e8f3136-b9d5-4b14-b9d9-fda6cb286d63",
     "showTitle": false,
     "title": ""
    }
   },
   "outputs": [],
   "source": [
    "# @dlt.table(\n",
    "#   comment=\"Wikipedia clickstream data cleaned and prepared for analysis.\"\n",
    "# )\n",
    "# @dlt.expect(\"valid_current_page_title\", \"current_page_title IS NOT NULL\")\n",
    "# @dlt.expect_or_fail(\"valid_count\", \"click_count > 0\")\n",
    "# def clickstream_prepared():\n",
    "#   return (\n",
    "#     dlt.read(\"clickstream_raw\")\n",
    "#       .withColumn(\"click_count\", expr(\"CAST(n AS INT)\"))\n",
    "#       .withColumnRenamed(\"curr_title\", \"current_page_title\")\n",
    "#       .withColumnRenamed(\"prev_title\", \"previous_page_title\")\n",
    "#       .select(\"current_page_title\", \"click_count\", \"previous_page_title\")\n",
    "#   )"
   ]
  },
  {
   "cell_type": "code",
   "execution_count": 0,
   "metadata": {
    "application/vnd.databricks.v1+cell": {
     "cellMetadata": {},
     "inputWidgets": {},
     "nuid": "895bf30f-4503-4ac1-8680-d6f459bc911d",
     "showTitle": false,
     "title": ""
    }
   },
   "outputs": [],
   "source": [
    "# @dlt.table(\n",
    "#   comment=\"A table containing the top pages linking to the Apache Spark page.\"\n",
    "# )\n",
    "# def top_spark_referrers():\n",
    "#   return (\n",
    "#     dlt.read(\"clickstream_prepared\")\n",
    "#       .filter(expr(\"current_page_title == 'Apache_Spark'\"))\n",
    "#       .withColumnRenamed(\"previous_page_title\", \"referrer\")\n",
    "#       .sort(desc(\"click_count\"))\n",
    "#       .select(\"referrer\", \"click_count\")\n",
    "#       .limit(10)\n",
    "#   )\n"
   ]
  },
  {
   "cell_type": "code",
   "execution_count": 0,
   "metadata": {
    "application/vnd.databricks.v1+cell": {
     "cellMetadata": {},
     "inputWidgets": {},
     "nuid": "1a3b3ed4-347b-47c4-88f2-98e497385ecf",
     "showTitle": false,
     "title": ""
    }
   },
   "outputs": [],
   "source": []
  }
 ],
 "metadata": {
  "application/vnd.databricks.v1+notebook": {
   "dashboards": [],
   "language": "python",
   "notebookMetadata": {
    "pythonIndentUnit": 4
   },
   "notebookName": "5-DLT_CDC_Pipeline_2023-12-05",
   "widgets": {}
  }
 },
 "nbformat": 4,
 "nbformat_minor": 0
}
