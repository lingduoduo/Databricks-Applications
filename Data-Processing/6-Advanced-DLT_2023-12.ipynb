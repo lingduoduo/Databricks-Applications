{
 "cells": [
  {
   "cell_type": "code",
   "execution_count": 0,
   "metadata": {
    "application/vnd.databricks.v1+cell": {
     "cellMetadata": {},
     "inputWidgets": {},
     "nuid": "46afcb95-866b-4e63-b2e6-d70a652d4532",
     "showTitle": false,
     "title": ""
    }
   },
   "outputs": [],
   "source": [
    "from delta.tables import *"
   ]
  },
  {
   "cell_type": "code",
   "execution_count": 0,
   "metadata": {
    "application/vnd.databricks.v1+cell": {
     "cellMetadata": {},
     "inputWidgets": {},
     "nuid": "667ec846-ea1f-43ff-bd5d-e4d5195ad1c7",
     "showTitle": false,
     "title": ""
    }
   },
   "outputs": [],
   "source": [
    "# Load the data from its source.\n",
    "df = spark.read.load(\"dbfs:/databricks-datasets/learning-spark-v2/people/people-10m.delta\")\n",
    "\n",
    "# Write the data to a table.\n",
    "table_name = \"people_10m\"\n",
    "df.write.format(\"delta\").saveAsTable(table_name)"
   ]
  },
  {
   "cell_type": "code",
   "execution_count": 0,
   "metadata": {
    "application/vnd.databricks.v1+cell": {
     "cellMetadata": {},
     "inputWidgets": {},
     "nuid": "95271009-dd80-423c-bca9-7070b7d1854c",
     "showTitle": false,
     "title": ""
    }
   },
   "outputs": [],
   "source": [
    "people_df = spark.read.table(table_name)\n",
    "\n",
    "display(people_df)"
   ]
  },
  {
   "cell_type": "code",
   "execution_count": 0,
   "metadata": {
    "application/vnd.databricks.v1+cell": {
     "cellMetadata": {},
     "inputWidgets": {},
     "nuid": "a1483588-57c9-41f0-8224-5d2b54c0e73b",
     "showTitle": false,
     "title": ""
    }
   },
   "outputs": [],
   "source": [
    "deltaTablePeople = DeltaTable.forPath(spark, 'dbfs:/databricks-datasets/learning-spark-v2/people/people-10m.delta')\n",
    "deltaTablePeopleUpdates = DeltaTable.forPath(spark, 'dbfs:/databricks-datasets/learning-spark-v2/people-10m-updates')\n",
    "\n",
    "dfUpdates = deltaTablePeopleUpdates.toDF()\n",
    "\n",
    "deltaTablePeople.alias('people') \\\n",
    "  .merge(\n",
    "    dfUpdates.alias('updates'),\n",
    "    'people.id = updates.id'\n",
    "  ) \\\n",
    "  .whenMatchedUpdate(set =\n",
    "    {\n",
    "      \"id\": \"updates.id\",\n",
    "      \"firstName\": \"updates.firstName\",\n",
    "      \"middleName\": \"updates.middleName\",\n",
    "      \"lastName\": \"updates.lastName\",\n",
    "      \"gender\": \"updates.gender\",\n",
    "      \"birthDate\": \"updates.birthDate\",\n",
    "      \"ssn\": \"updates.ssn\",\n",
    "      \"salary\": \"updates.salary\"\n",
    "    }\n",
    "  ) \\\n",
    "  .whenNotMatchedInsert(values =\n",
    "    {\n",
    "      \"id\": \"updates.id\",\n",
    "      \"firstName\": \"updates.firstName\",\n",
    "      \"middleName\": \"updates.middleName\",\n",
    "      \"lastName\": \"updates.lastName\",\n",
    "      \"gender\": \"updates.gender\",\n",
    "      \"birthDate\": \"updates.birthDate\",\n",
    "      \"ssn\": \"updates.ssn\",\n",
    "      \"salary\": \"updates.salary\"\n",
    "    }\n",
    "  ) \\\n",
    "  .execute()"
   ]
  },
  {
   "cell_type": "code",
   "execution_count": 0,
   "metadata": {
    "application/vnd.databricks.v1+cell": {
     "cellMetadata": {},
     "inputWidgets": {},
     "nuid": "4faa9298-c00f-444f-a6e2-640258ef5fcf",
     "showTitle": false,
     "title": ""
    }
   },
   "outputs": [],
   "source": [
    "from delta import *\n",
    "builder = (\n",
    "  pyspark.sql.SparkSession.builder.appName(\"MyApp\").config(\n",
    "    \"spark.sql.extensions\",\n",
    "    \"io.delta.sql.DeltaSparkSessionExtension\"\n",
    "  ).config(\n",
    "    \"spark.sql.catalog.spark_catalog\",\n",
    "    \"org.apache.spark.sql.delta.catalog.DeltaCatalog\"\n",
    "  )\n",
    ")"
   ]
  },
  {
   "cell_type": "code",
   "execution_count": 0,
   "metadata": {
    "application/vnd.databricks.v1+cell": {
     "cellMetadata": {},
     "inputWidgets": {},
     "nuid": "03042336-38c2-4d5a-b5e7-207f1700b6c6",
     "showTitle": false,
     "title": ""
    }
   },
   "outputs": [],
   "source": []
  }
 ],
 "metadata": {
  "application/vnd.databricks.v1+notebook": {
   "dashboards": [],
   "language": "python",
   "notebookMetadata": {
    "pythonIndentUnit": 4
   },
   "notebookName": "6-Advanced-DLT_2023-12",
   "widgets": {}
  },
  "kernelspec": {
   "display_name": "Python 3 (ipykernel)",
   "language": "python",
   "name": "python3"
  },
  "language_info": {
   "codemirror_mode": {
    "name": "ipython",
    "version": 3
   },
   "file_extension": ".py",
   "mimetype": "text/x-python",
   "name": "python",
   "nbconvert_exporter": "python",
   "pygments_lexer": "ipython3",
   "version": "3.10.13"
  }
 },
 "nbformat": 4,
 "nbformat_minor": 0
}
