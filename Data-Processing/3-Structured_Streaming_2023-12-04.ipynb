{
 "cells": [
  {
   "cell_type": "markdown",
   "metadata": {
    "application/vnd.databricks.v1+cell": {
     "cellMetadata": {},
     "inputWidgets": {},
     "nuid": "a200db3b-7c1c-4c7a-b423-6ec3dcdc2177",
     "showTitle": false,
     "title": ""
    }
   },
   "source": [
    "\n",
    "### Structured Streaming with Databricks Delta Tables"
   ]
  },
  {
   "cell_type": "code",
   "execution_count": 0,
   "metadata": {
    "application/vnd.databricks.v1+cell": {
     "cellMetadata": {
      "byteLimit": 2048000,
      "rowLimit": 10000
     },
     "inputWidgets": {},
     "nuid": "9a88e279-53a9-4379-a46e-a74ac0031020",
     "showTitle": false,
     "title": ""
    }
   },
   "outputs": [],
   "source": [
    "import time\n",
    "from pyspark.sql.functions import *\n",
    "from pyspark.sql.types import *\n",
    "from datetime import datetime, timezone\n",
    "import uuid"
   ]
  },
  {
   "cell_type": "code",
   "execution_count": 0,
   "metadata": {
    "application/vnd.databricks.v1+cell": {
     "cellMetadata": {
      "byteLimit": 2048000,
      "rowLimit": 10000
     },
     "inputWidgets": {},
     "nuid": "2044238f-c1fd-4bc9-8843-3cdb80b0b724",
     "showTitle": false,
     "title": ""
    }
   },
   "outputs": [],
   "source": [
    "file_schema = (spark\n",
    "               .read\n",
    "               .format(\"csv\")\n",
    "               .option(\"header\", True)\n",
    "               .option(\"inferSchema\", True)\n",
    "               .load(\"/databricks-datasets/iot-stream/data-user/userData.csv\")\n",
    "               .limit(10)\n",
    "               .schema)"
   ]
  },
  {
   "cell_type": "code",
   "execution_count": 0,
   "metadata": {
    "application/vnd.databricks.v1+cell": {
     "cellMetadata": {
      "byteLimit": 2048000,
      "rowLimit": 10000
     },
     "inputWidgets": {},
     "nuid": "43badbfa-ed9e-4336-a7c1-50a46244a8dc",
     "showTitle": false,
     "title": ""
    }
   },
   "outputs": [],
   "source": [
    "uuidUdf= udf(lambda : uuid.uuid4().hex,StringType())"
   ]
  },
  {
   "cell_type": "code",
   "execution_count": 0,
   "metadata": {
    "application/vnd.databricks.v1+cell": {
     "cellMetadata": {
      "byteLimit": 2048000,
      "rowLimit": 10000
     },
     "inputWidgets": {},
     "nuid": "b289116b-6331-4775-8a4b-e0d98d0b8a93",
     "showTitle": false,
     "title": ""
    }
   },
   "outputs": [],
   "source": [
    "# Stream raw IOT Events from S3 bucket\n",
    "iot_event_stream = (spark\n",
    "                    .readStream\n",
    "                    .option( \"maxFilesPerTrigger\", 1 )\n",
    "                    .format(\"csv\")\n",
    "                    .option(\"header\", True)\n",
    "                    .schema(file_schema)\n",
    "                    .load(\"/databricks-datasets/iot-stream/data-user/*.csv\")\n",
    "                    .withColumn( \"id\", uuidUdf() )\n",
    "                    .withColumn( \"timestamp\", lit(datetime.now().timestamp()).cast(\"timestamp\") )\n",
    "                    .repartition(200)\n",
    "                   )\n",
    "display(iot_event_stream)"
   ]
  },
  {
   "cell_type": "markdown",
   "metadata": {
    "application/vnd.databricks.v1+cell": {
     "cellMetadata": {},
     "inputWidgets": {},
     "nuid": "790919e6-bf47-4ee0-90a3-89557b56d231",
     "showTitle": false,
     "title": ""
    }
   },
   "source": [
    "##  Setup checkpoint directory for writing out streaming workloads"
   ]
  },
  {
   "cell_type": "code",
   "execution_count": 0,
   "metadata": {
    "application/vnd.databricks.v1+cell": {
     "cellMetadata": {
      "byteLimit": 2048000,
      "rowLimit": 10000
     },
     "inputWidgets": {},
     "nuid": "74fa0752-bb94-4f3f-b48b-351fc9e3f5ad",
     "showTitle": false,
     "title": ""
    }
   },
   "outputs": [],
   "source": [
    "checkpointDir = \"/local_disk0/tmp/delta-stream_test/1\";\n",
    "checkpoint_dir_1 = \"/local_disk0/tmp/delta-stream_test/silver_check_1\"\n",
    "checkpoint_dir_2 = \"/local_disk0/tmp/delta-stream_test/gold_check_1\""
   ]
  },
  {
   "cell_type": "code",
   "execution_count": 0,
   "metadata": {
    "application/vnd.databricks.v1+cell": {
     "cellMetadata": {
      "byteLimit": 2048000,
      "rowLimit": 10000
     },
     "inputWidgets": {},
     "nuid": "5d0acde3-ea4a-4a99-94f1-0eb8f7927161",
     "showTitle": false,
     "title": ""
    }
   },
   "outputs": [],
   "source": [
    "iot_stream = iot_event_stream.writeStream\\\n",
    "                             .format(\"delta\")\\\n",
    "                             .outputMode(\"append\")\\\n",
    "                             .option(\"header\", True)\\\n",
    "                             .option(\"checkpointLocation\", checkpointDir)\\\n",
    "                             .trigger(processingTime='10 seconds')\\\n",
    "                             .table(\"iot_event_bronze\")"
   ]
  },
  {
   "cell_type": "code",
   "execution_count": 0,
   "metadata": {
    "application/vnd.databricks.v1+cell": {
     "cellMetadata": {
      "byteLimit": 2048000,
      "implicitDf": true,
      "rowLimit": 10000
     },
     "inputWidgets": {},
     "nuid": "51886b48-2cae-42d4-8162-73f73360c186",
     "showTitle": false,
     "title": ""
    }
   },
   "outputs": [],
   "source": [
    "%sql\n",
    "\n",
    "DESCRIBE TABLE EXTENDED iot_event_bronze;"
   ]
  },
  {
   "cell_type": "code",
   "execution_count": 0,
   "metadata": {
    "application/vnd.databricks.v1+cell": {
     "cellMetadata": {
      "byteLimit": 2048000,
      "implicitDf": true,
      "rowLimit": 10000
     },
     "inputWidgets": {},
     "nuid": "4773af01-5a8a-4197-a539-d2cfe8c121fa",
     "showTitle": false,
     "title": ""
    }
   },
   "outputs": [],
   "source": [
    "%sql\n",
    "\n",
    "SELECT * FROM iot_event_bronze;"
   ]
  },
  {
   "cell_type": "code",
   "execution_count": 0,
   "metadata": {
    "application/vnd.databricks.v1+cell": {
     "cellMetadata": {
      "byteLimit": 2048000,
      "rowLimit": 10000
     },
     "inputWidgets": {},
     "nuid": "54749bf1-4e58-4f7a-8237-d530e3501363",
     "showTitle": false,
     "title": ""
    }
   },
   "outputs": [],
   "source": [
    "display(dbutils.fs.ls('dbfs:/user/hive/warehouse/iot_event_bronze'))"
   ]
  },
  {
   "cell_type": "markdown",
   "metadata": {
    "application/vnd.databricks.v1+cell": {
     "cellMetadata": {},
     "inputWidgets": {},
     "nuid": "2f92c69f-0bd8-49b9-96e8-65a4daedab45",
     "showTitle": false,
     "title": ""
    }
   },
   "source": [
    "\n",
    "### Deduplicate Bronze level data"
   ]
  },
  {
   "cell_type": "code",
   "execution_count": 0,
   "metadata": {
    "application/vnd.databricks.v1+cell": {
     "cellMetadata": {
      "byteLimit": 2048000,
      "rowLimit": 10000
     },
     "inputWidgets": {},
     "nuid": "6ba49950-78d1-4c2a-ad74-1c2805a9eb89",
     "showTitle": false,
     "title": ""
    }
   },
   "outputs": [],
   "source": [
    "# Drop terribly out-of-order events\n",
    "bronzeClean = iot_event_stream.withWatermark( \"timestamp\", \"1 day\" )"
   ]
  },
  {
   "cell_type": "code",
   "execution_count": 0,
   "metadata": {
    "application/vnd.databricks.v1+cell": {
     "cellMetadata": {
      "byteLimit": 2048000,
      "rowLimit": 10000
     },
     "inputWidgets": {},
     "nuid": "46dd0fe7-85a2-445c-8a76-50c9e46230c2",
     "showTitle": false,
     "title": ""
    }
   },
   "outputs": [],
   "source": [
    "# Drop bad events\n",
    "bronzeClean = bronzeClean.dropna()\n",
    "\n",
    "silverStream = bronzeClean.writeStream\\\n",
    "            .format(\"delta\")\\\n",
    "            .outputMode(\"append\")\\\n",
    "            .option( \"checkpointLocation\", checkpoint_dir_1)\\\n",
    "            .trigger(processingTime='10 seconds')\\\n",
    "            .table(\"iot_event_silver\")\n",
    "silverStream"
   ]
  },
  {
   "cell_type": "code",
   "execution_count": 0,
   "metadata": {
    "application/vnd.databricks.v1+cell": {
     "cellMetadata": {
      "byteLimit": 2048000,
      "implicitDf": true,
      "rowLimit": 10000
     },
     "inputWidgets": {},
     "nuid": "8d4bdc8b-6cb0-49a5-b73f-fcba34ade1a7",
     "showTitle": false,
     "title": ""
    }
   },
   "outputs": [],
   "source": [
    "%sql\n",
    "\n",
    "DESCRIBE TABLE EXTENDED iot_event_silver;"
   ]
  },
  {
   "cell_type": "code",
   "execution_count": 0,
   "metadata": {
    "application/vnd.databricks.v1+cell": {
     "cellMetadata": {
      "byteLimit": 2048000,
      "rowLimit": 10000
     },
     "inputWidgets": {},
     "nuid": "01c98d61-7ef1-4207-b40d-08fa680209a2",
     "showTitle": false,
     "title": ""
    }
   },
   "outputs": [],
   "source": [
    "display(dbutils.fs.ls('dbfs:/user/hive/warehouse/iot_event_silver'))"
   ]
  },
  {
   "cell_type": "code",
   "execution_count": 0,
   "metadata": {
    "application/vnd.databricks.v1+cell": {
     "cellMetadata": {
      "byteLimit": 2048000,
      "implicitDf": true,
      "rowLimit": 10000
     },
     "inputWidgets": {},
     "nuid": "71b06336-65ef-4ec9-9f0c-bb7a9d11cd88",
     "showTitle": false,
     "title": ""
    }
   },
   "outputs": [],
   "source": [
    "%sql\n",
    "\n",
    "SELECT * FROM iot_event_silver;"
   ]
  },
  {
   "cell_type": "markdown",
   "metadata": {
    "application/vnd.databricks.v1+cell": {
     "cellMetadata": {},
     "inputWidgets": {},
     "nuid": "ab274a5a-a370-4a95-bd09-ce6c1692b83d",
     "showTitle": false,
     "title": ""
    }
   },
   "source": [
    "\n",
    "## Streaming Aggregation from Silver to Gold"
   ]
  },
  {
   "cell_type": "code",
   "execution_count": 0,
   "metadata": {
    "application/vnd.databricks.v1+cell": {
     "cellMetadata": {
      "byteLimit": 2048000,
      "rowLimit": 10000
     },
     "inputWidgets": {},
     "nuid": "bdfcb021-e898-4533-934c-75d9876f21d5",
     "showTitle": false,
     "title": ""
    }
   },
   "outputs": [],
   "source": [
    "silver_stream = (spark.readStream\n",
    ".option( \"maxFilesPerTrigger\", 1 )\n",
    ".format( \"delta\" )\n",
    ".table(\"iot_event_silver\")\n",
    ")"
   ]
  },
  {
   "cell_type": "code",
   "execution_count": 0,
   "metadata": {
    "application/vnd.databricks.v1+cell": {
     "cellMetadata": {
      "byteLimit": 2048000,
      "rowLimit": 10000
     },
     "inputWidgets": {},
     "nuid": "334b7f10-775f-49a8-8d96-16e19e582115",
     "showTitle": false,
     "title": ""
    }
   },
   "outputs": [],
   "source": [
    "def updateGold( batch, batchId ):\n",
    "  ( gold.alias(\"gold\")\n",
    "        .merge( batch.alias(\"batch\"),\n",
    "                \"gold.date = batch.date AND gold.miles_walked = batch.miles_walked\"\n",
    "              )\n",
    "        .whenMatchedUpdateAll()\n",
    "        .whenNotMatchedInsertAll()\n",
    "        .execute()\n",
    "  )"
   ]
  },
  {
   "cell_type": "code",
   "execution_count": 0,
   "metadata": {
    "application/vnd.databricks.v1+cell": {
     "cellMetadata": {
      "byteLimit": 2048000,
      "rowLimit": 10000
     },
     "inputWidgets": {},
     "nuid": "883a1539-9eda-4390-a54a-0d81f9ec213e",
     "showTitle": false,
     "title": ""
    }
   },
   "outputs": [],
   "source": [
    "( (silver_stream.withWatermark(\"timestamp\", \"1 hour\").groupBy(\"gender\").agg(avg(\"weight\").alias(\"avg_weight\")))\n",
    "   .writeStream\n",
    "   .trigger(processingTime='12 seconds')\n",
    "   .outputMode(\"complete\")\\\n",
    "   .option(\"checkpointLocation\", checkpoint_dir_2)\\\n",
    "   .table(\"iot_event_gold\")\n",
    ")"
   ]
  },
  {
   "cell_type": "code",
   "execution_count": 0,
   "metadata": {
    "application/vnd.databricks.v1+cell": {
     "cellMetadata": {
      "byteLimit": 2048000,
      "implicitDf": true,
      "rowLimit": 10000
     },
     "inputWidgets": {},
     "nuid": "f5b2943d-fa24-471e-bcbf-4af51b6a3c8c",
     "showTitle": false,
     "title": ""
    }
   },
   "outputs": [],
   "source": [
    "%sql\n",
    "\n",
    "SELECT gender, avg(weight) as AVG_weight, avg(height) as AVG_height\n",
    "FROM iot_event_silver\n",
    "Group by gender\n",
    "ORDER by gender DESC, AVG_weight ASC;"
   ]
  },
  {
   "cell_type": "code",
   "execution_count": 0,
   "metadata": {
    "application/vnd.databricks.v1+cell": {
     "cellMetadata": {
      "byteLimit": 2048000,
      "implicitDf": true,
      "rowLimit": 10000
     },
     "inputWidgets": {},
     "nuid": "b4abd045-6a90-4dc7-83b7-0c8ef8b28f39",
     "showTitle": false,
     "title": ""
    }
   },
   "outputs": [],
   "source": [
    "%sql\n",
    "OPTIMIZE iot_event_silver\n",
    "ZORDER BY gender, height, weight;\n",
    "\n",
    "-- Run the same select query at higher performance\n",
    "\n",
    "SELECT gender, avg(weight) as AVG_weight, avg(height) as AVG_height\n",
    "FROM iot_event_silver\n",
    "Group by gender\n",
    "ORDER by gender DESC, AVG_weight ASC;"
   ]
  }
 ],
 "metadata": {
  "application/vnd.databricks.v1+notebook": {
   "dashboards": [],
   "language": "python",
   "notebookMetadata": {
    "mostRecentlyExecutedCommandWithImplicitDF": {
     "commandId": 3581017141481509,
     "dataframes": [
      "_sqldf"
     ]
    },
    "pythonIndentUnit": 4
   },
   "notebookName": "3-Structured_Streaming_2023-12-04",
   "widgets": {}
  }
 },
 "nbformat": 4,
 "nbformat_minor": 0
}
