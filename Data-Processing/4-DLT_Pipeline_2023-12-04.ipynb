{
 "cells": [
  {
   "cell_type": "markdown",
   "metadata": {
    "application/vnd.databricks.v1+cell": {
     "cellMetadata": {},
     "inputWidgets": {},
     "nuid": "4fdf2b05-a780-471e-96a7-6cfc6fa74f9e",
     "showTitle": false,
     "title": ""
    }
   },
   "source": [
    "\n",
    "## Building Delta Live Tables Pipelines Using SQL"
   ]
  },
  {
   "cell_type": "code",
   "execution_count": 0,
   "metadata": {
    "application/vnd.databricks.v1+cell": {
     "cellMetadata": {
      "byteLimit": 2048000,
      "rowLimit": 10000
     },
     "inputWidgets": {},
     "nuid": "46f68de3-7037-42c4-9c19-5c40173aa2ce",
     "showTitle": false,
     "title": ""
    }
   },
   "outputs": [],
   "source": [
    "%fs ls \"/databricks-datasets/online_retail/data-001\""
   ]
  },
  {
   "cell_type": "code",
   "execution_count": 0,
   "metadata": {
    "application/vnd.databricks.v1+cell": {
     "cellMetadata": {
      "byteLimit": 2048000,
      "rowLimit": 10000
     },
     "inputWidgets": {},
     "nuid": "73368dee-50df-4d63-bbab-7839a3c364f0",
     "showTitle": false,
     "title": ""
    }
   },
   "outputs": [],
   "source": [
    "%fs head --maxBytes=248 \"/databricks-datasets/online_retail/data-001/data.csv\""
   ]
  },
  {
   "cell_type": "code",
   "execution_count": 0,
   "metadata": {
    "application/vnd.databricks.v1+cell": {
     "cellMetadata": {
      "byteLimit": 2048000,
      "implicitDf": true,
      "rowLimit": 10000
     },
     "inputWidgets": {},
     "nuid": "930516ef-22a6-4af7-8318-b10d502c8abb",
     "showTitle": false,
     "title": ""
    }
   },
   "outputs": [],
   "source": [
    "%sql\n",
    "\n",
    "CREATE STREAMING LIVE TABLE raw_retail\n",
    "COMMENT \"This is the RAW bronze input data read in with Autoloader - no optimizations or expectations\"\n",
    "TBLPROPERTIES (\"quality\" = \"bronze\")\n",
    "AS\n",
    "SELECT * FROM cloud_files('/databricks-datasets/online_retail/data-001/', \"csv\", \n",
    "        map(\n",
    "            \"schema\", \"InvoiceNo STRING, StockCode STRING, Description STRING, Quantity FLOAT, InvoiceDate STRING, UnitPrice FLOAT, CustomerID STRING, Country STRING\",\n",
    "            \"header\", \"true\"\n",
    "        )\n",
    ");"
   ]
  },
  {
   "cell_type": "code",
   "execution_count": 0,
   "metadata": {
    "application/vnd.databricks.v1+cell": {
     "cellMetadata": {
      "byteLimit": 2048000,
      "implicitDf": true,
      "rowLimit": 10000
     },
     "inputWidgets": {},
     "nuid": "2b0a9e41-e068-47e5-90c0-f7e40de22b6c",
     "showTitle": false,
     "title": ""
    }
   },
   "outputs": [],
   "source": [
    "%sql \n",
    "\n",
    "CREATE OR REPLACE STREAMING LIVE TABLE cleaned_retail\n",
    "PARTITIONED BY (Country)\n",
    "COMMENT \"This is the raw bronze table with data cleaned (dates, etc.), data partitioned, and optimized\"\n",
    "TBLPROPERTIES --Can be spark, delta, or DLT confs\n",
    "(\"quality\"=\"bronze\",\n",
    "\"pipelines.autoOptimize.managed\"=\"true\",\n",
    "\"pipelines.autoOptimize.zOrderCols\"=\"CustomerID,InvoiceNo\",\n",
    "\"pipelines.trigger.interval\"=\"1 hour\"\n",
    " )\n",
    " AS \n",
    " SELECT * \n",
    " FROM STREAM(LIVE.raw_retail)"
   ]
  },
  {
   "cell_type": "code",
   "execution_count": 0,
   "metadata": {
    "application/vnd.databricks.v1+cell": {
     "cellMetadata": {
      "byteLimit": 2048000,
      "implicitDf": true,
      "rowLimit": 10000
     },
     "inputWidgets": {},
     "nuid": "5e2e8bc8-9ea5-45be-b234-147e7cefdefa",
     "showTitle": false,
     "title": ""
    }
   },
   "outputs": [],
   "source": [
    "%sql \n",
    "\n",
    "CREATE OR REPLACE STREAMING LIVE TABLE quality_retail\n",
    "(\n",
    "  CONSTRAINT has_customer EXPECT (CustomerID IS NOT NULL) ON VIOLATION DROP ROW,\n",
    "  CONSTRAINT has_invoice EXPECT (InvoiceNo IS NOT NULL) ON VIOLATION DROP ROW,\n",
    "  CONSTRAINT valid_date_time EXPECT (CAST(InvoiceDatetime AS TIMESTAMP) IS NOT NULL) ON VIOLATION DROP ROW\n",
    ")\n",
    "PARTITIONED BY (Country)\n",
    "COMMENT \"This is the raw bronze table with data cleaned (dates, etc.), data partitioned, and optimized\"\n",
    "TBLPROPERTIES \n",
    "(\"quality\"=\"silver\",\n",
    "\"pipelines.autoOptimize.managed\"=\"true\",\n",
    "\"pipelines.autoOptimize.zOrderCols\"=\"CustomerID,InvoiceNo\",\n",
    "\"pipelines.trigger.interval\"=\"1 hour\"\n",
    " )\n",
    " AS (\n",
    "   WITH step1 AS \n",
    "    (SELECT \n",
    "    *,\n",
    "    split(InvoiceDate, \" \") AS Timestamp_Parts\n",
    "    FROM STREAM(LIVE.cleaned_retail)\n",
    "    ),\n",
    "      step2 AS (\n",
    "      SELECT \n",
    "      *,\n",
    "      split(Timestamp_Parts[0], \"/\") AS DateParts,\n",
    "      Timestamp_Parts[1] AS RawTime\n",
    "      FROM step1\n",
    "      ),\n",
    "          step3 AS (\n",
    "          SELECT\n",
    "          *,\n",
    "          concat(lpad(DateParts[2], 4, \"20\"), \"-\", lpad(DateParts[0], 2, \"0\"),\"-\", lpad(DateParts[1], 2, \"0\")) AS CleanDate,\n",
    "          lpad(RawTime, 5, '0') AS CleanTime\n",
    "          FROM step2\n",
    "          )\n",
    "  SELECT\n",
    "  InvoiceNo,\n",
    "  StockCode,\n",
    "  Description,\n",
    "  Quantity,\n",
    "  CleanDate AS InvoiceDate,\n",
    "  CleanTime AS InvoiceTime,\n",
    "  concat(CleanDate, \" \", CleanTime)::timestamp AS InvoiceDatetime,\n",
    "  UnitPrice,\n",
    "  CustomerID,\n",
    "  Country\n",
    "  FROM step3\n",
    " )\n"
   ]
  },
  {
   "cell_type": "code",
   "execution_count": 0,
   "metadata": {
    "application/vnd.databricks.v1+cell": {
     "cellMetadata": {
      "byteLimit": 2048000,
      "implicitDf": true,
      "rowLimit": 10000
     },
     "inputWidgets": {},
     "nuid": "dca9e948-8bfe-4a81-99be-6c4dfe5127ba",
     "showTitle": false,
     "title": ""
    }
   },
   "outputs": [],
   "source": [
    "%sql\n",
    "\n",
    "CREATE OR REPLACE STREAMING LIVE TABLE quarantined_retail\n",
    "(\n",
    "  CONSTRAINT has_customer EXPECT (CustomerID IS NULL) ON VIOLATION DROP ROW,\n",
    "  CONSTRAINT has_invoice EXPECT (InvoiceNo IS NULL) ON VIOLATION DROP ROW,\n",
    "  CONSTRAINT valid_date_time EXPECT (InvoiceDate IS NULL) ON VIOLATION DROP ROW\n",
    ")\n",
    "TBLPROPERTIES \n",
    "(\"quality\"=\"bronze\",\n",
    "\"pipelines.autoOptimize.managed\"=\"true\",\n",
    "\"pipelines.autoOptimize.zOrderCols\"=\"CustomerID,InvoiceNo\",\n",
    "\"pipelines.trigger.interval\"=\"1 hour\"\n",
    " )\n",
    "AS \n",
    "SELECT \n",
    " InvoiceNo,\n",
    "  StockCode,\n",
    "  Description,\n",
    "  Quantity,\n",
    "  InvoiceDate,\n",
    "  UnitPrice,\n",
    "  CustomerID,\n",
    "  Country\n",
    "FROM STREAM(LIVE.cleaned_retail);\n"
   ]
  },
  {
   "cell_type": "code",
   "execution_count": 0,
   "metadata": {
    "application/vnd.databricks.v1+cell": {
     "cellMetadata": {
      "byteLimit": 2048000,
      "rowLimit": 10000
     },
     "inputWidgets": {},
     "nuid": "6d05fc2b-7e03-48e1-9942-81dfa22f7612",
     "showTitle": false,
     "title": ""
    }
   },
   "outputs": [],
   "source": [
    "# %sql \n",
    "\n",
    "# CREATE OR REFRESH STREAMING LIVE TABLE user_ling_test \n",
    "#   COMMENT \"Create the user table based on the S3 data files.\" \n",
    "#   TBLPROPERTIES  --Can be spark, delta, or DLT confs\n",
    "#   (\"quality\" = \"silver\"\n",
    "#   -- \"pipelines.autoOptimize.managed\"=\"true\",\n",
    "#   -- \"pipelines.autoOptimize.zOrderCols\"=\"CustomerID,InvoiceNo\",\n",
    "#   -- \"pipelines.trigger.interval\"=\"1 hour\"\n",
    "#   ) \n",
    "# AS\n",
    "# SELECT\n",
    "#   *\n",
    "# FROM\n",
    "#   cloud_files(\n",
    "#     \"s3://caden-safegraph-exchange-prod/core_poi-geometry/2023/11/01/20/*.gz\",\n",
    "#     \"csv\",\n",
    "#     map(\n",
    "#       \"header\", \"true\",\n",
    "#       \"cloudFiles.inferColumnTypes\", \"true\",\n",
    "#       \"cloudFiles.schemaEvolutionMode\", \"none\",\n",
    "#       \"rescuedDataColumn\", \"rescue_col\"\n",
    "#     )\n",
    "# )\n",
    "\n",
    "# %sql\n",
    "\n",
    "# create temporary live view user_ling_view \n",
    "# as\n",
    "# select \n",
    "# *\n",
    "# from  live.user_ling_test "
   ]
  },
  {
   "cell_type": "code",
   "execution_count": 0,
   "metadata": {
    "application/vnd.databricks.v1+cell": {
     "cellMetadata": {
      "byteLimit": 2048000,
      "implicitDf": true,
      "rowLimit": 10000
     },
     "inputWidgets": {},
     "nuid": "50a43419-ad8c-453a-8f3d-e57f79005c99",
     "showTitle": false,
     "title": ""
    }
   },
   "outputs": [],
   "source": [
    "%sql\n",
    "\n",
    "CREATE OR REFRESH STREAMING LIVE TABLE retail_sales_all_countries\n",
    "TBLPROPERTIES \n",
    "(\"quality\"=\"silver\",\n",
    "\"delta.tuneFileSizesForRewrites\"=\"true\",\n",
    "\"pipelines.autoOptimize.managed\"=\"true\",\n",
    "\"pipelines.autoOptimize.zOrderCols\"=\"CustomerID,InvoiceNo\",\n",
    "\"pipelines.trigger.interval\"=\"1 hour\"\n",
    " );\n",
    "APPLY CHANGES INTO LIVE.retail_sales_all_countries\n",
    "FROM STREAM(LIVE.quality_retail)\n",
    "KEYS (CustomerID, InvoiceNo)\n",
    "SEQUENCE BY InvoiceDateTime"
   ]
  },
  {
   "cell_type": "code",
   "execution_count": 0,
   "metadata": {
    "application/vnd.databricks.v1+cell": {
     "cellMetadata": {
      "byteLimit": 2048000,
      "implicitDf": true,
      "rowLimit": 10000
     },
     "inputWidgets": {},
     "nuid": "f0bd5333-ce5c-4fd4-bb91-e308c7a82aa6",
     "showTitle": false,
     "title": ""
    }
   },
   "outputs": [],
   "source": [
    "%sql\n",
    "\n",
    "CREATE OR REPLACE LIVE TABLE distinct_countries_retail\n",
    "AS\n",
    "SELECT DISTINCT Country\n",
    "FROM LIVE.quality_retail;"
   ]
  },
  {
   "cell_type": "code",
   "execution_count": 0,
   "metadata": {
    "application/vnd.databricks.v1+cell": {
     "cellMetadata": {
      "byteLimit": 2048000,
      "implicitDf": true,
      "rowLimit": 10000
     },
     "inputWidgets": {},
     "nuid": "17d33738-ebf2-4088-919a-1b341fddd414",
     "showTitle": false,
     "title": ""
    }
   },
   "outputs": [],
   "source": [
    "%sql\n",
    "\n",
    "CREATE OR REPLACE LIVE TABLE sales_by_day\n",
    "AS \n",
    "SELECT\n",
    "date_trunc('day', InvoiceDate) AS Date,\n",
    "SUM(Quantity) AS TotalSales\n",
    "FROM LIVE.retail_sales_all_countries\n",
    "GROUP BY date_trunc('day',InvoiceDate)\n",
    "ORDER BY Date;"
   ]
  },
  {
   "cell_type": "code",
   "execution_count": 0,
   "metadata": {
    "application/vnd.databricks.v1+cell": {
     "cellMetadata": {
      "byteLimit": 2048000,
      "implicitDf": true,
      "rowLimit": 10000
     },
     "inputWidgets": {},
     "nuid": "f49bee86-7a7f-4117-8bbb-477f8ab136da",
     "showTitle": false,
     "title": ""
    }
   },
   "outputs": [],
   "source": [
    "%sql\n",
    "\n",
    "CREATE OR REPLACE LIVE TABLE sales_by_country\n",
    "AS \n",
    "SELECT\n",
    "Country,\n",
    "SUM(Quantity) AS TotalSales\n",
    "FROM LIVE.retail_sales_all_countries\n",
    "GROUP BY Country\n",
    "ORDER BY TotalSales DESC;"
   ]
  },
  {
   "cell_type": "code",
   "execution_count": 0,
   "metadata": {
    "application/vnd.databricks.v1+cell": {
     "cellMetadata": {
      "byteLimit": 2048000,
      "implicitDf": true,
      "rowLimit": 10000
     },
     "inputWidgets": {},
     "nuid": "0c49c5b2-f37d-401e-8858-d8f23b775d6b",
     "showTitle": false,
     "title": ""
    }
   },
   "outputs": [],
   "source": [
    "%sql\n",
    "\n",
    "CREATE OR REPLACE LIVE TABLE top_ten_customers\n",
    "AS \n",
    "SELECT\n",
    "CustomerID,\n",
    "SUM(Quantity) AS TotalSales\n",
    "FROM LIVE.retail_sales_all_countries\n",
    "GROUP BY CustomerID\n",
    "ORDER BY TotalSales DESC\n",
    "LIMIT 10;"
   ]
  },
  {
   "cell_type": "code",
   "execution_count": 0,
   "metadata": {
    "application/vnd.databricks.v1+cell": {
     "cellMetadata": {
      "byteLimit": 2048000,
      "implicitDf": true,
      "rowLimit": 10000
     },
     "inputWidgets": {},
     "nuid": "1f89c9a6-49c3-48ca-9432-d2a04128e2cd",
     "showTitle": false,
     "title": ""
    }
   },
   "outputs": [],
   "source": [
    "%sql\n",
    "\n",
    "CREATE OR REPLACE STREAMING LIVE TABLE quality_retail_split_by_country\n",
    "(\n",
    "  CONSTRAINT has_customer EXPECT (CustomerID IS NOT NULL) ON VIOLATION DROP ROW,\n",
    "  CONSTRAINT has_invoice EXPECT (InvoiceNo IS NOT NULL) ON VIOLATION DROP ROW,\n",
    "  CONSTRAINT valid_date_time EXPECT (CAST(InvoiceDatetime AS TIMESTAMP) IS NOT NULL) ON VIOLATION DROP ROW\n",
    ")\n",
    "PARTITIONED BY (Country)\n",
    "COMMENT \"This is the raw bronze table with data cleaned (dates, etc.), data partitioned, and optimized\"\n",
    "TBLPROPERTIES \n",
    "(\"quality\"=\"silver\",\n",
    "\"pipelines.autoOptimize.managed\"=\"true\",\n",
    "\"pipelines.autoOptimize.zOrderCols\"=\"CustomerID,InvoiceNo\",\n",
    "\"pipelines.trigger.interval\"=\"1 hour\"\n",
    " )\n",
    " AS \n",
    " SELECT * FROM STREAM(LIVE.quality_retail)"
   ]
  },
  {
   "cell_type": "code",
   "execution_count": 0,
   "metadata": {
    "application/vnd.databricks.v1+cell": {
     "cellMetadata": {},
     "inputWidgets": {},
     "nuid": "f1d8e2e5-4b11-481d-91aa-ec410fc74816",
     "showTitle": false,
     "title": ""
    }
   },
   "outputs": [],
   "source": []
  }
 ],
 "metadata": {
  "application/vnd.databricks.v1+notebook": {
   "dashboards": [],
   "language": "python",
   "notebookMetadata": {
    "mostRecentlyExecutedCommandWithImplicitDF": {
     "commandId": 3581017141481523,
     "dataframes": [
      "_sqldf"
     ]
    },
    "pythonIndentUnit": 4
   },
   "notebookName": "4-DLT_Pipeline_2023-12-04",
   "widgets": {}
  }
 },
 "nbformat": 4,
 "nbformat_minor": 0
}
